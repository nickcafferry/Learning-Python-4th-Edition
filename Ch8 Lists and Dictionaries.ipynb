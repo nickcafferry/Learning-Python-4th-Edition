{
 "cells": [
  {
   "cell_type": "markdown",
   "metadata": {},
   "source": [
    "# Chapter 8 Lists and Dictionaries"
   ]
  },
  {
   "cell_type": "markdown",
   "metadata": {},
   "source": [
    "Both the list and dictionary object types are collections of other objects. List and dictionary are flexible: they can be change in=place, can grow and shrinnk on demnad, and may contain and be nested in any other kind of object. "
   ]
  },
  {
   "cell_type": "markdown",
   "metadata": {},
   "source": [
    "Python lists are:\n",
    "\n",
    "1. Ordered collections of arbitary objects\n",
    "\n",
    "From a functional view, lists are just places to collect other objects so you can treat them as groups. Lists also maintain a left-to-right positional ordering among the items they contain(i.e., they are sequences)\n",
    "\n",
    "2. Accessed by offset \n",
    "\n",
    "Just as with strings, you can fetch a component object out of a list by indexing the list on the object's offset. Because items in lists are ordered by their positions, you can also do tasks such as slicing and concatenation.\n",
    "\n",
    "3. Variable-length, heterogenenous, and arbitarily nestable\n",
    "\n",
    "Unlike strings, lists can grow ans shrink in-place (their lengths can vary), and they can contain any sort of object, not just one-charater strings (they're heterogeneous). Because lists can contain other complex objects, they also support arbitary nesting.You can create lists of lists of lists, and so on.\n",
    "\n",
    "4. Of the category \"mutable sequence\"\n",
    "\n",
    "lists are mutable (i.e., can be changed in－place) and can respond to all the　sequence operations used with strings, such as　indexing, slicing, and concatenation.　\n",
    "\n",
    "5. Arrays of object references\n",
    "\n"
   ]
  },
  {
   "cell_type": "code",
   "execution_count": 1,
   "metadata": {},
   "outputs": [
    {
     "data": {
      "text/plain": [
       "(list, 0)"
      ]
     },
     "execution_count": 1,
     "metadata": {},
     "output_type": "execute_result"
    }
   ],
   "source": [
    "## Table Common list literals and operation\n",
    "L = []  # An empty list \n",
    "type(L), len(L)"
   ]
  },
  {
   "cell_type": "code",
   "execution_count": 3,
   "metadata": {},
   "outputs": [
    {
     "data": {
      "text/plain": [
       "['abc', ['def', 'ghi']]"
      ]
     },
     "execution_count": 3,
     "metadata": {},
     "output_type": "execute_result"
    }
   ],
   "source": [
    "L = ['abc',['def', 'ghi']] # Nested sublists\n",
    "L"
   ]
  },
  {
   "cell_type": "code",
   "execution_count": 9,
   "metadata": {},
   "outputs": [
    {
     "name": "stdout",
     "output_type": "stream",
     "text": [
      "['s', 'p', 'a', 'm']\n",
      "[-4, -3, -2, -1, 0, 1, 2, 3]\n"
     ]
    },
    {
     "data": {
      "text/plain": [
       "(-4, -3, -2, -1, 0, 1, 2, 3)"
      ]
     },
     "execution_count": 9,
     "metadata": {},
     "output_type": "execute_result"
    }
   ],
   "source": [
    "L = list('spam')\n",
    "print(L)\n",
    "L = list(range(-4,4))\n",
    "print(L)\n",
    "L[0], L[1], L[2], L[3], L[4], L[5], L[6], L[7]"
   ]
  },
  {
   "cell_type": "code",
   "execution_count": 11,
   "metadata": {},
   "outputs": [
    {
     "name": "stdout",
     "output_type": "stream",
     "text": [
      "range(-4, 4)\n"
     ]
    }
   ],
   "source": [
    "L = range(-4,4)\n",
    "print(L)"
   ]
  },
  {
   "cell_type": "code",
   "execution_count": 13,
   "metadata": {},
   "outputs": [
    {
     "data": {
      "text/plain": [
       "(-4, -3, -2, -1, 0, 1, 2, 3)"
      ]
     },
     "execution_count": 13,
     "metadata": {},
     "output_type": "execute_result"
    }
   ],
   "source": [
    "L[0], L[1], L[2], L[3], L[4], L[5], L[6], L[7]"
   ]
  },
  {
   "cell_type": "code",
   "execution_count": 14,
   "metadata": {},
   "outputs": [
    {
     "data": {
      "text/plain": [
       "8"
      ]
     },
     "execution_count": 14,
     "metadata": {},
     "output_type": "execute_result"
    }
   ],
   "source": [
    "len(L)"
   ]
  },
  {
   "cell_type": "code",
   "execution_count": 25,
   "metadata": {},
   "outputs": [
    {
     "name": "stdout",
     "output_type": "stream",
     "text": [
      "[-4, -3, -2, -1, 0, 1, 2, 3] [3] [-4, -3, -2, -1, 0, 1, 2, 3, 3]\n"
     ]
    }
   ],
   "source": [
    "L = list(range(-4,4))\n",
    "L1 = L[0:4] + L[4:8]\n",
    "L2 = L[7:8]\n",
    "\n",
    "print(L1, L2, L1+L2)"
   ]
  },
  {
   "cell_type": "code",
   "execution_count": 26,
   "metadata": {},
   "outputs": [
    {
     "data": {
      "text/plain": [
       "[-4,\n",
       " -3,\n",
       " -2,\n",
       " -1,\n",
       " 0,\n",
       " 1,\n",
       " 2,\n",
       " 3,\n",
       " -4,\n",
       " -3,\n",
       " -2,\n",
       " -1,\n",
       " 0,\n",
       " 1,\n",
       " 2,\n",
       " 3,\n",
       " -4,\n",
       " -3,\n",
       " -2,\n",
       " -1,\n",
       " 0,\n",
       " 1,\n",
       " 2,\n",
       " 3]"
      ]
     },
     "execution_count": 26,
     "metadata": {},
     "output_type": "execute_result"
    }
   ],
   "source": [
    "L *3 "
   ]
  },
  {
   "cell_type": "code",
   "execution_count": 29,
   "metadata": {},
   "outputs": [
    {
     "name": "stdout",
     "output_type": "stream",
     "text": [
      "-4\n",
      "-3\n",
      "-2\n",
      "-1\n",
      "0\n",
      "1\n",
      "2\n",
      "3\n"
     ]
    }
   ],
   "source": [
    "for x in L : print(x) # Iteration, membership"
   ]
  },
  {
   "cell_type": "code",
   "execution_count": 28,
   "metadata": {},
   "outputs": [
    {
     "data": {
      "text/plain": [
       "True"
      ]
     },
     "execution_count": 28,
     "metadata": {},
     "output_type": "execute_result"
    }
   ],
   "source": [
    "3 in L"
   ]
  },
  {
   "cell_type": "code",
   "execution_count": 34,
   "metadata": {},
   "outputs": [
    {
     "data": {
      "text/plain": [
       "[-4, -3, -2, -1, 0, 1, 2, 3, 4, 4, 5]"
      ]
     },
     "execution_count": 34,
     "metadata": {},
     "output_type": "execute_result"
    }
   ],
   "source": [
    "L.append(5) # Methods: growing\n",
    "L"
   ]
  },
  {
   "cell_type": "code",
   "execution_count": 36,
   "metadata": {},
   "outputs": [
    {
     "data": {
      "text/plain": [
       "[-4, -3, -2, -1, 0, 1, 2, 3, 4, 4, 5, 5, 6, 7, 5, 6, 7]"
      ]
     },
     "execution_count": 36,
     "metadata": {},
     "output_type": "execute_result"
    }
   ],
   "source": [
    "L.extend([5,6,7])\n",
    "L"
   ]
  },
  {
   "cell_type": "code",
   "execution_count": 37,
   "metadata": {},
   "outputs": [
    {
     "data": {
      "text/plain": [
       "\u001b[1;31mSignature:\u001b[0m \u001b[0mL\u001b[0m\u001b[1;33m.\u001b[0m\u001b[0minsert\u001b[0m\u001b[1;33m(\u001b[0m\u001b[0mindex\u001b[0m\u001b[1;33m,\u001b[0m \u001b[0mobject\u001b[0m\u001b[1;33m,\u001b[0m \u001b[1;33m/\u001b[0m\u001b[1;33m)\u001b[0m\u001b[1;33m\u001b[0m\u001b[1;33m\u001b[0m\u001b[0m\n",
       "\u001b[1;31mDocstring:\u001b[0m Insert object before index.\n",
       "\u001b[1;31mType:\u001b[0m      builtin_function_or_method\n"
      ]
     },
     "metadata": {},
     "output_type": "display_data"
    }
   ],
   "source": [
    "L.insert?"
   ]
  },
  {
   "cell_type": "code",
   "execution_count": 42,
   "metadata": {},
   "outputs": [
    {
     "data": {
      "text/plain": [
       "8"
      ]
     },
     "execution_count": 42,
     "metadata": {},
     "output_type": "execute_result"
    }
   ],
   "source": [
    "L\n",
    "L.insert(4,'5')\n",
    "L.index(0)"
   ]
  },
  {
   "cell_type": "code",
   "execution_count": 43,
   "metadata": {},
   "outputs": [
    {
     "data": {
      "text/plain": [
       "\u001b[1;31mSignature:\u001b[0m \u001b[0mL\u001b[0m\u001b[1;33m.\u001b[0m\u001b[0mindex\u001b[0m\u001b[1;33m(\u001b[0m\u001b[0mvalue\u001b[0m\u001b[1;33m,\u001b[0m \u001b[0mstart\u001b[0m\u001b[1;33m=\u001b[0m\u001b[1;36m0\u001b[0m\u001b[1;33m,\u001b[0m \u001b[0mstop\u001b[0m\u001b[1;33m=\u001b[0m\u001b[1;36m9223372036854775807\u001b[0m\u001b[1;33m,\u001b[0m \u001b[1;33m/\u001b[0m\u001b[1;33m)\u001b[0m\u001b[1;33m\u001b[0m\u001b[1;33m\u001b[0m\u001b[0m\n",
       "\u001b[1;31mDocstring:\u001b[0m\n",
       "Return first index of value.\n",
       "\n",
       "Raises ValueError if the value is not present.\n",
       "\u001b[1;31mType:\u001b[0m      builtin_function_or_method\n"
      ]
     },
     "metadata": {},
     "output_type": "display_data"
    }
   ],
   "source": [
    "L.index?"
   ]
  },
  {
   "cell_type": "code",
   "execution_count": 45,
   "metadata": {},
   "outputs": [
    {
     "data": {
      "text/plain": [
       "3"
      ]
     },
     "execution_count": 45,
     "metadata": {},
     "output_type": "execute_result"
    }
   ],
   "source": [
    "L.count(5)"
   ]
  },
  {
   "cell_type": "code",
   "execution_count": 55,
   "metadata": {},
   "outputs": [
    {
     "name": "stdout",
     "output_type": "stream",
     "text": [
      "['其实我是一个脆弱的大人']\n"
     ]
    }
   ],
   "source": [
    "print(L)\n",
    "L = 'werworjjrqwjafklallewrwraklalakjkwerkkrkklrwkrkwekwklrr'.split()"
   ]
  },
  {
   "cell_type": "code",
   "execution_count": 57,
   "metadata": {},
   "outputs": [
    {
     "name": "stdout",
     "output_type": "stream",
     "text": [
      "['werworjjrqwjafklallewrwraklalakjkwerkkrkklrwkrkwekwklrr']\n",
      "None\n"
     ]
    }
   ],
   "source": [
    "print(L)\n",
    "print(L.sort())"
   ]
  },
  {
   "cell_type": "code",
   "execution_count": 58,
   "metadata": {},
   "outputs": [],
   "source": [
    "L = []"
   ]
  },
  {
   "cell_type": "code",
   "execution_count": 102,
   "metadata": {},
   "outputs": [],
   "source": [
    "for i in 'werworjjrqwjafklallewrwraklalakjkwerkkrkklrwkrkwekwklrr':\n",
    "    L.append(i)"
   ]
  },
  {
   "cell_type": "code",
   "execution_count": 103,
   "metadata": {},
   "outputs": [
    {
     "name": "stdout",
     "output_type": "stream",
     "text": [
      "['w', 'e', 'r', 'w', 'o', 'r', 'j', 'j', 'r', 'q', 'w', 'j', 'a', 'f', 'k', 'l', 'a', 'l', 'l', 'e', 'w', 'r', 'w', 'r', 'a', 'k', 'l', 'a', 'l', 'a', 'k', 'j', 'k', 'w', 'e', 'r', 'k', 'k', 'r', 'k', 'k', 'l', 'r', 'w', 'k', 'r', 'k', 'w', 'e', 'k', 'w', 'k', 'l', 'r', 'r']\n"
     ]
    }
   ],
   "source": [
    "print(L)"
   ]
  },
  {
   "cell_type": "code",
   "execution_count": 104,
   "metadata": {},
   "outputs": [
    {
     "name": "stdout",
     "output_type": "stream",
     "text": [
      "['a', 'a', 'a', 'a', 'a', 'e', 'e', 'e', 'e', 'f', 'j', 'j', 'j', 'j', 'k', 'k', 'k', 'k', 'k', 'k', 'k', 'k', 'k', 'k', 'k', 'k', 'l', 'l', 'l', 'l', 'l', 'l', 'l', 'o', 'q', 'r', 'r', 'r', 'r', 'r', 'r', 'r', 'r', 'r', 'r', 'r', 'w', 'w', 'w', 'w', 'w', 'w', 'w', 'w', 'w']\n"
     ]
    }
   ],
   "source": [
    "L.sort()\n",
    "print(L)"
   ]
  },
  {
   "cell_type": "code",
   "execution_count": 105,
   "metadata": {},
   "outputs": [
    {
     "name": "stdout",
     "output_type": "stream",
     "text": [
      "['w', 'w', 'w', 'w', 'w', 'w', 'w', 'w', 'w', 'r', 'r', 'r', 'r', 'r', 'r', 'r', 'r', 'r', 'r', 'r', 'q', 'o', 'l', 'l', 'l', 'l', 'l', 'l', 'l', 'k', 'k', 'k', 'k', 'k', 'k', 'k', 'k', 'k', 'k', 'k', 'k', 'j', 'j', 'j', 'j', 'f', 'e', 'e', 'e', 'e', 'a', 'a', 'a', 'a', 'a']\n"
     ]
    }
   ],
   "source": [
    "L.reverse()\n",
    "print(L)"
   ]
  },
  {
   "cell_type": "code",
   "execution_count": 106,
   "metadata": {},
   "outputs": [
    {
     "name": "stdout",
     "output_type": "stream",
     "text": [
      "['w', 'w', 'w', 'w', 'r', 'r', 'r', 'r', 'r', 'r', 'r', 'r', 'r', 'r', 'r', 'q', 'o', 'l', 'l', 'l', 'l', 'l', 'l', 'l', 'k', 'k', 'k', 'k', 'k', 'k', 'k', 'k', 'k', 'k', 'k', 'k', 'j', 'j', 'j', 'j', 'f', 'e', 'e', 'e', 'e', 'a', 'a', 'a', 'a', 'a']\n"
     ]
    }
   ],
   "source": [
    "del L[0:5]\n",
    "print(L)"
   ]
  },
  {
   "cell_type": "code",
   "execution_count": 107,
   "metadata": {},
   "outputs": [
    {
     "data": {
      "text/plain": [
       "('w', 'w', 'r', 'r')"
      ]
     },
     "execution_count": 107,
     "metadata": {},
     "output_type": "execute_result"
    }
   ],
   "source": [
    "L.pop(0), L.pop(1), L.pop(2), L.pop(3)"
   ]
  },
  {
   "cell_type": "code",
   "execution_count": 108,
   "metadata": {},
   "outputs": [
    {
     "name": "stdout",
     "output_type": "stream",
     "text": [
      "['w', 'w', 'r', 'r', 'r', 'r', 'r', 'r', 'r', 'r', 'r', 'q', 'o', 'l', 'l', 'l', 'l', 'l', 'l', 'l', 'k', 'k', 'k', 'k', 'k', 'k', 'k', 'k', 'k', 'k', 'k', 'k', 'j', 'j', 'j', 'j', 'f', 'e', 'e', 'e', 'e', 'a', 'a', 'a', 'a', 'a']\n"
     ]
    }
   ],
   "source": [
    "print(L)"
   ]
  },
  {
   "cell_type": "code",
   "execution_count": 112,
   "metadata": {},
   "outputs": [
    {
     "name": "stdout",
     "output_type": "stream",
     "text": [
      "['r', 'r', 'r', 'r', 'r', 'r', 'r', 'r', 'r', 'q', 'o', 'l', 'l', 'l', 'l', 'l', 'l', 'l', 'k', 'k', 'k', 'k', 'k', 'k', 'k', 'k', 'k', 'k', 'k', 'k', 'j', 'j', 'j', 'j', 'f', 'e', 'e', 'e', 'e', 'a', 'a', 'a', 'a', 'a']\n"
     ]
    }
   ],
   "source": [
    "L.remove('w')\n",
    "print(L)"
   ]
  },
  {
   "cell_type": "code",
   "execution_count": 3,
   "metadata": {},
   "outputs": [],
   "source": [
    "L = []\n",
    "for i in 'werweiawedahdgjasdawieiasfhauifawueuweuuafhuiasdhfuisdhafuihas':\n",
    "    L.append(i)"
   ]
  },
  {
   "cell_type": "code",
   "execution_count": 4,
   "metadata": {},
   "outputs": [
    {
     "data": {
      "text/plain": [
       "['w',\n",
       " 'e',\n",
       " 'r',\n",
       " 'w',\n",
       " 'e',\n",
       " 'i',\n",
       " 'a',\n",
       " 'w',\n",
       " 'e',\n",
       " 'd',\n",
       " 'a',\n",
       " 'h',\n",
       " 'd',\n",
       " 'g',\n",
       " 'j',\n",
       " 'a',\n",
       " 's',\n",
       " 'd',\n",
       " 'a',\n",
       " 'w',\n",
       " 'i',\n",
       " 'e',\n",
       " 'i',\n",
       " 'a',\n",
       " 's',\n",
       " 'f',\n",
       " 'h',\n",
       " 'a',\n",
       " 'u',\n",
       " 'i',\n",
       " 'f',\n",
       " 'a',\n",
       " 'w',\n",
       " 'u',\n",
       " 'e',\n",
       " 'u',\n",
       " 'w',\n",
       " 'e',\n",
       " 'u',\n",
       " 'u',\n",
       " 'a',\n",
       " 'f',\n",
       " 'h',\n",
       " 'u',\n",
       " 'i',\n",
       " 'a',\n",
       " 's',\n",
       " 'd',\n",
       " 'h',\n",
       " 'f',\n",
       " 'u',\n",
       " 'i',\n",
       " 's',\n",
       " 'd',\n",
       " 'h',\n",
       " 'a',\n",
       " 'f',\n",
       " 'u',\n",
       " 'i',\n",
       " 'h',\n",
       " 'a',\n",
       " 's']"
      ]
     },
     "execution_count": 4,
     "metadata": {},
     "output_type": "execute_result"
    }
   ],
   "source": [
    "L"
   ]
  },
  {
   "cell_type": "code",
   "execution_count": 6,
   "metadata": {},
   "outputs": [
    {
     "name": "stdout",
     "output_type": "stream",
     "text": [
      "['ww', 'ee', 'rr', 'ww', 'ee', 'ii', 'aa', 'ww', 'ee', 'dd', 'aa', 'hh', 'dd', 'gg', 'jj', 'aa', 'ss', 'dd', 'aa', 'ww', 'ii', 'ee', 'ii', 'aa', 'ss', 'ff', 'hh', 'aa', 'uu', 'ii', 'ff', 'aa', 'ww', 'uu', 'ee', 'uu', 'ww', 'ee', 'uu', 'uu', 'aa', 'ff', 'hh', 'uu', 'ii', 'aa', 'ss', 'dd', 'hh', 'ff', 'uu', 'ii', 'ss', 'dd', 'hh', 'aa', 'ff', 'uu', 'ii', 'hh', 'aa', 'ss']\n"
     ]
    }
   ],
   "source": [
    "List = [x*2 for x in L ] # List comprehensions and maps\n",
    "print(List)"
   ]
  },
  {
   "cell_type": "code",
   "execution_count": 7,
   "metadata": {},
   "outputs": [
    {
     "data": {
      "text/plain": [
       "[115, 112, 97, 109]"
      ]
     },
     "execution_count": 7,
     "metadata": {},
     "output_type": "execute_result"
    }
   ],
   "source": [
    "list(map(ord,'spam')) # ASCII"
   ]
  },
  {
   "cell_type": "code",
   "execution_count": 11,
   "metadata": {},
   "outputs": [
    {
     "name": "stdout",
     "output_type": "stream",
     "text": [
      "115\n",
      "112\n",
      "97\n",
      "109\n"
     ]
    }
   ],
   "source": [
    "for k in 'spam':\n",
    "    print(ord(k))"
   ]
  },
  {
   "cell_type": "code",
   "execution_count": 12,
   "metadata": {},
   "outputs": [],
   "source": [
    "L1 = []\n",
    "for i in \"\"\"Many of the operations in Table 8-1 should look familiar, as they are the same sequence\n",
    "operations we put to work on strings—indexing, concatenation, iteration, and so on.\n",
    "Lists also respond to list-specific method calls (which provide utilities such as sorting,\n",
    "reversing, adding items to the end, etc.), as well as in-place change operations (deleting\n",
    "items, assignment to indexes and slices, and so forth). Lists have these tools for change\n",
    "operations because they are a mutable object type.\"\"\":\n",
    "    L1.append(i)"
   ]
  },
  {
   "cell_type": "code",
   "execution_count": 13,
   "metadata": {},
   "outputs": [
    {
     "name": "stdout",
     "output_type": "stream",
     "text": [
      "['M', 'a', 'n', 'y', ' ', 'o', 'f', ' ', 't', 'h', 'e', ' ', 'o', 'p', 'e', 'r', 'a', 't', 'i', 'o', 'n', 's', ' ', 'i', 'n', ' ', 'T', 'a', 'b', 'l', 'e', ' ', '8', '-', '1', ' ', 's', 'h', 'o', 'u', 'l', 'd', ' ', 'l', 'o', 'o', 'k', ' ', 'f', 'a', 'm', 'i', 'l', 'i', 'a', 'r', ',', ' ', 'a', 's', ' ', 't', 'h', 'e', 'y', ' ', 'a', 'r', 'e', ' ', 't', 'h', 'e', ' ', 's', 'a', 'm', 'e', ' ', 's', 'e', 'q', 'u', 'e', 'n', 'c', 'e', '\\n', 'o', 'p', 'e', 'r', 'a', 't', 'i', 'o', 'n', 's', ' ', 'w', 'e', ' ', 'p', 'u', 't', ' ', 't', 'o', ' ', 'w', 'o', 'r', 'k', ' ', 'o', 'n', ' ', 's', 't', 'r', 'i', 'n', 'g', 's', '—', 'i', 'n', 'd', 'e', 'x', 'i', 'n', 'g', ',', ' ', 'c', 'o', 'n', 'c', 'a', 't', 'e', 'n', 'a', 't', 'i', 'o', 'n', ',', ' ', 'i', 't', 'e', 'r', 'a', 't', 'i', 'o', 'n', ',', ' ', 'a', 'n', 'd', ' ', 's', 'o', ' ', 'o', 'n', '.', '\\n', 'L', 'i', 's', 't', 's', ' ', 'a', 'l', 's', 'o', ' ', 'r', 'e', 's', 'p', 'o', 'n', 'd', ' ', 't', 'o', ' ', 'l', 'i', 's', 't', '-', 's', 'p', 'e', 'c', 'i', 'f', 'i', 'c', ' ', 'm', 'e', 't', 'h', 'o', 'd', ' ', 'c', 'a', 'l', 'l', 's', ' ', '(', 'w', 'h', 'i', 'c', 'h', ' ', 'p', 'r', 'o', 'v', 'i', 'd', 'e', ' ', 'u', 't', 'i', 'l', 'i', 't', 'i', 'e', 's', ' ', 's', 'u', 'c', 'h', ' ', 'a', 's', ' ', 's', 'o', 'r', 't', 'i', 'n', 'g', ',', '\\n', 'r', 'e', 'v', 'e', 'r', 's', 'i', 'n', 'g', ',', ' ', 'a', 'd', 'd', 'i', 'n', 'g', ' ', 'i', 't', 'e', 'm', 's', ' ', 't', 'o', ' ', 't', 'h', 'e', ' ', 'e', 'n', 'd', ',', ' ', 'e', 't', 'c', '.', ')', ',', ' ', 'a', 's', ' ', 'w', 'e', 'l', 'l', ' ', 'a', 's', ' ', 'i', 'n', '-', 'p', 'l', 'a', 'c', 'e', ' ', 'c', 'h', 'a', 'n', 'g', 'e', ' ', 'o', 'p', 'e', 'r', 'a', 't', 'i', 'o', 'n', 's', ' ', '(', 'd', 'e', 'l', 'e', 't', 'i', 'n', 'g', '\\n', 'i', 't', 'e', 'm', 's', ',', ' ', 'a', 's', 's', 'i', 'g', 'n', 'm', 'e', 'n', 't', ' ', 't', 'o', ' ', 'i', 'n', 'd', 'e', 'x', 'e', 's', ' ', 'a', 'n', 'd', ' ', 's', 'l', 'i', 'c', 'e', 's', ',', ' ', 'a', 'n', 'd', ' ', 's', 'o', ' ', 'f', 'o', 'r', 't', 'h', ')', '.', ' ', 'L', 'i', 's', 't', 's', ' ', 'h', 'a', 'v', 'e', ' ', 't', 'h', 'e', 's', 'e', ' ', 't', 'o', 'o', 'l', 's', ' ', 'f', 'o', 'r', ' ', 'c', 'h', 'a', 'n', 'g', 'e', '\\n', 'o', 'p', 'e', 'r', 'a', 't', 'i', 'o', 'n', 's', ' ', 'b', 'e', 'c', 'a', 'u', 's', 'e', ' ', 't', 'h', 'e', 'y', ' ', 'a', 'r', 'e', ' ', 'a', ' ', 'm', 'u', 't', 'a', 'b', 'l', 'e', ' ', 'o', 'b', 'j', 'e', 'c', 't', ' ', 't', 'y', 'p', 'e', '.']\n"
     ]
    }
   ],
   "source": [
    "print(L1)"
   ]
  },
  {
   "cell_type": "code",
   "execution_count": 20,
   "metadata": {},
   "outputs": [],
   "source": [
    "L1.reverse()"
   ]
  },
  {
   "cell_type": "code",
   "execution_count": 41,
   "metadata": {},
   "outputs": [
    {
     "name": "stdout",
     "output_type": "stream",
     "text": [
      "['.', 'e', 'p', 'y', 't', ' ', 't', 'c', 'e', 'j', 'b', 'o', ' ', 'e', 'l', 'b', 'a', 't', 'u', 'm', ' ', 'a', ' ', 'e', 'r', 'a', ' ', 'y', 'e', 'h', 't', ' ', 'e', 's', 'u', 'a', 'c', 'e', 'b', ' ', 's', 'n', 'o', 'i', 't', 'a', 'r', 'e', 'p', 'o', '\\n', 'e', 'g', 'n', 'a', 'h', 'c', ' ', 'r', 'o', 'f', ' ', 's', 'l', 'o', 'o', 't', ' ', 'e', 's', 'e', 'h', 't', ' ', 'e', 'v', 'a', 'h', ' ', 's', 't', 's', 'i', 'L', ' ', '.', ')', 'h', 't', 'r', 'o', 'f', ' ', 'o', 's', ' ', 'd', 'n', 'a', ' ', ',', 's', 'e', 'c', 'i', 'l', 's', ' ', 'd', 'n', 'a', ' ', 's', 'e', 'x', 'e', 'd', 'n', 'i', ' ', 'o', 't', ' ', 't', 'n', 'e', 'm', 'n', 'g', 'i', 's', 's', 'a', ' ', ',', 's', 'm', 'e', 't', 'i', '\\n', 'g', 'n', 'i', 't', 'e', 'l', 'e', 'd', '(', ' ', 's', 'n', 'o', 'i', 't', 'a', 'r', 'e', 'p', 'o', ' ', 'e', 'g', 'n', 'a', 'h', 'c', ' ', 'e', 'c', 'a', 'l', 'p', '-', 'n', 'i', ' ', 's', 'a', ' ', 'l', 'l', 'e', 'w', ' ', 's', 'a', ' ', ',', ')', '.', 'c', 't', 'e', ' ', ',', 'd', 'n', 'e', ' ', 'e', 'h', 't', ' ', 'o', 't', ' ', 's', 'm', 'e', 't', 'i', ' ', 'g', 'n', 'i', 'd', 'd', 'a', ' ', ',', 'g', 'n', 'i', 's', 'r', 'e', 'v', 'e', 'r', '\\n', ',', 'g', 'n', 'i', 't', 'r', 'o', 's', ' ', 's', 'a', ' ', 'h', 'c', 'u', 's', ' ', 's', 'e', 'i', 't', 'i', 'l', 'i', 't', 'u', ' ', 'e', 'd', 'i', 'v', 'o', 'r', 'p', ' ', 'h', 'c', 'i', 'h', 'w', '(', ' ', 's', 'l', 'l', 'a', 'c', ' ', 'd', 'o', 'h', 't', 'e', 'm', ' ', 'c', 'i', 'f', 'i', 'c', 'e', 'p', 's', '-', 't', 's', 'i', 'l', ' ', 'o', 't', ' ', 'd', 'n', 'o', 'p', 's', 'e', 'r', ' ', 'o', 's', 'l', 'a', ' ', 's', 't', 's', 'i', 'L', '\\n', '.', 'n', 'o', ' ', 'o', 's', ' ', 'd', 'n', 'a', ' ', ',', 'n', 'o', 'i', 't', 'a', 'r', 'e', 't', 'i', ' ', ',', 'n', 'o', 'i', 't', 'a', 'n', 'e', 't', 'a', 'c', 'n', 'o', 'c', ' ', ',', 'g', 'n', 'i', 'x', 'e', 'd', 'n', 'i', '—', 's', 'g', 'n', 'i', 'r', 't', 's', ' ', 'n', 'o', ' ', 'k', 'r', 'o', 'w', ' ', 'o', 't', ' ', 't', 'u', 'p', ' ', 'e', 'w', ' ', 's', 'n', 'o', 'i', 't', 'a', 'r', 'e', 'p', 'o', '\\n', 'e', 'c', 'n', 'e', 'u', 'q', 'e', 's', ' ', 'e', 'm', 'a', 's', ' ', 'e', 'h', 't', ' ', 'e', 'r', 'a', ' ', 'y', 'e', 'h', 't', ' ', 's', 'a', ' ', ',', 'r', 'a', 'i', 'l', 'i', 'm', 'a', 'f', ' ', 'k', 'o', 'o', 'l', ' ', 'd', 'l', 'u', 'o', 'h', 's', ' ', '1', '-', '8', ' ', 'e', 'l', 'b', 'a', 'T', ' ', 'n', 'i', ' ', 's', 'n', 'o', 'i', 't', 'a', 'r', 'e', 'p', 'o', ' ', 'e', 'h', 't', ' ', 'f', 'o', ' ', 'y', 'n', 'a', 'M']\n"
     ]
    }
   ],
   "source": [
    "print(L1)"
   ]
  },
  {
   "cell_type": "code",
   "execution_count": 22,
   "metadata": {},
   "outputs": [
    {
     "data": {
      "text/plain": [
       "\u001b[1;31mSignature:\u001b[0m \u001b[0mS\u001b[0m\u001b[1;33m.\u001b[0m\u001b[0mjoin\u001b[0m\u001b[1;33m(\u001b[0m\u001b[0miterable\u001b[0m\u001b[1;33m,\u001b[0m \u001b[1;33m/\u001b[0m\u001b[1;33m)\u001b[0m\u001b[1;33m\u001b[0m\u001b[1;33m\u001b[0m\u001b[0m\n",
       "\u001b[1;31mDocstring:\u001b[0m\n",
       "Concatenate any number of strings.\n",
       "\n",
       "The string whose method is called is inserted in between each given string.\n",
       "The result is returned as a new string.\n",
       "\n",
       "Example: '.'.join(['ab', 'pq', 'rs']) -> 'ab.pq.rs'\n",
       "\u001b[1;31mType:\u001b[0m      builtin_function_or_method\n"
      ]
     },
     "metadata": {},
     "output_type": "display_data"
    }
   ],
   "source": [
    "S = ''\n",
    "S.join?"
   ]
  },
  {
   "cell_type": "code",
   "execution_count": 46,
   "metadata": {},
   "outputs": [
    {
     "name": "stdout",
     "output_type": "stream",
     "text": [
      "M\n"
     ]
    }
   ],
   "source": [
    "for i in L1:\n",
    "    L2 = ''.join(i)\n",
    "print(L2)"
   ]
  },
  {
   "cell_type": "code",
   "execution_count": 24,
   "metadata": {},
   "outputs": [
    {
     "data": {
      "text/plain": [
       "'.epyt tcejbo elbatum a era yeht esuaceb snoitarepo\\negnahc rof sloot eseht evah stsiL .)htrof os dna ,secils dna sexedni ot tnemngissa ,smeti\\ngniteled( snoitarepo egnahc ecalp-ni sa llew sa ,).cte ,dne eht ot smeti gnidda ,gnisrever\\n,gnitros sa hcus seitilitu edivorp hcihw( sllac dohtem cificeps-tsil ot dnopser osla stsiL\\n.no os dna ,noitareti ,noitanetacnoc ,gnixedni—sgnirts no krow ot tup ew snoitarepo\\necneuqes emas eht era yeht sa ,railimaf kool dluohs 1-8 elbaT ni snoitarepo eht fo ynaM'"
      ]
     },
     "execution_count": 24,
     "metadata": {},
     "output_type": "execute_result"
    }
   ],
   "source": [
    "''.join(L1)"
   ]
  },
  {
   "cell_type": "markdown",
   "metadata": {},
   "source": [
    "## Lists in Action"
   ]
  },
  {
   "cell_type": "code",
   "execution_count": 25,
   "metadata": {},
   "outputs": [
    {
     "data": {
      "text/plain": [
       "3"
      ]
     },
     "execution_count": 25,
     "metadata": {},
     "output_type": "execute_result"
    }
   ],
   "source": [
    "len([1,2,3]) #Length"
   ]
  },
  {
   "cell_type": "code",
   "execution_count": 27,
   "metadata": {},
   "outputs": [
    {
     "data": {
      "text/plain": [
       "[1, 2, 3, 4, 5, 5, 6, 7, 8, 9]"
      ]
     },
     "execution_count": 27,
     "metadata": {},
     "output_type": "execute_result"
    }
   ],
   "source": [
    "[1,2,3,4,5] + [5,6,7,8,9] # Concatenation"
   ]
  },
  {
   "cell_type": "code",
   "execution_count": 28,
   "metadata": {},
   "outputs": [
    {
     "data": {
      "text/plain": [
       "['Ni!', 'Ni!', 'Ni!', 'Ni!']"
      ]
     },
     "execution_count": 28,
     "metadata": {},
     "output_type": "execute_result"
    }
   ],
   "source": [
    "['Ni!'] * 4 # Repetition"
   ]
  },
  {
   "cell_type": "code",
   "execution_count": 29,
   "metadata": {},
   "outputs": [
    {
     "data": {
      "text/plain": [
       "'[1, 2]34'"
      ]
     },
     "execution_count": 29,
     "metadata": {},
     "output_type": "execute_result"
    }
   ],
   "source": [
    "str([1,2]) + \"34\" # Same as \"[1,2]\" + \"34\""
   ]
  },
  {
   "cell_type": "code",
   "execution_count": 30,
   "metadata": {},
   "outputs": [
    {
     "data": {
      "text/plain": [
       "[1, 2, 4, 5, 6, 24, 5, 6, 4]"
      ]
     },
     "execution_count": 30,
     "metadata": {},
     "output_type": "execute_result"
    }
   ],
   "source": [
    "[1,2,4,5,6] + [24,5,6,4]"
   ]
  },
  {
   "cell_type": "code",
   "execution_count": 31,
   "metadata": {},
   "outputs": [
    {
     "data": {
      "text/plain": [
       "['s',\n",
       " 't',\n",
       " 'f',\n",
       " 'a',\n",
       " 'k',\n",
       " 'j',\n",
       " 'f',\n",
       " 'a',\n",
       " 'i',\n",
       " 'o',\n",
       " 'w',\n",
       " 'i',\n",
       " 'o',\n",
       " 'e',\n",
       " 'i',\n",
       " 'o',\n",
       " 'w',\n",
       " 'i',\n",
       " 'o',\n",
       " 'a',\n",
       " 'f',\n",
       " 'h',\n",
       " 'a',\n",
       " 's',\n",
       " 'f',\n",
       " 'a',\n",
       " 'i',\n",
       " 'i',\n",
       " 'o',\n",
       " 'a',\n",
       " 'w',\n",
       " 'e',\n",
       " 'h',\n",
       " 'i',\n",
       " 'i',\n",
       " 'a',\n",
       " 'h',\n",
       " 'i',\n",
       " 'a',\n",
       " 'w']"
      ]
     },
     "execution_count": 31,
     "metadata": {},
     "output_type": "execute_result"
    }
   ],
   "source": [
    "['s','t']+list(\"fakjfaiowioeiowioafhasfaiioawehiiahiaw\")"
   ]
  },
  {
   "cell_type": "code",
   "execution_count": 32,
   "metadata": {},
   "outputs": [
    {
     "data": {
      "text/plain": [
       "True"
      ]
     },
     "execution_count": 32,
     "metadata": {},
     "output_type": "execute_result"
    }
   ],
   "source": [
    "[1,2] + list(\"34\") == [1,2]+[\"3\",'4']"
   ]
  },
  {
   "cell_type": "code",
   "execution_count": 33,
   "metadata": {},
   "outputs": [
    {
     "data": {
      "text/plain": [
       "False"
      ]
     },
     "execution_count": 33,
     "metadata": {},
     "output_type": "execute_result"
    }
   ],
   "source": [
    "[1,2] + list(\"34\") is [1,2]+['3','4']"
   ]
  },
  {
   "cell_type": "markdown",
   "metadata": {},
   "source": [
    "## List Iteration and Comprehensions"
   ]
  },
  {
   "cell_type": "code",
   "execution_count": 34,
   "metadata": {},
   "outputs": [
    {
     "data": {
      "text/plain": [
       "True"
      ]
     },
     "execution_count": 34,
     "metadata": {},
     "output_type": "execute_result"
    }
   ],
   "source": [
    "3 in [1,2,3,4,5,6] # Membership"
   ]
  },
  {
   "cell_type": "code",
   "execution_count": 39,
   "metadata": {},
   "outputs": [
    {
     "name": "stdout",
     "output_type": "stream",
     "text": [
      "1 2 2 3 3 4 "
     ]
    }
   ],
   "source": [
    "for x in [1,2,3]:     # Iteration\n",
    "    print(x,end=' ')\n",
    "    x = x + 1\n",
    "    print(x, end = ' ')"
   ]
  },
  {
   "cell_type": "code",
   "execution_count": 40,
   "metadata": {},
   "outputs": [
    {
     "data": {
      "text/plain": [
       "['SSSS', 'PPPP', 'AAAA', 'MMMM']"
      ]
     },
     "execution_count": 40,
     "metadata": {},
     "output_type": "execute_result"
    }
   ],
   "source": [
    "res = [c*4 for c in 'SPAM']\n",
    "res"
   ]
  },
  {
   "cell_type": "code",
   "execution_count": 47,
   "metadata": {},
   "outputs": [],
   "source": [
    "res = [] \n",
    "for c in 'SPAM':   # List comprehension equivalent\n",
    "    res.append(c*4)"
   ]
  },
  {
   "cell_type": "code",
   "execution_count": 48,
   "metadata": {},
   "outputs": [
    {
     "data": {
      "text/plain": [
       "['SSSS', 'PPPP', 'AAAA', 'MMMM']"
      ]
     },
     "execution_count": 48,
     "metadata": {},
     "output_type": "execute_result"
    }
   ],
   "source": [
    "res"
   ]
  },
  {
   "cell_type": "code",
   "execution_count": 54,
   "metadata": {},
   "outputs": [],
   "source": [
    "dic = {}\n",
    "for i in range(4):\n",
    "    dic[i] = res[i]"
   ]
  },
  {
   "cell_type": "code",
   "execution_count": 55,
   "metadata": {},
   "outputs": [
    {
     "data": {
      "text/plain": [
       "{0: 'SSSS', 1: 'PPPP', 2: 'AAAA', 3: 'MMMM'}"
      ]
     },
     "execution_count": 55,
     "metadata": {},
     "output_type": "execute_result"
    }
   ],
   "source": [
    "dic"
   ]
  },
  {
   "cell_type": "code",
   "execution_count": 56,
   "metadata": {},
   "outputs": [
    {
     "data": {
      "text/plain": [
       "dict"
      ]
     },
     "execution_count": 56,
     "metadata": {},
     "output_type": "execute_result"
    }
   ],
   "source": [
    "type(dic)"
   ]
  },
  {
   "cell_type": "code",
   "execution_count": 58,
   "metadata": {},
   "outputs": [
    {
     "data": {
      "text/plain": [
       "[1, 2, 0, 1, 2]"
      ]
     },
     "execution_count": 58,
     "metadata": {},
     "output_type": "execute_result"
    }
   ],
   "source": [
    "list(map(abs,[-1,-2,0,1,2])) # map function across"
   ]
  },
  {
   "cell_type": "code",
   "execution_count": 59,
   "metadata": {},
   "outputs": [
    {
     "data": {
      "text/plain": [
       "<map at 0x1bc4f7191c8>"
      ]
     },
     "execution_count": 59,
     "metadata": {},
     "output_type": "execute_result"
    }
   ],
   "source": [
    "map(abs,[-1,-2,0,1,2])"
   ]
  },
  {
   "cell_type": "code",
   "execution_count": 64,
   "metadata": {},
   "outputs": [
    {
     "data": {
      "text/plain": [
       "[46,\n",
       " 101,\n",
       " 112,\n",
       " 121,\n",
       " 116,\n",
       " 32,\n",
       " 116,\n",
       " 99,\n",
       " 101,\n",
       " 106,\n",
       " 98,\n",
       " 111,\n",
       " 32,\n",
       " 101,\n",
       " 108,\n",
       " 98,\n",
       " 97,\n",
       " 116,\n",
       " 117,\n",
       " 109,\n",
       " 32,\n",
       " 97,\n",
       " 32,\n",
       " 101,\n",
       " 114,\n",
       " 97,\n",
       " 32,\n",
       " 121,\n",
       " 101,\n",
       " 104,\n",
       " 116,\n",
       " 32,\n",
       " 101,\n",
       " 115,\n",
       " 117,\n",
       " 97,\n",
       " 99,\n",
       " 101,\n",
       " 98,\n",
       " 32,\n",
       " 115,\n",
       " 110,\n",
       " 111,\n",
       " 105,\n",
       " 116,\n",
       " 97,\n",
       " 114,\n",
       " 101,\n",
       " 112,\n",
       " 111,\n",
       " 10,\n",
       " 101,\n",
       " 103,\n",
       " 110,\n",
       " 97,\n",
       " 104,\n",
       " 99,\n",
       " 32,\n",
       " 114,\n",
       " 111,\n",
       " 102,\n",
       " 32,\n",
       " 115,\n",
       " 108,\n",
       " 111,\n",
       " 111,\n",
       " 116,\n",
       " 32,\n",
       " 101,\n",
       " 115,\n",
       " 101,\n",
       " 104,\n",
       " 116,\n",
       " 32,\n",
       " 101,\n",
       " 118,\n",
       " 97,\n",
       " 104,\n",
       " 32,\n",
       " 115,\n",
       " 116,\n",
       " 115,\n",
       " 105,\n",
       " 76,\n",
       " 32,\n",
       " 46,\n",
       " 41,\n",
       " 104,\n",
       " 116,\n",
       " 114,\n",
       " 111,\n",
       " 102,\n",
       " 32,\n",
       " 111,\n",
       " 115,\n",
       " 32,\n",
       " 100,\n",
       " 110,\n",
       " 97,\n",
       " 32,\n",
       " 44,\n",
       " 115,\n",
       " 101,\n",
       " 99,\n",
       " 105,\n",
       " 108,\n",
       " 115,\n",
       " 32,\n",
       " 100,\n",
       " 110,\n",
       " 97,\n",
       " 32,\n",
       " 115,\n",
       " 101,\n",
       " 120,\n",
       " 101,\n",
       " 100,\n",
       " 110,\n",
       " 105,\n",
       " 32,\n",
       " 111,\n",
       " 116,\n",
       " 32,\n",
       " 116,\n",
       " 110,\n",
       " 101,\n",
       " 109,\n",
       " 110,\n",
       " 103,\n",
       " 105,\n",
       " 115,\n",
       " 115,\n",
       " 97,\n",
       " 32,\n",
       " 44,\n",
       " 115,\n",
       " 109,\n",
       " 101,\n",
       " 116,\n",
       " 105,\n",
       " 10,\n",
       " 103,\n",
       " 110,\n",
       " 105,\n",
       " 116,\n",
       " 101,\n",
       " 108,\n",
       " 101,\n",
       " 100,\n",
       " 40,\n",
       " 32,\n",
       " 115,\n",
       " 110,\n",
       " 111,\n",
       " 105,\n",
       " 116,\n",
       " 97,\n",
       " 114,\n",
       " 101,\n",
       " 112,\n",
       " 111,\n",
       " 32,\n",
       " 101,\n",
       " 103,\n",
       " 110,\n",
       " 97,\n",
       " 104,\n",
       " 99,\n",
       " 32,\n",
       " 101,\n",
       " 99,\n",
       " 97,\n",
       " 108,\n",
       " 112,\n",
       " 45,\n",
       " 110,\n",
       " 105,\n",
       " 32,\n",
       " 115,\n",
       " 97,\n",
       " 32,\n",
       " 108,\n",
       " 108,\n",
       " 101,\n",
       " 119,\n",
       " 32,\n",
       " 115,\n",
       " 97,\n",
       " 32,\n",
       " 44,\n",
       " 41,\n",
       " 46,\n",
       " 99,\n",
       " 116,\n",
       " 101,\n",
       " 32,\n",
       " 44,\n",
       " 100,\n",
       " 110,\n",
       " 101,\n",
       " 32,\n",
       " 101,\n",
       " 104,\n",
       " 116,\n",
       " 32,\n",
       " 111,\n",
       " 116,\n",
       " 32,\n",
       " 115,\n",
       " 109,\n",
       " 101,\n",
       " 116,\n",
       " 105,\n",
       " 32,\n",
       " 103,\n",
       " 110,\n",
       " 105,\n",
       " 100,\n",
       " 100,\n",
       " 97,\n",
       " 32,\n",
       " 44,\n",
       " 103,\n",
       " 110,\n",
       " 105,\n",
       " 115,\n",
       " 114,\n",
       " 101,\n",
       " 118,\n",
       " 101,\n",
       " 114,\n",
       " 10,\n",
       " 44,\n",
       " 103,\n",
       " 110,\n",
       " 105,\n",
       " 116,\n",
       " 114,\n",
       " 111,\n",
       " 115,\n",
       " 32,\n",
       " 115,\n",
       " 97,\n",
       " 32,\n",
       " 104,\n",
       " 99,\n",
       " 117,\n",
       " 115,\n",
       " 32,\n",
       " 115,\n",
       " 101,\n",
       " 105,\n",
       " 116,\n",
       " 105,\n",
       " 108,\n",
       " 105,\n",
       " 116,\n",
       " 117,\n",
       " 32,\n",
       " 101,\n",
       " 100,\n",
       " 105,\n",
       " 118,\n",
       " 111,\n",
       " 114,\n",
       " 112,\n",
       " 32,\n",
       " 104,\n",
       " 99,\n",
       " 105,\n",
       " 104,\n",
       " 119,\n",
       " 40,\n",
       " 32,\n",
       " 115,\n",
       " 108,\n",
       " 108,\n",
       " 97,\n",
       " 99,\n",
       " 32,\n",
       " 100,\n",
       " 111,\n",
       " 104,\n",
       " 116,\n",
       " 101,\n",
       " 109,\n",
       " 32,\n",
       " 99,\n",
       " 105,\n",
       " 102,\n",
       " 105,\n",
       " 99,\n",
       " 101,\n",
       " 112,\n",
       " 115,\n",
       " 45,\n",
       " 116,\n",
       " 115,\n",
       " 105,\n",
       " 108,\n",
       " 32,\n",
       " 111,\n",
       " 116,\n",
       " 32,\n",
       " 100,\n",
       " 110,\n",
       " 111,\n",
       " 112,\n",
       " 115,\n",
       " 101,\n",
       " 114,\n",
       " 32,\n",
       " 111,\n",
       " 115,\n",
       " 108,\n",
       " 97,\n",
       " 32,\n",
       " 115,\n",
       " 116,\n",
       " 115,\n",
       " 105,\n",
       " 76,\n",
       " 10,\n",
       " 46,\n",
       " 110,\n",
       " 111,\n",
       " 32,\n",
       " 111,\n",
       " 115,\n",
       " 32,\n",
       " 100,\n",
       " 110,\n",
       " 97,\n",
       " 32,\n",
       " 44,\n",
       " 110,\n",
       " 111,\n",
       " 105,\n",
       " 116,\n",
       " 97,\n",
       " 114,\n",
       " 101,\n",
       " 116,\n",
       " 105,\n",
       " 32,\n",
       " 44,\n",
       " 110,\n",
       " 111,\n",
       " 105,\n",
       " 116,\n",
       " 97,\n",
       " 110,\n",
       " 101,\n",
       " 116,\n",
       " 97,\n",
       " 99,\n",
       " 110,\n",
       " 111,\n",
       " 99,\n",
       " 32,\n",
       " 44,\n",
       " 103,\n",
       " 110,\n",
       " 105,\n",
       " 120,\n",
       " 101,\n",
       " 100,\n",
       " 110,\n",
       " 105,\n",
       " 8212,\n",
       " 115,\n",
       " 103,\n",
       " 110,\n",
       " 105,\n",
       " 114,\n",
       " 116,\n",
       " 115,\n",
       " 32,\n",
       " 110,\n",
       " 111,\n",
       " 32,\n",
       " 107,\n",
       " 114,\n",
       " 111,\n",
       " 119,\n",
       " 32,\n",
       " 111,\n",
       " 116,\n",
       " 32,\n",
       " 116,\n",
       " 117,\n",
       " 112,\n",
       " 32,\n",
       " 101,\n",
       " 119,\n",
       " 32,\n",
       " 115,\n",
       " 110,\n",
       " 111,\n",
       " 105,\n",
       " 116,\n",
       " 97,\n",
       " 114,\n",
       " 101,\n",
       " 112,\n",
       " 111,\n",
       " 10,\n",
       " 101,\n",
       " 99,\n",
       " 110,\n",
       " 101,\n",
       " 117,\n",
       " 113,\n",
       " 101,\n",
       " 115,\n",
       " 32,\n",
       " 101,\n",
       " 109,\n",
       " 97,\n",
       " 115,\n",
       " 32,\n",
       " 101,\n",
       " 104,\n",
       " 116,\n",
       " 32,\n",
       " 101,\n",
       " 114,\n",
       " 97,\n",
       " 32,\n",
       " 121,\n",
       " 101,\n",
       " 104,\n",
       " 116,\n",
       " 32,\n",
       " 115,\n",
       " 97,\n",
       " 32,\n",
       " 44,\n",
       " 114,\n",
       " 97,\n",
       " 105,\n",
       " 108,\n",
       " 105,\n",
       " 109,\n",
       " 97,\n",
       " 102,\n",
       " 32,\n",
       " 107,\n",
       " 111,\n",
       " 111,\n",
       " 108,\n",
       " 32,\n",
       " 100,\n",
       " 108,\n",
       " 117,\n",
       " 111,\n",
       " 104,\n",
       " 115,\n",
       " 32,\n",
       " 49,\n",
       " 45,\n",
       " 56,\n",
       " 32,\n",
       " 101,\n",
       " 108,\n",
       " 98,\n",
       " 97,\n",
       " 84,\n",
       " 32,\n",
       " 110,\n",
       " 105,\n",
       " 32,\n",
       " 115,\n",
       " 110,\n",
       " 111,\n",
       " 105,\n",
       " 116,\n",
       " 97,\n",
       " 114,\n",
       " 101,\n",
       " 112,\n",
       " 111,\n",
       " 32,\n",
       " 101,\n",
       " 104,\n",
       " 116,\n",
       " 32,\n",
       " 102,\n",
       " 111,\n",
       " 32,\n",
       " 121,\n",
       " 110,\n",
       " 97,\n",
       " 77]"
      ]
     },
     "execution_count": 64,
     "metadata": {},
     "output_type": "execute_result"
    }
   ],
   "source": [
    "list(map(ord,L1))"
   ]
  },
  {
   "cell_type": "markdown",
   "metadata": {},
   "source": [
    "## Indexing, Slcing, and Matrixes"
   ]
  },
  {
   "cell_type": "code",
   "execution_count": 65,
   "metadata": {},
   "outputs": [
    {
     "data": {
      "text/plain": [
       "['Spam', 'SPAM!']"
      ]
     },
     "execution_count": 65,
     "metadata": {},
     "output_type": "execute_result"
    }
   ],
   "source": [
    "L = ['spam','Spam', 'SPAM!']\n",
    "L[2] # Offsets start at zero\n",
    "L[-2] # Negative: count from the right\n",
    "L[1:] # Slicing fetches sections"
   ]
  },
  {
   "cell_type": "markdown",
   "metadata": {},
   "source": [
    "One note here: because you can nest lists and other object types within lists, you will\n",
    "sometimes need to string together index operations to go deeper into a data structure.\n",
    "For example, one of the simplest ways to represent matrixes (multidimensional arrays)\n",
    "in Python is as lists with nested sublists. "
   ]
  },
  {
   "cell_type": "code",
   "execution_count": 70,
   "metadata": {},
   "outputs": [
    {
     "data": {
      "text/plain": [
       "(44, 55, 66)"
      ]
     },
     "execution_count": 70,
     "metadata": {},
     "output_type": "execute_result"
    }
   ],
   "source": [
    "4-4+44, (5-5)*5+55,66+6-6 + 6-6"
   ]
  },
  {
   "cell_type": "code",
   "execution_count": 71,
   "metadata": {},
   "outputs": [],
   "source": [
    "matrix = [[1,2,3],[4,5,6],[7,8,9]]"
   ]
  },
  {
   "cell_type": "code",
   "execution_count": 72,
   "metadata": {},
   "outputs": [
    {
     "data": {
      "text/plain": [
       "([4, 5, 6], 5, 7)"
      ]
     },
     "execution_count": 72,
     "metadata": {},
     "output_type": "execute_result"
    }
   ],
   "source": [
    "matrix[1],matrix[1][1],matrix[2][0]"
   ]
  },
  {
   "cell_type": "code",
   "execution_count": 73,
   "metadata": {},
   "outputs": [
    {
     "name": "stdout",
     "output_type": "stream",
     "text": [
      "[[1, 2, 3], [4, 5, 6], [7, 8, 9]]\n"
     ]
    }
   ],
   "source": [
    "print(matrix)"
   ]
  },
  {
   "cell_type": "markdown",
   "metadata": {},
   "source": [
    "## Changing Lists In-Place"
   ]
  },
  {
   "cell_type": "code",
   "execution_count": 1,
   "metadata": {},
   "outputs": [],
   "source": [
    "L = ['spam', \"Spam\",\"SPAM!\"] # Lists\n",
    "S = \"'spam','Spam','SPAM!'\" # Strings"
   ]
  },
  {
   "cell_type": "code",
   "execution_count": 37,
   "metadata": {},
   "outputs": [
    {
     "name": "stdout",
     "output_type": "stream",
     "text": [
      "' spam\n",
      "s Spam\n",
      "p SPAM!\n",
      "a m ' , ' S p a m ' , ' S P A M ! "
     ]
    }
   ],
   "source": [
    "for i in range(len(S)-1):\n",
    "    print(S[i], end=' ')\n",
    "    if i < len(L):\n",
    "        print(L[i])"
   ]
  },
  {
   "cell_type": "code",
   "execution_count": 40,
   "metadata": {},
   "outputs": [
    {
     "name": "stdout",
     "output_type": "stream",
     "text": [
      "['spam', 'eggs', 'SPAM!']\t'spam','Spam','SPAM!'\n"
     ]
    }
   ],
   "source": [
    "L[1]='eggs'\n",
    "print(L, end = '\\t')\n",
    "# S[1] = 'eggs' # 'str' object does not support item assignment\n",
    "print(S)"
   ]
  },
  {
   "cell_type": "code",
   "execution_count": 42,
   "metadata": {},
   "outputs": [
    {
     "data": {
      "text/plain": [
       "['eat', 'more', 'SPAM!']"
      ]
     },
     "execution_count": 42,
     "metadata": {},
     "output_type": "execute_result"
    }
   ],
   "source": [
    "L[0:2] = ['eat','more'] # Slice assignment: delete + insert\n",
    "L # Replace items 0.1"
   ]
  },
  {
   "cell_type": "code",
   "execution_count": 21,
   "metadata": {},
   "outputs": [
    {
     "name": "stdout",
     "output_type": "stream",
     "text": [
      "0 x 0 = 0   0 x 1 = 0   0 x 2 = 0   0 x 3 = 0   0 x 4 = 0   0 x 5 = 0   0 x 6 = 0   0 x 7 = 0   0 x 8 = 0   0 x 9 = 0   0 x 10 = 0   1 x 0 = 0   1 x 1 = 1   1 x 2 = 2   1 x 3 = 3   1 x 4 = 4   1 x 5 = 5   1 x 6 = 6   1 x 7 = 7   1 x 8 = 8   1 x 9 = 9   1 x 10 = 10   2 x 0 = 0   2 x 1 = 2   2 x 2 = 4   2 x 3 = 6   2 x 4 = 8   2 x 5 = 10   2 x 6 = 12   2 x 7 = 14   2 x 8 = 16   2 x 9 = 18   2 x 10 = 20   3 x 0 = 0   3 x 1 = 3   3 x 2 = 6   3 x 3 = 9   3 x 4 = 12   3 x 5 = 15   3 x 6 = 18   3 x 7 = 21   3 x 8 = 24   3 x 9 = 27   3 x 10 = 30   4 x 0 = 0   4 x 1 = 4   4 x 2 = 8   4 x 3 = 12   4 x 4 = 16   4 x 5 = 20   4 x 6 = 24   4 x 7 = 28   4 x 8 = 32   4 x 9 = 36   4 x 10 = 40   5 x 0 = 0   5 x 1 = 5   5 x 2 = 10   5 x 3 = 15   5 x 4 = 20   5 x 5 = 25   5 x 6 = 30   5 x 7 = 35   5 x 8 = 40   5 x 9 = 45   5 x 10 = 50   6 x 0 = 0   6 x 1 = 6   6 x 2 = 12   6 x 3 = 18   6 x 4 = 24   6 x 5 = 30   6 x 6 = 36   6 x 7 = 42   6 x 8 = 48   6 x 9 = 54   6 x 10 = 60   7 x 0 = 0   7 x 1 = 7   7 x 2 = 14   7 x 3 = 21   7 x 4 = 28   7 x 5 = 35   7 x 6 = 42   7 x 7 = 49   7 x 8 = 56   7 x 9 = 63   7 x 10 = 70   8 x 0 = 0   8 x 1 = 8   8 x 2 = 16   8 x 3 = 24   8 x 4 = 32   8 x 5 = 40   8 x 6 = 48   8 x 7 = 56   8 x 8 = 64   8 x 9 = 72   8 x 10 = 80   9 x 0 = 0   9 x 1 = 9   9 x 2 = 18   9 x 3 = 27   9 x 4 = 36   9 x 5 = 45   9 x 6 = 54   9 x 7 = 63   9 x 8 = 72   9 x 9 = 81   9 x 10 = 90   10 x 0 = 0   10 x 1 = 10   10 x 2 = 20   10 x 3 = 30   10 x 4 = 40   10 x 5 = 50   10 x 6 = 60   10 x 7 = 70   10 x 8 = 80   10 x 9 = 90   10 x 10 = 100   "
     ]
    }
   ],
   "source": [
    "for i in range(11):\n",
    "    for j in range(11):\n",
    "        print(('%d x %d = %d')%(i,j,i*j),end = '   ')"
   ]
  },
  {
   "cell_type": "code",
   "execution_count": 35,
   "metadata": {},
   "outputs": [
    {
     "name": "stdout",
     "output_type": "stream",
     "text": [
      "1 x 1 = 1\n",
      "1 x 2 = 2   2 x 2 = 4\n",
      "1 x 3 = 3   2 x 3 = 6    3 x 3 = 9\n",
      "1 x 4 = 4   2 x 4 = 8    3 x 4 = 12   4 x 4 = 16\n",
      "1 x 5 = 5   2 x 5 = 10   3 x 5 = 15   4 x 5 = 20   5 x 5 = 25\n",
      "1 x 6 = 6   2 x 6 = 12   3 x 6 = 18   4 x 6 = 24   5 x 6 = 30   6 x 6 = 36\n",
      "1 x 7 = 7   2 x 7 = 14   3 x 7 = 21   4 x 7 = 28   5 x 7 = 35   6 x 7 = 42   7 x 7 = 49\n",
      "1 x 8 = 8   2 x 8 = 16   3 x 8 = 24   4 x 8 = 32   5 x 8 = 40   6 x 8 = 48   7 x 8 = 56   8 x 8 = 64\n",
      "1 x 9 = 9   2 x 9 = 18   3 x 9 = 27   4 x 9 = 36   5 x 9 = 45   6 x 9 = 54   7 x 9 = 63   8 x 9 = 72   9 x 9 = 81\n"
     ]
    }
   ],
   "source": [
    "for i in range(1,10):\n",
    "    for m in range (1,i+1):\n",
    "        sum = i * m\n",
    "        if m < i:\n",
    "            if m == 3 and i ==4:\n",
    "                print('',m,'x',i,'=',sum, end='   ')\n",
    "            else:\n",
    "                print(m, 'x', i,  '=', sum ,end= '   ') \n",
    "        else:\n",
    "            if m==3:\n",
    "                print('', m, 'x',i, '=',sum)\n",
    "            else:\n",
    "                print(m, 'x', i, '=', sum)"
   ]
  },
  {
   "cell_type": "code",
   "execution_count": 45,
   "metadata": {},
   "outputs": [
    {
     "data": {
      "text/plain": [
       "[]"
      ]
     },
     "execution_count": 45,
     "metadata": {},
     "output_type": "execute_result"
    }
   ],
   "source": [
    "del L[0:2]\n",
    "L"
   ]
  },
  {
   "cell_type": "code",
   "execution_count": 47,
   "metadata": {},
   "outputs": [
    {
     "data": {
      "text/plain": [
       "['spam', 'Spam', 'SPAM!']"
      ]
     },
     "execution_count": 47,
     "metadata": {},
     "output_type": "execute_result"
    }
   ],
   "source": [
    "L = ['spam', 'Spam', 'SPAM!']\n",
    "L"
   ]
  },
  {
   "cell_type": "code",
   "execution_count": 49,
   "metadata": {},
   "outputs": [
    {
     "data": {
      "text/plain": [
       "\u001b[1;31mSignature:\u001b[0m \u001b[0mL\u001b[0m\u001b[1;33m.\u001b[0m\u001b[0minsert\u001b[0m\u001b[1;33m(\u001b[0m\u001b[0mindex\u001b[0m\u001b[1;33m,\u001b[0m \u001b[0mobject\u001b[0m\u001b[1;33m,\u001b[0m \u001b[1;33m/\u001b[0m\u001b[1;33m)\u001b[0m\u001b[1;33m\u001b[0m\u001b[1;33m\u001b[0m\u001b[0m\n",
       "\u001b[1;31mDocstring:\u001b[0m Insert object before index.\n",
       "\u001b[1;31mType:\u001b[0m      builtin_function_or_method\n"
      ]
     },
     "metadata": {},
     "output_type": "display_data"
    }
   ],
   "source": [
    "L.insert?"
   ]
  },
  {
   "cell_type": "code",
   "execution_count": 51,
   "metadata": {},
   "outputs": [
    {
     "data": {
      "text/plain": [
       "['spam', 'more', 'more', 'Spam', 'SPAM!']"
      ]
     },
     "execution_count": 51,
     "metadata": {},
     "output_type": "execute_result"
    }
   ],
   "source": [
    "L.insert(1,'more')\n",
    "L"
   ]
  },
  {
   "cell_type": "code",
   "execution_count": 53,
   "metadata": {},
   "outputs": [
    {
     "data": {
      "text/plain": [
       "['SPAM!', 'Spam', 'more', 'more', 'spam']"
      ]
     },
     "execution_count": 53,
     "metadata": {},
     "output_type": "execute_result"
    }
   ],
   "source": [
    "L.sort()\n",
    "L"
   ]
  },
  {
   "cell_type": "code",
   "execution_count": 55,
   "metadata": {},
   "outputs": [
    {
     "data": {
      "text/plain": [
       "\"'sp\""
      ]
     },
     "execution_count": 55,
     "metadata": {},
     "output_type": "execute_result"
    }
   ],
   "source": [
    "S[0] + S[1] + S[2]"
   ]
  },
  {
   "cell_type": "code",
   "execution_count": 56,
   "metadata": {},
   "outputs": [
    {
     "data": {
      "text/plain": [
       "\"'spam','Spam','SPAM!'\""
      ]
     },
     "execution_count": 56,
     "metadata": {},
     "output_type": "execute_result"
    }
   ],
   "source": [
    "S"
   ]
  },
  {
   "cell_type": "code",
   "execution_count": 63,
   "metadata": {},
   "outputs": [
    {
     "data": {
      "text/plain": [
       "\"'spam','Spam','SPAM!',more\""
      ]
     },
     "execution_count": 63,
     "metadata": {},
     "output_type": "execute_result"
    }
   ],
   "source": [
    "S1 = S + ',more'\n",
    "S1"
   ]
  },
  {
   "cell_type": "code",
   "execution_count": 65,
   "metadata": {},
   "outputs": [
    {
     "data": {
      "text/plain": [
       "['SPAM!', 'Spam', 'more', 'more', 'spam']"
      ]
     },
     "execution_count": 65,
     "metadata": {},
     "output_type": "execute_result"
    }
   ],
   "source": [
    "L.reverse()\n",
    "L"
   ]
  },
  {
   "cell_type": "code",
   "execution_count": 70,
   "metadata": {},
   "outputs": [],
   "source": [
    "S = ''\n",
    "for i in L:\n",
    "    S = S + i + ','"
   ]
  },
  {
   "cell_type": "code",
   "execution_count": 71,
   "metadata": {},
   "outputs": [
    {
     "data": {
      "text/plain": [
       "'SPAM!,Spam,more,more,spam,'"
      ]
     },
     "execution_count": 71,
     "metadata": {},
     "output_type": "execute_result"
    }
   ],
   "source": [
    "S"
   ]
  },
  {
   "cell_type": "code",
   "execution_count": 76,
   "metadata": {},
   "outputs": [
    {
     "data": {
      "text/plain": [
       "\"SPAM!','Spam','more','more','spam\""
      ]
     },
     "execution_count": 76,
     "metadata": {},
     "output_type": "execute_result"
    }
   ],
   "source": [
    "S = \"\"\"','\"\"\".join(L)\n",
    "S"
   ]
  },
  {
   "cell_type": "code",
   "execution_count": 78,
   "metadata": {},
   "outputs": [
    {
     "data": {
      "text/plain": [
       "\"'SPAM!','Spam','more','more','spam'\""
      ]
     },
     "execution_count": 78,
     "metadata": {},
     "output_type": "execute_result"
    }
   ],
   "source": [
    "S1 = \"\"\"'\"\"\" + S + \"\"\"'\"\"\"\n",
    "S1"
   ]
  },
  {
   "cell_type": "code",
   "execution_count": 79,
   "metadata": {},
   "outputs": [
    {
     "data": {
      "text/plain": [
       "(\"'SPAM!','Spam','more','more','spam'\",\n",
       " ['SPAM!', 'Spam', 'more', 'more', 'spam'])"
      ]
     },
     "execution_count": 79,
     "metadata": {},
     "output_type": "execute_result"
    }
   ],
   "source": [
    "S1, L"
   ]
  },
  {
   "cell_type": "code",
   "execution_count": 83,
   "metadata": {},
   "outputs": [
    {
     "name": "stdout",
     "output_type": "stream",
     "text": [
      "['SPAM!', 'eggs', 'more', 'more', 'spam'] 'SPAM!','eggs','more','more','spam' 'SPAM!','Spam','more','more','spam'\n"
     ]
    }
   ],
   "source": [
    "L[1] = 'eggs'   # Index assignment\n",
    "S2 = S1.replace('Spam','eggs')  # you have to make a new copy\n",
    "print(L, S2,S1)"
   ]
  },
  {
   "cell_type": "code",
   "execution_count": 85,
   "metadata": {},
   "outputs": [],
   "source": [
    "L[0:2] = ['eat','more'] # Slice assigment: delete + insert"
   ]
  },
  {
   "cell_type": "code",
   "execution_count": 86,
   "metadata": {},
   "outputs": [
    {
     "data": {
      "text/plain": [
       "['eat', 'more', 'more', 'more', 'spam']"
      ]
     },
     "execution_count": 86,
     "metadata": {},
     "output_type": "execute_result"
    }
   ],
   "source": [
    "L"
   ]
  },
  {
   "cell_type": "markdown",
   "metadata": {},
   "source": [
    "Both index and slice assignments are in-place changes--they modify the subject list directly, rather than generating a new list object for the result. "
   ]
  },
  {
   "cell_type": "markdown",
   "metadata": {},
   "source": [
    "## List method calls"
   ]
  },
  {
   "cell_type": "code",
   "execution_count": 4,
   "metadata": {},
   "outputs": [],
   "source": [
    "L = ['eat','more', 'spam']"
   ]
  },
  {
   "cell_type": "code",
   "execution_count": 5,
   "metadata": {},
   "outputs": [],
   "source": [
    "L.append('please')"
   ]
  },
  {
   "cell_type": "code",
   "execution_count": 6,
   "metadata": {},
   "outputs": [
    {
     "data": {
      "text/plain": [
       "['eat', 'more', 'spam', 'please']"
      ]
     },
     "execution_count": 6,
     "metadata": {},
     "output_type": "execute_result"
    }
   ],
   "source": [
    "L"
   ]
  },
  {
   "cell_type": "code",
   "execution_count": 7,
   "metadata": {},
   "outputs": [
    {
     "data": {
      "text/plain": [
       "['eat', 'more', 'please', 'spam']"
      ]
     },
     "execution_count": 7,
     "metadata": {},
     "output_type": "execute_result"
    }
   ],
   "source": [
    "L.sort()\n",
    "L"
   ]
  },
  {
   "cell_type": "code",
   "execution_count": 8,
   "metadata": {},
   "outputs": [],
   "source": [
    "L = ['abc','ABD','aBe'] # Sort with mixed case\n",
    "L.sort()"
   ]
  },
  {
   "cell_type": "code",
   "execution_count": 9,
   "metadata": {},
   "outputs": [
    {
     "data": {
      "text/plain": [
       "['ABD', 'aBe', 'abc']"
      ]
     },
     "execution_count": 9,
     "metadata": {},
     "output_type": "execute_result"
    }
   ],
   "source": [
    "L"
   ]
  },
  {
   "cell_type": "code",
   "execution_count": 15,
   "metadata": {},
   "outputs": [
    {
     "name": "stdout",
     "output_type": "stream",
     "text": [
      "65 => A  \t66 => B  \t68 => D  \t97 => a  \t66 => B  \t101 => e  \t97 => a  \t98 => b  \t99 => c  \t"
     ]
    }
   ],
   "source": [
    "for i in L:                         \n",
    "    for j in i:\n",
    "        print(ord(j),'=>',j, end='  \\t')"
   ]
  },
  {
   "cell_type": "markdown",
   "metadata": {},
   "source": [
    "Another commonly seen method, sort, orders a list in place; it uses Python standard comparsion tests (here, string comparsion), and by default sorts in ascending order."
   ]
  },
  {
   "cell_type": "code",
   "execution_count": 17,
   "metadata": {},
   "outputs": [],
   "source": [
    "L[2:5] = L[3:6]"
   ]
  },
  {
   "cell_type": "code",
   "execution_count": 18,
   "metadata": {},
   "outputs": [
    {
     "data": {
      "text/plain": [
       "['ABD', 'aBe']"
      ]
     },
     "execution_count": 18,
     "metadata": {},
     "output_type": "execute_result"
    }
   ],
   "source": [
    "L"
   ]
  },
  {
   "cell_type": "markdown",
   "metadata": {},
   "source": [
    "This description needs to be clarified. We should realize that the value to be inserted is fetched before the deletion happens on the left"
   ]
  },
  {
   "cell_type": "code",
   "execution_count": 19,
   "metadata": {},
   "outputs": [
    {
     "data": {
      "text/plain": [
       "['ABD', 'aBe', 'ABd']"
      ]
     },
     "execution_count": 19,
     "metadata": {},
     "output_type": "execute_result"
    }
   ],
   "source": [
    "L[len(L):] = ['ABd']\n",
    "L"
   ]
  },
  {
   "cell_type": "code",
   "execution_count": 21,
   "metadata": {},
   "outputs": [
    {
     "data": {
      "text/plain": [
       "['aBd', 'aBd', 'ABD', 'aBe', 'ABd']"
      ]
     },
     "execution_count": 21,
     "metadata": {},
     "output_type": "execute_result"
    }
   ],
   "source": [
    "L[:0]= ['aBd']\n",
    "L"
   ]
  },
  {
   "cell_type": "markdown",
   "metadata": {},
   "source": [
    "Unlike + concatenation, append does't have to generate new objects, so it's ususally faster. You can also use the clever assignments: L[len(L):]=[x] is like L.append(X), and L[:0]=[X] is like appending at the front of a list. Both delete an empty slice and insert X, changing L in-place quickly, like append."
   ]
  },
  {
   "cell_type": "code",
   "execution_count": 22,
   "metadata": {},
   "outputs": [],
   "source": [
    "L.sort(key=str.lower)"
   ]
  },
  {
   "cell_type": "code",
   "execution_count": 23,
   "metadata": {},
   "outputs": [
    {
     "data": {
      "text/plain": [
       "['aBd', 'aBd', 'ABD', 'ABd', 'aBe']"
      ]
     },
     "execution_count": 23,
     "metadata": {},
     "output_type": "execute_result"
    }
   ],
   "source": [
    "L"
   ]
  },
  {
   "cell_type": "code",
   "execution_count": 24,
   "metadata": {},
   "outputs": [],
   "source": [
    "L = ['abc','ABD','aBe']\n",
    "L.sort(key=str.lower, reverse = True)"
   ]
  },
  {
   "cell_type": "code",
   "execution_count": 25,
   "metadata": {},
   "outputs": [
    {
     "data": {
      "text/plain": [
       "['aBe', 'ABD', 'abc']"
      ]
     },
     "execution_count": 25,
     "metadata": {},
     "output_type": "execute_result"
    }
   ],
   "source": [
    "L"
   ]
  },
  {
   "cell_type": "code",
   "execution_count": 26,
   "metadata": {},
   "outputs": [],
   "source": [
    "L.sort(key=str.lower)"
   ]
  },
  {
   "cell_type": "code",
   "execution_count": 27,
   "metadata": {},
   "outputs": [
    {
     "data": {
      "text/plain": [
       "['abc', 'ABD', 'aBe']"
      ]
     },
     "execution_count": 27,
     "metadata": {},
     "output_type": "execute_result"
    }
   ],
   "source": [
    "L"
   ]
  },
  {
   "cell_type": "code",
   "execution_count": 32,
   "metadata": {},
   "outputs": [
    {
     "name": "stdout",
     "output_type": "stream",
     "text": [
      "<class 'list'>\n"
     ]
    }
   ],
   "source": [
    "print(type(\"\"\"You can modify sort behavior by passing in keyword arguments—a special “name=value” syntax in function calls that specifies passing by name and is often used for giving configuration options. In sorts, the key argument gives a one-argument function that returns the value to be used in sorting, and the reverse argument allows sorts\n",
    "to be made in descending instead of ascending order\"\"\".split()))\n",
    "S =\"\"\"You can modify sort behavior by passing in keyword arguments—a special\n",
    "“name=value” syntax in function calls that specifies passing by name and is often used\n",
    "for giving configuration options. In sorts, the key argument gives a one-argument function that returns the value to be used in sorting, and the reverse argument allows sorts\n",
    "to be made in descending instead of ascending order\"\"\""
   ]
  },
  {
   "cell_type": "code",
   "execution_count": 30,
   "metadata": {},
   "outputs": [
    {
     "data": {
      "text/plain": [
       "384"
      ]
     },
     "execution_count": 30,
     "metadata": {},
     "output_type": "execute_result"
    }
   ],
   "source": [
    "len(S)"
   ]
  },
  {
   "cell_type": "code",
   "execution_count": 33,
   "metadata": {},
   "outputs": [],
   "source": [
    "L = \"\"\"You can modify sort behavior by passing in keyword arguments—a special “name=value” syntax in function calls that specifies passing by name and is often used for giving configuration options. In sorts, the key argument gives a one-argument function that returns the value to be used in sorting, and the reverse argument allows sorts\n",
    "to be made in descending instead of ascending order\"\"\".split()"
   ]
  },
  {
   "cell_type": "code",
   "execution_count": 34,
   "metadata": {},
   "outputs": [
    {
     "name": "stdout",
     "output_type": "stream",
     "text": [
      "['You', 'can', 'modify', 'sort', 'behavior', 'by', 'passing', 'in', 'keyword', 'arguments—a', 'special', '“name=value”', 'syntax', 'in', 'function', 'calls', 'that', 'specifies', 'passing', 'by', 'name', 'and', 'is', 'often', 'used', 'for', 'giving', 'configuration', 'options.', 'In', 'sorts,', 'the', 'key', 'argument', 'gives', 'a', 'one-argument', 'function', 'that', 'returns', 'the', 'value', 'to', 'be', 'used', 'in', 'sorting,', 'and', 'the', 'reverse', 'argument', 'allows', 'sorts', 'to', 'be', 'made', 'in', 'descending', 'instead', 'of', 'ascending', 'order']\n"
     ]
    }
   ],
   "source": [
    "print(L)"
   ]
  },
  {
   "cell_type": "code",
   "execution_count": 35,
   "metadata": {},
   "outputs": [],
   "source": [
    "L.sort(key=str.lower)"
   ]
  },
  {
   "cell_type": "code",
   "execution_count": 37,
   "metadata": {},
   "outputs": [
    {
     "name": "stdout",
     "output_type": "stream",
     "text": [
      "['a', 'allows', 'and', 'and', 'argument', 'argument', 'arguments—a', 'ascending', 'be', 'be', 'behavior', 'by', 'by', 'calls', 'can', 'configuration', 'descending', 'for', 'function', 'function', 'gives', 'giving', 'in', 'in', 'In', 'in', 'in', 'instead', 'is', 'key', 'keyword', 'made', 'modify', 'name', 'of', 'often', 'one-argument', 'options.', 'order', 'passing', 'passing', 'returns', 'reverse', 'sort', 'sorting,', 'sorts', 'sorts,', 'special', 'specifies', 'syntax', 'that', 'that', 'the', 'the', 'the', 'to', 'to', 'used', 'used', 'value', 'You', '“name=value”']"
     ]
    }
   ],
   "source": [
    "print(L,end='')"
   ]
  },
  {
   "cell_type": "code",
   "execution_count": 38,
   "metadata": {},
   "outputs": [],
   "source": [
    "L = \"\"\"You can modify sort behavior by passing in keyword arguments—a special “name=value” syntax in function calls that specifies passing by name and is often used for giving configuration options. In sorts, the key argument gives a one-argument function that returns the value to be used in sorting, and the reverse argument allows sorts\n",
    "to be made in descending instead of ascending order\"\"\".split()"
   ]
  },
  {
   "cell_type": "code",
   "execution_count": 40,
   "metadata": {},
   "outputs": [
    {
     "name": "stdout",
     "output_type": "stream",
     "text": [
      "['“name=value”', 'You', 'value', 'used', 'used', 'to', 'to', 'the', 'the', 'the', 'that', 'that', 'syntax', 'specifies', 'special', 'sorts,', 'sorts', 'sorting,', 'sort', 'reverse', 'returns', 'passing', 'passing', 'order', 'options.', 'one-argument', 'often', 'of', 'name', 'modify', 'made', 'keyword', 'key', 'is', 'instead', 'in', 'in', 'In', 'in', 'in', 'giving', 'gives', 'function', 'function', 'for', 'descending', 'configuration', 'can', 'calls', 'by', 'by', 'behavior', 'be', 'be', 'ascending', 'arguments—a', 'argument', 'argument', 'and', 'and', 'allows', 'a']\n"
     ]
    }
   ],
   "source": [
    "L.sort(key=str.lower, reverse = True)\n",
    "print(L)"
   ]
  },
  {
   "cell_type": "code",
   "execution_count": 1,
   "metadata": {},
   "outputs": [
    {
     "data": {
      "text/plain": [
       "['aBe', 'ABD', 'abc']"
      ]
     },
     "execution_count": 1,
     "metadata": {},
     "output_type": "execute_result"
    }
   ],
   "source": [
    "L = ['abc','ABD','aBe']\n",
    "sorted(L, key = str.lower, reverse = True)"
   ]
  },
  {
   "cell_type": "code",
   "execution_count": 4,
   "metadata": {},
   "outputs": [],
   "source": [
    "# [1,2,3,'spam'].sort() # '<' not supported between instances of 'str' and 'int'"
   ]
  },
  {
   "cell_type": "markdown",
   "metadata": {},
   "source": [
    "In Python 3.0, comparison of mixed types doesn't work."
   ]
  },
  {
   "cell_type": "code",
   "execution_count": 2,
   "metadata": {},
   "outputs": [],
   "source": [
    "L = \"\"\"You can modify sort behavior by passing in keyword arguments—a special “name=value” syntax in function calls that specifies passing by name and is often used for giving configuration options. In sorts, the key argument gives a one-argument function that returns the value to be used in sorting, and the reverse argument allows sorts\n",
    "to be made in descending instead of ascending order\"\"\".split()"
   ]
  },
  {
   "cell_type": "code",
   "execution_count": 5,
   "metadata": {},
   "outputs": [
    {
     "name": "stdout",
     "output_type": "stream",
     "text": [
      "['You', 'can', 'modify', 'sort', 'behavior', 'by', 'passing', 'in', 'keyword', 'arguments—a', 'special', '“name=value”', 'syntax', 'in', 'function', 'calls', 'that', 'specifies', 'passing', 'by', 'name', 'and', 'is', 'often', 'used', 'for', 'giving', 'configuration', 'options.', 'In', 'sorts,', 'the', 'key', 'argument', 'gives', 'a', 'one-argument', 'function', 'that', 'returns', 'the', 'value', 'to', 'be', 'used', 'in', 'sorting,', 'and', 'the', 'reverse', 'argument', 'allows', 'sorts', 'to', 'be', 'made', 'in', 'descending', 'instead', 'of', 'ascending', 'order'] \n",
      "\n",
      "['You', 'can', 'modify', 'sort', 'behavior', 'by', 'passing', 'in', 'keyword', 'arguments—a', 'special', '“name=value”', 'syntax', 'in', 'function', 'calls', 'that', 'specifies', 'passing', 'by', 'name', 'and', 'is', 'often', 'used', 'for', 'giving', 'configuration', 'options.', 'In', 'sorts,', 'the', 'key', 'argument', 'gives', 'a', 'one-argument', 'function', 'that', 'returns', 'the', 'value', 'to', 'be', 'used', 'in', 'sorting,', 'and', 'the', 'reverse', 'argument', 'allows', 'sorts', 'to', 'be', 'made', 'in', 'descending', 'instead', 'of', 'ascending', 'order'] \n",
      "\n",
      "['“name=value”', 'you', 'value', 'used', 'used', 'to', 'to', 'the', 'the', 'the', 'that', 'that', 'syntax', 'specifies', 'special', 'sorts,', 'sorts', 'sorting,', 'sort', 'reverse', 'returns', 'passing', 'passing', 'order', 'options.', 'one-argument', 'often', 'of', 'name', 'modify', 'made', 'keyword', 'key', 'is', 'instead', 'in', 'in', 'in', 'in', 'in', 'giving', 'gives', 'function', 'function', 'for', 'descending', 'configuration', 'can', 'calls', 'by', 'by', 'behavior', 'be', 'be', 'ascending', 'arguments—a', 'argument', 'argument', 'and', 'and', 'allows', 'a'] "
     ]
    }
   ],
   "source": [
    "print(L,end=' ')\n",
    "sorted(L,key = str.lower, reverse = True)  # Sorting built-in\n",
    "print('\\n')\n",
    "print(L, end = ' ')\n",
    "print('\\n')\n",
    "print(sorted([x.lower() for x in L], reverse = True), end = ' ')# Pretransform itemsL differs!"
   ]
  },
  {
   "cell_type": "code",
   "execution_count": 6,
   "metadata": {},
   "outputs": [
    {
     "data": {
      "text/plain": [
       "[1, 2, 3, 4, 5]"
      ]
     },
     "execution_count": 6,
     "metadata": {},
     "output_type": "execute_result"
    }
   ],
   "source": [
    "L = [1,2] \n",
    "L.extend([3,4,5]) # Add many items at end \n",
    "L"
   ]
  },
  {
   "cell_type": "code",
   "execution_count": 8,
   "metadata": {},
   "outputs": [
    {
     "data": {
      "text/plain": [
       "4"
      ]
     },
     "execution_count": 8,
     "metadata": {},
     "output_type": "execute_result"
    }
   ],
   "source": [
    "L.pop()  # Delete and return last items"
   ]
  },
  {
   "cell_type": "code",
   "execution_count": 9,
   "metadata": {},
   "outputs": [
    {
     "data": {
      "text/plain": [
       "[1, 2, 3]"
      ]
     },
     "execution_count": 9,
     "metadata": {},
     "output_type": "execute_result"
    }
   ],
   "source": [
    "L"
   ]
  },
  {
   "cell_type": "code",
   "execution_count": 10,
   "metadata": {},
   "outputs": [],
   "source": [
    "L.reverse() # In-place reversal method"
   ]
  },
  {
   "cell_type": "code",
   "execution_count": 11,
   "metadata": {},
   "outputs": [
    {
     "data": {
      "text/plain": [
       "[3, 2, 1]"
      ]
     },
     "execution_count": 11,
     "metadata": {},
     "output_type": "execute_result"
    }
   ],
   "source": [
    "L"
   ]
  },
  {
   "cell_type": "code",
   "execution_count": 12,
   "metadata": {},
   "outputs": [
    {
     "data": {
      "text/plain": [
       "[1, 2, 3]"
      ]
     },
     "execution_count": 12,
     "metadata": {},
     "output_type": "execute_result"
    }
   ],
   "source": [
    "list(reversed(L))  # Reversal built-in with a result"
   ]
  },
  {
   "cell_type": "code",
   "execution_count": 125,
   "metadata": {},
   "outputs": [],
   "source": [
    "L = [1,2,3]\n",
    "L.extend(\"\"\"Like strings, lists have other methods that perform other specialized operations. For\n",
    "instance, reverse reverses the list in-place, and the extend and pop methods insert multiple items at the end of and delete an item from the end of the list, respectively.\"\"\".split())"
   ]
  },
  {
   "cell_type": "code",
   "execution_count": 14,
   "metadata": {},
   "outputs": [
    {
     "name": "stdout",
     "output_type": "stream",
     "text": [
      "[1, 2, 3, 'Like', 'strings,', 'lists', 'have', 'other', 'methods', 'that', 'perform', 'other', 'specialized', 'operations.', 'For', 'instance,', 'reverse', 'reverses', 'the', 'list', 'in-place,', 'and', 'the', 'extend', 'and', 'pop', 'methods', 'insert', 'multiple', 'items', 'at', 'the', 'end', 'of', 'and', 'delete', 'an', 'item', 'from', 'the', 'end', 'of', 'the', 'list,', 'respectively.']\n"
     ]
    }
   ],
   "source": [
    "print(L)"
   ]
  },
  {
   "cell_type": "markdown",
   "metadata": {},
   "source": [
    "In some types of programs, the list pop method used here is often used in conjunction with append to implement a quick last-in-first-out (LIFO) stack structure. The end of the list severes as the top of the stack:"
   ]
  },
  {
   "cell_type": "code",
   "execution_count": 126,
   "metadata": {},
   "outputs": [
    {
     "name": "stdout",
     "output_type": "stream",
     "text": [
      "['In', 'some', 'types', 'of', 'programs,', 'the', 'list', 'pop', 'method', 'used', 'here', 'is', 'often', 'used', 'in', 'conjunction', 'with', 'append', 'to', 'implement', 'a', 'quick', 'last-in-first-out', '(LIFO)', 'stack', 'structure.', 'The', 'end', 'of', 'the', 'list', 'serves', 'as', 'the', 'top', 'of', 'the', 'stack']\n"
     ]
    }
   ],
   "source": [
    "L = [] # A list\n",
    "L = \"\"\"In some types of programs, the list pop method used here is often used in conjunction\n",
    "with append to implement a quick last-in-first-out (LIFO) stack structure. The end of\n",
    "the list serves as the top of the stack\"\"\".split()\n",
    "print(L)"
   ]
  },
  {
   "cell_type": "code",
   "execution_count": 127,
   "metadata": {},
   "outputs": [],
   "source": [
    "L1 = []\n",
    "for i in L:\n",
    "    L1.append(i)"
   ]
  },
  {
   "cell_type": "code",
   "execution_count": 128,
   "metadata": {},
   "outputs": [
    {
     "name": "stdout",
     "output_type": "stream",
     "text": [
      "['In', 'some', 'types', 'of', 'programs,', 'the', 'list', 'pop', 'method', 'used', 'here', 'is', 'often', 'used', 'in', 'conjunction', 'with', 'append', 'to', 'implement', 'a', 'quick', 'last-in-first-out', '(LIFO)', 'stack', 'structure.', 'The', 'end', 'of', 'the', 'list', 'serves', 'as', 'the', 'top', 'of', 'the', 'stack']\n"
     ]
    }
   ],
   "source": [
    "print(L1)"
   ]
  },
  {
   "cell_type": "code",
   "execution_count": 122,
   "metadata": {},
   "outputs": [],
   "source": [
    "for i in L1:\n",
    "    print(L1.pop(),'=>', i , end = ' \\t')"
   ]
  },
  {
   "cell_type": "code",
   "execution_count": 129,
   "metadata": {},
   "outputs": [
    {
     "name": "stdout",
     "output_type": "stream",
     "text": [
      "stack \tthe \tof \ttop \tthe \tas \tserves \tlist \tthe \tof \tend \tThe \tstructure. \tstack \t(LIFO) \tlast-in-first-out \tquick \ta \timplement \tto \tappend \twith \tconjunction \tin \tused \toften \tis \there \tused \tmethod \tpop \tlist \tthe \tprograms, \tof \ttypes \tsome \tIn \t"
     ]
    }
   ],
   "source": [
    "for i in range(len(L1)):\n",
    "    print(L1.pop(), end = ' \\t')"
   ]
  },
  {
   "cell_type": "code",
   "execution_count": 130,
   "metadata": {},
   "outputs": [],
   "source": [
    "L.index('of')\n",
    "L2 = \"\"\"The pop method also accepts an optional offset of the item to be deleted and returned\n",
    "(the default is the last item). Other list methods remove an item by value (remove), insert\n",
    "an item at an offset (insert), search for an item’s offset (index), and more\"\"\".split()"
   ]
  },
  {
   "cell_type": "code",
   "execution_count": 131,
   "metadata": {},
   "outputs": [
    {
     "name": "stdout",
     "output_type": "stream",
     "text": [
      "['In', 'some', 'types', 'of', 'programs,', 'the', 'list', 'pop', 'method', 'used', 'here', 'is', 'often', 'used', 'in', 'conjunction', 'with', 'append', 'to', 'implement', 'a', 'quick', 'last-in-first-out', '(LIFO)', 'stack', 'structure.', 'The', 'end', 'of', 'the', 'list', 'serves', 'as', 'the', 'top', 'of', 'the', 'stack']  \n",
      " \n",
      " ['The', 'pop', 'method', 'also', 'accepts', 'an', 'optional', 'offset', 'of', 'the', 'item', 'to', 'be', 'deleted', 'and', 'returned', '(the', 'default', 'is', 'the', 'last', 'item).', 'Other', 'list', 'methods', 'remove', 'an', 'item', 'by', 'value', '(remove),', 'insert', 'an', 'item', 'at', 'an', 'offset', '(insert),', 'search', 'for', 'an', 'item’s', 'offset', '(index),', 'and', 'more']\n"
     ]
    }
   ],
   "source": [
    "len(L), len(L2)\n",
    "print(L,' \\n','\\n', L2)"
   ]
  },
  {
   "cell_type": "code",
   "execution_count": 132,
   "metadata": {},
   "outputs": [],
   "source": [
    "j = 1\n",
    "for i in L:\n",
    "        L2.insert(j, i)\n",
    "        if j <= len(L):\n",
    "            j = j + 2"
   ]
  },
  {
   "cell_type": "code",
   "execution_count": 133,
   "metadata": {},
   "outputs": [
    {
     "name": "stdout",
     "output_type": "stream",
     "text": [
      "['The', 'In', 'pop', 'some', 'method', 'types', 'also', 'of', 'accepts', 'programs,', 'an', 'the', 'optional', 'list', 'offset', 'pop', 'of', 'method', 'the', 'used', 'item', 'here', 'to', 'is', 'be', 'often', 'deleted', 'used', 'and', 'in', 'returned', 'conjunction', '(the', 'with', 'default', 'append', 'is', 'to', 'the', 'stack', 'the', 'of', 'top', 'the', 'as', 'serves', 'list', 'the', 'of', 'end', 'The', 'structure.', 'stack', '(LIFO)', 'last-in-first-out', 'quick', 'a', 'implement', 'last', 'item).', 'Other', 'list', 'methods', 'remove', 'an', 'item', 'by', 'value', '(remove),', 'insert', 'an', 'item', 'at', 'an', 'offset', '(insert),', 'search', 'for', 'an', 'item’s', 'offset', '(index),', 'and', 'more'] "
     ]
    }
   ],
   "source": [
    "print(L2, end = ' ')"
   ]
  },
  {
   "cell_type": "code",
   "execution_count": 134,
   "metadata": {},
   "outputs": [
    {
     "name": "stdout",
     "output_type": "stream",
     "text": [
      "True -> 1       \tTrue -> 3       \tTrue -> 5       \tTrue -> 7       \tTrue -> 9       \tTrue -> 11       \tTrue -> 13       \tTrue -> 15       \tTrue -> 17       \tTrue -> 19       \tTrue -> 21       \tTrue -> 23       \tTrue -> 25       \tTrue -> 27       \tTrue -> 29       \tTrue -> 31       \tTrue -> 33       \tTrue -> 35       \tTrue -> 37       \t"
     ]
    }
   ],
   "source": [
    "k = 0\n",
    "for i in L2:\n",
    "    if k <= len(L):\n",
    "        if k%2 != 0:\n",
    "            print(L[int((k-1)/2)] == i, '->',k, end = '       \\t')\n",
    "    k = k + 1"
   ]
  },
  {
   "cell_type": "code",
   "execution_count": 135,
   "metadata": {},
   "outputs": [
    {
     "data": {
      "text/plain": [
       "(84, 38)"
      ]
     },
     "execution_count": 135,
     "metadata": {},
     "output_type": "execute_result"
    }
   ],
   "source": [
    "len(L2), len(L)"
   ]
  },
  {
   "cell_type": "code",
   "execution_count": 136,
   "metadata": {},
   "outputs": [
    {
     "name": "stdout",
     "output_type": "stream",
     "text": [
      "['The', 'In', 'pop', 'some', 'method', 'types', 'also', 'of', 'accepts', 'programs,', 'an', 'the', 'optional', 'list', 'offset', 'pop', 'of', 'method', 'the', 'used', 'item', 'here', 'to', 'is', 'be', 'often', 'deleted', 'used', 'and', 'in', 'returned', 'conjunction', '(the', 'with', 'default', 'append', 'is', 'to', 'the', 'stack', 'the', 'of', 'top', 'the', 'as', 'serves', 'list', 'the', 'of', 'end', 'The', 'structure.', 'stack', '(LIFO)', 'last-in-first-out', 'quick', 'a', 'implement', 'last', 'item).', 'Other', 'list', 'methods', 'remove', 'an', 'item', 'by', 'value', '(remove),', 'insert', 'an', 'item', 'at', 'an', 'offset', '(insert),', 'search', 'for', 'an', 'item’s', 'offset', '(index),', 'and', 'more'] "
     ]
    }
   ],
   "source": [
    "print(L2, end =' ')"
   ]
  },
  {
   "cell_type": "code",
   "execution_count": 137,
   "metadata": {},
   "outputs": [
    {
     "name": "stdout",
     "output_type": "stream",
     "text": [
      "4\n",
      "None\n",
      "3\n"
     ]
    }
   ],
   "source": [
    "print(L2.count('of'))\n",
    "print(L2.remove('of'))\n",
    "print(L2.count('of'))"
   ]
  },
  {
   "cell_type": "code",
   "execution_count": 165,
   "metadata": {},
   "outputs": [
    {
     "data": {
      "text/plain": [
       "2"
      ]
     },
     "execution_count": 165,
     "metadata": {},
     "output_type": "execute_result"
    }
   ],
   "source": [
    "L2.count('of')"
   ]
  },
  {
   "cell_type": "code",
   "execution_count": 2,
   "metadata": {},
   "outputs": [],
   "source": [
    "from numpy import *"
   ]
  },
  {
   "cell_type": "code",
   "execution_count": 191,
   "metadata": {},
   "outputs": [],
   "source": [
    "for i in range(random.randint(4,100)):\n",
    "    L2.insert(random.randint(len(L2)),'of')"
   ]
  },
  {
   "cell_type": "code",
   "execution_count": 192,
   "metadata": {},
   "outputs": [
    {
     "name": "stdout",
     "output_type": "stream",
     "text": [
      "['The', 'of', 'In', 'pop', 'some', 'of', 'method', 'types', 'also', 'accepts', 'programs,', 'of', 'an', 'the', 'optional', 'list', 'offset', 'pop', 'method', 'the', 'used', 'item', 'here', 'to', 'is', 'of', 'be', 'often', 'deleted', 'of', 'used', 'and', 'in', 'returned', 'conjunction', '(the', 'with', 'default', 'append', 'is', 'of', 'of', 'of', 'to', 'the', 'stack', 'the', 'of', 'of', 'top', 'the', 'as', 'serves', 'list', 'the', 'of', 'end', 'The', 'structure.', 'stack', '(LIFO)', 'last-in-first-out', 'of', 'quick', 'a', 'of', 'implement', 'last', 'item).', 'of', 'Other', 'list', 'methods', 'remove', 'of', 'an', 'item', 'of', 'by', 'value', '(remove),', 'insert', 'an', 'item', 'at', 'of', 'an', 'offset', '(insert),', 'of', 'of', 'search', 'for', 'an', 'item’s', 'offset', '(index),', 'and', 'more']\n"
     ]
    }
   ],
   "source": [
    "print(L2)"
   ]
  },
  {
   "cell_type": "code",
   "execution_count": 8,
   "metadata": {},
   "outputs": [
    {
     "name": "stdout",
     "output_type": "stream",
     "text": [
      "166729 166597 166249 166472 166773 167180 1000000\n"
     ]
    }
   ],
   "source": [
    "a = 0\n",
    "b = 0\n",
    "c = 0\n",
    "d = 0\n",
    "e = 0\n",
    "f = 0\n",
    "for i in range(1000000):\n",
    "    k = random.randint(1,7,1)\n",
    "    if k == 1:\n",
    "        a = a + 1\n",
    "    elif k ==2:\n",
    "        b = b + 1\n",
    "    elif k ==3:\n",
    "        c = c + 1\n",
    "    elif k == 4:\n",
    "        d = d + 1\n",
    "    elif k == 5:\n",
    "        e = e + 1\n",
    "    elif k == 6:\n",
    "        f = f + 1\n",
    "print(a, b, c, d, e, f, a+b+c+d+e+f)"
   ]
  },
  {
   "cell_type": "code",
   "execution_count": 212,
   "metadata": {},
   "outputs": [
    {
     "name": "stdout",
     "output_type": "stream",
     "text": [
      "2 1 2 2 6 4 3 2 1 4 1 1 5 5 2 2 2 1 1 6 4 1 1 1 4 6 3 2 4 1 1 5 3 2 1 2 4 1 2 5 2 4 4 1 4 3 5 4 2 4 4 3 6 3 3 2 3 1 2 4 4 5 2 5 3 2 1 5 1 2 5 6 2 6 5 6 6 3 3 2 1 5 5 5 3 6 3 1 4 6 2 5 6 3 5 3 3 2 6 2 3 3 1 5 3 6 4 5 5 4 2 3 4 3 4 4 5 5 2 2 3 5 1 2 1 1 1 5 6 5 6 2 5 3 6 5 2 5 1 4 3 6 6 6 2 1 5 2 2 4 5 3 6 2 5 5 3 3 3 1 2 6 6 1 4 4 6 2 4 2 3 6 6 6 6 2 5 4 6 1 2 1 1 5 4 5 4 4 1 6 1 4 2 6 5 3 5 1 3 3 1 3 4 4 2 1 5 5 5 4 2 6 6 1 6 3 4 6 1 1 6 3 5 2 4 1 5 3 5 1 3 5 3 3 1 5 2 6 4 1 2 6 5 2 1 5 5 3 4 5 2 2 5 4 4 5 6 5 6 2 4 5 1 5 4 6 1 1 2 2 5 2 1 4 4 3 5 3 5 4 3 1 1 6 1 2 6 2 5 5 6 2 3 1 1 5 6 5 6 2 6 3 6 3 6 6 5 4 3 6 5 5 6 1 2 6 1 5 5 1 3 3 1 6 4 1 6 1 2 5 4 3 1 4 6 5 2 6 3 4 4 6 5 2 5 4 6 2 1 6 2 6 1 6 3 3 5 2 3 4 5 6 1 4 5 1 6 3 2 4 2 6 3 3 4 3 3 4 4 5 5 5 5 2 3 3 1 2 1 2 3 6 4 3 1 6 1 1 4 5 2 6 3 1 1 1 5 2 4 5 5 1 2 1 4 4 6 6 5 4 4 2 5 5 6 4 6 2 6 5 1 1 4 1 2 6 6 4 1 5 6 1 5 2 2 1 3 1 2 5 2 5 6 5 6 4 1 6 1 3 4 2 1 6 1 4 3 3 2 4 6 6 4 6 4 2 6 6 6 6 3 6 5 5 5 4 4 3 3 5 3 2 5 6 6 1 4 5 4 5 2 1 4 5 3 4 3 2 2 2 3 4 3 2 4 1 6 1 1 1 6 4 6 2 5 5 2 5 1 3 2 5 2 6 6 2 2 1 5 5 3 4 5 1 3 6 3 6 6 5 5 2 4 6 2 4 2 1 4 4 6 5 3 1 4 3 1 5 4 6 2 4 3 1 3 3 3 3 5 6 1 3 2 6 1 3 2 3 2 5 6 3 6 4 5 2 4 1 4 5 4 3 1 3 6 1 2 2 3 2 4 1 4 2 1 4 2 6 2 2 2 6 3 6 1 2 6 2 3 2 5 1 5 2 4 3 6 1 3 5 2 2 2 5 1 5 3 4 2 6 6 6 4 6 5 5 6 1 1 4 2 6 6 2 1 2 5 2 3 1 1 3 6 1 1 4 5 2 4 4 6 5 3 6 4 4 3 6 4 2 5 6 2 3 5 3 6 3 5 4 3 5 6 5 3 3 4 3 5 5 5 1 6 4 4 3 3 5 6 5 6 6 6 6 1 1 4 3 1 1 1 6 1 3 6 3 3 4 4 5 1 2 1 1 5 6 5 4 3 5 6 4 1 4 6 6 2 5 5 6 4 5 1 1 2 5 2 3 2 3 3 1 5 4 3 1 6 2 2 5 4 5 3 6 6 1 4 2 4 3 5 2 4 2 3 6 1 5 3 1 6 5 3 6 5 3 5 5 1 3 6 1 1 5 3 1 2 1 5 4 3 4 1 6 5 2 4 4 3 3 3 5 2 3 3 1 5 4 6 3 4 6 2 6 6 5 6 4 2 2 6 2 4 5 5 6 2 2 2 3 4 5 3 1 2 6 5 4 6 3 2 3 6 6 2 4 3 4 6 6 1 3 2 6 1 5 6 3 3 5 5 5 2 2 2 6 2 6 2 6 5 6 5 1 2 5 5 2 2 1 1 2 2 4 5 4 3 1 4 5 6 3 1 4 4 5 4 4 4 5 2 4 1 6 2 4 5 2 1 6 4 4 2 2 1 1 5 2 6 1 3 5 5 2 1 6 4 6 5 1 4 1 4 2 5 2 2 4 6 3 1 1 6 1 1 4 6 4 3 2 5 4 1 1 1 3 5 6 1 6 5 5 3 4 4 1 3 1 6 4 4 "
     ]
    }
   ],
   "source": [
    "for j in range(1001):\n",
    "    print(random.randint(1,6+1),end=' ')\n",
    "    j = j +1"
   ]
  },
  {
   "cell_type": "markdown",
   "metadata": {},
   "source": [
    "### Other common list operations"
   ]
  },
  {
   "cell_type": "code",
   "execution_count": 10,
   "metadata": {},
   "outputs": [
    {
     "name": "stdout",
     "output_type": "stream",
     "text": [
      "['Because', 'lists', 'are', 'mutable,', 'you', 'can', 'use', 'the', 'del', 'statement', 'to', 'delete', 'an', 'item', 'or', 'section', 'in-place']\n"
     ]
    }
   ],
   "source": [
    "L = \"\"\"Because lists are mutable, you can use the del statement to delete an item or section\n",
    "in-place\"\"\".split()\n",
    "print(L)"
   ]
  },
  {
   "cell_type": "code",
   "execution_count": 11,
   "metadata": {},
   "outputs": [],
   "source": [
    "del L[0]  # Delete one item"
   ]
  },
  {
   "cell_type": "code",
   "execution_count": 12,
   "metadata": {},
   "outputs": [
    {
     "name": "stdout",
     "output_type": "stream",
     "text": [
      "['lists', 'are', 'mutable,', 'you', 'can', 'use', 'the', 'del', 'statement', 'to', 'delete', 'an', 'item', 'or', 'section', 'in-place']\n"
     ]
    }
   ],
   "source": [
    "print(L)"
   ]
  },
  {
   "cell_type": "code",
   "execution_count": 13,
   "metadata": {},
   "outputs": [],
   "source": [
    "del L[1:] # Delete an entire section"
   ]
  },
  {
   "cell_type": "code",
   "execution_count": 14,
   "metadata": {},
   "outputs": [
    {
     "data": {
      "text/plain": [
       "['lists']"
      ]
     },
     "execution_count": 14,
     "metadata": {},
     "output_type": "execute_result"
    }
   ],
   "source": [
    "L"
   ]
  },
  {
   "cell_type": "code",
   "execution_count": 16,
   "metadata": {},
   "outputs": [
    {
     "name": "stdout",
     "output_type": "stream",
     "text": [
      "['Because', 'slice', 'assignment', 'is', 'a', 'deletion', 'plus', 'an', 'insertion,', 'you', 'can', 'also', 'delete', 'a', 'section', 'of', 'a', 'list', 'by', 'assigning', 'an', 'empty', 'list', 'to', 'a', 'slice', '(L[i:j]=[]);', 'Python', 'deletes', 'the', 'slice', 'named', 'on', 'the', 'left,', 'and', 'then', 'inserts', 'nothing.', 'Assigning', 'an', 'empty', 'list', 'to', 'an', 'index,', 'on', 'the', 'other', 'hand,', 'just', 'stores', 'a', 'reference', 'to', 'the', 'empty', 'list', 'in', 'the', 'specified', 'slot,', 'rather', 'than', 'deleting', 'it:'] "
     ]
    }
   ],
   "source": [
    "L = \"\"\"Because slice assignment is a deletion plus an insertion, you can also delete a section\n",
    "of a list by assigning an empty list to a slice (L[i:j]=[]); Python deletes the slice named\n",
    "on the left, and then inserts nothing. Assigning an empty list to an index, on the other\n",
    "hand, just stores a reference to the empty list in the specified slot, rather than deleting\n",
    "it:\"\"\".split()\n",
    "print(L, end = ' ')"
   ]
  },
  {
   "cell_type": "code",
   "execution_count": 17,
   "metadata": {},
   "outputs": [],
   "source": [
    "L[1:] = []"
   ]
  },
  {
   "cell_type": "code",
   "execution_count": 18,
   "metadata": {},
   "outputs": [
    {
     "name": "stdout",
     "output_type": "stream",
     "text": [
      "['Because']\n"
     ]
    }
   ],
   "source": [
    "print(L)"
   ]
  },
  {
   "cell_type": "code",
   "execution_count": 19,
   "metadata": {},
   "outputs": [],
   "source": [
    "L[0] = []"
   ]
  },
  {
   "cell_type": "code",
   "execution_count": 20,
   "metadata": {},
   "outputs": [
    {
     "name": "stdout",
     "output_type": "stream",
     "text": [
      "[[]]\n"
     ]
    }
   ],
   "source": [
    "print(L)"
   ]
  },
  {
   "cell_type": "code",
   "execution_count": 21,
   "metadata": {},
   "outputs": [
    {
     "data": {
      "text/plain": [
       "1"
      ]
     },
     "execution_count": 21,
     "metadata": {},
     "output_type": "execute_result"
    }
   ],
   "source": [
    "len(L)"
   ]
  },
  {
   "cell_type": "markdown",
   "metadata": {},
   "source": [
    "Because slice assignment is a deletion plus an insertion, you can use it to delete some items in a list. That is, L[i:j] = [] deletes all the items from the index i to j, not inlcuding j. However, if you assign an empty list to an index, you get a reference to the empty list. rather than delete it.  "
   ]
  },
  {
   "cell_type": "markdown",
   "metadata": {},
   "source": [
    "## Dictionaries"
   ]
  },
  {
   "cell_type": "markdown",
   "metadata": {},
   "source": [
    "The main difference between lists and dictionaries is that lists are ordered collections of objects while dictionaries are unordered ones. And most importantly, items in dictionaries are fetched by key instead of by positional offset."
   ]
  },
  {
   "cell_type": "markdown",
   "metadata": {},
   "source": [
    "Some characteristics about Python dictionaries: \n",
    "1. Accessed by key, not offset:\n",
    "Dictionaries are sometimes called associative arrays or hashes. A set of values are associtated with keys.\n",
    "\n",
    "2. Unordered collections of arbitary objects:\n"
   ]
  },
  {
   "cell_type": "code",
   "execution_count": 22,
   "metadata": {},
   "outputs": [],
   "source": [
    "L2 = \"\"\"Apart from lists, dictionaries are perhaps the most flexible built-in data type in Python.\n",
    "If you think of lists as ordered collections of objects, you can think of dictionaries as\n",
    "unordered collections; the chief distinction is that in dictionaries, items are stored and\n",
    "fetched by key, instead of by positional offset.\"\"\".split()"
   ]
  },
  {
   "cell_type": "code",
   "execution_count": 42,
   "metadata": {},
   "outputs": [
    {
     "name": "stdout",
     "output_type": "stream",
     "text": [
      "<class 'int'>\n",
      "2869700454832 => Apart    \tTrue\n",
      "2869700454960 => from    \tTrue\n",
      "2869700454704 => lists,    \tFalse\n",
      "2869700455088 => dictionaries    \tTrue\n",
      "2869700454128 => are    \tFalse\n",
      "2869700452720 => perhaps    \tFalse\n",
      "2869700454256 => the    \tTrue\n",
      "2869700453552 => most    \tFalse\n",
      "2869700453680 => flexible    \tTrue\n",
      "2869700454000 => built-in    \tTrue\n",
      "2869700453744 => data    \tFalse\n",
      "2869700454320 => type    \tTrue\n",
      "2869700453232 => in    \tFalse\n",
      "2869700453616 => Python.    \tTrue\n",
      "2869700453424 => If    \tFalse\n",
      "2869700453360 => you    \tFalse\n",
      "2869700453296 => think    \tFalse\n",
      "2869700453488 => of    \tTrue\n",
      "2869700452592 => lists    \tFalse\n",
      "2869700453040 => as    \tTrue\n",
      "2869700326384 => ordered    \tFalse\n",
      "2869700327344 => collections    \tTrue\n",
      "2869700327216 => of    \tFalse\n",
      "2869700327600 => objects,    \tTrue\n",
      "2869700327536 => you    \tFalse\n",
      "2869700327152 => can    \tFalse\n",
      "2869700326960 => think    \tFalse\n",
      "2869700327088 => of    \tTrue\n",
      "2869700326256 => dictionaries    \tFalse\n",
      "2869700326448 => as    \tTrue\n",
      "2869700326896 => unordered    \tTrue\n",
      "2869700327408 => collections;    \tTrue\n",
      "2869700326640 => the    \tFalse\n",
      "2869700326192 => chief    \tFalse\n",
      "2869700326832 => distinction    \tTrue\n",
      "2869700326768 => is    \tFalse\n",
      "2869700326320 => that    \tFalse\n",
      "2869700326576 => in    \tTrue\n",
      "2869700326704 => dictionaries,    \tTrue\n",
      "2869700326512 => items    \tFalse\n",
      "2869700325488 => are    \tFalse\n",
      "2869700326064 => stored    \tTrue\n",
      "2869700326000 => and    \tFalse\n",
      "2869700325936 => fetched    \tFalse\n",
      "2869700325872 => by    \tFalse\n",
      "2869700325808 => key,    \tFalse\n",
      "2869700325680 => instead    \tFalse\n",
      "2869700325424 => of    \tFalse\n",
      "2869700325552 => by    \tTrue\n",
      "2869700348144 => positional    \tTrue\n",
      "2869700348912 => offset.    \tTrue\n"
     ]
    }
   ],
   "source": [
    "a = id(L2[0])\n",
    "print(type(a))\n",
    "for i in L2:\n",
    "    print(id(i),'=>',i, end='    \\t')\n",
    "    print(a<=id(i))\n",
    "    a = id(i)"
   ]
  },
  {
   "cell_type": "markdown",
   "metadata": {},
   "source": [
    "# Actually, if the lists are not sorted in order, items are not stored in order."
   ]
  },
  {
   "cell_type": "code",
   "execution_count": 44,
   "metadata": {},
   "outputs": [],
   "source": [
    "L2.sort()"
   ]
  },
  {
   "cell_type": "code",
   "execution_count": 45,
   "metadata": {},
   "outputs": [
    {
     "name": "stdout",
     "output_type": "stream",
     "text": [
      "<class 'int'>\n",
      "2869700454832 => Apart    \tTrue\n",
      "2869700453424 => If    \tFalse\n",
      "2869700453616 => Python.    \tTrue\n",
      "2869700326000 => and    \tFalse\n",
      "2869700454128 => are    \tTrue\n",
      "2869700325488 => are    \tFalse\n",
      "2869700453040 => as    \tTrue\n",
      "2869700326448 => as    \tFalse\n",
      "2869700454000 => built-in    \tTrue\n",
      "2869700325872 => by    \tFalse\n",
      "2869700325552 => by    \tFalse\n",
      "2869700327152 => can    \tTrue\n",
      "2869700326192 => chief    \tFalse\n",
      "2869700327344 => collections    \tTrue\n",
      "2869700327408 => collections;    \tTrue\n",
      "2869700453744 => data    \tTrue\n",
      "2869700455088 => dictionaries    \tTrue\n",
      "2869700326256 => dictionaries    \tFalse\n",
      "2869700326704 => dictionaries,    \tTrue\n",
      "2869700326832 => distinction    \tTrue\n",
      "2869700325936 => fetched    \tFalse\n",
      "2869700453680 => flexible    \tTrue\n",
      "2869700454960 => from    \tTrue\n",
      "2869700453232 => in    \tFalse\n",
      "2869700326576 => in    \tFalse\n",
      "2869700325680 => instead    \tFalse\n",
      "2869700326768 => is    \tTrue\n",
      "2869700326512 => items    \tFalse\n",
      "2869700325808 => key,    \tFalse\n",
      "2869700452592 => lists    \tTrue\n",
      "2869700454704 => lists,    \tTrue\n",
      "2869700453552 => most    \tFalse\n",
      "2869700327600 => objects,    \tFalse\n",
      "2869700453488 => of    \tTrue\n",
      "2869700327216 => of    \tFalse\n",
      "2869700327088 => of    \tFalse\n",
      "2869700325424 => of    \tFalse\n",
      "2869700348912 => offset.    \tTrue\n",
      "2869700326384 => ordered    \tFalse\n",
      "2869700452720 => perhaps    \tTrue\n",
      "2869700348144 => positional    \tFalse\n",
      "2869700326064 => stored    \tFalse\n",
      "2869700326320 => that    \tTrue\n",
      "2869700454256 => the    \tTrue\n",
      "2869700326640 => the    \tFalse\n",
      "2869700453296 => think    \tTrue\n",
      "2869700326960 => think    \tFalse\n",
      "2869700454320 => type    \tTrue\n",
      "2869700326896 => unordered    \tFalse\n",
      "2869700453360 => you    \tTrue\n",
      "2869700327536 => you    \tFalse\n"
     ]
    }
   ],
   "source": [
    "a = id(L2[0])\n",
    "print(type(a))\n",
    "for i in L2:\n",
    "    print(id(i),'=>',i, end='    \\t')\n",
    "    print(a<=id(i))\n",
    "    a = id(i)"
   ]
  },
  {
   "cell_type": "code",
   "execution_count": 46,
   "metadata": {},
   "outputs": [
    {
     "name": "stdout",
     "output_type": "stream",
     "text": [
      "2869717769104\n",
      "2869720137184\n"
     ]
    }
   ],
   "source": [
    "S = 'jfafasdjfjsklfalkflkdafklasfklasdfkljasdklfasdklfasdkl'\n",
    "print(id(S))\n",
    "S = 154444845544843454864645\n",
    "print(id(S))"
   ]
  },
  {
   "cell_type": "code",
   "execution_count": 49,
   "metadata": {},
   "outputs": [
    {
     "name": "stdout",
     "output_type": "stream",
     "text": [
      "2869717770112\n",
      "2869727945040\n"
     ]
    }
   ],
   "source": [
    "print(id('jfafasdjfjsklfalkflkdafklasfklasdfkljasdklfasdklfasdkl'))\n",
    "print(id(154444845544843454864645))"
   ]
  },
  {
   "cell_type": "code",
   "execution_count": 51,
   "metadata": {},
   "outputs": [
    {
     "name": "stdout",
     "output_type": "stream",
     "text": [
      "['Apart', 'If', 'Python.', 'and', 'are', 'are', 'as', 'as', 'built-in', 'by', 'by', 'can', 'chief', 'collections', 'collections;', 'data', 'dictionaries', 'dictionaries', 'dictionaries,', 'distinction', 'fetched', 'flexible', 'from', 'in', 'in', 'instead', 'is', 'items', 'key,', 'lists', 'lists,', 'most', 'objects,', 'of', 'of', 'of', 'of', 'offset.', 'ordered', 'perhaps', 'positional', 'stored', 'that', 'the', 'the', 'think', 'think', 'type', 'unordered', 'you', 'you'] "
     ]
    }
   ],
   "source": [
    "print(L2, end = ' ')"
   ]
  },
  {
   "cell_type": "code",
   "execution_count": 52,
   "metadata": {},
   "outputs": [
    {
     "data": {
      "text/plain": [
       "51"
      ]
     },
     "execution_count": 52,
     "metadata": {},
     "output_type": "execute_result"
    }
   ],
   "source": [
    "len(L2)"
   ]
  },
  {
   "cell_type": "code",
   "execution_count": 62,
   "metadata": {},
   "outputs": [],
   "source": [
    "Dict1 = {}\n",
    "for i in range(len(L2)):\n",
    "    Dict1[str(i)] = L2[i]"
   ]
  },
  {
   "cell_type": "code",
   "execution_count": 63,
   "metadata": {},
   "outputs": [
    {
     "name": "stdout",
     "output_type": "stream",
     "text": [
      "{'0': 'Apart', '1': 'If', '2': 'Python.', '3': 'and', '4': 'are', '5': 'are', '6': 'as', '7': 'as', '8': 'built-in', '9': 'by', '10': 'by', '11': 'can', '12': 'chief', '13': 'collections', '14': 'collections;', '15': 'data', '16': 'dictionaries', '17': 'dictionaries', '18': 'dictionaries,', '19': 'distinction', '20': 'fetched', '21': 'flexible', '22': 'from', '23': 'in', '24': 'in', '25': 'instead', '26': 'is', '27': 'items', '28': 'key,', '29': 'lists', '30': 'lists,', '31': 'most', '32': 'objects,', '33': 'of', '34': 'of', '35': 'of', '36': 'of', '37': 'offset.', '38': 'ordered', '39': 'perhaps', '40': 'positional', '41': 'stored', '42': 'that', '43': 'the', '44': 'the', '45': 'think', '46': 'think', '47': 'type', '48': 'unordered', '49': 'you', '50': 'you'}\n"
     ]
    }
   ],
   "source": [
    "print(Dict1)"
   ]
  },
  {
   "cell_type": "code",
   "execution_count": 66,
   "metadata": {},
   "outputs": [
    {
     "data": {
      "text/plain": [
       "2869727419632"
      ]
     },
     "execution_count": 66,
     "metadata": {},
     "output_type": "execute_result"
    }
   ],
   "source": [
    "id('50')"
   ]
  },
  {
   "cell_type": "markdown",
   "metadata": {},
   "source": [
    "### Unordered collections of arbitrary objects"
   ]
  },
  {
   "cell_type": "markdown",
   "metadata": {},
   "source": [
    "Unlike in a list, items stored in a dictionary aren’t kept in any particular order; in\n",
    "fact, Python randomizes their left-to-right order to provide quick lookup. Keys\n",
    "provide the symbolic (not physical) locations of items in a dictionary."
   ]
  },
  {
   "cell_type": "code",
   "execution_count": 71,
   "metadata": {},
   "outputs": [
    {
     "data": {
      "text/plain": [
       "dict_values(['Apart', 'If', 'Python.', 'and', 'are', 'are', 'as', 'as', 'built-in', 'by', 'by', 'can', 'chief', 'collections', 'collections;', 'data', 'dictionaries', 'dictionaries', 'dictionaries,', 'distinction', 'fetched', 'flexible', 'from', 'in', 'in', 'instead', 'is', 'items', 'key,', 'lists', 'lists,', 'most', 'objects,', 'of', 'of', 'of', 'of', 'offset.', 'ordered', 'perhaps', 'positional', 'stored', 'that', 'the', 'the', 'think', 'think', 'type', 'unordered', 'you', 'you'])"
      ]
     },
     "execution_count": 71,
     "metadata": {},
     "output_type": "execute_result"
    }
   ],
   "source": [
    "Dict1.values()"
   ]
  },
  {
   "cell_type": "code",
   "execution_count": 76,
   "metadata": {},
   "outputs": [
    {
     "name": "stdout",
     "output_type": "stream",
     "text": [
      "{'0': 'Apart', '1': 'If', '2': 'Python.', '3': 'and', '4': 'are', '5': 'are', '6': 'as', '7': 'as', '8': 'built-in', '9': 'by', '10': 'by', '11': 'can', '12': 'chief', '13': 'collections', '14': 'collections;', '15': 'data', '16': 'dictionaries', '17': 'dictionaries', '18': 'dictionaries,', '19': 'distinction', '20': 'fetched', '21': 'flexible', '22': 'from', '23': 'in', '24': 'in', '25': 'instead', '26': 'is', '27': 'items', '28': 'key,', '29': 'lists', '30': 'lists,', '31': 'most', '32': 'objects,', '33': 'of', '34': 'of', '35': 'of', '36': 'of', '37': 'offset.', '38': 'ordered', '39': 'perhaps', '40': 'positional', '41': 'stored', '42': 'that', '43': 'the', '44': 'the', '45': 'think', '46': 'think', '47': 'type', '48': 'unordered'} "
     ]
    }
   ],
   "source": [
    "Dict1.pop('49')\n",
    "print(Dict1, end = ' ')"
   ]
  },
  {
   "cell_type": "code",
   "execution_count": 97,
   "metadata": {},
   "outputs": [
    {
     "name": "stdout",
     "output_type": "stream",
     "text": [
      "[1, 1, 1, 1, 1, 2, 2, 2, 2, 1, 2, 2, 1, 1, 1, 1, 1, 2, 2, 1, 1, 1, 1, 1, 2, 2, 1, 1, 1, 1, 1, 1, 1, 1, 4, 4, 4, 4, 1, 1, 1, 1, 1, 1, 2, 2, 2, 2, 1, 1, 2, 2] ['Apart', 'KDA', 'If', 'Python.', 'and', 'are', 'are', 'as', 'as', 'built-in', 'by', 'by', 'can', 'chief', 'collections', 'collections;', 'data', 'dictionaries', 'dictionaries', 'dictionaries,', 'distinction', 'fetched', 'flexible', 'from', 'in', 'in', 'instead', 'is', 'items', 'key,', 'lists', 'lists,', 'most', 'objects,', 'of', 'of', 'of', 'of', 'offset.', 'ordered', 'perhaps', 'positional', 'stored', 'that', 'the', 'the', 'think', 'think', 'type', 'unordered', 'you', 'you']\n"
     ]
    }
   ],
   "source": [
    "print(list(map(L2.count,L2)), end = ' ')\n",
    "print(L2)"
   ]
  },
  {
   "cell_type": "markdown",
   "metadata": {},
   "source": [
    "Of thge category \"mutable mapping\""
   ]
  },
  {
   "cell_type": "markdown",
   "metadata": {},
   "source": [
    "Dictionaries can be changed in-place by assigning to keys (not indexes. Sequence operations do not work on Python dictionaries because they are unordered clollections."
   ]
  },
  {
   "cell_type": "code",
   "execution_count": 101,
   "metadata": {},
   "outputs": [],
   "source": [
    "# Dict1['0': '26'] = {} unhashable type: 'slice'"
   ]
  },
  {
   "cell_type": "markdown",
   "metadata": {},
   "source": [
    "### Tables of object references (hash tables)"
   ]
  },
  {
   "cell_type": "markdown",
   "metadata": {},
   "source": [
    "Dictionaries are unordered tables of object references that support access by key. Dictionaries are sort of data structures which start small and grow on demand. "
   ]
  },
  {
   "cell_type": "markdown",
   "metadata": {},
   "source": [
    "Table 8-2. Common dictionary literals and operations"
   ]
  },
  {
   "cell_type": "code",
   "execution_count": 103,
   "metadata": {},
   "outputs": [
    {
     "name": "stdout",
     "output_type": "stream",
     "text": [
      "0\n",
      "2\n",
      "1\n"
     ]
    }
   ],
   "source": [
    "D = {}    # Empty dictionary\n",
    "print(len(D))\n",
    "D = {'spam':2, 'eggs': 3} # Two-item dictionary\n",
    "print(len(D))\n",
    "D = {'food': {'ham': 1, 'egg': 2}} # Nesting\n",
    "print(len(D))"
   ]
  },
  {
   "cell_type": "markdown",
   "metadata": {},
   "source": [
    "One-item Nesting dictionary is one-item dictionary "
   ]
  },
  {
   "cell_type": "code",
   "execution_count": 105,
   "metadata": {},
   "outputs": [
    {
     "data": {
      "text/plain": [
       "2"
      ]
     },
     "execution_count": 105,
     "metadata": {},
     "output_type": "execute_result"
    }
   ],
   "source": [
    "D = dict(name='Bob',age=40)  # Altenative contruction techniques\n",
    "len(D)"
   ]
  },
  {
   "cell_type": "code",
   "execution_count": 108,
   "metadata": {},
   "outputs": [
    {
     "name": "stdout",
     "output_type": "stream",
     "text": [
      "{'0': 'Apart', '1': 'If', '2': 'Python.', '3': 'and', '4': 'are', '5': 'are', '6': 'as', '7': 'as', '8': 'built-in', '9': 'by', '10': 'by', '11': 'can', '12': 'chief', '13': 'collections', '14': 'collections;', '15': 'data', '16': 'dictionaries', '17': 'dictionaries', '18': 'dictionaries,', '19': 'distinction', '20': 'fetched', '21': 'flexible', '22': 'from', '23': 'in', '24': 'in', '25': 'instead', '26': 'is', '27': 'items', '28': 'key,', '29': 'lists', '30': 'lists,', '31': 'most', '32': 'objects,', '33': 'of', '34': 'of', '35': 'of', '36': 'of', '37': 'offset.', '38': 'ordered', '39': 'perhaps', '40': 'positional', '41': 'stored', '42': 'that', '43': 'the', '44': 'the', '45': 'think', '46': 'think', '47': 'type', '48': 'unordered'} "
     ]
    }
   ],
   "source": [
    "print(Dict1, end = ' ')"
   ]
  },
  {
   "cell_type": "code",
   "execution_count": 113,
   "metadata": {},
   "outputs": [
    {
     "name": "stdout",
     "output_type": "stream",
     "text": [
      "('0', '1', '2', '3', '4', '5', '6', '7', '8', '9', '10', '11', '12', '13', '14', '15', '16', '17', '18', '19', '20', '21', '22', '23', '24', '25', '26', '27', '28', '29', '30', '31', '32', '33', '34', '35', '36', '37', '38', '39', '40', '41', '42', '43', '44', '45', '46', '47', '48') "
     ]
    }
   ],
   "source": [
    "print(tuple(Dict1.keys()), end = ' ')"
   ]
  },
  {
   "cell_type": "code",
   "execution_count": 114,
   "metadata": {},
   "outputs": [],
   "source": [
    "D = dict(zip(tuple(Dict1.keys()), tuple(Dict1.values())))"
   ]
  },
  {
   "cell_type": "code",
   "execution_count": 115,
   "metadata": {},
   "outputs": [
    {
     "name": "stdout",
     "output_type": "stream",
     "text": [
      "{'0': 'Apart', '1': 'If', '2': 'Python.', '3': 'and', '4': 'are', '5': 'are', '6': 'as', '7': 'as', '8': 'built-in', '9': 'by', '10': 'by', '11': 'can', '12': 'chief', '13': 'collections', '14': 'collections;', '15': 'data', '16': 'dictionaries', '17': 'dictionaries', '18': 'dictionaries,', '19': 'distinction', '20': 'fetched', '21': 'flexible', '22': 'from', '23': 'in', '24': 'in', '25': 'instead', '26': 'is', '27': 'items', '28': 'key,', '29': 'lists', '30': 'lists,', '31': 'most', '32': 'objects,', '33': 'of', '34': 'of', '35': 'of', '36': 'of', '37': 'offset.', '38': 'ordered', '39': 'perhaps', '40': 'positional', '41': 'stored', '42': 'that', '43': 'the', '44': 'the', '45': 'think', '46': 'think', '47': 'type', '48': 'unordered'} "
     ]
    }
   ],
   "source": [
    "print(D, end = ' ')"
   ]
  },
  {
   "cell_type": "code",
   "execution_count": 1,
   "metadata": {},
   "outputs": [],
   "source": [
    "D = dict.fromkeys(['a','b'])"
   ]
  },
  {
   "cell_type": "code",
   "execution_count": 2,
   "metadata": {},
   "outputs": [
    {
     "data": {
      "text/plain": [
       "{'a': None, 'b': None}"
      ]
     },
     "execution_count": 2,
     "metadata": {},
     "output_type": "execute_result"
    }
   ],
   "source": [
    "D"
   ]
  },
  {
   "cell_type": "code",
   "execution_count": 9,
   "metadata": {},
   "outputs": [],
   "source": [
    "D1 = dict.fromkeys(list(map(str,[1,2,3,4,5,6,7,8,9,10,11,12,13,14,15,16,17,18,19,20])))"
   ]
  },
  {
   "cell_type": "code",
   "execution_count": 11,
   "metadata": {},
   "outputs": [
    {
     "name": "stdout",
     "output_type": "stream",
     "text": [
      "{'1': None, '2': None, '3': None, '4': None, '5': None, '6': None, '7': None, '8': None, '9': None, '10': None, '11': None, '12': None, '13': None, '14': None, '15': None, '16': None, '17': None, '18': None, '19': None, '20': None} "
     ]
    }
   ],
   "source": [
    "print(D1,end =' ')"
   ]
  },
  {
   "cell_type": "code",
   "execution_count": 8,
   "metadata": {},
   "outputs": [
    {
     "data": {
      "text/plain": [
       "['1',\n",
       " '2',\n",
       " '3',\n",
       " '4',\n",
       " '5',\n",
       " '6',\n",
       " '7',\n",
       " '8',\n",
       " '9',\n",
       " '10',\n",
       " '11',\n",
       " '12',\n",
       " '13',\n",
       " '14',\n",
       " '15',\n",
       " '16',\n",
       " '17',\n",
       " '18',\n",
       " '19',\n",
       " '20']"
      ]
     },
     "execution_count": 8,
     "metadata": {},
     "output_type": "execute_result"
    }
   ],
   "source": [
    "list(map(str,[1,2,3,4,5,6,7,8,9,10,11,12,13,14,15,16,17,18,19,20]))"
   ]
  },
  {
   "cell_type": "code",
   "execution_count": 4,
   "metadata": {},
   "outputs": [
    {
     "name": "stdout",
     "output_type": "stream",
     "text": [
      "[1, 2, 3, 4, 5, 6, 7, 8, 9, 10, 11, 12, 13, 14, 15, 16, 17, 18, 19, 20, 21, 22, 23, 24, 25, 26, 27, 28, 29, 30, 31, 32, 33, 34, 35, 36, 37, 38, 39, 40, 41, 42, 43, 44, 45, 46, 47, 48, 49, 50, 51, 52, 53, 54, 55, 56, 57, 58, 59, 60, 61, 62, 63, 64, 65, 66, 67, 68, 69, 70, 71, 72, 73, 74, 75, 76, 77, 78, 79, 80, 81, 82, 83, 84, 85, 86, 87, 88, 89, 90, 91, 92, 93, 94, 95, 96, 97, 98, 99, 100] "
     ]
    }
   ],
   "source": [
    "L = []\n",
    "for i in range(101):\n",
    "    L.append(i)\n",
    "del L[0]\n",
    "print(L, end = ' ')\n",
    "\n",
    "D= dict.fromkeys(list(map(str,L)))"
   ]
  },
  {
   "cell_type": "code",
   "execution_count": 5,
   "metadata": {},
   "outputs": [
    {
     "name": "stdout",
     "output_type": "stream",
     "text": [
      "{'1': None, '2': None, '3': None, '4': None, '5': None, '6': None, '7': None, '8': None, '9': None, '10': None, '11': None, '12': None, '13': None, '14': None, '15': None, '16': None, '17': None, '18': None, '19': None, '20': None, '21': None, '22': None, '23': None, '24': None, '25': None, '26': None, '27': None, '28': None, '29': None, '30': None, '31': None, '32': None, '33': None, '34': None, '35': None, '36': None, '37': None, '38': None, '39': None, '40': None, '41': None, '42': None, '43': None, '44': None, '45': None, '46': None, '47': None, '48': None, '49': None, '50': None, '51': None, '52': None, '53': None, '54': None, '55': None, '56': None, '57': None, '58': None, '59': None, '60': None, '61': None, '62': None, '63': None, '64': None, '65': None, '66': None, '67': None, '68': None, '69': None, '70': None, '71': None, '72': None, '73': None, '74': None, '75': None, '76': None, '77': None, '78': None, '79': None, '80': None, '81': None, '82': None, '83': None, '84': None, '85': None, '86': None, '87': None, '88': None, '89': None, '90': None, '91': None, '92': None, '93': None, '94': None, '95': None, '96': None, '97': None, '98': None, '99': None, '100': None} "
     ]
    }
   ],
   "source": [
    "print(D, end = ' ')"
   ]
  },
  {
   "cell_type": "code",
   "execution_count": 6,
   "metadata": {},
   "outputs": [],
   "source": [
    "L2 = \"\"\"The various types of physical forces described so far are fairly easy to understand, since they arise from straightforward electrostatic interactions involving charged or dipolar molecules. But there is a another type of force that—like the gravitational force—acts between all atoms and molecules, even totally neutral ones such as helium, carbon dioxide, and hydrocarbons. These forces have been variously known as dispersion forces, London forces, charge-fluctuation forces, electrodynamic forces, and induceddipole-induced-dipole forces. We shall refer to them as dispersion forces, since it is by this name that they are most widely known. The origin of this name has to do with their relation to the dispersion of light in the visible and UV regions of the spectrum, as we shall see.\"\"\".split()"
   ]
  },
  {
   "cell_type": "code",
   "execution_count": 7,
   "metadata": {},
   "outputs": [
    {
     "data": {
      "text/plain": [
       "121"
      ]
     },
     "execution_count": 7,
     "metadata": {},
     "output_type": "execute_result"
    }
   ],
   "source": [
    "len(L2)"
   ]
  },
  {
   "cell_type": "code",
   "execution_count": 8,
   "metadata": {},
   "outputs": [],
   "source": [
    "L2[100:] = []"
   ]
  },
  {
   "cell_type": "code",
   "execution_count": 9,
   "metadata": {},
   "outputs": [
    {
     "name": "stdout",
     "output_type": "stream",
     "text": [
      "100 \n",
      " ['The', 'various', 'types', 'of', 'physical', 'forces', 'described', 'so', 'far', 'are', 'fairly', 'easy', 'to', 'understand,', 'since', 'they', 'arise', 'from', 'straightforward', 'electrostatic', 'interactions', 'involving', 'charged', 'or', 'dipolar', 'molecules.', 'But', 'there', 'is', 'a', 'another', 'type', 'of', 'force', 'that—like', 'the', 'gravitational', 'force—acts', 'between', 'all', 'atoms', 'and', 'molecules,', 'even', 'totally', 'neutral', 'ones', 'such', 'as', 'helium,', 'carbon', 'dioxide,', 'and', 'hydrocarbons.', 'These', 'forces', 'have', 'been', 'variously', 'known', 'as', 'dispersion', 'forces,', 'London', 'forces,', 'charge-fluctuation', 'forces,', 'electrodynamic', 'forces,', 'and', 'induceddipole-induced-dipole', 'forces.', 'We', 'shall', 'refer', 'to', 'them', 'as', 'dispersion', 'forces,', 'since', 'it', 'is', 'by', 'this', 'name', 'that', 'they', 'are', 'most', 'widely', 'known.', 'The', 'origin', 'of', 'this', 'name', 'has', 'to', 'do']\n"
     ]
    }
   ],
   "source": [
    "print(len(L2),'\\n', L2)"
   ]
  },
  {
   "cell_type": "code",
   "execution_count": 10,
   "metadata": {},
   "outputs": [],
   "source": [
    "for i in range(100):\n",
    "    i = i + 1\n",
    "    D[str(i)] = L2.pop()"
   ]
  },
  {
   "cell_type": "code",
   "execution_count": 60,
   "metadata": {},
   "outputs": [
    {
     "name": "stdout",
     "output_type": "stream",
     "text": [
      "{'1': 'do', '2': 'to', '3': 'has', '4': 'name', '5': 'this', '6': 'of', '7': 'origin', '8': 'The', '9': 'known.', '10': 'widely', '11': 'most', '12': 'are', '13': 'they', '14': 'that', '15': 'name', '16': 'this', '17': 'by', '18': 'is', '19': 'it', '20': 'since', '21': 'forces,', '22': 'dispersion', '23': 'as', '24': 'them', '25': 'to', '26': 'refer', '27': 'shall', '28': 'We', '29': 'forces.', '30': 'induceddipole-induced-dipole', '31': 'and', '32': 'forces,', '33': 'electrodynamic', '34': 'forces,', '35': 'charge-fluctuation', '36': 'forces,', '37': 'London', '38': 'forces,', '39': 'dispersion', '40': 'as', '41': 'known', '42': 'variously', '43': 'been', '44': 'have', '45': 'forces', '46': 'These', '47': 'hydrocarbons.', '48': 'and', '49': 'dioxide,', '50': 'carbon', '51': 'helium,', '52': 'as', '53': 'such', '54': 'ones', '55': 'neutral', '56': 'totally', '57': 'even', '58': 'molecules,', '59': 'and', '60': 'atoms', '61': 'all', '62': 'between', '63': 'force—acts', '64': 'gravitational', '65': 'the', '66': 'that—like', '67': 'force', '68': 'of', '69': 'type', '70': 'another', '71': 'a', '72': 'is', '73': 'there', '74': 'But', '75': 'molecules.', '76': 'dipolar', '77': 'or', '78': 'charged', '79': 'involving', '80': 'interactions', '81': 'electrostatic', '82': 'straightforward', '83': 'from', '84': 'arise', '85': 'they', '86': 'since', '87': 'understand,', '88': 'to', '89': 'easy', '90': 'fairly', '91': 'are', '92': 'far', '93': 'so', '94': 'described', '95': 'forces', '96': 'physical', '97': 'of', '98': 'types', '99': 'various', '100': 'The'} "
     ]
    }
   ],
   "source": [
    "print(D,end = ' ')"
   ]
  },
  {
   "cell_type": "code",
   "execution_count": 11,
   "metadata": {},
   "outputs": [],
   "source": [
    "from numpy import *"
   ]
  },
  {
   "cell_type": "code",
   "execution_count": 12,
   "metadata": {},
   "outputs": [
    {
     "data": {
      "text/plain": [
       "int"
      ]
     },
     "execution_count": 12,
     "metadata": {},
     "output_type": "execute_result"
    }
   ],
   "source": [
    "type(random.randint(1,10))"
   ]
  },
  {
   "cell_type": "code",
   "execution_count": 13,
   "metadata": {},
   "outputs": [
    {
     "data": {
      "text/plain": [
       "'that'"
      ]
     },
     "execution_count": 13,
     "metadata": {},
     "output_type": "execute_result"
    }
   ],
   "source": [
    "D[str(random.randint(1,100))] # indexing key"
   ]
  },
  {
   "cell_type": "code",
   "execution_count": 14,
   "metadata": {},
   "outputs": [
    {
     "data": {
      "text/plain": [
       "True"
      ]
     },
     "execution_count": 14,
     "metadata": {},
     "output_type": "execute_result"
    }
   ],
   "source": [
    "'19' in D  # Membership: key present test"
   ]
  },
  {
   "cell_type": "code",
   "execution_count": 15,
   "metadata": {},
   "outputs": [
    {
     "data": {
      "text/plain": [
       "dict_keys(['1', '2', '3', '4', '5', '6', '7', '8', '9', '10', '11', '12', '13', '14', '15', '16', '17', '18', '19', '20', '21', '22', '23', '24', '25', '26', '27', '28', '29', '30', '31', '32', '33', '34', '35', '36', '37', '38', '39', '40', '41', '42', '43', '44', '45', '46', '47', '48', '49', '50', '51', '52', '53', '54', '55', '56', '57', '58', '59', '60', '61', '62', '63', '64', '65', '66', '67', '68', '69', '70', '71', '72', '73', '74', '75', '76', '77', '78', '79', '80', '81', '82', '83', '84', '85', '86', '87', '88', '89', '90', '91', '92', '93', '94', '95', '96', '97', '98', '99', '100'])"
      ]
     },
     "execution_count": 15,
     "metadata": {},
     "output_type": "execute_result"
    }
   ],
   "source": [
    "D.keys() # Methods: keys"
   ]
  },
  {
   "cell_type": "code",
   "execution_count": 16,
   "metadata": {},
   "outputs": [
    {
     "data": {
      "text/plain": [
       "dict_values(['do', 'to', 'has', 'name', 'this', 'of', 'origin', 'The', 'known.', 'widely', 'most', 'are', 'they', 'that', 'name', 'this', 'by', 'is', 'it', 'since', 'forces,', 'dispersion', 'as', 'them', 'to', 'refer', 'shall', 'We', 'forces.', 'induceddipole-induced-dipole', 'and', 'forces,', 'electrodynamic', 'forces,', 'charge-fluctuation', 'forces,', 'London', 'forces,', 'dispersion', 'as', 'known', 'variously', 'been', 'have', 'forces', 'These', 'hydrocarbons.', 'and', 'dioxide,', 'carbon', 'helium,', 'as', 'such', 'ones', 'neutral', 'totally', 'even', 'molecules,', 'and', 'atoms', 'all', 'between', 'force—acts', 'gravitational', 'the', 'that—like', 'force', 'of', 'type', 'another', 'a', 'is', 'there', 'But', 'molecules.', 'dipolar', 'or', 'charged', 'involving', 'interactions', 'electrostatic', 'straightforward', 'from', 'arise', 'they', 'since', 'understand,', 'to', 'easy', 'fairly', 'are', 'far', 'so', 'described', 'forces', 'physical', 'of', 'types', 'various', 'The'])"
      ]
     },
     "execution_count": 16,
     "metadata": {},
     "output_type": "execute_result"
    }
   ],
   "source": [
    "D.values() # values"
   ]
  },
  {
   "cell_type": "code",
   "execution_count": 17,
   "metadata": {},
   "outputs": [
    {
     "data": {
      "text/plain": [
       "dict_items([('1', 'do'), ('2', 'to'), ('3', 'has'), ('4', 'name'), ('5', 'this'), ('6', 'of'), ('7', 'origin'), ('8', 'The'), ('9', 'known.'), ('10', 'widely'), ('11', 'most'), ('12', 'are'), ('13', 'they'), ('14', 'that'), ('15', 'name'), ('16', 'this'), ('17', 'by'), ('18', 'is'), ('19', 'it'), ('20', 'since'), ('21', 'forces,'), ('22', 'dispersion'), ('23', 'as'), ('24', 'them'), ('25', 'to'), ('26', 'refer'), ('27', 'shall'), ('28', 'We'), ('29', 'forces.'), ('30', 'induceddipole-induced-dipole'), ('31', 'and'), ('32', 'forces,'), ('33', 'electrodynamic'), ('34', 'forces,'), ('35', 'charge-fluctuation'), ('36', 'forces,'), ('37', 'London'), ('38', 'forces,'), ('39', 'dispersion'), ('40', 'as'), ('41', 'known'), ('42', 'variously'), ('43', 'been'), ('44', 'have'), ('45', 'forces'), ('46', 'These'), ('47', 'hydrocarbons.'), ('48', 'and'), ('49', 'dioxide,'), ('50', 'carbon'), ('51', 'helium,'), ('52', 'as'), ('53', 'such'), ('54', 'ones'), ('55', 'neutral'), ('56', 'totally'), ('57', 'even'), ('58', 'molecules,'), ('59', 'and'), ('60', 'atoms'), ('61', 'all'), ('62', 'between'), ('63', 'force—acts'), ('64', 'gravitational'), ('65', 'the'), ('66', 'that—like'), ('67', 'force'), ('68', 'of'), ('69', 'type'), ('70', 'another'), ('71', 'a'), ('72', 'is'), ('73', 'there'), ('74', 'But'), ('75', 'molecules.'), ('76', 'dipolar'), ('77', 'or'), ('78', 'charged'), ('79', 'involving'), ('80', 'interactions'), ('81', 'electrostatic'), ('82', 'straightforward'), ('83', 'from'), ('84', 'arise'), ('85', 'they'), ('86', 'since'), ('87', 'understand,'), ('88', 'to'), ('89', 'easy'), ('90', 'fairly'), ('91', 'are'), ('92', 'far'), ('93', 'so'), ('94', 'described'), ('95', 'forces'), ('96', 'physical'), ('97', 'of'), ('98', 'types'), ('99', 'various'), ('100', 'The')])"
      ]
     },
     "execution_count": 17,
     "metadata": {},
     "output_type": "execute_result"
    }
   ],
   "source": [
    "D.items()"
   ]
  },
  {
   "cell_type": "code",
   "execution_count": 18,
   "metadata": {},
   "outputs": [],
   "source": [
    "D1 = D.copy() # copies"
   ]
  },
  {
   "cell_type": "code",
   "execution_count": 90,
   "metadata": {},
   "outputs": [
    {
     "name": "stdout",
     "output_type": "stream",
     "text": [
      "60\n"
     ]
    }
   ],
   "source": [
    "for key in D1.keys():\n",
    "    if D1.get(key) == 'atoms':\n",
    "        print(key)"
   ]
  },
  {
   "cell_type": "code",
   "execution_count": 49,
   "metadata": {},
   "outputs": [
    {
     "data": {
      "text/plain": [
       "'to'"
      ]
     },
     "execution_count": 49,
     "metadata": {},
     "output_type": "execute_result"
    }
   ],
   "source": [
    "D.get('2') # Return the value for key if key is in the dictionary, else default."
   ]
  },
  {
   "cell_type": "code",
   "execution_count": 53,
   "metadata": {},
   "outputs": [],
   "source": [
    "D.get('101')"
   ]
  },
  {
   "cell_type": "code",
   "execution_count": 54,
   "metadata": {},
   "outputs": [],
   "source": [
    "D2 = {}\n",
    "D2.update(D1) # \"\"\"D.update([E, ]**F) -> None.  Update D from dict/iterable E and F. If E is present and has a .keys() method, then does:  for k in E: D[k] = E[k] If E is present and lacks a .keys() method, then does:  for k, v in E: D[k] = v In either case, this is followed by: for k in F:  D[k] = F[k]\"\"\""
   ]
  },
  {
   "cell_type": "code",
   "execution_count": 55,
   "metadata": {},
   "outputs": [
    {
     "name": "stdout",
     "output_type": "stream",
     "text": [
      "{'1': 'do', '2': 'to', '3': 'has', '4': 'name', '5': 'this', '6': 'of', '7': 'origin', '8': 'The', '9': 'known.', '10': 'widely', '11': 'most', '12': 'are', '13': 'they', '14': 'that', '15': 'name', '16': 'this', '17': 'by', '18': 'is', '19': 'it', '20': 'since', '21': 'forces,', '22': 'dispersion', '23': 'as', '24': 'them', '25': 'to', '26': 'refer', '27': 'shall', '28': 'We', '29': 'forces.', '30': 'induceddipole-induced-dipole', '31': 'and', '32': 'forces,', '33': 'electrodynamic', '34': 'forces,', '35': 'charge-fluctuation', '36': 'forces,', '37': 'London', '38': 'forces,', '39': 'dispersion', '40': 'as', '41': 'known', '42': 'variously', '43': 'been', '44': 'have', '45': 'forces', '46': 'These', '47': 'hydrocarbons.', '48': 'and', '49': 'dioxide,', '50': 'carbon', '51': 'helium,', '52': 'as', '53': 'such', '54': 'ones', '55': 'neutral', '56': 'totally', '57': 'even', '58': 'molecules,', '59': 'and', '60': 'atoms', '61': 'all', '62': 'between', '63': 'force—acts', '64': 'gravitational', '65': 'the', '66': 'that—like', '67': 'force', '68': 'of', '69': 'type', '70': 'another', '71': 'a', '72': 'is', '73': 'there', '74': 'But', '75': 'molecules.', '76': 'dipolar', '77': 'or', '78': 'charged', '79': 'involving', '80': 'interactions', '81': 'electrostatic', '82': 'straightforward', '83': 'from', '84': 'arise', '85': 'they', '86': 'since', '87': 'understand,', '88': 'to', '89': 'easy', '90': 'fairly', '91': 'are', '92': 'far', '93': 'so', '94': 'described', '95': 'forces', '96': 'physical', '97': 'of', '98': 'types', '99': 'various', '100': 'The'} "
     ]
    }
   ],
   "source": [
    "print(D2, end =' ')"
   ]
  },
  {
   "cell_type": "code",
   "execution_count": 75,
   "metadata": {},
   "outputs": [
    {
     "data": {
      "text/plain": [
       "\u001b[1;31mDocstring:\u001b[0m\n",
       "D.update([E, ]**F) -> None.  Update D from dict/iterable E and F.\n",
       "If E is present and has a .keys() method, then does:  for k in E: D[k] = E[k]\n",
       "If E is present and lacks a .keys() method, then does:  for k, v in E: D[k] = v\n",
       "In either case, this is followed by: for k in F:  D[k] = F[k]\n",
       "\u001b[1;31mType:\u001b[0m      builtin_function_or_method\n"
      ]
     },
     "metadata": {},
     "output_type": "display_data"
    }
   ],
   "source": [
    "D2.update?"
   ]
  },
  {
   "cell_type": "code",
   "execution_count": 37,
   "metadata": {},
   "outputs": [],
   "source": [
    "D = {x : x**2 for x in range(100)} # Dictionary comprehensions (Python 3.0)"
   ]
  },
  {
   "cell_type": "code",
   "execution_count": 38,
   "metadata": {},
   "outputs": [
    {
     "name": "stdout",
     "output_type": "stream",
     "text": [
      "{0: 0, 1: 1, 2: 4, 3: 9, 4: 16, 5: 25, 6: 36, 7: 49, 8: 64, 9: 81, 10: 100, 11: 121, 12: 144, 13: 169, 14: 196, 15: 225, 16: 256, 17: 289, 18: 324, 19: 361, 20: 400, 21: 441, 22: 484, 23: 529, 24: 576, 25: 625, 26: 676, 27: 729, 28: 784, 29: 841, 30: 900, 31: 961, 32: 1024, 33: 1089, 34: 1156, 35: 1225, 36: 1296, 37: 1369, 38: 1444, 39: 1521, 40: 1600, 41: 1681, 42: 1764, 43: 1849, 44: 1936, 45: 2025, 46: 2116, 47: 2209, 48: 2304, 49: 2401, 50: 2500, 51: 2601, 52: 2704, 53: 2809, 54: 2916, 55: 3025, 56: 3136, 57: 3249, 58: 3364, 59: 3481, 60: 3600, 61: 3721, 62: 3844, 63: 3969, 64: 4096, 65: 4225, 66: 4356, 67: 4489, 68: 4624, 69: 4761, 70: 4900, 71: 5041, 72: 5184, 73: 5329, 74: 5476, 75: 5625, 76: 5776, 77: 5929, 78: 6084, 79: 6241, 80: 6400, 81: 6561, 82: 6724, 83: 6889, 84: 7056, 85: 7225, 86: 7396, 87: 7569, 88: 7744, 89: 7921, 90: 8100, 91: 8281, 92: 8464, 93: 8649, 94: 8836, 95: 9025, 96: 9216, 97: 9409, 98: 9604, 99: 9801}\n"
     ]
    }
   ],
   "source": [
    "print(D)"
   ]
  },
  {
   "cell_type": "code",
   "execution_count": 20,
   "metadata": {},
   "outputs": [],
   "source": [
    "file_handle=open('1.txt',mode='w')"
   ]
  },
  {
   "cell_type": "code",
   "execution_count": 26,
   "metadata": {},
   "outputs": [],
   "source": [
    "import cgi"
   ]
  },
  {
   "cell_type": "code",
   "execution_count": 27,
   "metadata": {},
   "outputs": [],
   "source": [
    "form = cgi.FieldStorage()"
   ]
  },
  {
   "cell_type": "code",
   "execution_count": 28,
   "metadata": {},
   "outputs": [],
   "source": [
    "if 'name' in form:\n",
    "    showReply('Hello,' + form['name'].value)"
   ]
  },
  {
   "cell_type": "code",
   "execution_count": 29,
   "metadata": {},
   "outputs": [],
   "source": [
    "import dbm"
   ]
  },
  {
   "cell_type": "code",
   "execution_count": 38,
   "metadata": {},
   "outputs": [],
   "source": [
    "file = dbm.open('1','c')"
   ]
  },
  {
   "cell_type": "code",
   "execution_count": 39,
   "metadata": {},
   "outputs": [],
   "source": [
    "for keys in D1.keys():\n",
    "    file[keys] = D1[keys]"
   ]
  },
  {
   "cell_type": "code",
   "execution_count": 45,
   "metadata": {},
   "outputs": [],
   "source": [
    "file.close()"
   ]
  },
  {
   "cell_type": "code",
   "execution_count": 4,
   "metadata": {},
   "outputs": [],
   "source": [
    "Di = {'1': 'do', '2': 'to', '3': 'has', '4': 'name', '5': 'this', '6': 'of', '7': 'origin', '8': 'The', '9': 'known.', '10': 'widely', '11': 'most', '12': 'are', '13': 'they', '14': 'that', '15': 'name', '16': 'this', '17': 'by', '18': 'is', '19': 'it', '20': 'since', '21': 'forces,', '22': 'dispersion', '23': 'as', '24': 'them', '25': 'to', '26': 'refer', '27': 'shall', '28': 'We', '29': 'forces.', '30': 'induceddipole-induced-dipole', '31': 'and', '32': 'forces,', '33': 'electrodynamic', '34': 'forces,', '35': 'charge-fluctuation', '36': 'forces,', '37': 'London', '38': 'forces,', '39': 'dispersion', '40': 'as', '41': 'known', '42': 'variously', '43': 'been', '44': 'have', '45': 'forces', '46': 'These', '47': 'hydrocarbons.', '48': 'and', '49': 'dioxide,', '50': 'carbon', '51': 'helium,', '52': 'as', '53': 'such', '54': 'ones', '55': 'neutral', '56': 'totally', '57': 'even', '58': 'molecules,', '59': 'and', '60': 'atoms', '61': 'all', '62': 'between', '63': 'force—acts', '64': 'gravitational', '65': 'the', '66': 'that—like', '67': 'force', '68': 'of', '69': 'type', '70': 'another', '71': 'a', '72': 'is', '73': 'there', '74': 'But', '75': 'molecules.', '76': 'dipolar', '77': 'or', '78': 'charged', '79': 'involving', '80': 'interactions', '81': 'electrostatic', '82': 'straightforward', '83': 'from', '84': 'arise', '85': 'they', '86': 'since', '87': 'understand,', '88': 'to', '89': 'easy', '90': 'fairly', '91': 'are', '92': 'far', '93': 'so', '94': 'described', '95': 'forces', '96': 'physical', '97': 'of', '98': 'types', '99': 'various', '100': 'The'} "
   ]
  },
  {
   "cell_type": "code",
   "execution_count": 5,
   "metadata": {},
   "outputs": [
    {
     "data": {
      "text/plain": [
       "'various'"
      ]
     },
     "execution_count": 5,
     "metadata": {},
     "output_type": "execute_result"
    }
   ],
   "source": [
    "Di.pop('99') # Delete items using pop,etc"
   ]
  },
  {
   "cell_type": "code",
   "execution_count": 7,
   "metadata": {},
   "outputs": [
    {
     "data": {
      "text/plain": [
       "99"
      ]
     },
     "execution_count": 7,
     "metadata": {},
     "output_type": "execute_result"
    }
   ],
   "source": [
    "len(Di)"
   ]
  },
  {
   "cell_type": "code",
   "execution_count": 16,
   "metadata": {},
   "outputs": [],
   "source": [
    "Di['99'] = 'various' # Adding/changing keys"
   ]
  },
  {
   "cell_type": "code",
   "execution_count": 10,
   "metadata": {},
   "outputs": [
    {
     "name": "stdout",
     "output_type": "stream",
     "text": [
      "{'1': 'do', '2': 'to', '3': 'has', '4': 'name', '5': 'this', '6': 'of', '7': 'origin', '8': 'The', '9': 'known.', '10': 'widely', '11': 'most', '12': 'are', '13': 'they', '14': 'that', '15': 'name', '16': 'this', '17': 'by', '18': 'is', '19': 'it', '20': 'since', '21': 'forces,', '22': 'dispersion', '23': 'as', '24': 'them', '25': 'to', '26': 'refer', '27': 'shall', '28': 'We', '29': 'forces.', '30': 'induceddipole-induced-dipole', '31': 'and', '32': 'forces,', '33': 'electrodynamic', '34': 'forces,', '35': 'charge-fluctuation', '36': 'forces,', '37': 'London', '38': 'forces,', '39': 'dispersion', '40': 'as', '41': 'known', '42': 'variously', '43': 'been', '44': 'have', '45': 'forces', '46': 'These', '47': 'hydrocarbons.', '48': 'and', '49': 'dioxide,', '50': 'carbon', '51': 'helium,', '52': 'as', '53': 'such', '54': 'ones', '55': 'neutral', '56': 'totally', '57': 'even', '58': 'molecules,', '59': 'and', '60': 'atoms', '61': 'all', '62': 'between', '63': 'force—acts', '64': 'gravitational', '65': 'the', '66': 'that—like', '67': 'force', '68': 'of', '69': 'type', '70': 'another', '71': 'a', '72': 'is', '73': 'there', '74': 'But', '75': 'molecules.', '76': 'dipolar', '77': 'or', '78': 'charged', '79': 'involving', '80': 'interactions', '81': 'electrostatic', '82': 'straightforward', '83': 'from', '84': 'arise', '85': 'they', '86': 'since', '87': 'understand,', '88': 'to', '89': 'easy', '90': 'fairly', '91': 'are', '92': 'far', '93': 'so', '94': 'described', '95': 'forces', '96': 'physical', '97': 'of', '98': 'types', '100': 'The', '99': 'various'} "
     ]
    }
   ],
   "source": [
    "print(Di, end = ' ')"
   ]
  },
  {
   "cell_type": "code",
   "execution_count": 11,
   "metadata": {},
   "outputs": [
    {
     "data": {
      "text/plain": [
       "False"
      ]
     },
     "execution_count": 11,
     "metadata": {},
     "output_type": "execute_result"
    }
   ],
   "source": [
    "Di is {'1': 'do', '2': 'to', '3': 'has', '4': 'name', '5': 'this', '6': 'of', '7': 'origin', '8': 'The', '9': 'known.', '10': 'widely', '11': 'most', '12': 'are', '13': 'they', '14': 'that', '15': 'name', '16': 'this', '17': 'by', '18': 'is', '19': 'it', '20': 'since', '21': 'forces,', '22': 'dispersion', '23': 'as', '24': 'them', '25': 'to', '26': 'refer', '27': 'shall', '28': 'We', '29': 'forces.', '30': 'induceddipole-induced-dipole', '31': 'and', '32': 'forces,', '33': 'electrodynamic', '34': 'forces,', '35': 'charge-fluctuation', '36': 'forces,', '37': 'London', '38': 'forces,', '39': 'dispersion', '40': 'as', '41': 'known', '42': 'variously', '43': 'been', '44': 'have', '45': 'forces', '46': 'These', '47': 'hydrocarbons.', '48': 'and', '49': 'dioxide,', '50': 'carbon', '51': 'helium,', '52': 'as', '53': 'such', '54': 'ones', '55': 'neutral', '56': 'totally', '57': 'even', '58': 'molecules,', '59': 'and', '60': 'atoms', '61': 'all', '62': 'between', '63': 'force—acts', '64': 'gravitational', '65': 'the', '66': 'that—like', '67': 'force', '68': 'of', '69': 'type', '70': 'another', '71': 'a', '72': 'is', '73': 'there', '74': 'But', '75': 'molecules.', '76': 'dipolar', '77': 'or', '78': 'charged', '79': 'involving', '80': 'interactions', '81': 'electrostatic', '82': 'straightforward', '83': 'from', '84': 'arise', '85': 'they', '86': 'since', '87': 'understand,', '88': 'to', '89': 'easy', '90': 'fairly', '91': 'are', '92': 'far', '93': 'so', '94': 'described', '95': 'forces', '96': 'physical', '97': 'of', '98': 'types', '99': 'various', '100': 'The'} "
   ]
  },
  {
   "cell_type": "code",
   "execution_count": 12,
   "metadata": {},
   "outputs": [
    {
     "data": {
      "text/plain": [
       "True"
      ]
     },
     "execution_count": 12,
     "metadata": {},
     "output_type": "execute_result"
    }
   ],
   "source": [
    "Di == {'1': 'do', '2': 'to', '3': 'has', '4': 'name', '5': 'this', '6': 'of', '7': 'origin', '8': 'The', '9': 'known.', '10': 'widely', '11': 'most', '12': 'are', '13': 'they', '14': 'that', '15': 'name', '16': 'this', '17': 'by', '18': 'is', '19': 'it', '20': 'since', '21': 'forces,', '22': 'dispersion', '23': 'as', '24': 'them', '25': 'to', '26': 'refer', '27': 'shall', '28': 'We', '29': 'forces.', '30': 'induceddipole-induced-dipole', '31': 'and', '32': 'forces,', '33': 'electrodynamic', '34': 'forces,', '35': 'charge-fluctuation', '36': 'forces,', '37': 'London', '38': 'forces,', '39': 'dispersion', '40': 'as', '41': 'known', '42': 'variously', '43': 'been', '44': 'have', '45': 'forces', '46': 'These', '47': 'hydrocarbons.', '48': 'and', '49': 'dioxide,', '50': 'carbon', '51': 'helium,', '52': 'as', '53': 'such', '54': 'ones', '55': 'neutral', '56': 'totally', '57': 'even', '58': 'molecules,', '59': 'and', '60': 'atoms', '61': 'all', '62': 'between', '63': 'force—acts', '64': 'gravitational', '65': 'the', '66': 'that—like', '67': 'force', '68': 'of', '69': 'type', '70': 'another', '71': 'a', '72': 'is', '73': 'there', '74': 'But', '75': 'molecules.', '76': 'dipolar', '77': 'or', '78': 'charged', '79': 'involving', '80': 'interactions', '81': 'electrostatic', '82': 'straightforward', '83': 'from', '84': 'arise', '85': 'they', '86': 'since', '87': 'understand,', '88': 'to', '89': 'easy', '90': 'fairly', '91': 'are', '92': 'far', '93': 'so', '94': 'described', '95': 'forces', '96': 'physical', '97': 'of', '98': 'types', '99': 'various', '100': 'The'} "
   ]
  },
  {
   "cell_type": "code",
   "execution_count": 17,
   "metadata": {},
   "outputs": [],
   "source": [
    "del Di['99']"
   ]
  },
  {
   "cell_type": "code",
   "execution_count": 19,
   "metadata": {},
   "outputs": [
    {
     "name": "stdout",
     "output_type": "stream",
     "text": [
      "['1', '2', '3', '4', '5', '6', '7', '8', '9', '10', '11', '12', '13', '14', '15', '16', '17', '18', '19', '20', '21', '22', '23', '24', '25', '26', '27', '28', '29', '30', '31', '32', '33', '34', '35', '36', '37', '38', '39', '40', '41', '42', '43', '44', '45', '46', '47', '48', '49', '50', '51', '52', '53', '54', '55', '56', '57', '58', '59', '60', '61', '62', '63', '64', '65', '66', '67', '68', '69', '70', '71', '72', '73', '74', '75', '76', '77', '78', '79', '80', '81', '82', '83', '84', '85', '86', '87', '88', '89', '90', '91', '92', '93', '94', '95', '96', '97', '98', '100']"
     ]
    }
   ],
   "source": [
    "print(list(Di.keys()), end = '')"
   ]
  },
  {
   "cell_type": "code",
   "execution_count": 20,
   "metadata": {},
   "outputs": [],
   "source": [
    "D1 = Di.copy()\n",
    "D2 = Di.copy()"
   ]
  },
  {
   "cell_type": "code",
   "execution_count": 25,
   "metadata": {},
   "outputs": [
    {
     "name": "stdout",
     "output_type": "stream",
     "text": [
      "{'30', '5', '33', '43', '3', '91', '4', '73', '9', '27', '22', '68', '39', '40', '29', '92', '81', '50', '49', '7', '95', '72', '36', '78', '10', '28', '70', '46', '98', '17', '41', '100', '75', '12', '87', '94', '1', '42', '67', '57', '97', '18', '62', '53', '74', '56', '82', '38', '32', '85', '24', '14', '54', '45', '25', '21', '65', '61', '37', '64', '23', '13', '60', '35', '83', '80', '55', '71', '76', '8', '59', '90', '47', '93', '20', '69', '11', '6', '84', '89', '63', '16', '15', '79', '88', '96', '31', '19', '44', '48', '34', '77', '52', '66', '86', '51', '58', '2', '26'} "
     ]
    }
   ],
   "source": [
    "print(D1.keys() & D2.keys(), end =' ')\n",
    "Set = (D1.keys() & D2.keys())"
   ]
  },
  {
   "cell_type": "code",
   "execution_count": 33,
   "metadata": {},
   "outputs": [
    {
     "name": "stdout",
     "output_type": "stream",
     "text": [
      "['1', '10', '100', '11', '12', '13', '14', '15', '16', '17', '18', '19', '2', '20', '21', '22', '23', '24', '25', '26', '27', '28', '29', '3', '30', '31', '32', '33', '34', '35', '36', '37', '38', '39', '4', '40', '41', '42', '43', '44', '45', '46', '47', '48', '49', '5', '50', '51', '52', '53', '54', '55', '56', '57', '58', '59', '6', '60', '61', '62', '63', '64', '65', '66', '67', '68', '69', '7', '70', '71', '72', '73', '74', '75', '76', '77', '78', '79', '8', '80', '81', '82', '83', '84', '85', '86', '87', '88', '89', '9', '90', '91', '92', '93', '94', '95', '96', '97', '98']\n"
     ]
    }
   ],
   "source": [
    "L = list(D1.keys() & D2.keys())\n",
    "L.sort()\n",
    "print(L)"
   ]
  },
  {
   "cell_type": "markdown",
   "metadata": {},
   "source": [
    "Lists and dictionaries are grown in different ways, though. You won't see dictionaries constructed using literals. As a matter of the fact, dictionaries are grown at runtime and in-place. You just need to assign new values to the new key. On the other hand, lists are commonly grown with append instead."
   ]
  },
  {
   "cell_type": "markdown",
   "metadata": {},
   "source": [
    "### Dictionaries in Action"
   ]
  },
  {
   "cell_type": "markdown",
   "metadata": {},
   "source": [
    "Basic Dictionary Operations"
   ]
  },
  {
   "cell_type": "code",
   "execution_count": 39,
   "metadata": {},
   "outputs": [],
   "source": [
    "D = {'spam': 2, 'ham':1, 'eggs':3} # Make a dictionary"
   ]
  },
  {
   "cell_type": "code",
   "execution_count": 40,
   "metadata": {},
   "outputs": [
    {
     "data": {
      "text/plain": [
       "2"
      ]
     },
     "execution_count": 40,
     "metadata": {},
     "output_type": "execute_result"
    }
   ],
   "source": [
    "D['spam']"
   ]
  },
  {
   "cell_type": "code",
   "execution_count": 41,
   "metadata": {},
   "outputs": [
    {
     "data": {
      "text/plain": [
       "{'spam': 2, 'ham': 1, 'eggs': 3}"
      ]
     },
     "execution_count": 41,
     "metadata": {},
     "output_type": "execute_result"
    }
   ],
   "source": [
    "D # Order "
   ]
  },
  {
   "cell_type": "code",
   "execution_count": 42,
   "metadata": {},
   "outputs": [
    {
     "data": {
      "text/plain": [
       "{'spam': 2, 'ham': 1, 'eggs': 3}"
      ]
     },
     "execution_count": 42,
     "metadata": {},
     "output_type": "execute_result"
    }
   ],
   "source": [
    "D"
   ]
  },
  {
   "cell_type": "markdown",
   "metadata": {},
   "source": [
    "Changing Dictionaries In-Place"
   ]
  },
  {
   "cell_type": "code",
   "execution_count": 43,
   "metadata": {},
   "outputs": [],
   "source": [
    "D['ham'] = ['grill','bake','fry']"
   ]
  },
  {
   "cell_type": "code",
   "execution_count": 44,
   "metadata": {},
   "outputs": [
    {
     "data": {
      "text/plain": [
       "{'spam': 2, 'ham': ['grill', 'bake', 'fry'], 'eggs': 3}"
      ]
     },
     "execution_count": 44,
     "metadata": {},
     "output_type": "execute_result"
    }
   ],
   "source": [
    "D"
   ]
  },
  {
   "cell_type": "code",
   "execution_count": 45,
   "metadata": {},
   "outputs": [],
   "source": [
    "del D['eggs']"
   ]
  },
  {
   "cell_type": "code",
   "execution_count": 46,
   "metadata": {},
   "outputs": [
    {
     "data": {
      "text/plain": [
       "{'spam': 2, 'ham': ['grill', 'bake', 'fry']}"
      ]
     },
     "execution_count": 46,
     "metadata": {},
     "output_type": "execute_result"
    }
   ],
   "source": [
    "D"
   ]
  },
  {
   "cell_type": "code",
   "execution_count": 47,
   "metadata": {},
   "outputs": [],
   "source": [
    "D['brunch'] = 'Bacon' # Add new entry"
   ]
  },
  {
   "cell_type": "code",
   "execution_count": 48,
   "metadata": {},
   "outputs": [
    {
     "data": {
      "text/plain": [
       "{'spam': 2, 'ham': ['grill', 'bake', 'fry'], 'brunch': 'Bacon'}"
      ]
     },
     "execution_count": 48,
     "metadata": {},
     "output_type": "execute_result"
    }
   ],
   "source": [
    "D"
   ]
  },
  {
   "cell_type": "code",
   "execution_count": 49,
   "metadata": {},
   "outputs": [],
   "source": [
    "D = {'spam':2,'ham':1,'eggs':3}"
   ]
  },
  {
   "cell_type": "code",
   "execution_count": 50,
   "metadata": {},
   "outputs": [
    {
     "data": {
      "text/plain": [
       "[2, 1, 3]"
      ]
     },
     "execution_count": 50,
     "metadata": {},
     "output_type": "execute_result"
    }
   ],
   "source": [
    "list(D.values())"
   ]
  },
  {
   "cell_type": "code",
   "execution_count": 52,
   "metadata": {},
   "outputs": [
    {
     "data": {
      "text/plain": [
       "3"
      ]
     },
     "execution_count": 52,
     "metadata": {},
     "output_type": "execute_result"
    }
   ],
   "source": [
    "len(list(D.items()))"
   ]
  },
  {
   "cell_type": "code",
   "execution_count": 54,
   "metadata": {},
   "outputs": [
    {
     "data": {
      "text/plain": [
       "list"
      ]
     },
     "execution_count": 54,
     "metadata": {},
     "output_type": "execute_result"
    }
   ],
   "source": [
    "type(list(D.items()))"
   ]
  },
  {
   "cell_type": "code",
   "execution_count": 55,
   "metadata": {},
   "outputs": [],
   "source": [
    "D2 = dict.fromkeys(list(D.items()))"
   ]
  },
  {
   "cell_type": "code",
   "execution_count": 56,
   "metadata": {},
   "outputs": [
    {
     "name": "stdout",
     "output_type": "stream",
     "text": [
      "{('spam', 2): None, ('ham', 1): None, ('eggs', 3): None}\n"
     ]
    }
   ],
   "source": [
    "print(D2)"
   ]
  },
  {
   "cell_type": "code",
   "execution_count": 57,
   "metadata": {},
   "outputs": [],
   "source": [
    "D3 = {x: x for x in list(D.items())}"
   ]
  },
  {
   "cell_type": "code",
   "execution_count": 58,
   "metadata": {},
   "outputs": [
    {
     "name": "stdout",
     "output_type": "stream",
     "text": [
      "{('spam', 2): ('spam', 2), ('ham', 1): ('ham', 1), ('eggs', 3): ('eggs', 3)}\n"
     ]
    }
   ],
   "source": [
    "print(D3)"
   ]
  },
  {
   "cell_type": "code",
   "execution_count": 59,
   "metadata": {},
   "outputs": [
    {
     "data": {
      "text/plain": [
       "2"
      ]
     },
     "execution_count": 59,
     "metadata": {},
     "output_type": "execute_result"
    }
   ],
   "source": [
    "D.get('spam')"
   ]
  },
  {
   "cell_type": "code",
   "execution_count": 61,
   "metadata": {},
   "outputs": [
    {
     "name": "stdout",
     "output_type": "stream",
     "text": [
      "None\n"
     ]
    }
   ],
   "source": [
    "print(D.get('toast'))"
   ]
  },
  {
   "cell_type": "code",
   "execution_count": 64,
   "metadata": {},
   "outputs": [
    {
     "data": {
      "text/plain": [
       "88"
      ]
     },
     "execution_count": 64,
     "metadata": {},
     "output_type": "execute_result"
    }
   ],
   "source": [
    "D.get('toast',88) # set default to 88, if 'toast' doesn't exist in a dictionary, return 88."
   ]
  },
  {
   "cell_type": "code",
   "execution_count": 63,
   "metadata": {},
   "outputs": [
    {
     "name": "stdout",
     "output_type": "stream",
     "text": [
      "{'spam': 2, 'ham': 1, 'eggs': 3} "
     ]
    }
   ],
   "source": [
    "print(D, end = ' ')"
   ]
  },
  {
   "cell_type": "markdown",
   "metadata": {},
   "source": [
    "The update method can be used for concatenation for dictionaries (but has nothing to do with left-to-right ordering)"
   ]
  },
  {
   "cell_type": "code",
   "execution_count": 72,
   "metadata": {},
   "outputs": [],
   "source": [
    "D1 = {'toast': 4, 'muffin':5}"
   ]
  },
  {
   "cell_type": "code",
   "execution_count": 73,
   "metadata": {},
   "outputs": [],
   "source": [
    "D.update(D1)"
   ]
  },
  {
   "cell_type": "code",
   "execution_count": 74,
   "metadata": {},
   "outputs": [
    {
     "name": "stdout",
     "output_type": "stream",
     "text": [
      "{'spam': 2, 'ham': 1, 'eggs': 3, 'toast': 4, 'muffin': 5}\n"
     ]
    }
   ],
   "source": [
    "print(D)"
   ]
  },
  {
   "cell_type": "code",
   "execution_count": 75,
   "metadata": {},
   "outputs": [
    {
     "data": {
      "text/plain": [
       "4"
      ]
     },
     "execution_count": 75,
     "metadata": {},
     "output_type": "execute_result"
    }
   ],
   "source": [
    "# pop a dictionary by key\n",
    "D\n",
    "D.pop('muffin')\n",
    "D.pop('toast')"
   ]
  },
  {
   "cell_type": "code",
   "execution_count": 76,
   "metadata": {},
   "outputs": [
    {
     "data": {
      "text/plain": [
       "'bb'"
      ]
     },
     "execution_count": 76,
     "metadata": {},
     "output_type": "execute_result"
    }
   ],
   "source": [
    "# pop a list by position\n",
    "L = ['aa','bb','cc','dd'] \n",
    "L.pop()  # delete and return from the end\n",
    "L\n",
    "L.pop(1)"
   ]
  },
  {
   "cell_type": "code",
   "execution_count": 77,
   "metadata": {},
   "outputs": [
    {
     "data": {
      "text/plain": [
       "['aa', 'cc']"
      ]
     },
     "execution_count": 77,
     "metadata": {},
     "output_type": "execute_result"
    }
   ],
   "source": [
    "L"
   ]
  },
  {
   "cell_type": "markdown",
   "metadata": {},
   "source": [
    "## A Languages Table"
   ]
  },
  {
   "cell_type": "code",
   "execution_count": 1,
   "metadata": {},
   "outputs": [],
   "source": [
    "table = {\"Python\": 'Guido van Rossum',\n",
    "        'Perl': 'Larry Wall',\n",
    "        'Tcl': 'John Ousterhout'}"
   ]
  },
  {
   "cell_type": "code",
   "execution_count": 2,
   "metadata": {},
   "outputs": [
    {
     "data": {
      "text/plain": [
       "'Guido van Rossum'"
      ]
     },
     "execution_count": 2,
     "metadata": {},
     "output_type": "execute_result"
    }
   ],
   "source": [
    "language = 'Python'\n",
    "creator = table[language]\n",
    "creator"
   ]
  },
  {
   "cell_type": "code",
   "execution_count": 3,
   "metadata": {},
   "outputs": [
    {
     "name": "stdout",
     "output_type": "stream",
     "text": [
      "Python \t Guido van Rossum\n",
      "Perl \t Larry Wall\n",
      "Tcl \t John Ousterhout\n"
     ]
    }
   ],
   "source": [
    "for lang in table:\n",
    "    print(lang, '\\t', table[lang])  # Same as: for lang in table.keys()"
   ]
  },
  {
   "cell_type": "markdown",
   "metadata": {},
   "source": [
    "## Dictionary Usage Notes"
   ]
  },
  {
   "cell_type": "markdown",
   "metadata": {},
   "source": [
    "1. Sequence operation don't work\n",
    "Dictionaries are mappings, not sequences; there is no notion of ordering among their items. \n",
    "\n",
    "2. Assiging to new indexes adds entries\n",
    "Keys can be created when you write a dictionary literal.\n",
    "\n",
    "3. Keys need not always be strings.\n",
    "You can use any immutable objects as keys. Tuples are sometimes used as dictonary keys too, allowing for compound key values. You can use dictionary as dictonary keys, too. "
   ]
  },
  {
   "cell_type": "markdown",
   "metadata": {},
   "source": [
    "Using dictionaries to simulate flexible lists"
   ]
  },
  {
   "cell_type": "code",
   "execution_count": 5,
   "metadata": {},
   "outputs": [],
   "source": [
    "L = []\n",
    "# L[99] = 'spam' # list assignment index out of range"
   ]
  },
  {
   "cell_type": "code",
   "execution_count": 6,
   "metadata": {},
   "outputs": [
    {
     "data": {
      "text/plain": [
       "'spam'"
      ]
     },
     "execution_count": 6,
     "metadata": {},
     "output_type": "execute_result"
    }
   ],
   "source": [
    "D = {}\n",
    "D[99] = 'spam'\n",
    "D[99]"
   ]
  },
  {
   "cell_type": "code",
   "execution_count": 7,
   "metadata": {},
   "outputs": [
    {
     "data": {
      "text/plain": [
       "{99: 'spam'}"
      ]
     },
     "execution_count": 7,
     "metadata": {},
     "output_type": "execute_result"
    }
   ],
   "source": [
    "D"
   ]
  },
  {
   "cell_type": "markdown",
   "metadata": {},
   "source": [
    "Using dictionaries for sparse data structures"
   ]
  },
  {
   "cell_type": "code",
   "execution_count": 8,
   "metadata": {},
   "outputs": [],
   "source": [
    "Matrix = {}\n",
    "Matrix[(2,3,4)] = 88\n",
    "Matrix[(7,8,9)] = 99\n",
    "X = 2 ; Y = 3; Z = 4 # ; separates statements"
   ]
  },
  {
   "cell_type": "code",
   "execution_count": 9,
   "metadata": {},
   "outputs": [
    {
     "data": {
      "text/plain": [
       "88"
      ]
     },
     "execution_count": 9,
     "metadata": {},
     "output_type": "execute_result"
    }
   ],
   "source": [
    "Matrix[(X,Y,Z)]"
   ]
  },
  {
   "cell_type": "code",
   "execution_count": 10,
   "metadata": {},
   "outputs": [
    {
     "data": {
      "text/plain": [
       "{(2, 3, 4): 88, (7, 8, 9): 99}"
      ]
     },
     "execution_count": 10,
     "metadata": {},
     "output_type": "execute_result"
    }
   ],
   "source": [
    "Matrix"
   ]
  },
  {
   "cell_type": "markdown",
   "metadata": {},
   "source": [
    "## Dictionary comprehensions"
   ]
  },
  {
   "cell_type": "code",
   "execution_count": 12,
   "metadata": {},
   "outputs": [
    {
     "data": {
      "text/plain": [
       "[('a', 1), ('b', 2), ('c', 3)]"
      ]
     },
     "execution_count": 12,
     "metadata": {},
     "output_type": "execute_result"
    }
   ],
   "source": [
    "list(zip(['a','b','c'],[1,2,3])) # Zip together keys and values"
   ]
  },
  {
   "cell_type": "code",
   "execution_count": 13,
   "metadata": {},
   "outputs": [
    {
     "data": {
      "text/plain": [
       "{'a': 1, 'b': 2, 'c': 3}"
      ]
     },
     "execution_count": 13,
     "metadata": {},
     "output_type": "execute_result"
    }
   ],
   "source": [
    "D = dict(zip(['a','b','c'],[1,2,3])) # Make a dict from zip result\n",
    "D "
   ]
  },
  {
   "cell_type": "code",
   "execution_count": 14,
   "metadata": {},
   "outputs": [],
   "source": [
    "D = {k: v for (k,v) in zip(['a','b','c'],[1,2,3])}"
   ]
  },
  {
   "cell_type": "code",
   "execution_count": 15,
   "metadata": {},
   "outputs": [
    {
     "data": {
      "text/plain": [
       "{'a': 1, 'b': 2, 'c': 3}"
      ]
     },
     "execution_count": 15,
     "metadata": {},
     "output_type": "execute_result"
    }
   ],
   "source": [
    "D"
   ]
  },
  {
   "cell_type": "code",
   "execution_count": 16,
   "metadata": {},
   "outputs": [],
   "source": [
    "L1 = \"\"\"Comprehensions actually require more code in this case, but they are also more general\n",
    "than this example implies—we can use them to map a single stream of values to dictionaries as well, and keys can be computed with expressions just like values\"\"\".split()"
   ]
  },
  {
   "cell_type": "code",
   "execution_count": 18,
   "metadata": {},
   "outputs": [
    {
     "name": "stdout",
     "output_type": "stream",
     "text": [
      "['Comprehensions', 'actually', 'require', 'more', 'code', 'in', 'this', 'case,', 'but', 'they', 'are', 'also', 'more', 'general', 'than', 'this', 'example', 'implies—we', 'can', 'use', 'them', 'to', 'map', 'a', 'single', 'stream', 'of', 'values', 'to', 'dictionaries', 'as', 'well,', 'and', 'keys', 'can', 'be', 'computed', 'with', 'expressions', 'just', 'like', 'values'] "
     ]
    }
   ],
   "source": [
    "print(L1, end = ' ')"
   ]
  },
  {
   "cell_type": "code",
   "execution_count": 20,
   "metadata": {},
   "outputs": [],
   "source": [
    "L = []\n",
    "for i in range(100):\n",
    "    L.append(str(i))"
   ]
  },
  {
   "cell_type": "code",
   "execution_count": 21,
   "metadata": {},
   "outputs": [
    {
     "name": "stdout",
     "output_type": "stream",
     "text": [
      "['0', '1', '2', '3', '4', '5', '6', '7', '8', '9', '10', '11', '12', '13', '14', '15', '16', '17', '18', '19', '20', '21', '22', '23', '24', '25', '26', '27', '28', '29', '30', '31', '32', '33', '34', '35', '36', '37', '38', '39', '40', '41', '42', '43', '44', '45', '46', '47', '48', '49', '50', '51', '52', '53', '54', '55', '56', '57', '58', '59', '60', '61', '62', '63', '64', '65', '66', '67', '68', '69', '70', '71', '72', '73', '74', '75', '76', '77', '78', '79', '80', '81', '82', '83', '84', '85', '86', '87', '88', '89', '90', '91', '92', '93', '94', '95', '96', '97', '98', '99'] "
     ]
    }
   ],
   "source": [
    "print(L, end =' ')"
   ]
  },
  {
   "cell_type": "code",
   "execution_count": 40,
   "metadata": {},
   "outputs": [],
   "source": [
    "L3 = ['0', '1', '1', '2', '2', '3', '3', '4', '4', '5', '5', '6', '6', '7', '7', '8', '8', '9', '9', '10', '10', '11', '11', '12', '12', '13', '13', '14', '14', '15', '15', '16', '16', '17', '17', '18', '18', '19', '19', '20', '20', '21', '21', '22', '22', '23', '23', '24', '24', '25', '25', '26', '26', '27', '27', '28', '28', '29', '29', '30', '30', '31', '31', '32', '32', '33', '33', '34', '34', '35', '35', '36', '36', '37', '37', '38', '38', '39', '39', '40', '40', '41', '41', '42', '42', '43', '43', '44', '44', '45', '45', '46', '46', '47', '47', '48', '48', '49', '49', '50'] \n",
    "for i in range(50):\n",
    "    L3[i]=L[i:i+2]"
   ]
  },
  {
   "cell_type": "code",
   "execution_count": 41,
   "metadata": {},
   "outputs": [
    {
     "name": "stdout",
     "output_type": "stream",
     "text": [
      "[['0', '1'], ['1', '2'], ['2', '3'], ['3', '4'], ['4', '5'], ['5', '6'], ['6', '7'], ['7', '8'], ['8', '9'], ['9', '10'], ['10', '11'], ['11', '12'], ['12', '13'], ['13', '14'], ['14', '15'], ['15', '16'], ['16', '17'], ['17', '18'], ['18', '19'], ['19', '20'], ['20', '21'], ['21', '22'], ['22', '23'], ['23', '24'], ['24', '25'], ['25', '26'], ['26', '27'], ['27', '28'], ['28', '29'], ['29', '30'], ['30', '31'], ['31', '32'], ['32', '33'], ['33', '34'], ['34', '35'], ['35', '36'], ['36', '37'], ['37', '38'], ['38', '39'], ['39', '40'], ['40', '41'], ['41', '42'], ['42', '43'], ['43', '44'], ['44', '45'], ['45', '46'], ['46', '47'], ['47', '48'], ['48', '49'], ['49', '50'], '25', '26', '26', '27', '27', '28', '28', '29', '29', '30', '30', '31', '31', '32', '32', '33', '33', '34', '34', '35', '35', '36', '36', '37', '37', '38', '38', '39', '39', '40', '40', '41', '41', '42', '42', '43', '43', '44', '44', '45', '45', '46', '46', '47', '47', '48', '48', '49', '49', '50'] "
     ]
    }
   ],
   "source": [
    "print(L3, end = ' ')"
   ]
  },
  {
   "cell_type": "code",
   "execution_count": 43,
   "metadata": {},
   "outputs": [
    {
     "data": {
      "text/plain": [
       "49"
      ]
     },
     "execution_count": 43,
     "metadata": {},
     "output_type": "execute_result"
    }
   ],
   "source": [
    "L3.index(['49','50'])"
   ]
  },
  {
   "cell_type": "code",
   "execution_count": 44,
   "metadata": {},
   "outputs": [],
   "source": [
    "L3 = L3[0:50]"
   ]
  },
  {
   "cell_type": "code",
   "execution_count": 45,
   "metadata": {},
   "outputs": [
    {
     "name": "stdout",
     "output_type": "stream",
     "text": [
      "[['0', '1'], ['1', '2'], ['2', '3'], ['3', '4'], ['4', '5'], ['5', '6'], ['6', '7'], ['7', '8'], ['8', '9'], ['9', '10'], ['10', '11'], ['11', '12'], ['12', '13'], ['13', '14'], ['14', '15'], ['15', '16'], ['16', '17'], ['17', '18'], ['18', '19'], ['19', '20'], ['20', '21'], ['21', '22'], ['22', '23'], ['23', '24'], ['24', '25'], ['25', '26'], ['26', '27'], ['27', '28'], ['28', '29'], ['29', '30'], ['30', '31'], ['31', '32'], ['32', '33'], ['33', '34'], ['34', '35'], ['35', '36'], ['36', '37'], ['37', '38'], ['38', '39'], ['39', '40'], ['40', '41'], ['41', '42'], ['42', '43'], ['43', '44'], ['44', '45'], ['45', '46'], ['46', '47'], ['47', '48'], ['48', '49'], ['49', '50']] "
     ]
    }
   ],
   "source": [
    "print(L3, end = ' ')"
   ]
  },
  {
   "cell_type": "code",
   "execution_count": 47,
   "metadata": {},
   "outputs": [
    {
     "name": "stdout",
     "output_type": "stream",
     "text": [
      "['Comprehensions', 'actually', 'require', 'more', 'code', 'in', 'this', 'case,', 'but', 'they', 'are', 'also', 'more', 'general', 'than', 'this', 'example', 'implies—we', 'can', 'use', 'them', 'to', 'map', 'a', 'single', 'stream', 'of', 'values', 'to', 'dictionaries', 'as', 'well,', 'and', 'keys', 'can', 'be', 'computed', 'with', 'expressions', 'just', 'like', 'values'] "
     ]
    }
   ],
   "source": [
    "print(L1, end = ' ')"
   ]
  },
  {
   "cell_type": "code",
   "execution_count": 48,
   "metadata": {},
   "outputs": [
    {
     "data": {
      "text/plain": [
       "42"
      ]
     },
     "execution_count": 48,
     "metadata": {},
     "output_type": "execute_result"
    }
   ],
   "source": [
    "len(L1)"
   ]
  },
  {
   "cell_type": "code",
   "execution_count": 49,
   "metadata": {},
   "outputs": [],
   "source": [
    "L3 = L3[0:42]"
   ]
  },
  {
   "cell_type": "code",
   "execution_count": 51,
   "metadata": {},
   "outputs": [],
   "source": [
    "# D = dict(zip(L3,L1)) # unhashable type: 'list' "
   ]
  },
  {
   "cell_type": "code",
   "execution_count": 52,
   "metadata": {},
   "outputs": [
    {
     "data": {
      "text/plain": [
       "{1: 1, 2: 4, 3: 9, 4: 16}"
      ]
     },
     "execution_count": 52,
     "metadata": {},
     "output_type": "execute_result"
    }
   ],
   "source": [
    "D = {x: x**2 for x in [1,2,3,4]} # Or: range(1,5)\n",
    "D"
   ]
  },
  {
   "cell_type": "code",
   "execution_count": 53,
   "metadata": {},
   "outputs": [],
   "source": [
    "D = {c: c*4 for c in 'SPAM'} # Loop over any iterable"
   ]
  },
  {
   "cell_type": "code",
   "execution_count": 54,
   "metadata": {},
   "outputs": [
    {
     "data": {
      "text/plain": [
       "{'S': 'SSSS', 'P': 'PPPP', 'A': 'AAAA', 'M': 'MMMM'}"
      ]
     },
     "execution_count": 54,
     "metadata": {},
     "output_type": "execute_result"
    }
   ],
   "source": [
    "D"
   ]
  },
  {
   "cell_type": "code",
   "execution_count": 55,
   "metadata": {},
   "outputs": [],
   "source": [
    "D = {c.lower(): c + '!' for c in ['SPAM',\"EGGS\",'HAM']}"
   ]
  },
  {
   "cell_type": "code",
   "execution_count": 56,
   "metadata": {},
   "outputs": [
    {
     "data": {
      "text/plain": [
       "{'spam': 'SPAM!', 'eggs': 'EGGS!', 'ham': 'HAM!'}"
      ]
     },
     "execution_count": 56,
     "metadata": {},
     "output_type": "execute_result"
    }
   ],
   "source": [
    "D"
   ]
  },
  {
   "cell_type": "markdown",
   "metadata": {},
   "source": [
    "Dictionary comprehensions are also useful for initializing dictionaries from keys lists, in much the same way as the fromkeys method we met at the end of the preceding section."
   ]
  },
  {
   "cell_type": "code",
   "execution_count": 57,
   "metadata": {},
   "outputs": [],
   "source": [
    "D = dict.fromkeys(['a','b','c'], 0) # Initialize dict from keys"
   ]
  },
  {
   "cell_type": "code",
   "execution_count": 58,
   "metadata": {},
   "outputs": [
    {
     "data": {
      "text/plain": [
       "{'a': 0, 'b': 0, 'c': 0}"
      ]
     },
     "execution_count": 58,
     "metadata": {},
     "output_type": "execute_result"
    }
   ],
   "source": [
    "D"
   ]
  },
  {
   "cell_type": "code",
   "execution_count": 59,
   "metadata": {},
   "outputs": [],
   "source": [
    "D = {k:0 for k in ['a','b','c']} # Same, but with a coomprehension"
   ]
  },
  {
   "cell_type": "code",
   "execution_count": 60,
   "metadata": {},
   "outputs": [],
   "source": [
    "D = dict.fromkeys('spam') # Other iterators, default value"
   ]
  },
  {
   "cell_type": "code",
   "execution_count": 61,
   "metadata": {},
   "outputs": [
    {
     "data": {
      "text/plain": [
       "{'s': None, 'p': None, 'a': None, 'm': None}"
      ]
     },
     "execution_count": 61,
     "metadata": {},
     "output_type": "execute_result"
    }
   ],
   "source": [
    "D"
   ]
  },
  {
   "cell_type": "code",
   "execution_count": 62,
   "metadata": {},
   "outputs": [],
   "source": [
    "D = {k: None for k in 'spam'}"
   ]
  },
  {
   "cell_type": "code",
   "execution_count": 63,
   "metadata": {},
   "outputs": [
    {
     "data": {
      "text/plain": [
       "{'s': None, 'p': None, 'a': None, 'm': None}"
      ]
     },
     "execution_count": 63,
     "metadata": {},
     "output_type": "execute_result"
    }
   ],
   "source": [
    "D"
   ]
  },
  {
   "cell_type": "code",
   "execution_count": 64,
   "metadata": {},
   "outputs": [],
   "source": [
    "D = dict(a=1, b =2, c=3)"
   ]
  },
  {
   "cell_type": "code",
   "execution_count": 65,
   "metadata": {},
   "outputs": [
    {
     "data": {
      "text/plain": [
       "{'a': 1, 'b': 2, 'c': 3}"
      ]
     },
     "execution_count": 65,
     "metadata": {},
     "output_type": "execute_result"
    }
   ],
   "source": [
    "D"
   ]
  },
  {
   "cell_type": "code",
   "execution_count": 66,
   "metadata": {},
   "outputs": [],
   "source": [
    "K = D.keys() # Makes a view object in 3.0, not a list"
   ]
  },
  {
   "cell_type": "code",
   "execution_count": 68,
   "metadata": {},
   "outputs": [
    {
     "data": {
      "text/plain": [
       "dict_keys(['a', 'b', 'c'])"
      ]
     },
     "execution_count": 68,
     "metadata": {},
     "output_type": "execute_result"
    }
   ],
   "source": [
    "K"
   ]
  },
  {
   "cell_type": "code",
   "execution_count": 69,
   "metadata": {},
   "outputs": [
    {
     "data": {
      "text/plain": [
       "['a', 'b', 'c']"
      ]
     },
     "execution_count": 69,
     "metadata": {},
     "output_type": "execute_result"
    }
   ],
   "source": [
    "list(K)"
   ]
  },
  {
   "cell_type": "code",
   "execution_count": 72,
   "metadata": {},
   "outputs": [],
   "source": [
    "V = D.values() # Ditto for values and items views"
   ]
  },
  {
   "cell_type": "code",
   "execution_count": 71,
   "metadata": {},
   "outputs": [
    {
     "data": {
      "text/plain": [
       "dict_values([1, 2, 3])"
      ]
     },
     "execution_count": 71,
     "metadata": {},
     "output_type": "execute_result"
    }
   ],
   "source": [
    "V"
   ]
  },
  {
   "cell_type": "code",
   "execution_count": 74,
   "metadata": {},
   "outputs": [
    {
     "data": {
      "text/plain": [
       "[('a', 1), ('b', 2), ('c', 3)]"
      ]
     },
     "execution_count": 74,
     "metadata": {},
     "output_type": "execute_result"
    }
   ],
   "source": [
    "list(V)\n",
    "list(D.items())\n",
    "# K[0] # List operations fail unless converted # 'dict_keys' object is not subscriptable"
   ]
  },
  {
   "cell_type": "code",
   "execution_count": 75,
   "metadata": {},
   "outputs": [
    {
     "data": {
      "text/plain": [
       "'a'"
      ]
     },
     "execution_count": 75,
     "metadata": {},
     "output_type": "execute_result"
    }
   ],
   "source": [
    "list(K)[0]"
   ]
  },
  {
   "cell_type": "code",
   "execution_count": 76,
   "metadata": {},
   "outputs": [
    {
     "name": "stdout",
     "output_type": "stream",
     "text": [
      "a\n",
      "b\n",
      "c\n"
     ]
    }
   ],
   "source": [
    "for k in D.keys(): print(k) # Iterators used automatically in loops"
   ]
  },
  {
   "cell_type": "code",
   "execution_count": 77,
   "metadata": {},
   "outputs": [
    {
     "name": "stdout",
     "output_type": "stream",
     "text": [
      "a\n",
      "b\n",
      "c\n"
     ]
    }
   ],
   "source": [
    "for key in D:\n",
    "    print(key)"
   ]
  },
  {
   "cell_type": "markdown",
   "metadata": {},
   "source": [
    "Unlike 2.X’s list results, though, dictionary views in 3.0 are not carved in stone when created—they dynamically reflect future changes made to the dictionary after the view object has been created."
   ]
  },
  {
   "cell_type": "code",
   "execution_count": 11,
   "metadata": {},
   "outputs": [],
   "source": [
    "D = {'a': 1, 'c': 3, 'b':2}"
   ]
  },
  {
   "cell_type": "code",
   "execution_count": 2,
   "metadata": {},
   "outputs": [
    {
     "data": {
      "text/plain": [
       "{'a': 1, 'b': 2, 'c': 3}"
      ]
     },
     "execution_count": 2,
     "metadata": {},
     "output_type": "execute_result"
    }
   ],
   "source": [
    "D"
   ]
  },
  {
   "cell_type": "code",
   "execution_count": 7,
   "metadata": {},
   "outputs": [
    {
     "name": "stdout",
     "output_type": "stream",
     "text": [
      "['a', 'c', 'b']\n",
      "[1, 3, 2]\n"
     ]
    }
   ],
   "source": [
    "print(list(D.keys()))\n",
    "print(list(D.values())) # views maintain same order as dictionary"
   ]
  },
  {
   "cell_type": "code",
   "execution_count": 12,
   "metadata": {},
   "outputs": [],
   "source": [
    "del D['b'] # Change the dictionary in=place"
   ]
  },
  {
   "cell_type": "code",
   "execution_count": 9,
   "metadata": {},
   "outputs": [
    {
     "data": {
      "text/plain": [
       "{'a': 1, 'c': 3}"
      ]
     },
     "execution_count": 9,
     "metadata": {},
     "output_type": "execute_result"
    }
   ],
   "source": [
    "D"
   ]
  },
  {
   "cell_type": "markdown",
   "metadata": {},
   "source": [
    "## Dictionary views and sets"
   ]
  },
  {
   "cell_type": "code",
   "execution_count": 15,
   "metadata": {},
   "outputs": [
    {
     "data": {
      "text/plain": [
       "{'a', 'c', 'x'}"
      ]
     },
     "execution_count": 15,
     "metadata": {},
     "output_type": "execute_result"
    }
   ],
   "source": [
    "D.keys() | {'x': 4} # Keys (and some items) views are set-like"
   ]
  },
  {
   "cell_type": "code",
   "execution_count": 17,
   "metadata": {},
   "outputs": [],
   "source": [
    " # D.values() & {'x': 4} unsupported operand type(s) for &: 'dict_values' and 'dict'"
   ]
  },
  {
   "cell_type": "code",
   "execution_count": 18,
   "metadata": {},
   "outputs": [],
   "source": [
    "D = {'a': 11, 'b': 2, 'c': 3}"
   ]
  },
  {
   "cell_type": "code",
   "execution_count": 19,
   "metadata": {},
   "outputs": [
    {
     "data": {
      "text/plain": [
       "{'a', 'b', 'c'}"
      ]
     },
     "execution_count": 19,
     "metadata": {},
     "output_type": "execute_result"
    }
   ],
   "source": [
    "D.keys() & D.keys()   # Intersect keys views"
   ]
  },
  {
   "cell_type": "code",
   "execution_count": 20,
   "metadata": {},
   "outputs": [
    {
     "data": {
      "text/plain": [
       "{'b'}"
      ]
     },
     "execution_count": 20,
     "metadata": {},
     "output_type": "execute_result"
    }
   ],
   "source": [
    "D.keys() & {'b'}  # Intersect keys and sets"
   ]
  },
  {
   "cell_type": "code",
   "execution_count": 21,
   "metadata": {},
   "outputs": [
    {
     "data": {
      "text/plain": [
       "{'b'}"
      ]
     },
     "execution_count": 21,
     "metadata": {},
     "output_type": "execute_result"
    }
   ],
   "source": [
    "D.keys() & {'b': 1} # Intersect keys and dict"
   ]
  },
  {
   "cell_type": "code",
   "execution_count": 22,
   "metadata": {},
   "outputs": [
    {
     "data": {
      "text/plain": [
       "{'a', 'b', 'c', 'd'}"
      ]
     },
     "execution_count": 22,
     "metadata": {},
     "output_type": "execute_result"
    }
   ],
   "source": [
    "D.keys() | {'b', 'c', 'd'}  # Union keys and set"
   ]
  },
  {
   "cell_type": "markdown",
   "metadata": {},
   "source": [
    "Dictionary items views are set-like too if they are hashable—that is, if they contain only immutable objects"
   ]
  },
  {
   "cell_type": "code",
   "execution_count": 23,
   "metadata": {},
   "outputs": [
    {
     "data": {
      "text/plain": [
       "[('a', 1)]"
      ]
     },
     "execution_count": 23,
     "metadata": {},
     "output_type": "execute_result"
    }
   ],
   "source": [
    "D = {'a': 1}\n",
    "list(D.items()) # Items set-like if hashable"
   ]
  },
  {
   "cell_type": "code",
   "execution_count": 24,
   "metadata": {},
   "outputs": [
    {
     "data": {
      "text/plain": [
       "{('a', 1), 'a'}"
      ]
     },
     "execution_count": 24,
     "metadata": {},
     "output_type": "execute_result"
    }
   ],
   "source": [
    "D.items() | D.keys() # Union view and view"
   ]
  },
  {
   "cell_type": "code",
   "execution_count": 25,
   "metadata": {},
   "outputs": [
    {
     "data": {
      "text/plain": [
       "{('a', 1), 'a'}"
      ]
     },
     "execution_count": 25,
     "metadata": {},
     "output_type": "execute_result"
    }
   ],
   "source": [
    "D.items() | D # dict treated same as its keys"
   ]
  },
  {
   "cell_type": "code",
   "execution_count": 26,
   "metadata": {},
   "outputs": [
    {
     "data": {
      "text/plain": [
       "{('a', 1), ('c', 3), ('d', 4)}"
      ]
     },
     "execution_count": 26,
     "metadata": {},
     "output_type": "execute_result"
    }
   ],
   "source": [
    "D.items() | {('c', 3), ('d',4)} # Set of key/value pairs"
   ]
  },
  {
   "cell_type": "code",
   "execution_count": 29,
   "metadata": {},
   "outputs": [
    {
     "data": {
      "text/plain": [
       "{'c': 3, 'a': 1, 'd': 4}"
      ]
     },
     "execution_count": 29,
     "metadata": {},
     "output_type": "execute_result"
    }
   ],
   "source": [
    "dict(D.items() | {('c',3),('d', 4)}) # dict accepts iterable sets too"
   ]
  },
  {
   "cell_type": "markdown",
   "metadata": {},
   "source": [
    "## Sorting dictionary keys"
   ]
  },
  {
   "cell_type": "code",
   "execution_count": 30,
   "metadata": {},
   "outputs": [],
   "source": [
    "D = {'a':1, 'b': 2, 'c': 3}"
   ]
  },
  {
   "cell_type": "code",
   "execution_count": 31,
   "metadata": {},
   "outputs": [
    {
     "data": {
      "text/plain": [
       "{'a': 1, 'b': 2, 'c': 3}"
      ]
     },
     "execution_count": 31,
     "metadata": {},
     "output_type": "execute_result"
    }
   ],
   "source": [
    "D"
   ]
  },
  {
   "cell_type": "code",
   "execution_count": 32,
   "metadata": {},
   "outputs": [],
   "source": [
    "Ks = D.keys()  # Sorting a view object does't work"
   ]
  },
  {
   "cell_type": "code",
   "execution_count": 33,
   "metadata": {},
   "outputs": [],
   "source": [
    "Ks = list(Ks) # Force it to be a list and then sort"
   ]
  },
  {
   "cell_type": "code",
   "execution_count": 34,
   "metadata": {},
   "outputs": [],
   "source": [
    "Ks.sort()"
   ]
  },
  {
   "cell_type": "code",
   "execution_count": 35,
   "metadata": {},
   "outputs": [
    {
     "name": "stdout",
     "output_type": "stream",
     "text": [
      "a 1\n",
      "b 2\n",
      "c 3\n"
     ]
    }
   ],
   "source": [
    "for k in Ks:\n",
    "    print(k, D[k])"
   ]
  },
  {
   "cell_type": "code",
   "execution_count": 36,
   "metadata": {},
   "outputs": [
    {
     "data": {
      "text/plain": [
       "{'a': 1, 'b': 2, 'c': 3}"
      ]
     },
     "execution_count": 36,
     "metadata": {},
     "output_type": "execute_result"
    }
   ],
   "source": [
    "D"
   ]
  },
  {
   "cell_type": "code",
   "execution_count": 39,
   "metadata": {},
   "outputs": [],
   "source": [
    "Ks = D.keys()   # Or you can use sorted() on the keys"
   ]
  },
  {
   "cell_type": "code",
   "execution_count": 40,
   "metadata": {},
   "outputs": [
    {
     "name": "stdout",
     "output_type": "stream",
     "text": [
      "a 1\n",
      "b 2\n",
      "c 3\n"
     ]
    }
   ],
   "source": [
    "for k in sorted(Ks): print(k,D[k]) # sorted() accepts any iterable"
   ]
  },
  {
   "cell_type": "code",
   "execution_count": 41,
   "metadata": {},
   "outputs": [
    {
     "data": {
      "text/plain": [
       "{'a': 1, 'b': 2, 'c': 3}"
      ]
     },
     "execution_count": 41,
     "metadata": {},
     "output_type": "execute_result"
    }
   ],
   "source": [
    "D"
   ]
  },
  {
   "cell_type": "code",
   "execution_count": 42,
   "metadata": {},
   "outputs": [
    {
     "name": "stdout",
     "output_type": "stream",
     "text": [
      "a 1\n",
      "b 2\n",
      "c 3\n"
     ]
    }
   ],
   "source": [
    "for k in sorted(D): print(k, D[k])"
   ]
  },
  {
   "cell_type": "markdown",
   "metadata": {},
   "source": [
    "## The has_key method is dead: long live in?"
   ]
  },
  {
   "cell_type": "code",
   "execution_count": 43,
   "metadata": {},
   "outputs": [
    {
     "data": {
      "text/plain": [
       "{'a': 1, 'b': 2, 'c': 3}"
      ]
     },
     "execution_count": 43,
     "metadata": {},
     "output_type": "execute_result"
    }
   ],
   "source": [
    "D"
   ]
  },
  {
   "cell_type": "code",
   "execution_count": 44,
   "metadata": {},
   "outputs": [
    {
     "data": {
      "text/plain": [
       "True"
      ]
     },
     "execution_count": 44,
     "metadata": {},
     "output_type": "execute_result"
    }
   ],
   "source": [
    "'c' in D"
   ]
  },
  {
   "cell_type": "code",
   "execution_count": 45,
   "metadata": {},
   "outputs": [
    {
     "data": {
      "text/plain": [
       "False"
      ]
     },
     "execution_count": 45,
     "metadata": {},
     "output_type": "execute_result"
    }
   ],
   "source": [
    "'x' in D"
   ]
  },
  {
   "cell_type": "code",
   "execution_count": 47,
   "metadata": {},
   "outputs": [
    {
     "name": "stdout",
     "output_type": "stream",
     "text": [
      "present 3\n"
     ]
    }
   ],
   "source": [
    "if 'c' in D: print('present', D['c']) # Perferred in 3.0"
   ]
  },
  {
   "cell_type": "code",
   "execution_count": 48,
   "metadata": {},
   "outputs": [
    {
     "name": "stdout",
     "output_type": "stream",
     "text": [
      "3\n"
     ]
    }
   ],
   "source": [
    "print(D.get('c'))"
   ]
  },
  {
   "cell_type": "code",
   "execution_count": 49,
   "metadata": {},
   "outputs": [
    {
     "name": "stdout",
     "output_type": "stream",
     "text": [
      "None\n"
     ]
    }
   ],
   "source": [
    "print(D.get('x'))"
   ]
  },
  {
   "cell_type": "code",
   "execution_count": 51,
   "metadata": {},
   "outputs": [
    {
     "name": "stdout",
     "output_type": "stream",
     "text": [
      "present 3\n"
     ]
    }
   ],
   "source": [
    "if D.get('c') !=None: print('present', D['c']) # Another option"
   ]
  },
  {
   "cell_type": "markdown",
   "metadata": {},
   "source": [
    "## Chapter Summary"
   ]
  },
  {
   "cell_type": "markdown",
   "metadata": {},
   "source": [
    "In this chapter, we explored the list and dictionary types—probably the two most common, flexible, and powerful collection types you will see and use in Python code. We learned that the list type supports positionally ordered collections of arbitrary objects, and that it may be freely nested and grown and shrunk on demand. The dictionary type is similar, but it stores items by key instead of by position and does not maintain any reliable left-to-right order among its items. Both lists and dictionaries are mutable, and so support a variety of in-place change operations not available for strings: for example, lists can be grown by append calls, and dictionaries by assignment to new keys"
   ]
  },
  {
   "cell_type": "markdown",
   "metadata": {},
   "source": [
    "### Test Your Knowledge: Quiz"
   ]
  },
  {
   "cell_type": "markdown",
   "metadata": {},
   "source": [
    "1. Name two ways to build a list containing five integer zeros"
   ]
  },
  {
   "cell_type": "code",
   "execution_count": 52,
   "metadata": {},
   "outputs": [],
   "source": [
    "L = []\n",
    "for i in range(5):\n",
    "    L.append(0)"
   ]
  },
  {
   "cell_type": "code",
   "execution_count": 53,
   "metadata": {},
   "outputs": [
    {
     "data": {
      "text/plain": [
       "[0, 0, 0, 0, 0]"
      ]
     },
     "execution_count": 53,
     "metadata": {},
     "output_type": "execute_result"
    }
   ],
   "source": [
    "L"
   ]
  },
  {
   "cell_type": "code",
   "execution_count": 54,
   "metadata": {},
   "outputs": [],
   "source": [
    "L1 = []\n",
    "for i in range(5):\n",
    "    L1.insert(i,0)"
   ]
  },
  {
   "cell_type": "code",
   "execution_count": 55,
   "metadata": {},
   "outputs": [
    {
     "data": {
      "text/plain": [
       "[0, 0, 0, 0, 0]"
      ]
     },
     "execution_count": 55,
     "metadata": {},
     "output_type": "execute_result"
    }
   ],
   "source": [
    "L1"
   ]
  },
  {
   "cell_type": "code",
   "execution_count": 56,
   "metadata": {},
   "outputs": [
    {
     "data": {
      "text/plain": [
       "[0, 0, 0, 0, 0]"
      ]
     },
     "execution_count": 56,
     "metadata": {},
     "output_type": "execute_result"
    }
   ],
   "source": [
    "[0]*5"
   ]
  },
  {
   "cell_type": "code",
   "execution_count": 57,
   "metadata": {},
   "outputs": [
    {
     "data": {
      "text/plain": [
       "[0, 0, 0, 0, 0]"
      ]
     },
     "execution_count": 57,
     "metadata": {},
     "output_type": "execute_result"
    }
   ],
   "source": [
    "[0,0,0,0,0]"
   ]
  },
  {
   "cell_type": "markdown",
   "metadata": {},
   "source": [
    "2. Name two ways to build a dictionary with two keys, 'a' and 'b', each having an\n",
    "associated value of 0."
   ]
  },
  {
   "cell_type": "code",
   "execution_count": 58,
   "metadata": {},
   "outputs": [
    {
     "data": {
      "text/plain": [
       "{'a': 0, 'b': 0}"
      ]
     },
     "execution_count": 58,
     "metadata": {},
     "output_type": "execute_result"
    }
   ],
   "source": [
    "D = {}\n",
    "D.fromkeys(['a','b'],0)"
   ]
  },
  {
   "cell_type": "code",
   "execution_count": 73,
   "metadata": {},
   "outputs": [],
   "source": [
    "D1 = {}\n",
    "D1 = dict(a=0,b=0)"
   ]
  },
  {
   "cell_type": "code",
   "execution_count": 74,
   "metadata": {},
   "outputs": [
    {
     "data": {
      "text/plain": [
       "{'a': 0, 'b': 0}"
      ]
     },
     "execution_count": 74,
     "metadata": {},
     "output_type": "execute_result"
    }
   ],
   "source": [
    "D1"
   ]
  },
  {
   "cell_type": "code",
   "execution_count": 75,
   "metadata": {},
   "outputs": [],
   "source": [
    "D2 = dict([('a',0),('b',0)])"
   ]
  },
  {
   "cell_type": "code",
   "execution_count": 76,
   "metadata": {},
   "outputs": [
    {
     "data": {
      "text/plain": [
       "{'a': 0, 'b': 0}"
      ]
     },
     "execution_count": 76,
     "metadata": {},
     "output_type": "execute_result"
    }
   ],
   "source": [
    "dict.fromkeys('ab',0)"
   ]
  },
  {
   "cell_type": "markdown",
   "metadata": {},
   "source": [
    "3. Name four operations that change a list object in-place"
   ]
  },
  {
   "cell_type": "code",
   "execution_count": 80,
   "metadata": {},
   "outputs": [
    {
     "data": {
      "text/plain": [
       "([0, 0, 0, 0, 0], [0, 0, 0, 0, 0])"
      ]
     },
     "execution_count": 80,
     "metadata": {},
     "output_type": "execute_result"
    }
   ],
   "source": [
    "L1, L"
   ]
  },
  {
   "cell_type": "code",
   "execution_count": 81,
   "metadata": {},
   "outputs": [
    {
     "data": {
      "text/plain": [
       "(None, [0, 0, 0, 0, 0])"
      ]
     },
     "execution_count": 81,
     "metadata": {},
     "output_type": "execute_result"
    }
   ],
   "source": [
    "L1.clear(), L"
   ]
  },
  {
   "cell_type": "markdown",
   "metadata": {},
   "source": [
    "Dictionaries are primarily changed by assignment to a new or existing key, which creates or changes the key’s entry in the table. Also, the del statement deletes a key’s entry, the dictionary update method merges one dictionary into another inplace, and D.pop(key) removes a key and returns the value it had. Dictionaries also have other, more exotic in-place change methods not listed in this chapter, such as setdefault; see reference sources for more details"
   ]
  }
 ],
 "metadata": {
  "kernelspec": {
   "display_name": "Python 3",
   "language": "python",
   "name": "python3"
  },
  "language_info": {
   "codemirror_mode": {
    "name": "ipython",
    "version": 3
   },
   "file_extension": ".py",
   "mimetype": "text/x-python",
   "name": "python",
   "nbconvert_exporter": "python",
   "pygments_lexer": "ipython3",
   "version": "3.7.4"
  }
 },
 "nbformat": 4,
 "nbformat_minor": 4
}
