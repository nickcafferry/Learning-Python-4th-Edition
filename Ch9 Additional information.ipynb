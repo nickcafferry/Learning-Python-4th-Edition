{
 "cells": [
  {
   "cell_type": "markdown",
   "metadata": {},
   "source": [
    "Here are some points to remember:\n",
    "\n",
    "• Objects share operations according to their category; for instance, strings, lists, and tuples all share sequence operations such as concatenation, length, and\n",
    "indexing.\n",
    "\n",
    "• Only mutable objects (lists, dictionaries, and sets) may be changed in-place; you\n",
    "cannot change numbers, strings, or tuples in-place.\n",
    "\n",
    "• Files export only methods, so mutability doesn’t really apply to them—their state\n",
    "may be changed when they are processed, but this isn’t quite the same as Python core type mutability constraints.\n",
    "\n",
    "• “Numbers” in Table 9-3 includes all number types: integer (and the distinct long\n",
    "integer in 2.6), floating-point, complex, decimal, and fraction.\n",
    "\n",
    "• “Strings” in Table 9-3 includes str, as well as bytes in 3.0 and unicode in 2.6; the byte array string type in 3.0 is mutable.\n",
    "\n",
    "• Sets are something like the keys of a valueless dictionary, but they don’t map to\n",
    "values and are not ordered, so sets are neither a mapping nor a sequence type; frozenset is an immutable variant of set.\n",
    "\n",
    "• In addition to type category operations, as of Python 2.6 and 3.0 all the types in Table 9-3 have callable methods, which are generally specific to their type"
   ]
  },
  {
   "cell_type": "code",
   "execution_count": 1,
   "metadata": {},
   "outputs": [],
   "source": [
    "X = [1,2,3]\n",
    "L = ['a',X,'b']  # Embed references to X's object\n",
    "D = {'x':X,'y':2}"
   ]
  },
  {
   "cell_type": "code",
   "execution_count": 2,
   "metadata": {},
   "outputs": [
    {
     "name": "stdout",
     "output_type": "stream",
     "text": [
      "[1, 2, 3] ['a', [1, 2, 3], 'b'] {'x': [1, 2, 3], 'y': 2}\n"
     ]
    }
   ],
   "source": [
    "print(X,L,D)"
   ]
  },
  {
   "cell_type": "code",
   "execution_count": 3,
   "metadata": {},
   "outputs": [],
   "source": [
    "X[1] = 'surprise'  # Changes all three references!"
   ]
  },
  {
   "cell_type": "code",
   "execution_count": 4,
   "metadata": {},
   "outputs": [
    {
     "data": {
      "text/plain": [
       "(['a', [1, 'surprise', 3], 'b'], {'x': [1, 'surprise', 3], 'y': 2})"
      ]
     },
     "execution_count": 4,
     "metadata": {},
     "output_type": "execute_result"
    }
   ],
   "source": [
    "L, D"
   ]
  },
  {
   "cell_type": "code",
   "execution_count": 4,
   "metadata": {},
   "outputs": [],
   "source": [
    "from wordcloud import WordCloud\n",
    "import PIL.Image as image\n",
    "\n",
    "with open(\"output.txt\",'r',encoding='utf-8') as fp:\n",
    "          text=fp.read()\n",
    "          #print(text)\n",
    "          #将文本放入WordCoud容器对象中并分析\n",
    "          WordCloud = WordCloud(width=1000,height=800).generate(text)\n",
    "          image_produce = WordCloud.to_image()\n",
    "          image_produce.show()"
   ]
  },
  {
   "cell_type": "code",
   "execution_count": 6,
   "metadata": {},
   "outputs": [
    {
     "data": {
      "image/png": "[encoded data removed]",
      "text/plain": [
       "<Figure size 432x288 with 1 Axes>"
      ]
     },
     "metadata": {
      "needs_background": "light"
     },
     "output_type": "display_data"
    }
   ],
   "source": [
    "from sympy import plot_implicit, sin, symbols, pi\n",
    "x, y = symbols('x y')\n",
    "my_plot = plot_implicit(x**2 + y**2 <= 1 + 0.5 * sin((x**3 + y**3) * 2 * pi))"
   ]
  },
  {
   "cell_type": "code",
   "execution_count": 29,
   "metadata": {},
   "outputs": [
    {
     "data": {
      "image/png": "[encoded data removed]",
      "text/plain": [
       "<Figure size 432x288 with 1 Axes>"
      ]
     },
     "metadata": {
      "needs_background": "light"
     },
     "output_type": "display_data"
    }
   ],
   "source": [
    "from __future__ import division\n",
    "a,b,c = symbols('a b c')\n",
    "plot2 = plot_implicit( a**2 + b**2 <= 0)"
   ]
  },
  {
   "cell_type": "code",
   "execution_count": 17,
   "metadata": {},
   "outputs": [
    {
     "data": {
      "text/latex": [
       "$\\displaystyle \\frac{a^{2} + b^{2}}{2 c} + \\frac{a^{2} + c^{2}}{2 b} + \\frac{b^{2} + c^{2}}{2 a}$"
      ],
      "text/plain": [
       "(a**2 + b**2)/(2*c) + (a**2 + c**2)/(2*b) + (b**2 + c**2)/(2*a)"
      ]
     },
     "execution_count": 17,
     "metadata": {},
     "output_type": "execute_result"
    }
   ],
   "source": [
    "(a**2+b**2)/(2*c) + (b**2+c**2)/(2*a) + (c**2+a**2)/(2*b)"
   ]
  },
  {
   "cell_type": "code",
   "execution_count": 18,
   "metadata": {},
   "outputs": [
    {
     "data": {
      "text/latex": [
       "$\\displaystyle a + b + c$"
      ],
      "text/plain": [
       "a + b + c"
      ]
     },
     "execution_count": 18,
     "metadata": {},
     "output_type": "execute_result"
    }
   ],
   "source": [
    "a + b + c"
   ]
  },
  {
   "cell_type": "code",
   "execution_count": 30,
   "metadata": {},
   "outputs": [],
   "source": [
    "L = [1,2,3]\n",
    "D = {'a': 1, 'b': 2}"
   ]
  },
  {
   "cell_type": "code",
   "execution_count": 31,
   "metadata": {},
   "outputs": [],
   "source": [
    "A = L[:] # Instead of A = L (or list(L))\n",
    "B = D.copy() # Instead of B = D (ditto for sets)"
   ]
  },
  {
   "cell_type": "code",
   "execution_count": 32,
   "metadata": {},
   "outputs": [
    {
     "data": {
      "text/plain": [
       "([1, 2, 3], {'a': 1, 'b': 2})"
      ]
     },
     "execution_count": 32,
     "metadata": {},
     "output_type": "execute_result"
    }
   ],
   "source": [
    "A[1] = \"Ni\"\n",
    "B['c'] = 'spam'\n",
    "L, D"
   ]
  },
  {
   "cell_type": "code",
   "execution_count": 33,
   "metadata": {},
   "outputs": [
    {
     "data": {
      "text/plain": [
       "([1, 'Ni', 3], {'a': 1, 'b': 2, 'c': 'spam'})"
      ]
     },
     "execution_count": 33,
     "metadata": {},
     "output_type": "execute_result"
    }
   ],
   "source": [
    "A, B"
   ]
  },
  {
   "cell_type": "code",
   "execution_count": 34,
   "metadata": {},
   "outputs": [
    {
     "name": "stdout",
     "output_type": "stream",
     "text": [
      "[1, 'Ni', 3] {'a': 1, 'b': 2, 'c': 'spam'}\n",
      "[1, 'Ni', 3] {'a': 1, 'b': 2, 'c': 'spam'}\n"
     ]
    }
   ],
   "source": [
    "L = [1,2,3]\n",
    "D = {'a': 1, 'b': 2}\n",
    "A = L \n",
    "B = D\n",
    "A[1] = \"Ni\"\n",
    "B['c'] = 'spam'\n",
    "print(L,D)\n",
    "print(A,B)"
   ]
  },
  {
   "cell_type": "code",
   "execution_count": 35,
   "metadata": {},
   "outputs": [],
   "source": [
    "# Case 1\n",
    "X = [1,2,3]\n",
    "L = ['a',X[:],'b'] # Embed copies of X's object\n",
    "D = {'x': X[:],'y':2}\n",
    "X[1] = 'surprise' # It doesn't change all three references!"
   ]
  },
  {
   "cell_type": "code",
   "execution_count": 36,
   "metadata": {},
   "outputs": [
    {
     "name": "stdout",
     "output_type": "stream",
     "text": [
      "[1, 'surprise', 3] ['a', [1, 2, 3], 'b'] {'x': [1, 2, 3], 'y': 2}\n"
     ]
    }
   ],
   "source": [
    "print(X,L,D)"
   ]
  },
  {
   "cell_type": "code",
   "execution_count": 37,
   "metadata": {},
   "outputs": [],
   "source": [
    "# case 2\n",
    "X = [1,2,3]\n",
    "L = ['a',X,'b']\n",
    "D = {'x': X, 'y': 2}\n",
    "X[1] = 'surprise'"
   ]
  },
  {
   "cell_type": "code",
   "execution_count": 38,
   "metadata": {},
   "outputs": [
    {
     "name": "stdout",
     "output_type": "stream",
     "text": [
      "[1, 2, 3] ['a', [1, 2, 3], 'b'] {'x': [1, 2, 3], 'y': 2}\n"
     ]
    }
   ],
   "source": [
    "print(X,L,D)"
   ]
  },
  {
   "cell_type": "markdown",
   "metadata": {},
   "source": [
    "• Slice expressions with empty limits (L[:]) copy sequences.\n",
    "\n",
    "• The dictionary and set copy method (X.copy()) copies a dictionary or set.\n",
    "\n",
    "• Some built-in functions, such as list, make copies (list(L)).\n",
    "\n",
    "• The copy standard library module makes full copies."
   ]
  },
  {
   "cell_type": "markdown",
   "metadata": {},
   "source": [
    "Empty-limit slices and the dictionary copy method only make top-level copies; that is, they do not copy nested data structures, if any are present. If you need a complete, fully independent copy of a deeply nested data structure, use the standard copy module: include an import copy statement and say X = copy.deepcopy(Y) to fully copy an arbitrarily nested object Y. This call recursively traverses objects\n",
    "to copy all their parts. "
   ]
  },
  {
   "cell_type": "code",
   "execution_count": 51,
   "metadata": {},
   "outputs": [],
   "source": [
    "E = {'x': X, 'y': {str(X): X}}"
   ]
  },
  {
   "cell_type": "code",
   "execution_count": 52,
   "metadata": {},
   "outputs": [
    {
     "data": {
      "text/plain": [
       "{'x': [1, 2, 3], 'y': {'[1, 2, 3]': [1, 2, 3]}}"
      ]
     },
     "execution_count": 52,
     "metadata": {},
     "output_type": "execute_result"
    }
   ],
   "source": [
    "E"
   ]
  },
  {
   "cell_type": "code",
   "execution_count": 53,
   "metadata": {},
   "outputs": [],
   "source": [
    "F = E.copy()"
   ]
  },
  {
   "cell_type": "code",
   "execution_count": 54,
   "metadata": {},
   "outputs": [
    {
     "data": {
      "text/plain": [
       "{'x': [1, 2, 3], 'y': {'[1, 2, 3]': [1, 2, 3]}}"
      ]
     },
     "execution_count": 54,
     "metadata": {},
     "output_type": "execute_result"
    }
   ],
   "source": [
    "F"
   ]
  },
  {
   "cell_type": "code",
   "execution_count": 8,
   "metadata": {},
   "outputs": [],
   "source": [
    "from sympy import symbols\n",
    "import sympy\n",
    "n = symbols('n')"
   ]
  },
  {
   "cell_type": "code",
   "execution_count": 16,
   "metadata": {},
   "outputs": [],
   "source": [
    "from itertools import product\n",
    "T = product(k,(k,1,1000))"
   ]
  },
  {
   "cell_type": "code",
   "execution_count": 34,
   "metadata": {},
   "outputs": [
    {
     "data": {
      "image/png": "[encoded data removed]",
      "text/plain": [
       "<Figure size 432x288 with 1 Axes>"
      ]
     },
     "metadata": {
      "needs_background": "light"
     },
     "output_type": "display_data"
    },
    {
     "data": {
      "image/png": "[encoded data removed]",
      "text/plain": [
       "<Figure size 432x288 with 1 Axes>"
      ]
     },
     "metadata": {
      "needs_background": "light"
     },
     "output_type": "display_data"
    }
   ],
   "source": [
    "from sympy import plot_implicit, sin, symbols, pi\n",
    "import numpy\n",
    "\n",
    "x, y = symbols('x y')\n",
    "my_plot1 = plot_implicit(3*x**2 <= 6-2*y**2)\n",
    "my_plot2 = plot_implicit(abs(2*x+y)<=numpy.sqrt(11))"
   ]
  },
  {
   "cell_type": "code",
   "execution_count": 35,
   "metadata": {},
   "outputs": [
    {
     "data": {
      "text/plain": [
       "True"
      ]
     },
     "execution_count": 35,
     "metadata": {},
     "output_type": "execute_result"
    }
   ],
   "source": [
    "from chempy import Substance\n",
    "ferricyanide = Substance.from_formula('Fe(CN)6-3')\n",
    "ferricyanide.composition == {0: -3, 26: 1, 6: 6, 7: 6}  # 0 for charge"
   ]
  },
  {
   "cell_type": "code",
   "execution_count": 37,
   "metadata": {},
   "outputs": [
    {
     "name": "stdout",
     "output_type": "stream",
     "text": [
      "Fe(CN)₆³⁻\n",
      "Fe(CN)_{6}^{3-}, Fe(CN)<sub>6</sub><sup>3-</sup>\n",
      "211.955\n"
     ]
    }
   ],
   "source": [
    "print(ferricyanide.unicode_name)\n",
    "print(ferricyanide.latex_name + \", \" + ferricyanide.html_name)\n",
    "print('%.3f' % ferricyanide.mass)"
   ]
  },
  {
   "cell_type": "code",
   "execution_count": 39,
   "metadata": {},
   "outputs": [
    {
     "name": "stdout",
     "output_type": "stream",
     "text": [
      "{'Al': 10, 'NH4ClO4': 6}\n",
      "{'Al2O3': 5, 'H2O': 9, 'HCl': 6, 'N2': 3}\n",
      "{'Al': '27.7 wt%', 'NH4ClO4': '72.3 wt%'}\n",
      "{'Al2O3': '52.3 wt%', 'H2O': '16.6 wt%', 'HCl': '22.4 wt%', 'N2': '8.62 wt%'}\n"
     ]
    }
   ],
   "source": [
    "from chempy import balance_stoichiometry  # Main reaction in NASA's booster rockets:\n",
    "reac, prod = balance_stoichiometry({'NH4ClO4', 'Al'}, {'Al2O3', 'HCl', 'H2O', 'N2'})\n",
    "from pprint import pprint\n",
    "pprint(dict(reac))\n",
    "pprint(dict(prod))\n",
    "from chempy import mass_fractions\n",
    "for fractions in map(mass_fractions, [reac, prod]):\n",
    "    pprint({k: '{0:.3g} wt%'.format(v*100) for k, v in fractions.items()})"
   ]
  },
  {
   "cell_type": "code",
   "execution_count": 40,
   "metadata": {},
   "outputs": [
    {
     "name": "stdout",
     "output_type": "stream",
     "text": [
      "[{'eggs_6pack': 10, 'flour_bag': 2, 'milk_carton': 15}, {'pancake': 60}]\n"
     ]
    }
   ],
   "source": [
    "substances = {s.name: s for s in [\n",
    "    Substance('pancake', composition=dict(eggs=1, spoons_of_flour=2, cups_of_milk=1)),\n",
    "    Substance('eggs_6pack', composition=dict(eggs=6)),\n",
    "    Substance('milk_carton', composition=dict(cups_of_milk=4)),\n",
    "    Substance('flour_bag', composition=dict(spoons_of_flour=60))\n",
    "]}\n",
    "pprint([dict(_) for _ in balance_stoichiometry({'eggs_6pack', 'milk_carton', 'flour_bag'},\n",
    "                                               {'pancake'}, substances=substances)])"
   ]
  },
  {
   "cell_type": "code",
   "execution_count": 41,
   "metadata": {},
   "outputs": [
    {
     "name": "stdout",
     "output_type": "stream",
     "text": [
      "[{'C': x1 + 1, 'O2': x1 + 1/2}, {'CO': 1, 'CO2': x1}]\n"
     ]
    }
   ],
   "source": [
    "pprint([dict(_) for _ in balance_stoichiometry({'C', 'O2'}, {'CO2', 'CO'})])  # doctest: +SKIP"
   ]
  },
  {
   "cell_type": "code",
   "execution_count": 43,
   "metadata": {},
   "outputs": [
    {
     "name": "stdout",
     "output_type": "stream",
     "text": [
      "[{'C': 3, 'O2': 2}, {'CO': 2, 'CO2': 1}]\n"
     ]
    }
   ],
   "source": [
    "pprint([dict(_) for _ in balance_stoichiometry({'C', 'O2'}, {'CO2', 'CO'}, underdetermined=None)])"
   ]
  },
  {
   "cell_type": "code",
   "execution_count": 44,
   "metadata": {},
   "outputs": [
    {
     "name": "stdout",
     "output_type": "stream",
     "text": [
      "[4, -5]\n",
      "32 H+ + 4 MnO4- + 20 OH- = 26 H2O + 4 Mn+2 + 5 O2; K1**4/K2**5\n",
      "20\n",
      "12 H+ + 4 MnO4- = 6 H2O + 4 Mn+2 + 5 O2; K1**4*Kw**20/K2**5\n"
     ]
    }
   ],
   "source": [
    "from chempy import Equilibrium\n",
    "from sympy import symbols\n",
    "K1, K2, Kw = symbols('K1 K2 Kw')\n",
    "e1 = Equilibrium({'MnO4-': 1, 'H+': 8, 'e-': 5}, {'Mn+2': 1, 'H2O': 4}, K1)\n",
    "e2 = Equilibrium({'O2': 1, 'H2O': 2, 'e-': 4}, {'OH-': 4}, K2)\n",
    "coeff = Equilibrium.eliminate([e1, e2], 'e-')\n",
    "print(coeff)\n",
    "redox = e1*coeff[0] + e2*coeff[1]\n",
    "print(redox)\n",
    "autoprot = Equilibrium({'H2O': 1}, {'H+': 1, 'OH-': 1}, Kw)\n",
    "n = redox.cancel(autoprot)\n",
    "print(n)\n",
    "redox2 = redox + n*autoprot\n",
    "print(redox2)"
   ]
  },
  {
   "cell_type": "code",
   "execution_count": 45,
   "metadata": {},
   "outputs": [
    {
     "name": "stdout",
     "output_type": "stream",
     "text": [
      "pH: 8.30\n"
     ]
    }
   ],
   "source": [
    "from collections import defaultdict\n",
    ">>> from chempy.equilibria import EqSystem\n",
    ">>> eqsys = EqSystem.from_string(\"\"\"HCO3- = H+ + CO3-2; 10**-10.3\n",
    "... H2CO3 = H+ + HCO3-; 10**-6.3\n",
    "... H2O = H+ + OH-; 10**-14/55.4\n",
    "... \"\"\")  # pKa1(H2CO3) = 6.3 (implicitly incl. CO2(aq)), pKa2=10.3 & pKw=14\n",
    ">>> arr, info, sane = eqsys.root(defaultdict(float, {'H2O': 55.4, 'HCO3-': 1e-2}))\n",
    ">>> conc = dict(zip(eqsys.substances, arr))\n",
    ">>> from math import log10\n",
    ">>> print(\"pH: %.2f\" % -log10(conc['H+']))"
   ]
  },
  {
   "cell_type": "code",
   "execution_count": 47,
   "metadata": {},
   "outputs": [
    {
     "name": "stdout",
     "output_type": "stream",
     "text": [
      "H2O = H+ + OH-; 1e-14\n",
      "NH4+ = H+ + NH3; 5.75e-10\n",
      "1, 0.0013, 7.6e-12, 0.099, 0.0013\n"
     ]
    }
   ],
   "source": [
    ">>> from chempy import Equilibrium\n",
    ">>> from chempy.chemistry import Species\n",
    ">>> water_autop = Equilibrium({'H2O'}, {'H+', 'OH-'}, 10**-14)  # unit \"molar\" assumed\n",
    ">>> ammonia_prot = Equilibrium({'NH4+'}, {'NH3', 'H+'}, 10**-9.24)  # same here\n",
    ">>> substances = [Species.from_formula(f) for f in 'H2O OH- H+ NH3 NH4+'.split()]\n",
    ">>> eqsys = EqSystem([water_autop, ammonia_prot], substances)\n",
    ">>> print('\\n'.join(map(str, eqsys.rxns)))  # \"rxns\" short for \"reactions\"\n",
    "\n",
    ">>> init_conc = defaultdict(float, {'H2O': 1, 'NH3': 0.1})\n",
    ">>> x, sol, sane = eqsys.root(init_conc)\n",
    ">>> assert sol['success'] and sane\n",
    ">>> print(', '.join('%.2g' % v for v in x))"
   ]
  },
  {
   "cell_type": "code",
   "execution_count": 48,
   "metadata": {},
   "outputs": [
    {
     "data": {
      "text/plain": [
       "True"
      ]
     },
     "execution_count": 48,
     "metadata": {},
     "output_type": "execute_result"
    }
   ],
   "source": [
    ">>> from chempy.electrolytes import ionic_strength\n",
    ">>> ionic_strength({'Fe+3': 0.050, 'ClO4-': 0.150}) == .3"
   ]
  },
  {
   "cell_type": "code",
   "execution_count": 49,
   "metadata": {},
   "outputs": [
    {
     "name": "stdout",
     "output_type": "stream",
     "text": [
      "1.2e-03\n"
     ]
    }
   ],
   "source": [
    ">>> from chempy.henry import Henry\n",
    ">>> kH_O2 = Henry(1.2e-3, 1800, ref='carpenter_1966')\n",
    ">>> print('%.1e' % kH_O2(298.15))"
   ]
  },
  {
   "cell_type": "code",
   "execution_count": 53,
   "metadata": {},
   "outputs": [
    {
     "data": {
      "image/png": "[encoded data removed]",
      "text/plain": [
       "<Figure size 864x360 with 2 Axes>"
      ]
     },
     "metadata": {
      "needs_background": "light"
     },
     "output_type": "display_data"
    }
   ],
   "source": [
    ">>> from chempy import ReactionSystem  # The rate constants below are arbitrary\n",
    ">>> rsys = ReactionSystem.from_string(\"\"\"2 Fe+2 + H2O2 -> 2 Fe+3 + 2 OH-; 42\n",
    "...     2 Fe+3 + H2O2 -> 2 Fe+2 + O2 + 2 H+; 17\n",
    "...     H+ + OH- -> H2O; 1e10\n",
    "...     H2O -> H+ + OH-; 1e-4\"\"\")  # \"[H2O]\" = 1.0 (actually 55.4 at RT)\n",
    ">>> from chempy.kinetics.ode import get_odesys\n",
    ">>> odesys, extra = get_odesys(rsys)\n",
    ">>> from collections import defaultdict\n",
    ">>> import numpy as np\n",
    ">>> tout = sorted(np.concatenate((np.linspace(0, 23), np.logspace(-8, 1))))\n",
    ">>> c0 = defaultdict(float, {'Fe+2': 0.05, 'H2O2': 0.1, 'H2O': 1.0, 'H+': 1e-2, 'OH-': 1e-12})\n",
    ">>> result = odesys.integrate(tout, c0, atol=1e-12, rtol=1e-14)\n",
    ">>> import matplotlib.pyplot as plt\n",
    ">>> fig, axes = plt.subplots(1, 2, figsize=(12, 5))\n",
    ">>> for ax in axes:\n",
    "...     _ = result.plot(names=[k for k in rsys.substances if k != 'H2O'], ax=ax)\n",
    "...     _ = ax.legend(loc='best', prop={'size': 9})\n",
    "...     _ = ax.set_xlabel('Time')\n",
    "...     _ = ax.set_ylabel('Concentration')\n",
    ">>> _ = axes[1].set_ylim([1e-13, 1e-1])\n",
    ">>> _ = axes[1].set_xscale('log')\n",
    ">>> _ = axes[1].set_yscale('log')\n",
    ">>> _ = fig.tight_layout()\n",
    ">>> _ = fig.savefig('kinetics.png', dpi=500)"
   ]
  },
  {
   "cell_type": "code",
   "execution_count": 52,
   "metadata": {},
   "outputs": [
    {
     "name": "stdout",
     "output_type": "stream",
     "text": [
      "[H2O] = 55.46 M (at 15 °C)\n",
      "[H2O] = 55.35 M (at 25 °C)\n",
      "[H2O] = 55.18 M (at 35 °C)\n"
     ]
    }
   ],
   "source": [
    ">>> from chempy import Substance\n",
    ">>> from chempy.properties.water_density_tanaka_2001 import water_density as rho\n",
    ">>> from chempy.units import to_unitless, default_units as u\n",
    ">>> water = Substance.from_formula('H2O')\n",
    ">>> for T_C in (15, 25, 35):\n",
    "...     concentration_H2O = rho(T=(273.15 + T_C)*u.kelvin, units=u)/water.molar_mass(units=u)\n",
    "...     print('[H2O] = %.2f M (at %d °C)' % (to_unitless(concentration_H2O, u.molar), T_C))\n",
    "..."
   ]
  },
  {
   "cell_type": "code",
   "execution_count": 38,
   "metadata": {},
   "outputs": [
    {
     "name": "stdout",
     "output_type": "stream",
     "text": [
      "       V0      V1      V2      V3      V4      V5      V6      V7      V8  \\\n",
      "0  0.0200  0.0371  0.0428  0.0207  0.0954  0.0986  0.1539  0.1601  0.3109   \n",
      "1  0.0453  0.0523  0.0843  0.0689  0.1183  0.2583  0.2156  0.3481  0.3337   \n",
      "2  0.0262  0.0582  0.1099  0.1083  0.0974  0.2280  0.2431  0.3771  0.5598   \n",
      "3  0.0100  0.0171  0.0623  0.0205  0.0205  0.0368  0.1098  0.1276  0.0598   \n",
      "4  0.0762  0.0666  0.0481  0.0394  0.0590  0.0649  0.1209  0.2467  0.3564   \n",
      "\n",
      "       V9  ...     V51     V52     V53     V54     V55     V56     V57  \\\n",
      "0  0.2111  ...  0.0027  0.0065  0.0159  0.0072  0.0167  0.0180  0.0084   \n",
      "1  0.2872  ...  0.0084  0.0089  0.0048  0.0094  0.0191  0.0140  0.0049   \n",
      "2  0.6194  ...  0.0232  0.0166  0.0095  0.0180  0.0244  0.0316  0.0164   \n",
      "3  0.1264  ...  0.0121  0.0036  0.0150  0.0085  0.0073  0.0050  0.0044   \n",
      "4  0.4459  ...  0.0031  0.0054  0.0105  0.0110  0.0015  0.0072  0.0048   \n",
      "\n",
      "      V58     V59  V60  \n",
      "0  0.0090  0.0032    R  \n",
      "1  0.0052  0.0044    R  \n",
      "2  0.0095  0.0078    R  \n",
      "3  0.0040  0.0117    R  \n",
      "4  0.0107  0.0094    R  \n",
      "\n",
      "[5 rows x 61 columns]\n",
      "         V0      V1      V2      V3      V4      V5      V6      V7      V8  \\\n",
      "203  0.0187  0.0346  0.0168  0.0177  0.0393  0.1630  0.2028  0.1694  0.2328   \n",
      "204  0.0323  0.0101  0.0298  0.0564  0.0760  0.0958  0.0990  0.1018  0.1030   \n",
      "205  0.0522  0.0437  0.0180  0.0292  0.0351  0.1171  0.1257  0.1178  0.1258   \n",
      "206  0.0303  0.0353  0.0490  0.0608  0.0167  0.1354  0.1465  0.1123  0.1945   \n",
      "207  0.0260  0.0363  0.0136  0.0272  0.0214  0.0338  0.0655  0.1400  0.1843   \n",
      "\n",
      "         V9  ...     V51     V52     V53     V54     V55     V56     V57  \\\n",
      "203  0.2684  ...  0.0116  0.0098  0.0199  0.0033  0.0101  0.0065  0.0115   \n",
      "204  0.2154  ...  0.0061  0.0093  0.0135  0.0063  0.0063  0.0034  0.0032   \n",
      "205  0.2529  ...  0.0160  0.0029  0.0051  0.0062  0.0089  0.0140  0.0138   \n",
      "206  0.2354  ...  0.0086  0.0046  0.0126  0.0036  0.0035  0.0034  0.0079   \n",
      "207  0.2354  ...  0.0146  0.0129  0.0047  0.0039  0.0061  0.0040  0.0036   \n",
      "\n",
      "        V58     V59  V60  \n",
      "203  0.0193  0.0157    M  \n",
      "204  0.0062  0.0067    M  \n",
      "205  0.0077  0.0031    M  \n",
      "206  0.0036  0.0048    M  \n",
      "207  0.0061  0.0115    M  \n",
      "\n",
      "[5 rows x 61 columns]\n",
      "               V0          V1          V2          V3          V4          V5  \\\n",
      "count  208.000000  208.000000  208.000000  208.000000  208.000000  208.000000   \n",
      "mean     0.029164    0.038437    0.043832    0.053892    0.075202    0.104570   \n",
      "std      0.022991    0.032960    0.038428    0.046528    0.055552    0.059105   \n",
      "min      0.001500    0.000600    0.001500    0.005800    0.006700    0.010200   \n",
      "25%      0.013350    0.016450    0.018950    0.024375    0.038050    0.067025   \n",
      "50%      0.022800    0.030800    0.034300    0.044050    0.062500    0.092150   \n",
      "75%      0.035550    0.047950    0.057950    0.064500    0.100275    0.134125   \n",
      "max      0.137100    0.233900    0.305900    0.426400    0.401000    0.382300   \n",
      "\n",
      "               V6          V7          V8          V9  ...         V50  \\\n",
      "count  208.000000  208.000000  208.000000  208.000000  ...  208.000000   \n",
      "mean     0.121747    0.134799    0.178003    0.208259  ...    0.016069   \n",
      "std      0.061788    0.085152    0.118387    0.134416  ...    0.012008   \n",
      "min      0.003300    0.005500    0.007500    0.011300  ...    0.000000   \n",
      "25%      0.080900    0.080425    0.097025    0.111275  ...    0.008425   \n",
      "50%      0.106950    0.112100    0.152250    0.182400  ...    0.013900   \n",
      "75%      0.154000    0.169600    0.233425    0.268700  ...    0.020825   \n",
      "max      0.372900    0.459000    0.682800    0.710600  ...    0.100400   \n",
      "\n",
      "              V51         V52         V53         V54         V55         V56  \\\n",
      "count  208.000000  208.000000  208.000000  208.000000  208.000000  208.000000   \n",
      "mean     0.013420    0.010709    0.010941    0.009290    0.008222    0.007820   \n",
      "std      0.009634    0.007060    0.007301    0.007088    0.005736    0.005785   \n",
      "min      0.000800    0.000500    0.001000    0.000600    0.000400    0.000300   \n",
      "25%      0.007275    0.005075    0.005375    0.004150    0.004400    0.003700   \n",
      "50%      0.011400    0.009550    0.009300    0.007500    0.006850    0.005950   \n",
      "75%      0.016725    0.014900    0.014500    0.012100    0.010575    0.010425   \n",
      "max      0.070900    0.039000    0.035200    0.044700    0.039400    0.035500   \n",
      "\n",
      "              V57         V58         V59  \n",
      "count  208.000000  208.000000  208.000000  \n",
      "mean     0.007949    0.007941    0.006507  \n",
      "std      0.006470    0.006181    0.005031  \n",
      "min      0.000300    0.000100    0.000600  \n",
      "25%      0.003600    0.003675    0.003100  \n",
      "50%      0.005800    0.006400    0.005300  \n",
      "75%      0.010350    0.010325    0.008525  \n",
      "max      0.044000    0.036400    0.043900  \n",
      "\n",
      "[8 rows x 60 columns]\n"
     ]
    }
   ],
   "source": [
    "import pandas as pd\n",
    "from pandas import DataFrame\n",
    "import matplotlib.pyplot as plot\n",
    "target_url = (\"https://archive.ics.uci.edu/ml/machine-learning-\"\n",
    "\"databases/undocumented/connectionist-bench/sonar/sonar.all-data\")\n",
    "#read rocks versus mines data into pandas data frame\n",
    "rocksVMines = pd.read_csv(target_url,header=None, prefix=\"V\")\n",
    "#print head and tail of data frame\n",
    "print(rocksVMines.head())\n",
    "print(rocksVMines.tail())\n",
    "#print summary of data frame\n",
    "summary = rocksVMines.describe()\n",
    "print(summary)"
   ]
  },
  {
   "cell_type": "code",
   "execution_count": 64,
   "metadata": {},
   "outputs": [],
   "source": [
    "import requests\n",
    "url = \"https://archive.ics.uci.edu/ml/machine-learning-\"\n",
    "\"databases/undocumented/connectionist-bench/sonar/sonar.all-data\"\n",
    "r = requests.get(url)\n",
    "with open('2.csv','wb') as f:\n",
    "    f.write(r.content)\n",
    "    f.close()"
   ]
  },
  {
   "cell_type": "code",
   "execution_count": 67,
   "metadata": {},
   "outputs": [
    {
     "data": {
      "image/png": "[encoded data removed]",
      "text/plain": [
       "<Figure size 432x288 with 1 Axes>"
      ]
     },
     "metadata": {
      "needs_background": "light"
     },
     "output_type": "display_data"
    }
   ],
   "source": [
    "import pandas as pd\n",
    "from pandas import DataFrame\n",
    "import matplotlib.pyplot as plot\n",
    "target_url = (\"https://archive.ics.uci.edu/ml/machine-learning-\"\n",
    "\"databases/undocumented/connectionist-bench/sonar/sonar.all-data\")\n",
    "#read rocks versus mines data into pandas data frame\n",
    "rocksVMines = pd.read_csv(target_url,header=None, prefix=\"V\")\n",
    "for i in range(208):\n",
    "    #assign color based on \"M\" or \"R\" labels\n",
    "    if rocksVMines.iat[i,60] == \"M\":\n",
    "        pcolor = \"red\"\n",
    "    else:\n",
    "        pcolor = \"blue\"\n",
    "        #plot rows of data as if they were series data\n",
    "        dataRow = rocksVMines.iloc[i,0:60]\n",
    "        dataRow.plot(color=pcolor)\n",
    "plot.xlabel(\"Attribute Index\")\n",
    "plot.ylabel((\"Attribute Values\"))\n",
    "plot.show()"
   ]
  },
  {
   "cell_type": "code",
   "execution_count": 3,
   "metadata": {},
   "outputs": [],
   "source": [
    "url1 = 'https://haier.ceping.com/Login/Elink?elink=RopfZpaoU63RmcBFDcPl1iIJ4jIYxZou39p1886LYXPfE0rnyFCU/2lWmTWBv5Zidl8EGSLHQjU=&v=1'\n",
    "url2 = 'https://haier.ceping.com/Login/Elink?elink=RopfZpaoU63RmcBFDcPl1iIJ4jIYxZou39p1886LYXPfE0rnyFCU/2lWmTWBv5Zidl8EGSLHQjU=&v=1'"
   ]
  },
  {
   "cell_type": "code",
   "execution_count": 4,
   "metadata": {},
   "outputs": [
    {
     "data": {
      "text/plain": [
       "True"
      ]
     },
     "execution_count": 4,
     "metadata": {},
     "output_type": "execute_result"
    }
   ],
   "source": [
    "url1 == url2"
   ]
  },
  {
   "cell_type": "code",
   "execution_count": 4,
   "metadata": {},
   "outputs": [
    {
     "name": "stdout",
     "output_type": "stream",
     "text": [
      "[('自己', 31), ('狮子', 25), ('就', 23), ('会', 22), ('他', 19), ('一个', 15), ('人', 15), ('没有', 13), ('觉得', 13), ('证明', 12)]\n"
     ]
    },
    {
     "data": {
      "image/png": "[encoded data removed]",
      "text/plain": [
       "<Figure size 432x288 with 1 Axes>"
      ]
     },
     "metadata": {
      "needs_background": "light"
     },
     "output_type": "display_data"
    }
   ],
   "source": [
    "# 导入扩展库\n",
    "import re # 正则表达式库\n",
    "import collections # 词频统计库\n",
    "import numpy as np # numpy数据处理库\n",
    "import jieba # 结巴分词\n",
    "import wordcloud # 词云展示库\n",
    "from PIL import Image # 图像处理库\n",
    "import matplotlib.pyplot as plt # 图像展示库\n",
    "\n",
    "# 读取文件\n",
    "fn = open('1.txt',encoding='utf-8') # 打开文件\n",
    "string_data = fn.read() # 读出整个文件\n",
    "fn.close() # 关闭文件\n",
    "\n",
    "# 文本预处理\n",
    "pattern = re.compile(u'\\t|\\n|\\.|-|:|;|\\)|\\(|\\?|\"') # 定义正则表达式匹配模式\n",
    "string_data = re.sub(pattern, '', string_data) # 将符合模式的字符去除\n",
    "\n",
    "# 文本分词\n",
    "seg_list_exact = jieba.cut(string_data, cut_all = False) # 精确模式分词\n",
    "object_list = []\n",
    "remove_words = [u'的', u'，',u'和', u'是', u'随着', u'对于', u'对',u'等',u'能',u'都',u'。',u' ',u'、',u'中',u'在',u'了',\n",
    "                u'通常',u'如果',u'我们',u'需要'] # 自定义去除词库\n",
    "\n",
    "for word in seg_list_exact: # 循环读出每个分词\n",
    "    if word not in remove_words: # 如果不在去除词库中\n",
    "        object_list.append(word) # 分词追加到列表\n",
    "\n",
    "# 词频统计\n",
    "word_counts = collections.Counter(object_list) # 对分词做词频统计\n",
    "word_counts_top10 = word_counts.most_common(10) # 获取前10最高频的词\n",
    "print (word_counts_top10) # 输出检查\n",
    "backgroud_Image = plt.imread('2.jpg')\n",
    "\n",
    "\n",
    "# 词频展示\n",
    "mask = np.array(Image.open('2.jpg')) # 定义词频背景\n",
    "wc = wordcloud.WordCloud(\n",
    "    font_path='C:/Windows/Fonts/simhei.ttf', # 设置字体格式\n",
    "    background_color='white',# 设置背景颜色\n",
    "    mask=backgroud_Image,# 设置背景图片\n",
    "    max_words=1000, # 最多显示词数\n",
    "    max_font_size=100, # 字体最大值\n",
    "    width = 10000,\n",
    "    height = 10000\n",
    ")\n",
    "\n",
    "wc.generate_from_frequencies(word_counts) # 从字典生成词云\n",
    "image_colors = wordcloud.ImageColorGenerator(mask) # 从背景图建立颜色方案\n",
    "wc.recolor(color_func=image_colors) # 将词云颜色设置为背景图方案\n",
    "plt.imshow(wc) # 显示词云\n",
    "plt.axis('off') # 关闭坐标轴\n",
    "plt.show() # 显示图像"
   ]
  },
  {
   "cell_type": "code",
   "execution_count": 1,
   "metadata": {},
   "outputs": [
    {
     "name": "stderr",
     "output_type": "stream",
     "text": [
      "Building prefix dict from the default dictionary ...\n",
      "Dumping model to file cache C:\\Users\\NickC\\AppData\\Local\\Temp\\jieba.cache\n",
      "Loading model cost 0.898 seconds.\n",
      "Prefix dict has been built successfully.\n"
     ]
    },
    {
     "name": "stdout",
     "output_type": "stream",
     "text": [
      "加载图片成功！\n",
      "开始加载文本\n"
     ]
    },
    {
     "data": {
      "text/plain": [
       "<Figure size 640x480 with 1 Axes>"
      ]
     },
     "metadata": {},
     "output_type": "display_data"
    },
    {
     "name": "stdout",
     "output_type": "stream",
     "text": [
      "生成词云成功!\n"
     ]
    }
   ],
   "source": [
    "import pickle\n",
    "from os import path\n",
    "import jieba\n",
    "import matplotlib.pyplot as plt\n",
    "from wordcloud import WordCloud, STOPWORDS, ImageColorGenerator\n",
    "text = ''\n",
    "with open('1.txt', 'r', encoding='utf-8') as fin:\n",
    "    for line in fin.readlines():\n",
    "        line = line.strip('\\n')\n",
    "        # sep’.join（seq）以sep作为分隔符，将seq所有的元素合并成一个新的字符串\n",
    "        text += ' '.join(jieba.cut(line))\n",
    "backgroud_Image = plt.imread('2.jpg')\n",
    "print('加载图片成功！')\n",
    "'''设置词云样式'''\n",
    "wc = WordCloud(\n",
    "    background_color='white',# 设置背景颜色\n",
    "    mask=backgroud_Image,# 设置背景图片\n",
    "    font_path='C:\\Windows\\Fonts\\STZHONGS.TTF',  # 若是有中文的话，这句代码必须添加，不然会出现方框，不出现汉字\n",
    "    max_words=2000, # 设置最大现实的字数\n",
    "    stopwords=STOPWORDS,# 设置停用词\n",
    "    max_font_size=75,# 设置字体最大值\n",
    "    random_state=30,# 设置有多少种随机生成状态，即有多少种配色方案\n",
    "    width = 10000,\n",
    "    height = 10000\n",
    ")\n",
    "wc.generate_from_text(text)\n",
    "print('开始加载文本')\n",
    "#改变字体颜色\n",
    "img_colors = ImageColorGenerator(backgroud_Image)\n",
    "#字体颜色为背景图片的颜色\n",
    "wc.recolor(color_func=img_colors)\n",
    "# 显示词云图\n",
    "plt.imshow(wc)\n",
    "# 是否显示x轴、y轴下标\n",
    "plt.axis('off')\n",
    "plt.show()\n",
    "# 获得模块所在的路径的\n",
    "print('生成词云成功!')"
   ]
  },
  {
   "cell_type": "markdown",
   "metadata": {},
   "source": [
    "# Comparisons, Equality and Truth"
   ]
  },
  {
   "cell_type": "code",
   "execution_count": 5,
   "metadata": {},
   "outputs": [
    {
     "data": {
      "text/plain": [
       "(True, False)"
      ]
     },
     "execution_count": 5,
     "metadata": {},
     "output_type": "execute_result"
    }
   ],
   "source": [
    "L1 = [1,('a',3)] # Same value, unique objects\n",
    "L2 = [1,('a',3)]\n",
    "L1 == L2, L1 is L2 # Equivalent? Same object ?"
   ]
  },
  {
   "cell_type": "code",
   "execution_count": 6,
   "metadata": {},
   "outputs": [
    {
     "name": "stdout",
     "output_type": "stream",
     "text": [
      "['grail', [...]]\n"
     ]
    }
   ],
   "source": [
    "L = ['grail']\n",
    "L.append(L)\n",
    "print(L)"
   ]
  },
  {
   "cell_type": "markdown",
   "metadata": {},
   "source": [
    "#### The == operator tests value equivalence. Python performs an equivalence test, comparing all nested objects recursively.\n",
    "\n",
    "#### The is operator tests object identity. Python tests whether the two are really the same object (i.e., live at the same address in memory).\n"
   ]
  },
  {
   "cell_type": "code",
   "execution_count": 7,
   "metadata": {},
   "outputs": [],
   "source": [
    "S1 = 'spam'\n",
    "S2 = 'spam'"
   ]
  },
  {
   "cell_type": "code",
   "execution_count": 8,
   "metadata": {},
   "outputs": [
    {
     "data": {
      "text/plain": [
       "(True, True)"
      ]
     },
     "execution_count": 8,
     "metadata": {},
     "output_type": "execute_result"
    }
   ],
   "source": [
    "S1 == S2, S1 is S2"
   ]
  },
  {
   "cell_type": "markdown",
   "metadata": {},
   "source": [
    "Here, we should again have two distinct objects that happen to have the same value:\n",
    "== should be true, and is should be false. But because Python internally caches and\n",
    "reuses some strings as an optimization, there really is just a single string 'spam' in\n",
    "memory, shared by S1 and S2; hence, the is identity test reports a true result. To trigger\n",
    "the normal behavior, we need to use longer strings:"
   ]
  },
  {
   "cell_type": "code",
   "execution_count": 9,
   "metadata": {},
   "outputs": [
    {
     "data": {
      "text/plain": [
       "(True, False)"
      ]
     },
     "execution_count": 9,
     "metadata": {},
     "output_type": "execute_result"
    }
   ],
   "source": [
    "S1 = 'a longer string'\n",
    "S2 = 'a longer string'\n",
    "S1 == S2, S1 is S2"
   ]
  },
  {
   "cell_type": "code",
   "execution_count": 10,
   "metadata": {},
   "outputs": [
    {
     "data": {
      "text/plain": [
       "(False, False, True)"
      ]
     },
     "execution_count": 10,
     "metadata": {},
     "output_type": "execute_result"
    }
   ],
   "source": [
    "L1 = [1, ('a', 3)]\n",
    "L2 = [1,('a', 2)]\n",
    "L1 < L2, L1 == L2, L1 > L2"
   ]
  },
  {
   "cell_type": "markdown",
   "metadata": {},
   "source": [
    "In general, Python compares types as follows:\n",
    "\n",
    "• Numbers are compared by relative magnitude.\n",
    "\n",
    "• Strings are compared lexicographically, character by character (\"abc\" < \"ac\").\n",
    "\n",
    "• Lists and tuples are compared by comparing each component from left to right.\n",
    "\n",
    "• Dictionaries compare as equal if their sorted (key, value) lists are equal. Relative magnitude comparisons are not supported for dictionaries in Python 3.0, but they work in 2.6 and earlier as though comparing sorted (key, value) lists.\n",
    "\n",
    "• Nonnumeric mixed-type comparisons (e.g., 1 < 'spam') are errors in Python 3.0.\n",
    "\n",
    "They are allowed in Python 2.6, but use a fixed but arbitrary ordering rule. By proxy, this also applies to sorts, which use comparisons internally: nonnumeric mixed-type collections cannot be sorted in 3.0."
   ]
  },
  {
   "cell_type": "markdown",
   "metadata": {},
   "source": [
    "# Python 3.0 Dictionary Comparisons"
   ]
  },
  {
   "cell_type": "code",
   "execution_count": 7,
   "metadata": {},
   "outputs": [
    {
     "name": "stdout",
     "output_type": "stream",
     "text": [
      "False\n"
     ]
    }
   ],
   "source": [
    "D1 = {'a': 1, 'b': 2}\n",
    "D2 = {'a': 1, 'b': 3}\n",
    "print(D1 == D2)\n",
    "# print( D1 < D2 )"
   ]
  },
  {
   "cell_type": "code",
   "execution_count": 6,
   "metadata": {},
   "outputs": [],
   "source": [
    "# D1 < D2 # In Python 3.0, magnitude comparisons for dictionaries are removed because they incur too much overhead when equality is desired (equality uses an optimized scheme in 3.0 that doesn’t literally compare sorted key/value lists). The alternative in 3.0 is to either write loops to compare values by key or compare the sorted key/value lists manually— the items dictionary methods and sorted built-in suffice\n",
    "# '<' not supported between instances of 'dict' and 'dict'"
   ]
  },
  {
   "cell_type": "code",
   "execution_count": 9,
   "metadata": {},
   "outputs": [
    {
     "name": "stdout",
     "output_type": "stream",
     "text": [
      "True\n",
      "True\n"
     ]
    }
   ],
   "source": [
    "list(D1.items())\n",
    "sorted(D1.items())\n",
    "print(sorted(D1.items()) < sorted(D2.items()))\n",
    "print(sorted(D1.items()) < sorted(D2.items()))"
   ]
  },
  {
   "cell_type": "markdown",
   "metadata": {},
   "source": [
    "# The None object"
   ]
  },
  {
   "cell_type": "code",
   "execution_count": 10,
   "metadata": {},
   "outputs": [],
   "source": [
    "L = [None]*100"
   ]
  },
  {
   "cell_type": "code",
   "execution_count": 12,
   "metadata": {},
   "outputs": [
    {
     "name": "stdout",
     "output_type": "stream",
     "text": [
      "[None, None, None, None, None, None, None, None, None, None, None, None, None, None, None, None, None, None, None, None, None, None, None, None, None, None, None, None, None, None, None, None, None, None, None, None, None, None, None, None, None, None, None, None, None, None, None, None, None, None, None, None, None, None, None, None, None, None, None, None, None, None, None, None, None, None, None, None, None, None, None, None, None, None, None, None, None, None, None, None, None, None, None, None, None, None, None, None, None, None, None, None, None, None, None, None, None, None, None, None]"
     ]
    }
   ],
   "source": [
    "print(L,end='')"
   ]
  },
  {
   "cell_type": "markdown",
   "metadata": {},
   "source": [
    "Keep in mind that None does not mean “undefined.” That is, None is something, not\n",
    "nothing (despite its name!)—it is a real object and piece of memory, given a built-in\n",
    "name by Python. Watch for other uses of this special object later in the book; it is also\n",
    "the default return value of functions, as we’ll see in Part IV"
   ]
  },
  {
   "cell_type": "markdown",
   "metadata": {},
   "source": [
    "# The bool type"
   ]
  },
  {
   "cell_type": "code",
   "execution_count": 13,
   "metadata": {},
   "outputs": [
    {
     "data": {
      "text/plain": [
       "False"
      ]
     },
     "execution_count": 13,
     "metadata": {},
     "output_type": "execute_result"
    }
   ],
   "source": [
    "bool(1)\n",
    "bool('spam')\n",
    "bool({})"
   ]
  },
  {
   "cell_type": "markdown",
   "metadata": {},
   "source": [
    "Python also provides a bool builtin function that can be used to test the Boolean value of an object (i.e., whether it is\n",
    "True—that is, nonzero or nonempty)"
   ]
  },
  {
   "cell_type": "markdown",
   "metadata": {},
   "source": [
    "# Type Objects"
   ]
  },
  {
   "cell_type": "code",
   "execution_count": 15,
   "metadata": {},
   "outputs": [
    {
     "data": {
      "text/plain": [
       "True"
      ]
     },
     "execution_count": 15,
     "metadata": {},
     "output_type": "execute_result"
    }
   ],
   "source": [
    "type([1]) == type([]) # Type of another list"
   ]
  },
  {
   "cell_type": "code",
   "execution_count": 16,
   "metadata": {},
   "outputs": [
    {
     "data": {
      "text/plain": [
       "True"
      ]
     },
     "execution_count": 16,
     "metadata": {},
     "output_type": "execute_result"
    }
   ],
   "source": [
    "type([1]) == list # list type name"
   ]
  },
  {
   "cell_type": "code",
   "execution_count": 17,
   "metadata": {},
   "outputs": [
    {
     "data": {
      "text/plain": [
       "True"
      ]
     },
     "execution_count": 17,
     "metadata": {},
     "output_type": "execute_result"
    }
   ],
   "source": [
    "isinstance([1],list) # List or customization thereof"
   ]
  },
  {
   "cell_type": "code",
   "execution_count": 18,
   "metadata": {},
   "outputs": [
    {
     "data": {
      "text/plain": [
       "True"
      ]
     },
     "execution_count": 18,
     "metadata": {},
     "output_type": "execute_result"
    }
   ],
   "source": [
    "import types\n",
    "def f(): pass\n",
    "type(f) == types.FunctionType"
   ]
  },
  {
   "cell_type": "markdown",
   "metadata": {},
   "source": [
    "# Other Types in Python"
   ]
  },
  {
   "cell_type": "code",
   "execution_count": 20,
   "metadata": {},
   "outputs": [
    {
     "data": {
      "text/plain": [
       "['X', [1, 0, 3], 'Y']"
      ]
     },
     "execution_count": 20,
     "metadata": {},
     "output_type": "execute_result"
    }
   ],
   "source": [
    "L = [1,2,3]\n",
    "M = ['X',L,'Y']\n",
    "M\n",
    "L[1] = 0 # Changes M too\n",
    "M"
   ]
  },
  {
   "cell_type": "code",
   "execution_count": 22,
   "metadata": {},
   "outputs": [
    {
     "name": "stdout",
     "output_type": "stream",
     "text": [
      "[1, 0, 3]\n",
      "['X', [1, 2, 3], 'Y']\n"
     ]
    }
   ],
   "source": [
    "L = [1,2,3]\n",
    "M = ['X',L[:],'Y'] # Embed a copy of L\n",
    "L[1] = 0 # Changes only L, not M\n",
    "print(L)\n",
    "print(M)"
   ]
  },
  {
   "cell_type": "markdown",
   "metadata": {},
   "source": [
    "# Repetition Adds One Level Deep"
   ]
  },
  {
   "cell_type": "code",
   "execution_count": 23,
   "metadata": {},
   "outputs": [],
   "source": [
    "L = [4,5,6]\n",
    "X = L * 4 # Like [4,5,6] + [4,5,6] + ..."
   ]
  },
  {
   "cell_type": "code",
   "execution_count": 24,
   "metadata": {},
   "outputs": [],
   "source": [
    "Y = [L] * 4"
   ]
  },
  {
   "cell_type": "code",
   "execution_count": 25,
   "metadata": {},
   "outputs": [
    {
     "data": {
      "text/plain": [
       "([4, 5, 6, 4, 5, 6, 4, 5, 6, 4, 5, 6],\n",
       " [[4, 5, 6], [4, 5, 6], [4, 5, 6], [4, 5, 6]])"
      ]
     },
     "execution_count": 25,
     "metadata": {},
     "output_type": "execute_result"
    }
   ],
   "source": [
    "(X,Y)"
   ]
  },
  {
   "cell_type": "code",
   "execution_count": 26,
   "metadata": {},
   "outputs": [
    {
     "name": "stdout",
     "output_type": "stream",
     "text": [
      "[4, 5, 6, 4, 5, 6, 4, 5, 6, 4, 5, 6] [[4, 0, 6], [4, 0, 6], [4, 0, 6], [4, 0, 6]]\n"
     ]
    }
   ],
   "source": [
    "L[1] = 0 # Impacts Y but not X\n",
    "print(X, Y)"
   ]
  },
  {
   "cell_type": "markdown",
   "metadata": {},
   "source": [
    "# Beware of Cyclic Data Structures"
   ]
  },
  {
   "cell_type": "code",
   "execution_count": 27,
   "metadata": {},
   "outputs": [
    {
     "name": "stdout",
     "output_type": "stream",
     "text": [
      "['grail', [...]]\n"
     ]
    }
   ],
   "source": [
    "L = ['grail'] # Append references to same object\n",
    "L.append(L) # Generates cycle in object: [...]\n",
    "print(L)"
   ]
  },
  {
   "cell_type": "markdown",
   "metadata": {},
   "source": [
    "# Immutable Types Can’t Be Changed In-Place"
   ]
  },
  {
   "cell_type": "code",
   "execution_count": 29,
   "metadata": {},
   "outputs": [],
   "source": [
    "T = (1,2,3)\n",
    "# T[2] = 4 # Error！\n",
    "T = T[:2] + (4,) # Ok: (1,2,4)"
   ]
  },
  {
   "cell_type": "code",
   "execution_count": 30,
   "metadata": {},
   "outputs": [
    {
     "data": {
      "text/plain": [
       "(1, 2, 4)"
      ]
     },
     "execution_count": 30,
     "metadata": {},
     "output_type": "execute_result"
    }
   ],
   "source": [
    "T"
   ]
  },
  {
   "cell_type": "markdown",
   "metadata": {},
   "source": [
    "# Chapter Summary"
   ]
  },
  {
   "cell_type": "markdown",
   "metadata": {},
   "source": [
    "This chapter explored the last two major core object types—the tuple and the file. We\n",
    "learned that tuples support all the usual sequence operations, have just a few methods,\n",
    "and do not allow any in-place changes because they are immutable. We also learned\n",
    "that files are returned by the built-in open function and provide methods for reading\n",
    "and writing data. We explored how to translate Python objects to and from strings for\n",
    "storing in files, and we looked at the pickle and struct modules for advanced roles\n",
    "(object serialization and binary data). Finally, we wrapped up by reviewing some properties common to all object types (e.g., shared references) and went through a list of\n",
    "common mistakes (“gotchas”) in the object type domain.\n",
    "In the next part, we’ll shift gears, turning to the topic of statement syntax in Python—\n",
    "we’ll explore all of Python’s basic procedural statements in the chapters that follow.\n",
    "The next chapter kicks off that part of the book with an introduction to Python’s general\n",
    "syntax model, which is applicable to all statement types. Before moving on, though,\n",
    "take the chapter quiz, and then work through the end-of-part lab exercises to review\n",
    "type concepts. Statements largely just create and process objects, so make sure you’ve\n",
    "mastered this domain by working through all the exercises before reading on."
   ]
  },
  {
   "cell_type": "markdown",
   "metadata": {},
   "source": [
    "# Test Your Knowledge: Quiz"
   ]
  },
  {
   "cell_type": "code",
   "execution_count": 33,
   "metadata": {},
   "outputs": [],
   "source": [
    "T = (4,5,6)"
   ]
  },
  {
   "cell_type": "code",
   "execution_count": 34,
   "metadata": {},
   "outputs": [
    {
     "data": {
      "text/plain": [
       "3"
      ]
     },
     "execution_count": 34,
     "metadata": {},
     "output_type": "execute_result"
    }
   ],
   "source": [
    "len(T)"
   ]
  },
  {
   "cell_type": "code",
   "execution_count": 35,
   "metadata": {},
   "outputs": [],
   "source": [
    "L = list(T)"
   ]
  },
  {
   "cell_type": "code",
   "execution_count": 36,
   "metadata": {},
   "outputs": [],
   "source": [
    "L[0]=1"
   ]
  },
  {
   "cell_type": "code",
   "execution_count": 37,
   "metadata": {},
   "outputs": [],
   "source": [
    "T = tuple()"
   ]
  },
  {
   "cell_type": "code",
   "execution_count": null,
   "metadata": {},
   "outputs": [],
   "source": []
  }
 ],
 "metadata": {
  "kernelspec": {
   "display_name": "Python 3",
   "language": "python",
   "name": "python3"
  },
  "language_info": {
   "codemirror_mode": {
    "name": "ipython",
    "version": 3
   },
   "file_extension": ".py",
   "mimetype": "text/x-python",
   "name": "python",
   "nbconvert_exporter": "python",
   "pygments_lexer": "ipython3",
   "version": "3.7.4"
  }
 },
 "nbformat": 4,
 "nbformat_minor": 4
}
