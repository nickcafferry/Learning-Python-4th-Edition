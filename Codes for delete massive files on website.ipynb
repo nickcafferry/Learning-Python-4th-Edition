{
 "cells": [
  {
   "cell_type": "code",
   "execution_count": 3,
   "metadata": {},
   "outputs": [
    {
     "data": {
      "text/plain": [
       "True"
      ]
     },
     "execution_count": 3,
     "metadata": {},
     "output_type": "execute_result"
    }
   ],
   "source": [
    "import webbrowser\n",
    "webbrowser.open(\"https://github.com/nickcafferry/Learning-Python-4th-Edition/delete/master/%E5%85%A8%E8%81%8C%E9%AB%98%E6%89%8B%E7%AC%AC1345%20%E7%AB%A0.txt\")"
   ]
  },
  {
   "cell_type": "code",
   "execution_count": 10,
   "metadata": {},
   "outputs": [
    {
     "data": {
      "text/plain": [
       "0"
      ]
     },
     "execution_count": 10,
     "metadata": {},
     "output_type": "execute_result"
    }
   ],
   "source": [
    "import os\n",
    "os.startfile(\"C:/Users/NickC/AppData/Local/Google/Chrome/Application/chrome.exe\")\n",
    "\n",
    "import os\n",
    "os.system(\"C:/Users/NickC/AppData/Local/Google/Chrome/Application/chrome.exe\")\n",
    "\n",
    "import os\n",
    "os.system('\"C:/Users/NickC/AppData/Local/Google/Chrome/Application/chrome.exe\" https://github.com/nickcafferry/Learning-Python-4th-Edition/delete/master/%E5%85%A8%E8%81%8C%E9%AB%98%E6%89%8B%E7%AC%AC1345%20%E7%AB%A0.txt')"
   ]
  },
  {
   "cell_type": "code",
   "execution_count": 8,
   "metadata": {},
   "outputs": [
    {
     "data": {
      "text/plain": [
       "True"
      ]
     },
     "execution_count": 8,
     "metadata": {},
     "output_type": "execute_result"
    }
   ],
   "source": [
    "import webbrowser\n",
    "webbrowser.open(\"https://github.com/nickcafferry/Learning-Python-4th-Edition/delete/master/%E5%85%A8%E8%81%8C%E9%AB%98%E6%89%8B%E7%AC%AC1345%20%E7%AB%A0.txt\")"
   ]
  },
  {
   "cell_type": "code",
   "execution_count": 11,
   "metadata": {},
   "outputs": [
    {
     "data": {
      "text/plain": [
       "True"
      ]
     },
     "execution_count": 11,
     "metadata": {},
     "output_type": "execute_result"
    }
   ],
   "source": [
    "import webbrowser\n",
    "IEPath = \"C:/Users/NickC/AppData/Local/Google/Chrome/Application/chrome.exe\"\n",
    "webbrowser.register('IE', None, webbrowser.BackgroundBrowser(IEPath))\n",
    "webbrowser.get('IE').open('http://www.baidu.com', new=1,autoraise=True)\n",
    "# 或者\n",
    "webbrowser.open_new_tab('http://www.baidu.com')"
   ]
  },
  {
   "cell_type": "code",
   "execution_count": 12,
   "metadata": {},
   "outputs": [
    {
     "data": {
      "text/plain": [
       "True"
      ]
     },
     "execution_count": 12,
     "metadata": {},
     "output_type": "execute_result"
    }
   ],
   "source": [
    "webbrowser.open_new_tab('http://www.baidu.com')"
   ]
  },
  {
   "cell_type": "code",
   "execution_count": 13,
   "metadata": {},
   "outputs": [
    {
     "data": {
      "text/plain": [
       "True"
      ]
     },
     "execution_count": 13,
     "metadata": {},
     "output_type": "execute_result"
    }
   ],
   "source": [
    "webbrowser.open(\"https://github.com/nickcafferry/Learning-Python-4th-Edition/delete/master/%E5%85%A8%E8%81%8C%E9%AB%98%E6%89%8B%E7%AC%AC1346%20%E7%AB%A0.txt\")"
   ]
  },
  {
   "cell_type": "code",
   "execution_count": 14,
   "metadata": {},
   "outputs": [
    {
     "data": {
      "text/plain": [
       "0"
      ]
     },
     "execution_count": 14,
     "metadata": {},
     "output_type": "execute_result"
    }
   ],
   "source": [
    "os.system('\"C:/Users/NickC/AppData/Local/Google/Chrome/Application/chrome.exe\" https://github.com/nickcafferry/Learning-Python-4th-Edition/delete/master/%E5%85%A8%E8%81%8C%E9%AB%98%E6%89%8B%E7%AC%AC1346%20%E7%AB%A0.txt')"
   ]
  },
  {
   "cell_type": "code",
   "execution_count": 17,
   "metadata": {},
   "outputs": [],
   "source": [
    "i = 1346\n",
    "S = '\"C:/Users/NickC/AppData/Local/Google/Chrome/Application/chrome.exe\" https://github.com/nickcafferry/Learning-Python-4th-Edition/delete/master/%E5%85%A8%E8%81%8C%E9%AB%98%E6%89%8B%E7%AC%AC'+str(i)+'%20%E7%AB%A0.txt'"
   ]
  },
  {
   "cell_type": "code",
   "execution_count": 18,
   "metadata": {},
   "outputs": [
    {
     "data": {
      "text/plain": [
       "'\"C:/Users/NickC/AppData/Local/Google/Chrome/Application/chrome.exe\" https://github.com/nickcafferry/Learning-Python-4th-Edition/delete/master/%E5%85%A8%E8%81%8C%E9%AB%98%E6%89%8B%E7%AC%AC1346%20%E7%AB%A0.txt'"
      ]
     },
     "execution_count": 18,
     "metadata": {},
     "output_type": "execute_result"
    }
   ],
   "source": [
    "S"
   ]
  },
  {
   "cell_type": "code",
   "execution_count": 19,
   "metadata": {},
   "outputs": [],
   "source": [
    "for i in range(1347,1390):\n",
    "    S = '\"C:/Users/NickC/AppData/Local/Google/Chrome/Application/chrome.exe\" https://github.com/nickcafferry/Learning-Python-4th-Edition/delete/master/%E5%85%A8%E8%81%8C%E9%AB%98%E6%89%8B%E7%AC%AC'+str(i)+'%20%E7%AB%A0.txt'\n",
    "    os.system(S)"
   ]
  },
  {
   "cell_type": "code",
   "execution_count": null,
   "metadata": {},
   "outputs": [],
   "source": []
  }
 ],
 "metadata": {
  "kernelspec": {
   "display_name": "Python 3",
   "language": "python",
   "name": "python3"
  },
  "language_info": {
   "codemirror_mode": {
    "name": "ipython",
    "version": 3
   },
   "file_extension": ".py",
   "mimetype": "text/x-python",
   "name": "python",
   "nbconvert_exporter": "python",
   "pygments_lexer": "ipython3",
   "version": "3.7.4"
  }
 },
 "nbformat": 4,
 "nbformat_minor": 4
}
