{
 "cells": [
  {
   "cell_type": "code",
   "execution_count": 21,
   "metadata": {},
   "outputs": [],
   "source": [
    "import pandas as pd\n",
    "data = pd.read_csv('./seaborn-data/flights.csv')"
   ]
  },
  {
   "cell_type": "code",
   "execution_count": 17,
   "metadata": {},
   "outputs": [],
   "source": [
    "html = data.to_html()"
   ]
  },
  {
   "cell_type": "code",
   "execution_count": 26,
   "metadata": {},
   "outputs": [],
   "source": [
    "data2 = pd.read_csv(\"C:/Users/NickC/Desktop/Acid buffer.csv\")"
   ]
  },
  {
   "cell_type": "code",
   "execution_count": 27,
   "metadata": {},
   "outputs": [],
   "source": [
    "html2 = data2.to_html()"
   ]
  },
  {
   "cell_type": "code",
   "execution_count": 28,
   "metadata": {},
   "outputs": [
    {
     "data": {
      "text/plain": [
       "'<table border=\"1\" class=\"dataframe\">\\n  <thead>\\n    <tr style=\"text-align: right;\">\\n      <th></th>\\n      <th>Acid</th>\\n      <th>Molecular Formular</th>\\n      <th>Ka</th>\\n      <th>pKa</th>\\n    </tr>\\n  </thead>\\n  <tbody>\\n    <tr>\\n      <th>0</th>\\n      <td>trichloroacetic acid</td>\\n      <td>CCl3COOH</td>\\n      <td>3.020000e-01</td>\\n      <td>0.52</td>\\n    </tr>\\n    <tr>\\n      <th>1</th>\\n      <td>benzene sulfonic acid</td>\\n      <td>C6H5SO3H</td>\\n      <td>2.000000e-01</td>\\n      <td>0.70</td>\\n    </tr>\\n    <tr>\\n      <th>2</th>\\n      <td>iodic acid</td>\\n      <td>HIO3</td>\\n      <td>1.700000e-01</td>\\n      <td>0.77</td>\\n    </tr>\\n    <tr>\\n      <th>3</th>\\n      <td>sulfurous acid</td>\\n      <td>H2SO3</td>\\n      <td>1.550000e-02</td>\\n      <td>1.81</td>\\n    </tr>\\n    <tr>\\n      <th>4</th>\\n      <td>chlorous acid</td>\\n      <td>HClO2</td>\\n      <td>1.000000e-02</td>\\n      <td>2.00</td>\\n    </tr>\\n    <tr>\\n      <th>5</th>\\n      <td>phosphoric acid</td>\\n      <td>H3PO4</td>\\n      <td>7.590000e-03</td>\\n      <td>2.12</td>\\n    </tr>\\n    <tr>\\n      <th>6</th>\\n      <td>chloroacetic acid</td>\\n      <td>CH2ClCOOH</td>\\n      <td>1.410000e-03</td>\\n      <td>2.85</td>\\n    </tr>\\n    <tr>\\n      <th>7</th>\\n      <td>lactic acid</td>\\n      <td>CH3CH(OH)COOH</td>\\n      <td>8.320000e-04</td>\\n      <td>3.08</td>\\n    </tr>\\n    <tr>\\n      <th>8</th>\\n      <td>nitrous acid</td>\\n      <td>HNO2</td>\\n      <td>4.270000e-04</td>\\n      <td>3.37</td>\\n    </tr>\\n    <tr>\\n      <th>9</th>\\n      <td>hydrofluoric acid</td>\\n      <td>HF</td>\\n      <td>3.550000e-04</td>\\n      <td>3.45</td>\\n    </tr>\\n    <tr>\\n      <th>10</th>\\n      <td>formic acid</td>\\n      <td>HCOOH</td>\\n      <td>1.780000e-04</td>\\n      <td>3.75</td>\\n    </tr>\\n    <tr>\\n      <th>11</th>\\n      <td>benzoic acid</td>\\n      <td>C6H5COOH</td>\\n      <td>6.460000e-05</td>\\n      <td>4.19</td>\\n    </tr>\\n    <tr>\\n      <th>12</th>\\n      <td>acetic acid</td>\\n      <td>CH3COOH</td>\\n      <td>1.780000e-05</td>\\n      <td>4.75</td>\\n    </tr>\\n    <tr>\\n      <th>13</th>\\n      <td>carbonic acid</td>\\n      <td>H2CO3</td>\\n      <td>4.270000e-07</td>\\n      <td>6.37</td>\\n    </tr>\\n    <tr>\\n      <th>14</th>\\n      <td>hypochlorous acid</td>\\n      <td>HClO</td>\\n      <td>2.950000e-08</td>\\n      <td>7.53</td>\\n    </tr>\\n    <tr>\\n      <th>15</th>\\n      <td>hypobromous acid</td>\\n      <td>HBrO</td>\\n      <td>2.040000e-09</td>\\n      <td>8.69</td>\\n    </tr>\\n    <tr>\\n      <th>16</th>\\n      <td>boric acid</td>\\n      <td>B(OH)3†</td>\\n      <td>7.240000e-10</td>\\n      <td>9.14</td>\\n    </tr>\\n    <tr>\\n      <th>17</th>\\n      <td>hydrocyanic acid</td>\\n      <td>HCN</td>\\n      <td>4.900000e-10</td>\\n      <td>9.31</td>\\n    </tr>\\n    <tr>\\n      <th>18</th>\\n      <td>phenol</td>\\n      <td>C6H5OH</td>\\n      <td>1.290000e-10</td>\\n      <td>9.89</td>\\n    </tr>\\n    <tr>\\n      <th>19</th>\\n      <td>hypoiodous acid</td>\\n      <td>HIO</td>\\n      <td>2.290000e-11</td>\\n      <td>10.64</td>\\n    </tr>\\n  </tbody>\\n</table>'"
      ]
     },
     "execution_count": 28,
     "metadata": {},
     "output_type": "execute_result"
    }
   ],
   "source": [
    "html2"
   ]
  },
  {
   "cell_type": "code",
   "execution_count": 38,
   "metadata": {},
   "outputs": [],
   "source": [
    "data3 = pd.read_csv(\"C:/Users/NickC/Desktop/Typical acid buffer.csv\")"
   ]
  },
  {
   "cell_type": "code",
   "execution_count": 39,
   "metadata": {},
   "outputs": [],
   "source": [
    "html3 = data3.to_html()"
   ]
  },
  {
   "cell_type": "code",
   "execution_count": 40,
   "metadata": {},
   "outputs": [
    {
     "data": {
      "text/plain": [
       "'<table border=\"1\" class=\"dataframe\">\\n  <thead>\\n    <tr style=\"text-align: right;\">\\n      <th></th>\\n      <th>Acid buffers</th>\\n      <th>pKa</th>\\n      <th>Base buffers</th>\\n      <th>pka</th>\\n    </tr>\\n  </thead>\\n  <tbody>\\n    <tr>\\n      <th>0</th>\\n      <td>CH3COOH/CH3CO2–</td>\\n      <td>4.75</td>\\n      <td>NH4+/NH3</td>\\n      <td>9.25</td>\\n    </tr>\\n    <tr>\\n      <th>1</th>\\n      <td>HNO2/NO2–</td>\\n      <td>3.37</td>\\n      <td>(CH3)3NH+/(CH3)3N</td>\\n      <td>9.81</td>\\n    </tr>\\n    <tr>\\n      <th>2</th>\\n      <td>HClO2/ClO2–</td>\\n      <td>2.00</td>\\n      <td>H2PO4–/HPO42–</td>\\n      <td>7.21</td>\\n    </tr>\\n  </tbody>\\n</table>'"
      ]
     },
     "execution_count": 40,
     "metadata": {},
     "output_type": "execute_result"
    }
   ],
   "source": [
    "html3"
   ]
  },
  {
   "cell_type": "code",
   "execution_count": 6,
   "metadata": {},
   "outputs": [
    {
     "data": {
      "image/png": "[encoded data removed]",
      "text/plain": [
       "<Figure size 432x288 with 1 Axes>"
      ]
     },
     "metadata": {
      "needs_background": "light"
     },
     "output_type": "display_data"
    }
   ],
   "source": [
    "import math\n",
    "import matplotlib.pyplot as plt\n",
    "import numpy as np\n",
    "if __name__ == '__main__':\n",
    "    #获得浮点类型numpy数组\n",
    "    x = np.arange(1.1,3,0.05)\n",
    "    #获得函数结果\n",
    "    y1 = [4.75 + math.log(10, a) for a in x]\n",
    "    #画图\n",
    "    plt.plot(x, y1, linewidth=2, color='#007500', label='log10(x) + 4.75')\n",
    "    #在坐标1处描红\n",
    "    plt.plot([1,1],[y1[0], y1[1]],\"r--\",linewidth=2)\n",
    "\n",
    "    y2 = [6.75 + math.log(10,a) for a in x]\n",
    "    plt.plot(x,y2, linewidth=2,color='#9F35FF', label='log10(x) + 6.75')\n",
    "\n",
    "    y3 = [7.75 + math.log(10,a) for a in x]\n",
    "    plt.plot(x, y3, linewidth=2, color='#f75000', label='log10(x) +7.75')\n",
    "\n",
    "    plt.legend(loc='lower right')#在右下角显示计算用的函数\n",
    "    plt.grid(True)#在坐标系上画格子\n",
    "    #打印图片\n",
    "    plt.show()"
   ]
  },
  {
   "cell_type": "code",
   "execution_count": 43,
   "metadata": {},
   "outputs": [
    {
     "data": {
      "image/png": "[encoded data removed]",
      "text/plain": [
       "<Figure size 432x288 with 1 Axes>"
      ]
     },
     "metadata": {
      "needs_background": "light"
     },
     "output_type": "display_data"
    }
   ],
   "source": [
    "import math\n",
    "import matplotlib.pyplot as plt\n",
    "import numpy as np\n",
    "from math import log\n",
    "x1 = np.arange(0.000001,1,0.0001)\n",
    "y1 = np.log10(x1) + 1\n",
    "\n",
    "x2 = np.arange(0.000000001,0.000001,0.0000000001)\n",
    "y2 = np.log10(x2) + 1\n",
    "\n",
    "plt.plot(x1,y1)\n",
    "plt.plot(x2,y2)\n",
    "plt.grid(True)\n",
    "plt.show()"
   ]
  },
  {
   "cell_type": "code",
   "execution_count": 8,
   "metadata": {},
   "outputs": [
    {
     "name": "stdout",
     "output_type": "stream",
     "text": [
      "[-0.500530624715971, 0.000353624715971055]\n"
     ]
    }
   ],
   "source": [
    "import sympy\n",
    "import numpy as np\n",
    "import math\n",
    "x = sympy.Symbol('x')\n",
    "y = x*(0.5+x)*10**(4)/(1.77*(1-x))\n",
    "print(sympy.solve(x*(0.5+x)*10**(4)/(1.77*(1-x))-1,x))"
   ]
  },
  {
   "cell_type": "code",
   "execution_count": 9,
   "metadata": {},
   "outputs": [
    {
     "data": {
      "text/plain": [
       "3.450996737974212"
      ]
     },
     "execution_count": 9,
     "metadata": {},
     "output_type": "execute_result"
    }
   ],
   "source": [
    "-math.log10(3.54*10**(-4))"
   ]
  },
  {
   "cell_type": "code",
   "execution_count": 10,
   "metadata": {},
   "outputs": [
    {
     "name": "stdout",
     "output_type": "stream",
     "text": [
      "[-0.400662944614088, 0.000485944614088362]\n"
     ]
    }
   ],
   "source": [
    "import sympy\n",
    "import numpy as np\n",
    "import math\n",
    "x = sympy.Symbol('x')\n",
    "y = x*(0.4+x)*10**(4)/(1.77*(1.1-x))\n",
    "print(sympy.solve(y-1,x))"
   ]
  },
  {
   "cell_type": "code",
   "execution_count": 11,
   "metadata": {},
   "outputs": [
    {
     "data": {
      "text/plain": [
       "3.3142582613977365"
      ]
     },
     "execution_count": 11,
     "metadata": {},
     "output_type": "execute_result"
    }
   ],
   "source": [
    "-math.log10(4.85*10**(-4))"
   ]
  },
  {
   "cell_type": "markdown",
   "metadata": {},
   "source": [
    "# Chapter 12\n",
    "## if Tests and Syntax Rules"
   ]
  },
  {
   "cell_type": "markdown",
   "metadata": {},
   "source": [
    "This chapter presents the Python if statement, which is the main statement used for selecting from alternative actions based on test results. Because this is our first in-depth look at compound statements—statements that embed other statements—we will also explore the general concepts behind the Python statement syntax model here in more detail than we did in the introduction in Chapter 10. Because the if statement introduces the notion of tests, this chapter will also deal with Boolean expressions and fill in some details on truth tests in general."
   ]
  },
  {
   "cell_type": "markdown",
   "metadata": {},
   "source": [
    "# General Format\n",
    "The Python if statement is typical of if statements in most procedural languages. It\n",
    "takes the form of an if test, followed by one or more optional elif (“else if”) tests and\n",
    "a final optional else block. The tests and the else part each have an associated block\n",
    "of nested statements, indented under a header line. When the if statement runs, Python\n",
    "executes the block of code associated with the first test that evaluates to true, or the\n",
    "else block if all tests prove false. The general form of an if statement looks like this"
   ]
  },
  {
   "cell_type": "code",
   "execution_count": 1,
   "metadata": {},
   "outputs": [
    {
     "name": "stdout",
     "output_type": "stream",
     "text": [
      "true\n"
     ]
    }
   ],
   "source": [
    "if 1:\n",
    "    print('true')\n",
    "elif 2:\n",
    "    print('I saw what I saw. I saw whitewalker.')"
   ]
  },
  {
   "cell_type": "markdown",
   "metadata": {},
   "source": [
    "# General Format"
   ]
  },
  {
   "cell_type": "markdown",
   "metadata": {},
   "source": [
    "if <test1>:          # if test\n",
    "    \n",
    "    <statements1>    # Associated block\n",
    "        \n",
    "elif <test2>:\n",
    "        \n",
    "    <statements2>    # Optional else\n",
    "        \n",
    "else:\n",
    "        \n",
    "    <statements3>"
   ]
  },
  {
   "cell_type": "markdown",
   "metadata": {},
   "source": [
    "# Multiway Branching"
   ]
  },
  {
   "cell_type": "code",
   "execution_count": 3,
   "metadata": {},
   "outputs": [
    {
     "name": "stdout",
     "output_type": "stream",
     "text": [
      "Run away! Run away!\n"
     ]
    }
   ],
   "source": [
    "x = 'killer rabbit'\n",
    "if x == 'roger':\n",
    "    print(\"how's jessica?\")\n",
    "elif x == 'bugs':\n",
    "    print(\"what's up doc?\")\n",
    "else:\n",
    "    print(\"Run away! Run away!\")"
   ]
  },
  {
   "cell_type": "code",
   "execution_count": 4,
   "metadata": {},
   "outputs": [
    {
     "name": "stdout",
     "output_type": "stream",
     "text": [
      "1.99\n"
     ]
    }
   ],
   "source": [
    "choice = 'ham'\n",
    "print({'spam':1.25,'ham':1.99,'eggs':0.99,'bacon':1.10}[choice])"
   ]
  },
  {
   "cell_type": "code",
   "execution_count": 43,
   "metadata": {},
   "outputs": [
    {
     "name": "stdout",
     "output_type": "stream",
     "text": [
      "IPython console for SymPy 1.4 (Python 3.7.4-64-bit) (ground types: python)\n",
      "\n",
      "These commands were executed:\n",
      ">>> from __future__ import division\n",
      ">>> from sympy import *\n",
      ">>> x, y, z, t = symbols('x y z t')\n",
      ">>> k, m, n = symbols('k m n', integer=True)\n",
      ">>> f, g, h = symbols('f g h', cls=Function)\n",
      ">>> init_printing()\n",
      "\n",
      "Documentation can be found at https://docs.sympy.org/1.4/\n",
      "\n"
     ]
    }
   ],
   "source": [
    "from sympy import *\n",
    "init_printing()\n",
    "init_session()"
   ]
  },
  {
   "cell_type": "code",
   "execution_count": 52,
   "metadata": {},
   "outputs": [],
   "source": [
    "import math"
   ]
  },
  {
   "cell_type": "code",
   "execution_count": 58,
   "metadata": {},
   "outputs": [
    {
     "data": {
      "image/png": "[encoded data removed]",
      "text/latex": [
       "$\\displaystyle 0.9999999999999999$"
      ],
      "text/plain": [
       "0.9999999999999999"
      ]
     },
     "execution_count": 58,
     "metadata": {},
     "output_type": "execute_result"
    }
   ],
   "source": [
    "math.sqrt(3)*math.tan(math.radians(18)) + math.tan(math.radians(18))*math.tan(math.radians(12)) + math.sqrt(3)*math.tan(math.radians(12))"
   ]
  },
  {
   "cell_type": "code",
   "execution_count": 17,
   "metadata": {},
   "outputs": [
    {
     "data": {
      "image/png": "[encoded data removed]",
      "text/latex": [
       "$\\displaystyle e^{x}$"
      ],
      "text/plain": [
       " x\n",
       "ℯ "
      ]
     },
     "execution_count": 17,
     "metadata": {},
     "output_type": "execute_result"
    }
   ],
   "source": [
    "expand(exp(x))"
   ]
  },
  {
   "cell_type": "code",
   "execution_count": 19,
   "metadata": {},
   "outputs": [
    {
     "data": {
      "image/png": "[encoded data removed]",
      "text/latex": [
       "$\\displaystyle 1 - x + \\frac{x^{2}}{2} - \\frac{x^{3}}{6} + \\frac{x^{4}}{24} - \\frac{x^{5}}{120} + O\\left(x^{6}\\right)$"
      ],
      "text/plain": [
       "         2    3    4     5        \n",
       "        x    x    x     x     ⎛ 6⎞\n",
       "1 - x + ── - ── + ── - ─── + O⎝x ⎠\n",
       "        2    6    24   120        "
      ]
     },
     "execution_count": 19,
     "metadata": {},
     "output_type": "execute_result"
    }
   ],
   "source": [
    "series(exp(-x))"
   ]
  },
  {
   "cell_type": "code",
   "execution_count": 39,
   "metadata": {},
   "outputs": [
    {
     "data": {
      "image/png": "[encoded data removed]",
      "text/plain": [
       "<Figure size 432x288 with 1 Axes>"
      ]
     },
     "metadata": {
      "needs_background": "light"
     },
     "output_type": "display_data"
    },
    {
     "data": {
      "image/png": "[encoded data removed]",
      "text/latex": [
       "$\\displaystyle \\left\\{x \\mid x \\in \\mathbb{C} \\wedge 2^{x} + 2^{x^{2}} - e^{\\frac{7}{8}} = 0 \\right\\}$"
      ],
      "text/plain": [
       "⎧                  ⎛ 2⎞           ⎫\n",
       "⎨             x    ⎝x ⎠    7/8    ⎬\n",
       "⎩x | x ∊ ℂ ∧ 2  + 2     - ℯ    = 0⎭"
      ]
     },
     "execution_count": 39,
     "metadata": {},
     "output_type": "execute_result"
    }
   ],
   "source": [
    "plot(log(2**x+2**(x**2))-Rational(7,8))\n",
    "solveset(log(2**x+2**(x**2))-Rational(7,8),x)"
   ]
  },
  {
   "cell_type": "code",
   "execution_count": 29,
   "metadata": {},
   "outputs": [
    {
     "data": {
      "image/png": "[encoded data removed]",
      "text/latex": [
       "$\\displaystyle \\log{\\left(2^{x} + 2^{x^{2}} \\right)} > \\frac{7}{8}$"
      ],
      "text/plain": [
       "   ⎛      ⎛ 2⎞⎞      \n",
       "   ⎜ x    ⎝x ⎠⎟      \n",
       "log⎝2  + 2    ⎠ > 7/8"
      ]
     },
     "execution_count": 29,
     "metadata": {},
     "output_type": "execute_result"
    }
   ],
   "source": [
    "simplify_logic(log(2**x+2**(x**2)) > Rational(7,8))"
   ]
  },
  {
   "cell_type": "code",
   "execution_count": 35,
   "metadata": {},
   "outputs": [
    {
     "data": {
      "image/png": "[encoded data removed]",
      "text/latex": [
       "$\\displaystyle -0.0139846000016023$"
      ],
      "text/plain": [
       "-0.0139846000016023"
      ]
     },
     "execution_count": 35,
     "metadata": {},
     "output_type": "execute_result"
    }
   ],
   "source": [
    "summation(1/(2*n-1)-1/(2*n),(n,1,10000))-2**(0.5)/2"
   ]
  },
  {
   "cell_type": "code",
   "execution_count": 42,
   "metadata": {},
   "outputs": [
    {
     "name": "stdout",
     "output_type": "stream",
     "text": [
      "Run away! Run away!\n"
     ]
    }
   ],
   "source": [
    "x = 'killer rabbit'\n",
    "if x == 'roger':\n",
    "    print(\"how's jessica?\")\n",
    "elif x == 'bugs':\n",
    "    print(\"what's up doc?\")\n",
    "else:\n",
    "    print(\"Run away! Run away!\")"
   ]
  },
  {
   "cell_type": "code",
   "execution_count": 59,
   "metadata": {},
   "outputs": [
    {
     "name": "stdout",
     "output_type": "stream",
     "text": [
      "1.99\n"
     ]
    }
   ],
   "source": [
    "choice = 'ham'\n",
    "print({'spam': 1.25, 'ham': 1.99, 'eggs': 0.99, 'bacon': 0.10}[choice])"
   ]
  },
  {
   "cell_type": "code",
   "execution_count": 60,
   "metadata": {},
   "outputs": [
    {
     "name": "stdout",
     "output_type": "stream",
     "text": [
      "1.99\n"
     ]
    }
   ],
   "source": [
    "if choice == 'spam':\n",
    "    print(1.25)\n",
    "elif choice == 'ham':\n",
    "    print(1.99)\n",
    "elif choice == 'eggs':\n",
    "    print(0.99)\n",
    "elif choice == 'bacon':\n",
    "    print(1.10)\n",
    "else:\n",
    "    print('Bad choice')"
   ]
  },
  {
   "cell_type": "code",
   "execution_count": 61,
   "metadata": {},
   "outputs": [
    {
     "name": "stdout",
     "output_type": "stream",
     "text": [
      "1.25\n",
      "Bad choice\n"
     ]
    }
   ],
   "source": [
    "branch = {'spam': 1.25, 'ham': 1.99, 'eggs': 0.99}\n",
    "print(branch.get('spam','Bad choice'))\n",
    "print(branch.get('bacon','Bad choice'))"
   ]
  },
  {
   "cell_type": "code",
   "execution_count": 62,
   "metadata": {},
   "outputs": [
    {
     "name": "stdout",
     "output_type": "stream",
     "text": [
      "Bad choice\n"
     ]
    }
   ],
   "source": [
    "choice = 'bacon'\n",
    "if choice in branch:\n",
    "    print(branch[choice])\n",
    "else:\n",
    "    print(\"Bad choice\")"
   ]
  },
  {
   "cell_type": "markdown",
   "metadata": {},
   "source": [
    "# Python Syntax Rules"
   ]
  },
  {
   "cell_type": "markdown",
   "metadata": {},
   "source": [
    "# Python has a simple, statement-based syntax\n",
    "## Statements execute one after another, until you say otherwise\n",
    "### Because Python's path through a program is called the control flow, statements such as if that affect it are often called control-flow statements\n",
    "## Block and statement boundaries are detected automatically\n",
    "### Python uses the indentation of statements under a header to group the statements in a nested block. Similarly, Python statements are not normally terminated with semicolons, rather, the end of a line usually marks the end of the statement coded on that line.\n",
    "## Compound statements = header + \":\" + indented statements. \n",
    "### The indented statements are called a block (or sometimes, a suite). In the if statement, the elif and else clauses are part of the if, but they are also header lines withe nested blocks of their own.\n",
    "## Blank lines, spaces, and comments are usually ignored.\n",
    "### Spaces inside statements and expressions are almost always ignored (except in string literals, and when used for indentation). Comments are always ignored: they start with a # character (not inside a string literal) and extend to the end of the current line.\n",
    "## Docstrings are ignored but are saved and displayed by tools\n",
    "### Docstrings are part of Python's larger documentation strategy and are covered in the last chapter in this part of the book."
   ]
  },
  {
   "cell_type": "code",
   "execution_count": 5,
   "metadata": {},
   "outputs": [
    {
     "name": "stdout",
     "output_type": "stream",
     "text": [
      "IPython console for SymPy 1.4 (Python 3.7.4-64-bit) (ground types: python)\n",
      "\n",
      "These commands were executed:\n",
      ">>> from __future__ import division\n",
      ">>> from sympy import *\n",
      ">>> x, y, z, t = symbols('x y z t')\n",
      ">>> k, m, n = symbols('k m n', integer=True)\n",
      ">>> f, g, h = symbols('f g h', cls=Function)\n",
      ">>> init_printing()\n",
      "\n",
      "Documentation can be found at https://docs.sympy.org/1.4/\n",
      "\n"
     ]
    }
   ],
   "source": [
    "from sympy import *\n",
    "init_printing()\n",
    "init_session()"
   ]
  },
  {
   "cell_type": "code",
   "execution_count": 6,
   "metadata": {},
   "outputs": [
    {
     "data": {
      "image/png": "[encoded data removed]",
      "text/latex": [
       "$\\displaystyle \\frac{\\pi^{2}}{6}$"
      ],
      "text/plain": [
       " 2\n",
       "π \n",
       "──\n",
       "6 "
      ]
     },
     "execution_count": 6,
     "metadata": {},
     "output_type": "execute_result"
    }
   ],
   "source": [
    "limit(summation(1/n**2,(n,1,oo)),n,oo)"
   ]
  },
  {
   "cell_type": "code",
   "execution_count": 10,
   "metadata": {},
   "outputs": [
    {
     "data": {
      "image/png": "[encoded data removed]",
      "text/latex": [
       "$\\displaystyle 1.6449340668482264$"
      ],
      "text/plain": [
       "1.6449340668482264"
      ]
     },
     "execution_count": 10,
     "metadata": {},
     "output_type": "execute_result"
    }
   ],
   "source": [
    "float(pi**2/6)"
   ]
  },
  {
   "cell_type": "code",
   "execution_count": 11,
   "metadata": {},
   "outputs": [
    {
     "data": {
      "image/png": "[encoded data removed]",
      "text/latex": [
       "$\\displaystyle \\frac{\\pi^{2}}{6}$"
      ],
      "text/plain": [
       " 2\n",
       "π \n",
       "──\n",
       "6 "
      ]
     },
     "execution_count": 11,
     "metadata": {},
     "output_type": "execute_result"
    }
   ],
   "source": [
    "summation(1/n**2,(n,1,oo))"
   ]
  },
  {
   "cell_type": "code",
   "execution_count": 15,
   "metadata": {},
   "outputs": [
    {
     "data": {
      "image/png": "[encoded data removed]",
      "text/latex": [
       "$\\displaystyle 1.6448340718480599$"
      ],
      "text/plain": [
       "1.6448340718480599"
      ]
     },
     "execution_count": 15,
     "metadata": {},
     "output_type": "execute_result"
    }
   ],
   "source": [
    "float(summation(1/n**2,(n,1,10000)))"
   ]
  },
  {
   "cell_type": "code",
   "execution_count": 20,
   "metadata": {},
   "outputs": [
    {
     "name": "stdout",
     "output_type": "stream",
     "text": [
      "     3     5        \n",
      "    x     x     ⎛ 6⎞\n",
      "x - ── + ─── + O⎝x ⎠\n",
      "    6    120        \n",
      "     2    4        \n",
      "    x    x     ⎛ 6⎞\n",
      "1 - ── + ── + O⎝x ⎠\n",
      "    2    24        \n"
     ]
    }
   ],
   "source": [
    "pprint(series(sin(x)))\n",
    "pprint(series(cos(x)))"
   ]
  },
  {
   "cell_type": "markdown",
   "metadata": {},
   "source": [
    "# Block Delimiters: Indentation Rules"
   ]
  },
  {
   "cell_type": "code",
   "execution_count": 21,
   "metadata": {},
   "outputs": [
    {
     "name": "stdout",
     "output_type": "stream",
     "text": [
      "block2\n",
      "block1\n",
      "block0\n"
     ]
    }
   ],
   "source": [
    "x = 1\n",
    "if x:\n",
    "    y=2\n",
    "    if y:\n",
    "        print('block2')\n",
    "    print('block1')\n",
    "print('block0')"
   ]
  },
  {
   "cell_type": "code",
   "execution_count": 23,
   "metadata": {},
   "outputs": [
    {
     "name": "stdout",
     "output_type": "stream",
     "text": [
      "spamspamspamspamspamspamspamspam\n"
     ]
    }
   ],
   "source": [
    "   x ='spam'\n",
    "if 'rubbery' in 'shrubbery':\n",
    "    print(x*8)"
   ]
  },
  {
   "cell_type": "code",
   "execution_count": 3,
   "metadata": {},
   "outputs": [],
   "source": [
    "A1 = -13.212; B1 = -13122.470; C1= 4.354; D1 = -0.00330;"
   ]
  },
  {
   "cell_type": "code",
   "execution_count": 9,
   "metadata": {},
   "outputs": [
    {
     "name": "stdout",
     "output_type": "stream",
     "text": [
      "IPython console for SymPy 1.4 (Python 3.7.4-64-bit) (ground types: python)\n",
      "\n",
      "These commands were executed:\n",
      ">>> from __future__ import division\n",
      ">>> from sympy import *\n",
      ">>> x, y, z, t = symbols('x y z t')\n",
      ">>> k, m, n = symbols('k m n', integer=True)\n",
      ">>> f, g, h = symbols('f g h', cls=Function)\n",
      ">>> init_printing()\n",
      "\n",
      "Documentation can be found at https://docs.sympy.org/1.4/\n",
      "\n"
     ]
    }
   ],
   "source": [
    "from sympy import *\n",
    "init_printing()\n",
    "init_session()\n",
    "T,ratio,Fsteam,Kp,x,P,F0 = symbols('T, ratio, Fsteam,Kp,x,P,F0')"
   ]
  },
  {
   "cell_type": "code",
   "execution_count": 6,
   "metadata": {},
   "outputs": [],
   "source": [
    "def KT(T):\n",
    "    return exp(A1 + B1/T + C1*log(T,10) + D1*T)*10**5"
   ]
  },
  {
   "cell_type": "code",
   "execution_count": 12,
   "metadata": {},
   "outputs": [
    {
     "name": "stdout",
     "output_type": "stream",
     "text": [
      "0.18285266951191*T**(4.354/log(10))*exp(-0.0033*T - 13122.47/T)\n"
     ]
    }
   ],
   "source": [
    "print(KT(T))"
   ]
  },
  {
   "cell_type": "code",
   "execution_count": 13,
   "metadata": {},
   "outputs": [
    {
     "data": {
      "image/png": "[encoded data removed]",
      "text/plain": [
       "<Figure size 432x288 with 1 Axes>"
      ]
     },
     "metadata": {
      "needs_background": "light"
     },
     "output_type": "display_data"
    },
    {
     "data": {
      "text/plain": [
       "<sympy.plotting.plot.Plot at 0x26e3db2bb88>"
      ]
     },
     "execution_count": 13,
     "metadata": {},
     "output_type": "execute_result"
    }
   ],
   "source": [
    "plot(KT(T),(T,600,1500))"
   ]
  },
  {
   "cell_type": "code",
   "execution_count": 14,
   "metadata": {},
   "outputs": [
    {
     "data": {
      "text/latex": [
       "$\\displaystyle \\left\\{\\frac{- Fsteam Kp + \\sqrt{Kp \\left(4 F_{0}^{2} Kp + 4 F_{0}^{2} P + 4 F_{0} Fsteam Kp + 4 F_{0} Fsteam P + Fsteam^{2} Kp\\right)}}{2 F_{0} \\left(Kp + P\\right)}, - \\frac{Fsteam Kp + \\sqrt{Kp \\left(4 F_{0}^{2} Kp + 4 F_{0}^{2} P + 4 F_{0} Fsteam Kp + 4 F_{0} Fsteam P + Fsteam^{2} Kp\\right)}}{2 F_{0} \\left(Kp + P\\right)}\\right\\} \\setminus \\left\\{1, - \\frac{F_{0} + Fsteam}{F_{0}}\\right\\}$"
      ],
      "text/plain": [
       "⎧                _____________________________________________________________\n",
       "⎪               ╱    ⎛    2          2                                        \n",
       "⎨-Fsteam⋅Kp + ╲╱  Kp⋅⎝4⋅F₀ ⋅Kp + 4⋅F₀ ⋅P + 4⋅F₀⋅Fsteam⋅Kp + 4⋅F₀⋅Fsteam⋅P + Fs\n",
       "⎪─────────────────────────────────────────────────────────────────────────────\n",
       "⎩                                     2⋅F₀⋅(Kp + P)                           \n",
       "\n",
       "__________   ⎛               _________________________________________________\n",
       "    2   ⎞    ⎜              ╱    ⎛    2          2                            \n",
       "team ⋅Kp⎠   -⎝Fsteam⋅Kp + ╲╱  Kp⋅⎝4⋅F₀ ⋅Kp + 4⋅F₀ ⋅P + 4⋅F₀⋅Fsteam⋅Kp + 4⋅F₀⋅F\n",
       "──────────, ──────────────────────────────────────────────────────────────────\n",
       "                                                  2⋅F₀⋅(Kp + P)               \n",
       "\n",
       "______________________⎞ ⎫                       \n",
       "                2   ⎞ ⎟ ⎪                       \n",
       "steam⋅P + Fsteam ⋅Kp⎠ ⎠ ⎬   ⎧   -(F₀ + Fsteam) ⎫\n",
       "────────────────────────⎪ \\ ⎨1, ───────────────⎬\n",
       "                        ⎭   ⎩          F₀      ⎭"
      ]
     },
     "execution_count": 14,
     "metadata": {},
     "output_type": "execute_result"
    }
   ],
   "source": [
    "simplify(solveset(Kp-(P*x**2)/((1-x)*(1+x+Fsteam/F0)),x))"
   ]
  },
  {
   "cell_type": "code",
   "execution_count": 16,
   "metadata": {},
   "outputs": [],
   "source": [
    "F0 = 152.2\n",
    "def Conv1(T):\n",
    "    return (sqrt(4*F0*(1.7 + KT(T))*KT(T)*F0))/(2*F0*(1.7+KT(T)))"
   ]
  },
  {
   "cell_type": "code",
   "execution_count": 18,
   "metadata": {},
   "outputs": [
    {
     "data": {
      "image/png": "[encoded data removed]",
      "text/plain": [
       "<Figure size 432x288 with 1 Axes>"
      ]
     },
     "metadata": {
      "needs_background": "light"
     },
     "output_type": "display_data"
    },
    {
     "data": {
      "text/plain": [
       "<sympy.plotting.plot.Plot at 0x26e3ddee748>"
      ]
     },
     "execution_count": 18,
     "metadata": {},
     "output_type": "execute_result"
    }
   ],
   "source": [
    "plot(Conv1(T),(T,500,2000))"
   ]
  },
  {
   "cell_type": "code",
   "execution_count": 19,
   "metadata": {},
   "outputs": [],
   "source": [
    "def Conversion(T):\n",
    "    return (-KT(T)*152.2*3.5+sqrt((KT(T)*152.2*3.5)**2+4*152.2*(1.7+KT(T))*KT(T)*(152.2+152.2*3.5)))/(2*152.2*(1.7+KT(T)))"
   ]
  },
  {
   "cell_type": "code",
   "execution_count": 20,
   "metadata": {},
   "outputs": [
    {
     "data": {
      "image/png": "[encoded data removed]",
      "text/plain": [
       "<Figure size 432x288 with 1 Axes>"
      ]
     },
     "metadata": {
      "needs_background": "light"
     },
     "output_type": "display_data"
    },
    {
     "data": {
      "text/plain": [
       "<sympy.plotting.plot.Plot at 0x26e3dd5ce48>"
      ]
     },
     "execution_count": 20,
     "metadata": {},
     "output_type": "execute_result"
    }
   ],
   "source": [
    "plot(Conversion(T),(T,500,2000))"
   ]
  },
  {
   "cell_type": "markdown",
   "metadata": {},
   "source": [
    "# A Few Special Cases"
   ]
  },
  {
   "cell_type": "code",
   "execution_count": 23,
   "metadata": {},
   "outputs": [],
   "source": [
    "L = [\"Good\",  \n",
    "    \"Bad\", \n",
    "         \n",
    "    \"Ugly\"] # Open pairs may span lines"
   ]
  },
  {
   "cell_type": "code",
   "execution_count": 32,
   "metadata": {},
   "outputs": [
    {
     "name": "stdout",
     "output_type": "stream",
     "text": [
      "olde\n"
     ]
    }
   ],
   "source": [
    "a = b = 1.03; c = d = e = 'str'; f = g = [a, b, c, d, e, f, g];\n",
    "if a == b and c == d and \\\n",
    "d == e and f == g:\n",
    "    print('olde') # Backslashes allow continuations..."
   ]
  },
  {
   "cell_type": "code",
   "execution_count": 35,
   "metadata": {},
   "outputs": [
    {
     "name": "stdout",
     "output_type": "stream",
     "text": [
      "sin(x)\n"
     ]
    }
   ],
   "source": [
    "f = e\n",
    "if (a == b and c == d and\n",
    "   d == e and e == f):\n",
    "    print(sin(x))"
   ]
  },
  {
   "cell_type": "code",
   "execution_count": 36,
   "metadata": {},
   "outputs": [],
   "source": [
    "x = 1 + 2 + 3\\\n",
    "+ 4"
   ]
  },
  {
   "cell_type": "code",
   "execution_count": 38,
   "metadata": {},
   "outputs": [
    {
     "name": "stdout",
     "output_type": "stream",
     "text": [
      "10\n"
     ]
    }
   ],
   "source": [
    "print(x)"
   ]
  },
  {
   "cell_type": "markdown",
   "metadata": {},
   "source": [
    "# Truth Tests"
   ]
  },
  {
   "cell_type": "markdown",
   "metadata": {},
   "source": [
    "# In Python:\n",
    "-------------------------------------------------------------------------------\n",
    "* Any nonzero number or nonempty object is true.\n",
    "* Zero numbers, empty object, and the special object None are considered false. \n",
    "* Comparisons and equality tests are applied recursively to data structures.\n",
    "* Boolean and and or operators return a true or false operand object.\n",
    "-------------------------------------------------------------------------------"
   ]
  },
  {
   "cell_type": "code",
   "execution_count": 3,
   "metadata": {},
   "outputs": [
    {
     "name": "stdout",
     "output_type": "stream",
     "text": [
      "Is true if both X and Y are True\n",
      "Is true if either X or Y is true\n",
      "Is true if X is false (the expression returns True or False)\n"
     ]
    }
   ],
   "source": [
    "if 1 and 2:\n",
    "    print(\"Is true if both X and Y are True\")\n",
    "if 1 or 0:\n",
    "    print(\"Is true if either X or Y is true\")\n",
    "if not None:\n",
    "    print(\"Is true if X is false (the expression returns True or False)\")"
   ]
  },
  {
   "cell_type": "code",
   "execution_count": 5,
   "metadata": {},
   "outputs": [
    {
     "data": {
      "text/plain": [
       "(True, False)"
      ]
     },
     "execution_count": 5,
     "metadata": {},
     "output_type": "execute_result"
    }
   ],
   "source": [
    "2 < 3, 3 < 2 # Less-than: return True or False (1 or 0)"
   ]
  },
  {
   "cell_type": "code",
   "execution_count": 8,
   "metadata": {},
   "outputs": [
    {
     "name": "stdout",
     "output_type": "stream",
     "text": [
      "3 2 [] []\n"
     ]
    }
   ],
   "source": [
    "print(2 and 3, 3 and 2,\\\n",
    "      # Return left operand if false\n",
    "[] and {},\\\n",
    "3 and [])"
   ]
  },
  {
   "cell_type": "code",
   "execution_count": 1,
   "metadata": {},
   "outputs": [
    {
     "name": "stdout",
     "output_type": "stream",
     "text": [
      "IPython console for SymPy 1.4 (Python 3.7.4-64-bit) (ground types: python)\n",
      "\n",
      "These commands were executed:\n",
      ">>> from __future__ import division\n",
      ">>> from sympy import *\n",
      ">>> x, y, z, t = symbols('x y z t')\n",
      ">>> k, m, n = symbols('k m n', integer=True)\n",
      ">>> f, g, h = symbols('f g h', cls=Function)\n",
      ">>> init_printing()\n",
      "\n",
      "Documentation can be found at https://docs.sympy.org/1.4/\n",
      "\n"
     ]
    }
   ],
   "source": [
    "from sympy import *\n",
    "init_session()"
   ]
  },
  {
   "cell_type": "code",
   "execution_count": 2,
   "metadata": {},
   "outputs": [],
   "source": [
    "a11,a12,a13,a21,a22,a23,a31,a32,a33=symbols(\"a11,a12,a13,a21,a22,a23,a31,a32,a33\")\n",
    "b11,b12,b13,b21,b22,b23,b31,b32,b33=symbols(\"b11,b12,b13,b21,b22,b23,b31,b32,b33\")"
   ]
  },
  {
   "cell_type": "code",
   "execution_count": 3,
   "metadata": {},
   "outputs": [
    {
     "name": "stdout",
     "output_type": "stream",
     "text": [
      "Help on function matrix_multiply_elementwise in module sympy.matrices.dense:\n",
      "\n",
      "matrix_multiply_elementwise(A, B)\n",
      "    Return the Hadamard product (elementwise product) of A and B\n",
      "    \n",
      "    >>> from sympy.matrices import matrix_multiply_elementwise\n",
      "    >>> from sympy.matrices import Matrix\n",
      "    >>> A = Matrix([[0, 1, 2], [3, 4, 5]])\n",
      "    >>> B = Matrix([[1, 10, 100], [100, 10, 1]])\n",
      "    >>> matrix_multiply_elementwise(A, B)\n",
      "    Matrix([\n",
      "    [  0, 10, 200],\n",
      "    [300, 40,   5]])\n",
      "    \n",
      "    See Also\n",
      "    ========\n",
      "    \n",
      "    __mul__\n",
      "\n"
     ]
    }
   ],
   "source": [
    "help(matrix_multiply_elementwise)"
   ]
  },
  {
   "cell_type": "code",
   "execution_count": 4,
   "metadata": {},
   "outputs": [],
   "source": [
    "A = Matrix([[a11, a12, a13], [a21, a22, a23],[a31,a32,a33]])\n",
    "B = Matrix([[b11, b12, b13],[b21, b22, b23],[b31,b32,b33]])"
   ]
  },
  {
   "cell_type": "code",
   "execution_count": 5,
   "metadata": {},
   "outputs": [
    {
     "data": {
      "text/latex": [
       "$\\displaystyle \\left[\\begin{matrix}a_{11} b_{11} & a_{12} b_{12} & a_{13} b_{13}\\\\a_{21} b_{21} & a_{22} b_{22} & a_{23} b_{23}\\\\a_{31} b_{31} & a_{32} b_{32} & a_{33} b_{33}\\end{matrix}\\right]$"
      ],
      "text/plain": [
       "⎡a₁₁⋅b₁₁  a₁₂⋅b₁₂  a₁₃⋅b₁₃⎤\n",
       "⎢                         ⎥\n",
       "⎢a₂₁⋅b₂₁  a₂₂⋅b₂₂  a₂₃⋅b₂₃⎥\n",
       "⎢                         ⎥\n",
       "⎣a₃₁⋅b₃₁  a₃₂⋅b₃₂  a₃₃⋅b₃₃⎦"
      ]
     },
     "execution_count": 5,
     "metadata": {},
     "output_type": "execute_result"
    }
   ],
   "source": [
    "matrix_multiply_elementwise(A,B)"
   ]
  },
  {
   "cell_type": "code",
   "execution_count": 6,
   "metadata": {},
   "outputs": [
    {
     "data": {
      "text/latex": [
       "$\\displaystyle \\left( \\left[\\begin{matrix}a_{11} & a_{12} & a_{13}\\\\a_{21} & a_{22} & a_{23}\\\\a_{31} & a_{32} & a_{33}\\end{matrix}\\right], \\  \\left[\\begin{matrix}b_{11} & b_{12} & b_{13}\\\\b_{21} & b_{22} & b_{23}\\\\b_{31} & b_{32} & b_{33}\\end{matrix}\\right], \\  \\left[\\begin{matrix}a_{11} b_{11} + a_{12} b_{21} + a_{13} b_{31} & a_{11} b_{12} + a_{12} b_{22} + a_{13} b_{32} & a_{11} b_{13} + a_{12} b_{23} + a_{13} b_{33}\\\\a_{21} b_{11} + a_{22} b_{21} + a_{23} b_{31} & a_{21} b_{12} + a_{22} b_{22} + a_{23} b_{32} & a_{21} b_{13} + a_{22} b_{23} + a_{23} b_{33}\\\\a_{31} b_{11} + a_{32} b_{21} + a_{33} b_{31} & a_{31} b_{12} + a_{32} b_{22} + a_{33} b_{32} & a_{31} b_{13} + a_{32} b_{23} + a_{33} b_{33}\\end{matrix}\\right]\\right)$"
      ],
      "text/plain": [
       "⎛⎡a₁₁  a₁₂  a₁₃⎤  ⎡b₁₁  b₁₂  b₁₃⎤  ⎡a₁₁⋅b₁₁ + a₁₂⋅b₂₁ + a₁₃⋅b₃₁  a₁₁⋅b₁₂ + a₁₂\n",
       "⎜⎢             ⎥  ⎢             ⎥  ⎢                                          \n",
       "⎜⎢a₂₁  a₂₂  a₂₃⎥, ⎢b₂₁  b₂₂  b₂₃⎥, ⎢a₂₁⋅b₁₁ + a₂₂⋅b₂₁ + a₂₃⋅b₃₁  a₂₁⋅b₁₂ + a₂₂\n",
       "⎜⎢             ⎥  ⎢             ⎥  ⎢                                          \n",
       "⎝⎣a₃₁  a₃₂  a₃₃⎦  ⎣b₃₁  b₃₂  b₃₃⎦  ⎣a₃₁⋅b₁₁ + a₃₂⋅b₂₁ + a₃₃⋅b₃₁  a₃₁⋅b₁₂ + a₃₂\n",
       "\n",
       "⋅b₂₂ + a₁₃⋅b₃₂  a₁₁⋅b₁₃ + a₁₂⋅b₂₃ + a₁₃⋅b₃₃⎤⎞\n",
       "                                           ⎥⎟\n",
       "⋅b₂₂ + a₂₃⋅b₃₂  a₂₁⋅b₁₃ + a₂₂⋅b₂₃ + a₂₃⋅b₃₃⎥⎟\n",
       "                                           ⎥⎟\n",
       "⋅b₂₂ + a₃₃⋅b₃₂  a₃₁⋅b₁₃ + a₃₂⋅b₂₃ + a₃₃⋅b₃₃⎦⎠"
      ]
     },
     "execution_count": 6,
     "metadata": {},
     "output_type": "execute_result"
    }
   ],
   "source": [
    "A, B, A * B"
   ]
  },
  {
   "cell_type": "code",
   "execution_count": 7,
   "metadata": {},
   "outputs": [],
   "source": [
    "Vx,Vy,Vz = symbols(\"Vx,Vy,Vz\")\n",
    "Wx,Wy,Wz = symbols(\"Wx,Wy,Wz\")"
   ]
  },
  {
   "cell_type": "code",
   "execution_count": 13,
   "metadata": {},
   "outputs": [],
   "source": [
    "V = Matrix([[Vx],[Vy],[Vz]])\n",
    "W = Matrix([[Wx],[Wy],[Wz]])"
   ]
  },
  {
   "cell_type": "code",
   "execution_count": 23,
   "metadata": {},
   "outputs": [
    {
     "data": {
      "text/plain": [
       "True"
      ]
     },
     "execution_count": 23,
     "metadata": {},
     "output_type": "execute_result"
    }
   ],
   "source": [
    "matrix_multiply_elementwise(V,W) == matrix_multiply_elementwise(W,V)"
   ]
  },
  {
   "cell_type": "code",
   "execution_count": 19,
   "metadata": {},
   "outputs": [],
   "source": [
    "from sympy.vector import CoordSys3D\n",
    "a = CoordSys3D('a')\n",
    "b = a.create_new('b', transformation='spherical')"
   ]
  },
  {
   "cell_type": "code",
   "execution_count": 18,
   "metadata": {},
   "outputs": [
    {
     "data": {
      "image/png": "[encoded data removed]",
      "text/latex": [
       "$\\displaystyle \\left( \\sqrt{\\mathbf{{x}_{a}}^{2} + \\mathbf{{y}_{a}}^{2} + \\mathbf{{z}_{a}}^{2}}, \\  \\operatorname{acos}{\\left(\\frac{\\mathbf{{z}_{a}}}{\\sqrt{\\mathbf{{x}_{a}}^{2} + \\mathbf{{y}_{a}}^{2} + \\mathbf{{z}_{a}}^{2}}} \\right)}, \\  \\operatorname{atan_{2}}{\\left(\\mathbf{{y}_{a}},\\mathbf{{x}_{a}} \\right)}\\right)$"
      ],
      "text/plain": [
       "⎛   ____________________                                                ⎞\n",
       "⎜  ╱    2      2      2       ⎛          a_z          ⎞                 ⎟\n",
       "⎜╲╱  a_x  + a_y  + a_z  , acos⎜───────────────────────⎟, atan2(a_y, a_x)⎟\n",
       "⎜                             ⎜   ____________________⎟                 ⎟\n",
       "⎜                             ⎜  ╱    2      2      2 ⎟                 ⎟\n",
       "⎝                             ⎝╲╱  a_x  + a_y  + a_z  ⎠                 ⎠"
      ]
     },
     "execution_count": 18,
     "metadata": {},
     "output_type": "execute_result"
    }
   ],
   "source": [
    "b.transformation_from_parent()"
   ]
  },
  {
   "cell_type": "code",
   "execution_count": 22,
   "metadata": {},
   "outputs": [
    {
     "data": {
      "image/png": "[encoded data removed]",
      "text/latex": [
       "$\\displaystyle \\left( \\mathbf{{r}_{b}} \\sin{\\left(\\mathbf{{theta}_{b}} \\right)} \\cos{\\left(\\mathbf{{phi}_{b}} \\right)}, \\  \\mathbf{{r}_{b}} \\sin{\\left(\\mathbf{{phi}_{b}} \\right)} \\sin{\\left(\\mathbf{{theta}_{b}} \\right)}, \\  \\mathbf{{r}_{b}} \\cos{\\left(\\mathbf{{theta}_{b}} \\right)}\\right)$"
      ],
      "text/plain": [
       "(b_r⋅sin(b_theta)⋅cos(b_phi), b_r⋅sin(b_phi)⋅sin(b_theta), b_r⋅cos(b_theta))"
      ]
     },
     "execution_count": 22,
     "metadata": {},
     "output_type": "execute_result"
    }
   ],
   "source": [
    "b.transformation_to_parent()"
   ]
  },
  {
   "cell_type": "code",
   "execution_count": 2,
   "metadata": {},
   "outputs": [],
   "source": [
    "from sympy import *\n",
    "from sympy.vector import CoordSys3D\n",
    "C = CoordSys3D('C')\n",
    "Vx,Vy,Vz = symbols(\"Vx,Vy,Vz\")\n",
    "Wx,Wy,Wz = symbols(\"Wx,Wy,Wz\")"
   ]
  },
  {
   "cell_type": "code",
   "execution_count": 3,
   "metadata": {},
   "outputs": [],
   "source": [
    "V = Vx*C.i + Vy*C.j + Vz*C.k\n",
    "W = Wx*C.i + Wy*C.j + Wz*C.k"
   ]
  },
  {
   "cell_type": "code",
   "execution_count": 36,
   "metadata": {},
   "outputs": [
    {
     "name": "stdout",
     "output_type": "stream",
     "text": [
      "(Vy*Wz - Vz*Wy)*C.i + (-Vx*Wz + Vz*Wx)*C.j + (Vx*Wy - Vy*Wx)*C.k\n",
      "(-Vy*Wz + Vz*Wy)*C.i + (Vx*Wz - Vz*Wx)*C.j + (-Vx*Wy + Vy*Wx)*C.k\n"
     ]
    }
   ],
   "source": [
    "init_printing()\n",
    "print(V.cross(W))\n",
    "print(W.cross(V))"
   ]
  },
  {
   "cell_type": "code",
   "execution_count": 37,
   "metadata": {},
   "outputs": [
    {
     "data": {
      "image/png": "[encoded data removed]",
      "text/latex": [
       "$\\displaystyle \\left\\{ \\mathbf{\\hat{i}_{C}} : Vy Wz - Vz Wy, \\  \\mathbf{\\hat{j}_{C}} : - Vx Wz + Vz Wx, \\  \\mathbf{\\hat{k}_{C}} : Vx Wy - Vy Wx\\right\\}$"
      ],
      "text/plain": [
       "{C_i: Vy⋅Wz - Vz⋅Wy, C_j: -Vx⋅Wz + Vz⋅Wx, C_k: Vx⋅Wy - Vy⋅Wx}"
      ]
     },
     "execution_count": 37,
     "metadata": {},
     "output_type": "execute_result"
    }
   ],
   "source": [
    "(V.cross(W)).components"
   ]
  },
  {
   "cell_type": "code",
   "execution_count": 41,
   "metadata": {},
   "outputs": [
    {
     "data": {
      "text/plain": [
       "True"
      ]
     },
     "execution_count": 41,
     "metadata": {},
     "output_type": "execute_result"
    }
   ],
   "source": [
    "V.dot(W) == W.dot(V)"
   ]
  },
  {
   "cell_type": "code",
   "execution_count": 9,
   "metadata": {},
   "outputs": [],
   "source": [
    "Txx,Txy,Txz = symbols(\"Txx Txy Txz\")\n",
    "Tyx,Tyy,Tyz = symbols(\"Tyx Tyy Tyz\")\n",
    "Tzx,Tzy,Tzz = symbols(\"Tzx Tzy Tzz\")\n",
    "T = Matrix([[Txx,Txy,Txz],[Tyx,Tyy,Tyz],[Tzx,Tzy,Tzz]])"
   ]
  },
  {
   "cell_type": "code",
   "execution_count": 57,
   "metadata": {},
   "outputs": [
    {
     "data": {
      "text/latex": [
       "$\\displaystyle \\left[\\begin{matrix}Vx\\\\Vy\\\\Vz\\end{matrix}\\right]$"
      ],
      "text/plain": [
       "⎡Vx⎤\n",
       "⎢  ⎥\n",
       "⎢Vy⎥\n",
       "⎢  ⎥\n",
       "⎣Vz⎦"
      ]
     },
     "execution_count": 57,
     "metadata": {},
     "output_type": "execute_result"
    }
   ],
   "source": [
    "V.to_matrix(C)"
   ]
  },
  {
   "cell_type": "code",
   "execution_count": 64,
   "metadata": {},
   "outputs": [
    {
     "name": "stdout",
     "output_type": "stream",
     "text": [
      "Help on function mathematica_code in module sympy.printing.mathematica:\n",
      "\n",
      "mathematica_code(expr, **settings)\n",
      "    Converts an expr to a string of the Wolfram Mathematica code\n",
      "    \n",
      "    Examples\n",
      "    ========\n",
      "    \n",
      "    >>> from sympy import mathematica_code as mcode, symbols, sin\n",
      "    >>> x = symbols('x')\n",
      "    >>> mcode(sin(x).series(x).removeO())\n",
      "    '(1/120)*x^5 - 1/6*x^3 + x'\n",
      "\n"
     ]
    }
   ],
   "source": [
    "help(mathematica_code)"
   ]
  },
  {
   "cell_type": "code",
   "execution_count": 10,
   "metadata": {},
   "outputs": [
    {
     "data": {
      "text/plain": [
       "sympy.matrices.dense.MutableDenseMatrix"
      ]
     },
     "execution_count": 10,
     "metadata": {},
     "output_type": "execute_result"
    }
   ],
   "source": [
    "type(T)"
   ]
  },
  {
   "cell_type": "code",
   "execution_count": 12,
   "metadata": {},
   "outputs": [],
   "source": [
    "from sympy import init_printing, Matrix\n",
    "init_printing(use_unicode=True)"
   ]
  },
  {
   "cell_type": "code",
   "execution_count": 13,
   "metadata": {},
   "outputs": [
    {
     "data": {
      "text/latex": [
       "$\\displaystyle \\left[\\begin{matrix}Txx & Txy & Txz\\\\Tyx & Tyy & Tyz\\\\Tzx & Tzy & Tzz\\end{matrix}\\right]$"
      ],
      "text/plain": [
       "⎡Txx  Txy  Txz⎤\n",
       "⎢             ⎥\n",
       "⎢Tyx  Tyy  Tyz⎥\n",
       "⎢             ⎥\n",
       "⎣Tzx  Tzy  Tzz⎦"
      ]
     },
     "execution_count": 13,
     "metadata": {},
     "output_type": "execute_result"
    }
   ],
   "source": [
    "T"
   ]
  },
  {
   "cell_type": "code",
   "execution_count": 14,
   "metadata": {},
   "outputs": [
    {
     "name": "stdout",
     "output_type": "stream",
     "text": [
      "Help on method cross in module sympy.matrices.matrices:\n",
      "\n",
      "cross(b) method of sympy.matrices.dense.MutableDenseMatrix instance\n",
      "    Return the cross product of ``self`` and ``b`` relaxing the condition\n",
      "    of compatible dimensions: if each has 3 elements, a matrix of the\n",
      "    same type and shape as ``self`` will be returned. If ``b`` has the same\n",
      "    shape as ``self`` then common identities for the cross product (like\n",
      "    `a \\times b = - b \\times a`) will hold.\n",
      "    \n",
      "    Parameters\n",
      "    ==========\n",
      "        b : 3x1 or 1x3 Matrix\n",
      "    \n",
      "    See Also\n",
      "    ========\n",
      "    \n",
      "    dot\n",
      "    multiply\n",
      "    multiply_elementwise\n",
      "\n"
     ]
    }
   ],
   "source": [
    "help(T.cross)"
   ]
  },
  {
   "cell_type": "code",
   "execution_count": 54,
   "metadata": {},
   "outputs": [],
   "source": [
    "V = Matrix([[Vx], [Vy], [Vz]])"
   ]
  },
  {
   "cell_type": "code",
   "execution_count": 25,
   "metadata": {},
   "outputs": [
    {
     "data": {
      "text/latex": [
       "$\\displaystyle \\left[\\begin{matrix}Txx Vx + Txy Vy + Txz Vz\\\\Tyx Vx + Tyy Vy + Tyz Vz\\\\Tzx Vx + Tzy Vy + Tzz Vz\\end{matrix}\\right]$"
      ],
      "text/plain": [
       "⎡Txx⋅Vx + Txy⋅Vy + Txz⋅Vz⎤\n",
       "⎢                        ⎥\n",
       "⎢Tyx⋅Vx + Tyy⋅Vy + Tyz⋅Vz⎥\n",
       "⎢                        ⎥\n",
       "⎣Tzx⋅Vx + Tzy⋅Vy + Tzz⋅Vz⎦"
      ]
     },
     "execution_count": 25,
     "metadata": {},
     "output_type": "execute_result"
    }
   ],
   "source": [
    "T*V"
   ]
  },
  {
   "cell_type": "code",
   "execution_count": 62,
   "metadata": {},
   "outputs": [
    {
     "data": {
      "text/latex": [
       "$\\displaystyle \\left[\\begin{matrix}Txx Vx + Tyx Vy + Tzx Vz\\\\Txy Vx + Tyy Vy + Tzy Vz\\\\Txz Vx + Tyz Vy + Tzz Vz\\end{matrix}\\right]$"
      ],
      "text/plain": [
       "⎡Txx⋅Vx + Tyx⋅Vy + Tzx⋅Vz⎤\n",
       "⎢                        ⎥\n",
       "⎢Txy⋅Vx + Tyy⋅Vy + Tzy⋅Vz⎥\n",
       "⎢                        ⎥\n",
       "⎣Txz⋅Vx + Tyz⋅Vy + Tzz⋅Vz⎦"
      ]
     },
     "execution_count": 62,
     "metadata": {},
     "output_type": "execute_result"
    }
   ],
   "source": [
    "Matrix([(T.col(0)).dot(V), (T.col(1)).dot(V), (T.col(2)).dot(V)])"
   ]
  },
  {
   "cell_type": "code",
   "execution_count": 67,
   "metadata": {},
   "outputs": [
    {
     "name": "stdout",
     "output_type": "stream",
     "text": [
      "IPython console for SymPy 1.4 (Python 3.7.4-64-bit) (ground types: python)\n",
      "\n",
      "These commands were executed:\n",
      ">>> from __future__ import division\n",
      ">>> from sympy import *\n",
      ">>> x, y, z, t = symbols('x y z t')\n",
      ">>> k, m, n = symbols('k m n', integer=True)\n",
      ">>> f, g, h = symbols('f g h', cls=Function)\n",
      ">>> init_printing()\n",
      "\n",
      "Documentation can be found at https://docs.sympy.org/1.4/\n",
      "\n",
      "(2*C.x*C.y - C.y)*C.i + (C.x**2 - C.x)*C.j\n"
     ]
    }
   ],
   "source": [
    "## 1 gradient\n",
    "from sympy import *\n",
    "from sympy.vector import Del, gradient\n",
    "init_session()\n",
    "C = CoordSys3D('C')\n",
    "delop = Del() # nabla算子\n",
    "\n",
    "# 标量场 f = x**2*y-xy\n",
    "f = C.x**2*C.y - C.x*C.y\n",
    "\n",
    "res = delop.gradient(f, doit=True) # 使用nabla算子\n",
    "# res = delop(f).doit()\n",
    "res = gradient(f) # 直接使用gradient\n",
    "\n",
    "print(res) # (2*C.x*C.y - C.y)*C.i + (C.x**2 - C.x)*C.j"
   ]
  },
  {
   "cell_type": "code",
   "execution_count": 69,
   "metadata": {},
   "outputs": [
    {
     "name": "stdout",
     "output_type": "stream",
     "text": [
      "x**2*y - x*y\n"
     ]
    }
   ],
   "source": [
    "init_printing(use_unicode=True)\n",
    "print(x**2*y-x*y)"
   ]
  },
  {
   "cell_type": "code",
   "execution_count": 70,
   "metadata": {},
   "outputs": [
    {
     "data": {
      "text/plain": [
       "'x^2*y - x*y'"
      ]
     },
     "execution_count": 70,
     "metadata": {},
     "output_type": "execute_result"
    }
   ],
   "source": [
    "from sympy import mathematica_code as mcode\n",
    "mcode(x**2*y-x*y)"
   ]
  },
  {
   "cell_type": "code",
   "execution_count": 5,
   "metadata": {},
   "outputs": [
    {
     "data": {
      "text/latex": [
       "$\\displaystyle Vx Wx + Vy Wy + Vz Wz$"
      ],
      "text/plain": [
       "Vx*Wx + Vy*Wy + Vz*Wz"
      ]
     },
     "execution_count": 5,
     "metadata": {},
     "output_type": "execute_result"
    }
   ],
   "source": [
    "V.dot(W)"
   ]
  },
  {
   "cell_type": "code",
   "execution_count": 9,
   "metadata": {},
   "outputs": [],
   "source": [
    "A  = 't' if 'spam' else 'f' # Nonempty is None"
   ]
  },
  {
   "cell_type": "code",
   "execution_count": 10,
   "metadata": {},
   "outputs": [
    {
     "data": {
      "text/plain": [
       "'t'"
      ]
     },
     "execution_count": 10,
     "metadata": {},
     "output_type": "execute_result"
    }
   ],
   "source": [
    "A"
   ]
  },
  {
   "cell_type": "code",
   "execution_count": 11,
   "metadata": {},
   "outputs": [],
   "source": [
    "A = 't' if '' else 'f'"
   ]
  },
  {
   "cell_type": "code",
   "execution_count": 12,
   "metadata": {},
   "outputs": [
    {
     "data": {
      "text/plain": [
       "'f'"
      ]
     },
     "execution_count": 12,
     "metadata": {},
     "output_type": "execute_result"
    }
   ],
   "source": [
    "A"
   ]
  },
  {
   "cell_type": "code",
   "execution_count": 13,
   "metadata": {},
   "outputs": [
    {
     "data": {
      "text/plain": [
       "'f'"
      ]
     },
     "execution_count": 13,
     "metadata": {},
     "output_type": "execute_result"
    }
   ],
   "source": [
    "['f','t'][bool('')]"
   ]
  },
  {
   "cell_type": "code",
   "execution_count": 14,
   "metadata": {},
   "outputs": [
    {
     "data": {
      "text/plain": [
       "'t'"
      ]
     },
     "execution_count": 14,
     "metadata": {},
     "output_type": "execute_result"
    }
   ],
   "source": [
    "['f','t'][bool('spam')]"
   ]
  },
  {
   "cell_type": "markdown",
   "metadata": {},
   "source": [
    "# Chapter Summary"
   ]
  },
  {
   "cell_type": "markdown",
   "metadata": {},
   "source": [
    "In this chapter, we studied the Python if statement. Additionally, because this was our\n",
    "first compound and logical statement, we reviewed Python’s general syntax rules and\n",
    "explored the operation of truth tests in more depth than we were able to previously.\n",
    "Along the way, we also looked at how to code multiway branching in Python and\n",
    "learned about the if/else expression introduced in Python 2.5.\n",
    "The next chapter continues our look at procedural statements by expanding on the\n",
    "while and for loops. There, we’ll learn about alternative ways to code loops in Python,\n",
    "some of which may be better than others. Before that, though, here is the usual chapter\n",
    "quiz."
   ]
  },
  {
   "cell_type": "code",
   "execution_count": null,
   "metadata": {},
   "outputs": [],
   "source": []
  }
 ],
 "metadata": {
  "kernelspec": {
   "display_name": "Python 3",
   "language": "python",
   "name": "python3"
  },
  "language_info": {
   "codemirror_mode": {
    "name": "ipython",
    "version": 3
   },
   "file_extension": ".py",
   "mimetype": "text/x-python",
   "name": "python",
   "nbconvert_exporter": "python",
   "pygments_lexer": "ipython3",
   "version": "3.7.4"
  }
 },
 "nbformat": 4,
 "nbformat_minor": 4
}
