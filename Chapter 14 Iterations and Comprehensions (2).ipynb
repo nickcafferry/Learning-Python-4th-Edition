{
 "cells": [
  {
   "cell_type": "markdown",
   "metadata": {},
   "source": [
    "## 其他的迭代环境"
   ]
  },
  {
   "cell_type": "markdown",
   "metadata": {},
   "source": [
    "### 1. for 循环使用了迭代协议；\n",
    "### 2. 任何从左到右扫描对象的工具都使用迭代协议；"
   ]
  },
  {
   "cell_type": "code",
   "execution_count": 5,
   "metadata": {},
   "outputs": [
    {
     "name": "stdout",
     "output_type": "stream",
     "text": [
      "# -*- CODING: UTF-8 -*-\n",
      "\"\"\"\n",
      "CREATED ON TUE FEB 18 22:04:07 2020\n",
      "\n",
      "@AUTHOR: NICKC\n",
      "\"\"\"\n",
      "\n",
      "#KOCHEDRAW1\n",
      "IMPORT TURTLE\n",
      "DEF KOCH(SIZE,N):\n",
      "  IF N==1:\n",
      "    TURTLE.FD(SIZE)\n",
      "  ELSE:\n",
      "    FOR I IN [0,60,-120,60]:\n",
      "      TURTLE.LEFT(I)\n",
      "      KOCH(SIZE/3,N-1)\n",
      "DEF MAIN():\n",
      "  TURTLE.SETUP(600,600)\n",
      "  TURTLE.PENUP()\n",
      "  TURTLE.SPEED(10)\n",
      "  TURTLE.HIDETURTLE()\n",
      "  TURTLE.PENSIZE(2)\n",
      "  TURTLE.GOTO(-200,100)\n",
      "  TURTLE.PENDOWN()\n",
      "  LEVEL=4\n",
      "  KOCH(400,LEVEL)\n",
      "  TURTLE.RIGHT(120)\n",
      "  KOCH(400, LEVEL)\n",
      "  TURTLE.RIGHT(120)\n",
      "  KOCH(400, LEVEL)\n",
      "  TURTLE.PENUP()\n",
      "  TURTLE.DONE()\n",
      "MAIN()"
     ]
    }
   ],
   "source": [
    "for line in open('untitled3.py'):\n",
    "    print(line.upper(), end = '')"
   ]
  },
  {
   "cell_type": "markdown",
   "metadata": {},
   "source": [
    "### 列表解析，in的子集测试，内置函数map, sorted, zip 都会使用迭代协议"
   ]
  },
  {
   "cell_type": "code",
   "execution_count": 9,
   "metadata": {},
   "outputs": [],
   "source": [
    "uppers = [line.upper() for line in open('untitled3.py')] #列表解析"
   ]
  },
  {
   "cell_type": "code",
   "execution_count": 18,
   "metadata": {},
   "outputs": [
    {
     "data": {
      "text/plain": [
       "['# -*- CODING: UTF-8 -*-\\n',\n",
       " '\"\"\"\\n',\n",
       " 'CREATED ON TUE FEB 18 22:04:07 2020\\n',\n",
       " '\\n',\n",
       " '@AUTHOR: NICKC\\n',\n",
       " '\"\"\"\\n',\n",
       " '\\n',\n",
       " '#KOCHEDRAW1\\n',\n",
       " 'IMPORT TURTLE\\n',\n",
       " 'DEF KOCH(SIZE,N):\\n',\n",
       " '  IF N==1:\\n',\n",
       " '    TURTLE.FD(SIZE)\\n',\n",
       " '  ELSE:\\n',\n",
       " '    FOR I IN [0,60,-120,60]:\\n',\n",
       " '      TURTLE.LEFT(I)\\n',\n",
       " '      KOCH(SIZE/3,N-1)\\n',\n",
       " 'DEF MAIN():\\n',\n",
       " '  TURTLE.SETUP(600,600)\\n',\n",
       " '  TURTLE.PENUP()\\n',\n",
       " '  TURTLE.SPEED(10)\\n',\n",
       " '  TURTLE.HIDETURTLE()\\n',\n",
       " '  TURTLE.PENSIZE(2)\\n',\n",
       " '  TURTLE.GOTO(-200,100)\\n',\n",
       " '  TURTLE.PENDOWN()\\n',\n",
       " '  LEVEL=4\\n',\n",
       " '  KOCH(400,LEVEL)\\n',\n",
       " '  TURTLE.RIGHT(120)\\n',\n",
       " '  KOCH(400, LEVEL)\\n',\n",
       " '  TURTLE.RIGHT(120)\\n',\n",
       " '  KOCH(400, LEVEL)\\n',\n",
       " '  TURTLE.PENUP()\\n',\n",
       " '  TURTLE.DONE()\\n',\n",
       " 'MAIN()']"
      ]
     },
     "execution_count": 18,
     "metadata": {},
     "output_type": "execute_result"
    }
   ],
   "source": [
    "uppers"
   ]
  },
  {
   "cell_type": "code",
   "execution_count": 16,
   "metadata": {},
   "outputs": [
    {
     "data": {
      "text/plain": [
       "True"
      ]
     },
     "execution_count": 16,
     "metadata": {},
     "output_type": "execute_result"
    }
   ],
   "source": [
    "'@AUTHOR: NICKC\\n' in open('untitled3.py').read().upper() # in的子集测试"
   ]
  },
  {
   "cell_type": "code",
   "execution_count": 11,
   "metadata": {},
   "outputs": [
    {
     "data": {
      "text/plain": [
       "<map at 0x17ac5bdd608>"
      ]
     },
     "execution_count": 11,
     "metadata": {},
     "output_type": "execute_result"
    }
   ],
   "source": [
    "map(str.upper, open('untitled3.py')) # map内置函数"
   ]
  },
  {
   "cell_type": "code",
   "execution_count": 12,
   "metadata": {},
   "outputs": [
    {
     "data": {
      "text/plain": [
       "['# -*- CODING: UTF-8 -*-\\n',\n",
       " '\"\"\"\\n',\n",
       " 'CREATED ON TUE FEB 18 22:04:07 2020\\n',\n",
       " '\\n',\n",
       " '@AUTHOR: NICKC\\n',\n",
       " '\"\"\"\\n',\n",
       " '\\n',\n",
       " '#KOCHEDRAW1\\n',\n",
       " 'IMPORT TURTLE\\n',\n",
       " 'DEF KOCH(SIZE,N):\\n',\n",
       " '  IF N==1:\\n',\n",
       " '    TURTLE.FD(SIZE)\\n',\n",
       " '  ELSE:\\n',\n",
       " '    FOR I IN [0,60,-120,60]:\\n',\n",
       " '      TURTLE.LEFT(I)\\n',\n",
       " '      KOCH(SIZE/3,N-1)\\n',\n",
       " 'DEF MAIN():\\n',\n",
       " '  TURTLE.SETUP(600,600)\\n',\n",
       " '  TURTLE.PENUP()\\n',\n",
       " '  TURTLE.SPEED(10)\\n',\n",
       " '  TURTLE.HIDETURTLE()\\n',\n",
       " '  TURTLE.PENSIZE(2)\\n',\n",
       " '  TURTLE.GOTO(-200,100)\\n',\n",
       " '  TURTLE.PENDOWN()\\n',\n",
       " '  LEVEL=4\\n',\n",
       " '  KOCH(400,LEVEL)\\n',\n",
       " '  TURTLE.RIGHT(120)\\n',\n",
       " '  KOCH(400, LEVEL)\\n',\n",
       " '  TURTLE.RIGHT(120)\\n',\n",
       " '  KOCH(400, LEVEL)\\n',\n",
       " '  TURTLE.PENUP()\\n',\n",
       " '  TURTLE.DONE()\\n',\n",
       " 'MAIN()']"
      ]
     },
     "execution_count": 12,
     "metadata": {},
     "output_type": "execute_result"
    }
   ],
   "source": [
    "list(map(str.upper, open('untitled3.py')))"
   ]
  },
  {
   "cell_type": "code",
   "execution_count": 38,
   "metadata": {},
   "outputs": [
    {
     "data": {
      "text/plain": [
       "<enumerate at 0x17ac5d4f688>"
      ]
     },
     "execution_count": 38,
     "metadata": {},
     "output_type": "execute_result"
    }
   ],
   "source": [
    "f = open('untitled3.py')\n",
    "enumerate(map(f.readline, open('untitled3.py'))) # map的function选项取决于后面作用对象的类型"
   ]
  },
  {
   "cell_type": "code",
   "execution_count": 44,
   "metadata": {},
   "outputs": [
    {
     "data": {
      "text/plain": [
       "'# -*- coding: utf-8 -*-\\n'"
      ]
     },
     "execution_count": 44,
     "metadata": {},
     "output_type": "execute_result"
    }
   ],
   "source": [
    "open('untitled3.py').readline()"
   ]
  },
  {
   "cell_type": "code",
   "execution_count": 42,
   "metadata": {},
   "outputs": [
    {
     "data": {
      "text/plain": [
       "['# -*- coding: utf-8 -*-\\n',\n",
       " '\"\"\"\\n',\n",
       " 'Created on Tue Feb 18 22:04:07 2020\\n',\n",
       " '\\n',\n",
       " '@author: NickC\\n',\n",
       " '\"\"\"\\n',\n",
       " '\\n',\n",
       " '#KocheDraw1\\n',\n",
       " 'import turtle\\n',\n",
       " 'def koch(size,n):\\n',\n",
       " '  if n==1:\\n',\n",
       " '    turtle.fd(size)\\n',\n",
       " '  else:\\n',\n",
       " '    for i in [0,60,-120,60]:\\n',\n",
       " '      turtle.left(i)\\n',\n",
       " '      koch(size/3,n-1)\\n',\n",
       " 'def main():\\n',\n",
       " '  turtle.setup(600,600)\\n',\n",
       " '  turtle.penup()\\n',\n",
       " '  turtle.speed(10)\\n',\n",
       " '  turtle.hideturtle()\\n',\n",
       " '  turtle.pensize(2)\\n',\n",
       " '  turtle.goto(-200,100)\\n',\n",
       " '  turtle.pendown()\\n',\n",
       " '  level=4\\n',\n",
       " '  koch(400,level)\\n',\n",
       " '  turtle.right(120)\\n',\n",
       " '  koch(400, level)\\n',\n",
       " '  turtle.right(120)\\n',\n",
       " '  koch(400, level)\\n',\n",
       " '  turtle.penup()\\n',\n",
       " '  turtle.done()\\n',\n",
       " 'main()']"
      ]
     },
     "execution_count": 42,
     "metadata": {},
     "output_type": "execute_result"
    }
   ],
   "source": [
    "[line for line in open('untitled3.py')]"
   ]
  },
  {
   "cell_type": "code",
   "execution_count": 55,
   "metadata": {},
   "outputs": [],
   "source": [
    "def function(x):\n",
    "    return x+' \\n'+ x"
   ]
  },
  {
   "cell_type": "code",
   "execution_count": 56,
   "metadata": {},
   "outputs": [
    {
     "data": {
      "text/plain": [
       "['# -*- coding: utf-8 -*-\\n \\n# -*- coding: utf-8 -*-\\n',\n",
       " '\"\"\"\\n \\n\"\"\"\\n',\n",
       " 'Created on Tue Feb 18 22:04:07 2020\\n \\nCreated on Tue Feb 18 22:04:07 2020\\n',\n",
       " '\\n \\n\\n',\n",
       " '@author: NickC\\n \\n@author: NickC\\n',\n",
       " '\"\"\"\\n \\n\"\"\"\\n',\n",
       " '\\n \\n\\n',\n",
       " '#KocheDraw1\\n \\n#KocheDraw1\\n',\n",
       " 'import turtle\\n \\nimport turtle\\n',\n",
       " 'def koch(size,n):\\n \\ndef koch(size,n):\\n',\n",
       " '  if n==1:\\n \\n  if n==1:\\n',\n",
       " '    turtle.fd(size)\\n \\n    turtle.fd(size)\\n',\n",
       " '  else:\\n \\n  else:\\n',\n",
       " '    for i in [0,60,-120,60]:\\n \\n    for i in [0,60,-120,60]:\\n',\n",
       " '      turtle.left(i)\\n \\n      turtle.left(i)\\n',\n",
       " '      koch(size/3,n-1)\\n \\n      koch(size/3,n-1)\\n',\n",
       " 'def main():\\n \\ndef main():\\n',\n",
       " '  turtle.setup(600,600)\\n \\n  turtle.setup(600,600)\\n',\n",
       " '  turtle.penup()\\n \\n  turtle.penup()\\n',\n",
       " '  turtle.speed(10)\\n \\n  turtle.speed(10)\\n',\n",
       " '  turtle.hideturtle()\\n \\n  turtle.hideturtle()\\n',\n",
       " '  turtle.pensize(2)\\n \\n  turtle.pensize(2)\\n',\n",
       " '  turtle.goto(-200,100)\\n \\n  turtle.goto(-200,100)\\n',\n",
       " '  turtle.pendown()\\n \\n  turtle.pendown()\\n',\n",
       " '  level=4\\n \\n  level=4\\n',\n",
       " '  koch(400,level)\\n \\n  koch(400,level)\\n',\n",
       " '  turtle.right(120)\\n \\n  turtle.right(120)\\n',\n",
       " '  koch(400, level)\\n \\n  koch(400, level)\\n',\n",
       " '  turtle.right(120)\\n \\n  turtle.right(120)\\n',\n",
       " '  koch(400, level)\\n \\n  koch(400, level)\\n',\n",
       " '  turtle.penup()\\n \\n  turtle.penup()\\n',\n",
       " '  turtle.done()\\n \\n  turtle.done()\\n',\n",
       " 'main() \\nmain()']"
      ]
     },
     "execution_count": 56,
     "metadata": {},
     "output_type": "execute_result"
    }
   ],
   "source": [
    "list(map(function, open('untitled3.py')))"
   ]
  },
  {
   "cell_type": "code",
   "execution_count": 62,
   "metadata": {},
   "outputs": [],
   "source": [
    "from sympy import tanh\n",
    "def function(x):\n",
    "    return tanh(x).evalf()"
   ]
  },
  {
   "cell_type": "code",
   "execution_count": 63,
   "metadata": {},
   "outputs": [
    {
     "data": {
      "text/plain": [
       "[0.761594155955765,\n",
       " 0.964027580075817,\n",
       " 0.995054753686730,\n",
       " 0.999329299739067,\n",
       " 0.999909204262595,\n",
       " 0.999987711650796,\n",
       " 0.999998336943945,\n",
       " 0.999999774929676,\n",
       " 0.999999969540041,\n",
       " 0.999999995877693,\n",
       " 0.999999999442106,\n",
       " 0.999999999924497,\n",
       " 0.999999999989782,\n",
       " 0.999999999998617,\n",
       " 0.999999999999813,\n",
       " 0.999999999999975,\n",
       " 0.999999999999997,\n",
       " 1.00000000000000,\n",
       " 1.00000000000000,\n",
       " 1.00000000000000,\n",
       " 1.00000000000000,\n",
       " 1.00000000000000,\n",
       " 1.00000000000000,\n",
       " 1.00000000000000,\n",
       " 1.00000000000000,\n",
       " 1.00000000000000,\n",
       " 1.00000000000000,\n",
       " 1.00000000000000,\n",
       " 1.00000000000000,\n",
       " 1.00000000000000,\n",
       " 1.00000000000000,\n",
       " 1.00000000000000,\n",
       " 1.00000000000000,\n",
       " 1.00000000000000,\n",
       " 1.00000000000000,\n",
       " 1.00000000000000,\n",
       " 1.00000000000000,\n",
       " 1.00000000000000,\n",
       " 1.00000000000000,\n",
       " 1.00000000000000,\n",
       " 1.00000000000000,\n",
       " 1.00000000000000,\n",
       " 1.00000000000000,\n",
       " 1.00000000000000,\n",
       " 1.00000000000000,\n",
       " 1.00000000000000,\n",
       " 1.00000000000000,\n",
       " 1.00000000000000,\n",
       " 1.00000000000000,\n",
       " 1.00000000000000,\n",
       " 1.00000000000000,\n",
       " 1.00000000000000,\n",
       " 1.00000000000000,\n",
       " 1.00000000000000,\n",
       " 1.00000000000000,\n",
       " 1.00000000000000,\n",
       " 1.00000000000000,\n",
       " 1.00000000000000,\n",
       " 1.00000000000000,\n",
       " 1.00000000000000,\n",
       " 1.00000000000000,\n",
       " 1.00000000000000,\n",
       " 1.00000000000000,\n",
       " 1.00000000000000,\n",
       " 1.00000000000000,\n",
       " 1.00000000000000,\n",
       " 1.00000000000000,\n",
       " 1.00000000000000,\n",
       " 1.00000000000000,\n",
       " 1.00000000000000,\n",
       " 1.00000000000000,\n",
       " 1.00000000000000,\n",
       " 1.00000000000000,\n",
       " 1.00000000000000,\n",
       " 1.00000000000000,\n",
       " 1.00000000000000,\n",
       " 1.00000000000000,\n",
       " 1.00000000000000,\n",
       " 1.00000000000000,\n",
       " 1.00000000000000,\n",
       " 1.00000000000000,\n",
       " 1.00000000000000,\n",
       " 1.00000000000000,\n",
       " 1.00000000000000,\n",
       " 1.00000000000000,\n",
       " 1.00000000000000,\n",
       " 1.00000000000000,\n",
       " 1.00000000000000,\n",
       " 1.00000000000000,\n",
       " 1.00000000000000,\n",
       " 1.00000000000000,\n",
       " 1.00000000000000,\n",
       " 1.00000000000000,\n",
       " 1.00000000000000,\n",
       " 1.00000000000000,\n",
       " 1.00000000000000,\n",
       " 1.00000000000000,\n",
       " 1.00000000000000,\n",
       " 1.00000000000000,\n",
       " 1.00000000000000]"
      ]
     },
     "execution_count": 63,
     "metadata": {},
     "output_type": "execute_result"
    }
   ],
   "source": [
    "list(map(function,list(range(1,101))))"
   ]
  },
  {
   "cell_type": "markdown",
   "metadata": {},
   "source": [
    "### map很像列表解析，但是没有列表解析强大，map需要函数而列表解析可以是任意的表达式"
   ]
  },
  {
   "cell_type": "code",
   "execution_count": 108,
   "metadata": {},
   "outputs": [],
   "source": [
    "S = \"\"\"Python includes various additional built-ins that process iterables, too: sorted sorts\n",
    "items in an iterable, zip combines items from iterables, enumerate pairs items in an\n",
    "iterable with relative positions, filter selects items for which a function is true, and\n",
    "reduce runs pairs of items in an iterable through a function. All of these accept iterables,\n",
    "and zip, enumerate, and filter also return an iterable in Python 3.0, like map. Here they\n",
    "are in action running the file’s iterator automatically to scan line by line:\"\"\" # S 是个字符串"
   ]
  },
  {
   "cell_type": "code",
   "execution_count": 68,
   "metadata": {},
   "outputs": [
    {
     "name": "stdout",
     "output_type": "stream",
     "text": [
      "['Python', 'includes', 'various', 'additional', 'built-ins', 'that', 'process', 'iterables,', 'too:', 'sorted', 'sorts', 'items', 'in', 'an', 'iterable,', 'zip', 'combines', 'items', 'from', 'iterables,', 'enumerate', 'pairs', 'items', 'in', 'an', 'iterable', 'with', 'relative', 'positions,', 'filter', 'selects', 'items', 'for', 'which', 'a', 'function', 'is', 'true,', 'and', 'reduce', 'runs', 'pairs', 'of', 'items', 'in', 'an', 'iterable', 'through', 'a', 'function.', 'All', 'of', 'these', 'accept', 'iterables,', 'and', 'zip,', 'enumerate,', 'and', 'filter', 'also', 'return', 'an', 'iterable', 'in', 'Python', '3.0,', 'like', 'map.', 'Here', 'they', 'are', 'in', 'action', 'running', 'the', 'file’s', 'iterator', 'automatically', 'to', 'scan', 'line', 'by', 'line:']"
     ]
    }
   ],
   "source": [
    "L = S.split()\n",
    "print(L, end='')"
   ]
  },
  {
   "cell_type": "code",
   "execution_count": 70,
   "metadata": {},
   "outputs": [
    {
     "name": "stdout",
     "output_type": "stream",
     "text": [
      "['3.0,', 'All', 'Here', 'Python', 'Python', 'a', 'a', 'accept', 'action', 'additional', 'also', 'an', 'an', 'an', 'an', 'and', 'and', 'and', 'are', 'automatically', 'built-ins', 'by', 'combines', 'enumerate', 'enumerate,', 'file’s', 'filter', 'filter', 'for', 'from', 'function', 'function.', 'in', 'in', 'in', 'in', 'in', 'includes', 'is', 'items', 'items', 'items', 'items', 'items', 'iterable', 'iterable', 'iterable', 'iterable,', 'iterables,', 'iterables,', 'iterables,', 'iterator', 'like', 'line', 'line:', 'map.', 'of', 'of', 'pairs', 'pairs', 'positions,', 'process', 'reduce', 'relative', 'return', 'running', 'runs', 'scan', 'selects', 'sorted', 'sorts', 'that', 'the', 'these', 'they', 'through', 'to', 'too:', 'true,', 'various', 'which', 'with', 'zip', 'zip,']"
     ]
    }
   ],
   "source": [
    "print(sorted(L), end = '') # 字符串首先是从1-100，从A到Z, 再从a到z"
   ]
  },
  {
   "cell_type": "code",
   "execution_count": 76,
   "metadata": {},
   "outputs": [],
   "source": [
    "L1 = []\n",
    "from numpy import random\n",
    "for i in range(100):\n",
    "    L1.append(random.randint(100))"
   ]
  },
  {
   "cell_type": "code",
   "execution_count": 77,
   "metadata": {},
   "outputs": [
    {
     "name": "stdout",
     "output_type": "stream",
     "text": [
      "[10, 94, 39, 44, 19, 20, 78, 98, 40, 26, 48, 47, 60, 26, 91, 50, 94, 40, 34, 62, 93, 16, 0, 28, 40, 3, 55, 25, 46, 60, 90, 58, 68, 97, 50, 90, 9, 20, 69, 9, 33, 41, 65, 68, 73, 63, 70, 65, 77, 30, 28, 60, 11, 18, 44, 32, 94, 40, 19, 93, 13, 81, 42, 40, 85, 72, 74, 2, 50, 69, 77, 73, 44, 69, 80, 67, 11, 56, 6, 21, 89, 12, 91, 79, 63, 84, 71, 66, 65, 27, 71, 22, 45, 19, 4, 92, 44, 67, 92, 46]"
     ]
    }
   ],
   "source": [
    "print(L1, end = '' )"
   ]
  },
  {
   "cell_type": "code",
   "execution_count": 75,
   "metadata": {},
   "outputs": [
    {
     "name": "stdout",
     "output_type": "stream",
     "text": [
      "[1, 1, 3, 3, 3, 4, 4, 4, 4, 6, 7, 8, 9, 10, 11, 11, 12, 12, 13, 14, 16, 17, 17, 19, 20, 21, 25, 27, 27, 28, 29, 29, 32, 32, 34, 35, 37, 38, 39, 43, 43, 44, 44, 45, 46, 48, 48, 49, 50, 51, 51, 53, 53, 54, 56, 58, 59, 59, 60, 60, 61, 61, 62, 63, 65, 65, 67, 67, 68, 72, 74, 75, 75, 76, 76, 76, 79, 82, 82, 82, 83, 84, 85, 85, 87, 87, 88, 88, 89, 89, 89, 90, 92, 93, 93, 97, 97, 97, 98, 98]"
     ]
    }
   ],
   "source": [
    "print(sorted(L), end= '')"
   ]
  },
  {
   "cell_type": "code",
   "execution_count": 78,
   "metadata": {},
   "outputs": [],
   "source": [
    "L2 = []\n",
    "for i in range(100,200):\n",
    "    L2.append(random.randint(100,200))"
   ]
  },
  {
   "cell_type": "code",
   "execution_count": 79,
   "metadata": {},
   "outputs": [
    {
     "name": "stdout",
     "output_type": "stream",
     "text": [
      "[180, 158, 169, 160, 175, 132, 100, 110, 185, 187, 147, 117, 182, 156, 196, 196, 142, 158, 142, 156, 167, 178, 106, 177, 191, 106, 187, 190, 134, 184, 166, 104, 154, 131, 111, 157, 193, 150, 157, 192, 102, 140, 180, 103, 148, 197, 190, 179, 171, 117, 190, 188, 113, 129, 149, 171, 158, 145, 166, 104, 100, 191, 118, 136, 134, 148, 157, 117, 166, 171, 108, 135, 190, 119, 132, 181, 173, 142, 174, 142, 114, 111, 111, 170, 139, 153, 151, 170, 195, 198, 178, 197, 196, 115, 189, 193, 139, 103, 191, 165]"
     ]
    }
   ],
   "source": [
    "print(L2, end='')"
   ]
  },
  {
   "cell_type": "code",
   "execution_count": 81,
   "metadata": {},
   "outputs": [
    {
     "name": "stdout",
     "output_type": "stream",
     "text": [
      "[(10, 180), (94, 158), (39, 169), (44, 160), (19, 175), (20, 132), (78, 100), (98, 110), (40, 185), (26, 187), (48, 147), (47, 117), (60, 182), (26, 156), (91, 196), (50, 196), (94, 142), (40, 158), (34, 142), (62, 156), (93, 167), (16, 178), (0, 106), (28, 177), (40, 191), (3, 106), (55, 187), (25, 190), (46, 134), (60, 184), (90, 166), (58, 104), (68, 154), (97, 131), (50, 111), (90, 157), (9, 193), (20, 150), (69, 157), (9, 192), (33, 102), (41, 140), (65, 180), (68, 103), (73, 148), (63, 197), (70, 190), (65, 179), (77, 171), (30, 117), (28, 190), (60, 188), (11, 113), (18, 129), (44, 149), (32, 171), (94, 158), (40, 145), (19, 166), (93, 104), (13, 100), (81, 191), (42, 118), (40, 136), (85, 134), (72, 148), (74, 157), (2, 117), (50, 166), (69, 171), (77, 108), (73, 135), (44, 190), (69, 119), (80, 132), (67, 181), (11, 173), (56, 142), (6, 174), (21, 142), (89, 114), (12, 111), (91, 111), (79, 170), (63, 139), (84, 153), (71, 151), (66, 170), (65, 195), (27, 198), (71, 178), (22, 197), (45, 196), (19, 115), (4, 189), (92, 193), (44, 139), (67, 103), (92, 191), (46, 165)]"
     ]
    }
   ],
   "source": [
    "print(list(zip(L1, L2)), end= '')"
   ]
  },
  {
   "cell_type": "code",
   "execution_count": 87,
   "metadata": {},
   "outputs": [
    {
     "name": "stdout",
     "output_type": "stream",
     "text": [
      "[(0, 'Python includes various additional built-ins that process iterables, too: sorted sorts\\nitems in an iterable, zip combines items from iterables, enumerate pairs items in an\\niterable with relative positions, filter selects items for which a function is true, and\\nreduce runs pairs of items in an iterable through a function'), (1, ' All of these accept iterables,\\nand zip, enumerate, and filter also return an iterable in Python 3'), (2, '0, like map'), (3, ' Here they\\nare in action running the file’s iterator automatically to scan line by line:')]\n"
     ]
    }
   ],
   "source": [
    "print(list(enumerate(S.split(sep='.'))))"
   ]
  },
  {
   "cell_type": "code",
   "execution_count": 110,
   "metadata": {},
   "outputs": [
    {
     "name": "stdout",
     "output_type": "stream",
     "text": [
      "['Python', 'includes', 'various', 'additional', 'that', 'process', 'sorted', 'sorts', 'items', 'in', 'an', 'zip', 'combines', 'items', 'from', 'enumerate', 'pairs', 'items', 'in', 'an', 'iterable', 'with', 'relative', 'filter', 'selects', 'items', 'for', 'which', 'a', 'function', 'is', 'and', 'reduce', 'runs', 'pairs', 'of', 'items', 'in', 'an', 'iterable', 'through', 'a', 'All', 'of', 'these', 'accept', 'and', 'and', 'filter', 'also', 'return', 'an', 'iterable', 'in', 'Python', 'like', 'Here', 'they', 'are', 'in', 'action', 'running', 'the', 'iterator', 'automatically', 'to', 'scan', 'line', 'by']\n"
     ]
    }
   ],
   "source": [
    "print(list(filter(str.isalpha, S.split()))) # 当str.isalpha是正确的时候，元素就会过滤起来"
   ]
  },
  {
   "cell_type": "code",
   "execution_count": 111,
   "metadata": {},
   "outputs": [
    {
     "data": {
      "text/plain": [
       "['\\n',\n",
       " '\\n',\n",
       " '      koch(size/3,n-1)\\n',\n",
       " '      turtle.left(i)\\n',\n",
       " '    for i in [0,60,-120,60]:\\n',\n",
       " '    turtle.fd(size)\\n',\n",
       " '  else:\\n',\n",
       " '  if n==1:\\n',\n",
       " '  koch(400, level)\\n',\n",
       " '  koch(400, level)\\n',\n",
       " '  koch(400,level)\\n',\n",
       " '  level=4\\n',\n",
       " '  turtle.done()\\n',\n",
       " '  turtle.goto(-200,100)\\n',\n",
       " '  turtle.hideturtle()\\n',\n",
       " '  turtle.pendown()\\n',\n",
       " '  turtle.pensize(2)\\n',\n",
       " '  turtle.penup()\\n',\n",
       " '  turtle.penup()\\n',\n",
       " '  turtle.right(120)\\n',\n",
       " '  turtle.right(120)\\n',\n",
       " '  turtle.setup(600,600)\\n',\n",
       " '  turtle.speed(10)\\n',\n",
       " '\"\"\"\\n',\n",
       " '\"\"\"\\n',\n",
       " '# -*- coding: utf-8 -*-\\n',\n",
       " '#KocheDraw1\\n',\n",
       " '@author: NickC\\n',\n",
       " 'Created on Tue Feb 18 22:04:07 2020\\n',\n",
       " 'def koch(size,n):\\n',\n",
       " 'def main():\\n',\n",
       " 'import turtle\\n',\n",
       " 'main()']"
      ]
     },
     "execution_count": 111,
     "metadata": {},
     "output_type": "execute_result"
    }
   ],
   "source": [
    "sorted(open('untitled3.py'))"
   ]
  },
  {
   "cell_type": "code",
   "execution_count": 112,
   "metadata": {},
   "outputs": [
    {
     "data": {
      "text/plain": [
       "[('# -*- coding: utf-8 -*-\\n', '# -*- coding: utf-8 -*-\\n'),\n",
       " ('\"\"\"\\n', '\"\"\"\\n'),\n",
       " ('Created on Tue Feb 18 22:04:07 2020\\n',\n",
       "  'Created on Tue Feb 18 22:04:07 2020\\n'),\n",
       " ('\\n', '\\n'),\n",
       " ('@author: NickC\\n', '@author: NickC\\n'),\n",
       " ('\"\"\"\\n', '\"\"\"\\n'),\n",
       " ('\\n', '\\n'),\n",
       " ('#KocheDraw1\\n', '#KocheDraw1\\n'),\n",
       " ('import turtle\\n', 'import turtle\\n'),\n",
       " ('def koch(size,n):\\n', 'def koch(size,n):\\n'),\n",
       " ('  if n==1:\\n', '  if n==1:\\n'),\n",
       " ('    turtle.fd(size)\\n', '    turtle.fd(size)\\n'),\n",
       " ('  else:\\n', '  else:\\n'),\n",
       " ('    for i in [0,60,-120,60]:\\n', '    for i in [0,60,-120,60]:\\n'),\n",
       " ('      turtle.left(i)\\n', '      turtle.left(i)\\n'),\n",
       " ('      koch(size/3,n-1)\\n', '      koch(size/3,n-1)\\n'),\n",
       " ('def main():\\n', 'def main():\\n'),\n",
       " ('  turtle.setup(600,600)\\n', '  turtle.setup(600,600)\\n'),\n",
       " ('  turtle.penup()\\n', '  turtle.penup()\\n'),\n",
       " ('  turtle.speed(10)\\n', '  turtle.speed(10)\\n'),\n",
       " ('  turtle.hideturtle()\\n', '  turtle.hideturtle()\\n'),\n",
       " ('  turtle.pensize(2)\\n', '  turtle.pensize(2)\\n'),\n",
       " ('  turtle.goto(-200,100)\\n', '  turtle.goto(-200,100)\\n'),\n",
       " ('  turtle.pendown()\\n', '  turtle.pendown()\\n'),\n",
       " ('  level=4\\n', '  level=4\\n'),\n",
       " ('  koch(400,level)\\n', '  koch(400,level)\\n'),\n",
       " ('  turtle.right(120)\\n', '  turtle.right(120)\\n'),\n",
       " ('  koch(400, level)\\n', '  koch(400, level)\\n'),\n",
       " ('  turtle.right(120)\\n', '  turtle.right(120)\\n'),\n",
       " ('  koch(400, level)\\n', '  koch(400, level)\\n'),\n",
       " ('  turtle.penup()\\n', '  turtle.penup()\\n'),\n",
       " ('  turtle.done()\\n', '  turtle.done()\\n'),\n",
       " ('main()', 'main()')]"
      ]
     },
     "execution_count": 112,
     "metadata": {},
     "output_type": "execute_result"
    }
   ],
   "source": [
    "list(zip(open(\"untitled3.py\"), open(\"untitled3.py\")))"
   ]
  },
  {
   "cell_type": "code",
   "execution_count": 113,
   "metadata": {},
   "outputs": [
    {
     "data": {
      "text/plain": [
       "[(0, '# -*- coding: utf-8 -*-\\n'),\n",
       " (1, '\"\"\"\\n'),\n",
       " (2, 'Created on Tue Feb 18 22:04:07 2020\\n'),\n",
       " (3, '\\n'),\n",
       " (4, '@author: NickC\\n'),\n",
       " (5, '\"\"\"\\n'),\n",
       " (6, '\\n'),\n",
       " (7, '#KocheDraw1\\n'),\n",
       " (8, 'import turtle\\n'),\n",
       " (9, 'def koch(size,n):\\n'),\n",
       " (10, '  if n==1:\\n'),\n",
       " (11, '    turtle.fd(size)\\n'),\n",
       " (12, '  else:\\n'),\n",
       " (13, '    for i in [0,60,-120,60]:\\n'),\n",
       " (14, '      turtle.left(i)\\n'),\n",
       " (15, '      koch(size/3,n-1)\\n'),\n",
       " (16, 'def main():\\n'),\n",
       " (17, '  turtle.setup(600,600)\\n'),\n",
       " (18, '  turtle.penup()\\n'),\n",
       " (19, '  turtle.speed(10)\\n'),\n",
       " (20, '  turtle.hideturtle()\\n'),\n",
       " (21, '  turtle.pensize(2)\\n'),\n",
       " (22, '  turtle.goto(-200,100)\\n'),\n",
       " (23, '  turtle.pendown()\\n'),\n",
       " (24, '  level=4\\n'),\n",
       " (25, '  koch(400,level)\\n'),\n",
       " (26, '  turtle.right(120)\\n'),\n",
       " (27, '  koch(400, level)\\n'),\n",
       " (28, '  turtle.right(120)\\n'),\n",
       " (29, '  koch(400, level)\\n'),\n",
       " (30, '  turtle.penup()\\n'),\n",
       " (31, '  turtle.done()\\n'),\n",
       " (32, 'main()')]"
      ]
     },
     "execution_count": 113,
     "metadata": {},
     "output_type": "execute_result"
    }
   ],
   "source": [
    "list(enumerate(open(\"untitled3.py\")))"
   ]
  },
  {
   "cell_type": "code",
   "execution_count": 119,
   "metadata": {},
   "outputs": [
    {
     "data": {
      "text/plain": [
       "(True, False, True, False)"
      ]
     },
     "execution_count": 119,
     "metadata": {},
     "output_type": "execute_result"
    }
   ],
   "source": [
    "bool('0'), bool(0), bool('1'), bool('')"
   ]
  },
  {
   "cell_type": "code",
   "execution_count": 118,
   "metadata": {},
   "outputs": [
    {
     "data": {
      "text/plain": [
       "['# -*- coding: utf-8 -*-\\n',\n",
       " '\"\"\"\\n',\n",
       " 'Created on Tue Feb 18 22:04:07 2020\\n',\n",
       " '\\n',\n",
       " '@author: NickC\\n',\n",
       " '\"\"\"\\n',\n",
       " '\\n',\n",
       " '#KocheDraw1\\n',\n",
       " 'import turtle\\n',\n",
       " 'def koch(size,n):\\n',\n",
       " '  if n==1:\\n',\n",
       " '    turtle.fd(size)\\n',\n",
       " '  else:\\n',\n",
       " '    for i in [0,60,-120,60]:\\n',\n",
       " '      turtle.left(i)\\n',\n",
       " '      koch(size/3,n-1)\\n',\n",
       " 'def main():\\n',\n",
       " '  turtle.setup(600,600)\\n',\n",
       " '  turtle.penup()\\n',\n",
       " '  turtle.speed(10)\\n',\n",
       " '  turtle.hideturtle()\\n',\n",
       " '  turtle.pensize(2)\\n',\n",
       " '  turtle.goto(-200,100)\\n',\n",
       " '  turtle.pendown()\\n',\n",
       " '  level=4\\n',\n",
       " '  koch(400,level)\\n',\n",
       " '  turtle.right(120)\\n',\n",
       " '  koch(400, level)\\n',\n",
       " '  turtle.right(120)\\n',\n",
       " '  koch(400, level)\\n',\n",
       " '  turtle.penup()\\n',\n",
       " '  turtle.done()\\n',\n",
       " 'main()']"
      ]
     },
     "execution_count": 118,
     "metadata": {},
     "output_type": "execute_result"
    }
   ],
   "source": [
    "list(filter(bool, open('untitled3.py')))"
   ]
  },
  {
   "cell_type": "code",
   "execution_count": 120,
   "metadata": {},
   "outputs": [
    {
     "data": {
      "text/plain": [
       "(True, False, True, False)"
      ]
     },
     "execution_count": 120,
     "metadata": {},
     "output_type": "execute_result"
    }
   ],
   "source": [
    "bool('0'), bool(0), bool('1'), bool('')"
   ]
  },
  {
   "cell_type": "code",
   "execution_count": 122,
   "metadata": {},
   "outputs": [
    {
     "name": "stdout",
     "output_type": "stream",
     "text": [
      "Hello world\n"
     ]
    }
   ],
   "source": [
    "if 0:\n",
    "    print(\"Hello world\")\n",
    "if 1:\n",
    "    print(\"Hello world\")"
   ]
  },
  {
   "cell_type": "code",
   "execution_count": 124,
   "metadata": {},
   "outputs": [
    {
     "name": "stdout",
     "output_type": "stream",
     "text": [
      "Hello world\n",
      "Hello world\n"
     ]
    }
   ],
   "source": [
    "if bool('0'):\n",
    "    print(\"Hello world\")\n",
    "if bool(1):\n",
    "    print(\"Hello world\")"
   ]
  },
  {
   "cell_type": "code",
   "execution_count": 125,
   "metadata": {},
   "outputs": [
    {
     "data": {
      "text/plain": [
       "(False, False, False)"
      ]
     },
     "execution_count": 125,
     "metadata": {},
     "output_type": "execute_result"
    }
   ],
   "source": [
    "bool(\"\"), bool(''), bool(\"\"\"\"\"\")"
   ]
  },
  {
   "cell_type": "code",
   "execution_count": 132,
   "metadata": {},
   "outputs": [
    {
     "data": {
      "text/plain": [
       "'# -*- coding: utf-8 -*-\\n\"\"\"\\nCreated on Tue Feb 18 22:04:07 2020\\n\\n@author: NickC\\n\"\"\"\\n\\n#KocheDraw1\\nimport turtle\\ndef koch(size,n):\\n  if n==1:\\n    turtle.fd(size)\\n  else:\\n    for i in [0,60,-120,60]:\\n      turtle.left(i)\\n      koch(size/3,n-1)\\ndef main():\\n  turtle.setup(600,600)\\n  turtle.penup()\\n  turtle.speed(10)\\n  turtle.hideturtle()\\n  turtle.pensize(2)\\n  turtle.goto(-200,100)\\n  turtle.pendown()\\n  level=4\\n  koch(400,level)\\n  turtle.right(120)\\n  koch(400, level)\\n  turtle.right(120)\\n  koch(400, level)\\n  turtle.penup()\\n  turtle.done()\\nmain()'"
      ]
     },
     "execution_count": 132,
     "metadata": {},
     "output_type": "execute_result"
    }
   ],
   "source": [
    "import functools, operator\n",
    "functools.reduce(operator.add, open('untitled3.py'))"
   ]
  },
  {
   "cell_type": "code",
   "execution_count": 127,
   "metadata": {},
   "outputs": [
    {
     "data": {
      "text/plain": [
       "\u001b[1;31mDocstring:\u001b[0m\n",
       "reduce(function, sequence[, initial]) -> value\n",
       "\n",
       "Apply a function of two arguments cumulatively to the items of a sequence,\n",
       "from left to right, so as to reduce the sequence to a single value.\n",
       "For example, reduce(lambda x, y: x+y, [1, 2, 3, 4, 5]) calculates\n",
       "((((1+2)+3)+4)+5).  If initial is present, it is placed before the items\n",
       "of the sequence in the calculation, and serves as a default when the\n",
       "sequence is empty.\n",
       "\u001b[1;31mType:\u001b[0m      builtin_function_or_method\n"
      ]
     },
     "metadata": {},
     "output_type": "display_data"
    }
   ],
   "source": [
    "functools.reduce?"
   ]
  },
  {
   "cell_type": "code",
   "execution_count": 128,
   "metadata": {},
   "outputs": [],
   "source": [
    "S = 'import sys\\n' + 'print(sys.path)'"
   ]
  },
  {
   "cell_type": "code",
   "execution_count": 129,
   "metadata": {},
   "outputs": [
    {
     "data": {
      "text/plain": [
       "'import sys\\nprint(sys.path)'"
      ]
     },
     "execution_count": 129,
     "metadata": {},
     "output_type": "execute_result"
    }
   ],
   "source": [
    "S "
   ]
  },
  {
   "cell_type": "markdown",
   "metadata": {},
   "source": [
    "### from sympy import tanh # tanh 就不是内置函数"
   ]
  },
  {
   "cell_type": "code",
   "execution_count": 137,
   "metadata": {},
   "outputs": [],
   "source": [
    "L = list(range(100))"
   ]
  },
  {
   "cell_type": "code",
   "execution_count": 143,
   "metadata": {},
   "outputs": [],
   "source": [
    "from numpy import random\n",
    "L1 = []\n",
    "L2 = []\n",
    "for i in range(100):\n",
    "    L1.append(random.randint(1,101)) # int 就是integer的缩写， integer是整数的意思\n",
    "for j in range(100):\n",
    "    L2.append(random.randint(1,101))"
   ]
  },
  {
   "cell_type": "code",
   "execution_count": 147,
   "metadata": {},
   "outputs": [
    {
     "name": "stdout",
     "output_type": "stream",
     "text": [
      "[16, 17, 71, 95, 77, 79, 76, 65, 97, 98, 72, 23, 82, 1, 68, 11, 66, 30, 69, 19, 99, 19, 17, 23, 89, 48, 63, 55, 80, 63, 35, 92, 46, 76, 39, 72, 90, 13, 41, 37, 44, 93, 45, 17, 49, 97, 62, 37, 30, 4, 45, 18, 80, 7, 96, 14, 85, 18, 27, 55, 48, 43, 38, 99, 95, 86, 39, 13, 47, 76, 31, 40, 23, 54, 63, 50, 21, 44, 9, 84, 58, 38, 62, 62, 6, 18, 92, 5, 100, 2, 49, 10, 65, 88, 79, 53, 88, 79, 66, 72]\n",
      "\n",
      "[52, 60, 95, 5, 57, 8, 74, 93, 18, 46, 86, 24, 66, 71, 8, 90, 13, 38, 85, 24, 88, 95, 83, 27, 76, 52, 29, 35, 79, 54, 29, 27, 92, 57, 8, 70, 28, 95, 90, 41, 53, 86, 77, 93, 16, 18, 14, 5, 97, 3, 25, 44, 68, 57, 37, 78, 72, 46, 74, 33, 87, 52, 77, 40, 62, 64, 34, 60, 62, 65, 74, 22, 93, 40, 71, 32, 24, 6, 80, 4, 76, 46, 67, 33, 20, 40, 41, 19, 77, 54, 82, 80, 27, 99, 100, 80, 95, 37, 28, 44]"
     ]
    }
   ],
   "source": [
    "print(L1, end=''); print('\\n'); print(L2, end='')"
   ]
  },
  {
   "cell_type": "code",
   "execution_count": 151,
   "metadata": {},
   "outputs": [
    {
     "name": "stdout",
     "output_type": "stream",
     "text": [
      "\n",
      "\n",
      "[3, 4, 5, 5, 6, 8, 8, 8, 13, 14, 16, 18, 18, 19, 20, 22, 24, 24, 24, 25, 27, 27, 27, 28, 28, 29, 29, 32, 33, 33, 34, 35, 37, 37, 38, 40, 40, 40, 41, 41, 44, 44, 46, 46, 46, 52, 52, 52, 53, 54, 54, 57, 57, 57, 60, 60, 62, 62, 64, 65, 66, 67, 68, 70, 71, 71, 72, 74, 74, 74, 76, 76, 77, 77, 77, 78, 79, 80, 80, 80, 82, 83, 85, 86, 86, 87, 88, 90, 90, 92, 93, 93, 93, 95, 95, 95, 95, 97, 99, 100]"
     ]
    }
   ],
   "source": [
    "type(L1.sort()); print('\\n');print(sorted(L2), end='')"
   ]
  },
  {
   "cell_type": "markdown",
   "metadata": {},
   "source": [
    "### L1.sort() 对对象本身是即时生效的"
   ]
  },
  {
   "cell_type": "code",
   "execution_count": 142,
   "metadata": {},
   "outputs": [
    {
     "name": "stdout",
     "output_type": "stream",
     "text": [
      "[3, 3, 6, 7, 7, 8, 11, 12, 13, 14, 16, 19, 19, 22, 25, 25, 29, 32, 32, 34, 34, 37, 37, 39, 40, 41, 41, 44, 45, 45, 47, 48, 48, 51, 52, 53, 53, 53, 55, 55, 56, 57, 58, 59, 59, 60, 61, 61, 61, 63, 64, 65, 65, 66, 68, 70, 71, 72, 73, 74, 78, 78, 79, 80, 80, 81, 82, 84, 84, 84, 84, 85, 89, 89, 89, 89, 90, 90, 90, 90, 91, 92, 92, 93, 93, 94, 94, 94, 95, 95, 95, 96, 96, 97, 97, 97, 97, 98, 99, 99]\n"
     ]
    }
   ],
   "source": [
    "print(L1) # L1.sort() 对对象本身是即时生效的"
   ]
  },
  {
   "cell_type": "markdown",
   "metadata": {},
   "source": [
    "### 不是即时生效的例子"
   ]
  },
  {
   "cell_type": "code",
   "execution_count": 161,
   "metadata": {},
   "outputs": [
    {
     "name": "stdout",
     "output_type": "stream",
     "text": [
      "a = [1, 2, 4, 5, 6, 7, 9, 10, 11, 13, 13, 14, 16, 17, 17, 17, 18, 18, 18, 19, 19, 21, 23, 23, 23, 27, 30, 30, 31, 35, 37, 37, 38, 38, 39, 39, 40, 41, 43, 44, 44, 45, 45, 46, 47, 48, 48, 49, 49, 50, 53, 54, 55, 55, 58, 62, 62, 62, 63, 63, 63, 65, 65, 66, 66, 68, 69, 71, 72, 72, 72, 76, 76, 76, 77, 79, 79, 79, 80, 80, 82, 84, 85, 86, 88, 88, 89, 90, 92, 92, 93, 95, 95, 96, 97, 97, 98, 99, 99, 100]\n",
      "\n",
      "b = [1, 2, 4, 5, 6, 7, 9, 10, 11, 13, 13, 14, 16, 17, 17, 17, 18, 18, 18, 19, 19, 21, 23, 23, 23, 27, 30, 30, 31, 35, 37, 37, 38, 38, 39, 39, 40, 41, 43, 44, 44, 45, 45, 46, 47, 48, 48, 49, 49, 50, 53, 54, 55, 55, 58, 62, 62, 62, 63, 63, 63, 65, 65, 66, 66, 68, 69, 71, 72, 72, 72, 76, 76, 76, 77, 79, 79, 79, 80, 80, 82, 84, 85, 86, 88, 88, 89, 90, 92, 92, 93, 95, 95, 96, 97, 97, 98, 99, 99, 100]\n",
      "\n",
      "a = [1, 2, 4, 5, 6, 7, 9, 10, 11, 13, 13, 14, 16, 17, 17, 17, 18, 18, 18, 19, 19, 21, 23, 23, 23, 27, 30, 30, 31, 35, 37, 37, 38, 38, 39, 39, 40, 41, 43, 44, 44, 45, 45, 46, 47, 48, 48, 49, 49, 50, 53, 54, 55, 55, 58, 62, 62, 62, 63, 63, 63, 65, 65, 66, 66, 68, 69, 71, 72, 72, 72, 76, 76, 76, 77, 79, 79, 79, 80, 80, 82, 84, 85, 86, 88, 88, 89, 90, 92, 92, 93, 95, 95, 96, 97, 97, 98, 99, 99, 100, 52, 60, 95, 5, 57, 8, 74, 93, 18, 46, 86, 24, 66, 71, 8, 90, 13, 38, 85, 24, 88, 95, 83, 27, 76, 52, 29, 35, 79, 54, 29, 27, 92, 57, 8, 70, 28, 95, 90, 41, 53, 86, 77, 93, 16, 18, 14, 5, 97, 3, 25, 44, 68, 57, 37, 78, 72, 46, 74, 33, 87, 52, 77, 40, 62, 64, 34, 60, 62, 65, 74, 22, 93, 40, 71, 32, 24, 6, 80, 4, 76, 46, 67, 33, 20, 40, 41, 19, 77, 54, 82, 80, 27, 99, 100, 80, 95, 37, 28, 44]\n",
      "\n",
      "[1, 2, 4, 5, 6, 7, 9, 10, 11, 13, 13, 14, 16, 17, 17, 17, 18, 18, 18, 19, 19, 21, 23, 23, 23, 27, 30, 30, 31, 35, 37, 37, 38, 38, 39, 39, 40, 41, 43, 44, 44, 45, 45, 46, 47, 48, 48, 49, 49, 50, 53, 54, 55, 55, 58, 62, 62, 62, 63, 63, 63, 65, 65, 66, 66, 68, 69, 71, 72, 72, 72, 76, 76, 76, 77, 79, 79, 79, 80, 80, 82, 84, 85, 86, 88, 88, 89, 90, 92, 92, 93, 95, 95, 96, 97, 97, 98, 99, 99, 100]"
     ]
    }
   ],
   "source": [
    "a = L1\n",
    "print( 'a = '+ str(a), end='')\n",
    "print('\\n')\n",
    "b = a  # b是等于列表L1, 而不是a这个名字\n",
    "print('b = ' + str(b), end ='')\n",
    "print('\\n')\n",
    "a = a + L2\n",
    "print('a = ' + str(a), end= \"\")\n",
    "print('\\n')\n",
    "print(b, end='')"
   ]
  },
  {
   "cell_type": "code",
   "execution_count": 167,
   "metadata": {},
   "outputs": [
    {
     "data": {
      "text/plain": [
       "5050"
      ]
     },
     "execution_count": 167,
     "metadata": {},
     "output_type": "execute_result"
    }
   ],
   "source": [
    "sum([i for i in range(101)])"
   ]
  },
  {
   "cell_type": "code",
   "execution_count": 169,
   "metadata": {},
   "outputs": [],
   "source": [
    "D = dict(enumerate(L1))"
   ]
  },
  {
   "cell_type": "code",
   "execution_count": 173,
   "metadata": {},
   "outputs": [
    {
     "data": {
      "text/plain": [
       "(dict, list, tuple)"
      ]
     },
     "execution_count": 173,
     "metadata": {},
     "output_type": "execute_result"
    }
   ],
   "source": [
    "type(D), type(L1), type(tuple(L1))"
   ]
  },
  {
   "cell_type": "code",
   "execution_count": 178,
   "metadata": {},
   "outputs": [
    {
     "name": "stdout",
     "output_type": "stream",
     "text": [
      "{0: 1, 1: 2, 2: 4, 3: 5, 4: 6, 5: 7, 6: 9, 7: 10, 8: 11, 9: 13, 10: 13, 11: 14, 12: 16, 13: 17, 14: 17, 15: 17, 16: 18, 17: 18, 18: 18, 19: 19, 20: 19, 21: 21, 22: 23, 23: 23, 24: 23, 25: 27, 26: 30, 27: 30, 28: 31, 29: 35, 30: 37, 31: 37, 32: 38, 33: 38, 34: 39, 35: 39, 36: 40, 37: 41, 38: 43, 39: 44, 40: 44, 41: 45, 42: 45, 43: 46, 44: 47, 45: 48, 46: 48, 47: 49, 48: 49, 49: 50, 50: 53, 51: 54, 52: 55, 53: 55, 54: 58, 55: 62, 56: 62, 57: 62, 58: 63, 59: 63, 60: 63, 61: 65, 62: 65, 63: 66, 64: 66, 65: 68, 66: 69, 67: 71, 68: 72, 69: 72, 70: 72, 71: 76, 72: 76, 73: 76, 74: 77, 75: 79, 76: 79, 77: 79, 78: 80, 79: 80, 80: 82, 81: 84, 82: 85, 83: 86, 84: 88, 85: 88, 86: 89, 87: 90, 88: 92, 89: 92, 90: 93, 91: 95, 92: 95, 93: 96, 94: 97, 95: 97, 96: 98, 97: 99, 98: 99, 99: 100}"
     ]
    }
   ],
   "source": [
    "print(D, end ='')"
   ]
  },
  {
   "cell_type": "code",
   "execution_count": 182,
   "metadata": {},
   "outputs": [
    {
     "data": {
      "text/plain": [
       "True"
      ]
     },
     "execution_count": 182,
     "metadata": {},
     "output_type": "execute_result"
    }
   ],
   "source": [
    "sum(D) == (0+99)*100/2"
   ]
  },
  {
   "cell_type": "markdown",
   "metadata": {},
   "source": [
    "### any函数所作用的对象中只要有一项的布尔值为True就返回True"
   ]
  },
  {
   "cell_type": "code",
   "execution_count": 191,
   "metadata": {},
   "outputs": [
    {
     "data": {
      "text/plain": [
       "False"
      ]
     },
     "execution_count": 191,
     "metadata": {},
     "output_type": "execute_result"
    }
   ],
   "source": [
    "any(['',''])"
   ]
  },
  {
   "cell_type": "code",
   "execution_count": 188,
   "metadata": {},
   "outputs": [
    {
     "data": {
      "text/plain": [
       "False"
      ]
     },
     "execution_count": 188,
     "metadata": {},
     "output_type": "execute_result"
    }
   ],
   "source": [
    "all(['spam','','ni'])"
   ]
  },
  {
   "cell_type": "code",
   "execution_count": 189,
   "metadata": {},
   "outputs": [
    {
     "data": {
      "text/plain": [
       "\u001b[1;31mSignature:\u001b[0m \u001b[0many\u001b[0m\u001b[1;33m(\u001b[0m\u001b[0miterable\u001b[0m\u001b[1;33m,\u001b[0m \u001b[1;33m/\u001b[0m\u001b[1;33m)\u001b[0m\u001b[1;33m\u001b[0m\u001b[1;33m\u001b[0m\u001b[0m\n",
       "\u001b[1;31mDocstring:\u001b[0m\n",
       "Return True if bool(x) is True for any x in the iterable.\n",
       "\n",
       "If the iterable is empty, return False.\n",
       "\u001b[1;31mType:\u001b[0m      builtin_function_or_method\n"
      ]
     },
     "metadata": {},
     "output_type": "display_data"
    }
   ],
   "source": [
    "any?"
   ]
  },
  {
   "cell_type": "code",
   "execution_count": 199,
   "metadata": {},
   "outputs": [],
   "source": [
    "S = 'python'\n",
    "L = []\n",
    "for i in S:\n",
    "    L.append(i)"
   ]
  },
  {
   "cell_type": "code",
   "execution_count": 200,
   "metadata": {},
   "outputs": [
    {
     "data": {
      "text/plain": [
       "['p', 'y', 't', 'h', 'o', 'n']"
      ]
     },
     "execution_count": 200,
     "metadata": {},
     "output_type": "execute_result"
    }
   ],
   "source": [
    "L"
   ]
  },
  {
   "cell_type": "code",
   "execution_count": 204,
   "metadata": {},
   "outputs": [
    {
     "data": {
      "text/plain": [
       "'y'"
      ]
     },
     "execution_count": 204,
     "metadata": {},
     "output_type": "execute_result"
    }
   ],
   "source": [
    "max(L)"
   ]
  },
  {
   "cell_type": "code",
   "execution_count": 205,
   "metadata": {},
   "outputs": [
    {
     "data": {
      "text/plain": [
       "'h'"
      ]
     },
     "execution_count": 205,
     "metadata": {},
     "output_type": "execute_result"
    }
   ],
   "source": [
    "min(L)"
   ]
  },
  {
   "cell_type": "code",
   "execution_count": 208,
   "metadata": {},
   "outputs": [
    {
     "name": "stdout",
     "output_type": "stream",
     "text": [
      "p = 112\n",
      "y = 121\n",
      "t = 116\n",
      "h = 104\n",
      "o = 111\n",
      "n = 110\n"
     ]
    }
   ],
   "source": [
    "for i in L:\n",
    "    print('%s = ' % i + str(ord(i)))"
   ]
  },
  {
   "cell_type": "code",
   "execution_count": 210,
   "metadata": {},
   "outputs": [
    {
     "data": {
      "text/plain": [
       "'a'"
      ]
     },
     "execution_count": 210,
     "metadata": {},
     "output_type": "execute_result"
    }
   ],
   "source": [
    "max(['A','a'])"
   ]
  },
  {
   "cell_type": "code",
   "execution_count": 212,
   "metadata": {},
   "outputs": [
    {
     "name": "stdout",
     "output_type": "stream",
     "text": [
      "65 97\n"
     ]
    }
   ],
   "source": [
    "print(ord('A'), ord('a'))"
   ]
  },
  {
   "cell_type": "markdown",
   "metadata": {},
   "source": [
    "### 52个英文字母(包含大小写) + 键盘上的其他按键都对应一个ASCII码"
   ]
  },
  {
   "cell_type": "code",
   "execution_count": 215,
   "metadata": {},
   "outputs": [
    {
     "data": {
      "text/plain": [
       "('0b1000001', '0x41', '0o101')"
      ]
     },
     "execution_count": 215,
     "metadata": {},
     "output_type": "execute_result"
    }
   ],
   "source": [
    "bin(65), hex(65), oct(65)"
   ]
  },
  {
   "cell_type": "code",
   "execution_count": 223,
   "metadata": {},
   "outputs": [
    {
     "name": "stdout",
     "output_type": "stream",
     "text": [
      "120 61 50 10 241\n"
     ]
    }
   ],
   "source": [
    "print(ord('x'), ord('='), ord('2'), ord('\\n'),ord('x')+ord('=')+ord('2')+ord('\\n') )"
   ]
  },
  {
   "cell_type": "code",
   "execution_count": 225,
   "metadata": {},
   "outputs": [
    {
     "data": {
      "text/plain": [
       "['i', 'm', 'p', 'o', 'r', 't', ' ', 's', 'y', 's', '\\n']"
      ]
     },
     "execution_count": 225,
     "metadata": {},
     "output_type": "execute_result"
    }
   ],
   "source": [
    "S = 'import sys\\n'\n",
    "list((i for i in S))"
   ]
  },
  {
   "cell_type": "code",
   "execution_count": 227,
   "metadata": {},
   "outputs": [
    {
     "name": "stdout",
     "output_type": "stream",
     "text": [
      "[105, 109, 112, 111, 114, 116, 32, 115, 121, 115, 10]\n"
     ]
    }
   ],
   "source": [
    "print([ord(i) for i in list((i for i in S))])"
   ]
  },
  {
   "cell_type": "code",
   "execution_count": 228,
   "metadata": {},
   "outputs": [],
   "source": [
    "f = open('script1.py', mode='w')"
   ]
  },
  {
   "cell_type": "code",
   "execution_count": 231,
   "metadata": {},
   "outputs": [
    {
     "data": {
      "text/plain": [
       "13"
      ]
     },
     "execution_count": 231,
     "metadata": {},
     "output_type": "execute_result"
    }
   ],
   "source": [
    "f.write('import sys\\n')\n",
    "f.write('print(sys.path)\\n')\n",
    "f.write('x = 2\\n')\n",
    "f.write('print(2**33)\\n')"
   ]
  },
  {
   "cell_type": "code",
   "execution_count": 232,
   "metadata": {},
   "outputs": [],
   "source": [
    "f.close()"
   ]
  },
  {
   "cell_type": "code",
   "execution_count": 234,
   "metadata": {},
   "outputs": [],
   "source": [
    "f = open('script1.py', 'r')"
   ]
  },
  {
   "cell_type": "code",
   "execution_count": 235,
   "metadata": {},
   "outputs": [
    {
     "data": {
      "text/plain": [
       "'import sys\\nprint(sys.path)\\nx = 2\\nprint(2**33)\\n'"
      ]
     },
     "execution_count": 235,
     "metadata": {},
     "output_type": "execute_result"
    }
   ],
   "source": [
    "f.read()"
   ]
  },
  {
   "cell_type": "code",
   "execution_count": 239,
   "metadata": {},
   "outputs": [],
   "source": [
    "f.close()"
   ]
  },
  {
   "cell_type": "code",
   "execution_count": 244,
   "metadata": {},
   "outputs": [],
   "source": [
    "# %load script1.py\n",
    "import sys\n",
    "print(sys.path)\n",
    "x = 2\n",
    "print(2**33)"
   ]
  },
  {
   "cell_type": "code",
   "execution_count": 245,
   "metadata": {},
   "outputs": [
    {
     "data": {
      "text/plain": [
       "'x = 2\\n'"
      ]
     },
     "execution_count": 245,
     "metadata": {},
     "output_type": "execute_result"
    }
   ],
   "source": [
    "max(open('script1.py'))"
   ]
  },
  {
   "cell_type": "code",
   "execution_count": 246,
   "metadata": {},
   "outputs": [
    {
     "data": {
      "text/plain": [
       "(105, 112, 120)"
      ]
     },
     "execution_count": 246,
     "metadata": {},
     "output_type": "execute_result"
    }
   ],
   "source": [
    "ord('i'), ord('p'), ord('x')"
   ]
  },
  {
   "cell_type": "code",
   "execution_count": 4,
   "metadata": {},
   "outputs": [],
   "source": [
    "L1 = list(range(1,101,1))"
   ]
  },
  {
   "cell_type": "code",
   "execution_count": 12,
   "metadata": {},
   "outputs": [],
   "source": [
    "L2 = []\n",
    "for i in L1:\n",
    "    L2.append(str(i))"
   ]
  },
  {
   "cell_type": "code",
   "execution_count": 15,
   "metadata": {},
   "outputs": [],
   "source": [
    "S = '+'.join(L2)"
   ]
  },
  {
   "cell_type": "code",
   "execution_count": 11,
   "metadata": {},
   "outputs": [
    {
     "data": {
      "text/plain": [
       "int"
      ]
     },
     "execution_count": 11,
     "metadata": {},
     "output_type": "execute_result"
    }
   ],
   "source": [
    "type(L1[0])"
   ]
  },
  {
   "cell_type": "code",
   "execution_count": 17,
   "metadata": {},
   "outputs": [
    {
     "data": {
      "text/plain": [
       "5050"
      ]
     },
     "execution_count": 17,
     "metadata": {},
     "output_type": "execute_result"
    }
   ],
   "source": [
    "eval(S)"
   ]
  },
  {
   "cell_type": "code",
   "execution_count": 18,
   "metadata": {},
   "outputs": [
    {
     "data": {
      "text/plain": [
       "'1+2+3+4+5+6+7+8+9+10+11+12+13+14+15+16+17+18+19+20+21+22+23+24+25+26+27+28+29+30+31+32+33+34+35+36+37+38+39+40+41+42+43+44+45+46+47+48+49+50+51+52+53+54+55+56+57+58+59+60+61+62+63+64+65+66+67+68+69+70+71+72+73+74+75+76+77+78+79+80+81+82+83+84+85+86+87+88+89+90+91+92+93+94+95+96+97+98+99+100'"
      ]
     },
     "execution_count": 18,
     "metadata": {},
     "output_type": "execute_result"
    }
   ],
   "source": [
    "S"
   ]
  },
  {
   "cell_type": "code",
   "execution_count": 20,
   "metadata": {},
   "outputs": [
    {
     "data": {
      "text/plain": [
       "5050"
      ]
     },
     "execution_count": 20,
     "metadata": {},
     "output_type": "execute_result"
    }
   ],
   "source": [
    "import functools, operator\n",
    "functools.reduce(operator.add, L1)"
   ]
  },
  {
   "cell_type": "code",
   "execution_count": 22,
   "metadata": {},
   "outputs": [
    {
     "name": "stdout",
     "output_type": "stream",
     "text": [
      "[1, 2, 3, 4, 5, 6, 7, 8, 9, 10, 11, 12, 13, 14, 15, 16, 17, 18, 19, 20, 21, 22, 23, 24, 25, 26, 27, 28, 29, 30, 31, 32, 33, 34, 35, 36, 37, 38, 39, 40, 41, 42, 43, 44, 45, 46, 47, 48, 49, 50, 51, 52, 53, 54, 55, 56, 57, 58, 59, 60, 61, 62, 63, 64, 65, 66, 67, 68, 69, 70, 71, 72, 73, 74, 75, 76, 77, 78, 79, 80, 81, 82, 83, 84, 85, 86, 87, 88, 89, 90, 91, 92, 93, 94, 95, 96, 97, 98, 99, 100]\n",
      "\n",
      "['1', '2', '3', '4', '5', '6', '7', '8', '9', '10', '11', '12', '13', '14', '15', '16', '17', '18', '19', '20', '21', '22', '23', '24', '25', '26', '27', '28', '29', '30', '31', '32', '33', '34', '35', '36', '37', '38', '39', '40', '41', '42', '43', '44', '45', '46', '47', '48', '49', '50', '51', '52', '53', '54', '55', '56', '57', '58', '59', '60', '61', '62', '63', '64', '65', '66', '67', '68', '69', '70', '71', '72', '73', '74', '75', '76', '77', '78', '79', '80', '81', '82', '83', '84', '85', '86', '87', '88', '89', '90', '91', '92', '93', '94', '95', '96', '97', '98', '99', '100']"
     ]
    }
   ],
   "source": [
    "print(L1, end='')\n",
    "print('\\n')\n",
    "print(L2, end='')"
   ]
  },
  {
   "cell_type": "markdown",
   "metadata": {},
   "source": [
    "### Sympy 完全是python写的，并不像看起来的那样上流"
   ]
  },
  {
   "cell_type": "code",
   "execution_count": 27,
   "metadata": {},
   "outputs": [
    {
     "name": "stdout",
     "output_type": "stream",
     "text": [
      "IPython console for SymPy 1.4 (Python 3.7.4-64-bit) (ground types: python)\n",
      "\n",
      "These commands were executed:\n",
      ">>> from __future__ import division\n",
      ">>> from sympy import *\n",
      ">>> x, y, z, t = symbols('x y z t')\n",
      ">>> k, m, n = symbols('k m n', integer=True)\n",
      ">>> f, g, h = symbols('f g h', cls=Function)\n",
      ">>> init_printing()\n",
      "\n",
      "Documentation can be found at https://docs.sympy.org/1.4/\n",
      "\n"
     ]
    }
   ],
   "source": [
    "from sympy import *\n",
    "init_session()"
   ]
  },
  {
   "cell_type": "code",
   "execution_count": 29,
   "metadata": {},
   "outputs": [
    {
     "data": {
      "image/png": "[encoded data removed]",
      "text/latex": [
       "$\\displaystyle \\sum_{n=1}^{100} n = 5050$"
      ],
      "text/plain": [
       " 100          \n",
       " ___          \n",
       " ╲            \n",
       "  ╲   n       \n",
       "  ╱     = 5050\n",
       " ╱            \n",
       " ‾‾‾          \n",
       "n = 1         "
      ]
     },
     "execution_count": 29,
     "metadata": {},
     "output_type": "execute_result"
    }
   ],
   "source": [
    "Eq(Sum(n,(n,1,100)), Sum(n,(n,1,100)).doit())"
   ]
  },
  {
   "cell_type": "code",
   "execution_count": 32,
   "metadata": {},
   "outputs": [
    {
     "data": {
      "image/png": "[encoded data removed]",
      "text/latex": [
       "$\\displaystyle \\prod_{n=1}^{100} n = 93326215443944152681699238856266700490715968264381621468592963895217599993229915608941463976156518286253697920827223758251185210916864000000000000000000000000$"
      ],
      "text/plain": [
       " 100                                                                          \n",
       "─┬─┬─                                                                         \n",
       " │ │  n = 93326215443944152681699238856266700490715968264381621468592963895217\n",
       " │ │                                                                          \n",
       "n = 1                                                                         \n",
       "\n",
       "                                                                              \n",
       "                                                                              \n",
       "599993229915608941463976156518286253697920827223758251185210916864000000000000\n",
       "                                                                              \n",
       "                                                                              \n",
       "\n",
       "            \n",
       "            \n",
       "000000000000\n",
       "            \n",
       "            "
      ]
     },
     "execution_count": 32,
     "metadata": {},
     "output_type": "execute_result"
    }
   ],
   "source": [
    "Eq(Product(n, (n,1,100)), Product(n, (n,1,100)).doit())"
   ]
  },
  {
   "cell_type": "code",
   "execution_count": 36,
   "metadata": {},
   "outputs": [
    {
     "data": {
      "image/png": "[encoded data removed]",
      "text/latex": [
       "$\\displaystyle 93326215443944152681699238856266700490715968264381621468592963895217599993229915608941463976156518286253697920827223758251185210916864000000000000000000000000$"
      ],
      "text/plain": [
       "933262154439441526816992388562667004907159682643816214685929638952175999932299\n",
       "156089414639761565182862536979208272237582511852109168640000000000000000000000\n",
       "00"
      ]
     },
     "execution_count": 36,
     "metadata": {},
     "output_type": "execute_result"
    }
   ],
   "source": [
    "factorial(100)"
   ]
  },
  {
   "cell_type": "code",
   "execution_count": 30,
   "metadata": {},
   "outputs": [
    {
     "data": {
      "image/png": "[encoded data removed]",
      "text/latex": [
       "$\\displaystyle 5050$"
      ],
      "text/plain": [
       "5050"
      ]
     },
     "execution_count": 30,
     "metadata": {},
     "output_type": "execute_result"
    }
   ],
   "source": [
    "L1 = list(range(1,101,1))\n",
    "functools.reduce(operator.add, L1)"
   ]
  },
  {
   "cell_type": "code",
   "execution_count": 34,
   "metadata": {},
   "outputs": [],
   "source": [
    "L1 = list(range(1,101,1))\n",
    "I = functools.reduce(operator.mul, L1)"
   ]
  },
  {
   "cell_type": "code",
   "execution_count": 35,
   "metadata": {},
   "outputs": [
    {
     "data": {
      "image/png": "[encoded data removed]",
      "text/latex": [
       "$\\displaystyle 93326215443944152681699238856266700490715968264381621468592963895217599993229915608941463976156518286253697920827223758251185210916864000000000000000000000000$"
      ],
      "text/plain": [
       "933262154439441526816992388562667004907159682643816214685929638952175999932299\n",
       "156089414639761565182862536979208272237582511852109168640000000000000000000000\n",
       "00"
      ]
     },
     "execution_count": 35,
     "metadata": {},
     "output_type": "execute_result"
    }
   ],
   "source": [
    "I"
   ]
  },
  {
   "cell_type": "code",
   "execution_count": 37,
   "metadata": {},
   "outputs": [],
   "source": [
    "# %load script1.py\n",
    "import sys\n",
    "print(sys.path)\n",
    "x = 2\n",
    "print(2**33)"
   ]
  },
  {
   "cell_type": "code",
   "execution_count": 38,
   "metadata": {},
   "outputs": [
    {
     "data": {
      "text/plain": [
       "['import sys\\n', 'print(sys.path)\\n', 'x = 2\\n', 'print(2**33)']"
      ]
     },
     "execution_count": 38,
     "metadata": {},
     "output_type": "execute_result"
    }
   ],
   "source": [
    "list(open('script1.py'))"
   ]
  },
  {
   "cell_type": "code",
   "execution_count": 39,
   "metadata": {},
   "outputs": [
    {
     "data": {
      "text/plain": [
       "('import sys\\n', 'print(sys.path)\\n', 'x = 2\\n', 'print(2**33)')"
      ]
     },
     "execution_count": 39,
     "metadata": {},
     "output_type": "execute_result"
    }
   ],
   "source": [
    "tuple(open('script1.py'))"
   ]
  },
  {
   "cell_type": "code",
   "execution_count": 40,
   "metadata": {},
   "outputs": [],
   "source": [
    "a, b, c, d= open('script1.py')"
   ]
  },
  {
   "cell_type": "code",
   "execution_count": 41,
   "metadata": {},
   "outputs": [
    {
     "data": {
      "text/plain": [
       "('import sys\\n', 'print(2**33)')"
      ]
     },
     "execution_count": 41,
     "metadata": {},
     "output_type": "execute_result"
    }
   ],
   "source": [
    "a, d"
   ]
  },
  {
   "cell_type": "code",
   "execution_count": 42,
   "metadata": {},
   "outputs": [],
   "source": [
    "a, *b = open('script1.py')"
   ]
  },
  {
   "cell_type": "code",
   "execution_count": 43,
   "metadata": {},
   "outputs": [
    {
     "data": {
      "text/plain": [
       "(str, list)"
      ]
     },
     "execution_count": 43,
     "metadata": {},
     "output_type": "execute_result"
    }
   ],
   "source": [
    "type(a), type(b)"
   ]
  },
  {
   "cell_type": "code",
   "execution_count": 45,
   "metadata": {},
   "outputs": [
    {
     "name": "stdout",
     "output_type": "stream",
     "text": [
      "import sys\n",
      "\n",
      "\n",
      "\n",
      "['print(sys.path)\\n', 'x = 2\\n', 'print(2**33)']\n"
     ]
    }
   ],
   "source": [
    "print(a); print('\\n'); print(b)"
   ]
  },
  {
   "cell_type": "code",
   "execution_count": 53,
   "metadata": {},
   "outputs": [
    {
     "data": {
      "text/plain": [
       "{'import sys\\n', 'print(2**33)', 'print(sys.path)\\n', 'x = 2\\n'}"
      ]
     },
     "execution_count": 53,
     "metadata": {},
     "output_type": "execute_result"
    }
   ],
   "source": [
    "set(open('script1.py'))"
   ]
  },
  {
   "cell_type": "code",
   "execution_count": 54,
   "metadata": {},
   "outputs": [
    {
     "data": {
      "text/plain": [
       "\u001b[1;31mInit signature:\u001b[0m \u001b[0mset\u001b[0m\u001b[1;33m(\u001b[0m\u001b[0mself\u001b[0m\u001b[1;33m,\u001b[0m \u001b[1;33m/\u001b[0m\u001b[1;33m,\u001b[0m \u001b[1;33m*\u001b[0m\u001b[0margs\u001b[0m\u001b[1;33m,\u001b[0m \u001b[1;33m**\u001b[0m\u001b[0mkwargs\u001b[0m\u001b[1;33m)\u001b[0m\u001b[1;33m\u001b[0m\u001b[1;33m\u001b[0m\u001b[0m\n",
       "\u001b[1;31mDocstring:\u001b[0m     \n",
       "set() -> new empty set object\n",
       "set(iterable) -> new set object\n",
       "\n",
       "Build an unordered collection of unique elements.\n",
       "\u001b[1;31mType:\u001b[0m           type\n",
       "\u001b[1;31mSubclasses:\u001b[0m     AssumptionsContext\n"
      ]
     },
     "metadata": {},
     "output_type": "display_data"
    }
   ],
   "source": [
    "set?"
   ]
  },
  {
   "cell_type": "code",
   "execution_count": 55,
   "metadata": {},
   "outputs": [
    {
     "data": {
      "image/png": "[encoded data removed]",
      "text/latex": [
       "$\\displaystyle \\left\\{\\right\\}$"
      ],
      "text/plain": [
       "set()"
      ]
     },
     "execution_count": 55,
     "metadata": {},
     "output_type": "execute_result"
    }
   ],
   "source": [
    "set()"
   ]
  },
  {
   "cell_type": "code",
   "execution_count": 56,
   "metadata": {},
   "outputs": [
    {
     "data": {
      "image/png": "[encoded data removed]",
      "text/latex": [
       "$\\displaystyle \\left[ 1, \\  2, \\  3, \\  4, \\  5, \\  6, \\  7, \\  8, \\  9, \\  10, \\  11, \\  12, \\  13, \\  14, \\  15, \\  16, \\  17, \\  18, \\  19, \\  20, \\  21, \\  22, \\  23, \\  24, \\  25, \\  26, \\  27, \\  28, \\  29, \\  30, \\  31, \\  32, \\  33, \\  34, \\  35, \\  36, \\  37, \\  38, \\  39, \\  40, \\  41, \\  42, \\  43, \\  44, \\  45, \\  46, \\  47, \\  48, \\  49, \\  50, \\  51, \\  52, \\  53, \\  54, \\  55, \\  56, \\  57, \\  58, \\  59, \\  60, \\  61, \\  62, \\  63, \\  64, \\  65, \\  66, \\  67, \\  68, \\  69, \\  70, \\  71, \\  72, \\  73, \\  74, \\  75, \\  76, \\  77, \\  78, \\  79, \\  80, \\  81, \\  82, \\  83, \\  84, \\  85, \\  86, \\  87, \\  88, \\  89, \\  90, \\  91, \\  92, \\  93, \\  94, \\  95, \\  96, \\  97, \\  98, \\  99, \\  100\\right]$"
      ],
      "text/plain": [
       "[1, 2, 3, 4, 5, 6, 7, 8, 9, 10, 11, 12, 13, 14, 15, 16, 17, 18, 19, 20, 21, 22\n",
       ", 23, 24, 25, 26, 27, 28, 29, 30, 31, 32, 33, 34, 35, 36, 37, 38, 39, 40, 41, \n",
       "42, 43, 44, 45, 46, 47, 48, 49, 50, 51, 52, 53, 54, 55, 56, 57, 58, 59, 60, 61\n",
       ", 62, 63, 64, 65, 66, 67, 68, 69, 70, 71, 72, 73, 74, 75, 76, 77, 78, 79, 80, \n",
       "81, 82, 83, 84, 85, 86, 87, 88, 89, 90, 91, 92, 93, 94, 95, 96, 97, 98, 99, 10\n",
       "0]"
      ]
     },
     "execution_count": 56,
     "metadata": {},
     "output_type": "execute_result"
    }
   ],
   "source": [
    "L1"
   ]
  },
  {
   "cell_type": "code",
   "execution_count": 60,
   "metadata": {},
   "outputs": [
    {
     "name": "stdout",
     "output_type": "stream",
     "text": [
      "{'20', '61', '4', '38', '40', '26', '78', '93', '46', '64', '35', '56', '85', '12', '36', '57', '86', '7', '90', '91', '5', '69', '54', '25', '74', '62', '75', '39', '60', '28', '8', '16', '47', '23', '34', '88', '37', '63', '18', '10', '13', '41', '79', '100', '52', '65', '99', '32', '72', '45', '98', '89', '76', '1', '96', '67', '59', '77', '95', '84', '24', '11', '27', '81', '2', '66', '9', '29', '6', '97', '83', '22', '92', '44', '31', '82', '68', '30', '55', '33', '73', '3', '42', '19', '58', '15', '94', '70', '53', '51', '14', '21', '71', '80', '48', '17', '43', '87', '50', '49'}\n"
     ]
    }
   ],
   "source": [
    "print(set(L2)) #对于字符串来说，它返回的是无序的"
   ]
  },
  {
   "cell_type": "code",
   "execution_count": 61,
   "metadata": {},
   "outputs": [
    {
     "name": "stdout",
     "output_type": "stream",
     "text": [
      "{1, 2, 3, 4, 5, 6, 7, 8, 9, 10, 11, 12, 13, 14, 15, 16, 17, 18, 19, 20, 21, 22, 23, 24, 25, 26, 27, 28, 29, 30, 31, 32, 33, 34, 35, 36, 37, 38, 39, 40, 41, 42, 43, 44, 45, 46, 47, 48, 49, 50, 51, 52, 53, 54, 55, 56, 57, 58, 59, 60, 61, 62, 63, 64, 65, 66, 67, 68, 69, 70, 71, 72, 73, 74, 75, 76, 77, 78, 79, 80, 81, 82, 83, 84, 85, 86, 87, 88, 89, 90, 91, 92, 93, 94, 95, 96, 97, 98, 99, 100}\n"
     ]
    }
   ],
   "source": [
    "print(set(L1)) #对于整数来说，它返回的是有序的"
   ]
  },
  {
   "cell_type": "markdown",
   "metadata": {},
   "source": [
    "### 创造的是一个无序的元素独一无二的集合，而且作用于不同的对象的话，得到的结果也是不一样的"
   ]
  },
  {
   "cell_type": "code",
   "execution_count": 62,
   "metadata": {},
   "outputs": [
    {
     "data": {
      "text/plain": [
       "{'a', 'f', 'g', 'j', 's'}"
      ]
     },
     "execution_count": 62,
     "metadata": {},
     "output_type": "execute_result"
    }
   ],
   "source": [
    "set('asafgjasa')  # 字符串"
   ]
  },
  {
   "cell_type": "code",
   "execution_count": 63,
   "metadata": {},
   "outputs": [],
   "source": [
    "D = dict(enumerate(L2))"
   ]
  },
  {
   "cell_type": "code",
   "execution_count": 66,
   "metadata": {},
   "outputs": [
    {
     "data": {
      "image/png": "[encoded data removed]",
      "text/latex": [
       "$\\displaystyle \\left\\{0, 1, 2, 3, 4, 5, 6, 7, 8, 9, 10, 11, 12, 13, 14, 15, 16, 17, 18, 19, 20, 21, 22, 23, 24, 25, 26, 27, 28, 29, 30, 31, 32, 33, 34, 35, 36, 37, 38, 39, 40, 41, 42, 43, 44, 45, 46, 47, 48, 49, 50, 51, 52, 53, 54, 55, 56, 57, 58, 59, 60, 61, 62, 63, 64, 65, 66, 67, 68, 69, 70, 71, 72, 73, 74, 75, 76, 77, 78, 79, 80, 81, 82, 83, 84, 85, 86, 87, 88, 89, 90, 91, 92, 93, 94, 95, 96, 97, 98, 99\\right\\}$"
      ],
      "text/plain": [
       "{0, 1, 2, 3, 4, 5, 6, 7, 8, 9, 10, 11, 12, 13, 14, 15, 16, 17, 18, 19, 20, 21,\n",
       " 22, 23, 24, 25, 26, 27, 28, 29, 30, 31, 32, 33, 34, 35, 36, 37, 38, 39, 40, 4\n",
       "1, 42, 43, 44, 45, 46, 47, 48, 49, 50, 51, 52, 53, 54, 55, 56, 57, 58, 59, 60,\n",
       " 61, 62, 63, 64, 65, 66, 67, 68, 69, 70, 71, 72, 73, 74, 75, 76, 77, 78, 79, 8\n",
       "0, 81, 82, 83, 84, 85, 86, 87, 88, 89, 90, 91, 92, 93, 94, 95, 96, 97, 98, 99}"
      ]
     },
     "execution_count": 66,
     "metadata": {},
     "output_type": "execute_result"
    }
   ],
   "source": [
    "set(D) # set它把字典当中的关键词提取出来，创造新的集合"
   ]
  },
  {
   "cell_type": "code",
   "execution_count": 67,
   "metadata": {},
   "outputs": [],
   "source": [
    "D2 = {i : i for i in L2}"
   ]
  },
  {
   "cell_type": "code",
   "execution_count": 70,
   "metadata": {},
   "outputs": [
    {
     "name": "stdout",
     "output_type": "stream",
     "text": [
      "{'76', '20', '1', '61', '96', '4', '59', '38', '40', '67', '77', '84', '95', '24', '26', '78', '93', '11', '46', '27', '64', '81', '2', '66', '9', '29', '6', '97', '83', '35', '56', '85', '12', '22', '92', '36', '44', '57', '86', '7', '31', '90', '91', '5', '82', '68', '30', '69', '54', '25', '74', '55', '33', '62', '75', '39', '73', '60', '3', '28', '42', '8', '16', '47', '23', '19', '34', '58', '88', '15', '37', '94', '63', '70', '53', '18', '10', '51', '14', '21', '71', '13', '41', '80', '79', '100', '48', '52', '65', '99', '17', '43', '32', '87', '72', '45', '50', '49', '98', '89'}"
     ]
    }
   ],
   "source": [
    "print(set(D2),end='')"
   ]
  },
  {
   "cell_type": "code",
   "execution_count": 72,
   "metadata": {},
   "outputs": [
    {
     "name": "stdout",
     "output_type": "stream",
     "text": [
      "{'76', '20', '1', '61', '96', '4', '59', '38', '40', '67', '77', '84', '95', '24', '26', '78', '93', '11', '46', '27', '64', '81', '2', '66', '9', '29', '6', '97', '83', '35', '56', '85', '12', '22', '92', '36', '44', '57', '86', '7', '31', '90', '91', '5', '82', '68', '30', '69', '54', '25', '74', '55', '33', '62', '75', '39', '73', '60', '3', '28', '42', '8', '16', '47', '23', '19', '34', '58', '88', '15', '37', '94', '63', '70', '53', '18', '10', '51', '14', '21', '71', '13', '41', '80', '79', '100', '48', '52', '65', '99', '17', '43', '32', '87', '72', '45', '50', '49', '98', '89'}\n"
     ]
    }
   ],
   "source": [
    "print(set(set(D2))) # set为什么返回的结果与预想不一样"
   ]
  },
  {
   "cell_type": "code",
   "execution_count": 76,
   "metadata": {},
   "outputs": [
    {
     "name": "stdout",
     "output_type": "stream",
     "text": [
      "{'20', '61', '4', '38', '40', '26', '78', '93', '46', '64', '35', '56', '85', '12', '36', '57', '86', '7', '90', '91', '5', '69', '54', '25', '74', '62', '75', '39', '60', '28', '8', '16', '47', '23', '34', '88', '37', '63', '18', '10', '13', '41', '79', '100', '52', '65', '99', '32', '72', '45', '98', '89', '76', '1', '96', '67', '59', '77', '95', '84', '24', '11', '27', '81', '2', '66', '9', '29', '6', '97', '83', '22', '92', '44', '31', '82', '68', '30', '55', '33', '73', '3', '42', '19', '58', '15', '94', '70', '53', '51', '14', '21', '71', '80', '48', '17', '43', '87', '50', '49'}\n"
     ]
    }
   ],
   "source": [
    "print(set(tuple(L2))) # 元组"
   ]
  },
  {
   "cell_type": "code",
   "execution_count": 81,
   "metadata": {},
   "outputs": [
    {
     "name": "stdout",
     "output_type": "stream",
     "text": [
      "{'m', 'a', 'e', 's', 'o', 'p', 'h', 'r', ' ', '\\n', 'v', 'u', ',', 'c', 'g', 'b', '—', 'l', 'n', '’', 'f', 'd', 't', 'I', 'S', 'x', 'i', 'k', 'y', 'w'}"
     ]
    }
   ],
   "source": [
    "print(set(\"\"\"Strictly speaking, the max and min functions can be applied to files as well—they automatically use the iteration protocol to scan the file and pick out the lines with the highest\n",
    "and lowest string values, respectively though I’ll leave valid use cases to your\n",
    "imagination\"\"\"), end='')"
   ]
  },
  {
   "cell_type": "code",
   "execution_count": 80,
   "metadata": {},
   "outputs": [
    {
     "name": "stdout",
     "output_type": "stream",
     "text": [
      "{'M', 'F', '还', '：', '北', '病', '似', 'R', '能', '界', '来', '触', '广', '畜', 'v', '源', '别', '究', '本', '石', '瞬', '含', 'l', '人', '离', '7', '丽', '四', '齿', '镜', '辅', '何', '功', '物', '鉴', '有', '暴', '枝', 'r', '疾', '野', '监', '将', '如', '构', 'K', 'd', '残', '根', '起', '织', '冠', '出', 'm', '酸', '水', '1', '心', '染', '鸟', '平', '均', '改', 'p', '适', '拥', '大', '2', '9', '属', '低', '续', '选', '三', '附', '以', '携', '介', '彼', '移', '提', '亲', 'E', '想', '历', '啮', '文', '胞', '建', '或', '天', '松', 'o', 'h', '晶', '其', '等', 'C', 'b', '征', '小', '类', '列', '重', '.', '宿', '苷', '增', '处', 'I', '结', '析', '面', '取', '研', '主', '团', '致', '台', '；', '述', '都', 'u', 'B', '炎', '此', '显', '名', '时', '所', '第', '即', '赛', '察', '必', '塑', '明', '血', '进', '欧', '论', '就', '8', '制', '守', '）', '具', '导', '股', 'γ', '否', '转', '序', '耳', 'D', '毒', '参', 'N', '观', '是', '膜', 'P', '共', '突', '因', '院', 't', '防', '之', '管', '肺', '号', '而', '状', '助', '据', '达', '世', '随', '竞', '记', '6', '经', '不', 'A', 'L', 'T', '点', '阳', '疫', '协', '除', '末', '尤', '比', '造', '分', '蝙', '两', '。', 'x', '关', 'i', '祖', '端', '仍', '-', '几', '3', '换', '产', '”', '体', '紧', '初', '长', '测', '鼠', '则', '先', '乎', '择', '着', '省', '云', '对', '伪', '特', '迁', '它', '患', '个', '回', '们', '由', '尽', '问', '得', '样', 'a', '酶', '入', '命', '性', '用', '华', '狸', '化', '确', '这', '期', '已', '找', '情', '些', '东', '成', '只', '0', '自', '很', '收', '他', '应', '单', '遗', '识', '冷', '差', '然', '，', '种', '融', '存', '某', '模', '步', '及', '视', '中', '印', '块', '香', '合', 'δ', '持', '行', '基', '包', '电', '无', '于', '最', '链', '利', '外', '品', '义', '在', '区', '支', ' ', '题', '总', '张', '后', '失', '言', '保', '预', '上', '感', '受', '位', '到', '刺', '国', '检', '评', '向', '驱', '纪', '表', '度', '播', '同', '新', '了', '展', '生', '非', '群', '范', '示', 'S', '与', '流', '更', '扩', '使', '骤', '质', '年', '（', '程', '原', '倍', '蛋', '现', '“', '敏', '键', 'c', '会', '节', '军', '少', '理', '接', '湖', '可', '作', 'V', '试', '综', '港', '该', '和', '白', '缺', '互', '过', '域', '引', '4', '为', '维', '调', '\\n', '异', '潜', '队', 'n', '压', '也', 'Q', '系', '数', '法', '推', '5', 'H', '％', '率', '解', 'w', '、', '跃', '核', '要', 'G', '的', '通', '菊', '头', 'e', '但', '株', '并', '洞', '细', '集', '氨', '前', '果', '内', '亚', '师', '直', '易', '括', '估', '家', '强', '南', '员', '下', '福', '严', '份', '量', '登', '组', '传', '间', '子', '地', '力', 's', '正', '效', '代', '洲', '身', 'O', '动', '备', 'Y', '一', '武', '况', '高', '态', '变', '被', '西', '发', '者', '带', 'α', '获', '限', '授', '证', 'g', '型', '蝠', '且', '冻', '相', '科', '学', '常', '素', '定', '教', 'β', '多', '微', '从', '汉', 'k', 'y', '涉'}"
     ]
    }
   ],
   "source": [
    "print(set(\"\"\"石正丽等中国科学家发现：进化的“军备竞赛”（arms race）塑造了病毒及其受体的多样性。\n",
    "\n",
    "鉴定涉及种间传播的关键残基对于预测潜在的病原体、了解病毒如何从野生动物向人类跃迁，非常重要。\n",
    "\n",
    "以前，研究者已经在中华菊头蝠中鉴定出具有不同遗传特征的SARS相关冠状病毒（SARSr-CoV）。而这份最新研究还展现了中华菊头蝠种群中蝙蝠受体ACE2（血管紧张素转化酶2）的高度多样性。这些ACE2变体支持SARS病毒和SARS相关冠状病毒的感染，但对不同刺突蛋白具有不同的结合亲和力。\n",
    "\n",
    "SARS相关冠状病毒刺突蛋白对人ACE2拥有更高结合亲和力，显示这些病毒具有向人类跃迁传染的能力。ACE2和SARS相关冠状病毒刺突蛋白之间的界面处残基的正向选择，表明它们之间存在长期和持续的协同进化动力学。因此，持续监视蝙蝠中的这一组病毒对于预防下一个SARS样疾病非常必要。\n",
    "\n",
    "以上研究来自中科院武汉病毒所石正丽团队与福建师范大学生命科学学院欧阳松应教授在预印本平台 bioRxiv 上发表的论文：Evolutionary arms race between virus and host drives genetic diversity in bat SARS related coronavirus spike genes。\n",
    "\n",
    "中华菊头蝠是SARS病毒的宿主，其体内还携带多种SARS相关冠状病毒。这些病毒具有高度的遗传多样性，尤其是病毒的刺突蛋白基因。尽管有着不同程度的变异，一些蝙蝠SARS相关冠状病毒仍可以利用人类受体ACE2进入人体细胞。研究者推测，蝙蝠的ACE2受体和SARS相关冠状病毒刺突蛋白之间，有着相互作用，而这驱动了SARS相关冠状病毒的遗传多样性。\n",
    "\n",
    "研究者鉴定出了一系列中华菊头蝠ACE2变异体，这些变异体中有一些与SARS-CoV刺突蛋白有相互作用的多态位点。携带不同刺突蛋白的伪病毒或SARS相关冠状病毒，在表达了蝙蝠ACE2变体的细胞中有着不同的瞬时感染效率。通过测定SARS病毒、SARS相关冠状病毒刺突蛋白与蝙蝠受体、人类受体分子之间的结合亲和力，能观察到相关的结果。\n",
    "\n",
    "所有被测试的蝙蝠SARS相关冠状病毒刺突蛋白与人ACE2的结合亲和力，均高于其对蝙蝠ACE2的结合亲和力。不过SARS相关冠状病毒刺突蛋白与人ACE2的结合亲和力，比SARS-CoV刺突蛋白与人ACE的亲和力低10倍。\n",
    "\n",
    "结构建模表明，刺突和ACE2之间的结合亲和力差异可能是由于这两个分子界面中某些关键残基的改变而引起。分子进化分析表明，这些残基处于强的正选择。\n",
    "\n",
    "这些结果表明SARS新冠病毒刺突蛋白和蝙蝠ACE2可能随着时间的推移而互相进化，并经历彼此的选择压力，从而触发了进化的“军备竞赛”动力学。这进一步证明了，中华菊头蝠是SARS相关冠状病毒的天然宿主。\n",
    "\n",
    "冠状病毒是包膜病毒，包含单股正链RNA。该亚科有四个属，即α、β、γ和δ。α冠状病毒和β冠状病毒起源于蝙蝠或啮齿动物，而γ冠状病毒和δ冠状病毒起源于鸟类。自21世纪初以来，三种β型冠状病毒已引起人类严重肺炎暴发。分别是SARS-CoV，MERS-CoV和SARS-CoV-2。\n",
    "\n",
    "SARS-CoV-2引发的疫情使人们回想起17年前发生的SARS疫情。SARS是一种人畜共患病，在接下来的几年中，科学家从中国和欧洲不同地区的蝙蝠中检测或分离出了具有不同遗传特征的75种SARS相关冠状病毒（SARSr-CoV）。\n",
    "\n",
    "蝙蝠SARS相关冠状病毒与人类和果子狸的SARS-CoVs有96％的核苷酸序列相似度，其中可变区最多的是刺突蛋白（S）和辅助蛋白ORF3和ORF8。此外，研究者已经确定了不同蝙蝠SARS相关冠状病毒基因组中能找到SARS-CoV的所有基因构建基块，这表明SARS病毒的祖先是通过蝙蝠SARS相关冠状病毒基因组的重组而来，其起源于蝙蝠。\n",
    "\n",
    "病毒感染的第一步是识别细胞受体，这也是必不可少的步骤。冠状病毒的进入是由病毒刺突蛋白（Spike，S）和细胞表面受体之间的特异性相互作用介导，然后病毒与宿主膜之间发生融合。冠状病毒刺突蛋白在功能上分为两个亚基：细胞附着亚基（S1）和膜融合亚基（S2）。 S1区域包含N端结构域（NTD）和C端结构域（CTD）；两者均可用于冠状病毒受体结合（RBD）。\n",
    "\n",
    "对于SARS-CoV，其S1-CTD作为RBD与细胞的受体即血管紧张素转换酶2（ACE2）结合。冷冻电镜和晶体结构分析，确定了SARS病毒的S-RBD与人ACE2之间界面中的一些关键残基。\n",
    "\n",
    "根据S蛋白的大小，蝙蝠SARS相关冠状病毒可以分为两个不同的进化枝。进化枝1包含病毒具有与SARS病毒大小相同的刺突蛋白。而由于5、12或13个氨基酸缺失，属于进化枝2的病毒其刺突蛋白则比SARS病毒的小。\n",
    "\n",
    "尽管RBD有所不同，所有进化枝1毒株都可以使用ACE2进入细胞，而进化枝2毒株则由于上述缺失无法直接进入。这些结果表明，就基因组相似性和ACE2的使用而言，进化枝1的成员很可能是SARS病毒的直接来源。\n",
    "\n",
    "ACE2在功能上分为两个结构域：N末端结构域参与SARS-CoV结合，C末端结构域参与心功能的调节。先前的结果表明，不同来源的ACE2的C末端结构域相对保守，而N末端结构域在物种间显示出更多的多样性。此前已证明SARS病毒可以利用水鼠耳蝠的ACE2和中华菊头蝠的ACE2。RBD结合位点中的微小突变，可将ACE2从对SARS-CoV结合不易感转变为易感。由于属于进化枝1的所有SARS相关冠状病毒都可从中华菊头蝠体内提取出来，而且也都可以利用ACE2，因此研究者提出问题：中华菊头蝠ACE2中的变异是否可能有导致了蝙蝠SARS相关冠状病毒的多样性。\n",
    "\n",
    "研究团队研究了中华菊头蝠ACE2基因的多态性，并通过分子进化分析，蛋白质亲和力测定和病毒感染测定相结合，评估了它们对不同蝙蝠SARS相关冠状病毒刺突蛋白的敏感性和结合亲和力。\n",
    "\n",
    "结果表明，SARS相关冠状病毒的刺突蛋白多样性可能会受到中华菊头蝠ACE2变体的自然选择压力； 在长期共存期间，SARSr-CoV刺突蛋白可能会被中华菊头蝠的ACE2选择，以维持自身遗传多样性并适合中华菊头蝠的种群。\n",
    "\n",
    "ACE2基因在中华菊头蝠种群中表现出高度多态性\n",
    "\n",
    "根据蝙蝠SARS相关冠状病毒的流行情况以及样品组织的可用性和质量，研究者使用来自三个省（湖北，广东和云南）的样品进行ACE2扩增。\n",
    "\n",
    "除了团队先前测序过的蝙蝠ACE2（分别从湖北，广西和云南收集的样本ID 832、411和3357）和其他蝙蝠ACE2（GenBank登记号ACT66275，这是从香港收集的样本）外，研究者从21只中华菊头蝠蝠个体中获得了ACE2基因序列：湖北有5个，广东有9个，云南有7个。这些蝙蝠ACE2序列在其物种内显示98-100％的氨基酸同一性，与人ACE2的显示80-81％的氨基酸同一性。\n",
    "\n",
    "这些蝙蝠ACE2在N端区域观察到了主要变化，包括一些先前已确定与SARS病毒的 S-RBD接触的残基。根据非同义SNP分析鉴定出8个残基，包括24、27、31、34、35、38.41和42。这8个残基的组合产生了8个等位基因，包括RIESEDYK，LIEFENYQ，RTESENYQ，RIKSEDYQ，QIKSEDYQ， RMTSEDYQ，EMKT KDHQ和EIKT EIKTKDHQ，分别命名为等位基因1-8。\n",
    "\n",
    "除了先前研究（等位基因4、7和8）中的ACE2基因型数据外，研究者在中华菊头蝠种群中还鉴定出5个新的等位基因。“等位基因2”在两个省的样本中有发现，“等位基因4”在3个省中有发现，而其他等位基因似乎在地理上受到限制。总之，在广东发现了3个等位基因（4、6和8），云南发现了4个等位基因（1、2、4和7），在湖北发现了3个等位基因（2、4和5），在广西和香港分别找到了1个等位基因。在发现SARS病毒直接祖先的云南一蝙蝠洞中，研究者发现了4个等位基因共存。\n",
    "\n",
    "综上所述，这些数据表明ACE2变异体已经在不同地区的中华菊头蝠种群中长期存在。与SARS病毒的S-RBD直接接触的位点的取代，表明它们在SARS病毒的进化和传播过程中可能具有重要功能。\"\"\"), end ='')"
   ]
  },
  {
   "cell_type": "code",
   "execution_count": 82,
   "metadata": {},
   "outputs": [
    {
     "data": {
      "text/plain": [
       "{'import sys\\n', 'print(2**33)', 'print(sys.path)\\n', 'x = 2\\n'}"
      ]
     },
     "execution_count": 82,
     "metadata": {},
     "output_type": "execute_result"
    }
   ],
   "source": [
    "{ line for line in open('script1.py')}"
   ]
  },
  {
   "cell_type": "code",
   "execution_count": 83,
   "metadata": {},
   "outputs": [
    {
     "data": {
      "image/png": "[encoded data removed]",
      "text/latex": [
       "$\\displaystyle \\left( 105, \\  112, \\  120\\right)$"
      ],
      "text/plain": [
       "(105, 112, 120)"
      ]
     },
     "execution_count": 83,
     "metadata": {},
     "output_type": "execute_result"
    }
   ],
   "source": [
    "ord('i'), ord('p'), ord('x')"
   ]
  },
  {
   "cell_type": "code",
   "execution_count": 85,
   "metadata": {},
   "outputs": [],
   "source": [
    "# %load script1.py\n",
    "import sys\n",
    "print(sys.path)\n",
    "x = 2\n",
    "print(2**33)"
   ]
  },
  {
   "cell_type": "code",
   "execution_count": 89,
   "metadata": {},
   "outputs": [
    {
     "data": {
      "image/png": "[encoded data removed]",
      "text/latex": [
       "$\\displaystyle \\left( 55, \\  50\\right)$"
      ],
      "text/plain": [
       "(55, 50)"
      ]
     },
     "execution_count": 89,
     "metadata": {},
     "output_type": "execute_result"
    }
   ],
   "source": [
    "ord('7'), ord('2')"
   ]
  },
  {
   "cell_type": "code",
   "execution_count": 90,
   "metadata": {},
   "outputs": [
    {
     "data": {
      "text/plain": [
       "{0: 'import sys\\n', 1: 'print(sys.path)\\n', 2: 'x = 2\\n', 3: 'print(2**33)'}"
      ]
     },
     "execution_count": 90,
     "metadata": {},
     "output_type": "execute_result"
    }
   ],
   "source": [
    "{ix: line for ix, line in enumerate(open('script1.py'))}"
   ]
  },
  {
   "cell_type": "code",
   "execution_count": 99,
   "metadata": {},
   "outputs": [
    {
     "data": {
      "text/plain": [
       "{'print(2**33)', 'print(sys.path)\\n'}"
      ]
     },
     "execution_count": 99,
     "metadata": {},
     "output_type": "execute_result"
    }
   ],
   "source": [
    "{line for line in open('script1.py') if line[0] == 'p'}"
   ]
  },
  {
   "cell_type": "code",
   "execution_count": 100,
   "metadata": {},
   "outputs": [
    {
     "data": {
      "text/plain": [
       "{0: 'import sys\\n', 1: 'print(sys.path)\\n', 2: 'x = 2\\n', 3: 'print(2**33)'}"
      ]
     },
     "execution_count": 100,
     "metadata": {},
     "output_type": "execute_result"
    }
   ],
   "source": [
    "{ix: line for (ix, line) in enumerate(open('script1.py'))}"
   ]
  },
  {
   "cell_type": "code",
   "execution_count": 106,
   "metadata": {},
   "outputs": [
    {
     "data": {
      "image/png": "[encoded data removed]",
      "text/latex": [
       "$\\displaystyle 115$"
      ],
      "text/plain": [
       "115"
      ]
     },
     "execution_count": 106,
     "metadata": {},
     "output_type": "execute_result"
    }
   ],
   "source": [
    "ord('s') # 函数  "
   ]
  },
  {
   "cell_type": "code",
   "execution_count": 114,
   "metadata": {},
   "outputs": [],
   "source": [
    "def f(a, b,c, d):print(a,b,c,d,sep=',')"
   ]
  },
  {
   "cell_type": "code",
   "execution_count": 115,
   "metadata": {},
   "outputs": [
    {
     "name": "stdout",
     "output_type": "stream",
     "text": [
      "1,2,3,4\n"
     ]
    }
   ],
   "source": [
    "f(1,2,3,4)"
   ]
  },
  {
   "cell_type": "code",
   "execution_count": 119,
   "metadata": {},
   "outputs": [
    {
     "name": "stdout",
     "output_type": "stream",
     "text": [
      "1,2,3,45\n"
     ]
    }
   ],
   "source": [
    "f(*[1,2,3,45]) # a, b, c, d是单个参数"
   ]
  },
  {
   "cell_type": "code",
   "execution_count": 120,
   "metadata": {},
   "outputs": [],
   "source": [
    "a, *b = open('script1.py')"
   ]
  },
  {
   "cell_type": "code",
   "execution_count": 121,
   "metadata": {},
   "outputs": [
    {
     "data": {
      "text/plain": [
       "['print(sys.path)\\n', 'x = 2\\n', 'print(2**33)']"
      ]
     },
     "execution_count": 121,
     "metadata": {},
     "output_type": "execute_result"
    }
   ],
   "source": [
    "b"
   ]
  },
  {
   "cell_type": "code",
   "execution_count": 130,
   "metadata": {},
   "outputs": [],
   "source": [
    "def f(a,b,c,d): print(a*2, b*3, c*4, d*5, end='\\n' )"
   ]
  },
  {
   "cell_type": "code",
   "execution_count": 131,
   "metadata": {},
   "outputs": [
    {
     "name": "stdout",
     "output_type": "stream",
     "text": [
      "import sys\n",
      "import sys\n",
      " print(sys.path)\n",
      "print(sys.path)\n",
      "print(sys.path)\n",
      " x = 2\n",
      "x = 2\n",
      "x = 2\n",
      "x = 2\n",
      " print(2**33)print(2**33)print(2**33)print(2**33)print(2**33)\n"
     ]
    }
   ],
   "source": [
    "f(*open('script1.py'))"
   ]
  },
  {
   "cell_type": "code",
   "execution_count": 132,
   "metadata": {},
   "outputs": [],
   "source": [
    "# %load script1.py\n",
    "import sys\n",
    "print(sys.path)\n",
    "x = 2\n",
    "print(2**33)"
   ]
  },
  {
   "cell_type": "code",
   "execution_count": 134,
   "metadata": {},
   "outputs": [
    {
     "data": {
      "text/plain": [
       "<zip at 0x20490a0a788>"
      ]
     },
     "execution_count": 134,
     "metadata": {},
     "output_type": "execute_result"
    }
   ],
   "source": [
    "X = (1,2)\n",
    "Y = (3,4)\n",
    "zip(X,Y)"
   ]
  },
  {
   "cell_type": "code",
   "execution_count": 137,
   "metadata": {},
   "outputs": [
    {
     "data": {
      "image/png": "[encoded data removed]",
      "text/latex": [
       "$\\displaystyle \\left[ \\left( 1, \\  3\\right), \\  \\left( 2, \\  4\\right)\\right]$"
      ],
      "text/plain": [
       "[(1, 3), (2, 4)]"
      ]
     },
     "execution_count": 137,
     "metadata": {},
     "output_type": "execute_result"
    }
   ],
   "source": [
    "tuple(zip(X,Y)); list(zip(X,Y))"
   ]
  },
  {
   "cell_type": "code",
   "execution_count": 138,
   "metadata": {},
   "outputs": [
    {
     "data": {
      "text/plain": [
       "<zip at 0x2048f0d7808>"
      ]
     },
     "execution_count": 138,
     "metadata": {},
     "output_type": "execute_result"
    }
   ],
   "source": [
    "zip(zip(X,Y))"
   ]
  },
  {
   "cell_type": "code",
   "execution_count": 139,
   "metadata": {},
   "outputs": [],
   "source": [
    "A, B = zip(*zip(X,Y))"
   ]
  },
  {
   "cell_type": "code",
   "execution_count": 140,
   "metadata": {},
   "outputs": [
    {
     "name": "stdout",
     "output_type": "stream",
     "text": [
      "(1, 2)\n",
      "(3, 4)\n"
     ]
    }
   ],
   "source": [
    "print(A, end='\\n'); print(B, end='\\n')"
   ]
  },
  {
   "cell_type": "code",
   "execution_count": 145,
   "metadata": {},
   "outputs": [],
   "source": [
    "C, D = zip(X,Y) # X = (1,2) Y = (3,4)"
   ]
  },
  {
   "cell_type": "code",
   "execution_count": 146,
   "metadata": {},
   "outputs": [
    {
     "name": "stdout",
     "output_type": "stream",
     "text": [
      "(1, 3)\n",
      "(2, 4)\n"
     ]
    }
   ],
   "source": [
    "print(C, end='\\n'); print(D, end='\\n')"
   ]
  },
  {
   "cell_type": "code",
   "execution_count": null,
   "metadata": {},
   "outputs": [],
   "source": [
    "A, B = zip(C,D)"
   ]
  },
  {
   "cell_type": "code",
   "execution_count": 147,
   "metadata": {},
   "outputs": [],
   "source": [
    "A, B = zip(zip(X,Y)) #"
   ]
  },
  {
   "cell_type": "code",
   "execution_count": 148,
   "metadata": {},
   "outputs": [
    {
     "name": "stdout",
     "output_type": "stream",
     "text": [
      "((1, 3),)\n",
      "((2, 4),)\n"
     ]
    }
   ],
   "source": [
    "print(A, end='\\n'); print(B, end='\\n')"
   ]
  },
  {
   "cell_type": "code",
   "execution_count": 152,
   "metadata": {},
   "outputs": [],
   "source": [
    "A, B = zip(X,Y)\n",
    "C = A, B"
   ]
  },
  {
   "cell_type": "code",
   "execution_count": 160,
   "metadata": {},
   "outputs": [
    {
     "data": {
      "image/png": "[encoded data removed]",
      "text/latex": [
       "$\\displaystyle \\left( \\left( 1, \\  3\\right), \\  \\left( 2, \\  4\\right)\\right)$"
      ],
      "text/plain": [
       "((1, 3), (2, 4))"
      ]
     },
     "execution_count": 160,
     "metadata": {},
     "output_type": "execute_result"
    }
   ],
   "source": [
    "C"
   ]
  },
  {
   "cell_type": "code",
   "execution_count": 157,
   "metadata": {},
   "outputs": [],
   "source": [
    "E, F= zip(C,)"
   ]
  },
  {
   "cell_type": "code",
   "execution_count": 159,
   "metadata": {},
   "outputs": [
    {
     "name": "stdout",
     "output_type": "stream",
     "text": [
      "((1, 3),)\n",
      "((2, 4),)\n"
     ]
    }
   ],
   "source": [
    "print(E, end='\\n'); print(F, end='\\n')"
   ]
  },
  {
   "cell_type": "markdown",
   "metadata": {},
   "source": [
    "##### 什么叫字典视图对象？"
   ]
  },
  {
   "cell_type": "markdown",
   "metadata": {},
   "source": [
    "### Python3.0中的新的可迭代对象"
   ]
  },
  {
   "cell_type": "markdown",
   "metadata": {},
   "source": [
    "Python 3 的版本比Python2.x 更加强调迭代"
   ]
  },
  {
   "cell_type": "code",
   "execution_count": 168,
   "metadata": {},
   "outputs": [
    {
     "data": {
      "text/plain": [
       "<zip at 0x204909cf908>"
      ]
     },
     "execution_count": 168,
     "metadata": {},
     "output_type": "execute_result"
    }
   ],
   "source": [
    "zip('abc','xyz')  # 在Python3.x中返回的是可迭代的对象，而在2.x版本中返回是一个列表"
   ]
  },
  {
   "cell_type": "code",
   "execution_count": 169,
   "metadata": {},
   "outputs": [
    {
     "data": {
      "text/plain": [
       "[('a', 'x'), ('b', 'y'), ('c', 'z')]"
      ]
     },
     "execution_count": 169,
     "metadata": {},
     "output_type": "execute_result"
    }
   ],
   "source": [
    "list(zip('abc','xyz')) "
   ]
  },
  {
   "cell_type": "markdown",
   "metadata": {},
   "source": [
    "### range迭代器"
   ]
  },
  {
   "cell_type": "code",
   "execution_count": 1,
   "metadata": {},
   "outputs": [
    {
     "data": {
      "text/plain": [
       "range(0, 10)"
      ]
     },
     "execution_count": 1,
     "metadata": {},
     "output_type": "execute_result"
    }
   ],
   "source": [
    "R = range(10)\n",
    "R"
   ]
  },
  {
   "cell_type": "code",
   "execution_count": 2,
   "metadata": {},
   "outputs": [
    {
     "data": {
      "text/plain": [
       "0"
      ]
     },
     "execution_count": 2,
     "metadata": {},
     "output_type": "execute_result"
    }
   ],
   "source": [
    "I = iter(R)\n",
    "next(I)"
   ]
  },
  {
   "cell_type": "code",
   "execution_count": 3,
   "metadata": {},
   "outputs": [
    {
     "data": {
      "text/plain": [
       "(1, 2, 3, 4, 5, 6, 7)"
      ]
     },
     "execution_count": 3,
     "metadata": {},
     "output_type": "execute_result"
    }
   ],
   "source": [
    "next(I), next(I), next(I), next(I), next(I), next(I), next(I)"
   ]
  },
  {
   "cell_type": "markdown",
   "metadata": {},
   "source": [
    "### range 对象只支持迭代，索引，长度函数，它们不支持其他的序列操作"
   ]
  },
  {
   "cell_type": "code",
   "execution_count": 5,
   "metadata": {},
   "outputs": [
    {
     "data": {
      "text/plain": [
       "(10, 0, 9, 8, 9)"
      ]
     },
     "execution_count": 5,
     "metadata": {},
     "output_type": "execute_result"
    }
   ],
   "source": [
    "len(R), R[0], R[-1], next(I), I.__next__()"
   ]
  },
  {
   "cell_type": "markdown",
   "metadata": {},
   "source": [
    "#### 版本偏差，xrange, file.xreadlines() 只适用于python 2.x; range和open在python 3.x取而代之"
   ]
  },
  {
   "cell_type": "code",
   "execution_count": 8,
   "metadata": {},
   "outputs": [
    {
     "data": {
      "text/plain": [
       "(range(0, 10),\n",
       " <map at 0x132246edf88>,\n",
       " <zip at 0x13224512fc8>,\n",
       " <filter at 0x13222875388>)"
      ]
     },
     "execution_count": 8,
     "metadata": {},
     "output_type": "execute_result"
    }
   ],
   "source": [
    "range(10), map(list(range(10)), list(range(10,20))), zip(list(range(10)),list(range(10,20))), filter(bool, open('script1.py'))"
   ]
  },
  {
   "cell_type": "code",
   "execution_count": 12,
   "metadata": {},
   "outputs": [],
   "source": [
    "f = open('script1.py')"
   ]
  },
  {
   "cell_type": "code",
   "execution_count": 13,
   "metadata": {},
   "outputs": [
    {
     "data": {
      "text/plain": [
       "True"
      ]
     },
     "execution_count": 13,
     "metadata": {},
     "output_type": "execute_result"
    }
   ],
   "source": [
    "f is iter(f)"
   ]
  },
  {
   "cell_type": "code",
   "execution_count": 30,
   "metadata": {},
   "outputs": [],
   "source": [
    "R = range(3); M = map(abs, list(range(3,6))); Z = zip(list(range(3)),list(range(3,6))); F = filter(bool, open('script1.py')) "
   ]
  },
  {
   "cell_type": "code",
   "execution_count": 31,
   "metadata": {},
   "outputs": [
    {
     "data": {
      "text/plain": [
       "(False, True, True, True)"
      ]
     },
     "execution_count": 31,
     "metadata": {},
     "output_type": "execute_result"
    }
   ],
   "source": [
    "R is iter(R), M is iter(M), Z is iter(Z), F is iter(F)"
   ]
  },
  {
   "cell_type": "markdown",
   "metadata": {},
   "source": [
    "#### 除了range, map和zip,以及filter都是自身的迭代器（它们在一次遍历之后，就不能在进行访问了）"
   ]
  },
  {
   "cell_type": "code",
   "execution_count": 16,
   "metadata": {},
   "outputs": [
    {
     "data": {
      "text/plain": [
       "'import sys\\nprint(sys.path)\\nx = 2\\nprint(2**33)'"
      ]
     },
     "execution_count": 16,
     "metadata": {},
     "output_type": "execute_result"
    }
   ],
   "source": [
    "f.read()"
   ]
  },
  {
   "cell_type": "code",
   "execution_count": 20,
   "metadata": {},
   "outputs": [
    {
     "data": {
      "text/plain": [
       "''"
      ]
     },
     "execution_count": 20,
     "metadata": {},
     "output_type": "execute_result"
    }
   ],
   "source": [
    "f.read() # 一次迭代完全后，它们将会迭代完全"
   ]
  },
  {
   "cell_type": "code",
   "execution_count": 29,
   "metadata": {},
   "outputs": [
    {
     "data": {
      "text/plain": [
       "[1, 0, 1]"
      ]
     },
     "execution_count": 29,
     "metadata": {},
     "output_type": "execute_result"
    }
   ],
   "source": [
    "list(map(abs,(-1,0,1)))"
   ]
  },
  {
   "cell_type": "code",
   "execution_count": 45,
   "metadata": {},
   "outputs": [],
   "source": [
    "Z = zip((1,2,3),(10,20,30))"
   ]
  },
  {
   "cell_type": "code",
   "execution_count": 46,
   "metadata": {},
   "outputs": [
    {
     "name": "stdout",
     "output_type": "stream",
     "text": [
      "(1, 10) ！=  (2, 20)\n"
     ]
    }
   ],
   "source": [
    "print('%s ！= ' % str(next(Z)), next(Z))"
   ]
  },
  {
   "cell_type": "code",
   "execution_count": 40,
   "metadata": {},
   "outputs": [
    {
     "data": {
      "text/plain": [
       "((1, 10), (2, 20), (3, 30))"
      ]
     },
     "execution_count": 40,
     "metadata": {},
     "output_type": "execute_result"
    }
   ],
   "source": [
    "next(Z), next(Z), next(Z)"
   ]
  },
  {
   "cell_type": "markdown",
   "metadata": {},
   "source": [
    "### map,以及zip还有filter都是一次性迭代器，像文件迭代器一样，如果一次性遍历完之后,就会给出停止迭代的错误，"
   ]
  },
  {
   "cell_type": "code",
   "execution_count": 49,
   "metadata": {},
   "outputs": [],
   "source": [
    "for pair in Z: print(pair)"
   ]
  },
  {
   "cell_type": "code",
   "execution_count": 51,
   "metadata": {},
   "outputs": [
    {
     "name": "stdout",
     "output_type": "stream",
     "text": [
      "(1, 10)\n",
      "(2, 20)\n",
      "(3, 30)\n"
     ]
    }
   ],
   "source": [
    "Z = zip((1,2,3),(10,20,30))\n",
    "for pair in Z: print(pair)"
   ]
  },
  {
   "cell_type": "code",
   "execution_count": 53,
   "metadata": {},
   "outputs": [],
   "source": [
    "for pair in Z: print(pair)"
   ]
  },
  {
   "cell_type": "code",
   "execution_count": 58,
   "metadata": {},
   "outputs": [
    {
     "data": {
      "text/plain": [
       "[]"
      ]
     },
     "execution_count": 58,
     "metadata": {},
     "output_type": "execute_result"
    }
   ],
   "source": [
    "def f(x):\n",
    "    if bool(x) == False:\n",
    "        return x\n",
    "    else: \n",
    "        pass\n",
    "\n",
    "list(filter(f,['spam','','ni']))"
   ]
  },
  {
   "cell_type": "code",
   "execution_count": 56,
   "metadata": {},
   "outputs": [
    {
     "data": {
      "text/plain": [
       "bool"
      ]
     },
     "execution_count": 56,
     "metadata": {},
     "output_type": "execute_result"
    }
   ],
   "source": [
    "type(False)"
   ]
  },
  {
   "cell_type": "code",
   "execution_count": 60,
   "metadata": {},
   "outputs": [
    {
     "data": {
      "text/plain": [
       "[]"
      ]
     },
     "execution_count": 60,
     "metadata": {},
     "output_type": "execute_result"
    }
   ],
   "source": [
    "list('')"
   ]
  },
  {
   "cell_type": "code",
   "execution_count": 61,
   "metadata": {},
   "outputs": [
    {
     "data": {
      "text/plain": [
       "['spam', 'ni']"
      ]
     },
     "execution_count": 61,
     "metadata": {},
     "output_type": "execute_result"
    }
   ],
   "source": [
    "list(filter(bool,['spam','','ni']))"
   ]
  },
  {
   "cell_type": "markdown",
   "metadata": {},
   "source": [
    "#### filter, map, zip它们既可以处理可迭代对象，也可以产生一个可迭代对象\n",
    "#### range, 字典视图对象不能处理可迭代对象，但是可以产生一个可迭代对象"
   ]
  },
  {
   "cell_type": "code",
   "execution_count": 65,
   "metadata": {},
   "outputs": [
    {
     "data": {
      "text/plain": [
       "range(1, 101, 2)"
      ]
     },
     "execution_count": 65,
     "metadata": {},
     "output_type": "execute_result"
    }
   ],
   "source": [
    "range(1,101,2)"
   ]
  },
  {
   "cell_type": "code",
   "execution_count": 87,
   "metadata": {},
   "outputs": [
    {
     "data": {
      "text/plain": [
       "[1,\n",
       " 3,\n",
       " 5,\n",
       " 7,\n",
       " 9,\n",
       " 11,\n",
       " 13,\n",
       " 15,\n",
       " 17,\n",
       " 19,\n",
       " 21,\n",
       " 23,\n",
       " 25,\n",
       " 27,\n",
       " 29,\n",
       " 31,\n",
       " 33,\n",
       " 35,\n",
       " 37,\n",
       " 39,\n",
       " 41,\n",
       " 43,\n",
       " 45,\n",
       " 47,\n",
       " 49,\n",
       " 51,\n",
       " 53,\n",
       " 55,\n",
       " 57,\n",
       " 59,\n",
       " 61,\n",
       " 63,\n",
       " 65,\n",
       " 67,\n",
       " 69,\n",
       " 71,\n",
       " 73,\n",
       " 75,\n",
       " 77,\n",
       " 79,\n",
       " 81,\n",
       " 83,\n",
       " 85,\n",
       " 87,\n",
       " 89,\n",
       " 91,\n",
       " 93,\n",
       " 95,\n",
       " 97,\n",
       " 99]"
      ]
     },
     "execution_count": 87,
     "metadata": {},
     "output_type": "execute_result"
    }
   ],
   "source": [
    "list(range(1,101,2))"
   ]
  },
  {
   "cell_type": "markdown",
   "metadata": {},
   "source": [
    "### 多个迭代器 vs 单个迭代器"
   ]
  },
  {
   "cell_type": "code",
   "execution_count": 69,
   "metadata": {},
   "outputs": [
    {
     "data": {
      "text/plain": [
       "False"
      ]
     },
     "execution_count": 69,
     "metadata": {},
     "output_type": "execute_result"
    }
   ],
   "source": [
    "R = range(3)\n",
    "R is iter(R)"
   ]
  },
  {
   "cell_type": "code",
   "execution_count": 71,
   "metadata": {},
   "outputs": [],
   "source": [
    "Z = zip((1,2,3),(10,12,13))\n",
    "I1 = iter(Z)\n",
    "I2 = iter(Z)"
   ]
  },
  {
   "cell_type": "code",
   "execution_count": 72,
   "metadata": {},
   "outputs": [
    {
     "data": {
      "text/plain": [
       "(True, True, True)"
      ]
     },
     "execution_count": 72,
     "metadata": {},
     "output_type": "execute_result"
    }
   ],
   "source": [
    "Z is iter(Z), I1 is Z, I2 is Z"
   ]
  },
  {
   "cell_type": "code",
   "execution_count": 73,
   "metadata": {},
   "outputs": [
    {
     "data": {
      "text/plain": [
       "((1, 10), (2, 12), (3, 13))"
      ]
     },
     "execution_count": 73,
     "metadata": {},
     "output_type": "execute_result"
    }
   ],
   "source": [
    "next(I1), next(I1), next(I2)"
   ]
  },
  {
   "cell_type": "code",
   "execution_count": 75,
   "metadata": {},
   "outputs": [
    {
     "name": "stdout",
     "output_type": "stream",
     "text": [
      "1 0 1\n"
     ]
    }
   ],
   "source": [
    "M = map(abs, (-1,0,1))\n",
    "I1 = iter(M); I2 = iter(M)\n",
    "print(next(I1),next(I2),next(I1))\n",
    "# next(I2)"
   ]
  },
  {
   "cell_type": "code",
   "execution_count": 76,
   "metadata": {},
   "outputs": [],
   "source": [
    "R = range(3)\n",
    "I1, I2 = iter(R), iter(R)"
   ]
  },
  {
   "cell_type": "code",
   "execution_count": 77,
   "metadata": {},
   "outputs": [
    {
     "data": {
      "text/plain": [
       "(False, False, False)"
      ]
     },
     "execution_count": 77,
     "metadata": {},
     "output_type": "execute_result"
    }
   ],
   "source": [
    "R is iter(R), I1 is R, I2 is R"
   ]
  },
  {
   "cell_type": "code",
   "execution_count": 78,
   "metadata": {},
   "outputs": [
    {
     "data": {
      "text/plain": [
       "[0, 0, 1]"
      ]
     },
     "execution_count": 78,
     "metadata": {},
     "output_type": "execute_result"
    }
   ],
   "source": [
    "[next(I1), next(I2), next(I1)]"
   ]
  },
  {
   "cell_type": "code",
   "execution_count": 147,
   "metadata": {},
   "outputs": [],
   "source": [
    "class Text():\n",
    "    \"\"\"\n",
    "    This is just an experiment performed for iterations related to classes \n",
    "    \"\"\"\n",
    "    def PLUS(x,y):  \n",
    "        return str(x)+str(y)\n",
    "    \"\"\"\n",
    "    PLUS can be used to convert two items to strings and add them together, and return the result.\n",
    "    \"\"\"\n",
    "    def SUBSTR(x,y):\n",
    "        return x[:y]"
   ]
  },
  {
   "cell_type": "code",
   "execution_count": 84,
   "metadata": {},
   "outputs": [
    {
     "data": {
      "text/plain": [
       "'12'"
      ]
     },
     "execution_count": 84,
     "metadata": {},
     "output_type": "execute_result"
    }
   ],
   "source": [
    "Text.PLUS(1,2)"
   ]
  },
  {
   "cell_type": "code",
   "execution_count": 85,
   "metadata": {},
   "outputs": [
    {
     "data": {
      "text/plain": [
       "'asah'"
      ]
     },
     "execution_count": 85,
     "metadata": {},
     "output_type": "execute_result"
    }
   ],
   "source": [
    "Text.SUBSTR('asahfjasfhajfjah',4)"
   ]
  },
  {
   "cell_type": "code",
   "execution_count": 86,
   "metadata": {},
   "outputs": [
    {
     "data": {
      "text/plain": [
       "'56789'"
      ]
     },
     "execution_count": 86,
     "metadata": {},
     "output_type": "execute_result"
    }
   ],
   "source": [
    "Text.PLUS(5,6789)"
   ]
  },
  {
   "cell_type": "markdown",
   "metadata": {},
   "source": [
    "### 文件，字典以及字典的方法(keys,values,items) 都和range,map,zip,filter这些函数一样都会返回可迭代对象"
   ]
  },
  {
   "cell_type": "code",
   "execution_count": 88,
   "metadata": {},
   "outputs": [],
   "source": [
    "S = \"\"\"As we saw briefly in Chapter 8, in Python 3.0 the dictionary keys, values, and items\n",
    "methods return iterable view objects that generate result items one at a time, instead\n",
    "of producing result lists all at once in memory. View items maintain the same physical\n",
    "ordering as that of the dictionary and reflect changes made to the underlying dictionary.\n",
    "Now that we know more about iterators, here’s the rest of the story:\"\"\""
   ]
  },
  {
   "cell_type": "code",
   "execution_count": 92,
   "metadata": {},
   "outputs": [],
   "source": [
    "D = dict(enumerate(S))"
   ]
  },
  {
   "cell_type": "code",
   "execution_count": 94,
   "metadata": {},
   "outputs": [
    {
     "name": "stdout",
     "output_type": "stream",
     "text": [
      "[0, 1, 2, 3, 4, 5, 6, 7, 8, 9, 10, 11, 12, 13, 14, 15, 16, 17, 18, 19, 20, 21, 22, 23, 24, 25, 26, 27, 28, 29, 30, 31, 32, 33, 34, 35, 36, 37, 38, 39, 40, 41, 42, 43, 44, 45, 46, 47, 48, 49, 50, 51, 52, 53, 54, 55, 56, 57, 58, 59, 60, 61, 62, 63, 64, 65, 66, 67, 68, 69, 70, 71, 72, 73, 74, 75, 76, 77, 78, 79, 80, 81, 82, 83, 84, 85, 86, 87, 88, 89, 90, 91, 92, 93, 94, 95, 96, 97, 98, 99, 100, 101, 102, 103, 104, 105, 106, 107, 108, 109, 110, 111, 112, 113, 114, 115, 116, 117, 118, 119, 120, 121, 122, 123, 124, 125, 126, 127, 128, 129, 130, 131, 132, 133, 134, 135, 136, 137, 138, 139, 140, 141, 142, 143, 144, 145, 146, 147, 148, 149, 150, 151, 152, 153, 154, 155, 156, 157, 158, 159, 160, 161, 162, 163, 164, 165, 166, 167, 168, 169, 170, 171, 172, 173, 174, 175, 176, 177, 178, 179, 180, 181, 182, 183, 184, 185, 186, 187, 188, 189, 190, 191, 192, 193, 194, 195, 196, 197, 198, 199, 200, 201, 202, 203, 204, 205, 206, 207, 208, 209, 210, 211, 212, 213, 214, 215, 216, 217, 218, 219, 220, 221, 222, 223, 224, 225, 226, 227, 228, 229, 230, 231, 232, 233, 234, 235, 236, 237, 238, 239, 240, 241, 242, 243, 244, 245, 246, 247, 248, 249, 250, 251, 252, 253, 254, 255, 256, 257, 258, 259, 260, 261, 262, 263, 264, 265, 266, 267, 268, 269, 270, 271, 272, 273, 274, 275, 276, 277, 278, 279, 280, 281, 282, 283, 284, 285, 286, 287, 288, 289, 290, 291, 292, 293, 294, 295, 296, 297, 298, 299, 300, 301, 302, 303, 304, 305, 306, 307, 308, 309, 310, 311, 312, 313, 314, 315, 316, 317, 318, 319, 320, 321, 322, 323, 324, 325, 326, 327, 328, 329, 330, 331, 332, 333, 334, 335, 336, 337, 338, 339, 340, 341, 342, 343, 344, 345, 346, 347, 348, 349, 350, 351, 352, 353, 354, 355, 356, 357, 358, 359, 360, 361, 362, 363, 364, 365, 366, 367, 368, 369, 370, 371, 372, 373, 374, 375, 376, 377, 378, 379, 380, 381, 382, 383, 384, 385, 386, 387, 388, 389, 390, 391, 392, 393, 394, 395, 396, 397, 398, 399, 400, 401, 402, 403, 404, 405, 406, 407, 408, 409, 410, 411, 412, 413, 414, 415, 416]"
     ]
    }
   ],
   "source": [
    "print(list(D.keys()), end='')"
   ]
  },
  {
   "cell_type": "code",
   "execution_count": 107,
   "metadata": {},
   "outputs": [],
   "source": [
    "I = iter(D)"
   ]
  },
  {
   "cell_type": "code",
   "execution_count": 108,
   "metadata": {},
   "outputs": [
    {
     "data": {
      "text/plain": [
       "(0, 1, 2, 3, 4)"
      ]
     },
     "execution_count": 108,
     "metadata": {},
     "output_type": "execute_result"
    }
   ],
   "source": [
    "next(I), next(I), next(I), next(I), next(I)"
   ]
  },
  {
   "cell_type": "code",
   "execution_count": 104,
   "metadata": {},
   "outputs": [
    {
     "name": "stdout",
     "output_type": "stream",
     "text": [
      "0 1 2 3 4 5 6 7 8 9 10 11 12 13 14 15 16 17 18 19 20 21 22 23 24 25 26 27 28 29 30 31 32 33 34 35 36 37 38 39 40 41 42 43 44 45 46 47 48 49 50 51 52 53 54 55 56 57 58 59 60 61 62 63 64 65 66 67 68 69 70 71 72 73 74 75 76 77 78 79 80 81 82 83 84 85 86 87 88 89 90 91 92 93 94 95 96 97 98 99 100 101 102 103 104 105 106 107 108 109 110 111 112 113 114 115 116 117 118 119 120 121 122 123 124 125 126 127 128 129 130 131 132 133 134 135 136 137 138 139 140 141 142 143 144 145 146 147 148 149 150 151 152 153 154 155 156 157 158 159 160 161 162 163 164 165 166 167 168 169 170 171 172 173 174 175 176 177 178 179 180 181 182 183 184 185 186 187 188 189 190 191 192 193 194 195 196 197 198 199 200 201 202 203 204 205 206 207 208 209 210 211 212 213 214 215 216 217 218 219 220 221 222 223 224 225 226 227 228 229 230 231 232 233 234 235 236 237 238 239 240 241 242 243 244 245 246 247 248 249 250 251 252 253 254 255 256 257 258 259 260 261 262 263 264 265 266 267 268 269 270 271 272 273 274 275 276 277 278 279 280 281 282 283 284 285 286 287 288 289 290 291 292 293 294 295 296 297 298 299 300 301 302 303 304 305 306 307 308 309 310 311 312 313 314 315 316 317 318 319 320 321 322 323 324 325 326 327 328 329 330 331 332 333 334 335 336 337 338 339 340 341 342 343 344 345 346 347 348 349 350 351 352 353 354 355 356 357 358 359 360 361 362 363 364 365 366 367 368 369 370 371 372 373 374 375 376 377 378 379 380 381 382 383 384 385 386 387 388 389 390 391 392 393 394 395 396 397 398 399 400 401 402 403 404 405 406 407 408 409 410 411 412 413 414 415 416 \n",
      "\n",
      "0 1 2 3 4 5 6 7 8 9 10 11 12 13 14 15 16 17 18 19 20 21 22 23 24 25 26 27 28 29 30 31 32 33 34 35 36 37 38 39 40 41 42 43 44 45 46 47 48 49 50 51 52 53 54 55 56 57 58 59 60 61 62 63 64 65 66 67 68 69 70 71 72 73 74 75 76 77 78 79 80 81 82 83 84 85 86 87 88 89 90 91 92 93 94 95 96 97 98 99 100 101 102 103 104 105 106 107 108 109 110 111 112 113 114 115 116 117 118 119 120 121 122 123 124 125 126 127 128 129 130 131 132 133 134 135 136 137 138 139 140 141 142 143 144 145 146 147 148 149 150 151 152 153 154 155 156 157 158 159 160 161 162 163 164 165 166 167 168 169 170 171 172 173 174 175 176 177 178 179 180 181 182 183 184 185 186 187 188 189 190 191 192 193 194 195 196 197 198 199 200 201 202 203 204 205 206 207 208 209 210 211 212 213 214 215 216 217 218 219 220 221 222 223 224 225 226 227 228 229 230 231 232 233 234 235 236 237 238 239 240 241 242 243 244 245 246 247 248 249 250 251 252 253 254 255 256 257 258 259 260 261 262 263 264 265 266 267 268 269 270 271 272 273 274 275 276 277 278 279 280 281 282 283 284 285 286 287 288 289 290 291 292 293 294 295 296 297 298 299 300 301 302 303 304 305 306 307 308 309 310 311 312 313 314 315 316 317 318 319 320 321 322 323 324 325 326 327 328 329 330 331 332 333 334 335 336 337 338 339 340 341 342 343 344 345 346 347 348 349 350 351 352 353 354 355 356 357 358 359 360 361 362 363 364 365 366 367 368 369 370 371 372 373 374 375 376 377 378 379 380 381 382 383 384 385 386 387 388 389 390 391 392 393 394 395 396 397 398 399 400 401 402 403 404 405 406 407 408 409 410 411 412 413 414 415 416 "
     ]
    }
   ],
   "source": [
    "for key in D.keys(): print(key,end=' ')\n",
    "print('\\n')\n",
    "for key in D: print(key, end=' ')"
   ]
  },
  {
   "cell_type": "code",
   "execution_count": 139,
   "metadata": {},
   "outputs": [
    {
     "name": "stdout",
     "output_type": "stream",
     "text": [
      "{'a': 1, 'c': 3, 'b': 3}\n",
      "{'a': 1, 'c': 3, 'b': 2}\n",
      "{'a': 1, 'c': 3, 'b': 2}\n"
     ]
    }
   ],
   "source": [
    "import numpy as np\n",
    "D = dict(a=1,c=3,b=3)\n",
    "print(D)\n",
    "D = {'a': 1, 'c': 3, 'b': 2}\n",
    "print(D)\n",
    "D = { s : int(i) for s, i in zip('acb', '132')}\n",
    "print(D)"
   ]
  },
  {
   "cell_type": "code",
   "execution_count": 130,
   "metadata": {},
   "outputs": [],
   "source": [
    "D = {}\n",
    "for i in [1,2,3]:\n",
    "    for s in 'abc':\n",
    "        D[s] = i"
   ]
  },
  {
   "cell_type": "code",
   "execution_count": 131,
   "metadata": {},
   "outputs": [
    {
     "data": {
      "text/plain": [
       "{'a': 3, 'b': 3, 'c': 3}"
      ]
     },
     "execution_count": 131,
     "metadata": {},
     "output_type": "execute_result"
    }
   ],
   "source": [
    "D"
   ]
  },
  {
   "cell_type": "code",
   "execution_count": 141,
   "metadata": {},
   "outputs": [
    {
     "name": "stdout",
     "output_type": "stream",
     "text": [
      "a 1 c 3 b 2 "
     ]
    }
   ],
   "source": [
    "for k in D: print(k, D[k], end=' ') #并不按照ASCII的顺序"
   ]
  },
  {
   "cell_type": "code",
   "execution_count": 142,
   "metadata": {},
   "outputs": [
    {
     "name": "stdout",
     "output_type": "stream",
     "text": [
      "a 1 b 2 c 3 a 1 b 2 c 3 "
     ]
    }
   ],
   "source": [
    "for  k in sorted(D.keys()): print(k,D[k], end=' ')\n",
    "for k in sorted(D): print(k, D[k], end= ' ')"
   ]
  },
  {
   "cell_type": "code",
   "execution_count": 148,
   "metadata": {},
   "outputs": [
    {
     "name": "stdout",
     "output_type": "stream",
     "text": [
      "Help on class Text in module __main__:\n",
      "\n",
      "class Text(builtins.object)\n",
      " |  This is just an experiment performed for iterations related to classes\n",
      " |  \n",
      " |  Methods defined here:\n",
      " |  \n",
      " |  PLUS(x, y)\n",
      " |  \n",
      " |  SUBSTR(x, y)\n",
      " |  \n",
      " |  ----------------------------------------------------------------------\n",
      " |  Data descriptors defined here:\n",
      " |  \n",
      " |  __dict__\n",
      " |      dictionary for instance variables (if defined)\n",
      " |  \n",
      " |  __weakref__\n",
      " |      list of weak references to the object (if defined)\n",
      "\n"
     ]
    }
   ],
   "source": [
    "help(Text)"
   ]
  },
  {
   "cell_type": "code",
   "execution_count": null,
   "metadata": {},
   "outputs": [],
   "source": []
  }
 ],
 "metadata": {
  "kernelspec": {
   "display_name": "Python 3",
   "language": "python",
   "name": "python3"
  },
  "language_info": {
   "codemirror_mode": {
    "name": "ipython",
    "version": 3
   },
   "file_extension": ".py",
   "mimetype": "text/x-python",
   "name": "python",
   "nbconvert_exporter": "python",
   "pygments_lexer": "ipython3",
   "version": "3.7.4"
  }
 },
 "nbformat": 4,
 "nbformat_minor": 4
}
