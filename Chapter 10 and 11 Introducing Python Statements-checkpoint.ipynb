{
 "cells": [
  {
   "cell_type": "markdown",
   "metadata": {},
   "source": [
    "# Chapter 10 Introducing Python Statements"
   ]
  },
  {
   "cell_type": "markdown",
   "metadata": {},
   "source": [
    "Python Program Structure Revisited"
   ]
  },
  {
   "cell_type": "markdown",
   "metadata": {},
   "source": [
    "At its core, Python syntax is composed of statements and expressions. Expressions\n",
    "process objects and are embedded in statements. Statements code the larger logic of a\n",
    "program’s operation—they use and direct expressions to process the objects we studied\n",
    "in the preceding chapters. Moreover, statements are where objects spring into existence\n",
    "(e.g., in expressions within assignment statements), and some statements create entirely new kinds of objects (functions, classes, and so on). Statements always exist in\n",
    "modules, which themselves are managed with statements."
   ]
  },
  {
   "cell_type": "markdown",
   "metadata": {},
   "source": [
    "This chapter climbs the hierarchy to the next level:\n",
    "1. Programs are composed of modules.\n",
    "2. Modules contain statements.\n",
    "3. Statements contain expressions.\n",
    "4. Expressions create and process objects."
   ]
  },
  {
   "cell_type": "markdown",
   "metadata": {},
   "source": [
    "# A Few Special Cases"
   ]
  },
  {
   "cell_type": "markdown",
   "metadata": {},
   "source": [
    "As mentioned previously, in Python’s syntax model:\n",
    "• The end of a line terminates the statement on that line (without semicolons).\n",
    "• Nested statements are blocked and associated by their physical indentation (without braces)."
   ]
  },
  {
   "cell_type": "code",
   "execution_count": 2,
   "metadata": {},
   "outputs": [
    {
     "name": "stdout",
     "output_type": "stream",
     "text": [
      "3\n"
     ]
    }
   ],
   "source": [
    "a = 1; b = 2; print(a + b) # Three statements on one line"
   ]
  },
  {
   "cell_type": "code",
   "execution_count": 3,
   "metadata": {},
   "outputs": [],
   "source": [
    "mlist = [111,\n",
    "         222,\n",
    "         333]"
   ]
  },
  {
   "cell_type": "code",
   "execution_count": 4,
   "metadata": {},
   "outputs": [
    {
     "name": "stdout",
     "output_type": "stream",
     "text": [
      "[111, 222, 333]\n"
     ]
    }
   ],
   "source": [
    "print(mlist)"
   ]
  },
  {
   "cell_type": "markdown",
   "metadata": {},
   "source": [
    "Parentheses are the catchall device—because any expression can be wrapped up in\n",
    "them, simply inserting a left parenthesis allows you to drop down to the next line and\n",
    "continue your statement:"
   ]
  },
  {
   "cell_type": "code",
   "execution_count": 6,
   "metadata": {},
   "outputs": [],
   "source": [
    "from sympy import *"
   ]
  },
  {
   "cell_type": "code",
   "execution_count": 8,
   "metadata": {},
   "outputs": [],
   "source": [
    "A, B, C, D = symbols('A, B , C , D')"
   ]
  },
  {
   "cell_type": "code",
   "execution_count": 9,
   "metadata": {},
   "outputs": [],
   "source": [
    "X = symbols('X')"
   ]
  },
  {
   "cell_type": "code",
   "execution_count": 10,
   "metadata": {},
   "outputs": [],
   "source": [
    "X = A + B + C + D"
   ]
  },
  {
   "cell_type": "code",
   "execution_count": 13,
   "metadata": {},
   "outputs": [
    {
     "name": "stdout",
     "output_type": "stream",
     "text": [
      "spamspamspam\n"
     ]
    }
   ],
   "source": [
    "if (A == 1 and \n",
    "    B == 2 and\n",
    "    C == 3):\n",
    "    print('spam'*3)"
   ]
  },
  {
   "cell_type": "code",
   "execution_count": 12,
   "metadata": {},
   "outputs": [],
   "source": [
    "A, B, C = 1, 2, 3"
   ]
  },
  {
   "cell_type": "code",
   "execution_count": 17,
   "metadata": {},
   "outputs": [
    {
     "name": "stdout",
     "output_type": "stream",
     "text": [
      "spam\n",
      "spam\n",
      "spam\n"
     ]
    }
   ],
   "source": [
    "exec('print(\"spam\");'*3)"
   ]
  },
  {
   "cell_type": "markdown",
   "metadata": {},
   "source": [
    "An older rule also allows for continuation lines when the prior line ends in a backslash:"
   ]
  },
  {
   "cell_type": "code",
   "execution_count": 24,
   "metadata": {},
   "outputs": [],
   "source": [
    "X = A + B + \\\n",
    "C + D"
   ]
  },
  {
   "cell_type": "code",
   "execution_count": 23,
   "metadata": {},
   "outputs": [
    {
     "data": {
      "text/latex": [
       "$\\displaystyle D + 6$"
      ],
      "text/plain": [
       "D + 6"
      ]
     },
     "execution_count": 23,
     "metadata": {},
     "output_type": "execute_result"
    }
   ],
   "source": [
    "X"
   ]
  },
  {
   "cell_type": "markdown",
   "metadata": {},
   "source": [
    "This alternative technique is dated, though, and is frowned on today because it’s difficult to notice and maintain the backslashes, and it’s fairly brittle—there can be no\n",
    "spaces after the backslash, and omitting it can have unexpected effects if the next line\n",
    "is mistaken to be a new statement. It’s also another throwback to the C language, where\n",
    "it is commonly used in “#define” macros; again, when in Pythonland, do as Pythonistas\n",
    "do, not as C programmers do."
   ]
  },
  {
   "cell_type": "markdown",
   "metadata": {},
   "source": [
    "# Block rule special case"
   ]
  },
  {
   "cell_type": "code",
   "execution_count": 28,
   "metadata": {},
   "outputs": [],
   "source": [
    "x, y = 26,57\n",
    "if x > y: print(x)"
   ]
  },
  {
   "cell_type": "markdown",
   "metadata": {},
   "source": [
    "# A Simple Interactive Loop"
   ]
  },
  {
   "cell_type": "markdown",
   "metadata": {},
   "source": [
    "# Doing Math on User Inputs"
   ]
  },
  {
   "cell_type": "code",
   "execution_count": 1,
   "metadata": {},
   "outputs": [
    {
     "name": "stdin",
     "output_type": "stream",
     "text": [
      "Enter text: 4546\n"
     ]
    },
    {
     "name": "stdout",
     "output_type": "stream",
     "text": [
      "20666116\n"
     ]
    },
    {
     "name": "stdin",
     "output_type": "stream",
     "text": [
      "Enter text: 2313213\n"
     ]
    },
    {
     "name": "stdout",
     "output_type": "stream",
     "text": [
      "5350954383369\n"
     ]
    },
    {
     "name": "stdin",
     "output_type": "stream",
     "text": [
      "Enter text: 4545\n"
     ]
    },
    {
     "name": "stdout",
     "output_type": "stream",
     "text": [
      "20657025\n"
     ]
    },
    {
     "name": "stdin",
     "output_type": "stream",
     "text": [
      "Enter text: 54545\n"
     ]
    },
    {
     "name": "stdout",
     "output_type": "stream",
     "text": [
      "2975157025\n"
     ]
    },
    {
     "name": "stdin",
     "output_type": "stream",
     "text": [
      "Enter text: 4545\n"
     ]
    },
    {
     "name": "stdout",
     "output_type": "stream",
     "text": [
      "20657025\n"
     ]
    },
    {
     "name": "stdin",
     "output_type": "stream",
     "text": [
      "Enter text: 4545\n"
     ]
    },
    {
     "name": "stdout",
     "output_type": "stream",
     "text": [
      "20657025\n"
     ]
    },
    {
     "name": "stdin",
     "output_type": "stream",
     "text": [
      "Enter text: 48636\n"
     ]
    },
    {
     "name": "stdout",
     "output_type": "stream",
     "text": [
      "2365460496\n"
     ]
    },
    {
     "name": "stdin",
     "output_type": "stream",
     "text": [
      "Enter text: stop\n"
     ]
    },
    {
     "name": "stdout",
     "output_type": "stream",
     "text": [
      "Bye\n"
     ]
    }
   ],
   "source": [
    "while True:\n",
    "    reply = input('Enter text:')\n",
    "    if reply == 'stop': break\n",
    "    print(int(reply) ** 2)\n",
    "print('Bye')"
   ]
  },
  {
   "cell_type": "markdown",
   "metadata": {},
   "source": [
    "# Handling Errors by Testing Inputs"
   ]
  },
  {
   "cell_type": "code",
   "execution_count": 2,
   "metadata": {},
   "outputs": [
    {
     "data": {
      "text/plain": [
       "(True, False)"
      ]
     },
     "execution_count": 2,
     "metadata": {},
     "output_type": "execute_result"
    }
   ],
   "source": [
    "S = '123'\n",
    "T = 'xxx'\n",
    "S.isdigit(), T.isdigit()"
   ]
  },
  {
   "cell_type": "code",
   "execution_count": 3,
   "metadata": {},
   "outputs": [
    {
     "name": "stdin",
     "output_type": "stream",
     "text": [
      "Enter text: 24\n"
     ]
    },
    {
     "name": "stdout",
     "output_type": "stream",
     "text": [
      "576\n"
     ]
    },
    {
     "name": "stdin",
     "output_type": "stream",
     "text": [
      "Enter text: 45\n"
     ]
    },
    {
     "name": "stdout",
     "output_type": "stream",
     "text": [
      "2025\n"
     ]
    },
    {
     "name": "stdin",
     "output_type": "stream",
     "text": [
      "Enter text: asdf\n"
     ]
    },
    {
     "name": "stdout",
     "output_type": "stream",
     "text": [
      "Bad!Bad!Bad!Bad!Bad!Bad!Bad!Bad!\n"
     ]
    },
    {
     "name": "stdin",
     "output_type": "stream",
     "text": [
      "Enter text: stop\n"
     ]
    },
    {
     "name": "stdout",
     "output_type": "stream",
     "text": [
      "Bye\n"
     ]
    }
   ],
   "source": [
    "while True:\n",
    "    reply = input('Enter text:')\n",
    "    if reply == 'stop':\n",
    "        break\n",
    "    elif not reply.isdigit():\n",
    "        print('Bad!' * 8)\n",
    "    else:\n",
    "        print(int(reply) ** 2)\n",
    "print('Bye')"
   ]
  },
  {
   "cell_type": "markdown",
   "metadata": {},
   "source": [
    "# Handling Errors with try Statements"
   ]
  },
  {
   "cell_type": "code",
   "execution_count": 4,
   "metadata": {},
   "outputs": [
    {
     "name": "stdin",
     "output_type": "stream",
     "text": [
      "Enter text: 456\n"
     ]
    },
    {
     "name": "stdout",
     "output_type": "stream",
     "text": [
      "207936\n"
     ]
    },
    {
     "name": "stdin",
     "output_type": "stream",
     "text": [
      "Enter text: dasd\n"
     ]
    },
    {
     "name": "stdout",
     "output_type": "stream",
     "text": [
      "Bad!Bad!Bad!Bad!Bad!Bad!Bad!Bad!\n"
     ]
    },
    {
     "name": "stdin",
     "output_type": "stream",
     "text": [
      "Enter text: '454'\n"
     ]
    },
    {
     "name": "stdout",
     "output_type": "stream",
     "text": [
      "Bad!Bad!Bad!Bad!Bad!Bad!Bad!Bad!\n"
     ]
    },
    {
     "name": "stdin",
     "output_type": "stream",
     "text": [
      "Enter text: stop\n"
     ]
    },
    {
     "name": "stdout",
     "output_type": "stream",
     "text": [
      "Bye\n"
     ]
    }
   ],
   "source": [
    "while True:\n",
    "    reply = input('Enter text:')\n",
    "    if reply == 'stop': break\n",
    "    try:\n",
    "        num = int(reply)\n",
    "    except:\n",
    "        print('Bad!' * 8)\n",
    "    else:\n",
    "        print(int(reply) ** 2)\n",
    "print('Bye')"
   ]
  },
  {
   "cell_type": "markdown",
   "metadata": {},
   "source": [
    "# Nesting Code Three Levels Deep"
   ]
  },
  {
   "cell_type": "code",
   "execution_count": 1,
   "metadata": {},
   "outputs": [
    {
     "name": "stdin",
     "output_type": "stream",
     "text": [
      "Enter text: 454\n"
     ]
    },
    {
     "name": "stdout",
     "output_type": "stream",
     "text": [
      "206116\n"
     ]
    },
    {
     "name": "stdin",
     "output_type": "stream",
     "text": [
      "Enter text: 4\n"
     ]
    },
    {
     "name": "stdout",
     "output_type": "stream",
     "text": [
      "low\n"
     ]
    },
    {
     "name": "stdin",
     "output_type": "stream",
     "text": [
      "Enter text: stop\n"
     ]
    },
    {
     "name": "stdout",
     "output_type": "stream",
     "text": [
      "Bye\n"
     ]
    }
   ],
   "source": [
    "while True:\n",
    "    reply = input('Enter text:')\n",
    "    if reply == 'stop':\n",
    "        break\n",
    "    elif not reply.isdigit():\n",
    "        print('Bad!' * 8)\n",
    "    else:\n",
    "        num = int(reply)\n",
    "        if num < 20:\n",
    "            print('low')\n",
    "        else:\n",
    "            print(num ** 2)\n",
    "print('Bye')"
   ]
  },
  {
   "cell_type": "markdown",
   "metadata": {},
   "source": [
    "# Chapter Summary"
   ]
  },
  {
   "cell_type": "markdown",
   "metadata": {},
   "source": [
    "That concludes our quick look at Python statement syntax. This chapter introduced\n",
    "the general rules for coding statements and blocks of code. As you’ve learned, in Python\n",
    "we normally code one statement per line and indent all the statements in a nested block\n",
    "the same amount (indentation is part of Python’s syntax). However, we also looked at\n",
    "a few exceptions to these rules, including continuation lines and single-line tests and\n",
    "loops. Finally, we put these ideas to work in an interactive script that demonstrated a\n",
    "handful of statements and showed statement syntax in action.\n",
    "In the next chapter, we’ll start to dig deeper by going over each of Python’s basic procedural statements in depth. As you’ll see, though, all statements follow the same general rules introduced here."
   ]
  },
  {
   "cell_type": "code",
   "execution_count": 1,
   "metadata": {},
   "outputs": [
    {
     "name": "stdout",
     "output_type": "stream",
     "text": [
      "Hello class method world\n"
     ]
    },
    {
     "ename": "SystemExit",
     "evalue": "",
     "output_type": "error",
     "traceback": [
      "An exception has occurred, use %tb to see the full traceback.\n",
      "\u001b[1;31mSystemExit\u001b[0m\n"
     ]
    },
    {
     "name": "stderr",
     "output_type": "stream",
     "text": [
      "D:\\Anaconda\\lib\\site-packages\\IPython\\core\\interactiveshell.py:3334: UserWarning: To exit: use 'exit', 'quit', or Ctrl-D.\n",
      "  warn(\"To exit: use 'exit', 'quit', or Ctrl-D.\", stacklevel=1)\n"
     ]
    }
   ],
   "source": [
    "import sys\n",
    "from tkinter import *\n",
    "\n",
    "class HelloClass:\n",
    "    def __init__(self):\n",
    "        widget = Button(None, text = 'Hello event world', command = self.quit)\n",
    "        widget.pack()\n",
    "        \n",
    "    def quit(self):\n",
    "        print('Hello class method world')\n",
    "        sys.exit()\n",
    "        \n",
    "HelloClass()\n",
    "mainloop()"
   ]
  },
  {
   "cell_type": "code",
   "execution_count": 291,
   "metadata": {},
   "outputs": [
    {
     "ename": "Terminator",
     "evalue": "",
     "output_type": "error",
     "traceback": [
      "\u001b[1;31m---------------------------------------------------------------------------\u001b[0m",
      "\u001b[1;31mTerminator\u001b[0m                                Traceback (most recent call last)",
      "\u001b[1;32m<ipython-input-291-a40c3028e6d8>\u001b[0m in \u001b[0;36m<module>\u001b[1;34m\u001b[0m\n\u001b[0;32m    354\u001b[0m \u001b[1;33m\u001b[0m\u001b[0m\n\u001b[0;32m    355\u001b[0m \u001b[1;33m\u001b[0m\u001b[0m\n\u001b[1;32m--> 356\u001b[1;33m \u001b[0mmain\u001b[0m\u001b[1;33m(\u001b[0m\u001b[1;33m)\u001b[0m\u001b[1;33m\u001b[0m\u001b[1;33m\u001b[0m\u001b[0m\n\u001b[0m\u001b[0;32m    357\u001b[0m \u001b[1;33m\u001b[0m\u001b[0m\n\u001b[0;32m    358\u001b[0m \u001b[1;31m#结束画笔\u001b[0m\u001b[1;33m\u001b[0m\u001b[1;33m\u001b[0m\u001b[1;33m\u001b[0m\u001b[0m\n",
      "\u001b[1;32m<ipython-input-291-a40c3028e6d8>\u001b[0m in \u001b[0;36mmain\u001b[1;34m()\u001b[0m\n\u001b[0;32m    341\u001b[0m     \u001b[1;32mfor\u001b[0m \u001b[0mi\u001b[0m \u001b[1;32min\u001b[0m \u001b[0mrange\u001b[0m\u001b[1;33m(\u001b[0m\u001b[1;36m30\u001b[0m\u001b[1;33m)\u001b[0m\u001b[1;33m:\u001b[0m\u001b[1;33m\u001b[0m\u001b[1;33m\u001b[0m\u001b[0m\n\u001b[0;32m    342\u001b[0m         \u001b[1;32mif\u001b[0m \u001b[0mi\u001b[0m\u001b[1;33m%\u001b[0m\u001b[1;36m2\u001b[0m\u001b[1;33m==\u001b[0m\u001b[1;36m0\u001b[0m\u001b[1;33m:\u001b[0m\u001b[1;33m\u001b[0m\u001b[1;33m\u001b[0m\u001b[0m\n\u001b[1;32m--> 343\u001b[1;33m             \u001b[0mt\u001b[0m\u001b[1;33m.\u001b[0m\u001b[0mreset\u001b[0m\u001b[1;33m(\u001b[0m\u001b[1;33m)\u001b[0m\u001b[1;33m\u001b[0m\u001b[1;33m\u001b[0m\u001b[0m\n\u001b[0m\u001b[0;32m    344\u001b[0m             \u001b[0mt\u001b[0m\u001b[1;33m.\u001b[0m\u001b[0mhideturtle\u001b[0m\u001b[1;33m(\u001b[0m\u001b[1;33m)\u001b[0m\u001b[1;33m\u001b[0m\u001b[1;33m\u001b[0m\u001b[0m\n\u001b[0;32m    345\u001b[0m             \u001b[0mUpgarde\u001b[0m\u001b[1;33m(\u001b[0m\u001b[1;33m)\u001b[0m\u001b[1;33m\u001b[0m\u001b[1;33m\u001b[0m\u001b[0m\n",
      "\u001b[1;32mD:\\Anaconda\\lib\\turtle.py\u001b[0m in \u001b[0;36mreset\u001b[1;34m()\u001b[0m\n",
      "\u001b[1;31mTerminator\u001b[0m: "
     ]
    }
   ],
   "source": [
    "# coding:utf-8\n",
    "import turtle as t\n",
    "import time\n",
    "\n",
    "#皮卡丘\n",
    "\n",
    "#基础设置\n",
    "t.screensize(800,600)\n",
    "t.pensize(2) # 设置画笔的大小\n",
    "t.speed(10) # 设置画笔速度为10\n",
    "\n",
    "\n",
    "#画左偏曲线函数\n",
    "def radian_left(ang,dis,step,n):\n",
    "    for i in range(n):\n",
    "        dis+=step #dis增大step\n",
    "        t.lt(ang) #向左转ang度\n",
    "        t.fd(dis) #向前走dis的步长\n",
    "        \n",
    "def radian_right(ang,dis,step,n):\n",
    "    for i in range(n):\n",
    "        dis+=step\n",
    "        t.rt(ang) #向左转ang度\n",
    "        t.fd(dis) #向前走dis的步长\n",
    "    \n",
    "\n",
    "#画耳朵\n",
    "def InitEars():\n",
    "    \n",
    "    t.color(\"black\",\"yellow\")\n",
    "    #左耳朵曲线\n",
    "    t.pu() # 提笔\n",
    "    t.goto(-50,100) # 笔头初始位置\n",
    "    t.pd() # 下笔\n",
    "    t.setheading(110)#画笔角度\n",
    "\n",
    "    t.begin_fill()\n",
    "\n",
    "    radian_left(1.2,0.4,0.1,40)\n",
    "        \n",
    "    t.setheading(270) #画笔角度\n",
    "    radian_left(1.2,0.4,0.1,40)\n",
    "\n",
    "    t.setheading(44) #画笔角度\n",
    "    t.forward(32)\n",
    "    t.end_fill()\n",
    "\n",
    "    #右耳朵曲线  \n",
    "    t.pu() # 提笔\n",
    "    t.goto(50,100) # 笔头初始位置\n",
    "    t.pd() # 下笔\n",
    "    t.setheading(70)#画笔角度\n",
    "\n",
    "    t.begin_fill()\n",
    "    radian_right(1.2,0.4,0.1,40)\n",
    "    \n",
    "    t.setheading(270) #画笔角度\n",
    "    radian_right(1.2,0.4,0.1,40)\n",
    " \n",
    "    t.setheading(136) #画笔角度\n",
    "    t.forward(32)\n",
    "    t.end_fill()\n",
    "    \n",
    "    #耳朵黑\n",
    "\n",
    "    t.begin_fill()\n",
    "    t.fillcolor(\"black\")\n",
    "    t.pu() # 提笔\n",
    "    t.goto(88,141) # 笔头初始位置\n",
    "    t.pd() # 下笔\n",
    "    t.setheading(35)#画笔角度\n",
    "\n",
    "    radian_right(1.2,1.6,0.1,16)\n",
    "    \n",
    "    t.setheading(270) #画笔角度\n",
    "    radian_right(1.2,0.4,0.1,25)\n",
    "\n",
    "    t.setheading(132) #画笔角度\n",
    "    t.forward(31)\n",
    "    t.end_fill()\n",
    "\n",
    "    t.begin_fill()\n",
    "    t.fillcolor(\"black\")\n",
    "    t.pu() # 提笔\n",
    "    t.goto(-88,141) # 笔头初始位置\n",
    "    t.pd() # 下笔\n",
    "    t.setheading(145)#画笔角度\n",
    "\n",
    "    radian_left(1.2,1.6,0.1,16)\n",
    "    \n",
    "    t.setheading(270) #画笔角度\n",
    "    radian_left(1.2,0.4,0.1,25)\n",
    "\n",
    "    t.setheading(48) #画笔角度\n",
    "    t.forward(31)\n",
    "    t.end_fill()\n",
    " \n",
    "\n",
    " #画尾巴\n",
    "def InitTail():\n",
    "    #尾巴\n",
    "    t.begin_fill()\n",
    "    t.fillcolor(\"yellow\")\n",
    "    t.pu() # 提笔\n",
    "    t.goto(64,-140) # 笔头初始位置\n",
    "    t.pd() # 下笔\n",
    "    t.setheading(10) #画笔角度\n",
    "    t.forward(20)\n",
    "    t.setheading(90) #画笔角度\n",
    "    t.forward(20)\n",
    "    t.setheading(10) #画笔角度\n",
    "    t.forward(10)\n",
    "    t.setheading(80) #画笔角度\n",
    "    t.forward(100)\n",
    "    t.setheading(35) #画笔角度\n",
    "    t.forward(80)\n",
    "    t.setheading(260) #画笔角度\n",
    "    t.forward(100)\n",
    "    t.setheading(205) #画笔角度\n",
    "    t.forward(40)\n",
    "    t.setheading(260) #画笔角度\n",
    "    t.forward(37)\n",
    "    t.setheading(205) #画笔角度\n",
    "    t.forward(20)\n",
    "    t.setheading(260) #画笔角度\n",
    "    t.forward(25)\n",
    "    t.setheading(175) #画笔角度\n",
    "    t.forward(30)\n",
    "    t.setheading(100) #画笔角度\n",
    "    t.forward(13)\n",
    "    t.end_fill()\n",
    "\n",
    "\n",
    "#画脚\n",
    "def InitFoots():\n",
    "    #脚\n",
    "    t.begin_fill()\n",
    "    t.fillcolor(\"yellow\")\n",
    "    t.pensize(2)\n",
    "    t.pu() # 提笔\n",
    "    t.goto(-70,-200) # 笔头初始位置\n",
    "    t.pd() # 下笔\n",
    "    t.setheading(225) #画笔角度\n",
    "    radian_left(0.5,1.2,0,12)\n",
    "    radian_left(35,0.6,0,4)\n",
    "    radian_left(1,1.2,0,18)\n",
    "    t.setheading(160) #画笔角度\n",
    "    t.forward(13)\n",
    "    t.end_fill()\n",
    "\n",
    "    t.begin_fill()\n",
    "    t.fillcolor(\"yellow\")\n",
    "    t.pensize(2)\n",
    "    t.pu() # 提笔\n",
    "    t.goto(70,-200) # 笔头初始位置\n",
    "    t.pd() # 下笔\n",
    "    t.setheading(315) #画笔角度\n",
    "    radian_right(0.5,1.2,0,12)\n",
    "    radian_right(35,0.6,0,4)\n",
    "    radian_right(1,1.2,0,18)\n",
    "    t.setheading(20) #画笔角度\n",
    "    t.forward(13)\n",
    "    t.end_fill()\n",
    "\n",
    "\n",
    "#画身体\n",
    "def InitBody():\n",
    "    #外形轮廓\n",
    "    t.begin_fill()\n",
    "    t.pu() # 提笔\n",
    "    t.goto(112,0) # 笔头初始位置\n",
    "    t.pd() # 下笔\n",
    "    t.setheading(90) #画笔角度\n",
    "    t.circle(112,180)  \n",
    "\n",
    "    t.setheading(250) #画笔角度\n",
    "\n",
    "    radian_left(1.6,1.3,0,50)\n",
    "    \n",
    "    radian_left(0.8,1.5,0,25)\n",
    "\n",
    "    t.setheading(255) #画笔角度\n",
    "    radian_left(0.4,1.6,0.2,27)\n",
    "\n",
    "    radian_left(2.8,1,0,45)\n",
    "    radian_right(0.9,1.4,0,31)\n",
    "\n",
    "    t.setheading(355) #画笔角度\n",
    "    radian_right(0.9,1.4,0,31)\n",
    "\n",
    "    radian_left(2.8,1,0,45)\n",
    "\n",
    "    radian_left(0.4,7.2,-0.2,27)\n",
    "\n",
    "    t.setheading(10) #画笔角度\n",
    "    radian_left(0.8,1.5,0,25)\n",
    "\n",
    "    radian_left(1.6,1.3,0,50)\n",
    "\n",
    "    t.end_fill()\n",
    "\n",
    "    \n",
    "def InitEyes():\n",
    "    #左眼睛\n",
    "    t.begin_fill()\n",
    "    t.fillcolor(\"black\")\n",
    "    t.pu() # 提笔\n",
    "    t.goto(-46,10) # 笔头初始位置\n",
    "    t.pd() # 下笔\n",
    "    t.setheading(90) #画笔角度\n",
    "    t.circle(5,360) \n",
    "    t.end_fill()\n",
    "\n",
    "    #右眼睛\n",
    "    t.begin_fill()\n",
    "    t.fillcolor(\"black\")\n",
    "    t.pu() # 提笔\n",
    "    t.goto(46,10) # 笔头初始位置\n",
    "    t.pd() # 下笔\n",
    "    t.setheading(-90) #画笔角度\n",
    "    t.circle(5,360) \n",
    "    t.end_fill()\n",
    "    \n",
    "\n",
    "    \n",
    "    \n",
    "#画脸\n",
    "def InitFace():\n",
    "    #脸蛋\n",
    "    t.begin_fill()\n",
    "    t.fillcolor(\"red\")\n",
    "    t.pu() # 提笔\n",
    "    t.goto(-63,-10) # 笔头初始位置\n",
    "    t.pd() # 下笔\n",
    "    t.setheading(90) #画笔角度\n",
    "    t.circle(10,360) \n",
    "    t.end_fill()\n",
    "\n",
    "    t.begin_fill()\n",
    "    t.fillcolor(\"red\")\n",
    "    t.pu() # 提笔\n",
    "    t.goto(63,-10) # 笔头初始位置\n",
    "    t.pd() # 下笔\n",
    "    t.setheading(-90) #画笔角度\n",
    "    t.circle(10,360) \n",
    "    t.end_fill()\n",
    "\n",
    "\n",
    "    #嘴巴\n",
    "    t.pensize(2.2)\n",
    "    t.pu() # 提笔\n",
    "    t.goto(0,0) # 笔头初始位置\n",
    "    t.pd() # 下笔\n",
    "    t.setheading(235) #画笔角度\n",
    "    radian_right(5,0.8,0,30)\n",
    "\n",
    "    t.pu() # 提笔\n",
    "    t.goto(0,0) # 笔头初始位置\n",
    "    t.pd() # 下笔\n",
    "    t.setheading(305) #画笔角度\n",
    "    radian_left(5,0.8,0,30)\n",
    "\n",
    "\n",
    "#画手\n",
    "def InitHands():\n",
    "    #左手\n",
    "    t.pensize(2)\n",
    "    t.pu() # 提笔\n",
    "    t.goto(-46,-100) # 笔头初始位置\n",
    "    t.pd() # 下笔\n",
    "    t.setheading(285) #画笔角度\n",
    "    radian_right(0.4,1.2,0,26)\n",
    "    radian_right(5,0.35,0,26)\n",
    "    radian_right(0.3,1.2,0,15)\n",
    "\n",
    "    #右手\n",
    "    t.pu() # 提笔\n",
    "    t.goto(46,-100) # 笔头初始位置\n",
    "    t.pd() # 下笔\n",
    "    t.setheading(255) #画笔角度\n",
    "    radian_left(0.4,1.2,0,26)\n",
    "    radian_left(5,0.35,0,26)\n",
    "    radian_left(0.3,1.2,0,15)\n",
    "\n",
    "\n",
    "def CloseEyes():\n",
    "    #左眼睛\n",
    "    t.pu() # 提笔\n",
    "    t.goto(-46,12) # 笔头初始位置\n",
    "    t.pd() # 下笔\n",
    "    t.setheading(180) #画笔角度\n",
    "    t.forward(10)\n",
    "\n",
    "    #右眼睛\n",
    "    t.pu() # 提笔\n",
    "    t.goto(46,12) # 笔头初始位置\n",
    "    t.pd() # 下笔\n",
    "    t.setheading(0) #画笔角度\n",
    "    t.forward(10)\n",
    "    \n",
    "\n",
    "#初始化\n",
    "def Init():\n",
    "    InitEars()\n",
    "    InitTail()\n",
    "    InitFoots()\n",
    "    InitBody()\n",
    "    InitFace()\n",
    "    InitHands()\n",
    "    InitEyes()\n",
    "    \n",
    " \n",
    " #眨眼睛\n",
    "def Upgarde():\n",
    "    InitEars()\n",
    "    InitTail()\n",
    "    InitFoots()\n",
    "    InitBody()\n",
    "    InitFace()\n",
    "    InitHands()\n",
    "    CloseEyes()\n",
    "    \n",
    "def Upgarde_Init():\n",
    "    InitEars()\n",
    "    InitTail()\n",
    "    InitFoots()\n",
    "    InitBody()\n",
    "    InitFace()\n",
    "    InitHands()\n",
    "    InitEyes()\n",
    "    \n",
    "\n",
    "    \n",
    "def main():\n",
    "\n",
    "    Init()\n",
    "    \n",
    "    t.tracer(False)\n",
    "    \n",
    "    #眨眼睛动画\n",
    "    for i in range(30):\n",
    "        if i%2==0:\n",
    "            t.reset()\n",
    "            t.hideturtle()\n",
    "            Upgarde()\n",
    "            t.update()\n",
    "            time.sleep(0.3)\n",
    "        else:\n",
    "            t.reset()\n",
    "            t.hideturtle()\n",
    "            Upgarde_Init()\n",
    "            t.update()\n",
    "            time.sleep(1)\n",
    "        \n",
    "    \n",
    "main()\n",
    "\n",
    "#结束画笔\n",
    "t.done()"
   ]
  },
  {
   "cell_type": "code",
   "execution_count": 164,
   "metadata": {},
   "outputs": [
    {
     "ename": "TurtleGraphicsError",
     "evalue": "bad color string: sienna",
     "output_type": "error",
     "traceback": [
      "\u001b[1;31m---------------------------------------------------------------------------\u001b[0m",
      "\u001b[1;31mTurtleGraphicsError\u001b[0m                       Traceback (most recent call last)",
      "\u001b[1;32m<ipython-input-164-13b3d9b36d6e>\u001b[0m in \u001b[0;36m<module>\u001b[1;34m\u001b[0m\n\u001b[0;32m     65\u001b[0m \u001b[1;33m\u001b[0m\u001b[0m\n\u001b[0;32m     66\u001b[0m \u001b[1;31m# 画樱花的躯干\u001b[0m\u001b[1;33m\u001b[0m\u001b[1;33m\u001b[0m\u001b[1;33m\u001b[0m\u001b[0m\n\u001b[1;32m---> 67\u001b[1;33m \u001b[0mTree\u001b[0m\u001b[1;33m(\u001b[0m\u001b[1;36m79\u001b[0m\u001b[1;33m,\u001b[0m \u001b[0mt\u001b[0m\u001b[1;33m)\u001b[0m\u001b[1;33m\u001b[0m\u001b[1;33m\u001b[0m\u001b[0m\n\u001b[0m\u001b[0;32m     68\u001b[0m \u001b[1;31m# 掉落的花瓣\u001b[0m\u001b[1;33m\u001b[0m\u001b[1;33m\u001b[0m\u001b[1;33m\u001b[0m\u001b[0m\n\u001b[0;32m     69\u001b[0m \u001b[0mPetal\u001b[0m\u001b[1;33m(\u001b[0m\u001b[1;36m200\u001b[0m\u001b[1;33m,\u001b[0m \u001b[0mt\u001b[0m\u001b[1;33m)\u001b[0m\u001b[1;33m\u001b[0m\u001b[1;33m\u001b[0m\u001b[0m\n",
      "\u001b[1;32m<ipython-input-164-13b3d9b36d6e>\u001b[0m in \u001b[0;36mTree\u001b[1;34m(branch, t)\u001b[0m\n\u001b[0;32m     28\u001b[0m         \u001b[0mTree\u001b[0m\u001b[1;33m(\u001b[0m\u001b[0mbranch\u001b[0m \u001b[1;33m-\u001b[0m \u001b[1;36m10\u001b[0m \u001b[1;33m*\u001b[0m \u001b[0mb\u001b[0m\u001b[1;33m,\u001b[0m \u001b[0mt\u001b[0m\u001b[1;33m)\u001b[0m\u001b[1;33m\u001b[0m\u001b[1;33m\u001b[0m\u001b[0m\n\u001b[0;32m     29\u001b[0m         \u001b[0mt\u001b[0m\u001b[1;33m.\u001b[0m\u001b[0mleft\u001b[0m\u001b[1;33m(\u001b[0m\u001b[1;36m40\u001b[0m \u001b[1;33m*\u001b[0m \u001b[0ma\u001b[0m\u001b[1;33m)\u001b[0m\u001b[1;33m\u001b[0m\u001b[1;33m\u001b[0m\u001b[0m\n\u001b[1;32m---> 30\u001b[1;33m         \u001b[0mTree\u001b[0m\u001b[1;33m(\u001b[0m\u001b[0mbranch\u001b[0m \u001b[1;33m-\u001b[0m \u001b[1;36m10\u001b[0m \u001b[1;33m*\u001b[0m \u001b[0mb\u001b[0m\u001b[1;33m,\u001b[0m \u001b[0mt\u001b[0m\u001b[1;33m)\u001b[0m\u001b[1;33m\u001b[0m\u001b[1;33m\u001b[0m\u001b[0m\n\u001b[0m\u001b[0;32m     31\u001b[0m         \u001b[0mt\u001b[0m\u001b[1;33m.\u001b[0m\u001b[0mright\u001b[0m\u001b[1;33m(\u001b[0m\u001b[1;36m20\u001b[0m \u001b[1;33m*\u001b[0m \u001b[0ma\u001b[0m\u001b[1;33m)\u001b[0m\u001b[1;33m\u001b[0m\u001b[1;33m\u001b[0m\u001b[0m\n\u001b[0;32m     32\u001b[0m         \u001b[0mt\u001b[0m\u001b[1;33m.\u001b[0m\u001b[0mup\u001b[0m\u001b[1;33m(\u001b[0m\u001b[1;33m)\u001b[0m\u001b[1;33m\u001b[0m\u001b[1;33m\u001b[0m\u001b[0m\n",
      "\u001b[1;32m<ipython-input-164-13b3d9b36d6e>\u001b[0m in \u001b[0;36mTree\u001b[1;34m(branch, t)\u001b[0m\n\u001b[0;32m     26\u001b[0m         \u001b[0mt\u001b[0m\u001b[1;33m.\u001b[0m\u001b[0mright\u001b[0m\u001b[1;33m(\u001b[0m\u001b[1;36m20\u001b[0m \u001b[1;33m*\u001b[0m \u001b[0ma\u001b[0m\u001b[1;33m)\u001b[0m\u001b[1;33m\u001b[0m\u001b[1;33m\u001b[0m\u001b[0m\n\u001b[0;32m     27\u001b[0m         \u001b[0mb\u001b[0m \u001b[1;33m=\u001b[0m \u001b[1;36m1.5\u001b[0m \u001b[1;33m*\u001b[0m \u001b[0mrandom\u001b[0m\u001b[1;33m.\u001b[0m\u001b[0mrandom\u001b[0m\u001b[1;33m(\u001b[0m\u001b[1;33m)\u001b[0m\u001b[1;33m\u001b[0m\u001b[1;33m\u001b[0m\u001b[0m\n\u001b[1;32m---> 28\u001b[1;33m         \u001b[0mTree\u001b[0m\u001b[1;33m(\u001b[0m\u001b[0mbranch\u001b[0m \u001b[1;33m-\u001b[0m \u001b[1;36m10\u001b[0m \u001b[1;33m*\u001b[0m \u001b[0mb\u001b[0m\u001b[1;33m,\u001b[0m \u001b[0mt\u001b[0m\u001b[1;33m)\u001b[0m\u001b[1;33m\u001b[0m\u001b[1;33m\u001b[0m\u001b[0m\n\u001b[0m\u001b[0;32m     29\u001b[0m         \u001b[0mt\u001b[0m\u001b[1;33m.\u001b[0m\u001b[0mleft\u001b[0m\u001b[1;33m(\u001b[0m\u001b[1;36m40\u001b[0m \u001b[1;33m*\u001b[0m \u001b[0ma\u001b[0m\u001b[1;33m)\u001b[0m\u001b[1;33m\u001b[0m\u001b[1;33m\u001b[0m\u001b[0m\n\u001b[0;32m     30\u001b[0m         \u001b[0mTree\u001b[0m\u001b[1;33m(\u001b[0m\u001b[0mbranch\u001b[0m \u001b[1;33m-\u001b[0m \u001b[1;36m10\u001b[0m \u001b[1;33m*\u001b[0m \u001b[0mb\u001b[0m\u001b[1;33m,\u001b[0m \u001b[0mt\u001b[0m\u001b[1;33m)\u001b[0m\u001b[1;33m\u001b[0m\u001b[1;33m\u001b[0m\u001b[0m\n",
      "\u001b[1;32m<ipython-input-164-13b3d9b36d6e>\u001b[0m in \u001b[0;36mTree\u001b[1;34m(branch, t)\u001b[0m\n\u001b[0;32m     28\u001b[0m         \u001b[0mTree\u001b[0m\u001b[1;33m(\u001b[0m\u001b[0mbranch\u001b[0m \u001b[1;33m-\u001b[0m \u001b[1;36m10\u001b[0m \u001b[1;33m*\u001b[0m \u001b[0mb\u001b[0m\u001b[1;33m,\u001b[0m \u001b[0mt\u001b[0m\u001b[1;33m)\u001b[0m\u001b[1;33m\u001b[0m\u001b[1;33m\u001b[0m\u001b[0m\n\u001b[0;32m     29\u001b[0m         \u001b[0mt\u001b[0m\u001b[1;33m.\u001b[0m\u001b[0mleft\u001b[0m\u001b[1;33m(\u001b[0m\u001b[1;36m40\u001b[0m \u001b[1;33m*\u001b[0m \u001b[0ma\u001b[0m\u001b[1;33m)\u001b[0m\u001b[1;33m\u001b[0m\u001b[1;33m\u001b[0m\u001b[0m\n\u001b[1;32m---> 30\u001b[1;33m         \u001b[0mTree\u001b[0m\u001b[1;33m(\u001b[0m\u001b[0mbranch\u001b[0m \u001b[1;33m-\u001b[0m \u001b[1;36m10\u001b[0m \u001b[1;33m*\u001b[0m \u001b[0mb\u001b[0m\u001b[1;33m,\u001b[0m \u001b[0mt\u001b[0m\u001b[1;33m)\u001b[0m\u001b[1;33m\u001b[0m\u001b[1;33m\u001b[0m\u001b[0m\n\u001b[0m\u001b[0;32m     31\u001b[0m         \u001b[0mt\u001b[0m\u001b[1;33m.\u001b[0m\u001b[0mright\u001b[0m\u001b[1;33m(\u001b[0m\u001b[1;36m20\u001b[0m \u001b[1;33m*\u001b[0m \u001b[0ma\u001b[0m\u001b[1;33m)\u001b[0m\u001b[1;33m\u001b[0m\u001b[1;33m\u001b[0m\u001b[0m\n\u001b[0;32m     32\u001b[0m         \u001b[0mt\u001b[0m\u001b[1;33m.\u001b[0m\u001b[0mup\u001b[0m\u001b[1;33m(\u001b[0m\u001b[1;33m)\u001b[0m\u001b[1;33m\u001b[0m\u001b[1;33m\u001b[0m\u001b[0m\n",
      "\u001b[1;32m<ipython-input-164-13b3d9b36d6e>\u001b[0m in \u001b[0;36mTree\u001b[1;34m(branch, t)\u001b[0m\n\u001b[0;32m     28\u001b[0m         \u001b[0mTree\u001b[0m\u001b[1;33m(\u001b[0m\u001b[0mbranch\u001b[0m \u001b[1;33m-\u001b[0m \u001b[1;36m10\u001b[0m \u001b[1;33m*\u001b[0m \u001b[0mb\u001b[0m\u001b[1;33m,\u001b[0m \u001b[0mt\u001b[0m\u001b[1;33m)\u001b[0m\u001b[1;33m\u001b[0m\u001b[1;33m\u001b[0m\u001b[0m\n\u001b[0;32m     29\u001b[0m         \u001b[0mt\u001b[0m\u001b[1;33m.\u001b[0m\u001b[0mleft\u001b[0m\u001b[1;33m(\u001b[0m\u001b[1;36m40\u001b[0m \u001b[1;33m*\u001b[0m \u001b[0ma\u001b[0m\u001b[1;33m)\u001b[0m\u001b[1;33m\u001b[0m\u001b[1;33m\u001b[0m\u001b[0m\n\u001b[1;32m---> 30\u001b[1;33m         \u001b[0mTree\u001b[0m\u001b[1;33m(\u001b[0m\u001b[0mbranch\u001b[0m \u001b[1;33m-\u001b[0m \u001b[1;36m10\u001b[0m \u001b[1;33m*\u001b[0m \u001b[0mb\u001b[0m\u001b[1;33m,\u001b[0m \u001b[0mt\u001b[0m\u001b[1;33m)\u001b[0m\u001b[1;33m\u001b[0m\u001b[1;33m\u001b[0m\u001b[0m\n\u001b[0m\u001b[0;32m     31\u001b[0m         \u001b[0mt\u001b[0m\u001b[1;33m.\u001b[0m\u001b[0mright\u001b[0m\u001b[1;33m(\u001b[0m\u001b[1;36m20\u001b[0m \u001b[1;33m*\u001b[0m \u001b[0ma\u001b[0m\u001b[1;33m)\u001b[0m\u001b[1;33m\u001b[0m\u001b[1;33m\u001b[0m\u001b[0m\n\u001b[0;32m     32\u001b[0m         \u001b[0mt\u001b[0m\u001b[1;33m.\u001b[0m\u001b[0mup\u001b[0m\u001b[1;33m(\u001b[0m\u001b[1;33m)\u001b[0m\u001b[1;33m\u001b[0m\u001b[1;33m\u001b[0m\u001b[0m\n",
      "\u001b[1;32m<ipython-input-164-13b3d9b36d6e>\u001b[0m in \u001b[0;36mTree\u001b[1;34m(branch, t)\u001b[0m\n\u001b[0;32m     26\u001b[0m         \u001b[0mt\u001b[0m\u001b[1;33m.\u001b[0m\u001b[0mright\u001b[0m\u001b[1;33m(\u001b[0m\u001b[1;36m20\u001b[0m \u001b[1;33m*\u001b[0m \u001b[0ma\u001b[0m\u001b[1;33m)\u001b[0m\u001b[1;33m\u001b[0m\u001b[1;33m\u001b[0m\u001b[0m\n\u001b[0;32m     27\u001b[0m         \u001b[0mb\u001b[0m \u001b[1;33m=\u001b[0m \u001b[1;36m1.5\u001b[0m \u001b[1;33m*\u001b[0m \u001b[0mrandom\u001b[0m\u001b[1;33m.\u001b[0m\u001b[0mrandom\u001b[0m\u001b[1;33m(\u001b[0m\u001b[1;33m)\u001b[0m\u001b[1;33m\u001b[0m\u001b[1;33m\u001b[0m\u001b[0m\n\u001b[1;32m---> 28\u001b[1;33m         \u001b[0mTree\u001b[0m\u001b[1;33m(\u001b[0m\u001b[0mbranch\u001b[0m \u001b[1;33m-\u001b[0m \u001b[1;36m10\u001b[0m \u001b[1;33m*\u001b[0m \u001b[0mb\u001b[0m\u001b[1;33m,\u001b[0m \u001b[0mt\u001b[0m\u001b[1;33m)\u001b[0m\u001b[1;33m\u001b[0m\u001b[1;33m\u001b[0m\u001b[0m\n\u001b[0m\u001b[0;32m     29\u001b[0m         \u001b[0mt\u001b[0m\u001b[1;33m.\u001b[0m\u001b[0mleft\u001b[0m\u001b[1;33m(\u001b[0m\u001b[1;36m40\u001b[0m \u001b[1;33m*\u001b[0m \u001b[0ma\u001b[0m\u001b[1;33m)\u001b[0m\u001b[1;33m\u001b[0m\u001b[1;33m\u001b[0m\u001b[0m\n\u001b[0;32m     30\u001b[0m         \u001b[0mTree\u001b[0m\u001b[1;33m(\u001b[0m\u001b[0mbranch\u001b[0m \u001b[1;33m-\u001b[0m \u001b[1;36m10\u001b[0m \u001b[1;33m*\u001b[0m \u001b[0mb\u001b[0m\u001b[1;33m,\u001b[0m \u001b[0mt\u001b[0m\u001b[1;33m)\u001b[0m\u001b[1;33m\u001b[0m\u001b[1;33m\u001b[0m\u001b[0m\n",
      "\u001b[1;32m<ipython-input-164-13b3d9b36d6e>\u001b[0m in \u001b[0;36mTree\u001b[1;34m(branch, t)\u001b[0m\n\u001b[0;32m     26\u001b[0m         \u001b[0mt\u001b[0m\u001b[1;33m.\u001b[0m\u001b[0mright\u001b[0m\u001b[1;33m(\u001b[0m\u001b[1;36m20\u001b[0m \u001b[1;33m*\u001b[0m \u001b[0ma\u001b[0m\u001b[1;33m)\u001b[0m\u001b[1;33m\u001b[0m\u001b[1;33m\u001b[0m\u001b[0m\n\u001b[0;32m     27\u001b[0m         \u001b[0mb\u001b[0m \u001b[1;33m=\u001b[0m \u001b[1;36m1.5\u001b[0m \u001b[1;33m*\u001b[0m \u001b[0mrandom\u001b[0m\u001b[1;33m.\u001b[0m\u001b[0mrandom\u001b[0m\u001b[1;33m(\u001b[0m\u001b[1;33m)\u001b[0m\u001b[1;33m\u001b[0m\u001b[1;33m\u001b[0m\u001b[0m\n\u001b[1;32m---> 28\u001b[1;33m         \u001b[0mTree\u001b[0m\u001b[1;33m(\u001b[0m\u001b[0mbranch\u001b[0m \u001b[1;33m-\u001b[0m \u001b[1;36m10\u001b[0m \u001b[1;33m*\u001b[0m \u001b[0mb\u001b[0m\u001b[1;33m,\u001b[0m \u001b[0mt\u001b[0m\u001b[1;33m)\u001b[0m\u001b[1;33m\u001b[0m\u001b[1;33m\u001b[0m\u001b[0m\n\u001b[0m\u001b[0;32m     29\u001b[0m         \u001b[0mt\u001b[0m\u001b[1;33m.\u001b[0m\u001b[0mleft\u001b[0m\u001b[1;33m(\u001b[0m\u001b[1;36m40\u001b[0m \u001b[1;33m*\u001b[0m \u001b[0ma\u001b[0m\u001b[1;33m)\u001b[0m\u001b[1;33m\u001b[0m\u001b[1;33m\u001b[0m\u001b[0m\n\u001b[0;32m     30\u001b[0m         \u001b[0mTree\u001b[0m\u001b[1;33m(\u001b[0m\u001b[0mbranch\u001b[0m \u001b[1;33m-\u001b[0m \u001b[1;36m10\u001b[0m \u001b[1;33m*\u001b[0m \u001b[0mb\u001b[0m\u001b[1;33m,\u001b[0m \u001b[0mt\u001b[0m\u001b[1;33m)\u001b[0m\u001b[1;33m\u001b[0m\u001b[1;33m\u001b[0m\u001b[0m\n",
      "\u001b[1;32m<ipython-input-164-13b3d9b36d6e>\u001b[0m in \u001b[0;36mTree\u001b[1;34m(branch, t)\u001b[0m\n\u001b[0;32m     26\u001b[0m         \u001b[0mt\u001b[0m\u001b[1;33m.\u001b[0m\u001b[0mright\u001b[0m\u001b[1;33m(\u001b[0m\u001b[1;36m20\u001b[0m \u001b[1;33m*\u001b[0m \u001b[0ma\u001b[0m\u001b[1;33m)\u001b[0m\u001b[1;33m\u001b[0m\u001b[1;33m\u001b[0m\u001b[0m\n\u001b[0;32m     27\u001b[0m         \u001b[0mb\u001b[0m \u001b[1;33m=\u001b[0m \u001b[1;36m1.5\u001b[0m \u001b[1;33m*\u001b[0m \u001b[0mrandom\u001b[0m\u001b[1;33m.\u001b[0m\u001b[0mrandom\u001b[0m\u001b[1;33m(\u001b[0m\u001b[1;33m)\u001b[0m\u001b[1;33m\u001b[0m\u001b[1;33m\u001b[0m\u001b[0m\n\u001b[1;32m---> 28\u001b[1;33m         \u001b[0mTree\u001b[0m\u001b[1;33m(\u001b[0m\u001b[0mbranch\u001b[0m \u001b[1;33m-\u001b[0m \u001b[1;36m10\u001b[0m \u001b[1;33m*\u001b[0m \u001b[0mb\u001b[0m\u001b[1;33m,\u001b[0m \u001b[0mt\u001b[0m\u001b[1;33m)\u001b[0m\u001b[1;33m\u001b[0m\u001b[1;33m\u001b[0m\u001b[0m\n\u001b[0m\u001b[0;32m     29\u001b[0m         \u001b[0mt\u001b[0m\u001b[1;33m.\u001b[0m\u001b[0mleft\u001b[0m\u001b[1;33m(\u001b[0m\u001b[1;36m40\u001b[0m \u001b[1;33m*\u001b[0m \u001b[0ma\u001b[0m\u001b[1;33m)\u001b[0m\u001b[1;33m\u001b[0m\u001b[1;33m\u001b[0m\u001b[0m\n\u001b[0;32m     30\u001b[0m         \u001b[0mTree\u001b[0m\u001b[1;33m(\u001b[0m\u001b[0mbranch\u001b[0m \u001b[1;33m-\u001b[0m \u001b[1;36m10\u001b[0m \u001b[1;33m*\u001b[0m \u001b[0mb\u001b[0m\u001b[1;33m,\u001b[0m \u001b[0mt\u001b[0m\u001b[1;33m)\u001b[0m\u001b[1;33m\u001b[0m\u001b[1;33m\u001b[0m\u001b[0m\n",
      "\u001b[1;32m<ipython-input-164-13b3d9b36d6e>\u001b[0m in \u001b[0;36mTree\u001b[1;34m(branch, t)\u001b[0m\n\u001b[0;32m     26\u001b[0m         \u001b[0mt\u001b[0m\u001b[1;33m.\u001b[0m\u001b[0mright\u001b[0m\u001b[1;33m(\u001b[0m\u001b[1;36m20\u001b[0m \u001b[1;33m*\u001b[0m \u001b[0ma\u001b[0m\u001b[1;33m)\u001b[0m\u001b[1;33m\u001b[0m\u001b[1;33m\u001b[0m\u001b[0m\n\u001b[0;32m     27\u001b[0m         \u001b[0mb\u001b[0m \u001b[1;33m=\u001b[0m \u001b[1;36m1.5\u001b[0m \u001b[1;33m*\u001b[0m \u001b[0mrandom\u001b[0m\u001b[1;33m.\u001b[0m\u001b[0mrandom\u001b[0m\u001b[1;33m(\u001b[0m\u001b[1;33m)\u001b[0m\u001b[1;33m\u001b[0m\u001b[1;33m\u001b[0m\u001b[0m\n\u001b[1;32m---> 28\u001b[1;33m         \u001b[0mTree\u001b[0m\u001b[1;33m(\u001b[0m\u001b[0mbranch\u001b[0m \u001b[1;33m-\u001b[0m \u001b[1;36m10\u001b[0m \u001b[1;33m*\u001b[0m \u001b[0mb\u001b[0m\u001b[1;33m,\u001b[0m \u001b[0mt\u001b[0m\u001b[1;33m)\u001b[0m\u001b[1;33m\u001b[0m\u001b[1;33m\u001b[0m\u001b[0m\n\u001b[0m\u001b[0;32m     29\u001b[0m         \u001b[0mt\u001b[0m\u001b[1;33m.\u001b[0m\u001b[0mleft\u001b[0m\u001b[1;33m(\u001b[0m\u001b[1;36m40\u001b[0m \u001b[1;33m*\u001b[0m \u001b[0ma\u001b[0m\u001b[1;33m)\u001b[0m\u001b[1;33m\u001b[0m\u001b[1;33m\u001b[0m\u001b[0m\n\u001b[0;32m     30\u001b[0m         \u001b[0mTree\u001b[0m\u001b[1;33m(\u001b[0m\u001b[0mbranch\u001b[0m \u001b[1;33m-\u001b[0m \u001b[1;36m10\u001b[0m \u001b[1;33m*\u001b[0m \u001b[0mb\u001b[0m\u001b[1;33m,\u001b[0m \u001b[0mt\u001b[0m\u001b[1;33m)\u001b[0m\u001b[1;33m\u001b[0m\u001b[1;33m\u001b[0m\u001b[0m\n",
      "\u001b[1;32m<ipython-input-164-13b3d9b36d6e>\u001b[0m in \u001b[0;36mTree\u001b[1;34m(branch, t)\u001b[0m\n\u001b[0;32m     26\u001b[0m         \u001b[0mt\u001b[0m\u001b[1;33m.\u001b[0m\u001b[0mright\u001b[0m\u001b[1;33m(\u001b[0m\u001b[1;36m20\u001b[0m \u001b[1;33m*\u001b[0m \u001b[0ma\u001b[0m\u001b[1;33m)\u001b[0m\u001b[1;33m\u001b[0m\u001b[1;33m\u001b[0m\u001b[0m\n\u001b[0;32m     27\u001b[0m         \u001b[0mb\u001b[0m \u001b[1;33m=\u001b[0m \u001b[1;36m1.5\u001b[0m \u001b[1;33m*\u001b[0m \u001b[0mrandom\u001b[0m\u001b[1;33m.\u001b[0m\u001b[0mrandom\u001b[0m\u001b[1;33m(\u001b[0m\u001b[1;33m)\u001b[0m\u001b[1;33m\u001b[0m\u001b[1;33m\u001b[0m\u001b[0m\n\u001b[1;32m---> 28\u001b[1;33m         \u001b[0mTree\u001b[0m\u001b[1;33m(\u001b[0m\u001b[0mbranch\u001b[0m \u001b[1;33m-\u001b[0m \u001b[1;36m10\u001b[0m \u001b[1;33m*\u001b[0m \u001b[0mb\u001b[0m\u001b[1;33m,\u001b[0m \u001b[0mt\u001b[0m\u001b[1;33m)\u001b[0m\u001b[1;33m\u001b[0m\u001b[1;33m\u001b[0m\u001b[0m\n\u001b[0m\u001b[0;32m     29\u001b[0m         \u001b[0mt\u001b[0m\u001b[1;33m.\u001b[0m\u001b[0mleft\u001b[0m\u001b[1;33m(\u001b[0m\u001b[1;36m40\u001b[0m \u001b[1;33m*\u001b[0m \u001b[0ma\u001b[0m\u001b[1;33m)\u001b[0m\u001b[1;33m\u001b[0m\u001b[1;33m\u001b[0m\u001b[0m\n\u001b[0;32m     30\u001b[0m         \u001b[0mTree\u001b[0m\u001b[1;33m(\u001b[0m\u001b[0mbranch\u001b[0m \u001b[1;33m-\u001b[0m \u001b[1;36m10\u001b[0m \u001b[1;33m*\u001b[0m \u001b[0mb\u001b[0m\u001b[1;33m,\u001b[0m \u001b[0mt\u001b[0m\u001b[1;33m)\u001b[0m\u001b[1;33m\u001b[0m\u001b[1;33m\u001b[0m\u001b[0m\n",
      "\u001b[1;32m<ipython-input-164-13b3d9b36d6e>\u001b[0m in \u001b[0;36mTree\u001b[1;34m(branch, t)\u001b[0m\n\u001b[0;32m     20\u001b[0m             \u001b[0mt\u001b[0m\u001b[1;33m.\u001b[0m\u001b[0mpensize\u001b[0m\u001b[1;33m(\u001b[0m\u001b[0mbranch\u001b[0m \u001b[1;33m/\u001b[0m \u001b[1;36m2\u001b[0m\u001b[1;33m)\u001b[0m\u001b[1;33m\u001b[0m\u001b[1;33m\u001b[0m\u001b[0m\n\u001b[0;32m     21\u001b[0m         \u001b[1;32melse\u001b[0m\u001b[1;33m:\u001b[0m\u001b[1;33m\u001b[0m\u001b[1;33m\u001b[0m\u001b[0m\n\u001b[1;32m---> 22\u001b[1;33m             \u001b[0mt\u001b[0m\u001b[1;33m.\u001b[0m\u001b[0mcolor\u001b[0m\u001b[1;33m(\u001b[0m\u001b[1;34m'sienna'\u001b[0m\u001b[1;33m)\u001b[0m  \u001b[1;31m# 赭(zhě)色\u001b[0m\u001b[1;33m\u001b[0m\u001b[1;33m\u001b[0m\u001b[0m\n\u001b[0m\u001b[0;32m     23\u001b[0m             \u001b[0mt\u001b[0m\u001b[1;33m.\u001b[0m\u001b[0mpensize\u001b[0m\u001b[1;33m(\u001b[0m\u001b[0mbranch\u001b[0m \u001b[1;33m/\u001b[0m \u001b[1;36m10\u001b[0m\u001b[1;33m)\u001b[0m  \u001b[1;31m# 6\u001b[0m\u001b[1;33m\u001b[0m\u001b[1;33m\u001b[0m\u001b[0m\n\u001b[0;32m     24\u001b[0m         \u001b[0mt\u001b[0m\u001b[1;33m.\u001b[0m\u001b[0mforward\u001b[0m\u001b[1;33m(\u001b[0m\u001b[0mbranch\u001b[0m\u001b[1;33m)\u001b[0m\u001b[1;33m\u001b[0m\u001b[1;33m\u001b[0m\u001b[0m\n",
      "\u001b[1;32mD:\\Anaconda\\lib\\turtle.py\u001b[0m in \u001b[0;36mcolor\u001b[1;34m(self, *args)\u001b[0m\n\u001b[0;32m   2214\u001b[0m             \u001b[1;32melif\u001b[0m \u001b[0ml\u001b[0m \u001b[1;33m==\u001b[0m \u001b[1;36m3\u001b[0m\u001b[1;33m:\u001b[0m\u001b[1;33m\u001b[0m\u001b[1;33m\u001b[0m\u001b[0m\n\u001b[0;32m   2215\u001b[0m                 \u001b[0mpcolor\u001b[0m \u001b[1;33m=\u001b[0m \u001b[0mfcolor\u001b[0m \u001b[1;33m=\u001b[0m \u001b[0margs\u001b[0m\u001b[1;33m\u001b[0m\u001b[1;33m\u001b[0m\u001b[0m\n\u001b[1;32m-> 2216\u001b[1;33m             \u001b[0mpcolor\u001b[0m \u001b[1;33m=\u001b[0m \u001b[0mself\u001b[0m\u001b[1;33m.\u001b[0m\u001b[0m_colorstr\u001b[0m\u001b[1;33m(\u001b[0m\u001b[0mpcolor\u001b[0m\u001b[1;33m)\u001b[0m\u001b[1;33m\u001b[0m\u001b[1;33m\u001b[0m\u001b[0m\n\u001b[0m\u001b[0;32m   2217\u001b[0m             \u001b[0mfcolor\u001b[0m \u001b[1;33m=\u001b[0m \u001b[0mself\u001b[0m\u001b[1;33m.\u001b[0m\u001b[0m_colorstr\u001b[0m\u001b[1;33m(\u001b[0m\u001b[0mfcolor\u001b[0m\u001b[1;33m)\u001b[0m\u001b[1;33m\u001b[0m\u001b[1;33m\u001b[0m\u001b[0m\n\u001b[0;32m   2218\u001b[0m             \u001b[0mself\u001b[0m\u001b[1;33m.\u001b[0m\u001b[0mpen\u001b[0m\u001b[1;33m(\u001b[0m\u001b[0mpencolor\u001b[0m\u001b[1;33m=\u001b[0m\u001b[0mpcolor\u001b[0m\u001b[1;33m,\u001b[0m \u001b[0mfillcolor\u001b[0m\u001b[1;33m=\u001b[0m\u001b[0mfcolor\u001b[0m\u001b[1;33m)\u001b[0m\u001b[1;33m\u001b[0m\u001b[1;33m\u001b[0m\u001b[0m\n",
      "\u001b[1;32mD:\\Anaconda\\lib\\turtle.py\u001b[0m in \u001b[0;36m_colorstr\u001b[1;34m(self, args)\u001b[0m\n\u001b[0;32m   2694\u001b[0m \u001b[1;33m\u001b[0m\u001b[0m\n\u001b[0;32m   2695\u001b[0m     \u001b[1;32mdef\u001b[0m \u001b[0m_colorstr\u001b[0m\u001b[1;33m(\u001b[0m\u001b[0mself\u001b[0m\u001b[1;33m,\u001b[0m \u001b[0margs\u001b[0m\u001b[1;33m)\u001b[0m\u001b[1;33m:\u001b[0m\u001b[1;33m\u001b[0m\u001b[1;33m\u001b[0m\u001b[0m\n\u001b[1;32m-> 2696\u001b[1;33m         \u001b[1;32mreturn\u001b[0m \u001b[0mself\u001b[0m\u001b[1;33m.\u001b[0m\u001b[0mscreen\u001b[0m\u001b[1;33m.\u001b[0m\u001b[0m_colorstr\u001b[0m\u001b[1;33m(\u001b[0m\u001b[0margs\u001b[0m\u001b[1;33m)\u001b[0m\u001b[1;33m\u001b[0m\u001b[1;33m\u001b[0m\u001b[0m\n\u001b[0m\u001b[0;32m   2697\u001b[0m \u001b[1;33m\u001b[0m\u001b[0m\n\u001b[0;32m   2698\u001b[0m     \u001b[1;32mdef\u001b[0m \u001b[0m_cc\u001b[0m\u001b[1;33m(\u001b[0m\u001b[0mself\u001b[0m\u001b[1;33m,\u001b[0m \u001b[0margs\u001b[0m\u001b[1;33m)\u001b[0m\u001b[1;33m:\u001b[0m\u001b[1;33m\u001b[0m\u001b[1;33m\u001b[0m\u001b[0m\n",
      "\u001b[1;32mD:\\Anaconda\\lib\\turtle.py\u001b[0m in \u001b[0;36m_colorstr\u001b[1;34m(self, color)\u001b[0m\n\u001b[0;32m   1156\u001b[0m                 \u001b[1;32mreturn\u001b[0m \u001b[0mcolor\u001b[0m\u001b[1;33m\u001b[0m\u001b[1;33m\u001b[0m\u001b[0m\n\u001b[0;32m   1157\u001b[0m             \u001b[1;32melse\u001b[0m\u001b[1;33m:\u001b[0m\u001b[1;33m\u001b[0m\u001b[1;33m\u001b[0m\u001b[0m\n\u001b[1;32m-> 1158\u001b[1;33m                 \u001b[1;32mraise\u001b[0m \u001b[0mTurtleGraphicsError\u001b[0m\u001b[1;33m(\u001b[0m\u001b[1;34m\"bad color string: %s\"\u001b[0m \u001b[1;33m%\u001b[0m \u001b[0mstr\u001b[0m\u001b[1;33m(\u001b[0m\u001b[0mcolor\u001b[0m\u001b[1;33m)\u001b[0m\u001b[1;33m)\u001b[0m\u001b[1;33m\u001b[0m\u001b[1;33m\u001b[0m\u001b[0m\n\u001b[0m\u001b[0;32m   1159\u001b[0m         \u001b[1;32mtry\u001b[0m\u001b[1;33m:\u001b[0m\u001b[1;33m\u001b[0m\u001b[1;33m\u001b[0m\u001b[0m\n\u001b[0;32m   1160\u001b[0m             \u001b[0mr\u001b[0m\u001b[1;33m,\u001b[0m \u001b[0mg\u001b[0m\u001b[1;33m,\u001b[0m \u001b[0mb\u001b[0m \u001b[1;33m=\u001b[0m \u001b[0mcolor\u001b[0m\u001b[1;33m\u001b[0m\u001b[1;33m\u001b[0m\u001b[0m\n",
      "\u001b[1;31mTurtleGraphicsError\u001b[0m: bad color string: sienna"
     ]
    }
   ],
   "source": [
    "import turtle as T\n",
    "import random\n",
    "import time\n",
    "\n",
    "# 画樱花的躯干(60,t)\n",
    "def Tree(branch, t):\n",
    "    time.sleep(0.000005)\n",
    "    if branch > 3:\n",
    "        if 8 <= branch <= 12:\n",
    "            if random.randint(0, 2) == 0:\n",
    "                t.color('snow')  # 白\n",
    "            else:\n",
    "                t.color('lightcoral')  # 淡珊瑚色\n",
    "            t.pensize(branch / 3)\n",
    "        elif branch < 8:\n",
    "            if random.randint(0, 1) == 0:\n",
    "                t.color('snow')\n",
    "            else:\n",
    "                t.color('lightcoral')  # 淡珊瑚色\n",
    "            t.pensize(branch / 2)\n",
    "        else:\n",
    "            t.color('sienna')  # 赭(zhě)色\n",
    "            t.pensize(branch / 10)  # 6\n",
    "        t.forward(branch)\n",
    "        a = 1.5 * random.random()\n",
    "        t.right(20 * a)\n",
    "        b = 1.5 * random.random()\n",
    "        Tree(branch - 10 * b, t)\n",
    "        t.left(40 * a)\n",
    "        Tree(branch - 10 * b, t)\n",
    "        t.right(20 * a)\n",
    "        t.up()\n",
    "        t.backward(branch)\n",
    "        t.down()\n",
    "\n",
    "# 掉落的花瓣\n",
    "def Petal(m, t):\n",
    "    for i in range(m):\n",
    "        a = 200 - 400 * random.random()\n",
    "        b = 10 - 20 * random.random()\n",
    "        t.up()\n",
    "        t.forward(b)\n",
    "        t.left(90)\n",
    "        t.forward(a)\n",
    "        t.down()\n",
    "        t.color('lightcoral')  # 淡珊瑚色\n",
    "        t.circle(1)\n",
    "        t.up()\n",
    "        t.backward(a)\n",
    "        t.right(90)\n",
    "        t.backward(b)\n",
    "\n",
    "# 绘图区域\n",
    "t = T.Turtle()\n",
    "# 画布大小\n",
    "w = T.Screen()\n",
    "t.hideturtle()  # 隐藏画笔\n",
    "t.getscreen().tracer(5, 0)\n",
    "w.screensize(bg='wheat')  # wheat小麦\n",
    "t.left(90)\n",
    "t.up()\n",
    "t.backward(150)\n",
    "t.down()\n",
    "t.color('sienna')\n",
    "\n",
    "# 画樱花的躯干\n",
    "Tree(79, t)\n",
    "# 掉落的花瓣\n",
    "Petal(200, t)\n",
    "w.exitonclick()"
   ]
  },
  {
   "cell_type": "code",
   "execution_count": 1,
   "metadata": {},
   "outputs": [],
   "source": [
    "from turtle import *\n",
    "from random import *\n",
    "from math import *\n",
    "\n",
    "def tree(n,l):\n",
    "    pd()#下笔\n",
    "    #阴影效果\n",
    "    t = cos(radians(heading()+45))/8+0.25\n",
    "    pencolor(t,t,t)\n",
    "    pensize(n/3)\n",
    "    forward(l)#画树枝\n",
    "\n",
    "    if n>0:\n",
    "        b = random()*15+10 #右分支偏转角度\n",
    "        c = random()*15+10 #左分支偏转角度\n",
    "        d = l*(random()*0.25+0.7) #下一个分支的长度\n",
    "        #右转一定角度,画右分支\n",
    "        right(b)\n",
    "        tree(n-1,d)\n",
    "        #左转一定角度，画左分支\n",
    "        left(b+c)\n",
    "        tree(n-1,d)\n",
    "        #转回来\n",
    "        right(c)\n",
    "    else:\n",
    "        #画叶子\n",
    "        right(90)\n",
    "        n=cos(radians(heading()-45))/4+0.5\n",
    "        pencolor(n,n*0.8,n*0.8)\n",
    "        circle(3)\n",
    "        left(90)\n",
    "        #添加0.3倍的飘落叶子\n",
    "        if(random()>0.7):\n",
    "            pu()\n",
    "            #飘落\n",
    "            t = heading()\n",
    "            an = -40 +random()*40\n",
    "            setheading(an)\n",
    "            dis = int(800*random()*0.5 + 400*random()*0.3 + 200*random()*0.2)\n",
    "            forward(dis)\n",
    "            setheading(t)\n",
    "            #画叶子\n",
    "            pd()\n",
    "            right(90)\n",
    "            n = cos(radians(heading()-45))/4+0.5\n",
    "            pencolor(n*0.5+0.5,0.4+n*0.4,0.4+n*0.4)\n",
    "            circle(2)\n",
    "            left(90)\n",
    "            pu()\n",
    "            #返回\n",
    "            t=heading()\n",
    "            setheading(an)\n",
    "            backward(dis)\n",
    "            setheading(t)\n",
    "    pu()\n",
    "    backward(l)#退回\n",
    "\n",
    "bgcolor(0.5,0.5,0.5)#背景色\n",
    "ht()#隐藏turtle\n",
    "speed(2)#速度 1-10渐进，0 最快\n",
    "tracer(0,0)\n",
    "pu()#抬笔\n",
    "backward(100)\n",
    "left(90)#左转90度\n",
    "pu()#抬笔\n",
    "backward(300)#后退300\n",
    "tree(12,100)#递归7层\n",
    "done()"
   ]
  },
  {
   "cell_type": "code",
   "execution_count": null,
   "metadata": {},
   "outputs": [],
   "source": [
    "from turtle import *\n",
    "from random import *\n",
    "from math import *\n",
    "\n",
    "def tree(n, l):\n",
    "    pd()\n",
    "    t = cos(radians(heading() + 45)) / 8 + 0.25\n",
    "    pencolor(t, t, t)\n",
    "    pensize(n / 4)\n",
    "    forward(l)\n",
    "    if n > 0:\n",
    "        b = random() * 15 + 10\n",
    "        c = random() * 15 + 10\n",
    "        d = l * (random() * 0.35 + 0.6)\n",
    "        right(b)\n",
    "        tree(n - 1, d)\n",
    "        left(b + c)\n",
    "        tree(n - 1, d)\n",
    "        right(c)\n",
    "    else:\n",
    "        right(90)\n",
    "        n = cos(radians(heading() - 45)) / 4 + 0.5\n",
    "        pencolor(n, n, n)\n",
    "        circle(2)\n",
    "        left(90)\n",
    "    pu()\n",
    "    backward(l)\n",
    "bgcolor(0.5, 0.5, 0.5)\n",
    "ht()\n",
    "speed(5)\n",
    "tracer(0, 0)\n",
    "left(90)\n",
    "pu()\n",
    "backward(300)\n",
    "tree(20, 100)\n",
    "done()"
   ]
  },
  {
   "cell_type": "code",
   "execution_count": 11,
   "metadata": {},
   "outputs": [
    {
     "ename": "Terminator",
     "evalue": "",
     "output_type": "error",
     "traceback": [
      "\u001b[1;31m---------------------------------------------------------------------------\u001b[0m",
      "\u001b[1;31mTerminator\u001b[0m                                Traceback (most recent call last)",
      "\u001b[1;32m<ipython-input-11-b885b4e79340>\u001b[0m in \u001b[0;36m<module>\u001b[1;34m\u001b[0m\n\u001b[0;32m     33\u001b[0m     \u001b[0mright\u001b[0m\u001b[1;33m(\u001b[0m\u001b[1;36m120\u001b[0m\u001b[1;33m)\u001b[0m\u001b[1;33m\u001b[0m\u001b[1;33m\u001b[0m\u001b[0m\n\u001b[0;32m     34\u001b[0m     \u001b[0mbackward\u001b[0m\u001b[1;33m(\u001b[0m\u001b[0ms\u001b[0m\u001b[1;33m)\u001b[0m\u001b[1;33m\u001b[0m\u001b[1;33m\u001b[0m\u001b[0m\n\u001b[1;32m---> 35\u001b[1;33m \u001b[0mtree\u001b[0m\u001b[1;33m(\u001b[0m\u001b[1;36m15\u001b[0m\u001b[1;33m,\u001b[0m \u001b[0mn\u001b[0m\u001b[1;33m)\u001b[0m\u001b[1;33m\u001b[0m\u001b[1;33m\u001b[0m\u001b[0m\n\u001b[0m\u001b[0;32m     36\u001b[0m \u001b[0mbackward\u001b[0m\u001b[1;33m(\u001b[0m\u001b[0mn\u001b[0m\u001b[1;33m/\u001b[0m\u001b[1;36m2\u001b[0m\u001b[1;33m)\u001b[0m\u001b[1;33m\u001b[0m\u001b[1;33m\u001b[0m\u001b[0m\n\u001b[0;32m     37\u001b[0m \u001b[1;33m\u001b[0m\u001b[0m\n",
      "\u001b[1;32m<ipython-input-11-b885b4e79340>\u001b[0m in \u001b[0;36mtree\u001b[1;34m(d, s)\u001b[0m\n\u001b[0;32m     26\u001b[0m     \u001b[1;32mif\u001b[0m \u001b[0md\u001b[0m \u001b[1;33m<=\u001b[0m \u001b[1;36m0\u001b[0m\u001b[1;33m:\u001b[0m \u001b[1;32mreturn\u001b[0m\u001b[1;33m\u001b[0m\u001b[1;33m\u001b[0m\u001b[0m\n\u001b[0;32m     27\u001b[0m     \u001b[0mforward\u001b[0m\u001b[1;33m(\u001b[0m\u001b[0ms\u001b[0m\u001b[1;33m)\u001b[0m\u001b[1;33m\u001b[0m\u001b[1;33m\u001b[0m\u001b[0m\n\u001b[1;32m---> 28\u001b[1;33m     \u001b[0mtree\u001b[0m\u001b[1;33m(\u001b[0m\u001b[0md\u001b[0m\u001b[1;33m-\u001b[0m\u001b[1;36m1\u001b[0m\u001b[1;33m,\u001b[0m \u001b[0ms\u001b[0m\u001b[1;33m*\u001b[0m\u001b[1;36m.8\u001b[0m\u001b[1;33m)\u001b[0m\u001b[1;33m\u001b[0m\u001b[1;33m\u001b[0m\u001b[0m\n\u001b[0m\u001b[0;32m     29\u001b[0m     \u001b[0mright\u001b[0m\u001b[1;33m(\u001b[0m\u001b[1;36m120\u001b[0m\u001b[1;33m)\u001b[0m\u001b[1;33m\u001b[0m\u001b[1;33m\u001b[0m\u001b[0m\n\u001b[0;32m     30\u001b[0m     \u001b[0mtree\u001b[0m\u001b[1;33m(\u001b[0m\u001b[0md\u001b[0m\u001b[1;33m-\u001b[0m\u001b[1;36m3\u001b[0m\u001b[1;33m,\u001b[0m \u001b[0ms\u001b[0m\u001b[1;33m*\u001b[0m\u001b[1;36m.5\u001b[0m\u001b[1;33m)\u001b[0m\u001b[1;33m\u001b[0m\u001b[1;33m\u001b[0m\u001b[0m\n",
      "\u001b[1;32m<ipython-input-11-b885b4e79340>\u001b[0m in \u001b[0;36mtree\u001b[1;34m(d, s)\u001b[0m\n\u001b[0;32m     26\u001b[0m     \u001b[1;32mif\u001b[0m \u001b[0md\u001b[0m \u001b[1;33m<=\u001b[0m \u001b[1;36m0\u001b[0m\u001b[1;33m:\u001b[0m \u001b[1;32mreturn\u001b[0m\u001b[1;33m\u001b[0m\u001b[1;33m\u001b[0m\u001b[0m\n\u001b[0;32m     27\u001b[0m     \u001b[0mforward\u001b[0m\u001b[1;33m(\u001b[0m\u001b[0ms\u001b[0m\u001b[1;33m)\u001b[0m\u001b[1;33m\u001b[0m\u001b[1;33m\u001b[0m\u001b[0m\n\u001b[1;32m---> 28\u001b[1;33m     \u001b[0mtree\u001b[0m\u001b[1;33m(\u001b[0m\u001b[0md\u001b[0m\u001b[1;33m-\u001b[0m\u001b[1;36m1\u001b[0m\u001b[1;33m,\u001b[0m \u001b[0ms\u001b[0m\u001b[1;33m*\u001b[0m\u001b[1;36m.8\u001b[0m\u001b[1;33m)\u001b[0m\u001b[1;33m\u001b[0m\u001b[1;33m\u001b[0m\u001b[0m\n\u001b[0m\u001b[0;32m     29\u001b[0m     \u001b[0mright\u001b[0m\u001b[1;33m(\u001b[0m\u001b[1;36m120\u001b[0m\u001b[1;33m)\u001b[0m\u001b[1;33m\u001b[0m\u001b[1;33m\u001b[0m\u001b[0m\n\u001b[0;32m     30\u001b[0m     \u001b[0mtree\u001b[0m\u001b[1;33m(\u001b[0m\u001b[0md\u001b[0m\u001b[1;33m-\u001b[0m\u001b[1;36m3\u001b[0m\u001b[1;33m,\u001b[0m \u001b[0ms\u001b[0m\u001b[1;33m*\u001b[0m\u001b[1;36m.5\u001b[0m\u001b[1;33m)\u001b[0m\u001b[1;33m\u001b[0m\u001b[1;33m\u001b[0m\u001b[0m\n",
      "\u001b[1;32m<ipython-input-11-b885b4e79340>\u001b[0m in \u001b[0;36mtree\u001b[1;34m(d, s)\u001b[0m\n\u001b[0;32m     26\u001b[0m     \u001b[1;32mif\u001b[0m \u001b[0md\u001b[0m \u001b[1;33m<=\u001b[0m \u001b[1;36m0\u001b[0m\u001b[1;33m:\u001b[0m \u001b[1;32mreturn\u001b[0m\u001b[1;33m\u001b[0m\u001b[1;33m\u001b[0m\u001b[0m\n\u001b[0;32m     27\u001b[0m     \u001b[0mforward\u001b[0m\u001b[1;33m(\u001b[0m\u001b[0ms\u001b[0m\u001b[1;33m)\u001b[0m\u001b[1;33m\u001b[0m\u001b[1;33m\u001b[0m\u001b[0m\n\u001b[1;32m---> 28\u001b[1;33m     \u001b[0mtree\u001b[0m\u001b[1;33m(\u001b[0m\u001b[0md\u001b[0m\u001b[1;33m-\u001b[0m\u001b[1;36m1\u001b[0m\u001b[1;33m,\u001b[0m \u001b[0ms\u001b[0m\u001b[1;33m*\u001b[0m\u001b[1;36m.8\u001b[0m\u001b[1;33m)\u001b[0m\u001b[1;33m\u001b[0m\u001b[1;33m\u001b[0m\u001b[0m\n\u001b[0m\u001b[0;32m     29\u001b[0m     \u001b[0mright\u001b[0m\u001b[1;33m(\u001b[0m\u001b[1;36m120\u001b[0m\u001b[1;33m)\u001b[0m\u001b[1;33m\u001b[0m\u001b[1;33m\u001b[0m\u001b[0m\n\u001b[0;32m     30\u001b[0m     \u001b[0mtree\u001b[0m\u001b[1;33m(\u001b[0m\u001b[0md\u001b[0m\u001b[1;33m-\u001b[0m\u001b[1;36m3\u001b[0m\u001b[1;33m,\u001b[0m \u001b[0ms\u001b[0m\u001b[1;33m*\u001b[0m\u001b[1;36m.5\u001b[0m\u001b[1;33m)\u001b[0m\u001b[1;33m\u001b[0m\u001b[1;33m\u001b[0m\u001b[0m\n",
      "\u001b[1;32m<ipython-input-11-b885b4e79340>\u001b[0m in \u001b[0;36mtree\u001b[1;34m(d, s)\u001b[0m\n\u001b[0;32m     26\u001b[0m     \u001b[1;32mif\u001b[0m \u001b[0md\u001b[0m \u001b[1;33m<=\u001b[0m \u001b[1;36m0\u001b[0m\u001b[1;33m:\u001b[0m \u001b[1;32mreturn\u001b[0m\u001b[1;33m\u001b[0m\u001b[1;33m\u001b[0m\u001b[0m\n\u001b[0;32m     27\u001b[0m     \u001b[0mforward\u001b[0m\u001b[1;33m(\u001b[0m\u001b[0ms\u001b[0m\u001b[1;33m)\u001b[0m\u001b[1;33m\u001b[0m\u001b[1;33m\u001b[0m\u001b[0m\n\u001b[1;32m---> 28\u001b[1;33m     \u001b[0mtree\u001b[0m\u001b[1;33m(\u001b[0m\u001b[0md\u001b[0m\u001b[1;33m-\u001b[0m\u001b[1;36m1\u001b[0m\u001b[1;33m,\u001b[0m \u001b[0ms\u001b[0m\u001b[1;33m*\u001b[0m\u001b[1;36m.8\u001b[0m\u001b[1;33m)\u001b[0m\u001b[1;33m\u001b[0m\u001b[1;33m\u001b[0m\u001b[0m\n\u001b[0m\u001b[0;32m     29\u001b[0m     \u001b[0mright\u001b[0m\u001b[1;33m(\u001b[0m\u001b[1;36m120\u001b[0m\u001b[1;33m)\u001b[0m\u001b[1;33m\u001b[0m\u001b[1;33m\u001b[0m\u001b[0m\n\u001b[0;32m     30\u001b[0m     \u001b[0mtree\u001b[0m\u001b[1;33m(\u001b[0m\u001b[0md\u001b[0m\u001b[1;33m-\u001b[0m\u001b[1;36m3\u001b[0m\u001b[1;33m,\u001b[0m \u001b[0ms\u001b[0m\u001b[1;33m*\u001b[0m\u001b[1;36m.5\u001b[0m\u001b[1;33m)\u001b[0m\u001b[1;33m\u001b[0m\u001b[1;33m\u001b[0m\u001b[0m\n",
      "\u001b[1;32m<ipython-input-11-b885b4e79340>\u001b[0m in \u001b[0;36mtree\u001b[1;34m(d, s)\u001b[0m\n\u001b[0;32m     26\u001b[0m     \u001b[1;32mif\u001b[0m \u001b[0md\u001b[0m \u001b[1;33m<=\u001b[0m \u001b[1;36m0\u001b[0m\u001b[1;33m:\u001b[0m \u001b[1;32mreturn\u001b[0m\u001b[1;33m\u001b[0m\u001b[1;33m\u001b[0m\u001b[0m\n\u001b[0;32m     27\u001b[0m     \u001b[0mforward\u001b[0m\u001b[1;33m(\u001b[0m\u001b[0ms\u001b[0m\u001b[1;33m)\u001b[0m\u001b[1;33m\u001b[0m\u001b[1;33m\u001b[0m\u001b[0m\n\u001b[1;32m---> 28\u001b[1;33m     \u001b[0mtree\u001b[0m\u001b[1;33m(\u001b[0m\u001b[0md\u001b[0m\u001b[1;33m-\u001b[0m\u001b[1;36m1\u001b[0m\u001b[1;33m,\u001b[0m \u001b[0ms\u001b[0m\u001b[1;33m*\u001b[0m\u001b[1;36m.8\u001b[0m\u001b[1;33m)\u001b[0m\u001b[1;33m\u001b[0m\u001b[1;33m\u001b[0m\u001b[0m\n\u001b[0m\u001b[0;32m     29\u001b[0m     \u001b[0mright\u001b[0m\u001b[1;33m(\u001b[0m\u001b[1;36m120\u001b[0m\u001b[1;33m)\u001b[0m\u001b[1;33m\u001b[0m\u001b[1;33m\u001b[0m\u001b[0m\n\u001b[0;32m     30\u001b[0m     \u001b[0mtree\u001b[0m\u001b[1;33m(\u001b[0m\u001b[0md\u001b[0m\u001b[1;33m-\u001b[0m\u001b[1;36m3\u001b[0m\u001b[1;33m,\u001b[0m \u001b[0ms\u001b[0m\u001b[1;33m*\u001b[0m\u001b[1;36m.5\u001b[0m\u001b[1;33m)\u001b[0m\u001b[1;33m\u001b[0m\u001b[1;33m\u001b[0m\u001b[0m\n",
      "\u001b[1;32m<ipython-input-11-b885b4e79340>\u001b[0m in \u001b[0;36mtree\u001b[1;34m(d, s)\u001b[0m\n\u001b[0;32m     26\u001b[0m     \u001b[1;32mif\u001b[0m \u001b[0md\u001b[0m \u001b[1;33m<=\u001b[0m \u001b[1;36m0\u001b[0m\u001b[1;33m:\u001b[0m \u001b[1;32mreturn\u001b[0m\u001b[1;33m\u001b[0m\u001b[1;33m\u001b[0m\u001b[0m\n\u001b[0;32m     27\u001b[0m     \u001b[0mforward\u001b[0m\u001b[1;33m(\u001b[0m\u001b[0ms\u001b[0m\u001b[1;33m)\u001b[0m\u001b[1;33m\u001b[0m\u001b[1;33m\u001b[0m\u001b[0m\n\u001b[1;32m---> 28\u001b[1;33m     \u001b[0mtree\u001b[0m\u001b[1;33m(\u001b[0m\u001b[0md\u001b[0m\u001b[1;33m-\u001b[0m\u001b[1;36m1\u001b[0m\u001b[1;33m,\u001b[0m \u001b[0ms\u001b[0m\u001b[1;33m*\u001b[0m\u001b[1;36m.8\u001b[0m\u001b[1;33m)\u001b[0m\u001b[1;33m\u001b[0m\u001b[1;33m\u001b[0m\u001b[0m\n\u001b[0m\u001b[0;32m     29\u001b[0m     \u001b[0mright\u001b[0m\u001b[1;33m(\u001b[0m\u001b[1;36m120\u001b[0m\u001b[1;33m)\u001b[0m\u001b[1;33m\u001b[0m\u001b[1;33m\u001b[0m\u001b[0m\n\u001b[0;32m     30\u001b[0m     \u001b[0mtree\u001b[0m\u001b[1;33m(\u001b[0m\u001b[0md\u001b[0m\u001b[1;33m-\u001b[0m\u001b[1;36m3\u001b[0m\u001b[1;33m,\u001b[0m \u001b[0ms\u001b[0m\u001b[1;33m*\u001b[0m\u001b[1;36m.5\u001b[0m\u001b[1;33m)\u001b[0m\u001b[1;33m\u001b[0m\u001b[1;33m\u001b[0m\u001b[0m\n",
      "\u001b[1;32m<ipython-input-11-b885b4e79340>\u001b[0m in \u001b[0;36mtree\u001b[1;34m(d, s)\u001b[0m\n\u001b[0;32m     30\u001b[0m     \u001b[0mtree\u001b[0m\u001b[1;33m(\u001b[0m\u001b[0md\u001b[0m\u001b[1;33m-\u001b[0m\u001b[1;36m3\u001b[0m\u001b[1;33m,\u001b[0m \u001b[0ms\u001b[0m\u001b[1;33m*\u001b[0m\u001b[1;36m.5\u001b[0m\u001b[1;33m)\u001b[0m\u001b[1;33m\u001b[0m\u001b[1;33m\u001b[0m\u001b[0m\n\u001b[0;32m     31\u001b[0m     \u001b[0mright\u001b[0m\u001b[1;33m(\u001b[0m\u001b[1;36m120\u001b[0m\u001b[1;33m)\u001b[0m\u001b[1;33m\u001b[0m\u001b[1;33m\u001b[0m\u001b[0m\n\u001b[1;32m---> 32\u001b[1;33m     \u001b[0mtree\u001b[0m\u001b[1;33m(\u001b[0m\u001b[0md\u001b[0m\u001b[1;33m-\u001b[0m\u001b[1;36m3\u001b[0m\u001b[1;33m,\u001b[0m \u001b[0ms\u001b[0m\u001b[1;33m*\u001b[0m\u001b[1;36m.5\u001b[0m\u001b[1;33m)\u001b[0m\u001b[1;33m\u001b[0m\u001b[1;33m\u001b[0m\u001b[0m\n\u001b[0m\u001b[0;32m     33\u001b[0m     \u001b[0mright\u001b[0m\u001b[1;33m(\u001b[0m\u001b[1;36m120\u001b[0m\u001b[1;33m)\u001b[0m\u001b[1;33m\u001b[0m\u001b[1;33m\u001b[0m\u001b[0m\n\u001b[0;32m     34\u001b[0m     \u001b[0mbackward\u001b[0m\u001b[1;33m(\u001b[0m\u001b[0ms\u001b[0m\u001b[1;33m)\u001b[0m\u001b[1;33m\u001b[0m\u001b[1;33m\u001b[0m\u001b[0m\n",
      "\u001b[1;32m<ipython-input-11-b885b4e79340>\u001b[0m in \u001b[0;36mtree\u001b[1;34m(d, s)\u001b[0m\n\u001b[0;32m     28\u001b[0m     \u001b[0mtree\u001b[0m\u001b[1;33m(\u001b[0m\u001b[0md\u001b[0m\u001b[1;33m-\u001b[0m\u001b[1;36m1\u001b[0m\u001b[1;33m,\u001b[0m \u001b[0ms\u001b[0m\u001b[1;33m*\u001b[0m\u001b[1;36m.8\u001b[0m\u001b[1;33m)\u001b[0m\u001b[1;33m\u001b[0m\u001b[1;33m\u001b[0m\u001b[0m\n\u001b[0;32m     29\u001b[0m     \u001b[0mright\u001b[0m\u001b[1;33m(\u001b[0m\u001b[1;36m120\u001b[0m\u001b[1;33m)\u001b[0m\u001b[1;33m\u001b[0m\u001b[1;33m\u001b[0m\u001b[0m\n\u001b[1;32m---> 30\u001b[1;33m     \u001b[0mtree\u001b[0m\u001b[1;33m(\u001b[0m\u001b[0md\u001b[0m\u001b[1;33m-\u001b[0m\u001b[1;36m3\u001b[0m\u001b[1;33m,\u001b[0m \u001b[0ms\u001b[0m\u001b[1;33m*\u001b[0m\u001b[1;36m.5\u001b[0m\u001b[1;33m)\u001b[0m\u001b[1;33m\u001b[0m\u001b[1;33m\u001b[0m\u001b[0m\n\u001b[0m\u001b[0;32m     31\u001b[0m     \u001b[0mright\u001b[0m\u001b[1;33m(\u001b[0m\u001b[1;36m120\u001b[0m\u001b[1;33m)\u001b[0m\u001b[1;33m\u001b[0m\u001b[1;33m\u001b[0m\u001b[0m\n\u001b[0;32m     32\u001b[0m     \u001b[0mtree\u001b[0m\u001b[1;33m(\u001b[0m\u001b[0md\u001b[0m\u001b[1;33m-\u001b[0m\u001b[1;36m3\u001b[0m\u001b[1;33m,\u001b[0m \u001b[0ms\u001b[0m\u001b[1;33m*\u001b[0m\u001b[1;36m.5\u001b[0m\u001b[1;33m)\u001b[0m\u001b[1;33m\u001b[0m\u001b[1;33m\u001b[0m\u001b[0m\n",
      "\u001b[1;32m<ipython-input-11-b885b4e79340>\u001b[0m in \u001b[0;36mtree\u001b[1;34m(d, s)\u001b[0m\n\u001b[0;32m     26\u001b[0m     \u001b[1;32mif\u001b[0m \u001b[0md\u001b[0m \u001b[1;33m<=\u001b[0m \u001b[1;36m0\u001b[0m\u001b[1;33m:\u001b[0m \u001b[1;32mreturn\u001b[0m\u001b[1;33m\u001b[0m\u001b[1;33m\u001b[0m\u001b[0m\n\u001b[0;32m     27\u001b[0m     \u001b[0mforward\u001b[0m\u001b[1;33m(\u001b[0m\u001b[0ms\u001b[0m\u001b[1;33m)\u001b[0m\u001b[1;33m\u001b[0m\u001b[1;33m\u001b[0m\u001b[0m\n\u001b[1;32m---> 28\u001b[1;33m     \u001b[0mtree\u001b[0m\u001b[1;33m(\u001b[0m\u001b[0md\u001b[0m\u001b[1;33m-\u001b[0m\u001b[1;36m1\u001b[0m\u001b[1;33m,\u001b[0m \u001b[0ms\u001b[0m\u001b[1;33m*\u001b[0m\u001b[1;36m.8\u001b[0m\u001b[1;33m)\u001b[0m\u001b[1;33m\u001b[0m\u001b[1;33m\u001b[0m\u001b[0m\n\u001b[0m\u001b[0;32m     29\u001b[0m     \u001b[0mright\u001b[0m\u001b[1;33m(\u001b[0m\u001b[1;36m120\u001b[0m\u001b[1;33m)\u001b[0m\u001b[1;33m\u001b[0m\u001b[1;33m\u001b[0m\u001b[0m\n\u001b[0;32m     30\u001b[0m     \u001b[0mtree\u001b[0m\u001b[1;33m(\u001b[0m\u001b[0md\u001b[0m\u001b[1;33m-\u001b[0m\u001b[1;36m3\u001b[0m\u001b[1;33m,\u001b[0m \u001b[0ms\u001b[0m\u001b[1;33m*\u001b[0m\u001b[1;36m.5\u001b[0m\u001b[1;33m)\u001b[0m\u001b[1;33m\u001b[0m\u001b[1;33m\u001b[0m\u001b[0m\n",
      "\u001b[1;32m<ipython-input-11-b885b4e79340>\u001b[0m in \u001b[0;36mtree\u001b[1;34m(d, s)\u001b[0m\n\u001b[0;32m     26\u001b[0m     \u001b[1;32mif\u001b[0m \u001b[0md\u001b[0m \u001b[1;33m<=\u001b[0m \u001b[1;36m0\u001b[0m\u001b[1;33m:\u001b[0m \u001b[1;32mreturn\u001b[0m\u001b[1;33m\u001b[0m\u001b[1;33m\u001b[0m\u001b[0m\n\u001b[0;32m     27\u001b[0m     \u001b[0mforward\u001b[0m\u001b[1;33m(\u001b[0m\u001b[0ms\u001b[0m\u001b[1;33m)\u001b[0m\u001b[1;33m\u001b[0m\u001b[1;33m\u001b[0m\u001b[0m\n\u001b[1;32m---> 28\u001b[1;33m     \u001b[0mtree\u001b[0m\u001b[1;33m(\u001b[0m\u001b[0md\u001b[0m\u001b[1;33m-\u001b[0m\u001b[1;36m1\u001b[0m\u001b[1;33m,\u001b[0m \u001b[0ms\u001b[0m\u001b[1;33m*\u001b[0m\u001b[1;36m.8\u001b[0m\u001b[1;33m)\u001b[0m\u001b[1;33m\u001b[0m\u001b[1;33m\u001b[0m\u001b[0m\n\u001b[0m\u001b[0;32m     29\u001b[0m     \u001b[0mright\u001b[0m\u001b[1;33m(\u001b[0m\u001b[1;36m120\u001b[0m\u001b[1;33m)\u001b[0m\u001b[1;33m\u001b[0m\u001b[1;33m\u001b[0m\u001b[0m\n\u001b[0;32m     30\u001b[0m     \u001b[0mtree\u001b[0m\u001b[1;33m(\u001b[0m\u001b[0md\u001b[0m\u001b[1;33m-\u001b[0m\u001b[1;36m3\u001b[0m\u001b[1;33m,\u001b[0m \u001b[0ms\u001b[0m\u001b[1;33m*\u001b[0m\u001b[1;36m.5\u001b[0m\u001b[1;33m)\u001b[0m\u001b[1;33m\u001b[0m\u001b[1;33m\u001b[0m\u001b[0m\n",
      "\u001b[1;32m<ipython-input-11-b885b4e79340>\u001b[0m in \u001b[0;36mtree\u001b[1;34m(d, s)\u001b[0m\n\u001b[0;32m     29\u001b[0m     \u001b[0mright\u001b[0m\u001b[1;33m(\u001b[0m\u001b[1;36m120\u001b[0m\u001b[1;33m)\u001b[0m\u001b[1;33m\u001b[0m\u001b[1;33m\u001b[0m\u001b[0m\n\u001b[0;32m     30\u001b[0m     \u001b[0mtree\u001b[0m\u001b[1;33m(\u001b[0m\u001b[0md\u001b[0m\u001b[1;33m-\u001b[0m\u001b[1;36m3\u001b[0m\u001b[1;33m,\u001b[0m \u001b[0ms\u001b[0m\u001b[1;33m*\u001b[0m\u001b[1;36m.5\u001b[0m\u001b[1;33m)\u001b[0m\u001b[1;33m\u001b[0m\u001b[1;33m\u001b[0m\u001b[0m\n\u001b[1;32m---> 31\u001b[1;33m     \u001b[0mright\u001b[0m\u001b[1;33m(\u001b[0m\u001b[1;36m120\u001b[0m\u001b[1;33m)\u001b[0m\u001b[1;33m\u001b[0m\u001b[1;33m\u001b[0m\u001b[0m\n\u001b[0m\u001b[0;32m     32\u001b[0m     \u001b[0mtree\u001b[0m\u001b[1;33m(\u001b[0m\u001b[0md\u001b[0m\u001b[1;33m-\u001b[0m\u001b[1;36m3\u001b[0m\u001b[1;33m,\u001b[0m \u001b[0ms\u001b[0m\u001b[1;33m*\u001b[0m\u001b[1;36m.5\u001b[0m\u001b[1;33m)\u001b[0m\u001b[1;33m\u001b[0m\u001b[1;33m\u001b[0m\u001b[0m\n\u001b[0;32m     33\u001b[0m     \u001b[0mright\u001b[0m\u001b[1;33m(\u001b[0m\u001b[1;36m120\u001b[0m\u001b[1;33m)\u001b[0m\u001b[1;33m\u001b[0m\u001b[1;33m\u001b[0m\u001b[0m\n",
      "\u001b[1;32mD:\\Anaconda\\lib\\turtle.py\u001b[0m in \u001b[0;36mright\u001b[1;34m(angle)\u001b[0m\n",
      "\u001b[1;32mD:\\Anaconda\\lib\\turtle.py\u001b[0m in \u001b[0;36mright\u001b[1;34m(self, angle)\u001b[0m\n\u001b[0;32m   1676\u001b[0m         \u001b[1;36m337.0\u001b[0m\u001b[1;33m\u001b[0m\u001b[1;33m\u001b[0m\u001b[0m\n\u001b[0;32m   1677\u001b[0m         \"\"\"\n\u001b[1;32m-> 1678\u001b[1;33m         \u001b[0mself\u001b[0m\u001b[1;33m.\u001b[0m\u001b[0m_rotate\u001b[0m\u001b[1;33m(\u001b[0m\u001b[1;33m-\u001b[0m\u001b[0mangle\u001b[0m\u001b[1;33m)\u001b[0m\u001b[1;33m\u001b[0m\u001b[1;33m\u001b[0m\u001b[0m\n\u001b[0m\u001b[0;32m   1679\u001b[0m \u001b[1;33m\u001b[0m\u001b[0m\n\u001b[0;32m   1680\u001b[0m     \u001b[1;32mdef\u001b[0m \u001b[0mleft\u001b[0m\u001b[1;33m(\u001b[0m\u001b[0mself\u001b[0m\u001b[1;33m,\u001b[0m \u001b[0mangle\u001b[0m\u001b[1;33m)\u001b[0m\u001b[1;33m:\u001b[0m\u001b[1;33m\u001b[0m\u001b[1;33m\u001b[0m\u001b[0m\n",
      "\u001b[1;32mD:\\Anaconda\\lib\\turtle.py\u001b[0m in \u001b[0;36m_rotate\u001b[1;34m(self, angle)\u001b[0m\n\u001b[0;32m   3274\u001b[0m             \u001b[1;32mfor\u001b[0m \u001b[0m_\u001b[0m \u001b[1;32min\u001b[0m \u001b[0mrange\u001b[0m\u001b[1;33m(\u001b[0m\u001b[0msteps\u001b[0m\u001b[1;33m)\u001b[0m\u001b[1;33m:\u001b[0m\u001b[1;33m\u001b[0m\u001b[1;33m\u001b[0m\u001b[0m\n\u001b[0;32m   3275\u001b[0m                 \u001b[0mself\u001b[0m\u001b[1;33m.\u001b[0m\u001b[0m_orient\u001b[0m \u001b[1;33m=\u001b[0m \u001b[0mself\u001b[0m\u001b[1;33m.\u001b[0m\u001b[0m_orient\u001b[0m\u001b[1;33m.\u001b[0m\u001b[0mrotate\u001b[0m\u001b[1;33m(\u001b[0m\u001b[0mdelta\u001b[0m\u001b[1;33m)\u001b[0m\u001b[1;33m\u001b[0m\u001b[1;33m\u001b[0m\u001b[0m\n\u001b[1;32m-> 3276\u001b[1;33m                 \u001b[0mself\u001b[0m\u001b[1;33m.\u001b[0m\u001b[0m_update\u001b[0m\u001b[1;33m(\u001b[0m\u001b[1;33m)\u001b[0m\u001b[1;33m\u001b[0m\u001b[1;33m\u001b[0m\u001b[0m\n\u001b[0m\u001b[0;32m   3277\u001b[0m         \u001b[0mself\u001b[0m\u001b[1;33m.\u001b[0m\u001b[0m_orient\u001b[0m \u001b[1;33m=\u001b[0m \u001b[0mneworient\u001b[0m\u001b[1;33m\u001b[0m\u001b[1;33m\u001b[0m\u001b[0m\n\u001b[0;32m   3278\u001b[0m         \u001b[0mself\u001b[0m\u001b[1;33m.\u001b[0m\u001b[0m_update\u001b[0m\u001b[1;33m(\u001b[0m\u001b[1;33m)\u001b[0m\u001b[1;33m\u001b[0m\u001b[1;33m\u001b[0m\u001b[0m\n",
      "\u001b[1;32mD:\\Anaconda\\lib\\turtle.py\u001b[0m in \u001b[0;36m_update\u001b[1;34m(self)\u001b[0m\n\u001b[0;32m   2658\u001b[0m             \u001b[1;32mreturn\u001b[0m\u001b[1;33m\u001b[0m\u001b[1;33m\u001b[0m\u001b[0m\n\u001b[0;32m   2659\u001b[0m         \u001b[1;32melif\u001b[0m \u001b[0mscreen\u001b[0m\u001b[1;33m.\u001b[0m\u001b[0m_tracing\u001b[0m \u001b[1;33m==\u001b[0m \u001b[1;36m1\u001b[0m\u001b[1;33m:\u001b[0m\u001b[1;33m\u001b[0m\u001b[1;33m\u001b[0m\u001b[0m\n\u001b[1;32m-> 2660\u001b[1;33m             \u001b[0mself\u001b[0m\u001b[1;33m.\u001b[0m\u001b[0m_update_data\u001b[0m\u001b[1;33m(\u001b[0m\u001b[1;33m)\u001b[0m\u001b[1;33m\u001b[0m\u001b[1;33m\u001b[0m\u001b[0m\n\u001b[0m\u001b[0;32m   2661\u001b[0m             \u001b[0mself\u001b[0m\u001b[1;33m.\u001b[0m\u001b[0m_drawturtle\u001b[0m\u001b[1;33m(\u001b[0m\u001b[1;33m)\u001b[0m\u001b[1;33m\u001b[0m\u001b[1;33m\u001b[0m\u001b[0m\n\u001b[0;32m   2662\u001b[0m             \u001b[0mscreen\u001b[0m\u001b[1;33m.\u001b[0m\u001b[0m_update\u001b[0m\u001b[1;33m(\u001b[0m\u001b[1;33m)\u001b[0m                  \u001b[1;31m# TurtleScreenBase\u001b[0m\u001b[1;33m\u001b[0m\u001b[1;33m\u001b[0m\u001b[0m\n",
      "\u001b[1;32mD:\\Anaconda\\lib\\turtle.py\u001b[0m in \u001b[0;36m_update_data\u001b[1;34m(self)\u001b[0m\n\u001b[0;32m   2644\u001b[0m \u001b[1;33m\u001b[0m\u001b[0m\n\u001b[0;32m   2645\u001b[0m     \u001b[1;32mdef\u001b[0m \u001b[0m_update_data\u001b[0m\u001b[1;33m(\u001b[0m\u001b[0mself\u001b[0m\u001b[1;33m)\u001b[0m\u001b[1;33m:\u001b[0m\u001b[1;33m\u001b[0m\u001b[1;33m\u001b[0m\u001b[0m\n\u001b[1;32m-> 2646\u001b[1;33m         \u001b[0mself\u001b[0m\u001b[1;33m.\u001b[0m\u001b[0mscreen\u001b[0m\u001b[1;33m.\u001b[0m\u001b[0m_incrementudc\u001b[0m\u001b[1;33m(\u001b[0m\u001b[1;33m)\u001b[0m\u001b[1;33m\u001b[0m\u001b[1;33m\u001b[0m\u001b[0m\n\u001b[0m\u001b[0;32m   2647\u001b[0m         \u001b[1;32mif\u001b[0m \u001b[0mself\u001b[0m\u001b[1;33m.\u001b[0m\u001b[0mscreen\u001b[0m\u001b[1;33m.\u001b[0m\u001b[0m_updatecounter\u001b[0m \u001b[1;33m!=\u001b[0m \u001b[1;36m0\u001b[0m\u001b[1;33m:\u001b[0m\u001b[1;33m\u001b[0m\u001b[1;33m\u001b[0m\u001b[0m\n\u001b[0;32m   2648\u001b[0m             \u001b[1;32mreturn\u001b[0m\u001b[1;33m\u001b[0m\u001b[1;33m\u001b[0m\u001b[0m\n",
      "\u001b[1;32mD:\\Anaconda\\lib\\turtle.py\u001b[0m in \u001b[0;36m_incrementudc\u001b[1;34m(self)\u001b[0m\n\u001b[0;32m   1290\u001b[0m         \u001b[1;32mif\u001b[0m \u001b[1;32mnot\u001b[0m \u001b[0mTurtleScreen\u001b[0m\u001b[1;33m.\u001b[0m\u001b[0m_RUNNING\u001b[0m\u001b[1;33m:\u001b[0m\u001b[1;33m\u001b[0m\u001b[1;33m\u001b[0m\u001b[0m\n\u001b[0;32m   1291\u001b[0m             \u001b[0mTurtleScreen\u001b[0m\u001b[1;33m.\u001b[0m\u001b[0m_RUNNING\u001b[0m \u001b[1;33m=\u001b[0m \u001b[1;32mTrue\u001b[0m\u001b[1;33m\u001b[0m\u001b[1;33m\u001b[0m\u001b[0m\n\u001b[1;32m-> 1292\u001b[1;33m             \u001b[1;32mraise\u001b[0m \u001b[0mTerminator\u001b[0m\u001b[1;33m\u001b[0m\u001b[1;33m\u001b[0m\u001b[0m\n\u001b[0m\u001b[0;32m   1293\u001b[0m         \u001b[1;32mif\u001b[0m \u001b[0mself\u001b[0m\u001b[1;33m.\u001b[0m\u001b[0m_tracing\u001b[0m \u001b[1;33m>\u001b[0m \u001b[1;36m0\u001b[0m\u001b[1;33m:\u001b[0m\u001b[1;33m\u001b[0m\u001b[1;33m\u001b[0m\u001b[0m\n\u001b[0;32m   1294\u001b[0m             \u001b[0mself\u001b[0m\u001b[1;33m.\u001b[0m\u001b[0m_updatecounter\u001b[0m \u001b[1;33m+=\u001b[0m \u001b[1;36m1\u001b[0m\u001b[1;33m\u001b[0m\u001b[1;33m\u001b[0m\u001b[0m\n",
      "\u001b[1;31mTerminator\u001b[0m: "
     ]
    }
   ],
   "source": [
    "from turtle import *\n",
    "import random\n",
    "import time\n",
    "\n",
    "n = 100.0\n",
    "\n",
    "speed(10)\n",
    "screensize(bg='seashell')\n",
    "left(90)\n",
    "forward(3*n)\n",
    "color(\"orange\", \"yellow\")\n",
    "begin_fill()\n",
    "left(126)\n",
    "\n",
    "for i in range(5):\n",
    "    forward(n/5)\n",
    "    right(144)\n",
    "    forward(n/5)\n",
    "    left(72)\n",
    "end_fill()\n",
    "right(126)\n",
    "\n",
    "color(\"dark green\")\n",
    "backward(n*4.8)\n",
    "def tree(d, s):\n",
    "    if d <= 0: return\n",
    "    forward(s)\n",
    "    tree(d-1, s*.8)\n",
    "    right(120)\n",
    "    tree(d-3, s*.5)\n",
    "    right(120)\n",
    "    tree(d-3, s*.5)\n",
    "    right(120)\n",
    "    backward(s)\n",
    "tree(15, n)\n",
    "backward(n/2)\n",
    "\n",
    "for i in range(200):\n",
    "    a = 200 - 400 * random.random()\n",
    "    b = 10 - 20 * random.random()\n",
    "    up()\n",
    "    forward(b)\n",
    "    left(90)\n",
    "    forward(a)\n",
    "    down()\n",
    "    if random.randint(0, 1) == 0:\n",
    "            color('tomato')\n",
    "    else:\n",
    "        color('wheat')\n",
    "    circle(2)\n",
    "    up()\n",
    "    backward(a)\n",
    "    right(90)\n",
    "    backward(b)\n",
    "\n",
    "# time.sleep(60)"
   ]
  },
  {
   "cell_type": "code",
   "execution_count": null,
   "metadata": {},
   "outputs": [],
   "source": [
    "# 魔法少女\n",
    "import turtle as te\n",
    "import time\n",
    "WriteStep = 5000  # 贝塞尔函数的取样次数\n",
    "Speed = 5\n",
    "Width = 1800  # 界面宽度\n",
    "Height = 1800  # 界面高度\n",
    "Xh = 0  # 记录前一个贝塞尔函数的手柄\n",
    "Yh = 0\n",
    "\n",
    "\n",
    "def Bezier(p1, p2, t):  # 一阶贝塞尔函数\n",
    "    return p1 * (1 - t) + p2 * t\n",
    "\n",
    "\n",
    "def Bezier_2(x1, y1, x2, y2, x3, y3):  # 二阶贝塞尔函数\n",
    "    te.goto(x1, y1)\n",
    "    te.pendown()\n",
    "    for t in range(0, WriteStep + 1):\n",
    "        x = Bezier(Bezier(x1, x2, t / WriteStep),\n",
    "                   Bezier(x2, x3, t / WriteStep), t / WriteStep)\n",
    "        y = Bezier(Bezier(y1, y2, t / WriteStep),\n",
    "                   Bezier(y2, y3, t / WriteStep), t / WriteStep)\n",
    "        te.goto(x, y)\n",
    "    te.penup()\n",
    "\n",
    "\n",
    "def Bezier_3(x1, y1, x2, y2, x3, y3, x4, y4):  # 三阶贝塞尔函数\n",
    "    x1 = -Width / 2 + x1\n",
    "    y1 = Height / 2 - y1\n",
    "    x2 = -Width / 2 + x2\n",
    "    y2 = Height / 2 - y2\n",
    "    x3 = -Width / 2 + x3\n",
    "    y3 = Height / 2 - y3\n",
    "    x4 = -Width / 2 + x4\n",
    "    y4 = Height / 2 - y4  # 坐标变换\n",
    "    te.goto(x1, y1)\n",
    "    te.pendown()\n",
    "    for t in range(0, WriteStep + 1):\n",
    "        x = Bezier(Bezier(Bezier(x1, x2, t / WriteStep), Bezier(x2, x3, t / WriteStep), t / WriteStep),\n",
    "                   Bezier(Bezier(x2, x3, t / WriteStep), Bezier(x3, x4, t / WriteStep), t / WriteStep), t / WriteStep)\n",
    "        y = Bezier(Bezier(Bezier(y1, y2, t / WriteStep), Bezier(y2, y3, t / WriteStep), t / WriteStep),\n",
    "                   Bezier(Bezier(y2, y3, t / WriteStep), Bezier(y3, y4, t / WriteStep), t / WriteStep), t / WriteStep)\n",
    "        te.goto(x, y)\n",
    "    te.penup()\n",
    "\n",
    "\n",
    "def Moveto(x, y):  # 移动到svg坐标下（x，y）\n",
    "    te.penup()\n",
    "    te.goto(-Width / 2 + x, Height / 2 - y)\n",
    "\n",
    "\n",
    "def line(x1, y1, x2, y2):  # 连接svg坐标下两点\n",
    "    te.penup()\n",
    "    te.goto(-Width / 2 + x1, Height / 2 - y1)\n",
    "    te.pendown()\n",
    "    te.goto(-Width / 2 + x2, Height / 2 - y2)\n",
    "    te.penup()\n",
    "\n",
    "\n",
    "def lineto(dx, dy):  # 连接当前点和相对坐标（dx，dy）的点\n",
    "    te.pendown()\n",
    "    te.goto(te.xcor() + dx, te.ycor() - dy)\n",
    "    te.penup()\n",
    "\n",
    "\n",
    "def Lineto(x, y):  # 连接当前点和svg坐标下（x，y）\n",
    "    te.pendown()\n",
    "    te.goto(-Width / 2 + x, Height / 2 - y)\n",
    "    te.penup()\n",
    "\n",
    "\n",
    "def Horizontal(x):  # 做到svg坐标下横坐标为x的水平线\n",
    "    te.pendown()\n",
    "    te.setx(x - Width / 2)\n",
    "    te.penup()\n",
    "\n",
    "\n",
    "def horizontal(dx):  # 做到相对横坐标为dx的水平线\n",
    "    te.seth(0)\n",
    "    te.pendown()\n",
    "    te.fd(dx)\n",
    "    te.penup()\n",
    "\n",
    "\n",
    "def vertical(dy):  # 做到相对纵坐标为dy的垂直线\n",
    "    te.seth(-90)\n",
    "    te.pendown()\n",
    "    te.fd(dy)\n",
    "    te.penup()\n",
    "    te.seth(0)\n",
    "\n",
    "\n",
    "def polyline(x1, y1, x2, y2, x3, y3):  # 做svg坐标下的折线\n",
    "    te.penup()\n",
    "    te.goto(-Width / 2 + x1, Height / 2 - y1)\n",
    "    te.pendown()\n",
    "    te.goto(-Width / 2 + x2, Height / 2 - y2)\n",
    "    te.goto(-Width / 2 + x3, Height / 2 - y3)\n",
    "    te.penup()\n",
    "\n",
    "\n",
    "def Curveto(x1, y1, x2, y2, x, y):  # 三阶贝塞尔曲线到（x，y）\n",
    "    te.penup()\n",
    "    X_now = te.xcor() + Width / 2\n",
    "    Y_now = Height / 2 - te.ycor()\n",
    "    Bezier_3(X_now, Y_now, x1, y1, x2, y2, x, y)\n",
    "    global Xh\n",
    "    global Yh\n",
    "    Xh = x - x2\n",
    "    Yh = y - y2\n",
    "\n",
    "\n",
    "def curveto_r(x1, y1, x2, y2, x, y):  # 三阶贝塞尔曲线到相对坐标（x，y）\n",
    "    te.penup()\n",
    "    X_now = te.xcor() + Width / 2\n",
    "    Y_now = Height / 2 - te.ycor()\n",
    "    Bezier_3(X_now, Y_now, X_now + x1, Y_now + y1,\n",
    "             X_now + x2, Y_now + y2, X_now + x, Y_now + y)\n",
    "    global Xh\n",
    "    global Yh\n",
    "    Xh = x - x2\n",
    "    Yh = y - y2\n",
    "\n",
    "\n",
    "def Smooth(x2, y2, x, y):  # 平滑三阶贝塞尔曲线到（x，y）\n",
    "    global Xh\n",
    "    global Yh\n",
    "    te.penup()\n",
    "    X_now = te.xcor() + Width / 2\n",
    "    Y_now = Height / 2 - te.ycor()\n",
    "    Bezier_3(X_now, Y_now, X_now + Xh, Y_now + Yh, x2, y2, x, y)\n",
    "    Xh = x - x2\n",
    "    Yh = y - y2\n",
    "\n",
    "\n",
    "def smooth_r(x2, y2, x, y):  # 平滑三阶贝塞尔曲线到相对坐标（x，y）\n",
    "    global Xh\n",
    "    global Yh\n",
    "    te.penup()\n",
    "    X_now = te.xcor() + Width / 2\n",
    "    Y_now = Height / 2 - te.ycor()\n",
    "    Bezier_3(X_now, Y_now, X_now + Xh, Y_now + Yh,\n",
    "             X_now + x2, Y_now + y2, X_now + x, Y_now + y)\n",
    "    Xh = x - x2\n",
    "    Yh = y - y2\n",
    "\n",
    "te.tracer(10)\n",
    "te.setup(Width, Height, 0, 0)\n",
    "te.pensize(1)\n",
    "te.speed(Speed)\n",
    "te.penup()\n",
    "\n",
    "# 图层_2\n",
    "# time.sleep(20)\n",
    "te.color(\"black\", \"#F2F2F2\")  # 外套\n",
    "Moveto(61, 462)\n",
    "te.begin_fill()\n",
    "smooth_r(12, -41, 27, -58)\n",
    "curveto_r(-6, -36, 6, -118, 9, -132)\n",
    "curveto_r(-15, -27, -23, -51, -26, -74)\n",
    "curveto_r(4, -66, 38, -105, 65, -149)\n",
    "Horizontal(486)\n",
    "curveto_r(12, 24, 40, 99, 33, 114)\n",
    "curveto_r(39, 82, 55, 129, 39, 144)\n",
    "smooth_r(-31, 23, -39, 28)\n",
    "smooth_r(-12, 37, -12, 37)\n",
    "lineto(50, 92)\n",
    "Horizontal(445)\n",
    "smooth_r(-29, -38, -31, -46)\n",
    "smooth_r(78, -107, 72, -119)\n",
    "Smooth(355, 178, 340, 176)\n",
    "Smooth(272, 63, 264, 64)\n",
    "smooth_r(-29, 67, -27, 73)\n",
    "Curveto(99, 292, 174, 428, 173, 439)\n",
    "smooth_r(-8, 23, -8, 23)\n",
    "Lineto(61, 462)\n",
    "te.end_fill()\n",
    "\n",
    "Moveto(60.5, 461.5)  # 阴影\n",
    "te.color(\"black\", \"#D3DFF0\")\n",
    "te.begin_fill()\n",
    "curveto_r(0, 0, 17, -42, 27, -59)\n",
    "curveto_r(-6, -33, 6, -128, 10, -133)\n",
    "curveto_r(-15, -10, -27, -66, -27.285, -75)\n",
    "te.pencolor(\"#D3DFF0\")\n",
    "curveto_r(12.285, 11, 82.963, 156, 82.963, 156)\n",
    "te.pencolor(\"black\")\n",
    "smooth_r(12.322, 75, 19.322, 86)\n",
    "curveto_r(-1, 11, -8, 25, -8, 25)\n",
    "Horizontal(60.5)\n",
    "te.end_fill()\n",
    "\n",
    "Moveto(444.5, 464)\n",
    "te.begin_fill()\n",
    "curveto_r(0, 0, -29, -36, -31, -46)\n",
    "smooth_r(53.59, -82.337, 53.59, -82.337)\n",
    "te.pencolor(\"#D3DFF0\")\n",
    "smooth_r(86.41, -47.663, 96.072, -54.85)\n",
    "Curveto(563.5, 297.5, 570.5, 299.5, 518.5, 334)\n",
    "te.pencolor(\"black\")\n",
    "curveto_r(-2, 16, -12, 33, -12, 37)\n",
    "smooth_r(50, 92, 50, 93)\n",
    "Horizontal(444.5)\n",
    "te.end_fill()\n",
    "\n",
    "Moveto(195, 49)\n",
    "te.begin_fill()\n",
    "te.pencolor(\"#D3DFF0\")\n",
    "polyline(195, 49, 175.5, 106.5, 202.522, 49)\n",
    "te.pencolor(\"black\")\n",
    "Horizontal(195)\n",
    "te.pencolor(\"#D3DFF0\")\n",
    "te.end_fill()\n",
    "\n",
    "Moveto(327.997, 49)\n",
    "te.begin_fill()\n",
    "te.pencolor(\"#D3DFF0\")\n",
    "curveto_r(0, 0, 11.503, 121.087, 13.503, 128.087)\n",
    "curveto_r(11, 2, 54, 37, 54, 37)\n",
    "lineto(-40, -165.087)\n",
    "te.pencolor(\"black\")\n",
    "Horizontal(327.997)\n",
    "te.pencolor(\"#D3DFF0\")\n",
    "te.end_fill()\n",
    "\n",
    "te.pencolor(\"black\")\n",
    "line(94.5, 397.5, 107.5, 373.5)  # 皱纹\n",
    "line(122.5, 317.5, 95.875, 274.699)\n",
    "line(122.5, 341.5, 141.5, 402.5)\n",
    "line(141.5, 409.5, 153.5, 431.5)\n",
    "# line(328,47.712,344,175.977)\n",
    "line(340.023, 49, 360.5, 144)\n",
    "# line(353.5,47.5,395.5,208.5)\n",
    "line(478.5, 95.5, 518.5, 161.5)\n",
    "line(518.5, 332.5, 460.5, 359.5)\n",
    "polyline(506.5, 369.5, 493.5, 402.5, 502.5, 443.5)\n",
    "Moveto(530, 429)\n",
    "curveto_r(4, 16, -5, 33, -5, 33)\n",
    "\n",
    "# 图层_3\n",
    "te.color(\"black\", \"#2b1d2a\")  # 外套内侧\n",
    "Moveto(225, 462)\n",
    "te.begin_fill()\n",
    "Horizontal(165)\n",
    "smooth_r(9, -15, 8, -25)\n",
    "curveto_r(-47, -126, 6, -212, 12, -225)\n",
    "Curveto(185, 305, 202, 428, 225, 462)\n",
    "Lineto(225, 462)\n",
    "te.end_fill()\n",
    "\n",
    "Moveto(390, 462)\n",
    "te.begin_fill()\n",
    "curveto_r(10, -23, 34, -180, 35, -222)  # !!!227\n",
    "curveto_r(7, 4, 54, 45, 61, 61)  # 61\n",
    "smooth_r(-73, 101, -72, 118)\n",
    "curveto_r(5, 15, 31, 46, 31, 45)\n",
    "Lineto(390, 462)\n",
    "te.end_fill()\n",
    "# 图层_4\n",
    "te.color(\"black\", \"#2b1d29\")  # 外套内侧\n",
    "Moveto(225, 462)\n",
    "te.begin_fill()\n",
    "curveto_r(-28, -50, -40, -166, -40, -250)\n",
    "curveto_r(6, 51, -6, 87, 45, 106)\n",
    "smooth_r(64, 27, 89, 24)\n",
    "smooth_r(49, -18, 56, -20)\n",
    "smooth_r(50, -10, 51, -85)\n",
    "curveto_r(0, 29, -25, 201, -36, 225)\n",
    "Lineto(225, 462)\n",
    "te.end_fill()\n",
    "# 图层_5\n",
    "te.color(\"black\", \"#3D3D3D\")  # 衣服\n",
    "Moveto(225, 462)\n",
    "te.begin_fill()\n",
    "curveto_r(-5, -5, -22, -53, -23, -70)\n",
    "lineto(32, -13)\n",
    "curveto_r(3, -25, 6, -28, 12, -36)\n",
    "smooth_r(13, -12, 16, -12)\n",
    "vertical(-2)\n",
    "curveto_r(45, 20, 64, 14, 94, 1)\n",
    "vertical(2)\n",
    "curveto_r(8, -2, 15, 2, 17, 4)\n",
    "smooth_r(0, 6, -2, 9)\n",
    "curveto_r(10, 10, 10, 29, 11, 33)\n",
    "smooth_r(23, 4, 25, 6)\n",
    "smooth_r(-17, 83, -17, 78)\n",
    "Lineto(225, 462)\n",
    "te.end_fill()\n",
    "# 图层_6\n",
    "te.color(\"black\", \"#968281\")  # 脖子\n",
    "Moveto(262, 329)\n",
    "te.begin_fill()\n",
    "vertical(17)\n",
    "curveto_r(1, 2, 44, 14, 45, 15)\n",
    "smooth_r(3, 12, 3, 12)\n",
    "horizontal(3)\n",
    "vertical(-5)\n",
    "curveto_r(1, -3, 4, -6, 5, -7)\n",
    "lineto(36, -14)\n",
    "curveto_r(1, -1, 3, -16, 2, -17)\n",
    "Curveto(318, 348, 296, 344, 262, 329)\n",
    "te.end_fill()\n",
    "# 图层_8\n",
    "te.color(\"black\", \"#E7F1FF\")  # 白色褶皱\n",
    "Moveto(225, 462)\n",
    "te.begin_fill()\n",
    "lineto(-3, -5)  # -3,-3,-3,-5\n",
    "curveto_r(0, -2, 4, -4, 5, -6)\n",
    "smooth_r(16, 3, 19, -8)\n",
    "smooth_r(0, -7, 0, -11)\n",
    "smooth_r(5, -8, 9, -5)\n",
    "smooth_r(19, -8, 19, -11)\n",
    "smooth_r(6, -7, 6, -7)\n",
    "smooth_r(7, -2, 9, -4)\n",
    "lineto(41, -2)\n",
    "lineto(12, 9)\n",
    "smooth_r(3, 15, 7, 18)\n",
    "smooth_r(15, 4, 17, 4)\n",
    "smooth_r(4, -4, 6, -4)\n",
    "smooth_r(6, 4, 5, 9)\n",
    "smooth_r(0, 9, 0, 9)\n",
    "smooth_r(1, 7, 7, 6)\n",
    "smooth_r(8, 0, 8, 0)\n",
    "lineto(-2, 8)\n",
    "Lineto(225, 462)\n",
    "te.end_fill()\n",
    "\n",
    "te.pensize(2)\n",
    "Moveto(240, 450)\n",
    "smooth_r(0, 9, 3, 12)\n",
    "Moveto(372, 462)\n",
    "curveto_r(-2, -4, -5, -29, -7, -28)\n",
    "te.pensize(1)\n",
    "# 图层_7\n",
    "te.color(\"black\", \"#A2B8D6\")  # 衣领\n",
    "Moveto(262, 331)\n",
    "te.begin_fill()\n",
    "curveto_r(0, 8, -1, 13, 0, 15)\n",
    "smooth_r(43, 14, 45, 15)\n",
    "lineto(3, 12)\n",
    "horizontal(3)\n",
    "smooth_r(-1, -3, 0, -5)\n",
    "lineto(5, -7)\n",
    "lineto(36, -14)\n",
    "curveto_r(1, -1, 2, -12, 2, -15)\n",
    "smooth_r(25, -2, 15, 13)\n",
    "curveto_r(-2, 4, -7, 29, -7, 32)\n",
    "smooth_r(-35, 19, -41, 22)\n",
    "smooth_r(-9, 14, -12, 14)\n",
    "smooth_r(-7, -12, -14, -15)\n",
    "curveto_r(-19, -2, -41, -25, -41, -25)\n",
    "smooth_r(-10, -26, -10, -30)\n",
    "Smooth(255, 332, 262, 331)\n",
    "te.end_fill()\n",
    "\n",
    "Moveto(262, 346)\n",
    "lineto(-12, -6)\n",
    "Moveto(369, 333)\n",
    "curveto_r(2, 4, -6, 10, -15, 14)\n",
    "# 图层_9\n",
    "te.color(\"black\", \"#151515\")  # 领结\n",
    "Moveto(247, 358)\n",
    "te.begin_fill()\n",
    "curveto_r(-5, 3, -8, 20, -6, 23)\n",
    "curveto_r(25, 21, 50, 17, 50, 17)\n",
    "lineto(-23, 64)\n",
    "horizontal(22)\n",
    "smooth_r(1, -13, 2, -16)\n",
    "lineto(13, -50)\n",
    "curveto_r(2, 2, 7, 3, 10, 1)\n",
    "smooth_r(18, 65, 18, 65)\n",
    "horizontal(19)\n",
    "lineto(-24, -65)\n",
    "curveto_r(21, 5, 39, -10, 44, -13)\n",
    "curveto_r(5, -20, 1, -21, 0, -24)\n",
    "curveto_r(-18, -2, -49, 15, -52, 17)\n",
    "smooth_r(-11, -3, -15, -1)\n",
    "Smooth(252, 356, 247, 358)\n",
    "te.end_fill()\n",
    "# 图层_10\n",
    "te.color(\"black\", \"#A2B8D6\")  # 衣领（透过领结）\n",
    "Moveto(297, 387)\n",
    "te.begin_fill()\n",
    "lineto(-11, 6)\n",
    "curveto_r(-1, 0, -20, -7, -30, -19)\n",
    "Curveto(259, 373, 297, 385, 297, 387)\n",
    "te.end_fill()\n",
    "\n",
    "Moveto(323, 384)\n",
    "te.begin_fill()\n",
    "lineto(8, 7)\n",
    "lineto(30, -14)\n",
    "curveto_r(1, -1, 5, -6, 4, -7)\n",
    "Smooth(329, 379, 323, 384)\n",
    "te.end_fill()\n",
    "# 图层_11\n",
    "te.color(\"black\", \"#F3EEEB\")  # 脸\n",
    "Moveto(185, 212)\n",
    "te.begin_fill()\n",
    "curveto_r(4, -9, 46, -77, 52, -75)\n",
    "curveto_r(-2, -17, 19, -68, 27, -73)\n",
    "curveto_r(16, 15, 71, 108, 76, 112)\n",
    "smooth_r(76, 53, 86, 60)\n",
    "curveto_r(0, 65, -27, 75, -31, 76)\n",
    "curveto_r(-50, 28, -70, 30, -85, 30)\n",
    "smooth_r(-77, -22, -86, -26)\n",
    "Curveto(180, 302, 186, 228, 185, 212)\n",
    "te.end_fill()\n",
    "# 图层_12\n",
    "te.color(\"black\", \"#2B1D29\")  # 头发\n",
    "Moveto(189, 202)\n",
    "te.begin_fill()\n",
    "curveto_r(-1, 22, 19, 51, 19, 51)\n",
    "smooth_r(-10, -42, 7, -92)\n",
    "Curveto(212, 168, 196, 189, 189, 202)\n",
    "te.end_fill()\n",
    "\n",
    "Moveto(221, 155)\n",
    "te.begin_fill()\n",
    "curveto_r(-2, 6, 5, 48, 5, 48)\n",
    "smooth_r(18, -28, 20, -48)\n",
    "curveto_r(-5, 24, 4, 43, 7, 50)\n",
    "curveto_r(-10, -49, 3, -72, 13, -106)\n",
    "curveto_r(-2, -7, -3, -32, -3, -35)\n",
    "curveto_r(-17, 18, -27, 71, -27, 71)\n",
    "Lineto(221, 155)\n",
    "te.end_fill()\n",
    "\n",
    "Moveto(264, 64)\n",
    "te.begin_fill()\n",
    "curveto_r(-4, 5, 14, 100, 14, 100)\n",
    "smooth_r(-6, -79, -5, -85)\n",
    "curveto_r(0, 98, 49, 139, 49, 139)\n",
    "smooth_r(8, -50, 3, -65)\n",
    "Smooth(272, 64, 264, 64)\n",
    "te.end_fill()\n",
    "\n",
    "Moveto(342, 176)\n",
    "te.begin_fill()\n",
    "curveto_r(-1, 27, -10, 57, -10, 57)\n",
    "smooth_r(20, -33, 17, -54)\n",
    "Lineto(342, 176)\n",
    "te.end_fill()\n",
    "\n",
    "te.penup()\n",
    "te.begin_fill()\n",
    "polyline(349, 180, 353, 203, 361, 203)\n",
    "polyline(361, 203, 362, 188, 349, 180)\n",
    "te.end_fill()\n",
    "# 图层_13\n",
    "te.pensize(2)\n",
    "Moveto(210, 180)  # 眉毛\n",
    "curveto_r(5, -4, 63, 9, 63, 14)\n",
    "Moveto(338, 193)\n",
    "curveto_r(0, -3, 18, -6, 18, -6)\n",
    "te.pensize(1)\n",
    "# 图层_14\n",
    "te.color(\"black\", \"#D1D1D1\")  # 眼睛1\n",
    "te.pensize(2)\n",
    "Moveto(206, 212)\n",
    "te.begin_fill()\n",
    "lineto(15, -7)\n",
    "curveto_r(4, -1, 26, -2, 30, 0)\n",
    "smooth_r(10, 3, 12, 7)\n",
    "te.pencolor(\"#D1D1D1\")\n",
    "te.pensize(1)\n",
    "smooth_r(2, 27, -1, 30)\n",
    "smooth_r(-39, 5, -44, 1)\n",
    "Smooth(206, 212, 206, 212)\n",
    "te.end_fill()\n",
    "\n",
    "Moveto(384, 204)\n",
    "te.begin_fill()\n",
    "te.pencolor(\"black\")\n",
    "te.pensize(2)\n",
    "curveto_r(-3, -1, -18, -1, -28, 1)\n",
    "smooth_r(-9, 6, -10, 9)\n",
    "te.pencolor(\"#D1D1D1\")\n",
    "te.pensize(1)\n",
    "smooth_r(3, 18, 6, 23)\n",
    "smooth_r(38, 6, 40, 4)\n",
    "smooth_r(10, -9, 13, -22)\n",
    "te.pencolor(\"black\")\n",
    "te.pensize(2)\n",
    "Lineto(384, 204)\n",
    "te.end_fill()\n",
    "# 图层_15\n",
    "te.color(\"#0C1631\", \"#0C1631\")  # 眼睛2\n",
    "te.pensize(1)\n",
    "Moveto(216, 206)\n",
    "te.begin_fill()\n",
    "curveto_r(-1, 5, 0, 26, 7, 35)\n",
    "smooth_r(30, 2, 33, 0)\n",
    "smooth_r(5, -31, 2, -34)\n",
    "Smooth(219, 203, 216, 206)\n",
    "te.end_fill()\n",
    "\n",
    "Moveto(354, 207)\n",
    "te.begin_fill()\n",
    "curveto_r(-2, 1, 2, 29, 4, 31)\n",
    "smooth_r(30, 3, 33, 1)\n",
    "smooth_r(6, -24, 4, -27)\n",
    "lineto(-11, -8)\n",
    "Curveto(382, 204, 357, 206, 354, 207)\n",
    "te.end_fill()\n",
    "\n",
    "# 图层_17\n",
    "te.color(\"#F5F5F5\", \"#F5F5F5\")  # 眼睛3\n",
    "Moveto(253, 211)\n",
    "te.begin_fill()\n",
    "curveto_r(-3, 0, -8, 8, 1, 10)\n",
    "Smooth(258, 210, 253, 211)\n",
    "te.end_fill()\n",
    "\n",
    "Moveto(392, 209)\n",
    "te.begin_fill()\n",
    "lineto(4, 3)\n",
    "vertical(4)\n",
    "lineto(-4, 2)\n",
    "Curveto(386, 214, 392, 209, 392, 209)\n",
    "te.end_fill()\n",
    "# 图层_18\n",
    "te.color(\"#352F53\", \"#352F53\")  # 眼睛4\n",
    "Moveto(219, 229)\n",
    "te.begin_fill()\n",
    "smooth_r(2, -5, 6, -4)\n",
    "smooth_r(18, 13, 27, 1)\n",
    "curveto_r(3, 0, 5, 3, 5, 3)\n",
    "vertical(13)\n",
    "Horizontal(224)\n",
    "Lineto(219, 229)\n",
    "te.end_fill()\n",
    "\n",
    "Moveto(357, 227)\n",
    "te.begin_fill()\n",
    "smooth_r(4, -6, 10, -2)\n",
    "smooth_r(10, 13, 19, 1)\n",
    "curveto_r(6, 0, 8, 6, 8, 6)\n",
    "lineto(-2, 9)\n",
    "curveto_r(-12, 3, -29, 0, -32, -2)\n",
    "Smooth(357, 227, 357, 227)\n",
    "te.end_fill()\n",
    "\n",
    "# 图层_19\n",
    "te.color(\"#9A90CB\", \"#9A90CB\")  # 眼睛5\n",
    "Moveto(227, 231)\n",
    "te.begin_fill()\n",
    "curveto_r(-6, 0, -5, 5, -3, 8)\n",
    "smooth_r(24, 2, 27, 0)\n",
    "smooth_r(0, -8, -1, -8)\n",
    "Smooth(234, 231, 227, 231)\n",
    "te.end_fill()\n",
    "\n",
    "Moveto(361, 227)\n",
    "te.begin_fill()\n",
    "curveto_r(2, 18, 26, 14, 30, 6)\n",
    "smooth_r(-1, -3, -2, -4)\n",
    "smooth_r(-15, 9, -24, -4)\n",
    "Curveto(363, 224, 361, 225, 361, 227)\n",
    "te.end_fill()\n",
    "\n",
    "# 图层_16\n",
    "te.pencolor(\"black\")  # 眼睛(线条)\n",
    "te.pensize(3)\n",
    "# Moveto(206,213)\n",
    "# lineto(14,-8)\n",
    "# curveto_r(3,-1,30,0,33,1)\n",
    "# lineto(10,6)\n",
    "Moveto(225, 215)\n",
    "curveto_r(10, 28, 22, 16, 24, 6)\n",
    "Moveto(365, 219)\n",
    "curveto_r(4, 14, 18, 24, 22, -3)\n",
    "te.pensize(2)\n",
    "line(240.5, 207.5, 227.5, 211.5)\n",
    "line(245.5, 209.5, 227.5, 214.5)\n",
    "line(247.5, 211.5, 227.5, 217.5)\n",
    "line(247.5, 214.5, 229.5, 220.5)\n",
    "line(247.5, 218.5, 230.5, 223.5)\n",
    "line(246.5, 222.5, 232.5, 226.5)\n",
    "line(244.5, 225.5, 234.5, 228.5)\n",
    "\n",
    "line(377.5, 207.5, 367.5, 210.5)\n",
    "line(384.5, 207.5, 366.5, 212.5)\n",
    "line(385.5, 210.5, 366.5, 215.5)\n",
    "line(384.5, 213.5, 366.5, 218.5)\n",
    "line(384.5, 215.5, 367.5, 220.5)\n",
    "line(384.5, 218.5, 368.5, 223.5)\n",
    "# line(383.5,220.5,368.5,225.5)\n",
    "line(382.5, 223.5, 370.5, 227.5)\n",
    "# line(381.5,226.5,373.5,229.5)\n",
    "# 图层_20\n",
    "te.pencolor(\"black\")\n",
    "Moveto(309, 270)  # 鼻子、嘴\n",
    "curveto_r(0, 0, 4, 7, 1, 9)\n",
    "line(296.5, 307.5, 303.5, 307.5)\n",
    "Moveto(315, 307)\n",
    "smooth_r(10, -1, 10, 2)\n",
    "\n",
    "te.penup()\n",
    "te.hideturtle()\n",
    "te.update()\n",
    "te.done()\n"
   ]
  },
  {
   "cell_type": "code",
   "execution_count": null,
   "metadata": {},
   "outputs": [],
   "source": [
    "import turtle as T\n",
    "import random\n",
    "import time\n",
    "\n",
    "# 画樱花的躯干(60,t)\n",
    "def Tree(branch, t):\n",
    "    t.hideturtle()\n",
    "    time.sleep(0.00009)\n",
    "    if branch > 3:\n",
    "        if 8 <= branch <= 12:\n",
    "            if random.randint(0, 2) == 0:\n",
    "                t.color('snow')  # 白\n",
    "            else:\n",
    "                t.color('lightcoral')  # 淡珊瑚色\n",
    "            t.pensize(branch / 3)\n",
    "        elif branch < 8:\n",
    "            if random.randint(0, 1) == 0:\n",
    "                t.color('snow')\n",
    "            else:\n",
    "                t.color('lightcoral')  # 淡珊瑚色\n",
    "            t.pensize(branch / 2)\n",
    "        else:\n",
    "            t.color('sienna')  # 赭(zhě)色\n",
    "            t.pensize(branch / 10)  # 6\n",
    "        t.forward(branch)\n",
    "        a = 1.5 * random.random()\n",
    "        t.right(20 * a)\n",
    "        b = 1.5 * random.random()\n",
    "        Tree(branch - 10 * b, t)\n",
    "        t.left(40 * a)\n",
    "        Tree(branch - 10 * b, t)\n",
    "        t.right(20 * a)\n",
    "        t.up()\n",
    "        t.backward(branch)\n",
    "        t.down()\n",
    "        T\n",
    "\n",
    "\n",
    "# 掉落的花瓣\n",
    "def Petal(m, t):\n",
    "    T.speed(0)\n",
    "    for i in range(m):\n",
    "        a = 200 - 400 * random.random()\n",
    "        b = 10 - 20 * random.random()\n",
    "        t.up()\n",
    "        t.forward(b)\n",
    "        t.left(90)\n",
    "        t.forward(a)\n",
    "        t.down()\n",
    "        t.color('lightcoral')  # 淡珊瑚色\n",
    "        t.circle(1)\n",
    "        t.up()\n",
    "        t.backward(a)\n",
    "        t.right(90)\n",
    "        t.backward(b)\n",
    "\n",
    "\n",
    "# 绘图区域\n",
    "t = T.Turtle()\n",
    "# 画布大小\n",
    "w = T.Screen()\n",
    "t.hideturtle()  # 隐藏画笔\n",
    "T.showturtle()\n",
    "t.getscreen().tracer(5, 0)\n",
    "w.screensize(3000,3000,bg='wheat')  # wheat小麦\n",
    "t.left(90)\n",
    "t.up()\n",
    "t.backward(150)\n",
    "t.down()\n",
    "t.color('sienna')\n",
    "t.hideturtle()\n",
    "T.speed(0)\n",
    "\n",
    "\n",
    "# 画樱花的躯干\n",
    "Tree(79, t)\n",
    "# 掉落的花瓣\n",
    "Petal(200, t)\n",
    "w.exitonclick()\n"
   ]
  },
  {
   "cell_type": "code",
   "execution_count": 319,
   "metadata": {},
   "outputs": [
    {
     "ename": "Terminator",
     "evalue": "",
     "output_type": "error",
     "traceback": [
      "\u001b[1;31m---------------------------------------------------------------------------\u001b[0m",
      "\u001b[1;31mTerminator\u001b[0m                                Traceback (most recent call last)",
      "\u001b[1;32m<ipython-input-319-d09ab5a8bb06>\u001b[0m in \u001b[0;36m<module>\u001b[1;34m\u001b[0m\n\u001b[0;32m      5\u001b[0m     \u001b[0mwidth\u001b[0m\u001b[1;33m(\u001b[0m\u001b[0mx\u001b[0m \u001b[1;33m/\u001b[0m \u001b[1;36m100\u001b[0m \u001b[1;33m+\u001b[0m \u001b[1;36m1\u001b[0m\u001b[1;33m)\u001b[0m\u001b[1;33m\u001b[0m\u001b[1;33m\u001b[0m\u001b[0m\n\u001b[0;32m      6\u001b[0m     \u001b[0mforward\u001b[0m\u001b[1;33m(\u001b[0m\u001b[0mx\u001b[0m\u001b[1;33m)\u001b[0m\u001b[1;33m\u001b[0m\u001b[1;33m\u001b[0m\u001b[0m\n\u001b[1;32m----> 7\u001b[1;33m     \u001b[0mleft\u001b[0m\u001b[1;33m(\u001b[0m\u001b[1;36m59\u001b[0m\u001b[1;33m)\u001b[0m\u001b[1;33m\u001b[0m\u001b[1;33m\u001b[0m\u001b[0m\n\u001b[0m",
      "\u001b[1;32mD:\\Anaconda\\lib\\turtle.py\u001b[0m in \u001b[0;36mleft\u001b[1;34m(angle)\u001b[0m\n",
      "\u001b[1;32mD:\\Anaconda\\lib\\turtle.py\u001b[0m in \u001b[0;36mleft\u001b[1;34m(self, angle)\u001b[0m\n\u001b[0;32m   1697\u001b[0m         \u001b[1;36m67.0\u001b[0m\u001b[1;33m\u001b[0m\u001b[1;33m\u001b[0m\u001b[0m\n\u001b[0;32m   1698\u001b[0m         \"\"\"\n\u001b[1;32m-> 1699\u001b[1;33m         \u001b[0mself\u001b[0m\u001b[1;33m.\u001b[0m\u001b[0m_rotate\u001b[0m\u001b[1;33m(\u001b[0m\u001b[0mangle\u001b[0m\u001b[1;33m)\u001b[0m\u001b[1;33m\u001b[0m\u001b[1;33m\u001b[0m\u001b[0m\n\u001b[0m\u001b[0;32m   1700\u001b[0m \u001b[1;33m\u001b[0m\u001b[0m\n\u001b[0;32m   1701\u001b[0m     \u001b[1;32mdef\u001b[0m \u001b[0mpos\u001b[0m\u001b[1;33m(\u001b[0m\u001b[0mself\u001b[0m\u001b[1;33m)\u001b[0m\u001b[1;33m:\u001b[0m\u001b[1;33m\u001b[0m\u001b[1;33m\u001b[0m\u001b[0m\n",
      "\u001b[1;32mD:\\Anaconda\\lib\\turtle.py\u001b[0m in \u001b[0;36m_rotate\u001b[1;34m(self, angle)\u001b[0m\n\u001b[0;32m   3274\u001b[0m             \u001b[1;32mfor\u001b[0m \u001b[0m_\u001b[0m \u001b[1;32min\u001b[0m \u001b[0mrange\u001b[0m\u001b[1;33m(\u001b[0m\u001b[0msteps\u001b[0m\u001b[1;33m)\u001b[0m\u001b[1;33m:\u001b[0m\u001b[1;33m\u001b[0m\u001b[1;33m\u001b[0m\u001b[0m\n\u001b[0;32m   3275\u001b[0m                 \u001b[0mself\u001b[0m\u001b[1;33m.\u001b[0m\u001b[0m_orient\u001b[0m \u001b[1;33m=\u001b[0m \u001b[0mself\u001b[0m\u001b[1;33m.\u001b[0m\u001b[0m_orient\u001b[0m\u001b[1;33m.\u001b[0m\u001b[0mrotate\u001b[0m\u001b[1;33m(\u001b[0m\u001b[0mdelta\u001b[0m\u001b[1;33m)\u001b[0m\u001b[1;33m\u001b[0m\u001b[1;33m\u001b[0m\u001b[0m\n\u001b[1;32m-> 3276\u001b[1;33m                 \u001b[0mself\u001b[0m\u001b[1;33m.\u001b[0m\u001b[0m_update\u001b[0m\u001b[1;33m(\u001b[0m\u001b[1;33m)\u001b[0m\u001b[1;33m\u001b[0m\u001b[1;33m\u001b[0m\u001b[0m\n\u001b[0m\u001b[0;32m   3277\u001b[0m         \u001b[0mself\u001b[0m\u001b[1;33m.\u001b[0m\u001b[0m_orient\u001b[0m \u001b[1;33m=\u001b[0m \u001b[0mneworient\u001b[0m\u001b[1;33m\u001b[0m\u001b[1;33m\u001b[0m\u001b[0m\n\u001b[0;32m   3278\u001b[0m         \u001b[0mself\u001b[0m\u001b[1;33m.\u001b[0m\u001b[0m_update\u001b[0m\u001b[1;33m(\u001b[0m\u001b[1;33m)\u001b[0m\u001b[1;33m\u001b[0m\u001b[1;33m\u001b[0m\u001b[0m\n",
      "\u001b[1;32mD:\\Anaconda\\lib\\turtle.py\u001b[0m in \u001b[0;36m_update\u001b[1;34m(self)\u001b[0m\n\u001b[0;32m   2658\u001b[0m             \u001b[1;32mreturn\u001b[0m\u001b[1;33m\u001b[0m\u001b[1;33m\u001b[0m\u001b[0m\n\u001b[0;32m   2659\u001b[0m         \u001b[1;32melif\u001b[0m \u001b[0mscreen\u001b[0m\u001b[1;33m.\u001b[0m\u001b[0m_tracing\u001b[0m \u001b[1;33m==\u001b[0m \u001b[1;36m1\u001b[0m\u001b[1;33m:\u001b[0m\u001b[1;33m\u001b[0m\u001b[1;33m\u001b[0m\u001b[0m\n\u001b[1;32m-> 2660\u001b[1;33m             \u001b[0mself\u001b[0m\u001b[1;33m.\u001b[0m\u001b[0m_update_data\u001b[0m\u001b[1;33m(\u001b[0m\u001b[1;33m)\u001b[0m\u001b[1;33m\u001b[0m\u001b[1;33m\u001b[0m\u001b[0m\n\u001b[0m\u001b[0;32m   2661\u001b[0m             \u001b[0mself\u001b[0m\u001b[1;33m.\u001b[0m\u001b[0m_drawturtle\u001b[0m\u001b[1;33m(\u001b[0m\u001b[1;33m)\u001b[0m\u001b[1;33m\u001b[0m\u001b[1;33m\u001b[0m\u001b[0m\n\u001b[0;32m   2662\u001b[0m             \u001b[0mscreen\u001b[0m\u001b[1;33m.\u001b[0m\u001b[0m_update\u001b[0m\u001b[1;33m(\u001b[0m\u001b[1;33m)\u001b[0m                  \u001b[1;31m# TurtleScreenBase\u001b[0m\u001b[1;33m\u001b[0m\u001b[1;33m\u001b[0m\u001b[0m\n",
      "\u001b[1;32mD:\\Anaconda\\lib\\turtle.py\u001b[0m in \u001b[0;36m_update_data\u001b[1;34m(self)\u001b[0m\n\u001b[0;32m   2644\u001b[0m \u001b[1;33m\u001b[0m\u001b[0m\n\u001b[0;32m   2645\u001b[0m     \u001b[1;32mdef\u001b[0m \u001b[0m_update_data\u001b[0m\u001b[1;33m(\u001b[0m\u001b[0mself\u001b[0m\u001b[1;33m)\u001b[0m\u001b[1;33m:\u001b[0m\u001b[1;33m\u001b[0m\u001b[1;33m\u001b[0m\u001b[0m\n\u001b[1;32m-> 2646\u001b[1;33m         \u001b[0mself\u001b[0m\u001b[1;33m.\u001b[0m\u001b[0mscreen\u001b[0m\u001b[1;33m.\u001b[0m\u001b[0m_incrementudc\u001b[0m\u001b[1;33m(\u001b[0m\u001b[1;33m)\u001b[0m\u001b[1;33m\u001b[0m\u001b[1;33m\u001b[0m\u001b[0m\n\u001b[0m\u001b[0;32m   2647\u001b[0m         \u001b[1;32mif\u001b[0m \u001b[0mself\u001b[0m\u001b[1;33m.\u001b[0m\u001b[0mscreen\u001b[0m\u001b[1;33m.\u001b[0m\u001b[0m_updatecounter\u001b[0m \u001b[1;33m!=\u001b[0m \u001b[1;36m0\u001b[0m\u001b[1;33m:\u001b[0m\u001b[1;33m\u001b[0m\u001b[1;33m\u001b[0m\u001b[0m\n\u001b[0;32m   2648\u001b[0m             \u001b[1;32mreturn\u001b[0m\u001b[1;33m\u001b[0m\u001b[1;33m\u001b[0m\u001b[0m\n",
      "\u001b[1;32mD:\\Anaconda\\lib\\turtle.py\u001b[0m in \u001b[0;36m_incrementudc\u001b[1;34m(self)\u001b[0m\n\u001b[0;32m   1290\u001b[0m         \u001b[1;32mif\u001b[0m \u001b[1;32mnot\u001b[0m \u001b[0mTurtleScreen\u001b[0m\u001b[1;33m.\u001b[0m\u001b[0m_RUNNING\u001b[0m\u001b[1;33m:\u001b[0m\u001b[1;33m\u001b[0m\u001b[1;33m\u001b[0m\u001b[0m\n\u001b[0;32m   1291\u001b[0m             \u001b[0mTurtleScreen\u001b[0m\u001b[1;33m.\u001b[0m\u001b[0m_RUNNING\u001b[0m \u001b[1;33m=\u001b[0m \u001b[1;32mTrue\u001b[0m\u001b[1;33m\u001b[0m\u001b[1;33m\u001b[0m\u001b[0m\n\u001b[1;32m-> 1292\u001b[1;33m             \u001b[1;32mraise\u001b[0m \u001b[0mTerminator\u001b[0m\u001b[1;33m\u001b[0m\u001b[1;33m\u001b[0m\u001b[0m\n\u001b[0m\u001b[0;32m   1293\u001b[0m         \u001b[1;32mif\u001b[0m \u001b[0mself\u001b[0m\u001b[1;33m.\u001b[0m\u001b[0m_tracing\u001b[0m \u001b[1;33m>\u001b[0m \u001b[1;36m0\u001b[0m\u001b[1;33m:\u001b[0m\u001b[1;33m\u001b[0m\u001b[1;33m\u001b[0m\u001b[0m\n\u001b[0;32m   1294\u001b[0m             \u001b[0mself\u001b[0m\u001b[1;33m.\u001b[0m\u001b[0m_updatecounter\u001b[0m \u001b[1;33m+=\u001b[0m \u001b[1;36m1\u001b[0m\u001b[1;33m\u001b[0m\u001b[1;33m\u001b[0m\u001b[0m\n",
      "\u001b[1;31mTerminator\u001b[0m: "
     ]
    }
   ],
   "source": [
    "from turtle import *\n",
    "colors = ['red', 'purple', 'blue', 'green', 'yellow', 'orange']\n",
    "for x in range(360):\n",
    "    pencolor(colors[x % 6])\n",
    "    width(x / 100 + 1)\n",
    "    forward(x)\n",
    "    left(59)"
   ]
  },
  {
   "cell_type": "code",
   "execution_count": 1,
   "metadata": {},
   "outputs": [],
   "source": [
    "a,*b = 'spam'"
   ]
  },
  {
   "cell_type": "code",
   "execution_count": 2,
   "metadata": {},
   "outputs": [
    {
     "data": {
      "text/plain": [
       "('s', ['p', 'a', 'm'])"
      ]
     },
     "execution_count": 2,
     "metadata": {},
     "output_type": "execute_result"
    }
   ],
   "source": [
    "a,b"
   ]
  },
  {
   "cell_type": "code",
   "execution_count": 3,
   "metadata": {},
   "outputs": [],
   "source": [
    "spam = ham = 'lunch'"
   ]
  },
  {
   "cell_type": "code",
   "execution_count": 6,
   "metadata": {},
   "outputs": [],
   "source": [
    "spam += str(42)"
   ]
  },
  {
   "cell_type": "code",
   "execution_count": 7,
   "metadata": {},
   "outputs": [
    {
     "data": {
      "text/plain": [
       "'lunch4242'"
      ]
     },
     "execution_count": 7,
     "metadata": {},
     "output_type": "execute_result"
    }
   ],
   "source": [
    "spam"
   ]
  },
  {
   "cell_type": "code",
   "execution_count": 9,
   "metadata": {},
   "outputs": [
    {
     "name": "stdout",
     "output_type": "stream",
     "text": [
      "1 2\n",
      "1 2\n"
     ]
    }
   ],
   "source": [
    "nudge = 1\n",
    "wink = 2\n",
    "A, B = nudge, wink\n",
    "print(A, B)\n",
    "[C, D] = [nudge, wink]\n",
    "print(C,D)"
   ]
  },
  {
   "cell_type": "markdown",
   "metadata": {},
   "source": [
    "# Advanced sequence assignment patterns"
   ]
  },
  {
   "cell_type": "code",
   "execution_count": 2,
   "metadata": {},
   "outputs": [],
   "source": [
    "string = 'SPAM'\n",
    "a, b, c, d = string"
   ]
  },
  {
   "cell_type": "code",
   "execution_count": 3,
   "metadata": {},
   "outputs": [
    {
     "data": {
      "text/plain": [
       "('S', 'M')"
      ]
     },
     "execution_count": 3,
     "metadata": {},
     "output_type": "execute_result"
    }
   ],
   "source": [
    "a, d"
   ]
  },
  {
   "cell_type": "code",
   "execution_count": 4,
   "metadata": {},
   "outputs": [
    {
     "data": {
      "text/plain": [
       "('S', 'P', 'A', 'M')"
      ]
     },
     "execution_count": 4,
     "metadata": {},
     "output_type": "execute_result"
    }
   ],
   "source": [
    "a, b, c, d"
   ]
  },
  {
   "cell_type": "code",
   "execution_count": 5,
   "metadata": {},
   "outputs": [],
   "source": [
    "a, b, c = string[0], string[1], string[2:] #Index and slice "
   ]
  },
  {
   "cell_type": "code",
   "execution_count": 6,
   "metadata": {},
   "outputs": [
    {
     "data": {
      "text/plain": [
       "('S', 'P', 'AM')"
      ]
     },
     "execution_count": 6,
     "metadata": {},
     "output_type": "execute_result"
    }
   ],
   "source": [
    "a, b, c"
   ]
  },
  {
   "cell_type": "code",
   "execution_count": 7,
   "metadata": {},
   "outputs": [],
   "source": [
    "a, b, c = list(string[:2]) + [string[2:]]"
   ]
  },
  {
   "cell_type": "code",
   "execution_count": 8,
   "metadata": {},
   "outputs": [
    {
     "data": {
      "text/plain": [
       "('S', 'P', 'AM')"
      ]
     },
     "execution_count": 8,
     "metadata": {},
     "output_type": "execute_result"
    }
   ],
   "source": [
    "a, b, c"
   ]
  },
  {
   "cell_type": "code",
   "execution_count": 9,
   "metadata": {},
   "outputs": [],
   "source": [
    "(a, b), c = string[:2], string[2:]"
   ]
  },
  {
   "cell_type": "code",
   "execution_count": 10,
   "metadata": {},
   "outputs": [
    {
     "data": {
      "text/plain": [
       "('S', 'P', 'AM')"
      ]
     },
     "execution_count": 10,
     "metadata": {},
     "output_type": "execute_result"
    }
   ],
   "source": [
    "a, b, c"
   ]
  },
  {
   "cell_type": "code",
   "execution_count": 11,
   "metadata": {},
   "outputs": [],
   "source": [
    "((a, b), c) = ('SP',\"AM\") # Paired by shape and position"
   ]
  },
  {
   "cell_type": "code",
   "execution_count": 12,
   "metadata": {},
   "outputs": [
    {
     "data": {
      "text/plain": [
       "('S', 'P', 'AM')"
      ]
     },
     "execution_count": 12,
     "metadata": {},
     "output_type": "execute_result"
    }
   ],
   "source": [
    "a, b, c"
   ]
  },
  {
   "cell_type": "code",
   "execution_count": 13,
   "metadata": {},
   "outputs": [],
   "source": [
    "red, green, blue = range(3)"
   ]
  },
  {
   "cell_type": "code",
   "execution_count": 14,
   "metadata": {},
   "outputs": [
    {
     "data": {
      "text/plain": [
       "(0, 2)"
      ]
     },
     "execution_count": 14,
     "metadata": {},
     "output_type": "execute_result"
    }
   ],
   "source": [
    "red, blue"
   ]
  },
  {
   "cell_type": "code",
   "execution_count": 16,
   "metadata": {},
   "outputs": [
    {
     "name": "stdout",
     "output_type": "stream",
     "text": [
      "1 [2, 3, 4]\n",
      "2 [3, 4]\n",
      "3 [4]\n",
      "4 []\n"
     ]
    }
   ],
   "source": [
    "L = [1,2,3,4]\n",
    "while L:\n",
    "    front, L = L[0], L[1:] # See next section for 3.0 alternative\n",
    "    print(front, L)"
   ]
  },
  {
   "cell_type": "code",
   "execution_count": 18,
   "metadata": {},
   "outputs": [
    {
     "name": "stdout",
     "output_type": "stream",
     "text": [
      "1 [2, 3, 4]\n",
      "2 [3, 4]\n",
      "3 [4]\n",
      "4 []\n"
     ]
    }
   ],
   "source": [
    "L =[1,2,3,4]\n",
    "while L:\n",
    "    front = L.pop(0)\n",
    "    print(front, L)"
   ]
  },
  {
   "cell_type": "code",
   "execution_count": 19,
   "metadata": {},
   "outputs": [
    {
     "name": "stdout",
     "output_type": "stream",
     "text": [
      "1 2 3 4\n"
     ]
    }
   ],
   "source": [
    "seq = [1,2,3,4]\n",
    "a, b, c, d = seq\n",
    "print(a, b, c, d)"
   ]
  },
  {
   "cell_type": "code",
   "execution_count": 20,
   "metadata": {},
   "outputs": [],
   "source": [
    "a, *b = seq"
   ]
  },
  {
   "cell_type": "code",
   "execution_count": 21,
   "metadata": {},
   "outputs": [
    {
     "data": {
      "text/plain": [
       "(1, [2, 3, 4])"
      ]
     },
     "execution_count": 21,
     "metadata": {},
     "output_type": "execute_result"
    }
   ],
   "source": [
    "a, b"
   ]
  },
  {
   "cell_type": "code",
   "execution_count": 22,
   "metadata": {},
   "outputs": [],
   "source": [
    "*a, b = seq"
   ]
  },
  {
   "cell_type": "code",
   "execution_count": 23,
   "metadata": {},
   "outputs": [
    {
     "data": {
      "text/plain": [
       "([1, 2, 3], 4)"
      ]
     },
     "execution_count": 23,
     "metadata": {},
     "output_type": "execute_result"
    }
   ],
   "source": [
    "a, b"
   ]
  },
  {
   "cell_type": "code",
   "execution_count": 24,
   "metadata": {},
   "outputs": [],
   "source": [
    "a, *b, c = seq"
   ]
  },
  {
   "cell_type": "code",
   "execution_count": 25,
   "metadata": {},
   "outputs": [
    {
     "data": {
      "text/plain": [
       "(1, [2, 3], 4)"
      ]
     },
     "execution_count": 25,
     "metadata": {},
     "output_type": "execute_result"
    }
   ],
   "source": [
    "a, b, c"
   ]
  },
  {
   "cell_type": "code",
   "execution_count": 26,
   "metadata": {},
   "outputs": [],
   "source": [
    "a, b, *c = seq"
   ]
  },
  {
   "cell_type": "code",
   "execution_count": 27,
   "metadata": {},
   "outputs": [],
   "source": [
    "a, *b = 'spam'"
   ]
  },
  {
   "cell_type": "code",
   "execution_count": 28,
   "metadata": {},
   "outputs": [
    {
     "name": "stdout",
     "output_type": "stream",
     "text": [
      "s ['p', 'a', 'm']\n"
     ]
    },
    {
     "data": {
      "text/plain": [
       "('s', ['p', 'a'], 'm')"
      ]
     },
     "execution_count": 28,
     "metadata": {},
     "output_type": "execute_result"
    }
   ],
   "source": [
    "print(a,b)\n",
    "a, *b, c = 'spam'\n",
    "a, b, c"
   ]
  },
  {
   "cell_type": "markdown",
   "metadata": {},
   "source": [
    "# Boundary cases"
   ]
  },
  {
   "cell_type": "code",
   "execution_count": 29,
   "metadata": {},
   "outputs": [
    {
     "data": {
      "text/plain": [
       "[1, 2, 3, 4]"
      ]
     },
     "execution_count": 29,
     "metadata": {},
     "output_type": "execute_result"
    }
   ],
   "source": [
    "seq"
   ]
  },
  {
   "cell_type": "code",
   "execution_count": 31,
   "metadata": {},
   "outputs": [
    {
     "name": "stdout",
     "output_type": "stream",
     "text": [
      "1 2 3 [4]\n"
     ]
    }
   ],
   "source": [
    "a, b, c, *d = seq\n",
    "print(a, b, c, d)"
   ]
  },
  {
   "cell_type": "code",
   "execution_count": 32,
   "metadata": {},
   "outputs": [
    {
     "name": "stdout",
     "output_type": "stream",
     "text": [
      "1 2 3 4 []\n"
     ]
    }
   ],
   "source": [
    "a, b, c, d, *e = seq\n",
    "print(a,b,c,d,e)"
   ]
  },
  {
   "cell_type": "code",
   "execution_count": 33,
   "metadata": {},
   "outputs": [],
   "source": [
    "a, b, *e, c, d = seq"
   ]
  },
  {
   "cell_type": "code",
   "execution_count": 34,
   "metadata": {},
   "outputs": [
    {
     "name": "stdout",
     "output_type": "stream",
     "text": [
      "1 2 3 4 []\n"
     ]
    }
   ],
   "source": [
    "print(a,b,c,d,e)"
   ]
  },
  {
   "cell_type": "code",
   "execution_count": 35,
   "metadata": {},
   "outputs": [],
   "source": [
    "*a, = seq"
   ]
  },
  {
   "cell_type": "code",
   "execution_count": 36,
   "metadata": {},
   "outputs": [
    {
     "data": {
      "text/plain": [
       "[1, 2, 3, 4]"
      ]
     },
     "execution_count": 36,
     "metadata": {},
     "output_type": "execute_result"
    }
   ],
   "source": [
    "a"
   ]
  },
  {
   "cell_type": "code",
   "execution_count": 40,
   "metadata": {},
   "outputs": [],
   "source": [
    "T = (seq[1]) # A one-item tuple (not an expression)"
   ]
  },
  {
   "cell_type": "code",
   "execution_count": 43,
   "metadata": {},
   "outputs": [
    {
     "data": {
      "text/plain": [
       "(int, tuple)"
      ]
     },
     "execution_count": 43,
     "metadata": {},
     "output_type": "execute_result"
    }
   ],
   "source": [
    "type(T), type((seq[1],))"
   ]
  },
  {
   "cell_type": "code",
   "execution_count": 44,
   "metadata": {},
   "outputs": [
    {
     "data": {
      "text/plain": [
       "[1, 2, 3, 4]"
      ]
     },
     "execution_count": 44,
     "metadata": {},
     "output_type": "execute_result"
    }
   ],
   "source": [
    "seq"
   ]
  },
  {
   "cell_type": "code",
   "execution_count": 45,
   "metadata": {},
   "outputs": [],
   "source": [
    "a, *b = seq"
   ]
  },
  {
   "cell_type": "code",
   "execution_count": 46,
   "metadata": {},
   "outputs": [
    {
     "data": {
      "text/plain": [
       "(1, [2, 3, 4])"
      ]
     },
     "execution_count": 46,
     "metadata": {},
     "output_type": "execute_result"
    }
   ],
   "source": [
    "a, b"
   ]
  },
  {
   "cell_type": "code",
   "execution_count": 47,
   "metadata": {},
   "outputs": [],
   "source": [
    "a, b = seq[0], seq[1:] # First, rest : traditional"
   ]
  },
  {
   "cell_type": "code",
   "execution_count": 48,
   "metadata": {},
   "outputs": [
    {
     "data": {
      "text/plain": [
       "(1, [2, 3, 4])"
      ]
     },
     "execution_count": 48,
     "metadata": {},
     "output_type": "execute_result"
    }
   ],
   "source": [
    "a, b"
   ]
  },
  {
   "cell_type": "code",
   "execution_count": 49,
   "metadata": {},
   "outputs": [
    {
     "name": "stdout",
     "output_type": "stream",
     "text": [
      "1 [2, 3] 4\n",
      "5 [6, 7] 8\n",
      "9 [10, 11] 12\n"
     ]
    }
   ],
   "source": [
    "for (a, *b, c) in [(1,2,3,4),(5,6,7,8),(9,10,11,12)]:\n",
    "    print(a,b,c)"
   ]
  },
  {
   "cell_type": "code",
   "execution_count": 50,
   "metadata": {},
   "outputs": [],
   "source": [
    "for allnum in [(1,2,3,4),(5,6,7,8)]:\n",
    "    a, b, c = allnum[0], allnum[1:3], allnum[3]"
   ]
  },
  {
   "cell_type": "markdown",
   "metadata": {},
   "source": [
    "# Multiple-Target Assignments"
   ]
  },
  {
   "cell_type": "code",
   "execution_count": 51,
   "metadata": {},
   "outputs": [
    {
     "data": {
      "text/plain": [
       "('spam', 'spam', 'spam')"
      ]
     },
     "execution_count": 51,
     "metadata": {},
     "output_type": "execute_result"
    }
   ],
   "source": [
    "a = b = c = 'spam'\n",
    "a, b, c"
   ]
  },
  {
   "cell_type": "code",
   "execution_count": 52,
   "metadata": {},
   "outputs": [],
   "source": [
    "c = 'spam'\n",
    "b = c\n",
    "a = b"
   ]
  },
  {
   "cell_type": "code",
   "execution_count": 66,
   "metadata": {},
   "outputs": [],
   "source": [
    "T= []\n",
    "T.append([123, 'xyz', 'zara', 'abc'])"
   ]
  },
  {
   "cell_type": "code",
   "execution_count": 67,
   "metadata": {},
   "outputs": [
    {
     "data": {
      "text/plain": [
       "[[123, 'xyz', 'zara', 'abc']]"
      ]
     },
     "execution_count": 67,
     "metadata": {},
     "output_type": "execute_result"
    }
   ],
   "source": [
    "T"
   ]
  },
  {
   "cell_type": "markdown",
   "metadata": {},
   "source": [
    "# Multiple-target assignment and shared references"
   ]
  },
  {
   "cell_type": "code",
   "execution_count": 68,
   "metadata": {},
   "outputs": [
    {
     "data": {
      "text/plain": [
       "(0, 1)"
      ]
     },
     "execution_count": 68,
     "metadata": {},
     "output_type": "execute_result"
    }
   ],
   "source": [
    "a = b = 0\n",
    "b = b + 1\n",
    "a, b"
   ]
  },
  {
   "cell_type": "markdown",
   "metadata": {},
   "source": [
    "Here, changing b only changes b because numbers do not support in-place changes. As\n",
    "long as the object assigned is immutable, it’s irrelevant if more than one name references\n",
    "it."
   ]
  },
  {
   "cell_type": "code",
   "execution_count": 69,
   "metadata": {},
   "outputs": [
    {
     "name": "stdout",
     "output_type": "stream",
     "text": [
      "[42] [42]\n"
     ]
    }
   ],
   "source": [
    "a = b = []\n",
    "b.append(42)\n",
    "print(a,b)"
   ]
  },
  {
   "cell_type": "markdown",
   "metadata": {},
   "source": [
    "As usual, though, we have to be more cautious when initializing variables to an empty mutable object such as a list or dictionary:"
   ]
  },
  {
   "cell_type": "markdown",
   "metadata": {},
   "source": [
    "This time, because a and b reference the same object, appending to it in-place through\n",
    "b will impact what we see through a as well. This is really just another example of the\n",
    "shared reference phenomenon we first met in Chapter 6. To avoid the issue, initialize\n",
    "mutable objects in separate statements instead, so that each creates a distinct empty\n",
    "object by running a distinct literal expression:"
   ]
  },
  {
   "cell_type": "code",
   "execution_count": 73,
   "metadata": {},
   "outputs": [
    {
     "name": "stdout",
     "output_type": "stream",
     "text": [
      "[] [42]\n"
     ]
    }
   ],
   "source": [
    "a = []\n",
    "b = []\n",
    "b.append(42)\n",
    "print(a,b)"
   ]
  },
  {
   "cell_type": "markdown",
   "metadata": {},
   "source": [
    "# Augmented Assignments"
   ]
  },
  {
   "cell_type": "code",
   "execution_count": 74,
   "metadata": {},
   "outputs": [
    {
     "name": "stdout",
     "output_type": "stream",
     "text": [
      "[42]\n",
      "[42, 42]\n"
     ]
    }
   ],
   "source": [
    "a = a + b\n",
    "print(a)\n",
    "a += b\n",
    "print(a)"
   ]
  },
  {
   "cell_type": "markdown",
   "metadata": {},
   "source": [
    "Table 11-2. Augmented assignment statements\n",
    "X += Y  X &= Y  X -= Y  X |= Y\n",
    "X *= Y  X ^= Y  X /= Y  X >>= Y\n",
    "X %= Y  X <<= Y X **= Y X //= Y"
   ]
  },
  {
   "cell_type": "code",
   "execution_count": 77,
   "metadata": {},
   "outputs": [],
   "source": [
    "# a &= b unsupported operand type(s) for &=: 'list' and 'list'"
   ]
  },
  {
   "cell_type": "code",
   "execution_count": 85,
   "metadata": {},
   "outputs": [],
   "source": [
    "a, b = 36, 42\n",
    "a &= b"
   ]
  },
  {
   "cell_type": "code",
   "execution_count": 103,
   "metadata": {},
   "outputs": [
    {
     "data": {
      "text/plain": [
       "('0b100100', '0b101010')"
      ]
     },
     "execution_count": 103,
     "metadata": {},
     "output_type": "execute_result"
    }
   ],
   "source": [
    "bin(36),bin(42)"
   ]
  },
  {
   "cell_type": "code",
   "execution_count": 96,
   "metadata": {},
   "outputs": [
    {
     "data": {
      "text/plain": [
       "'0b100000'"
      ]
     },
     "execution_count": 96,
     "metadata": {},
     "output_type": "execute_result"
    }
   ],
   "source": [
    "bin(32)"
   ]
  },
  {
   "cell_type": "code",
   "execution_count": 106,
   "metadata": {},
   "outputs": [
    {
     "data": {
      "text/plain": [
       "(32, 1, 0, 1)"
      ]
     },
     "execution_count": 106,
     "metadata": {},
     "output_type": "execute_result"
    }
   ],
   "source": [
    "36 & 42, 1 & 1, 1 & 2, 1 & 3"
   ]
  },
  {
   "cell_type": "code",
   "execution_count": 108,
   "metadata": {},
   "outputs": [
    {
     "name": "stdout",
     "output_type": "stream",
     "text": [
      "0,1,0,1,0,1,0,1,0,1,0,1,0,1,0,1,0,1,0,1,0,1,0,1,0,1,0,1,0,1,0,1,0,1,0,1,0,1,0,1,"
     ]
    }
   ],
   "source": [
    "for i in range(40):\n",
    "    print(1 & i, end = ',')"
   ]
  },
  {
   "cell_type": "code",
   "execution_count": 123,
   "metadata": {},
   "outputs": [
    {
     "name": "stdout",
     "output_type": "stream",
     "text": [
      "0, 0b100100, 0b0, 0b0\n",
      "0, 0b100100, 0b1, 0b0\n",
      "0, 0b100100, 0b10, 0b0\n",
      "0, 0b100100, 0b11, 0b0\n",
      "4, 0b100100, 0b100, 0b100\n",
      "4, 0b100100, 0b101, 0b100\n",
      "4, 0b100100, 0b110, 0b100\n",
      "4, 0b100100, 0b111, 0b100\n",
      "0, 0b100100, 0b1000, 0b0\n",
      "0, 0b100100, 0b1001, 0b0\n",
      "0, 0b100100, 0b1010, 0b0\n",
      "0, 0b100100, 0b1011, 0b0\n",
      "4, 0b100100, 0b1100, 0b100\n",
      "4, 0b100100, 0b1101, 0b100\n",
      "4, 0b100100, 0b1110, 0b100\n",
      "4, 0b100100, 0b1111, 0b100\n",
      "0, 0b100100, 0b10000, 0b0\n",
      "0, 0b100100, 0b10001, 0b0\n",
      "0, 0b100100, 0b10010, 0b0\n",
      "0, 0b100100, 0b10011, 0b0\n",
      "4, 0b100100, 0b10100, 0b100\n",
      "4, 0b100100, 0b10101, 0b100\n",
      "4, 0b100100, 0b10110, 0b100\n",
      "4, 0b100100, 0b10111, 0b100\n",
      "0, 0b100100, 0b11000, 0b0\n",
      "0, 0b100100, 0b11001, 0b0\n",
      "0, 0b100100, 0b11010, 0b0\n",
      "0, 0b100100, 0b11011, 0b0\n",
      "4, 0b100100, 0b11100, 0b100\n",
      "4, 0b100100, 0b11101, 0b100\n",
      "4, 0b100100, 0b11110, 0b100\n",
      "4, 0b100100, 0b11111, 0b100\n",
      "32, 0b100100, 0b100000, 0b100000\n",
      "32, 0b100100, 0b100001, 0b100000\n",
      "32, 0b100100, 0b100010, 0b100000\n",
      "32, 0b100100, 0b100011, 0b100000\n",
      "36, 0b100100, 0b100100, 0b100100\n",
      "36, 0b100100, 0b100101, 0b100100\n",
      "36, 0b100100, 0b100110, 0b100100\n",
      "36, 0b100100, 0b100111, 0b100100\n",
      "32, 0b100100, 0b101000, 0b100000\n",
      "32, 0b100100, 0b101001, 0b100000\n",
      "32, 0b100100, 0b101010, 0b100000\n",
      "32, 0b100100, 0b101011, 0b100000\n",
      "36, 0b100100, 0b101100, 0b100100\n",
      "36, 0b100100, 0b101101, 0b100100\n",
      "36, 0b100100, 0b101110, 0b100100\n",
      "36, 0b100100, 0b101111, 0b100100\n",
      "32, 0b100100, 0b110000, 0b100000\n",
      "32, 0b100100, 0b110001, 0b100000\n"
     ]
    }
   ],
   "source": [
    "for i in range(50):\n",
    "    print(36 & i, end = ', ')\n",
    "    print(bin(36), bin(i), bin(36 & i), sep=', ')"
   ]
  },
  {
   "cell_type": "code",
   "execution_count": 127,
   "metadata": {},
   "outputs": [
    {
     "name": "stdout",
     "output_type": "stream",
     "text": [
      "-6\n",
      "46\n"
     ]
    }
   ],
   "source": [
    "a, b = 36, 42\n",
    "a -= b\n",
    "print(a)\n",
    "a, b = 36, 42\n",
    "a |= b\n",
    "print(a)"
   ]
  },
  {
   "cell_type": "code",
   "execution_count": 128,
   "metadata": {},
   "outputs": [
    {
     "data": {
      "text/plain": [
       "('0b100100', '0b101010', '0b101110')"
      ]
     },
     "execution_count": 128,
     "metadata": {},
     "output_type": "execute_result"
    }
   ],
   "source": [
    "bin(36), bin(42), bin(46)"
   ]
  },
  {
   "cell_type": "code",
   "execution_count": 132,
   "metadata": {},
   "outputs": [
    {
     "data": {
      "text/html": [
       "<div>\n",
       "<style scoped>\n",
       "    .dataframe tbody tr th:only-of-type {\n",
       "        vertical-align: middle;\n",
       "    }\n",
       "\n",
       "    .dataframe tbody tr th {\n",
       "        vertical-align: top;\n",
       "    }\n",
       "\n",
       "    .dataframe thead th {\n",
       "        text-align: right;\n",
       "    }\n",
       "</style>\n",
       "<table border=\"1\" class=\"dataframe\">\n",
       "  <thead>\n",
       "    <tr style=\"text-align: right;\">\n",
       "      <th></th>\n",
       "      <th>0</th>\n",
       "      <th>1</th>\n",
       "      <th>2</th>\n",
       "      <th>3</th>\n",
       "    </tr>\n",
       "  </thead>\n",
       "  <tbody>\n",
       "    <tr>\n",
       "      <td>count</td>\n",
       "      <td>150.000000</td>\n",
       "      <td>150.000000</td>\n",
       "      <td>150.000000</td>\n",
       "      <td>150.000000</td>\n",
       "    </tr>\n",
       "    <tr>\n",
       "      <td>mean</td>\n",
       "      <td>5.843333</td>\n",
       "      <td>3.054000</td>\n",
       "      <td>3.758667</td>\n",
       "      <td>1.198667</td>\n",
       "    </tr>\n",
       "    <tr>\n",
       "      <td>std</td>\n",
       "      <td>0.828066</td>\n",
       "      <td>0.433594</td>\n",
       "      <td>1.764420</td>\n",
       "      <td>0.763161</td>\n",
       "    </tr>\n",
       "    <tr>\n",
       "      <td>min</td>\n",
       "      <td>4.300000</td>\n",
       "      <td>2.000000</td>\n",
       "      <td>1.000000</td>\n",
       "      <td>0.100000</td>\n",
       "    </tr>\n",
       "    <tr>\n",
       "      <td>25%</td>\n",
       "      <td>5.100000</td>\n",
       "      <td>2.800000</td>\n",
       "      <td>1.600000</td>\n",
       "      <td>0.300000</td>\n",
       "    </tr>\n",
       "    <tr>\n",
       "      <td>50%</td>\n",
       "      <td>5.800000</td>\n",
       "      <td>3.000000</td>\n",
       "      <td>4.350000</td>\n",
       "      <td>1.300000</td>\n",
       "    </tr>\n",
       "    <tr>\n",
       "      <td>75%</td>\n",
       "      <td>6.400000</td>\n",
       "      <td>3.300000</td>\n",
       "      <td>5.100000</td>\n",
       "      <td>1.800000</td>\n",
       "    </tr>\n",
       "    <tr>\n",
       "      <td>max</td>\n",
       "      <td>7.900000</td>\n",
       "      <td>4.400000</td>\n",
       "      <td>6.900000</td>\n",
       "      <td>2.500000</td>\n",
       "    </tr>\n",
       "  </tbody>\n",
       "</table>\n",
       "</div>"
      ],
      "text/plain": [
       "                0           1           2           3\n",
       "count  150.000000  150.000000  150.000000  150.000000\n",
       "mean     5.843333    3.054000    3.758667    1.198667\n",
       "std      0.828066    0.433594    1.764420    0.763161\n",
       "min      4.300000    2.000000    1.000000    0.100000\n",
       "25%      5.100000    2.800000    1.600000    0.300000\n",
       "50%      5.800000    3.000000    4.350000    1.300000\n",
       "75%      6.400000    3.300000    5.100000    1.800000\n",
       "max      7.900000    4.400000    6.900000    2.500000"
      ]
     },
     "execution_count": 132,
     "metadata": {},
     "output_type": "execute_result"
    }
   ],
   "source": [
    "import pandas as pd\n",
    "target_url = \"http://aima.cs.berkeley.edu/data/iris.csv\"\n",
    "data = pd.read_csv(target_url, header=None)\n",
    "data.describe()"
   ]
  },
  {
   "cell_type": "code",
   "execution_count": 137,
   "metadata": {},
   "outputs": [
    {
     "name": "stdout",
     "output_type": "stream",
     "text": [
      "1512\n",
      "1512\n",
      "14\n"
     ]
    }
   ],
   "source": [
    "a, b = 36, 42\n",
    "a *= b\n",
    "print(a)\n",
    "print(36*42)\n",
    "a = 36; b = 42; a^=b; print(a)"
   ]
  },
  {
   "cell_type": "code",
   "execution_count": 145,
   "metadata": {},
   "outputs": [
    {
     "name": "stdout",
     "output_type": "stream",
     "text": [
      "0b100100 0b101010 0b1110\n"
     ]
    }
   ],
   "source": [
    "36 ^ 42; print(bin(36), bin(42),bin(14))"
   ]
  },
  {
   "cell_type": "code",
   "execution_count": 164,
   "metadata": {},
   "outputs": [
    {
     "data": {
      "text/html": [
       "<div>\n",
       "<style scoped>\n",
       "    .dataframe tbody tr th:only-of-type {\n",
       "        vertical-align: middle;\n",
       "    }\n",
       "\n",
       "    .dataframe tbody tr th {\n",
       "        vertical-align: top;\n",
       "    }\n",
       "\n",
       "    .dataframe thead th {\n",
       "        text-align: right;\n",
       "    }\n",
       "</style>\n",
       "<table border=\"1\" class=\"dataframe\">\n",
       "  <thead>\n",
       "    <tr style=\"text-align: right;\">\n",
       "      <th></th>\n",
       "      <th>0</th>\n",
       "      <th>1</th>\n",
       "      <th>2</th>\n",
       "      <th>3</th>\n",
       "      <th>4</th>\n",
       "      <th>5</th>\n",
       "      <th>6</th>\n",
       "      <th>7</th>\n",
       "      <th>8</th>\n",
       "      <th>9</th>\n",
       "      <th>10</th>\n",
       "      <th>11</th>\n",
       "      <th>12</th>\n",
       "      <th>13</th>\n",
       "      <th>14</th>\n",
       "      <th>15</th>\n",
       "      <th>16</th>\n",
       "    </tr>\n",
       "  </thead>\n",
       "  <tbody>\n",
       "    <tr>\n",
       "      <td>0</td>\n",
       "      <td>republican</td>\n",
       "      <td>n</td>\n",
       "      <td>y</td>\n",
       "      <td>n</td>\n",
       "      <td>y</td>\n",
       "      <td>y</td>\n",
       "      <td>y</td>\n",
       "      <td>n</td>\n",
       "      <td>n</td>\n",
       "      <td>n</td>\n",
       "      <td>y</td>\n",
       "      <td>?</td>\n",
       "      <td>y</td>\n",
       "      <td>y</td>\n",
       "      <td>y</td>\n",
       "      <td>n</td>\n",
       "      <td>y</td>\n",
       "    </tr>\n",
       "    <tr>\n",
       "      <td>1</td>\n",
       "      <td>republican</td>\n",
       "      <td>n</td>\n",
       "      <td>y</td>\n",
       "      <td>n</td>\n",
       "      <td>y</td>\n",
       "      <td>y</td>\n",
       "      <td>y</td>\n",
       "      <td>n</td>\n",
       "      <td>n</td>\n",
       "      <td>n</td>\n",
       "      <td>n</td>\n",
       "      <td>n</td>\n",
       "      <td>y</td>\n",
       "      <td>y</td>\n",
       "      <td>y</td>\n",
       "      <td>n</td>\n",
       "      <td>?</td>\n",
       "    </tr>\n",
       "    <tr>\n",
       "      <td>2</td>\n",
       "      <td>democrat</td>\n",
       "      <td>?</td>\n",
       "      <td>y</td>\n",
       "      <td>y</td>\n",
       "      <td>?</td>\n",
       "      <td>y</td>\n",
       "      <td>y</td>\n",
       "      <td>n</td>\n",
       "      <td>n</td>\n",
       "      <td>n</td>\n",
       "      <td>n</td>\n",
       "      <td>y</td>\n",
       "      <td>n</td>\n",
       "      <td>y</td>\n",
       "      <td>y</td>\n",
       "      <td>n</td>\n",
       "      <td>n</td>\n",
       "    </tr>\n",
       "    <tr>\n",
       "      <td>3</td>\n",
       "      <td>democrat</td>\n",
       "      <td>n</td>\n",
       "      <td>y</td>\n",
       "      <td>y</td>\n",
       "      <td>n</td>\n",
       "      <td>?</td>\n",
       "      <td>y</td>\n",
       "      <td>n</td>\n",
       "      <td>n</td>\n",
       "      <td>n</td>\n",
       "      <td>n</td>\n",
       "      <td>y</td>\n",
       "      <td>n</td>\n",
       "      <td>y</td>\n",
       "      <td>n</td>\n",
       "      <td>n</td>\n",
       "      <td>y</td>\n",
       "    </tr>\n",
       "    <tr>\n",
       "      <td>4</td>\n",
       "      <td>democrat</td>\n",
       "      <td>y</td>\n",
       "      <td>y</td>\n",
       "      <td>y</td>\n",
       "      <td>n</td>\n",
       "      <td>y</td>\n",
       "      <td>y</td>\n",
       "      <td>n</td>\n",
       "      <td>n</td>\n",
       "      <td>n</td>\n",
       "      <td>n</td>\n",
       "      <td>y</td>\n",
       "      <td>?</td>\n",
       "      <td>y</td>\n",
       "      <td>y</td>\n",
       "      <td>y</td>\n",
       "      <td>y</td>\n",
       "    </tr>\n",
       "    <tr>\n",
       "      <td>...</td>\n",
       "      <td>...</td>\n",
       "      <td>...</td>\n",
       "      <td>...</td>\n",
       "      <td>...</td>\n",
       "      <td>...</td>\n",
       "      <td>...</td>\n",
       "      <td>...</td>\n",
       "      <td>...</td>\n",
       "      <td>...</td>\n",
       "      <td>...</td>\n",
       "      <td>...</td>\n",
       "      <td>...</td>\n",
       "      <td>...</td>\n",
       "      <td>...</td>\n",
       "      <td>...</td>\n",
       "      <td>...</td>\n",
       "      <td>...</td>\n",
       "    </tr>\n",
       "    <tr>\n",
       "      <td>429</td>\n",
       "      <td>democrat</td>\n",
       "      <td>y</td>\n",
       "      <td>n</td>\n",
       "      <td>y</td>\n",
       "      <td>n</td>\n",
       "      <td>?</td>\n",
       "      <td>n</td>\n",
       "      <td>y</td>\n",
       "      <td>y</td>\n",
       "      <td>y</td>\n",
       "      <td>y</td>\n",
       "      <td>n</td>\n",
       "      <td>y</td>\n",
       "      <td>n</td>\n",
       "      <td>?</td>\n",
       "      <td>y</td>\n",
       "      <td>y</td>\n",
       "    </tr>\n",
       "    <tr>\n",
       "      <td>430</td>\n",
       "      <td>republican</td>\n",
       "      <td>n</td>\n",
       "      <td>n</td>\n",
       "      <td>y</td>\n",
       "      <td>y</td>\n",
       "      <td>y</td>\n",
       "      <td>y</td>\n",
       "      <td>n</td>\n",
       "      <td>n</td>\n",
       "      <td>y</td>\n",
       "      <td>y</td>\n",
       "      <td>n</td>\n",
       "      <td>y</td>\n",
       "      <td>y</td>\n",
       "      <td>y</td>\n",
       "      <td>n</td>\n",
       "      <td>y</td>\n",
       "    </tr>\n",
       "    <tr>\n",
       "      <td>431</td>\n",
       "      <td>democrat</td>\n",
       "      <td>n</td>\n",
       "      <td>n</td>\n",
       "      <td>y</td>\n",
       "      <td>n</td>\n",
       "      <td>n</td>\n",
       "      <td>n</td>\n",
       "      <td>y</td>\n",
       "      <td>y</td>\n",
       "      <td>y</td>\n",
       "      <td>y</td>\n",
       "      <td>n</td>\n",
       "      <td>n</td>\n",
       "      <td>n</td>\n",
       "      <td>n</td>\n",
       "      <td>n</td>\n",
       "      <td>y</td>\n",
       "    </tr>\n",
       "    <tr>\n",
       "      <td>432</td>\n",
       "      <td>republican</td>\n",
       "      <td>n</td>\n",
       "      <td>?</td>\n",
       "      <td>n</td>\n",
       "      <td>y</td>\n",
       "      <td>y</td>\n",
       "      <td>y</td>\n",
       "      <td>n</td>\n",
       "      <td>n</td>\n",
       "      <td>n</td>\n",
       "      <td>n</td>\n",
       "      <td>y</td>\n",
       "      <td>y</td>\n",
       "      <td>y</td>\n",
       "      <td>y</td>\n",
       "      <td>n</td>\n",
       "      <td>y</td>\n",
       "    </tr>\n",
       "    <tr>\n",
       "      <td>433</td>\n",
       "      <td>republican</td>\n",
       "      <td>n</td>\n",
       "      <td>n</td>\n",
       "      <td>n</td>\n",
       "      <td>y</td>\n",
       "      <td>y</td>\n",
       "      <td>y</td>\n",
       "      <td>?</td>\n",
       "      <td>?</td>\n",
       "      <td>?</td>\n",
       "      <td>?</td>\n",
       "      <td>n</td>\n",
       "      <td>y</td>\n",
       "      <td>y</td>\n",
       "      <td>y</td>\n",
       "      <td>n</td>\n",
       "      <td>y</td>\n",
       "    </tr>\n",
       "  </tbody>\n",
       "</table>\n",
       "<p>434 rows × 17 columns</p>\n",
       "</div>"
      ],
      "text/plain": [
       "             0  1  2  3  4  5  6  7  8  9  10 11 12 13 14 15 16\n",
       "0    republican  n  y  n  y  y  y  n  n  n  y  ?  y  y  y  n  y\n",
       "1    republican  n  y  n  y  y  y  n  n  n  n  n  y  y  y  n  ?\n",
       "2      democrat  ?  y  y  ?  y  y  n  n  n  n  y  n  y  y  n  n\n",
       "3      democrat  n  y  y  n  ?  y  n  n  n  n  y  n  y  n  n  y\n",
       "4      democrat  y  y  y  n  y  y  n  n  n  n  y  ?  y  y  y  y\n",
       "..          ... .. .. .. .. .. .. .. .. .. .. .. .. .. .. .. ..\n",
       "429    democrat  y  n  y  n  ?  n  y  y  y  y  n  y  n  ?  y  y\n",
       "430  republican  n  n  y  y  y  y  n  n  y  y  n  y  y  y  n  y\n",
       "431    democrat  n  n  y  n  n  n  y  y  y  y  n  n  n  n  n  y\n",
       "432  republican  n  ?  n  y  y  y  n  n  n  n  y  y  y  y  n  y\n",
       "433  republican  n  n  n  y  y  y  ?  ?  ?  ?  n  y  y  y  n  y\n",
       "\n",
       "[434 rows x 17 columns]"
      ]
     },
     "execution_count": 164,
     "metadata": {},
     "output_type": "execute_result"
    }
   ],
   "source": [
    "import pandas as pd\n",
    "data = pd.read_csv('F:\\house-votes-84.data',header= None)\n",
    "data.head(434)"
   ]
  },
  {
   "cell_type": "code",
   "execution_count": 166,
   "metadata": {},
   "outputs": [
    {
     "name": "stdout",
     "output_type": "stream",
     "text": [
      "0b100100 0b101010 0b1110\n"
     ]
    }
   ],
   "source": [
    "36 ^ 42; print(bin(36), bin(42),bin(14))"
   ]
  },
  {
   "cell_type": "code",
   "execution_count": 171,
   "metadata": {},
   "outputs": [],
   "source": [
    "L1 = []\n",
    "for i in range(len(str(bin(36)))):\n",
    "    L1.append(str(bin(36))[i])\n",
    "L2 = []\n",
    "for j in range(len(str(bin(42)))):\n",
    "    L2.append(str(bin(42))[j])"
   ]
  },
  {
   "cell_type": "code",
   "execution_count": 172,
   "metadata": {},
   "outputs": [
    {
     "name": "stdout",
     "output_type": "stream",
     "text": [
      "['0', 'b', '1', '0', '0', '1', '0', '0']\n",
      "['0', 'b', '1', '0', '1', '0', '1', '0']\n"
     ]
    }
   ],
   "source": [
    "print(L1); print(L2)"
   ]
  },
  {
   "cell_type": "code",
   "execution_count": 177,
   "metadata": {},
   "outputs": [
    {
     "name": "stdout",
     "output_type": "stream",
     "text": [
      "<class 'list'>\n"
     ]
    }
   ],
   "source": [
    "T = []\n",
    "print(type(T))\n",
    "for k in range(len(L1)):\n",
    "    T.append((L1[k],L2[k]))"
   ]
  },
  {
   "cell_type": "code",
   "execution_count": 178,
   "metadata": {},
   "outputs": [
    {
     "name": "stdout",
     "output_type": "stream",
     "text": [
      "[('0', '0'), ('b', 'b'), ('1', '1'), ('0', '0'), ('0', '1'), ('1', '0'), ('0', '1'), ('0', '0')]\n"
     ]
    }
   ],
   "source": [
    "print(T)"
   ]
  },
  {
   "cell_type": "code",
   "execution_count": 196,
   "metadata": {},
   "outputs": [],
   "source": [
    "S1 = ''\n",
    "for m in range(2,len(L1)):\n",
    "    if T[m][0] == T[m][1]:\n",
    "        S1 +='0'\n",
    "    else:\n",
    "        S1 +='1'"
   ]
  },
  {
   "cell_type": "code",
   "execution_count": 197,
   "metadata": {},
   "outputs": [],
   "source": [
    "S2 = ''\n",
    "for m in range(2,len(L1)):\n",
    "    S2 += str(eval(T[m][0]) & eval(T[m][1]))"
   ]
  },
  {
   "cell_type": "code",
   "execution_count": 198,
   "metadata": {},
   "outputs": [
    {
     "name": "stdout",
     "output_type": "stream",
     "text": [
      "001110 100000\n",
      "14\n",
      "32\n"
     ]
    }
   ],
   "source": [
    "print(S1,S2); S1 = '0b'+ S1; S2 = '0b'+ S2; print(eval(S1)); print(eval(S2))"
   ]
  },
  {
   "cell_type": "code",
   "execution_count": 220,
   "metadata": {},
   "outputs": [],
   "source": [
    "a = 36; b = 42;"
   ]
  },
  {
   "cell_type": "code",
   "execution_count": 221,
   "metadata": {},
   "outputs": [
    {
     "name": "stdout",
     "output_type": "stream",
     "text": [
      "0.8571428571428571\n"
     ]
    }
   ],
   "source": [
    "a/=b\n",
    "print(a)"
   ]
  },
  {
   "cell_type": "code",
   "execution_count": 224,
   "metadata": {},
   "outputs": [
    {
     "name": "stdout",
     "output_type": "stream",
     "text": [
      "0.8571428571428571\n"
     ]
    },
    {
     "data": {
      "text/plain": [
       "True"
      ]
     },
     "execution_count": 224,
     "metadata": {},
     "output_type": "execute_result"
    }
   ],
   "source": [
    "print(36/42); a == 36/42"
   ]
  },
  {
   "cell_type": "code",
   "execution_count": 226,
   "metadata": {},
   "outputs": [
    {
     "name": "stdout",
     "output_type": "stream",
     "text": [
      "0\n",
      "0b100100 0b101010\n"
     ]
    }
   ],
   "source": [
    "a = 36; b =42; a>>=b; print(a); print(bin(36),bin(42))"
   ]
  },
  {
   "cell_type": "code",
   "execution_count": 234,
   "metadata": {},
   "outputs": [
    {
     "name": "stdout",
     "output_type": "stream",
     "text": [
      "True\n",
      "True\n"
     ]
    }
   ],
   "source": [
    "print(int(36/(2**42)) == 0); print(36<<42 == 36*2**42)"
   ]
  },
  {
   "cell_type": "code",
   "execution_count": 235,
   "metadata": {},
   "outputs": [
    {
     "name": "stdout",
     "output_type": "stream",
     "text": [
      "True\n"
     ]
    }
   ],
   "source": [
    "print(8>>3 == 8/(2**3))"
   ]
  },
  {
   "cell_type": "code",
   "execution_count": 239,
   "metadata": {},
   "outputs": [
    {
     "name": "stdout",
     "output_type": "stream",
     "text": [
      "2\n",
      "6\n",
      "6\n"
     ]
    }
   ],
   "source": [
    "print(8%3); print(42%36); a = 42%36; print(a)"
   ]
  },
  {
   "cell_type": "code",
   "execution_count": 240,
   "metadata": {},
   "outputs": [
    {
     "name": "stdout",
     "output_type": "stream",
     "text": [
      "27351078395457093635779121514268739090397938600214219718656 True\n"
     ]
    }
   ],
   "source": [
    "a = 42; b = 36; a**=b; print(a, a==42**36);"
   ]
  },
  {
   "cell_type": "code",
   "execution_count": 241,
   "metadata": {},
   "outputs": [
    {
     "name": "stdout",
     "output_type": "stream",
     "text": [
      "1 True\n"
     ]
    }
   ],
   "source": [
    "a = 42; b = 36; a //=b; print(a,a==42//36)"
   ]
  },
  {
   "cell_type": "code",
   "execution_count": 274,
   "metadata": {},
   "outputs": [],
   "source": [
    "import requests\n",
    "from lxml import etree\n",
    "from bs4 import BeautifulSoup\n",
    "\n",
    "\n",
    "headers = {'User-Agent': \"Mozilla/5.0 (Windows NT 10.0; WOW64) AppleWebKit/537.36 (KHTML, like Gecko) Chrome/80.0.3970.5 Safari/537.36\"}\n",
    "url='https://www.cnblogs.com/JYNNO1/p/10525649.html'  #输入我们的url\n",
    "get = requests.get(url) # get(url) 得到我们的网页, text将源网页转化为字符串\n",
    "soup = BeautifulSoup(get.content, 'html.parser')\n",
    "text = soup.find_all(text=True)\n",
    "set([t.parent.name for t in text])\n",
    "output = ''\n",
    "blacklist = [\n",
    "    '[document]',\n",
    " 'a',\n",
    " 'body',\n",
    " 'div',\n",
    " 'h1',\n",
    " 'h2',\n",
    " 'head',\n",
    " 'html',\n",
    " 'li',\n",
    " 'p',\n",
    " 'pre',\n",
    " 'script',\n",
    " 'span',\n",
    " 'title',\n",
    " 'ul'\n",
    "]\n",
    "for t in text:\n",
    "    if t.parent.name not in blacklist:\n",
    "        output += '{} '.format(t)"
   ]
  },
  {
   "cell_type": "code",
   "execution_count": 276,
   "metadata": {},
   "outputs": [
    {
     "name": "stdout",
     "output_type": "stream",
     "text": [
      "\n"
     ]
    }
   ],
   "source": [
    "print(output)"
   ]
  },
  {
   "cell_type": "code",
   "execution_count": 290,
   "metadata": {},
   "outputs": [
    {
     "name": "stdout",
     "output_type": "stream",
     "text": [
      "Python-位操作( &、 | 、^、~ 、>>、 <<) - 已经崩盘了 - 博客园 \n",
      " \n",
      " done \n",
      " \n",
      " \n",
      " \n",
      " \n",
      " done \n",
      " 已经崩盘了 \n",
      " \n",
      " \n",
      " \n",
      " end: blogTitle 博客的标题和副标题  \n",
      " end: header 头部  \n",
      " \n",
      " \n",
      " \n",
      " \n",
      " \n",
      " \n",
      "博客园 \n",
      " \n",
      " \n",
      " \n",
      "首页 \n",
      " \n",
      " \n",
      " \n",
      "新随笔 \n",
      " \n",
      " \n",
      " \n",
      "联系 \n",
      " \n",
      " \n",
      "管理 \n",
      " \n",
      " \n",
      " \n",
      "订阅 \n",
      " \n",
      " \n",
      " \n",
      " \n",
      " \n",
      " done \n",
      "随笔- \n",
      "17 \n",
      "文章- \n",
      "0 \n",
      "评论- \n",
      "0 \n",
      "\n",
      "\n",
      "\n",
      "\t\t\t\t\n",
      "\t\t\t end: blogStats  \n",
      " end: navigator 博客导航栏  \n",
      " \n",
      " done \n",
      " \n",
      " \n",
      " \n",
      " Python-位操作( &、 | 、^、~ 、>>、 <<) \n",
      " \n",
      " \n",
      " \n",
      " \n",
      " 用于提高运算速度，规避算术运算符。 \n",
      " 在位操作运算中，不应该试图考虑先得到一个数的二进制码，而应该将这个数看作是一个二进制码，二进制补码与整数之间是一一对应的。诚然 Python语言中有内置函数  bin将一个整数转换为二进制，Python中使用该函数转换为负数并不是其补码。因此不能先得到该数的二进制码。同时绞尽脑汁得到一个数的二进制补码是没有必要的。 \n",
      " &：按位与操作，只有 1 &1 为1，其他情况为0。 可用于进位运算 。 \n",
      " |：按位或操作，只有 0|0为0，其他情况为1。 \n",
      " ~：逐位取反。 \n",
      " ^：异或，相同为0，相异为1。 可用于加操作（不包括进位项）。 \n",
      " <<：左移操作，2的幂相关 \n",
      " >>：右移操作，2的幂相关 \n",
      " 判断一个整数的二进制补码中 1 的个数： \n",
      " 　　既然一个整数在计算机内部为二进制的补码，那么直接对整数进行位操作即可，没有必要进行进制的转换。 \n",
      " 　　1）将整数通过移位并与1进行与操作，即可判断当时末尾是否为1. 但是 由于整数以二进制补码的方式存储，正数右移与负数右移得到的效果并不相同，负数在右移过程中会自动补 1 .由于在c 或c++这种语言中数据的类型要先声明，如 int为32位，而在python中，由于动态语言的特性，数据的位数理想上是不受限制的，因此可通过 移位的次数进行判断，int型数据移位不能超过32即可，这样程序的循环次数恒定为32. \n",
      " \n",
      "  1   class  Solution:\n",
      "  2       def  NumberOf1(self, n):\n",
      "  3           #  write code here \n",
      "  4          m =  0\n",
      "  5          result =  0\n",
      "  6  \n",
      "  7           while  m < 32 :\n",
      "  8               if  n & 1 :\n",
      "  9                  result += 1\n",
      " 10              n = n >> 1\n",
      " 11              m += 1\n",
      " 12           return  result  \n",
      " \n",
      " 　　2）：同样的，可以通过左移 1 再与输入值进行与操作进行判断。 仍然是由于Python不会存在溢出现象 ，因此需要用到 数据类型的位数，进行限制。 \n",
      " \n",
      "  1   class  Solution():\n",
      "  2       def  getResult(self, n):\n",
      "  3          m = 1\n",
      "  4          result =  0\n",
      "  5          i =  0\n",
      "  6  \n",
      "  7           while  i < 32 :\n",
      "  8              i += 1\n",
      "  9               if  m& n :\n",
      " 10                  result += 1\n",
      " 11              m = m << 1\n",
      " 12           return  result \n",
      " \n",
      " 　　3）一个二进制减一再于自身与操作能够将最后一位1置零。如 1011-1 = 1010 1010&1011 = 1010、1010-1 = 1001 1001 & 1010 = 1000、1000-1 = 0111 0111 &1000 = 0000 \n",
      " 但是 ，Python不会溢出，因此负数在进行持续减一 的运算， 若通过当前值是否为0进行循环终止条件会导致死循环 。因此需要为正负数分别设定终止条件。 \n",
      " \n",
      "  1   class  Solution2():\n",
      "  2       def  getResult(self, n):\n",
      "  3          result =  0\n",
      "  4           if  n >=  0:\n",
      "  5               while  n:\n",
      "  6                  result += 1\n",
      "  7                  n = (n - 1)& n\n",
      "  8           else :\n",
      "  9               while  n >=  -2147483648 :\n",
      " 10                  result += 1\n",
      " 11                  n = (n - 1)& n     \n",
      " 12           return  result \n",
      " \n",
      " 　　4）：一个负数必然对应一个正数，先通过加法运算得到负数的相反数，这样可以将负数当作正数进行操作，唯一不同的是，负数的符号位要多一个 1 \n",
      " \n",
      "  1   #  -*- coding:utf-8 -*- \n",
      "  2   class  Solution:\n",
      "  3       def  NumberOf1(self, n):\n",
      "  4           #  write code here \n",
      "  5          result =  0\n",
      "  6  \n",
      "  7           if  n <  0:\n",
      "  8              n = n + (1<<31 )\n",
      "  9              result += 1\n",
      " 10          result += bin(n)[2:].count( ' 1 ' )\n",
      " 11           return  result \n",
      " \n",
      " 　　5）：结合方法 4 与 3之前的方法： \n",
      " \n",
      "  1   #  -*- coding:utf-8 -*- \n",
      "  2   class  Solution:\n",
      "  3       def  NumberOf1(self, n):\n",
      "  4           #  write code here \n",
      "  5          result =  0\n",
      "  6  \n",
      "  7           if  n <  0:\n",
      "  8              n = n + (1<<31 )\n",
      "  9              result += 1\n",
      " 10           while  n:\n",
      " 11              result += 1\n",
      " 12              n = n&(n-1 )\n",
      " 13           return  result \n",
      " \n",
      "   \n",
      " \n",
      " \n",
      " \n",
      " \n",
      " \n",
      " \n",
      " \n",
      " \n",
      " \n",
      " posted @ \n",
      " 2019-03-14 21:16  \n",
      " 已经崩盘了  \n",
      "阅读( ... ) \n",
      "评论( ... ) \n",
      " 编辑  \n",
      " 收藏 \n",
      " \n",
      " end: topics 文章、评论容器 \n",
      " \n",
      " \n",
      " \n",
      " \n",
      " \n",
      " \n",
      " \n",
      " \n",
      " 刷新评论 刷新页面 返回顶部 \n",
      " \n",
      " \n",
      " \n",
      " \n",
      " \n",
      " \n",
      " \n",
      " \n",
      " \n",
      " \n",
      " \n",
      " \n",
      " \n",
      " \n",
      " \n",
      " \n",
      " \n",
      " \n",
      " \n",
      " \n",
      " end: forFlow  \n",
      " end: mainContent 主体内容容器 \n",
      " \n",
      " \n",
      " \n",
      " \n",
      " \n",
      " \n",
      " \n",
      " \n",
      " \n",
      " \n",
      " end: sideBarMain  \n",
      " end: sideBar 侧边栏容器  \n",
      " \n",
      " end: main  \n",
      " \n",
      " \n",
      " done \n",
      "Copyright © 2020 已经崩盘了\n",
      " Powered by .NET Core on Kubernetes \n",
      " end: footer  \n",
      " end: home 自定义的最大容器  \n",
      " ;  "
     ]
    }
   ],
   "source": [
    "import requests\n",
    "from bs4 import BeautifulSoup\n",
    "url = 'https://www.cnblogs.com/JYNNO1/p/10525649.html'\n",
    "res = requests.get(url)\n",
    "html_page = res.content\n",
    "soup = BeautifulSoup(html_page, 'html.parser')\n",
    "text = soup.find_all(text=True)\n",
    "\n",
    "output = ''\n",
    "blacklist = [\n",
    "    '[document]',\n",
    "    'noscript',\n",
    "    'header',\n",
    "    'html',\n",
    "    'meta',\n",
    "    'head', \n",
    "    'input',\n",
    "    'script',\n",
    "    # there may be more elements you don't want, such as \"style\", etc.\n",
    "]\n",
    "\n",
    "for t in text:\n",
    "    if t.parent.name not in blacklist:\n",
    "        output += '{} '.format(t)\n",
    "\n",
    "print(output,end=';  ')"
   ]
  },
  {
   "cell_type": "code",
   "execution_count": 289,
   "metadata": {},
   "outputs": [
    {
     "name": "stdout",
     "output_type": "stream",
     "text": [
      "\n",
      " 位运算符中的  (左移)    (右移)   (无符号右移)2_大数据_Dimples.-CSDN博客 \n",
      " \n",
      " \n",
      " \n",
      "     自定义皮肤样式 \n",
      " \n",
      " \n",
      " js引用 \n",
      " \n",
      " \n",
      " \n",
      "        .MathJax, .MathJax_Message, .MathJax_Preview{\n",
      "            display: none\n",
      "        }\n",
      "     \n",
      " \n",
      " \n",
      " \n",
      " \n",
      " \n",
      " \n",
      " \n",
      " \n",
      " \n",
      " \n",
      " \n",
      " \n",
      " \n",
      " \n",
      " \n",
      " \n",
      " 位运算符中的  (左移)    (右移)   (无符号右移)2 \n",
      " \n",
      " \n",
      " \n",
      " 文章类型 \n",
      " 原创   DimplesDimples. \n",
      " 最后发布于2018-07-03 15:05:49                     \n",
      " 阅读数 573 \n",
      " \n",
      " \n",
      " \n",
      " \n",
      "                        收藏\n",
      "                     \n",
      " \n",
      " 发布于2018-07-03 15:05:49 \n",
      " \n",
      " \n",
      " 分类专栏： \n",
      " \n",
      "                                       java                                    \n",
      " \n",
      " \n",
      " \n",
      " \n",
      " \n",
      "                                版权声明：本文为博主原创文章，遵循  CC 4.0 BY-SA  版权协议，转载请附上原文出处链接和本声明。                             \n",
      " \n",
      "                                本文链接： https://blog.csdn.net/Betty_betty_betty/article/details/80898798 \n",
      " \n",
      " \n",
      " \n",
      " \n",
      " \n",
      " 展开 \n",
      " \n",
      " \n",
      " \n",
      " \n",
      " \n",
      " python安装手册开始 \n",
      " python安装手册结束 \n",
      " ####专栏广告位图文切换开始 \n",
      " ####专栏广告位图文切换结束 \n",
      " \n",
      " \n",
      " \n",
      " \n",
      " \n",
      " <<:某数据左移n位是该数据乘以2的n次幂，可以完成2的次幂运算 \n",
      " >>:某数据右移n位是该数据除以2的n次幂，对于高位出现的空位，原来是什么就用什么来补全。 \n",
      " >>>:无符号右移是数据进行右移时，高位出现的空位，无论原高位是什么，空位都用0补。 \n",
      " \n",
      "   \n",
      " \n",
      " \n",
      " \n",
      " \n",
      " \n",
      " 点赞 \n",
      " 2 \n",
      " \n",
      " \n",
      " \n",
      " 收藏 \n",
      " \n",
      " \n",
      " 分享 \n",
      " 打赏开始 \n",
      " 打赏结束 \n",
      " \n",
      " \n",
      " \n",
      " \n",
      " \n",
      " 文章举报 \n",
      " \n",
      " \n",
      " \n",
      " \n",
      " \n",
      " \n",
      " \n",
      " \n",
      " \n",
      " \n",
      " \n",
      " DimplesDimples. \n",
      " \n",
      " 发布了127 篇原创文章  ·  获赞 18  ·  访问量 4万+ \n",
      " \n",
      " \n",
      " 私信\n",
      "                         \n",
      " 关注 \n",
      " \n",
      " \n",
      " \n",
      " \n",
      " \n",
      " \n",
      " \n",
      "                    展开阅读全文\n",
      "                     \n",
      " \n",
      " \n",
      " \n",
      " \n",
      " \n",
      " \n",
      "  多条广告如下脚本只需引入一次  \n",
      " \n",
      " \n",
      " \n",
      " \n",
      " \n",
      " \n",
      " \n",
      " \n",
      " \n",
      " \n",
      " \n",
      "    d-flex  \n",
      " \n",
      " \n",
      " \n",
      " 发表评论 \n",
      " \n",
      " 添加代码片 \n",
      " \n",
      " \n",
      " \n",
      " \n",
      " \n",
      " HTML/XML \n",
      " objective-c \n",
      " Ruby \n",
      " PHP \n",
      " C \n",
      " C++ \n",
      " JavaScript \n",
      " Python \n",
      " Java \n",
      " CSS \n",
      " SQL \n",
      " 其它 \n",
      " \n",
      " \n",
      " 还能输入 1000 个字符 \n",
      " \n",
      " \n",
      " \n",
      " \n",
      " \n",
      " \n",
      " \n",
      " \n",
      " \n",
      " \n",
      " \n",
      " \n",
      " \n",
      " \n",
      " \n",
      " \n",
      " \n",
      "\t\t\t\tjava 无符号右移>>>  有符号右移>>\t\t \n",
      " \n",
      " \n",
      " 10-13 \n",
      " \n",
      "\t\t\t\t\t阅读数 \n",
      "\t\t\t\t\t2585 \n",
      " \n",
      " \n",
      " \n",
      " \n",
      " \n",
      " 有符号右移&amp;amp;gt;&amp;amp;gt;有符号右移就是右移之后，左边的补上符号位，正数补0，负数补1无符号右移&amp;amp;gt;&amp;amp... \n",
      " \n",
      " \n",
      " 博文 \n",
      " 来自：\t  sunshine \n",
      " \n",
      " \n",
      " \n",
      " \n",
      " \n",
      " \n",
      " \n",
      " \n",
      "\t\t\t\t位操作（左移和右移）\t\t \n",
      " \n",
      " \n",
      " 08-10 \n",
      " \n",
      "\t\t\t\t\t阅读数 \n",
      "\t\t\t\t\t9910 \n",
      " \n",
      " \n",
      " \n",
      " \n",
      " \n",
      " 位操作提高程序运行效率 减少除法和取模的运算。在计算机程序中数据的位是可以操作的最小数据单位，理论上可以用”位运算”来完成所有的运算和操作。左移，后空缺自动补0；右移，分为逻辑右移和算数右移1）逻辑右... \n",
      " \n",
      " \n",
      " 博文 \n",
      " 来自：\t  博客 \n",
      " \n",
      " \n",
      " \n",
      " \n",
      " \n",
      " \n",
      " \n",
      " \n",
      "\t\t\t\t关于（二进制）位移运算：带符号右移位；带符号左移位；无符号右移位\t\t \n",
      " \n",
      " \n",
      " 06-04 \n",
      " \n",
      "\t\t\t\t\t阅读数 \n",
      "\t\t\t\t\t3682 \n",
      " \n",
      " \n",
      " \n",
      " \n",
      " \n",
      " &gt;&gt; 带符号右移位分析：num&gt;&gt; n（1）相当于num（num的二进制）向右移动n位。（2）正数移位：右边（低位）移出部分，直接舍弃，左边（高... \n",
      " \n",
      " \n",
      " 博文 \n",
      " 来自：\t  weixin_42315600的博客 \n",
      " \n",
      " \n",
      " \n",
      " \n",
      " \n",
      " \n",
      " \n",
      " \n",
      "\t\t\t\t在java中无符号数-2，进行向右移动3位，结果为什么是8？(也就是a=-2，a>>>=8)\t\t \n",
      " \n",
      " \n",
      " 03-13 \n",
      " \n",
      "\t\t\t\t\t阅读数 \n",
      "\t\t\t\t\t405 \n",
      " \n",
      " \n",
      " \n",
      " \n",
      " \n",
      " 这里写自定义目录标题欢迎使用Markdown编辑器新的改变功能快捷键合理的创建标题，有助于目录的生成如何改变文本的样式插入链接与图片如何插入一段漂亮的代码片生成一个适合你的列表创建一个表格设定内容居中... \n",
      " \n",
      " \n",
      " 博文 \n",
      " 来自：\t  L_world_的博客 \n",
      " \n",
      " \n",
      " \n",
      " \n",
      " \n",
      " \n",
      " \n",
      " \n",
      " \n",
      " \n",
      " \n",
      "\t\t\t\tJava_位运算符_左移右移\t\t \n",
      " \n",
      " \n",
      " 05-22 \n",
      " \n",
      "\t\t\t\t\t阅读数 \n",
      "\t\t\t\t\t193 \n",
      " \n",
      " \n",
      " \n",
      " \n",
      " \n",
      " 左移和右移都是对整数的补码进行运算的左移就是补码向左移两位，每左移一位就相当于补码所对应的十进制的整数 *2右移就是补码向右移两位，每右移一位就相当于补码所对应的十进制的整数 \\261补码：00..0... \n",
      " \n",
      " \n",
      " 博文 \n",
      " 来自：\t  Song_MJ的博客 \n",
      " \n",
      " \n",
      " \n",
      " \n",
      " \n",
      " \n",
      " \n",
      " \n",
      "\t\t\t\t关于负数的右移>>与无符号右移>>>运算小结\t\t \n",
      " \n",
      " \n",
      " 03-10 \n",
      " \n",
      "\t\t\t\t\t阅读数 \n",
      "\t\t\t\t\t1474 \n",
      " \n",
      " \n",
      " \n",
      " \n",
      " \n",
      "                             &nbsp; &nbsp; &nbsp;&nbsp;对于带符号右移,若为负数,则在存储时首位表示符号位,其值为1... \n",
      " \n",
      " \n",
      " 博文 \n",
      " 来自：\t  王昌时的博客 \n",
      " \n",
      " \n",
      " \n",
      " \n",
      " \n",
      " \n",
      " \n",
      " \n",
      "\t\t\t\tpython 没有无符号右移，左移\t\t \n",
      " \n",
      " \n",
      " 02-27 \n",
      " \n",
      "\t\t\t\t\t阅读数 \n",
      "\t\t\t\t\t721 \n",
      " \n",
      " \n",
      " \n",
      " \n",
      " \n",
      " python没有&gt;&gt;&gt;无附后右移 \n",
      " \n",
      " \n",
      " 博文 \n",
      " 来自：\t  weixin_44088837的博客 \n",
      " \n",
      " \n",
      " \n",
      " \n",
      " \n",
      " \n",
      " \n",
      "\t\t\t\t无符号右移问题\t\t \n",
      " \n",
      " 07-21 \n",
      " \n",
      " \n",
      " >>>作为无符号右移，可以使符号右移，但是我运算时却发现一个怪异的问题 byte n = (byte)((byte)0x80>>>4); 结果是-8 如果改成byte n = (byte)(0x80> \n",
      " 论坛 \n",
      " \n",
      " \n",
      " \n",
      " \n",
      " \n",
      " \n",
      "\t\t\t\tpython 怎样实现无符号右移？  \t\t \n",
      " \n",
      " 03-05 \n",
      " \n",
      " \n",
      " java 里的无符号右移是 >>> python的无符号右移怎样实现？？ 求解！ \n",
      " 论坛 \n",
      " \n",
      " \n",
      " \n",
      " \n",
      "  多条广告如下脚本只需引入一次  \n",
      " \n",
      " \n",
      " \n",
      " \n",
      " \n",
      "\t\t\t\t移位（左移，右移和无符号右移）\t\t \n",
      " \n",
      " \n",
      " 04-04 \n",
      " \n",
      "\t\t\t\t\t阅读数 \n",
      "\t\t\t\t\t1948 \n",
      " \n",
      " \n",
      " \n",
      " \n",
      " \n",
      " public class Shift { public static void main(String[] args) {  int x = -50;  int a = 50;  int b = 5 ... \n",
      " \n",
      " \n",
      " 博文 \n",
      " 来自：\t  yshunb的博客 \n",
      " \n",
      " \n",
      " \n",
      " \n",
      " \n",
      " \n",
      " \n",
      " \n",
      "\t\t\t\tC++中实现无符号右移\t\t \n",
      " \n",
      " \n",
      " 09-06 \n",
      " \n",
      "\t\t\t\t\t阅读数 \n",
      "\t\t\t\t\t1373 \n",
      " \n",
      " \n",
      " \n",
      " \n",
      " \n",
      " 无符号右移的意思是右移时不考虑符号问题，即无论右移正数还是负数，其最高位都是补0。不同于普通的“>>”移位操作，使用“>>”右移时，是以符号扩展原则进行右移，即在右移过程中它将保持原有数据的正负号不变... \n",
      " \n",
      " \n",
      " 博文 \n",
      " 来自：\t  冰殇的博客 \n",
      " \n",
      " \n",
      " \n",
      " \n",
      " \n",
      " \n",
      " \n",
      " \n",
      " \n",
      " \n",
      " \n",
      " \n",
      " \n",
      " \n",
      " \n",
      " \n",
      " \n",
      "\t\t\t\tJava 位运算符：左移、右移、无符号右移\t\t \n",
      " \n",
      " \n",
      " 09-17 \n",
      " \n",
      "\t\t\t\t\t阅读数 \n",
      "\t\t\t\t\t702 \n",
      " \n",
      " \n",
      " \n",
      " \n",
      " \n",
      " 概述上一篇文章我们说到了Java运算符的优先级的问题，也给大家提供了一个简单易记的口诀，那么这一篇博文，我们就来看一看Java运算符中的位运算符：左移，右移，无符号右移。程序中的所有数在计算机内存中都... \n",
      " \n",
      " \n",
      " 博文 \n",
      " 来自：\t  枣面包的博客 \n",
      " \n",
      " \n",
      " \n",
      " \n",
      " \n",
      " \n",
      " \n",
      " \n",
      "\t\t\t\t位运算符之---左移右移运算符(简单易懂)\t\t \n",
      " \n",
      " \n",
      " 08-07 \n",
      " \n",
      "\t\t\t\t\t阅读数 \n",
      "\t\t\t\t\t3218 \n",
      " \n",
      " \n",
      " \n",
      " \n",
      " \n",
      " 前言:位运算符是用来对二进制位进行操作的c语言中有6种位运算符:&按位与|按位或^按位异或~取反<<左移>>右移本篇文章我们只讲左移和右移运算符,其他的会陆续在其他篇讲... \n",
      " \n",
      " \n",
      " 博文 \n",
      " 来自：\t  沈明一的博客 \n",
      " \n",
      " \n",
      " \n",
      " \n",
      " \n",
      " \n",
      " \n",
      " \n",
      "\t\t\t\t按位与运算符&与右移运算符>>\t\t \n",
      " \n",
      " \n",
      " 04-25 \n",
      " \n",
      "\t\t\t\t\t阅读数 \n",
      "\t\t\t\t\t341 \n",
      " \n",
      " \n",
      " \n",
      " \n",
      " \n",
      " 来自：https://zhidao.baidu.com/question/146401227.html&表示两种运算符，其中一种表示取值运算符，一种是按位与取值运算符int a=1;int *... \n",
      " \n",
      " \n",
      " 博文 \n",
      " 来自：\t  luo_yu_1106的博客 \n",
      " \n",
      " \n",
      " \n",
      " \n",
      " \n",
      " \n",
      " \n",
      " \n",
      " \n",
      " \n",
      " \n",
      "\t\t\t\tJava学习手册：无符号左移&无符号右移&有符号右移\t\t \n",
      " \n",
      " \n",
      " 04-12 \n",
      " \n",
      "\t\t\t\t\t阅读数 \n",
      "\t\t\t\t\t683 \n",
      " \n",
      " \n",
      " \n",
      " \n",
      " \n",
      " 一、无符号右移“>>”与有符号右移“>>>”Java提供了两种右移运算符：“>>”和\">>>\"。其中，“>>”被称为有符号右移运... \n",
      " \n",
      " \n",
      " 博文 \n",
      " 来自：\t  浩比的专栏 \n",
      " \n",
      " \n",
      " \n",
      " \n",
      " \n",
      " \n",
      " \n",
      " \n",
      "\t\t\t\tjavaSE (二）逻辑/位运算符、左移右移运算符、switch语句\t\t \n",
      " \n",
      " \n",
      " 11-25 \n",
      " \n",
      "\t\t\t\t\t阅读数 \n",
      "\t\t\t\t\t360 \n",
      " \n",
      " \n",
      " \n",
      " \n",
      " \n",
      " 逻辑运算符 &amp;amp;amp;amp;amp;amp; | ^ !&amp;amp;amp;amp;amp;amp;：  与   有false则false| ：     或  ... \n",
      " \n",
      " \n",
      " 博文 \n",
      " 来自：\t  PizAn的博客 \n",
      " \n",
      " \n",
      " \n",
      " \n",
      " \n",
      " \n",
      " \n",
      " \n",
      "\t\t\t\t位运算以及位的左移和右移\t\t \n",
      " \n",
      " \n",
      " 03-29 \n",
      " \n",
      "\t\t\t\t\t阅读数 \n",
      "\t\t\t\t\t442 \n",
      " \n",
      " \n",
      " \n",
      " \n",
      " \n",
      " 1、左移：m<<n。左移n位的时候，最左边的n位将被丢弃，最右边补上n个0。00001010<<2=0010100。10001010<<3=01010000  2、... \n",
      " \n",
      " \n",
      " 博文 \n",
      " 来自：\t  麋鹿麋鹿迷了路 \n",
      " \n",
      " \n",
      " \n",
      " \n",
      " \n",
      " \n",
      " \n",
      " \n",
      "\t\t\t\t关于C/C++左移右移运算符的总结\t\t \n",
      " \n",
      " \n",
      " 09-02 \n",
      " \n",
      "\t\t\t\t\t阅读数 \n",
      "\t\t\t\t\t1万+ \n",
      " \n",
      " \n",
      " \n",
      " \n",
      " \n",
      " （1）结合图示篇，更加简单明了。移位运算包含“逻辑移位”（logicalshift）和“算术移位”（arithmeticshift）。逻辑移位：移出去的位丢弃，空缺位（vacantbit）用0填充。算... \n",
      " \n",
      " \n",
      " 博文 \n",
      " 来自：\t  qq_39790992的博客 \n",
      " \n",
      " \n",
      " \n",
      " \n",
      " \n",
      " \n",
      " \n",
      "\t\t\t\t求解移位运算 无符号右移\t\t \n",
      " \n",
      " 03-12 \n",
      " \n",
      " \n",
      " ![图片说明](https://img-ask.csdn.net/upload/201903/12/1552380354_428000.jpg)\n",
      "-2的二进制应该是11111110\n",
      "向右无符号移位3位应该是00011111\n",
      "答案不应该是31吗，为啥选8啊 \n",
      " 问答 \n",
      " \n",
      " \n",
      " \n",
      " \n",
      " \n",
      " \n",
      " \n",
      " \n",
      " \n",
      " \n",
      "\t\t\t\tjava中右移运算符>>和无符号右移运算符>>>的区别\t\t \n",
      " \n",
      " \n",
      " 02-07 \n",
      " \n",
      "\t\t\t\t\t阅读数 \n",
      "\t\t\t\t\t1万+ \n",
      " \n",
      " \n",
      " \n",
      " \n",
      " \n",
      " 在做一个pcm音频时遇到了这个符，但是我看有些百度的地方的解释都不能令我很懂，所以就整理下。-----------------------------------------------------更... \n",
      " \n",
      " \n",
      " 博文 \n",
      " 来自：\t  cobbwho的博客 \n",
      " \n",
      " \n",
      " \n",
      " \n",
      " \n",
      " \n",
      " \n",
      " \n",
      "\t\t\t\t算法（一）：如何高效的算出2*8的值，位移算法原理解释，为什么8左移1位，4左移2位，2左移3位，1左移4位的结果为16\t\t \n",
      " \n",
      " \n",
      " 03-31 \n",
      " \n",
      "\t\t\t\t\t阅读数 \n",
      "\t\t\t\t\t2万+ \n",
      " \n",
      " \n",
      " \n",
      " \n",
      " \n",
      " 位移算法，如何高效的算出2*8的值，为什么8&amp;amp;amp;lt;&amp;amp;amp;lt;1，4&amp;amp;amp;lt;&amp;amp;am... \n",
      " \n",
      " \n",
      " 博文 \n",
      " 来自：\t  seesun2012的专栏 \n",
      " \n",
      " \n",
      " \n",
      " \n",
      " \n",
      " \n",
      " \n",
      " \n",
      "\t\t\t\t无符号右移运算符 (>>>)\t\t \n",
      " \n",
      " \n",
      " 08-07 \n",
      " \n",
      "\t\t\t\t\t阅读数 \n",
      "\t\t\t\t\t958 \n",
      " \n",
      " \n",
      " \n",
      " \n",
      " \n",
      " 转载自：http://hi.baidu.com/wlred/item/68abdeebf0910d2c5a2d64cc无符号右移运算符 (>>>)是右移表达式的位，不保留符号。使用示例result =... \n",
      " \n",
      " \n",
      " 博文 \n",
      " 来自：\t  hugoshine的专栏 \n",
      " \n",
      " \n",
      " \n",
      " \n",
      " \n",
      " \n",
      " \n",
      " \n",
      "\t\t\t\t1.双与(或)和单与(或)的区别2.左移右移无符号右移3.字符串的应用4.类型强制转换\t\t \n",
      " \n",
      " \n",
      " 09-28 \n",
      " \n",
      "\t\t\t\t\t阅读数 \n",
      "\t\t\t\t\t197 \n",
      " \n",
      " \n",
      " \n",
      " \n",
      " \n",
      " 1.类型强制转换   byte y=2;  int x=3;   y=(byte)(x+y);  byte a=2;   a+=3; 对(做了强制转换动作)  a=a+3; 错(精度丢失 byte不可... \n",
      " \n",
      " \n",
      " 博文 \n",
      " 来自：\t  insiston0635的博客 \n",
      " \n",
      " \n",
      " \n",
      " \n",
      " \n",
      " \n",
      " \n",
      " \n",
      "\t\t\t\tC语言中的左移与右移\t\t \n",
      " \n",
      " \n",
      " 12-20 \n",
      " \n",
      "\t\t\t\t\t阅读数 \n",
      "\t\t\t\t\t26 \n",
      " \n",
      " \n",
      " \n",
      " \n",
      " \n",
      " C语言中的左移与右移先说左移,左移就是把一个数的所有位都向左移动若干位,在C中用<<运算符.例如:int i = 1;i = i << 2; //把i里的值左移2位也就是说,1... \n",
      " \n",
      " \n",
      " 博文 \n",
      " 来自：\t  weixin_30414245的博客 \n",
      " \n",
      " \n",
      " \n",
      " \n",
      " \n",
      " \n",
      " \n",
      " \n",
      "\t\t\t\tC/C++中的有符号和无符号的位运算问题\t\t \n",
      " \n",
      " \n",
      " 08-11 \n",
      " \n",
      "\t\t\t\t\t阅读数 \n",
      "\t\t\t\t\t413 \n",
      " \n",
      " \n",
      " \n",
      " \n",
      " \n",
      " 是对C/C++下面的结果感到困惑？printf(\"%d\\n\", ((unsigned char)~0 >> 1)); //结果为127printf(\"%d\\n\", -((unsigned char)~... \n",
      " \n",
      " \n",
      " 博文 \n",
      " 来自：\t  百亿云 \n",
      " \n",
      " \n",
      " \n",
      " \n",
      " \n",
      " \n",
      " \n",
      " \n",
      "\t\t\t\t2018-1-20：左移<<和右移>>运算以及和>>>（无符号右移）的区别以及位运算的小题目...\t\t \n",
      " \n",
      " \n",
      " 01-20 \n",
      " \n",
      "\t\t\t\t\t阅读数 \n",
      "\t\t\t\t\t8 \n",
      " \n",
      " \n",
      " \n",
      " \n",
      " \n",
      " 首先：左移和右移以及无符号右移都是应用于2的次幂运算左移几位就相当于该数据乘以2的几次方：即完成2的次幂运算右移几位就相当于该数据除以2的几次方：即完成2的次幂运算，右移有个小特点：右移之后空出的最高... \n",
      " \n",
      " \n",
      " 博文 \n",
      " 来自：\t  weixin_33766805的博客 \n",
      " \n",
      " \n",
      " \n",
      " \n",
      " \n",
      " \n",
      " \n",
      " \n",
      "\t\t\t\t无符号右移运算\t\t \n",
      " \n",
      " \n",
      " 07-30 \n",
      " \n",
      "\t\t\t\t\t阅读数 \n",
      "\t\t\t\t\t27 \n",
      " \n",
      " \n",
      " \n",
      " \n",
      " \n",
      " 1.非数值转换成02.所以大于等于0的数取整数部分\"a\" >>> 0012.34 >>> 012转载于:https://www.cnblogs.com/bibiaf... \n",
      " \n",
      " \n",
      " 博文 \n",
      " 来自：\t  diancui3160的博客 \n",
      " \n",
      " \n",
      " \n",
      " \n",
      " \n",
      " \n",
      " \n",
      " \n",
      "\t\t\t\t位运算3\t\t \n",
      " \n",
      " \n",
      " 03-26 \n",
      " \n",
      "\t\t\t\t\t阅读数 \n",
      "\t\t\t\t\t160 \n",
      " \n",
      " \n",
      " \n",
      " \n",
      " \n",
      " /* 左边最高位丢弃，右边补齐0>>:右移 最高位是0，左边补齐0；最高为是1，左边补齐1>>>:无符号右移 无论最高位是0还是1，左边补齐0面试题：请用最有效率的方式写出计算2乘以8的结果?2 * ... \n",
      " \n",
      " \n",
      " 博文 \n",
      " 来自：\t  午夜的行人 \n",
      " \n",
      " \n",
      " \n",
      " \n",
      " \n",
      " \n",
      " \n",
      " \n",
      "\t\t\t\t左移右移小总结\t\t \n",
      " \n",
      " \n",
      " 12-11 \n",
      " \n",
      "\t\t\t\t\t阅读数 \n",
      "\t\t\t\t\t1万+ \n",
      " \n",
      " \n",
      " \n",
      " \n",
      " \n",
      " 左移右移小总结@(组成原理)关于数的移位，特别需要注意正数，三码相同，所以无论左移还是右移都是补0.而负数的补码就需要注意，左移在右边补0，右移需要在左边补1，有一个很有趣的误区是，认为符号位保持不变... \n",
      " \n",
      " \n",
      " 博文 \n",
      " 来自：\t  Bing's Blog \n",
      " \n",
      " \n",
      " \n",
      " \n",
      " \n",
      " \n",
      " \n",
      " \n",
      "\t\t\t\tC/C++中的逻辑右移、算数右移、循环左移、循环右移\t\t \n",
      " \n",
      " \n",
      " 10-08 \n",
      " \n",
      "\t\t\t\t\t阅读数 \n",
      "\t\t\t\t\t1万+ \n",
      " \n",
      " \n",
      " \n",
      " \n",
      " \n",
      " C/C++语言中逻辑右移和算数右移共享同一个运算符>>，编译器决定使用逻辑右移还是算数右移，根据的是运算数的类型。如果是unsigned则采用逻辑右移，如果是signed则采用算数右移。对于signe... \n",
      " \n",
      " \n",
      " 博文 \n",
      " 来自：\t  huizhang0110 \n",
      " \n",
      " \n",
      " \n",
      " \n",
      " \n",
      " \n",
      " \n",
      " \n",
      "\t\t\t\tC语言的逻辑右移和算术右移\t\t \n",
      " \n",
      " \n",
      " 03-11 \n",
      " \n",
      "\t\t\t\t\t阅读数 \n",
      "\t\t\t\t\t5501 \n",
      " \n",
      " \n",
      " \n",
      " \n",
      " \n",
      " 首先说明一下这两个概念：逻辑右移：右移后左边添加0算术右移：右移后添加的位与原数的符号位相同在C语言中，对于移位操作执行的是逻辑左移和算术右移，不过对于无符号类型，所有的移位操作都是逻辑的。所以要相对... \n",
      " \n",
      " \n",
      " 博文 \n",
      " 来自：\t  萧十一的技术小站 \n",
      " \n",
      " \n",
      " \n",
      " \n",
      " \n",
      " \n",
      " \n",
      " \n",
      "\t\t\t\t关于java中位运算的左移、右移、无符号右移\t\t \n",
      " \n",
      " \n",
      " 12-23 \n",
      " \n",
      "\t\t\t\t\t阅读数 \n",
      "\t\t\t\t\t7934 \n",
      " \n",
      " \n",
      " \n",
      " \n",
      " \n",
      " 今天学到了java中的位运算，和C语言还是有所不同的：>>:右移运算符，num>>1，相当于num*2；>>>:无符号右移，忽略符号位，空位以0补齐。位运算的一些规则：1.byte、short、cha... \n",
      " \n",
      " \n",
      " 博文 \n",
      " 来自：\t  光耀天下 \n",
      " \n",
      " \n",
      " \n",
      " \n",
      " \n",
      " \n",
      " \n",
      " \n",
      "\t\t\t\t有符号右移>>，无符号右移>>>\t\t \n",
      " \n",
      " \n",
      " 02-27 \n",
      " \n",
      "\t\t\t\t\t阅读数 \n",
      "\t\t\t\t\t9025 \n",
      " \n",
      " \n",
      " \n",
      " \n",
      " \n",
      " 计算机表示数字正负不是用+-加减号来表示，而是用最高位数字来表示，0表示正，1表示负1.有符号右移&gt;&gt;（若正数,高位补0,负数,高位补1）正数:例如4&gt;&am... \n",
      " \n",
      " \n",
      " 博文 \n",
      " 来自：\t  BushRo \n",
      " \n",
      " \n",
      " \n",
      " \n",
      " \n",
      " \n",
      " \n",
      " \n",
      "\t\t\t\t分析轮子（二）- << ，>>，>> （左移、右移、无符号右移）\t\t \n",
      " \n",
      " \n",
      " 09-06 \n",
      " \n",
      "\t\t\t\t\t阅读数 \n",
      "\t\t\t\t\t79 \n",
      " \n",
      " \n",
      " \n",
      " \n",
      " \n",
      " 前言：写 分析轮子（一）-ArrayList.java 的时候看到源码中有 int newCapacity = oldCapacity + (oldCapacity &gt;&gt; ... \n",
      " \n",
      " \n",
      " 博文 \n",
      " 来自：\t  weixin_33805992的博客 \n",
      " \n",
      " \n",
      " \n",
      " \n",
      " \n",
      " \n",
      " \n",
      "\t\t\t\t为什么要右移8位 >>8\t\t \n",
      " \n",
      " 04-12 \n",
      " \n",
      " \n",
      " byte b2_groupno = new byte; int groupno = ((int)b2_groupno & 0xFF)|(((int)b2_groupno & 0xFF)<<8); b2 \n",
      " 论坛 \n",
      " \n",
      " \n",
      " \n",
      " \n",
      " \n",
      " \n",
      " \n",
      "\t\t\t\t按位左右移位运算符\t\t \n",
      " \n",
      " \n",
      " 05-11 \n",
      " \n",
      "\t\t\t\t\t阅读数 \n",
      "\t\t\t\t\t568 \n",
      " \n",
      " \n",
      " \n",
      " \n",
      " \n",
      " 按位左右移位运算符>> 今天在群里总算长见识了。。虽然不常用记下来...>> 1 = / 2>> 2 = / 4>> 3 = / 8>> 4 = / 16...失忆的猪猪(3224897) 17:04... \n",
      " \n",
      " \n",
      " 博文 \n",
      " 来自：\t  xiaoj13的专栏 \n",
      " \n",
      " \n",
      " \n",
      " \n",
      " \n",
      " \n",
      " \n",
      " \n",
      "\t\t\t\t位运算符左移右移的特点\t\t \n",
      " \n",
      " \n",
      " 10-16 \n",
      " \n",
      "\t\t\t\t\t阅读数 \n",
      "\t\t\t\t\t468 \n",
      " \n",
      " \n",
      " \n",
      " \n",
      " \n",
      " /* * 位运算符: *  *  * >>:右移,最高符号位如果是1,左边补齐1,最高符号位如果是0,左边补齐0 * //>>右移动特点:该符号左边的数据除以2的移动次幂:24/2^2 = 6 * >... \n",
      " \n",
      " \n",
      " 博文 \n",
      " 来自：\t  qq_39345059的博客 \n",
      " \n",
      " \n",
      " \n",
      " \n",
      " \n",
      " \n",
      " \n",
      " \n",
      "\t\t\t\tjava 位运算符（左移与右移）\t\t \n",
      " \n",
      " \n",
      " 01-19 \n",
      " \n",
      "\t\t\t\t\t阅读数 \n",
      "\t\t\t\t\t1608 \n",
      " \n",
      " \n",
      " \n",
      " \n",
      " \n",
      " 左移代表乘，左移一位代表乘2,左移两位代表乘4，依次递增           12&lt;&lt;1=24    12&lt;&lt;2=48 右移代表除,  右移一位... \n",
      " \n",
      " \n",
      " 博文 \n",
      " 来自：\t  shuoxi666的博客 \n",
      " \n",
      " \n",
      " \n",
      " \n",
      " \n",
      " \n",
      " \n",
      " \n",
      "\t\t\t\tSecureCRT的下载、安装（ 过程非常详细！！值得查看）\t\t \n",
      " \n",
      " \n",
      " 03-03 \n",
      " \n",
      "\t\t\t\t\t阅读数 \n",
      "\t\t\t\t\t1万+ \n",
      " \n",
      " \n",
      " \n",
      " \n",
      " \n",
      " SecureCRT的下载、安装和破解（ 过程非常详细！！值得查看）简单介绍下SecureCRT一、SecureCRT的下载二、SecureCRT的安装简单介绍下SecureCRTSecureCRT是一... \n",
      " \n",
      " \n",
      " 博文 \n",
      " 来自：\t  超Ren专属 \n",
      " \n",
      " \n",
      " \n",
      " \n",
      " \n",
      " \n",
      " \n",
      " \n",
      "\t\t\t\tJava学习的正确打开方式\t\t \n",
      " \n",
      " \n",
      " 01-08 \n",
      " \n",
      "\t\t\t\t\t阅读数 \n",
      "\t\t\t\t\t28万+ \n",
      " \n",
      " \n",
      " \n",
      " \n",
      " \n",
      " 在博主认为，对于入门级学习java的最佳学习方法莫过于视频+博客+书籍+总结，前三者博主将淋漓尽致地挥毫于这篇博客文章中，至于总结在于个人，实际上越到后面你会发现学习的最好方式就是阅读参考官方文档其次... \n",
      " \n",
      " \n",
      " 博文 \n",
      " 来自：\t  程序员宜春的博客 \n",
      " \n",
      " \n",
      " \n",
      " \n",
      " \n",
      " \n",
      " \n",
      " \n",
      " \n",
      "                                python \n",
      " \n",
      " \n",
      " \n",
      "                                json \n",
      " \n",
      " \n",
      " \n",
      "                                java \n",
      " \n",
      " \n",
      " \n",
      "                                mysql \n",
      " \n",
      " \n",
      " \n",
      "                                pycharm \n",
      " \n",
      " \n",
      " \n",
      "                                android \n",
      " \n",
      " \n",
      " \n",
      "                                linux \n",
      " \n",
      " \n",
      " \n",
      "                                json格式 \n",
      " \n",
      " \n",
      " \n",
      "                                c# temp 目录 \n",
      " \n",
      " \n",
      " \n",
      "                                bytes初始化 c# \n",
      " \n",
      " \n",
      " \n",
      "                                c#显示无焦点窗口 \n",
      " \n",
      " \n",
      " \n",
      "                                c# 类是否继承指定接口 \n",
      " \n",
      " \n",
      " \n",
      "                                c# 检查数据更新 \n",
      " \n",
      " \n",
      " \n",
      "                                c#连接扫描枪 \n",
      " \n",
      " \n",
      " \n",
      "                                c# 跟c++ 进程同步 \n",
      " \n",
      " \n",
      " \n",
      "                                c#中的arrylist \n",
      " \n",
      " \n",
      " \n",
      "                                c#子窗体重复打开 \n",
      " \n",
      " \n",
      " \n",
      "                                c# 源码 网站监控 \n",
      " \n",
      " \n",
      " \n",
      " \n",
      " \n",
      " \n",
      " \n",
      " \n",
      " 没有更多推荐了， 返回首页 \n",
      " \n",
      " \n",
      " \n",
      " ©️2019 CSDN \n",
      " 皮肤主题: 书香水墨 \n",
      "  设计师:\n",
      "                                            CSDN官方博客                                     \n",
      " \n",
      " \n",
      " \n",
      " 主页引入 \n",
      " \n",
      "  <h3 class=\"aside-title\">个人资料</h3>  \n",
      " \n",
      " \n",
      " \n",
      " \n",
      " \n",
      " \n",
      " \n",
      " \n",
      " \n",
      " \n",
      " \n",
      "                    DimplesDimples.                     \n",
      " \n",
      " \n",
      " \n",
      " TA的个人主页 > \n",
      " \n",
      " \n",
      " \n",
      " \n",
      " \n",
      " 原创 \n",
      " 127 \n",
      " \n",
      " \n",
      " 粉丝 \n",
      " 19 \n",
      " \n",
      " \n",
      " 获赞 \n",
      " 18 \n",
      " \n",
      " \n",
      " 评论 \n",
      " 1 \n",
      " \n",
      " \n",
      " 访问 \n",
      " 4万+ \n",
      " \n",
      " \n",
      " \n",
      " \n",
      " 等级: \n",
      " \n",
      " \n",
      " \n",
      " \n",
      " \n",
      " \n",
      " \n",
      " \n",
      " \n",
      " 周排名: \n",
      " \n",
      " \n",
      "                    2万+                 \n",
      " \n",
      " \n",
      " \n",
      " 积分: \n",
      " \n",
      "                1744             \n",
      " \n",
      " \n",
      " 总排名: \n",
      " \n",
      " \n",
      "                    4万+                 \n",
      " \n",
      " \n",
      " \n",
      " \n",
      " \n",
      " 勋章: \n",
      " \n",
      " \n",
      " \n",
      " \n",
      " \n",
      " \n",
      " \n",
      " \n",
      " \n",
      " \n",
      " 持之以恒 \n",
      " \n",
      " \n",
      "                                                授予每个自然月内发布4篇或4篇以上原创或翻译IT博文的用户。不积跬步无以至千里，不积小流无以成江海，程序人生的精彩需要坚持不懈地积累！                                             \n",
      " \n",
      " \n",
      " \n",
      " \n",
      " \n",
      " \n",
      " \n",
      " \n",
      " \n",
      " \n",
      " \n",
      " \n",
      " 1024勋章 \n",
      " \n",
      " \n",
      "                                                #1024程序员节#活动勋章，当日发布原创博客即可获得                                             \n",
      " \n",
      " \n",
      " \n",
      " \n",
      " \n",
      " \n",
      " \n",
      " \n",
      " \n",
      " 关注 \n",
      " \n",
      " \n",
      " 私信 \n",
      " \n",
      " \n",
      " \n",
      " \n",
      " \n",
      " \n",
      "  博客内页左上视窗-20181120  \n",
      " \n",
      "   \n",
      " \n",
      " \n",
      " 最新文章 \n",
      " \n",
      " \n",
      " \n",
      " \n",
      "                                        Hadoop怎样避免文件被切分？                 \n",
      " \n",
      " \n",
      " \n",
      "                                        Flume是什么，有什么作用，flume的三个组件。                 \n",
      " \n",
      " \n",
      " \n",
      "                                        HA架构中的脑裂，什么是脑裂，怎样预防脑裂？                 \n",
      " \n",
      " \n",
      " \n",
      "                                        数据库事务的四个特性及含义                 \n",
      " \n",
      " \n",
      " \n",
      "                                        MapReduce中排序发生在哪几个阶段？这些排序是否可以避免？为什么？                 \n",
      " \n",
      " \n",
      " \n",
      " \n",
      " \n",
      " 分类专栏 \n",
      " \n",
      " \n",
      " \n",
      " \n",
      " \n",
      " ####是否付费 \n",
      " Flume \n",
      " \n",
      " ####是否付费 \n",
      " 1篇 \n",
      " \n",
      " \n",
      " \n",
      " \n",
      " \n",
      " ####是否付费 \n",
      " java \n",
      " \n",
      " ####是否付费 \n",
      " 71篇 \n",
      " \n",
      " \n",
      " \n",
      " \n",
      " \n",
      " ####是否付费 \n",
      " 数据库 \n",
      " \n",
      " ####是否付费 \n",
      " 18篇 \n",
      " \n",
      " \n",
      " \n",
      " \n",
      " \n",
      " ####是否付费 \n",
      " Linux \n",
      " \n",
      " ####是否付费 \n",
      " 14篇 \n",
      " \n",
      " \n",
      " \n",
      " \n",
      " \n",
      " ####是否付费 \n",
      " vim \n",
      " \n",
      " ####是否付费 \n",
      " 1篇 \n",
      " \n",
      " \n",
      " \n",
      " \n",
      " \n",
      " ####是否付费 \n",
      " Hadoop \n",
      " \n",
      " ####是否付费 \n",
      " 21篇 \n",
      " \n",
      " \n",
      " \n",
      " \n",
      " \n",
      " ####是否付费 \n",
      " 计算机基础 \n",
      " \n",
      " ####是否付费 \n",
      " 1篇 \n",
      " \n",
      " \n",
      " \n",
      " \n",
      " \n",
      " ####是否付费 \n",
      " JSP \n",
      " \n",
      " ####是否付费 \n",
      " 1篇 \n",
      " \n",
      " \n",
      " \n",
      " \n",
      " \n",
      " ####是否付费 \n",
      " Zookeeper \n",
      " \n",
      " ####是否付费 \n",
      " 1篇 \n",
      " \n",
      " \n",
      " \n",
      " \n",
      " \n",
      " ####是否付费 \n",
      " HBase \n",
      " \n",
      " ####是否付费 \n",
      " 3篇 \n",
      " \n",
      " \n",
      " \n",
      " \n",
      " \n",
      " ####是否付费 \n",
      " python \n",
      " \n",
      " ####是否付费 \n",
      " 1篇 \n",
      " \n",
      " \n",
      " \n",
      " \n",
      " \n",
      " ####是否付费 \n",
      " hive \n",
      " \n",
      " ####是否付费 \n",
      " 1篇 \n",
      " \n",
      " \n",
      " \n",
      " \n",
      " \n",
      " ####是否付费 \n",
      " Spring \n",
      " \n",
      " ####是否付费 \n",
      " 1篇 \n",
      " \n",
      " \n",
      " \n",
      " \n",
      " \n",
      " 展开 \n",
      " \n",
      " \n",
      " \n",
      " 归档 \n",
      " \n",
      " \n",
      " 归档统计 \n",
      " \n",
      " \n",
      "                    2020年1月                     2篇 \n",
      " \n",
      " \n",
      " 归档统计 \n",
      " \n",
      " \n",
      "                    2019年12月                     5篇 \n",
      " \n",
      " \n",
      " 归档统计 \n",
      " \n",
      " \n",
      "                    2019年3月                     1篇 \n",
      " \n",
      " \n",
      " 归档统计 \n",
      " \n",
      " \n",
      "                    2018年12月                     6篇 \n",
      " \n",
      " \n",
      " 归档统计 \n",
      " \n",
      " \n",
      "                    2018年11月                     23篇 \n",
      " \n",
      " \n",
      " 归档统计 \n",
      " \n",
      " \n",
      "                    2018年10月                     15篇 \n",
      " \n",
      " \n",
      " 归档统计 \n",
      " \n",
      " \n",
      "                    2018年9月                     18篇 \n",
      " \n",
      " \n",
      " 归档统计 \n",
      " \n",
      " \n",
      "                    2018年8月                     40篇 \n",
      " \n",
      " \n",
      " 归档统计 \n",
      " \n",
      " \n",
      "                    2018年7月                     20篇 \n",
      " \n",
      " \n",
      " 归档统计 \n",
      " \n",
      " \n",
      "                    2018年6月                     5篇 \n",
      " \n",
      " \n",
      " \n",
      " \n",
      " \n",
      " 展开 \n",
      " \n",
      " \n",
      " \n",
      " 热门文章 \n",
      " \n",
      " \n",
      " \n",
      " \n",
      "                                                Hadoop完全分布式搭建步骤                     \n",
      " 阅读数  4651 \n",
      " \n",
      " \n",
      " \n",
      "                                                录入10个学生的数学语文英语的三科成绩 计算每科的平均成绩计算出每个人的总成绩 并找出每科成绩的最高分与最低分                     \n",
      " 阅读数  2963 \n",
      " \n",
      " \n",
      " \n",
      "                                                MySQL语言之约束(constraint)                     \n",
      " 阅读数  2563 \n",
      " \n",
      " \n",
      " \n",
      "                                                HBase有什么优点和缺点                     \n",
      " 阅读数  2429 \n",
      " \n",
      " \n",
      " \n",
      "                                                在window下设置hosts配置主机名和ip的映射                     \n",
      " 阅读数  2261 \n",
      " \n",
      " \n",
      " \n",
      " \n",
      " \n",
      " 最新评论 \n",
      " \n",
      " \n",
      " \n",
      " 成员变量与局部变量的区别     ... \n",
      " \n",
      " qq_29951485： 作者你好，一个问题，GCROOT包含局部变量表里的引用的对象，那么等到局部变量表中的值置为null时，对象被回收，可以理解。但是成员变量随着对象一起再堆中，那么被回收的时机就和对象一致，不能单独被回收，是这样吗？                 \n",
      " \n",
      " \n",
      " \n",
      " \n",
      " \n",
      " \n",
      " \n",
      "  博客内页左下视窗-20181130  \n",
      " \n",
      "   \n",
      " \n",
      " \n",
      " \n",
      " \n",
      " \n",
      " \n",
      " \n",
      " \n",
      " \n",
      " \n",
      " \n",
      " \n",
      " \n",
      " \n",
      " 目录 \n",
      " \n",
      " \n",
      " \n",
      " \n",
      " \n",
      " \n",
      " \n",
      " \n",
      " \n",
      " \n",
      " \n",
      " \n",
      " \n",
      "  多条广告如下脚本只需引入一次  \n",
      "   \n",
      " \n",
      " 分类专栏 \n",
      " \n",
      " \n",
      " \n",
      " \n",
      " \n",
      " \n",
      " ####是否付费 \n",
      " Flume \n",
      " \n",
      " ####是否付费 \n",
      " 1篇 \n",
      " \n",
      " \n",
      " \n",
      " \n",
      " \n",
      " ####是否付费 \n",
      " java \n",
      " \n",
      " ####是否付费 \n",
      " 71篇 \n",
      " \n",
      " \n",
      " \n",
      " \n",
      " \n",
      " ####是否付费 \n",
      " 数据库 \n",
      " \n",
      " ####是否付费 \n",
      " 18篇 \n",
      " \n",
      " \n",
      " \n",
      " \n",
      " \n",
      " ####是否付费 \n",
      " Linux \n",
      " \n",
      " ####是否付费 \n",
      " 14篇 \n",
      " \n",
      " \n",
      " \n",
      " \n",
      " \n",
      " ####是否付费 \n",
      " vim \n",
      " \n",
      " ####是否付费 \n",
      " 1篇 \n",
      " \n",
      " \n",
      " \n",
      " \n",
      " \n",
      " ####是否付费 \n",
      " Hadoop \n",
      " \n",
      " ####是否付费 \n",
      " 21篇 \n",
      " \n",
      " \n",
      " \n",
      " \n",
      " \n",
      " ####是否付费 \n",
      " 计算机基础 \n",
      " \n",
      " ####是否付费 \n",
      " 1篇 \n",
      " \n",
      " \n",
      " \n",
      " \n",
      " \n",
      " ####是否付费 \n",
      " JSP \n",
      " \n",
      " ####是否付费 \n",
      " 1篇 \n",
      " \n",
      " \n",
      " \n",
      " \n",
      " \n",
      " ####是否付费 \n",
      " Zookeeper \n",
      " \n",
      " ####是否付费 \n",
      " 1篇 \n",
      " \n",
      " \n",
      " \n",
      " \n",
      " \n",
      " ####是否付费 \n",
      " HBase \n",
      " \n",
      " ####是否付费 \n",
      " 3篇 \n",
      " \n",
      " \n",
      " \n",
      " \n",
      " \n",
      " ####是否付费 \n",
      " python \n",
      " \n",
      " ####是否付费 \n",
      " 1篇 \n",
      " \n",
      " \n",
      " \n",
      " \n",
      " \n",
      " ####是否付费 \n",
      " hive \n",
      " \n",
      " ####是否付费 \n",
      " 1篇 \n",
      " \n",
      " \n",
      " \n",
      " \n",
      " \n",
      " ####是否付费 \n",
      " Spring \n",
      " \n",
      " ####是否付费 \n",
      " 1篇 \n",
      " \n",
      " \n",
      " \n",
      " \n",
      " \n",
      " \n",
      " \n",
      " \n",
      " \n",
      " \n",
      " \n",
      " \n",
      " \n",
      " \n",
      " \n",
      " \n",
      " \n",
      " \n",
      " \n",
      " \n",
      " \n",
      " \n",
      " 点赞 \n",
      " 取消点赞 \n",
      " \n",
      " 2 \n",
      " \n",
      " \n",
      " \n",
      " \n",
      " \n",
      " \n",
      " \n",
      " 海报 \n",
      " \n",
      " \n",
      " \n",
      " \n",
      " \n",
      " \n",
      " \n",
      " \n",
      " \n",
      " 评论 \n",
      " \n",
      " \n",
      " \n",
      " \n",
      " \n",
      " \n",
      " \n",
      " \n",
      " \n",
      " 目录 \n",
      " \n",
      " \n",
      " \n",
      " \n",
      " \n",
      " \n",
      " \n",
      " \n",
      " \n",
      " \n",
      " \n",
      " \n",
      " \n",
      " \n",
      " \n",
      " \n",
      " \n",
      " \n",
      " \n",
      " \n",
      " \n",
      " \n",
      " \n",
      " \n",
      " \n",
      " \n",
      " \n",
      " \n",
      " \n",
      " \n",
      " 收藏 \n",
      "  <span class=\"hover-show text-box text\">\n",
      "\t\t\t\t\t<span class=\"no-active\">收藏</span>\n",
      "\t\t\t\t\t<span class=\"active\">取消收藏</span>\n",
      "\t\t\t\t</span>  \n",
      " \n",
      " \n",
      " \n",
      " \n",
      " \n",
      " \n",
      " \n",
      " \n",
      " \n",
      "\t\t\t\t\t手机看\n",
      "\t\t\t\t \n",
      " \n",
      " \n",
      " \n",
      " \n",
      " \n",
      " \n",
      " \n",
      " 上一篇 \n",
      " \n",
      " \n",
      " \n",
      " \n",
      " \n",
      " \n",
      " \n",
      " 下一篇 \n",
      " \n",
      " \n",
      "  宽屏更多按钮  \n",
      " \n",
      " \n",
      " \n",
      " \n",
      " \n",
      " 更多 \n",
      " \n",
      " \n",
      " \n",
      " \n",
      " \n",
      " \n",
      " \n",
      " 上一篇 \n",
      " \n",
      " \n",
      " \n",
      " \n",
      " \n",
      " \n",
      " \n",
      " 下一篇 \n",
      " \n",
      " \n",
      " \n",
      " \n",
      " \n",
      " \n",
      " \n",
      " \n",
      " \n",
      " \n",
      " \n",
      " \n",
      " \n",
      " \n",
      " \n",
      " \n",
      " \n",
      " 打赏 \n",
      " \n",
      " \n",
      " 打赏 \n",
      " \n",
      " \n",
      " \n",
      " DimplesDimples. \n",
      " “你的鼓励将是我创作的最大动力” \n",
      " \n",
      " \n",
      " \n",
      " 5C币 \n",
      " 10C币 \n",
      " 20C币 \n",
      " 50C币 \n",
      " 100C币 \n",
      " 200C币 \n",
      " \n",
      " \n",
      " 确定 \n",
      " \n",
      " \n",
      " \n",
      " \n",
      " \n",
      " \n",
      " \n",
      " \n",
      " \n",
      " \n",
      " \n",
      " \n",
      " \n",
      " 分享到微信朋友圈 \n",
      " \n",
      " × \n",
      " \n",
      " \n",
      " 扫一扫，手机浏览 \n",
      " \n",
      " \n",
      " \n",
      " \n",
      " \n",
      " \n",
      " \n",
      " \n",
      " \n",
      " \n",
      " \n",
      " \n",
      " \n",
      " \n",
      " \n",
      " \n",
      " \n",
      " \n",
      " \n",
      " \n",
      " \n",
      " \n",
      " \n",
      " \n",
      " \n",
      " \n"
     ]
    }
   ],
   "source": [
    "import requests\n",
    "from bs4 import BeautifulSoup\n",
    "headers = {'User-Agent': \"Mozilla/5.0 (Windows NT 10.0; WOW64) AppleWebKit/537.36 (KHTML, like Gecko) Chrome/80.0.3970.5 Safari/537.36\"}\n",
    "\n",
    "url = 'https://blog.csdn.net/Betty_betty_betty/article/details/80898798'\n",
    "res = requests.get(url)\n",
    "html_page = res.content\n",
    "soup = BeautifulSoup(html_page, 'html.parser')\n",
    "text = soup.find_all(text=True)\n",
    "\n",
    "output = ''\n",
    "blacklist = [\n",
    "    '[document]',\n",
    "    'noscript',\n",
    "    'header',\n",
    "    'html',\n",
    "    'meta',\n",
    "    'head', \n",
    "    'input',\n",
    "    'script',\n",
    "    # there may be more elements you don't want, such as \"style\", etc.\n",
    "]\n",
    "\n",
    "for t in text:\n",
    "    if t.parent.name not in blacklist:\n",
    "        output += '{} '.format(t)\n",
    "\n",
    "print(output)"
   ]
  },
  {
   "cell_type": "code",
   "execution_count": 2,
   "metadata": {},
   "outputs": [
    {
     "data": {
      "image/png": "[encoded data removed]",
      "text/plain": [
       "<Figure size 576x432 with 1 Axes>"
      ]
     },
     "metadata": {
      "needs_background": "light"
     },
     "output_type": "display_data"
    }
   ],
   "source": [
    "import numpy as np\n",
    "import matplotlib.pyplot as plt\n",
    "t = np.arange(0.0, 12*np.pi, 0.01)\n",
    "x = np.sin(t)*(np.e**np.cos(t) - 2*np.cos(4*t)-np.sin(t/12)**5)\n",
    "y = np.cos(t)*(np.e**np.cos(t) - 2*np.cos(4*t)-np.sin(t/12)**5)\n",
    "plt.figure(figsize=(8,6))\n",
    "plt.axis('off')\n",
    "plt.plot(x,y,color='blue',linewidth = '2')\n",
    "plt.show()\n",
    "# plt.savefig(\"butter.jpg\",dpi=400)"
   ]
  },
  {
   "cell_type": "code",
   "execution_count": 3,
   "metadata": {},
   "outputs": [
    {
     "data": {
      "image/png": "[encoded data removed]",
      "text/plain": [
       "<Figure size 432x288 with 1 Axes>"
      ]
     },
     "metadata": {
      "needs_background": "light"
     },
     "output_type": "display_data"
    }
   ],
   "source": [
    "from mpl_toolkits.mplot3d import Axes3D\n",
    "from matplotlib import cm\n",
    "from matplotlib.ticker import LinearLocator\n",
    "import matplotlib.pyplot as plt\n",
    "import numpy as np\n",
    "\n",
    "fig = plt.figure()\n",
    "ax = fig.gca(projection='3d')\n",
    "[x, t] = np.meshgrid(np.array(range(25)) / 24.0, np.arange(0, 575.5, 0.5) / 575 * 17 * np.pi - 2 * np.pi)\n",
    "p = (np.pi / 2) * np.exp(-t / (8 * np.pi))\n",
    "u = 1 - (1 - np.mod(3.6 * t, 2 * np.pi) / np.pi) ** 4 / 2\n",
    "y = 2 * (x ** 2 - x) ** 2 * np.sin(p)\n",
    "r = u * (x * np.sin(p) + y * np.cos(p))\n",
    "h = u * (x * np.cos(p) - y * np.sin(p))\n",
    "surf = ax.plot_surface(r * np.cos(t), r * np.sin(t), h, rstride=1, cstride=1,\n",
    "                       cmap=cm.gist_rainbow_r, linewidth=0, antialiased=True)\n",
    "plt.show()"
   ]
  },
  {
   "cell_type": "code",
   "execution_count": 4,
   "metadata": {},
   "outputs": [
    {
     "data": {
      "image/png": "[encoded data removed]",
      "text/plain": [
       "<Figure size 432x288 with 1 Axes>"
      ]
     },
     "metadata": {
      "needs_background": "light"
     },
     "output_type": "display_data"
    }
   ],
   "source": [
    "from mpl_toolkits.mplot3d import Axes3D\n",
    "from matplotlib import cm\n",
    "from matplotlib.ticker import LinearLocator\n",
    "import matplotlib.pyplot as plt\n",
    "import numpy as np\n",
    "\n",
    "# 省略了头文件，可以在之前的博客里看到\n",
    "fig = plt.figure()\n",
    "ax = fig.gca(projection='3d')\n",
    "# 将相位向后移动了6*pi\n",
    "[x, t] = np.meshgrid(np.array(range(25)) / 24.0, np.arange(0, 575.5, 0.5) / 575 * 20 * np.pi + 4*np.pi)\n",
    "p = (np.pi / 2) * np.exp(-t / (8 * np.pi))\n",
    "# 添加边缘扰动\n",
    "change = np.sin(15*t)/150\n",
    "# 将t的参数减少，使花瓣的角度变大\n",
    "u = 1 - (1 - np.mod(3.3 * t, 2 * np.pi) / np.pi) ** 4 / 2 + change\n",
    "y = 2 * (x ** 2 - x) ** 2 * np.sin(p)\n",
    "r = u * (x * np.sin(p) + y * np.cos(p))\n",
    "h = u * (x * np.cos(p) - y * np.sin(p))\n",
    "c= cm.get_cmap('Reds')\n",
    "surf = ax.plot_surface(r * np.cos(t), r * np.sin(t), h, rstride=1, cstride=1,\n",
    "                       cmap= c, linewidth=0, antialiased=True)\n",
    "plt.show()"
   ]
  },
  {
   "cell_type": "code",
   "execution_count": 5,
   "metadata": {},
   "outputs": [
    {
     "data": {
      "image/png": "[encoded data removed]",
      "text/plain": [
       "<Figure size 432x288 with 1 Axes>"
      ]
     },
     "metadata": {
      "needs_background": "light"
     },
     "output_type": "display_data"
    }
   ],
   "source": [
    "from mpl_toolkits.mplot3d import Axes3D\n",
    "from matplotlib import cm\n",
    "from matplotlib.ticker import LinearLocator\n",
    "import matplotlib.pyplot as plt\n",
    "import numpy as np\n",
    "fig = plt.figure()\n",
    "ax = fig.gca(projection='3d')\n",
    "[x, t] = np.meshgrid(np.array(range(25)) / 24.0, np.arange(0, 575.5, 0.5) / 575 * 30 * np.pi - 4*np.pi)\n",
    "p = (np.pi / 2) * np.exp(-t / (8 * np.pi))\n",
    "change = np.sin(20*t)/50\n",
    "u = 1 - (1 - np.mod(3.3 * t, 2 * np.pi) / np.pi) ** 4 / 2 + change\n",
    "y = 2 * (x ** 2 - x) ** 2 * np.sin(p)\n",
    "r = u * (x * np.sin(p) + y * np.cos(p)) * 1.5\n",
    "h = u * (x * np.cos(p) - y * np.sin(p))\n",
    "c= cm.get_cmap('magma')\n",
    "surf = ax.plot_surface(r * np.cos(t), r * np.sin(t), h, rstride=1, cstride=1,\n",
    "                       cmap= c, linewidth=0, antialiased=True)\n",
    "plt.show()"
   ]
  },
  {
   "cell_type": "code",
   "execution_count": 14,
   "metadata": {},
   "outputs": [
    {
     "name": "stdout",
     "output_type": "stream",
     "text": [
      "200\n",
      "{\"returncode\":200,\"returndata\":{\"datanodes\":[{\"code\":\"zb.A030101_sj.2000\",\"data\":{\"data\":126743,\"dotcount\":0,\"hasdata\":true,\"strdata\":\"126743\"},\"wds\":[{\"valuecode\":\"A030101\",\"wdcode\":\"zb\"},{\"valuecode\":\"2000\",\"wdcode\":\"sj\"}]},{\"code\":\"zb.A030102_sj.2000\",\"data\":{\"data\":65437,\"dotcount\":0,\"hasdata\":true,\"strdata\":\"65437\"},\"wds\":[{\"valuecode\":\"A030102\",\"wdcode\":\"zb\"},{\"valuecode\":\"2000\",\"wdcode\":\"sj\"}]},{\"code\":\"zb.A030103_sj.2000\",\"data\":{\"data\":61306,\"dotcount\":0,\"hasdata\":true,\"strdata\":\"61306\"},\"wds\":[{\"valuecode\":\"A030103\",\"wdcode\":\"zb\"},{\"valuecode\":\"2000\",\"wdcode\":\"sj\"}]},{\"code\":\"zb.A030104_sj.2000\",\"data\":{\"data\":45906,\"dotcount\":0,\"hasdata\":true,\"strdata\":\"45906\"},\"wds\":[{\"valuecode\":\"A030104\",\"wdcode\":\"zb\"},{\"valuecode\":\"2000\",\"wdcode\":\"sj\"}]},{\"code\":\"zb.A030105_sj.2000\",\"data\":{\"data\":80837,\"dotcount\":0,\"hasdata\":true,\"strdata\":\"80837\"},\"wds\":[{\"valuecode\":\"A030105\",\"wdcode\":\"zb\"},{\"valuecode\":\"2000\",\"wdcode\":\"sj\"}]}],\"freshsort\":0,\"hasdatacount\":5,\"wdnodes\":[{\"nodes\":[{\"cname\":\"年末总人口\",\"code\":\"A030101\",\"dotcount\":0,\"exp\":\"年末人口数指每年12月31日24时的人口数。年度统计的全国人口总数内未包括香港、澳门特别行政区和台湾省以及海外华侨人数。\",\"ifshowcode\":false,\"memo\":\"1981年及以前人口数据为户籍统计数；1982、1990、2000、2010年数据为当年人口普查数据推算数；其余年份数据为年度人口抽样调查推算数据。总人口和按性别分人口中包括现役军人，按城乡分人口中现役军人计入城镇人口。\",\"name\":\"年末总人口\",\"nodesort\":\"1\",\"sortcode\":2785,\"tag\":\"\",\"unit\":\"万人\"},{\"cname\":\"男性人口\",\"code\":\"A030102\",\"dotcount\":0,\"exp\":\"\",\"ifshowcode\":false,\"memo\":\"\",\"name\":\"男性人口\",\"nodesort\":\"1\",\"sortcode\":2786,\"tag\":\"\",\"unit\":\"万人\"},{\"cname\":\"女性人口\",\"code\":\"A030103\",\"dotcount\":0,\"exp\":\"\",\"ifshowcode\":false,\"memo\":\"\",\"name\":\"女性人口\",\"nodesort\":\"1\",\"sortcode\":2787,\"tag\":\"\",\"unit\":\"万人\"},{\"cname\":\"城镇人口\",\"code\":\"A030104\",\"dotcount\":0,\"exp\":\"城镇人口是指居住在城镇范围内的全部常住人口。\",\"ifshowcode\":false,\"memo\":\"\",\"name\":\"城镇人口\",\"nodesort\":\"1\",\"sortcode\":2788,\"tag\":\"\",\"unit\":\"万人\"},{\"cname\":\"乡村人口\",\"code\":\"A030105\",\"dotcount\":0,\"exp\":\"乡村人口是除城镇人口以外的全部人口。\",\"ifshowcode\":false,\"memo\":\"\",\"name\":\"乡村人口\",\"nodesort\":\"1\",\"sortcode\":2789,\"tag\":\"\",\"unit\":\"万人\"}],\"wdcode\":\"zb\",\"wdname\":\"指标\"},{\"nodes\":[{\"cname\":\"2000年\",\"code\":\"2000\",\"dotcount\":4,\"exp\":\"\",\"ifshowcode\":false,\"memo\":\"\",\"name\":\"2000年\",\"nodesort\":\"1\",\"sortcode\":21,\"tag\":\"\",\"unit\":\"\"}],\"wdcode\":\"sj\",\"wdname\":\"时间\"}]}}\n"
     ]
    }
   ],
   "source": [
    "# 我采用requests库\n",
    "import requests\n",
    "import time\n",
    "\n",
    "# 用来获取 时间戳\n",
    "def gettime():\n",
    "    return int(round(time.time() * 1000))\n",
    "\n",
    "if __name__ == '__main__':\n",
    "    # 用来自定义头部的\n",
    "    headers = {}\n",
    "    # 用来传递参数的\n",
    "    keyvalue = {}\n",
    "    # 目标网址(问号前面的东西)\n",
    "    url = 'http://data.stats.gov.cn/easyquery.htm'\n",
    "\n",
    "    # 头部的填充\n",
    "    headers['User-Agent'] = 'Mozilla/5.0 (Macintosh; Intel Mac OS X 10_14) ' \\\n",
    "                            'AppleWebKit/605.1.15 (KHTML, like Gecko) ' \\\n",
    "                            'Version/12.0 Safari/605.1.15'\n",
    "\n",
    "    # 下面是参数的填充，参考图10\n",
    "    keyvalue['m'] = 'QueryData'\n",
    "    keyvalue['dbcode'] = 'hgnd'\n",
    "    keyvalue['rowcode'] = 'zb'\n",
    "    keyvalue['colcode'] = 'sj'\n",
    "    keyvalue['wds'] = '[]'\n",
    "    keyvalue['dfwds'] = '[{\"wdcode\":\"zb\",\"valuecode\":\"A0301\"}]'\n",
    "    keyvalue['k1'] = str(gettime())\n",
    "\n",
    "    # 发出请求，使用get方法，这里使用我们自定义的头部和参数\n",
    "    # r = requests.get(url, headers=headers, params=keyvalue)\n",
    "    # 建立一个Session\n",
    "    s = requests.session()\n",
    "    # 在Session基础上进行一次请求\n",
    "    r = s.get(url, params=keyvalue, headers=headers)\n",
    "    # 打印返回过来的状态码\n",
    "    print(r.status_code)\n",
    "    # 修改dfwds字段内容\n",
    "    keyvalue['dfwds'] = '[{\"wdcode\":\"sj\",\"valuecode\":\"2000\"}]'\n",
    "    # 再次进行请求\n",
    "    r = s.get(url, params=keyvalue, headers=headers)\n",
    "    # 此时我们就能获取到我们搜索到的数据了\n",
    "    print(r.text)"
   ]
  },
  {
   "cell_type": "code",
   "execution_count": 22,
   "metadata": {},
   "outputs": [],
   "source": [
    "import pandas as pd\n",
    "data = pd.read_excel(\"F:\\Course\\Ad Design Project\\Adanced design Project\\Layout phase\\VeryIMMaterials\\Dist_between_2_ASVs_Reservior_No_shutdown\\Dist_between_2_ASVs_2km_Reservior_No_Shutdown.xlsx\",sheet_name='Rupture Data')"
   ]
  },
  {
   "cell_type": "code",
   "execution_count": 25,
   "metadata": {},
   "outputs": [
    {
     "data": {
      "text/html": [
       "<div>\n",
       "<style scoped>\n",
       "    .dataframe tbody tr th:only-of-type {\n",
       "        vertical-align: middle;\n",
       "    }\n",
       "\n",
       "    .dataframe tbody tr th {\n",
       "        vertical-align: top;\n",
       "    }\n",
       "\n",
       "    .dataframe thead th {\n",
       "        text-align: right;\n",
       "    }\n",
       "</style>\n",
       "<table border=\"1\" class=\"dataframe\">\n",
       "  <thead>\n",
       "    <tr style=\"text-align: right;\">\n",
       "      <th></th>\n",
       "      <th>Time (s)</th>\n",
       "      <th>Discharge Rate (kg/s)</th>\n",
       "      <th>Cumulative Mass (kg)</th>\n",
       "      <th>Pexit 1 (Bara)</th>\n",
       "      <th>Pexit 2 (Bara)</th>\n",
       "      <th>Temp 1 (K)</th>\n",
       "      <th>Temp 2 (K)</th>\n",
       "      <th>Density 1 (kg/m3)</th>\n",
       "      <th>Density 2 (kg/m3)</th>\n",
       "      <th>Velocity 1 (m/s)</th>\n",
       "      <th>Velocity 2 (m/s)</th>\n",
       "    </tr>\n",
       "  </thead>\n",
       "  <tbody>\n",
       "    <tr>\n",
       "      <td>0</td>\n",
       "      <td>0.0</td>\n",
       "      <td>0.0000</td>\n",
       "      <td>0.0000</td>\n",
       "      <td>39.9958</td>\n",
       "      <td>39.9958</td>\n",
       "      <td>293.1447</td>\n",
       "      <td>293.1447</td>\n",
       "      <td>67.8854</td>\n",
       "      <td>67.8854</td>\n",
       "      <td>0.2655</td>\n",
       "      <td>0.2655</td>\n",
       "    </tr>\n",
       "    <tr>\n",
       "      <td>1</td>\n",
       "      <td>0.0</td>\n",
       "      <td>1180.0537</td>\n",
       "      <td>0.0000</td>\n",
       "      <td>22.5923</td>\n",
       "      <td>22.5923</td>\n",
       "      <td>252.5346</td>\n",
       "      <td>252.5346</td>\n",
       "      <td>42.2521</td>\n",
       "      <td>42.2521</td>\n",
       "      <td>253.1873</td>\n",
       "      <td>253.1873</td>\n",
       "    </tr>\n",
       "    <tr>\n",
       "      <td>2</td>\n",
       "      <td>0.1</td>\n",
       "      <td>628.1808</td>\n",
       "      <td>62.8181</td>\n",
       "      <td>13.7986</td>\n",
       "      <td>13.7726</td>\n",
       "      <td>231.6360</td>\n",
       "      <td>231.5740</td>\n",
       "      <td>25.6056</td>\n",
       "      <td>25.5871</td>\n",
       "      <td>220.4379</td>\n",
       "      <td>220.4254</td>\n",
       "    </tr>\n",
       "    <tr>\n",
       "      <td>3</td>\n",
       "      <td>0.2</td>\n",
       "      <td>609.6585</td>\n",
       "      <td>123.7839</td>\n",
       "      <td>12.4013</td>\n",
       "      <td>12.3740</td>\n",
       "      <td>235.4435</td>\n",
       "      <td>235.3571</td>\n",
       "      <td>21.5346</td>\n",
       "      <td>21.4889</td>\n",
       "      <td>241.2826</td>\n",
       "      <td>241.2221</td>\n",
       "    </tr>\n",
       "    <tr>\n",
       "      <td>4</td>\n",
       "      <td>0.2</td>\n",
       "      <td>609.6585</td>\n",
       "      <td>123.7839</td>\n",
       "      <td>12.4013</td>\n",
       "      <td>12.3740</td>\n",
       "      <td>235.4435</td>\n",
       "      <td>235.3571</td>\n",
       "      <td>21.5346</td>\n",
       "      <td>21.4889</td>\n",
       "      <td>241.2826</td>\n",
       "      <td>241.2221</td>\n",
       "    </tr>\n",
       "    <tr>\n",
       "      <td>...</td>\n",
       "      <td>...</td>\n",
       "      <td>...</td>\n",
       "      <td>...</td>\n",
       "      <td>...</td>\n",
       "      <td>...</td>\n",
       "      <td>...</td>\n",
       "      <td>...</td>\n",
       "      <td>...</td>\n",
       "      <td>...</td>\n",
       "      <td>...</td>\n",
       "      <td>...</td>\n",
       "    </tr>\n",
       "    <tr>\n",
       "      <td>549</td>\n",
       "      <td>92.0</td>\n",
       "      <td>42.7426</td>\n",
       "      <td>12303.5007</td>\n",
       "      <td>1.1570</td>\n",
       "      <td>2.0338</td>\n",
       "      <td>293.0632</td>\n",
       "      <td>272.2323</td>\n",
       "      <td>1.3432</td>\n",
       "      <td>2.5657</td>\n",
       "      <td>1.0638</td>\n",
       "      <td>294.4158</td>\n",
       "    </tr>\n",
       "    <tr>\n",
       "      <td>550</td>\n",
       "      <td>94.0</td>\n",
       "      <td>41.7717</td>\n",
       "      <td>12387.0441</td>\n",
       "      <td>1.1570</td>\n",
       "      <td>1.9950</td>\n",
       "      <td>293.0677</td>\n",
       "      <td>272.4625</td>\n",
       "      <td>1.3431</td>\n",
       "      <td>2.5137</td>\n",
       "      <td>0.9680</td>\n",
       "      <td>294.4916</td>\n",
       "    </tr>\n",
       "    <tr>\n",
       "      <td>551</td>\n",
       "      <td>96.0</td>\n",
       "      <td>40.8211</td>\n",
       "      <td>12468.6863</td>\n",
       "      <td>1.1570</td>\n",
       "      <td>1.9511</td>\n",
       "      <td>293.0718</td>\n",
       "      <td>272.5504</td>\n",
       "      <td>1.3431</td>\n",
       "      <td>2.4566</td>\n",
       "      <td>0.8925</td>\n",
       "      <td>294.5369</td>\n",
       "    </tr>\n",
       "    <tr>\n",
       "      <td>552</td>\n",
       "      <td>98.0</td>\n",
       "      <td>39.8860</td>\n",
       "      <td>12548.4583</td>\n",
       "      <td>1.1570</td>\n",
       "      <td>1.9128</td>\n",
       "      <td>293.0756</td>\n",
       "      <td>272.7616</td>\n",
       "      <td>1.3431</td>\n",
       "      <td>2.4057</td>\n",
       "      <td>0.8300</td>\n",
       "      <td>294.7477</td>\n",
       "    </tr>\n",
       "    <tr>\n",
       "      <td>553</td>\n",
       "      <td>100.0</td>\n",
       "      <td>38.9705</td>\n",
       "      <td>12626.3994</td>\n",
       "      <td>1.1570</td>\n",
       "      <td>1.8701</td>\n",
       "      <td>293.0790</td>\n",
       "      <td>272.8312</td>\n",
       "      <td>1.3431</td>\n",
       "      <td>2.3504</td>\n",
       "      <td>0.7771</td>\n",
       "      <td>294.6870</td>\n",
       "    </tr>\n",
       "  </tbody>\n",
       "</table>\n",
       "<p>554 rows × 11 columns</p>\n",
       "</div>"
      ],
      "text/plain": [
       "     Time (s)  Discharge Rate (kg/s)  Cumulative Mass (kg)  Pexit 1 (Bara)  \\\n",
       "0         0.0                 0.0000                0.0000         39.9958   \n",
       "1         0.0              1180.0537                0.0000         22.5923   \n",
       "2         0.1               628.1808               62.8181         13.7986   \n",
       "3         0.2               609.6585              123.7839         12.4013   \n",
       "4         0.2               609.6585              123.7839         12.4013   \n",
       "..        ...                    ...                   ...             ...   \n",
       "549      92.0                42.7426            12303.5007          1.1570   \n",
       "550      94.0                41.7717            12387.0441          1.1570   \n",
       "551      96.0                40.8211            12468.6863          1.1570   \n",
       "552      98.0                39.8860            12548.4583          1.1570   \n",
       "553     100.0                38.9705            12626.3994          1.1570   \n",
       "\n",
       "     Pexit 2 (Bara)  Temp 1 (K)  Temp 2 (K)  Density 1 (kg/m3)  \\\n",
       "0           39.9958    293.1447    293.1447            67.8854   \n",
       "1           22.5923    252.5346    252.5346            42.2521   \n",
       "2           13.7726    231.6360    231.5740            25.6056   \n",
       "3           12.3740    235.4435    235.3571            21.5346   \n",
       "4           12.3740    235.4435    235.3571            21.5346   \n",
       "..              ...         ...         ...                ...   \n",
       "549          2.0338    293.0632    272.2323             1.3432   \n",
       "550          1.9950    293.0677    272.4625             1.3431   \n",
       "551          1.9511    293.0718    272.5504             1.3431   \n",
       "552          1.9128    293.0756    272.7616             1.3431   \n",
       "553          1.8701    293.0790    272.8312             1.3431   \n",
       "\n",
       "     Density 2 (kg/m3)  Velocity 1 (m/s)  Velocity 2 (m/s)  \n",
       "0              67.8854            0.2655            0.2655  \n",
       "1              42.2521          253.1873          253.1873  \n",
       "2              25.5871          220.4379          220.4254  \n",
       "3              21.4889          241.2826          241.2221  \n",
       "4              21.4889          241.2826          241.2221  \n",
       "..                 ...               ...               ...  \n",
       "549             2.5657            1.0638          294.4158  \n",
       "550             2.5137            0.9680          294.4916  \n",
       "551             2.4566            0.8925          294.5369  \n",
       "552             2.4057            0.8300          294.7477  \n",
       "553             2.3504            0.7771          294.6870  \n",
       "\n",
       "[554 rows x 11 columns]"
      ]
     },
     "execution_count": 25,
     "metadata": {},
     "output_type": "execute_result"
    }
   ],
   "source": [
    "data.head(554)"
   ]
  },
  {
   "cell_type": "code",
   "execution_count": 26,
   "metadata": {},
   "outputs": [
    {
     "data": {
      "text/html": [
       "<div>\n",
       "<style scoped>\n",
       "    .dataframe tbody tr th:only-of-type {\n",
       "        vertical-align: middle;\n",
       "    }\n",
       "\n",
       "    .dataframe tbody tr th {\n",
       "        vertical-align: top;\n",
       "    }\n",
       "\n",
       "    .dataframe thead th {\n",
       "        text-align: right;\n",
       "    }\n",
       "</style>\n",
       "<table border=\"1\" class=\"dataframe\">\n",
       "  <thead>\n",
       "    <tr style=\"text-align: right;\">\n",
       "      <th></th>\n",
       "      <th>Time (s)</th>\n",
       "      <th>Discharge Rate (kg/s)</th>\n",
       "      <th>Cumulative Mass (kg)</th>\n",
       "      <th>Pexit 1 (Bara)</th>\n",
       "      <th>Pexit 2 (Bara)</th>\n",
       "      <th>Temp 1 (K)</th>\n",
       "      <th>Temp 2 (K)</th>\n",
       "      <th>Density 1 (kg/m3)</th>\n",
       "      <th>Density 2 (kg/m3)</th>\n",
       "      <th>Velocity 1 (m/s)</th>\n",
       "      <th>Velocity 2 (m/s)</th>\n",
       "    </tr>\n",
       "  </thead>\n",
       "  <tbody>\n",
       "    <tr>\n",
       "      <td>count</td>\n",
       "      <td>554.000000</td>\n",
       "      <td>554.000000</td>\n",
       "      <td>554.000000</td>\n",
       "      <td>554.000000</td>\n",
       "      <td>554.000000</td>\n",
       "      <td>554.000000</td>\n",
       "      <td>554.000000</td>\n",
       "      <td>554.000000</td>\n",
       "      <td>554.000000</td>\n",
       "      <td>554.000000</td>\n",
       "      <td>554.000000</td>\n",
       "    </tr>\n",
       "    <tr>\n",
       "      <td>mean</td>\n",
       "      <td>23.610830</td>\n",
       "      <td>220.254032</td>\n",
       "      <td>5240.308144</td>\n",
       "      <td>4.998674</td>\n",
       "      <td>5.362190</td>\n",
       "      <td>268.013234</td>\n",
       "      <td>266.615016</td>\n",
       "      <td>6.895543</td>\n",
       "      <td>7.372436</td>\n",
       "      <td>274.070756</td>\n",
       "      <td>284.984168</td>\n",
       "    </tr>\n",
       "    <tr>\n",
       "      <td>std</td>\n",
       "      <td>20.498052</td>\n",
       "      <td>120.333537</td>\n",
       "      <td>3356.582133</td>\n",
       "      <td>3.104750</td>\n",
       "      <td>2.740964</td>\n",
       "      <td>8.683361</td>\n",
       "      <td>6.452936</td>\n",
       "      <td>5.081280</td>\n",
       "      <td>4.656870</td>\n",
       "      <td>47.287798</td>\n",
       "      <td>15.001453</td>\n",
       "    </tr>\n",
       "    <tr>\n",
       "      <td>min</td>\n",
       "      <td>0.000000</td>\n",
       "      <td>0.000000</td>\n",
       "      <td>0.000000</td>\n",
       "      <td>1.157000</td>\n",
       "      <td>1.870100</td>\n",
       "      <td>231.636000</td>\n",
       "      <td>231.574000</td>\n",
       "      <td>1.343100</td>\n",
       "      <td>2.350400</td>\n",
       "      <td>0.265500</td>\n",
       "      <td>0.265500</td>\n",
       "    </tr>\n",
       "    <tr>\n",
       "      <td>25%</td>\n",
       "      <td>5.525000</td>\n",
       "      <td>142.713700</td>\n",
       "      <td>2043.940425</td>\n",
       "      <td>3.198225</td>\n",
       "      <td>3.719800</td>\n",
       "      <td>264.603300</td>\n",
       "      <td>264.625450</td>\n",
       "      <td>4.102175</td>\n",
       "      <td>4.789725</td>\n",
       "      <td>279.212600</td>\n",
       "      <td>283.126175</td>\n",
       "    </tr>\n",
       "    <tr>\n",
       "      <td>50%</td>\n",
       "      <td>19.350000</td>\n",
       "      <td>192.511650</td>\n",
       "      <td>5168.679000</td>\n",
       "      <td>4.559000</td>\n",
       "      <td>4.553350</td>\n",
       "      <td>268.843150</td>\n",
       "      <td>268.830550</td>\n",
       "      <td>5.964700</td>\n",
       "      <td>5.956950</td>\n",
       "      <td>287.629750</td>\n",
       "      <td>288.838800</td>\n",
       "    </tr>\n",
       "    <tr>\n",
       "      <td>75%</td>\n",
       "      <td>36.350000</td>\n",
       "      <td>281.250950</td>\n",
       "      <td>8069.759725</td>\n",
       "      <td>6.493600</td>\n",
       "      <td>6.481800</td>\n",
       "      <td>270.508525</td>\n",
       "      <td>270.720825</td>\n",
       "      <td>8.823425</td>\n",
       "      <td>8.805525</td>\n",
       "      <td>290.000425</td>\n",
       "      <td>290.835725</td>\n",
       "    </tr>\n",
       "    <tr>\n",
       "      <td>max</td>\n",
       "      <td>100.000000</td>\n",
       "      <td>1180.053700</td>\n",
       "      <td>12626.399400</td>\n",
       "      <td>39.995800</td>\n",
       "      <td>39.995800</td>\n",
       "      <td>293.144700</td>\n",
       "      <td>293.144700</td>\n",
       "      <td>67.885400</td>\n",
       "      <td>67.885400</td>\n",
       "      <td>296.231100</td>\n",
       "      <td>294.747700</td>\n",
       "    </tr>\n",
       "  </tbody>\n",
       "</table>\n",
       "</div>"
      ],
      "text/plain": [
       "         Time (s)  Discharge Rate (kg/s)  Cumulative Mass (kg)  \\\n",
       "count  554.000000             554.000000            554.000000   \n",
       "mean    23.610830             220.254032           5240.308144   \n",
       "std     20.498052             120.333537           3356.582133   \n",
       "min      0.000000               0.000000              0.000000   \n",
       "25%      5.525000             142.713700           2043.940425   \n",
       "50%     19.350000             192.511650           5168.679000   \n",
       "75%     36.350000             281.250950           8069.759725   \n",
       "max    100.000000            1180.053700          12626.399400   \n",
       "\n",
       "       Pexit 1 (Bara)  Pexit 2 (Bara)  Temp 1 (K)  Temp 2 (K)  \\\n",
       "count      554.000000      554.000000  554.000000  554.000000   \n",
       "mean         4.998674        5.362190  268.013234  266.615016   \n",
       "std          3.104750        2.740964    8.683361    6.452936   \n",
       "min          1.157000        1.870100  231.636000  231.574000   \n",
       "25%          3.198225        3.719800  264.603300  264.625450   \n",
       "50%          4.559000        4.553350  268.843150  268.830550   \n",
       "75%          6.493600        6.481800  270.508525  270.720825   \n",
       "max         39.995800       39.995800  293.144700  293.144700   \n",
       "\n",
       "       Density 1 (kg/m3)  Density 2 (kg/m3)  Velocity 1 (m/s)  \\\n",
       "count         554.000000         554.000000        554.000000   \n",
       "mean            6.895543           7.372436        274.070756   \n",
       "std             5.081280           4.656870         47.287798   \n",
       "min             1.343100           2.350400          0.265500   \n",
       "25%             4.102175           4.789725        279.212600   \n",
       "50%             5.964700           5.956950        287.629750   \n",
       "75%             8.823425           8.805525        290.000425   \n",
       "max            67.885400          67.885400        296.231100   \n",
       "\n",
       "       Velocity 2 (m/s)  \n",
       "count        554.000000  \n",
       "mean         284.984168  \n",
       "std           15.001453  \n",
       "min            0.265500  \n",
       "25%          283.126175  \n",
       "50%          288.838800  \n",
       "75%          290.835725  \n",
       "max          294.747700  "
      ]
     },
     "execution_count": 26,
     "metadata": {},
     "output_type": "execute_result"
    }
   ],
   "source": [
    "data.describe()"
   ]
  },
  {
   "cell_type": "code",
   "execution_count": 28,
   "metadata": {},
   "outputs": [],
   "source": [
    "import numpy as np # linear algebra\n",
    "import pandas as pd # data processing, CSV file I/O (e.g. pd.read_csv)\n",
    "import matplotlib.pyplot as plt\n",
    "import matplotlib.gridspec as gridspec\n",
    "from mpl_toolkits.mplot3d import Axes3D\n",
    "import seaborn as sns\n",
    "color = sns.color_palette()\n",
    "from sklearn.linear_model import LinearRegression\n",
    "from sklearn.tree import DecisionTreeRegressor, export_graphviz\n",
    "from sklearn.ensemble import RandomForestRegressor\n",
    "from sklearn.ensemble import GradientBoostingRegressor\n",
    "from sklearn.model_selection import GridSearchCV, train_test_split, KFold\n",
    "from sklearn.preprocessing import StandardScaler\n",
    "from sklearn.ensemble.partial_dependence import plot_partial_dependence\n",
    "from sklearn.ensemble.partial_dependence import partial_dependence\n",
    "from scipy.stats.stats import pearsonr"
   ]
  },
  {
   "cell_type": "code",
   "execution_count": 29,
   "metadata": {},
   "outputs": [],
   "source": [
    "from IPython.display import Image\n",
    "import pydotplus"
   ]
  },
  {
   "cell_type": "code",
   "execution_count": 37,
   "metadata": {},
   "outputs": [
    {
     "data": {
      "image/png": "[encoded data removed]",
      "text/plain": [
       "<Figure size 432x288 with 2 Axes>"
      ]
     },
     "metadata": {},
     "output_type": "display_data"
    }
   ],
   "source": [
    "sns.set_style(\"dark\")\n",
    "def plot_corr(predictors):\n",
    "    predictors = predictors[:]\n",
    "    mcorr = data[predictors].corr()\n",
    "    mask = np.zeros_like(mcorr, dtype=np.bool)\n",
    "    mask[np.triu_indices_from(mask)] = True\n",
    "    cmap = sns.diverging_palette(220, 10, as_cmap=True)\n",
    "    g = sns.heatmap(mcorr, mask=mask, cmap=cmap, square=True, annot=True, fmt='0.2f')\n",
    "    g.set_xticklabels(predictors, rotation=90)\n",
    "    g.set_yticklabels(reversed(predictors))\n",
    "    plt.show()\n",
    "plot_corr([\"Discharge Rate (kg/s)\",\"Cumulative Mass (kg)\",\"Pexit 1 (Bara)\",\"Pexit 2 (Bara)\",\"Temp 1 (K)\",\"Temp 2 (K)\",\"Density 1 (kg/m3)\",\"Velocity 1 (m/s)\",\"Velocity 2 (m/s)\"])"
   ]
  },
  {
   "cell_type": "markdown",
   "metadata": {},
   "source": [
    "Augmented assignments have three advantages:*\n",
    "• There’s less for you to type. Need I say more?\n",
    "• The left side only has to be evaluated once. In X += Y, X may be a complicated object\n",
    "expression. In the augmented form, it only has to be evaluated once. However, in\n",
    "the long form, X = X + Y, X appears twice and must be run twice. Because of this,\n",
    "augmented assignments usually run faster.\n",
    "• The optimal technique is automatically chosen. That is, for objects that support\n",
    "in-place changes, the augmented forms automatically perform in-place change operations instead of slower copies."
   ]
  },
  {
   "cell_type": "code",
   "execution_count": 57,
   "metadata": {},
   "outputs": [
    {
     "name": "stdout",
     "output_type": "stream",
     "text": [
      "[1, 2, 3]\n",
      "Running time: 0.0 Seconds\n"
     ]
    }
   ],
   "source": [
    "import time\n",
    "start =time.time()\n",
    "#中间写上代码块\n",
    "L = [1,2]\n",
    "L = L + [3] # Concatenation\n",
    "print(L)\n",
    "end = time.time()\n",
    "print('Running time: %s Seconds'%(end-start))"
   ]
  },
  {
   "cell_type": "code",
   "execution_count": 58,
   "metadata": {},
   "outputs": [
    {
     "name": "stdout",
     "output_type": "stream",
     "text": [
      "None\n",
      "Running time: 0.0 Seconds\n"
     ]
    }
   ],
   "source": [
    "import time\n",
    "start =time.time()\n",
    "#中间写上代码块\n",
    "L = [1,2]\n",
    "L = L.append(3) # Concatenation\n",
    "print(L)\n",
    "end = time.time()\n",
    "print('Running time: %s Seconds'%(end-start))"
   ]
  },
  {
   "cell_type": "markdown",
   "metadata": {},
   "source": [
    "C/C++ programmers take note: although Python now supports statements like X += Y, it still does not have\n",
    "C’s auto-increment/decrement operators (e.g., X++, −−X). These don’t quite map to the Python object model\n",
    "because Python has no notion of in-place changes to immutable objects like numbers."
   ]
  },
  {
   "cell_type": "code",
   "execution_count": 59,
   "metadata": {},
   "outputs": [
    {
     "name": "stdout",
     "output_type": "stream",
     "text": [
      "Running time: 7.229999937408138e-05 Seconds\n"
     ]
    }
   ],
   "source": [
    "import timeit\n",
    "start=timeit.default_timer()\n",
    "\n",
    "#中间写代码块\n",
    "\n",
    "L = [1,2]\n",
    "L = L.append(3) # Concatenation\n",
    "\n",
    "end=timeit.default_timer()\n",
    "print('Running time: %s Seconds'%(end-start))"
   ]
  },
  {
   "cell_type": "code",
   "execution_count": 60,
   "metadata": {},
   "outputs": [
    {
     "name": "stdout",
     "output_type": "stream",
     "text": [
      "Running time: 7.509999886678997e-05 Seconds\n"
     ]
    }
   ],
   "source": [
    "import timeit\n",
    "start=timeit.default_timer()\n",
    "\n",
    "#中间写代码块\n",
    "\n",
    "L = [1,2]\n",
    "L = L + [3] # Concatenation\n",
    "\n",
    "end=timeit.default_timer()\n",
    "print('Running time: %s Seconds'%(end-start))"
   ]
  },
  {
   "cell_type": "markdown",
   "metadata": {},
   "source": [
    "# And to add a set of items to the end, we can either concatenate again or call the list extend method:"
   ]
  },
  {
   "cell_type": "code",
   "execution_count": 65,
   "metadata": {},
   "outputs": [
    {
     "name": "stdout",
     "output_type": "stream",
     "text": [
      "[1, 2, 3, 4, 5, 6]\n",
      "Running time: 0.00024709999888727907 Seconds\n"
     ]
    }
   ],
   "source": [
    "import timeit\n",
    "start = timeit.default_timer()\n",
    "\n",
    "L= [1,2,3,4]\n",
    "L = L + [5,6]\n",
    "print(L)\n",
    "\n",
    "end = timeit.default_timer()\n",
    "print(\"Running time: %s Seconds\"%(end-start))"
   ]
  },
  {
   "cell_type": "code",
   "execution_count": 66,
   "metadata": {},
   "outputs": [
    {
     "name": "stdout",
     "output_type": "stream",
     "text": [
      "[1, 2, 3, 4, 5, 6]\n",
      "Running time: 0.00022110000099928584 Seconds\n"
     ]
    }
   ],
   "source": [
    "import timeit\n",
    "start = timeit.default_timer()\n",
    "\n",
    "L= [1,2,3,4]\n",
    "L += [5,6]\n",
    "print(L)\n",
    "\n",
    "end = timeit.default_timer()\n",
    "print(\"Running time: %s Seconds\"%(end-start))"
   ]
  },
  {
   "cell_type": "code",
   "execution_count": 67,
   "metadata": {},
   "outputs": [
    {
     "name": "stdout",
     "output_type": "stream",
     "text": [
      "[1, 2, 3, 4, 5, 6]\n",
      "Running time: 0.00042180000127700623 Seconds\n"
     ]
    }
   ],
   "source": [
    "import timeit\n",
    "start = timeit.default_timer()\n",
    "\n",
    "L = [1,2,3,4]\n",
    "L.extend([5,6])\n",
    "print(L)\n",
    "\n",
    "end = timeit.default_timer()\n",
    "print(\"Running time: %s Seconds\"%(end-start))"
   ]
  },
  {
   "cell_type": "markdown",
   "metadata": {},
   "source": [
    "# ？ When we use augmented assignment to extend a list, we can forget these details—forexample, Python automatically calls the quicker extend method instead of using the slower concatenation operation implied by "
   ]
  },
  {
   "cell_type": "code",
   "execution_count": 13,
   "metadata": {},
   "outputs": [],
   "source": [
    "import pandas as pd\n",
    "df = pd.DataFrame([[\"\"\"def all_unique(lst):\n",
    "    return len(lst) == len(set(lst))\n",
    "\n",
    "\n",
    "x = [1,1,2,2,3,2,3,4,5,6]\n",
    "y = [1,2,3,4,5]\n",
    "print(all_unique(x)) # False\n",
    "print(all_unique(y)) # True\n",
    "print(x,y)\"\"\"],[\"\"\"from collections import Counter\n",
    "\n",
    "def anagram(first, second):\n",
    "    return Counter(first) == Counter(second)\n",
    "\n",
    "\n",
    "print(anagram(\"abcd3\", \"3acdb\")) # True\"\"\"],[\"\"\"import sys \n",
    "\n",
    "variable = 30 \n",
    "print(sys.getsizeof(variable)) # 24\"\"\"],[\"\"\"def byte_size(string):\n",
    "    return(len(string.encode( 'utf-8' )))\n",
    "\n",
    "\n",
    "print(byte_size( 'KDA' )) # 4\n",
    "print(byte_size( 'Hello World' )) # 11   \"\"\"],[\"\"\"n = 2; \n",
    "s =\"Programming\"; \n",
    "\n",
    "print(s * n);\n",
    "# ProgrammingProgramming \"\"\"],[\"\"\"s = \"programming is awesome\"\n",
    "\n",
    "print(s.title())\n",
    "# Programming Is Awesome\"\"\"],[\"\"\"\n",
    "\n",
    "from math import ceil\n",
    "\n",
    "def chunk(lst, size):\n",
    "    return list(\n",
    "        map(lambda x: lst[x * size:x * size + size],\n",
    "            list(range(0, ceil(len(lst) / size)))))\n",
    "\n",
    "print(chunk([1,2,3,4,5],2))\n",
    "# [[1,2],[3,4],5]\"\"\"],[\"\"\"def compact(lst):\n",
    "    return list(filter(bool, lst))\n",
    "\n",
    "\n",
    "print(compact([0, 1, False, 2, 3,  5 ,  s , 34]))\n",
    "# [ 1, 2, 3,  a ,  s , 34 ]\"\"\"],[\"\"\"array = [[ 'a' ,  'b' ], [ 'c' ,  'd' ], [ 'e' ,  'f' ]]\n",
    "transposed = zip(*array)\n",
    "print(transposed)\n",
    "# [( a ,  c ,  e ), ( b ,  d ,  f )]\"\"\"],[\"\"\"a = 3\n",
    "print( 2 < a < 8) # True\n",
    "print(1 == a < 2) # False\"\"\"],[\"\"\"hobbies = [\"basketball\", \"football\", \"swimming\"]\n",
    "\n",
    "print(\"My hobbies are: \" + \", \".join(hobbies))\n",
    "# My hobbies are: basketball, football, swimming\"\"\"],[\"\"\"import re\n",
    "\n",
    "def count_vowels(str):\n",
    "    return len(re.findall('[aeiou]', str, re.IGNORECASE))\n",
    "\n",
    "print(count_vowels( 'foobar' )) # 3\n",
    "print(count_vowels( 'gym' )) # 0\"\"\"],[\"\"\"def decapitalize(string):\n",
    "    return string[:1].lower() + string[1:]\n",
    "\n",
    "\n",
    "print(decapitalize( 'FooBar' )) #  fooBar\n",
    "print(decapitalize( 'FooBar' )) #  fooBar\"\"\"],[\"\"\"def spread(arg):\n",
    "    ret = []\n",
    "    for i in arg:\n",
    "        if isinstance(i, list):\n",
    "            ret.extend(i)\n",
    "        else:\n",
    "            ret.append(i)\n",
    "    return ret\n",
    "\n",
    "def deep_flatten(lst):\n",
    "    result = []\n",
    "    result.extend(\n",
    "        spread(list(map(lambda x: deep_flatten(x) if type(x) == list else x, lst))))\n",
    "    return result\n",
    "\n",
    "\n",
    "print(deep_flatten([1, [2], [[3], 4], 5])) # [1,2,3,4,5]\"\"\"],[\"\"\"def difference(a, b):\n",
    "    set_a = set(a)\n",
    "    set_b = set(b)\n",
    "    comparison = set_a.difference(set_b)\n",
    "    return list(comparison)\n",
    "\n",
    "\n",
    "print(difference([1,2,3], [1,2,4])) # [3]\"\"\"],[\"\"\"def difference_by(a, b, fn):\n",
    "    b = set(map(fn, b))\n",
    "    return [item for item in a if fn(item) not in b]\n",
    "\n",
    "\n",
    "from math import floor\n",
    "print(difference_by([2.1, 1.2], [2.3, 3.4],floor)) # [1.2]\n",
    "print(difference_by([{  'x' : 2 }, {  'x' : 1 }], [{  'x' : 1 }], lambda v : v[ 'x' ]))\n",
    "# [ { x: 2 } ]\n",
    "\"\"\"],[\"\"\"def add(a, b):\n",
    "    return a + b\n",
    "\n",
    "def subtract(a, b):\n",
    "    return a - b\n",
    "\n",
    "a, b = 4, 5\n",
    "print((subtract if a > b else add)(a, b)) # 9 \"\"\"],[\"\"\"def has_duplicates(lst):\n",
    "    return len(lst) != len(set(lst))\n",
    "\n",
    "\n",
    "x = [1,2,3,4,5,5]\n",
    "y = [1,2,3,4,5]\n",
    "print(has_duplicates(x)) # True\n",
    "print(has_duplicates(y)) # False\"\"\"],[\"\"\"def merge_two_dicts(a, b):\n",
    "    c = a.copy()   # make a copy of a \n",
    "    c.update(b)    # modify keys and values of a with the ones from b\n",
    "    return c\n",
    "\n",
    "\n",
    "a = {  'x' : 1,  'y' : 2}\n",
    "b = {  'y' : 3,  'z' : 4}\n",
    "print(merge_two_dicts(a, b))\n",
    "# { y : 3,  x : 1,  z : 4}\n",
    "\"\"\"],[\"\"\"def to_dictionary(keys, values):\n",
    "    return dict(zip(keys, values))\n",
    "\n",
    "\n",
    "keys = [\"a\", \"b\", \"c\"]    \n",
    "values = [2, 3, 4]\n",
    "print(to_dictionary(keys, values))\n",
    "# { a : 2,  c : 4,  b : 3}\"\"\"],[\"\"\"lst = [\"a\", \"b\", \"c\", \"d\"]\n",
    "for index, element in enumerate(lst): \n",
    "    print(\"Value\", element, \"Index \", index, )\n",
    "\n",
    "# ( Value ,  a ,  Index  , 0)\n",
    "# ( Value ,  b ,  Index  , 1)\n",
    "#( Value ,  c ,  Index  , 2)\n",
    "# ( Value ,  d ,  Index  , 3)\"\"\"],[\"\"\"import time\n",
    "\n",
    "start_time = time.time()\n",
    "\n",
    "a = 1\n",
    "b = 2\n",
    "c = a + b\n",
    "print(c) #3\n",
    "\n",
    "end_time = time.time()\n",
    "total_time = end_time - start_time\n",
    "print(\"Time: \", total_time)\n",
    "\n",
    "# ( Time:  , 1.1205673217773438e-05)\"\"\"],[\"\"\"try:\n",
    "    2*3\n",
    "except TypeError:\n",
    "    print(\"An exception was raised\")\n",
    "else:\n",
    "    print(\"Thank God, no exceptions were raised.\")\n",
    "\n",
    "#Thank God, no exceptions were raised.\"\"\"],[\"\"\"def most_frequent(list):\n",
    "    return max(set(list), key = list.count)\n",
    "\n",
    "\n",
    "list = [1,2,1,2,3,2,1,4,2]\n",
    "print(most_frequent(list))\n",
    "del list\"\"\"],[\"\"\"# def palindrome(string):\n",
    "  #  from re import sub\n",
    "  #  s = sub('\\w',[W_], string.lower())\n",
    "   # return s == s[::-1]\n",
    "\n",
    "\n",
    "#print(palindrome( 'taco cat' )) # True\"\"\"],[\"\"\"import operator\n",
    "action = {\n",
    "    \"+\": operator.add,\n",
    "    \"-\": operator.sub,\n",
    "    \"/\": operator.truediv,\n",
    "    \"*\": operator.mul,\n",
    "    \"**\": pow\n",
    "}\n",
    "print(action[\"-\"](50, 25)) # 25\"\"\"],[\"\"\"from copy import deepcopy\n",
    "from random import randint\n",
    "\n",
    "def shuffle(lst):\n",
    "    temp_lst = deepcopy(lst)\n",
    "    m = len(temp_lst)\n",
    "    while (m):\n",
    "        m -= 1\n",
    "        i = randint(0, m)\n",
    "        temp_lst[m], temp_lst[i] = temp_lst[i], temp_lst[m]\n",
    "    return temp_lst\n",
    "\n",
    "\n",
    "foo = [1,2,3]\n",
    "print(shuffle(foo)) # [2,3,1] , foo = [1,2,3]\"\"\"],[\"\"\"def spread(arg):\n",
    "    ret = []\n",
    "    for i in arg:\n",
    "        if isinstance(i, list):\n",
    "            ret.extend(i)\n",
    "        else:\n",
    "            ret.append(i)\n",
    "    return ret\n",
    "\n",
    "\n",
    "print(spread([1,2,3,[4,5,6],[7],8,9])) # [1,2,3,4,5,6,7,8,9]\"\"\"],[\"\"\"def swap(a, b):\n",
    "  return b, a\n",
    "\n",
    "a, b = -1, 14\n",
    "print(swap(a, b)) # (14, -1)\n",
    "print(spread([1,2,3,[4,5,6],[7],8,9])) # [1,2,3,4,5,6,7,8,9]\"\"\"],[\"\"\"d = { a : 1,  b : 2}\n",
    "\n",
    "print(d.get( c , 3)) # 3\"\"\"]],index=['重复元素判定','字符元素组成判定','内存占用','字节占用','打印 N 次字符串','大写第一个字母','分块','压缩','解包','链式对比','逗号连接','元音统计',\n",
    "                         '首字母小写','展开列表', '列表的差','通过函数取差','链式函数调用','检查重复项','合并两个字典','将两个列表转化为字典','使用枚举','执行时间',\n",
    "                         'Try else','元素频率','回文序列','不使用 if-else 的计算子','Shuffle','展开列表','交换值','字典默认值'],columns=['Python codes'])"
   ]
  },
  {
   "cell_type": "code",
   "execution_count": 146,
   "metadata": {},
   "outputs": [
    {
     "data": {
      "text/html": [
       "<div>\n",
       "<style scoped>\n",
       "    .dataframe tbody tr th:only-of-type {\n",
       "        vertical-align: middle;\n",
       "    }\n",
       "\n",
       "    .dataframe tbody tr th {\n",
       "        vertical-align: top;\n",
       "    }\n",
       "\n",
       "    .dataframe thead th {\n",
       "        text-align: right;\n",
       "    }\n",
       "</style>\n",
       "<table border=\"1\" class=\"dataframe\">\n",
       "  <thead>\n",
       "    <tr style=\"text-align: right;\">\n",
       "      <th></th>\n",
       "      <th>Python codes</th>\n",
       "    </tr>\n",
       "  </thead>\n",
       "  <tbody>\n",
       "    <tr>\n",
       "      <td>重复元素判定</td>\n",
       "      <td>def all_unique(lst):\\n    return len(lst) == l...</td>\n",
       "    </tr>\n",
       "    <tr>\n",
       "      <td>字符元素组成判定</td>\n",
       "      <td>from collections import Counter\\n\\ndef anagram...</td>\n",
       "    </tr>\n",
       "    <tr>\n",
       "      <td>内存占用</td>\n",
       "      <td>import sys \\n\\nvariable = 30 \\nprint(sys.getsi...</td>\n",
       "    </tr>\n",
       "    <tr>\n",
       "      <td>字节占用</td>\n",
       "      <td>def byte_size(string):\\n    return(len(string....</td>\n",
       "    </tr>\n",
       "    <tr>\n",
       "      <td>打印 N 次字符串</td>\n",
       "      <td>n = 2; \\ns =\"Programming\"; \\n\\nprint(s * n);\\n...</td>\n",
       "    </tr>\n",
       "    <tr>\n",
       "      <td>大写第一个字母</td>\n",
       "      <td>s = \"programming is awesome\"\\n\\nprint(s.title(...</td>\n",
       "    </tr>\n",
       "    <tr>\n",
       "      <td>分块</td>\n",
       "      <td>\\n\\nfrom math import ceil\\n\\ndef chunk(lst, si...</td>\n",
       "    </tr>\n",
       "    <tr>\n",
       "      <td>压缩</td>\n",
       "      <td>def compact(lst):\\n    return list(filter(bool...</td>\n",
       "    </tr>\n",
       "    <tr>\n",
       "      <td>解包</td>\n",
       "      <td>array = [[ 'a' ,  'b' ], [ 'c' ,  'd' ], [ 'e'...</td>\n",
       "    </tr>\n",
       "    <tr>\n",
       "      <td>链式对比</td>\n",
       "      <td>a = 3\\nprint( 2 &lt; a &lt; 8) # True\\nprint(1 == a ...</td>\n",
       "    </tr>\n",
       "    <tr>\n",
       "      <td>逗号连接</td>\n",
       "      <td>hobbies = [\"basketball\", \"football\", \"swimming...</td>\n",
       "    </tr>\n",
       "    <tr>\n",
       "      <td>元音统计</td>\n",
       "      <td>import re\\n\\ndef count_vowels(str):\\n    retur...</td>\n",
       "    </tr>\n",
       "    <tr>\n",
       "      <td>首字母小写</td>\n",
       "      <td>def decapitalize(string):\\n    return string[:...</td>\n",
       "    </tr>\n",
       "    <tr>\n",
       "      <td>展开列表</td>\n",
       "      <td>def spread(arg):\\n    ret = []\\n    for i in a...</td>\n",
       "    </tr>\n",
       "    <tr>\n",
       "      <td>列表的差</td>\n",
       "      <td>def difference(a, b):\\n    set_a = set(a)\\n   ...</td>\n",
       "    </tr>\n",
       "    <tr>\n",
       "      <td>通过函数取差</td>\n",
       "      <td>def difference_by(a, b, fn):\\n    b = set(map(...</td>\n",
       "    </tr>\n",
       "    <tr>\n",
       "      <td>链式函数调用</td>\n",
       "      <td>def add(a, b):\\n    return a + b\\n\\ndef subtra...</td>\n",
       "    </tr>\n",
       "    <tr>\n",
       "      <td>检查重复项</td>\n",
       "      <td>def has_duplicates(lst):\\n    return len(lst) ...</td>\n",
       "    </tr>\n",
       "    <tr>\n",
       "      <td>合并两个字典</td>\n",
       "      <td>def merge_two_dicts(a, b):\\n    c = a.copy()  ...</td>\n",
       "    </tr>\n",
       "    <tr>\n",
       "      <td>将两个列表转化为字典</td>\n",
       "      <td>def to_dictionary(keys, values):\\n    return d...</td>\n",
       "    </tr>\n",
       "    <tr>\n",
       "      <td>使用枚举</td>\n",
       "      <td>lst = [\"a\", \"b\", \"c\", \"d\"]\\nfor index, element...</td>\n",
       "    </tr>\n",
       "    <tr>\n",
       "      <td>执行时间</td>\n",
       "      <td>import time\\n\\nstart_time = time.time()\\n\\na =...</td>\n",
       "    </tr>\n",
       "    <tr>\n",
       "      <td>Try else</td>\n",
       "      <td>try:\\n    2*3\\nexcept TypeError:\\n    print(\"A...</td>\n",
       "    </tr>\n",
       "    <tr>\n",
       "      <td>元素频率</td>\n",
       "      <td>def most_frequent(list):\\n    return max(set(l...</td>\n",
       "    </tr>\n",
       "    <tr>\n",
       "      <td>回文序列</td>\n",
       "      <td># def palindrome(string):\\n  #  from re import...</td>\n",
       "    </tr>\n",
       "    <tr>\n",
       "      <td>不使用 if-else 的计算子</td>\n",
       "      <td>import operator\\naction = {\\n    \"+\": operator...</td>\n",
       "    </tr>\n",
       "    <tr>\n",
       "      <td>Shuffle</td>\n",
       "      <td>from copy import deepcopy\\nfrom random import ...</td>\n",
       "    </tr>\n",
       "    <tr>\n",
       "      <td>展开列表</td>\n",
       "      <td>def spread(arg):\\n    ret = []\\n    for i in a...</td>\n",
       "    </tr>\n",
       "    <tr>\n",
       "      <td>交换值</td>\n",
       "      <td>def swap(a, b):\\n  return b, a\\n\\na, b = -1, 1...</td>\n",
       "    </tr>\n",
       "    <tr>\n",
       "      <td>字典默认值</td>\n",
       "      <td>d = { a : 1,  b : 2}\\n\\nprint(d.get( c , 3)) # 3</td>\n",
       "    </tr>\n",
       "  </tbody>\n",
       "</table>\n",
       "</div>"
      ],
      "text/plain": [
       "                                                       Python codes\n",
       "重复元素判定            def all_unique(lst):\\n    return len(lst) == l...\n",
       "字符元素组成判定          from collections import Counter\\n\\ndef anagram...\n",
       "内存占用              import sys \\n\\nvariable = 30 \\nprint(sys.getsi...\n",
       "字节占用              def byte_size(string):\\n    return(len(string....\n",
       "打印 N 次字符串         n = 2; \\ns =\"Programming\"; \\n\\nprint(s * n);\\n...\n",
       "大写第一个字母           s = \"programming is awesome\"\\n\\nprint(s.title(...\n",
       "分块                \\n\\nfrom math import ceil\\n\\ndef chunk(lst, si...\n",
       "压缩                def compact(lst):\\n    return list(filter(bool...\n",
       "解包                array = [[ 'a' ,  'b' ], [ 'c' ,  'd' ], [ 'e'...\n",
       "链式对比              a = 3\\nprint( 2 < a < 8) # True\\nprint(1 == a ...\n",
       "逗号连接              hobbies = [\"basketball\", \"football\", \"swimming...\n",
       "元音统计              import re\\n\\ndef count_vowels(str):\\n    retur...\n",
       "首字母小写             def decapitalize(string):\\n    return string[:...\n",
       "展开列表              def spread(arg):\\n    ret = []\\n    for i in a...\n",
       "列表的差              def difference(a, b):\\n    set_a = set(a)\\n   ...\n",
       "通过函数取差            def difference_by(a, b, fn):\\n    b = set(map(...\n",
       "链式函数调用            def add(a, b):\\n    return a + b\\n\\ndef subtra...\n",
       "检查重复项             def has_duplicates(lst):\\n    return len(lst) ...\n",
       "合并两个字典            def merge_two_dicts(a, b):\\n    c = a.copy()  ...\n",
       "将两个列表转化为字典        def to_dictionary(keys, values):\\n    return d...\n",
       "使用枚举              lst = [\"a\", \"b\", \"c\", \"d\"]\\nfor index, element...\n",
       "执行时间              import time\\n\\nstart_time = time.time()\\n\\na =...\n",
       "Try else          try:\\n    2*3\\nexcept TypeError:\\n    print(\"A...\n",
       "元素频率              def most_frequent(list):\\n    return max(set(l...\n",
       "回文序列              # def palindrome(string):\\n  #  from re import...\n",
       "不使用 if-else 的计算子  import operator\\naction = {\\n    \"+\": operator...\n",
       "Shuffle           from copy import deepcopy\\nfrom random import ...\n",
       "展开列表              def spread(arg):\\n    ret = []\\n    for i in a...\n",
       "交换值               def swap(a, b):\\n  return b, a\\n\\na, b = -1, 1...\n",
       "字典默认值              d = { a : 1,  b : 2}\\n\\nprint(d.get( c , 3)) # 3"
      ]
     },
     "execution_count": 146,
     "metadata": {},
     "output_type": "execute_result"
    }
   ],
   "source": [
    "df.head(31)"
   ]
  },
  {
   "cell_type": "code",
   "execution_count": 25,
   "metadata": {},
   "outputs": [
    {
     "name": "stdout",
     "output_type": "stream",
     "text": [
      "False\n",
      "True\n",
      "[1, 1, 2, 2, 3, 2, 3, 4, 5, 6] [1, 2, 3, 4, 5]\n",
      "True\n",
      "28\n",
      "3\n",
      "11\n",
      "ProgrammingProgramming\n",
      "Programming Is Awesome\n",
      "[[1, 2], [3, 4], [5]]\n",
      "[1, 2, 3, 5, 'programming is awesome', 34]\n",
      "<zip object at 0x000002A44DE71F88>\n",
      "True\n",
      "False\n",
      "My hobbies are: basketball, football, swimming\n",
      "3\n",
      "0\n",
      "fooBar\n",
      "fooBar\n",
      "[1, 2, 3, 4, 5]\n",
      "[3]\n",
      "[1.2]\n",
      "[{'x': 2}]\n",
      "9\n",
      "True\n",
      "False\n",
      "{'x': 1, 'y': 3, 'z': 4}\n",
      "{'a': 2, 'b': 3, 'c': 4}\n",
      "Value a Index  0\n",
      "Value b Index  1\n",
      "Value c Index  2\n",
      "Value d Index  3\n",
      "3\n",
      "Time:  0.0\n",
      "Thank God, no exceptions were raised.\n",
      "2\n",
      "25\n",
      "[1, 2, 3]\n",
      "[1, 2, 3, 4, 5, 6, 7, 8, 9]\n",
      "(14, -1)\n",
      "[1, 2, 3, 4, 5, 6, 7, 8, 9]\n",
      "3\n"
     ]
    }
   ],
   "source": [
    "for i in range(30):\n",
    "    exec(str((df.iloc[i].values)[0]))"
   ]
  },
  {
   "cell_type": "code",
   "execution_count": 133,
   "metadata": {},
   "outputs": [
    {
     "name": "stdout",
     "output_type": "stream",
     "text": [
      "Help on function sub in module re:\n",
      "\n",
      "sub(pattern, repl, string, count=0, flags=0)\n",
      "    Return the string obtained by replacing the leftmost\n",
      "    non-overlapping occurrences of the pattern in string by the\n",
      "    replacement repl.  repl can be either a string or a callable;\n",
      "    if a string, backslash escapes in it are processed.  If it is\n",
      "    a callable, it's passed the Match object and must return\n",
      "    a replacement string to be used.\n",
      "\n"
     ]
    }
   ],
   "source": [
    "help(re.sub)"
   ]
  },
  {
   "cell_type": "code",
   "execution_count": 26,
   "metadata": {},
   "outputs": [
    {
     "data": {
      "text/plain": [
       "[{'x': 2}]"
      ]
     },
     "execution_count": 26,
     "metadata": {},
     "output_type": "execute_result"
    }
   ],
   "source": [
    "def difference_by(a, b, fn):\n",
    "    b = set(map(fn, b))\n",
    "    return [item for item in a if fn(item) not in b]\n",
    "\n",
    "\n",
    "from math import floor\n",
    "difference_by([2.1, 1.2], [2.3, 3.4],floor) # [1.2]\n",
    "difference_by([{  'x' : 2 }, {  'x' : 1 }], [{  'x' : 1 }], lambda v : v[ 'x' ])\n",
    "# [ { x: 2 } ]"
   ]
  },
  {
   "cell_type": "code",
   "execution_count": 27,
   "metadata": {},
   "outputs": [
    {
     "name": "stdout",
     "output_type": "stream",
     "text": [
      "['def all_unique(lst):\\n    return len(lst) == len(set(lst))\\n\\n\\nx = [1,1,2,2,3,2,3,4,5,6]\\ny = [1,2,3,4,5]\\nprint(all_unique(x)) # False\\nprint(all_unique(y)) # True\\nprint(x,y)']\n"
     ]
    }
   ],
   "source": [
    "lines = df.iloc[0].values\n",
    "print(lines)"
   ]
  },
  {
   "cell_type": "code",
   "execution_count": 28,
   "metadata": {},
   "outputs": [
    {
     "name": "stdout",
     "output_type": "stream",
     "text": [
      "def all_unique(lst):\n",
      "    return len(lst) == len(set(lst))\n",
      "\n",
      "\n",
      "x = [1,1,2,2,3,2,3,4,5,6]\n",
      "y = [1,2,3,4,5]\n",
      "print(all_unique(x)) # False\n",
      "print(all_unique(y)) # True\n",
      "print(x,y)\n"
     ]
    }
   ],
   "source": [
    "print(str(lines[0]))"
   ]
  },
  {
   "cell_type": "code",
   "execution_count": 141,
   "metadata": {},
   "outputs": [
    {
     "data": {
      "text/plain": [
       "([1, 1, 2, 2, 3, 2, 3, 4, 5, 6], [1, 2, 3, 4, 5])"
      ]
     },
     "execution_count": 141,
     "metadata": {},
     "output_type": "execute_result"
    }
   ],
   "source": [
    "x,y"
   ]
  },
  {
   "cell_type": "code",
   "execution_count": 140,
   "metadata": {},
   "outputs": [
    {
     "name": "stdout",
     "output_type": "stream",
     "text": [
      "<code object <module> at 0x000002E0B0EAF390, file \"<string>\", line 1>\n"
     ]
    }
   ],
   "source": [
    "exec_code = compile(str(lines),'<string>', 'exec')\n",
    "print(exec_code)"
   ]
  },
  {
   "cell_type": "code",
   "execution_count": 143,
   "metadata": {},
   "outputs": [
    {
     "name": "stdout",
     "output_type": "stream",
     "text": [
      "['from collections import Counter\\n\\ndef anagram(first, second):\\n    return Counter(first) == Counter(second)\\n\\n\\nanagram(\"abcd3\", \"3acdb\") # True']\n"
     ]
    }
   ],
   "source": [
    "print(df.iloc[1].values)"
   ]
  },
  {
   "cell_type": "code",
   "execution_count": 147,
   "metadata": {},
   "outputs": [],
   "source": [
    "exec('from collections import Counter\\n\\ndef anagram(first, second):\\n    return Counter(first) == Counter(second)\\n\\n\\nanagram(\"abcd3\", \"3acdb\") # True')"
   ]
  },
  {
   "cell_type": "code",
   "execution_count": 148,
   "metadata": {},
   "outputs": [
    {
     "data": {
      "text/plain": [
       "False"
      ]
     },
     "execution_count": 148,
     "metadata": {},
     "output_type": "execute_result"
    }
   ],
   "source": [
    "anagram(\"abcd3\",\"333333333333333333acdb\")"
   ]
  },
  {
   "cell_type": "code",
   "execution_count": 153,
   "metadata": {},
   "outputs": [
    {
     "name": "stdout",
     "output_type": "stream",
     "text": [
      "False\n",
      "True\n",
      "[1, 1, 2, 2, 3, 2, 3, 4, 5, 6] [1, 2, 3, 4, 5]\n"
     ]
    }
   ],
   "source": [
    "exec(str(lines[0]))"
   ]
  },
  {
   "cell_type": "code",
   "execution_count": 161,
   "metadata": {},
   "outputs": [
    {
     "data": {
      "text/plain": [
       "'from collections import Counter\\n\\ndef anagram(first, second):\\n    return Counter(first) == Counter(second)\\n\\n\\nprint(anagram(\"abcd3\", \"3acdb\")) # True'"
      ]
     },
     "execution_count": 161,
     "metadata": {},
     "output_type": "execute_result"
    }
   ],
   "source": [
    "str((df.iloc[1].values)[0])"
   ]
  },
  {
   "cell_type": "code",
   "execution_count": 162,
   "metadata": {},
   "outputs": [
    {
     "name": "stdout",
     "output_type": "stream",
     "text": [
      "True\n"
     ]
    }
   ],
   "source": [
    "exec(str((df.iloc[1].values)[0]))"
   ]
  },
  {
   "cell_type": "code",
   "execution_count": 3,
   "metadata": {},
   "outputs": [
    {
     "name": "stdout",
     "output_type": "stream",
     "text": [
      "['__add__', '__class__', '__contains__', '__delattr__', '__dir__', '__doc__', '__eq__', '__format__', '__ge__', '__getattribute__', '__getitem__', '__getnewargs__', '__gt__', '__hash__', '__init__', '__init_subclass__', '__iter__', '__le__', '__len__', '__lt__', '__mod__', '__mul__', '__ne__', '__new__', '__reduce__', '__reduce_ex__', '__repr__', '__rmod__', '__rmul__', '__setattr__', '__sizeof__', '__str__', '__subclasshook__', 'capitalize', 'casefold', 'center', 'count', 'encode', 'endswith', 'expandtabs', 'find', 'format', 'format_map', 'index', 'isalnum', 'isalpha', 'isascii', 'isdecimal', 'isdigit', 'isidentifier', 'islower', 'isnumeric', 'isprintable', 'isspace', 'istitle', 'isupper', 'join', 'ljust', 'lower', 'lstrip', 'maketrans', 'partition', 'replace', 'rfind', 'rindex', 'rjust', 'rpartition', 'rsplit', 'rstrip', 'split', 'splitlines', 'startswith', 'strip', 'swapcase', 'title', 'translate', 'upper', 'zfill']\n"
     ]
    }
   ],
   "source": [
    "print(dir(str))"
   ]
  },
  {
   "cell_type": "code",
   "execution_count": 5,
   "metadata": {},
   "outputs": [
    {
     "name": "stdout",
     "output_type": "stream",
     "text": [
      "['__call__', '__class__', '__delattr__', '__dir__', '__doc__', '__eq__', '__format__', '__ge__', '__get__', '__getattribute__', '__gt__', '__hash__', '__init__', '__init_subclass__', '__le__', '__lt__', '__name__', '__ne__', '__new__', '__objclass__', '__qualname__', '__reduce__', '__reduce_ex__', '__repr__', '__setattr__', '__sizeof__', '__str__', '__subclasshook__', '__text_signature__']\n"
     ]
    }
   ],
   "source": [
    "print(dir(str.__str__))"
   ]
  },
  {
   "cell_type": "code",
   "execution_count": 11,
   "metadata": {},
   "outputs": [
    {
     "name": "stdout",
     "output_type": "stream",
     "text": [
      "['__call__', '__class__', '__delattr__', '__dir__', '__doc__', '__eq__', '__format__', '__ge__', '__get__', '__getattribute__', '__gt__', '__hash__', '__init__', '__init_subclass__', '__le__', '__lt__', '__name__', '__ne__', '__new__', '__objclass__', '__qualname__', '__reduce__', '__reduce_ex__', '__repr__', '__setattr__', '__sizeof__', '__str__', '__subclasshook__', '__text_signature__']\n"
     ]
    }
   ],
   "source": [
    "print(dir((str.__class__).__call__))"
   ]
  },
  {
   "cell_type": "code",
   "execution_count": 14,
   "metadata": {},
   "outputs": [],
   "source": [
    "import inspect"
   ]
  },
  {
   "cell_type": "code",
   "execution_count": 21,
   "metadata": {},
   "outputs": [
    {
     "name": "stdout",
     "output_type": "stream",
     "text": [
      "Help on wrapper_descriptor:\n",
      "\n",
      "__call__(self, /, *args, **kwargs)\n",
      "    Call self as a function.\n",
      "\n"
     ]
    }
   ],
   "source": [
    "help((str.__class__).__call__)"
   ]
  },
  {
   "cell_type": "markdown",
   "metadata": {},
   "source": [
    "# Naming conventions"
   ]
  },
  {
   "cell_type": "markdown",
   "metadata": {},
   "source": [
    "Besides these rules, there is also a set of naming conventions—rules that are not required\n",
    "but are followed in normal practice. For instance, because names with two leading and\n",
    "trailing underscores (e.g., __name__) generally have special meaning to the Python interpreter, you should avoid this pattern for your own names. Here is a list of the conventions Python follows:\n",
    "\n",
    "• Names that begin with a single underscore (_X) are not imported by a from module\n",
    "import * statement (described in Chapter 22).\n",
    "\n",
    "• Names that have two leading and trailing underscores (__X__) are system-defined\n",
    "names that have special meaning to the interpreter.\n",
    "\n",
    "• Names that begin with two underscores and do not end with two more (__X) are\n",
    "localized (“mangled”) to enclosing classes (see the discussion of pseudoprivate\n",
    "attributes in Chapter 30).\n",
    "\n",
    "• The name that is just a single underscore (_) retains the result of the last expression\n",
    "when working interactively."
   ]
  },
  {
   "cell_type": "markdown",
   "metadata": {},
   "source": [
    "# The Python 3.0 print Function"
   ]
  },
  {
   "cell_type": "code",
   "execution_count": 29,
   "metadata": {},
   "outputs": [
    {
     "name": "stdout",
     "output_type": "stream",
     "text": [
      "spam 99 ['eggs']\n"
     ]
    }
   ],
   "source": [
    "x = 'spam'\n",
    "y = 99\n",
    "z = ['eggs']\n",
    "print(x,y,z)"
   ]
  },
  {
   "cell_type": "code",
   "execution_count": 33,
   "metadata": {},
   "outputs": [
    {
     "name": "stdout",
     "output_type": "stream",
     "text": [
      "spam99['eggs']"
     ]
    }
   ],
   "source": [
    "L = print(x,y,z,sep='',end='')"
   ]
  },
  {
   "cell_type": "code",
   "execution_count": 34,
   "metadata": {},
   "outputs": [
    {
     "name": "stdout",
     "output_type": "stream",
     "text": [
      "None\n"
     ]
    }
   ],
   "source": [
    "print(L)"
   ]
  },
  {
   "cell_type": "code",
   "execution_count": 35,
   "metadata": {},
   "outputs": [
    {
     "name": "stdout",
     "output_type": "stream",
     "text": [
      "spam99['eggs']\n"
     ]
    }
   ],
   "source": [
    "print(x,y,z,sep='')"
   ]
  },
  {
   "cell_type": "code",
   "execution_count": 38,
   "metadata": {},
   "outputs": [
    {
     "name": "stdout",
     "output_type": "stream",
     "text": [
      "spam99['eggs']\n",
      "spam 99 ['eggs']\n",
      "spam 99 ['eggs']spam 99 ['eggs']\n"
     ]
    }
   ],
   "source": [
    "print(x,y,z,sep='');print(x,y,z) # Two prints, same output line\n",
    "print(x,y,z,end='');print(x,y,z)"
   ]
  },
  {
   "cell_type": "code",
   "execution_count": 3,
   "metadata": {},
   "outputs": [
    {
     "name": "stderr",
     "output_type": "stream",
     "text": [
      "0% [##########] 100% | ETA: 00:00:00\n",
      "Total time elapsed: 00:06:46\n"
     ]
    },
    {
     "name": "stdout",
     "output_type": "stream",
     "text": [
      "Title: \n",
      "  Started: 03/08/2020 20:24:03\n",
      "  Finished: 03/08/2020 20:30:50\n",
      "  Total time elapsed: 00:06:46\n",
      "  CPU %: 95.50\n",
      "  Memory %: 3.60\n"
     ]
    }
   ],
   "source": [
    "import pyprind\n",
    "import time\n",
    "import pandas as pd\n",
    "\n",
    "bar = pyprind.ProgBar(10, monitor=True)\n",
    "for i in range(10):\n",
    "    time.sleep(0.01) # your computation here\n",
    "    data = pd.read_excel(\"F:\\Course\\Ad Design Project\\Adanced design Project\\Layout phase\\VeryIMMaterials\\Dist_between_2_ASVs_Reservior_No_shutdown\\Dist_between_2_ASVs_2km_Reservior_No_Shutdown.xlsx\",\n",
    "                         sheet_name='Rupture Data')\n",
    "    bar.update()\n",
    "print(bar)"
   ]
  },
  {
   "cell_type": "code",
   "execution_count": 7,
   "metadata": {},
   "outputs": [
    {
     "name": "stdout",
     "output_type": "stream",
     "text": [
      "x y z...\n"
     ]
    }
   ],
   "source": [
    "print('x','y','z',end='...\\n')"
   ]
  },
  {
   "cell_type": "code",
   "execution_count": 8,
   "metadata": {},
   "outputs": [
    {
     "name": "stdout",
     "output_type": "stream",
     "text": [
      "x...y...z!\n",
      "x...y...z\n"
     ]
    }
   ],
   "source": [
    "print('x','y','z',sep='...',end='!\\n') # Multiple keywords\n",
    "print('x','y','z',end='\\n', sep='...')"
   ]
  },
  {
   "cell_type": "markdown",
   "metadata": {},
   "source": [
    "Here is how the file keyword argument is used—it directs the printed text to an open\n",
    "output file or other compatible object for the duration of the single print (this is really\n",
    "a form of stream redirection, a topic we will revisit later in this section):"
   ]
  },
  {
   "cell_type": "code",
   "execution_count": 10,
   "metadata": {},
   "outputs": [],
   "source": [
    "import requests\n",
    "from bs4 import BeautifulSoup\n",
    "url = 'https://www.cnblogs.com/JYNNO1/p/10525649.html'\n",
    "res = requests.get(url)\n",
    "html_page = res.content\n",
    "soup = BeautifulSoup(html_page, 'html.parser')\n",
    "text = soup.find_all(text=True)\n",
    "\n",
    "output = ''\n",
    "blacklist = [\n",
    "    '[document]',\n",
    "    'noscript',\n",
    "    'header',\n",
    "    'html',\n",
    "    'meta',\n",
    "    'head', \n",
    "    'input',\n",
    "    'script',\n",
    "    # there may be more elements you don't want, such as \"style\", etc.\n",
    "]\n",
    "\n",
    "for t in text:\n",
    "    if t.parent.name not in blacklist:\n",
    "        output += '{} '.format(t)\n",
    "\n",
    "print(output, file=open('data.txt','w',encoding='utf-8'))"
   ]
  },
  {
   "cell_type": "code",
   "execution_count": 11,
   "metadata": {},
   "outputs": [],
   "source": [
    "print('x','y','z',sep='...',file=open('data1.txt','w'))"
   ]
  },
  {
   "cell_type": "code",
   "execution_count": 14,
   "metadata": {},
   "outputs": [
    {
     "name": "stdout",
     "output_type": "stream",
     "text": [
      "x...y...z\n",
      "x...y...z\n",
      "\n"
     ]
    }
   ],
   "source": [
    "print('x','y','z',sep='...'); print(open('data1.txt').read())"
   ]
  },
  {
   "cell_type": "code",
   "execution_count": 16,
   "metadata": {},
   "outputs": [
    {
     "name": "stdout",
     "output_type": "stream",
     "text": [
      "Result: 3.1416, 00042\n"
     ]
    }
   ],
   "source": [
    "text = '%s: %-.4f, %05d' % ('Result',3.14159,42)\n",
    "print(text)"
   ]
  },
  {
   "cell_type": "code",
   "execution_count": 17,
   "metadata": {},
   "outputs": [
    {
     "name": "stdout",
     "output_type": "stream",
     "text": [
      "Result: 3.1416,00042\n"
     ]
    }
   ],
   "source": [
    "print('%s: %-.4f,%05d' % ('Result',3.14159,42))"
   ]
  },
  {
   "cell_type": "code",
   "execution_count": 18,
   "metadata": {},
   "outputs": [
    {
     "name": "stdout",
     "output_type": "stream",
     "text": [
      "hello world\n"
     ]
    }
   ],
   "source": [
    "import sys\n",
    "sys.stdout.write('hello world\\n')"
   ]
  },
  {
   "cell_type": "markdown",
   "metadata": {},
   "source": [
    "This code explicitly calls the write method of sys.stdout—an attribute preset when\n",
    "Python starts up to an open file object connected to the output stream. The print\n",
    "operation hides most of those details, providing a simple tool for simple printing tasks."
   ]
  },
  {
   "cell_type": "code",
   "execution_count": 20,
   "metadata": {},
   "outputs": [],
   "source": [
    "S = \"\"\"Here, we reset sys.stdout to a manually opened file named log.txt, located in the script’s\n",
    "working directory and opened in append mode (so we add to its current content). After\n",
    "the reset, every print operation anywhere in the program will write its text to the end\n",
    "of the file log.txt instead of to the original output stream. The print operations are\n",
    "happy to keep calling sys.stdout’s write method, no matter what sys.stdout happens\n",
    "to refer to. Because there is just one sys module in your process, assigning\n",
    "sys.stdout this way will redirect every print anywhere in your program.\"\"\""
   ]
  },
  {
   "cell_type": "code",
   "execution_count": 21,
   "metadata": {},
   "outputs": [],
   "source": [
    "L = S.split()"
   ]
  },
  {
   "cell_type": "code",
   "execution_count": 24,
   "metadata": {},
   "outputs": [
    {
     "name": "stdout",
     "output_type": "stream",
     "text": [
      "['Here,', 'we', 'reset', 'sys.stdout', 'to', 'a', 'manually', 'opened', 'file', 'named', 'log.txt,', 'located', 'in', 'the', 'script’s', 'working', 'directory', 'and', 'opened', 'in', 'append', 'mode', '(so', 'we', 'add', 'to', 'its', 'current', 'content).', 'After', 'the', 'reset,', 'every', 'print', 'operation', 'anywhere', 'in', 'the', 'program', 'will', 'write', 'its', 'text', 'to', 'the', 'end', 'of', 'the', 'file', 'log.txt', 'instead', 'of', 'to', 'the', 'original', 'output', 'stream.', 'The', 'print', 'operations', 'are', 'happy', 'to', 'keep', 'calling', 'sys.stdout’s', 'write', 'method,', 'no', 'matter', 'what', 'sys.stdout', 'happens', 'to', 'refer', 'to.', 'Because', 'there', 'is', 'just', 'one', 'sys', 'module', 'in', 'your', 'process,', 'assigning', 'sys.stdout', 'this', 'way', 'will', 'redirect', 'every', 'print', 'anywhere', 'in', 'your', 'program.'] "
     ]
    }
   ],
   "source": [
    "print(L, end = ' ')"
   ]
  },
  {
   "cell_type": "markdown",
   "metadata": {},
   "source": [
    "# Manual stream redirection"
   ]
  },
  {
   "cell_type": "code",
   "execution_count": 26,
   "metadata": {},
   "outputs": [
    {
     "name": "stdout",
     "output_type": "stream",
     "text": [
      "x y\n",
      "x y\n"
     ]
    }
   ],
   "source": [
    "print('x','y') # Or, in 2.6: print X, Y\n",
    "import sys\n",
    "sys.stdout.write(str('x')+' '+ str('y') + '\\n')"
   ]
  },
  {
   "cell_type": "code",
   "execution_count": 3,
   "metadata": {},
   "outputs": [],
   "source": [
    "import sys\n",
    "temp = sys.stdout\n",
    "sys.stdout = open('log.txt','a')"
   ]
  },
  {
   "cell_type": "code",
   "execution_count": 2,
   "metadata": {},
   "outputs": [],
   "source": [
    "S1 = \"\"\"In fact, as this chapter’s upcoming sidebar about print and stdout will explain, you\n",
    "can even reset sys.stdout to an object that isn’t a file at all, as long as it has the expected\n",
    "interface: a method named write to receive the printed text string argument. When that\n",
    "object is a class, printed text can be routed and processed arbitrarily per a write method\n",
    "you code yourself\"\"\""
   ]
  },
  {
   "cell_type": "code",
   "execution_count": 4,
   "metadata": {},
   "outputs": [],
   "source": [
    "print(S1.split())"
   ]
  },
  {
   "cell_type": "code",
   "execution_count": 1,
   "metadata": {},
   "outputs": [
    {
     "name": "stdout",
     "output_type": "stream",
     "text": [
      "['In', 'fact,', 'as', 'this', 'chapter’s', 'upcoming', 'sidebar', 'about', 'print', 'and', 'stdout', 'will', 'explain,', 'you', 'can', 'even', 'reset', 'sys.stdout', 'to', 'an', 'object', 'that', 'isn’t', 'a', 'file', 'at', 'all,', 'as', 'long', 'as', 'it', 'has', 'the', 'expected', 'interface:', 'a', 'method', 'named', 'write', 'to', 'receive', 'the', 'printed', 'text', 'string', 'argument.', 'When', 'that', 'object', 'is', 'a', 'class,', 'printed', 'text', 'can', 'be', 'routed', 'and', 'processed', 'arbitrarily', 'per', 'a', 'write', 'method', 'you', 'code', 'yourself']\n",
      "['In', 'fact,', 'as', 'this', 'chapter’s', 'upcoming', 'sidebar', 'about', 'print', 'and', 'stdout', 'will', 'explain,', 'you', 'can', 'even', 'reset', 'sys.stdout', 'to', 'an', 'object', 'that', 'isn’t', 'a', 'file', 'at', 'all,', 'as', 'long', 'as', 'it', 'has', 'the', 'expected', 'interface:', 'a', 'method', 'named', 'write', 'to', 'receive', 'the', 'printed', 'text', 'string', 'argument.', 'When', 'that', 'object', 'is', 'a', 'class,', 'printed', 'text', 'can', 'be', 'routed', 'and', 'processed', 'arbitrarily', 'per', 'a', 'write', 'method', 'you', 'code', 'yourself']\n",
      "['In', 'fact,', 'as', 'this', 'chapter’s', 'upcoming', 'sidebar', 'about', 'print', 'and', 'stdout', 'will', 'explain,', 'you', 'can', 'even', 'reset', 'sys.stdout', 'to', 'an', 'object', 'that', 'isn’t', 'a', 'file', 'at', 'all,', 'as', 'long', 'as', 'it', 'has', 'the', 'expected', 'interface:', 'a', 'method', 'named', 'write', 'to', 'receive', 'the', 'printed', 'text', 'string', 'argument.', 'When', 'that', 'object', 'is', 'a', 'class,', 'printed', 'text', 'can', 'be', 'routed', 'and', 'processed', 'arbitrarily', 'per', 'a', 'write', 'method', 'you', 'code', 'yourself']\n",
      "['In', 'fact,', 'as', 'this', 'chapter’s', 'upcoming', 'sidebar', 'about', 'print', 'and', 'stdout', 'will', 'explain,', 'you', 'can', 'even', 'reset', 'sys.stdout', 'to', 'an', 'object', 'that', 'isn’t', 'a', 'file', 'at', 'all,', 'as', 'long', 'as', 'it', 'has', 'the', 'expected', 'interface:', 'a', 'method', 'named', 'write', 'to', 'receive', 'the', 'printed', 'text', 'string', 'argument.', 'When', 'that', 'object', 'is', 'a', 'class,', 'printed', 'text', 'can', 'be', 'routed', 'and', 'processed', 'arbitrarily', 'per', 'a', 'write', 'method', 'you', 'code', 'yourself']\n",
      "\n"
     ]
    }
   ],
   "source": [
    "print(open('log.txt').read())"
   ]
  },
  {
   "cell_type": "code",
   "execution_count": 19,
   "metadata": {},
   "outputs": [
    {
     "data": {
      "text/plain": [
       "array(['from collections import Counter\\n\\ndef anagram(first, second):\\n    return Counter(first) == Counter(second)\\n\\n\\nprint(anagram(\"abcd3\", \"3acdb\")) # True'],\n",
       "      dtype=object)"
      ]
     },
     "execution_count": 19,
     "metadata": {},
     "output_type": "execute_result"
    }
   ],
   "source": [
    "df.iloc[1].values"
   ]
  },
  {
   "cell_type": "code",
   "execution_count": 3,
   "metadata": {},
   "outputs": [],
   "source": [
    "import sys\n",
    "temp = sys.stdin\n",
    "sys.stdin = open('myfile.txt','a')"
   ]
  },
  {
   "cell_type": "code",
   "execution_count": 4,
   "metadata": {},
   "outputs": [
    {
     "name": "stdout",
     "output_type": "stream",
     "text": [
      "hello world\n"
     ]
    }
   ],
   "source": [
    "print('hello world')"
   ]
  },
  {
   "cell_type": "code",
   "execution_count": 6,
   "metadata": {},
   "outputs": [],
   "source": [
    "myfile = open('log.txt','w+')"
   ]
  },
  {
   "cell_type": "code",
   "execution_count": 7,
   "metadata": {},
   "outputs": [
    {
     "data": {
      "text/plain": [
       "591"
      ]
     },
     "execution_count": 7,
     "metadata": {},
     "output_type": "execute_result"
    }
   ],
   "source": [
    "myfile.write(\"\"\"Let’s work through a simple example that demonstrates file-processing basics. The\n",
    "following code begins by opening a new text file for output, writing two lines (strings\n",
    "terminated with a newline marker, \\n), and closing the file. Later, the example opens\n",
    "the same file again in input mode and reads the lines back one at a time with\n",
    "readline. Notice that the third readline call returns an empty string; this is how Python\n",
    "file methods tell you that you’ve reached the end of the file (empty lines in the file come\n",
    "back as strings containing just a newline character, not as empty strings). \"\"\")"
   ]
  },
  {
   "cell_type": "code",
   "execution_count": 10,
   "metadata": {},
   "outputs": [],
   "source": [
    "myfile.close()"
   ]
  },
  {
   "cell_type": "code",
   "execution_count": 12,
   "metadata": {},
   "outputs": [
    {
     "data": {
      "text/plain": [
       "'Let’s work through a simple example that demonstrates file-processing basics. The\\nfollowing code begins by opening a new text file for output, writing two lines (strings\\nterminated with a newline marker, \\n), and closing the file. Later, the example opens\\nthe same file again in input mode and reads the lines back one at a time with\\nreadline. Notice that the third readline call returns an empty string; this is how Python\\nfile methods tell you that you’ve reached the end of the file (empty lines in the file come\\nback as strings containing just a newline character, not as empty strings). '"
      ]
     },
     "execution_count": 12,
     "metadata": {},
     "output_type": "execute_result"
    }
   ],
   "source": [
    "open('log.txt').read()"
   ]
  },
  {
   "cell_type": "code",
   "execution_count": 21,
   "metadata": {},
   "outputs": [
    {
     "data": {
      "text/plain": [
       "417"
      ]
     },
     "execution_count": 21,
     "metadata": {},
     "output_type": "execute_result"
    }
   ],
   "source": [
    "myfile = open('log.txt','a+')\n",
    "myfile.write(\"\"\"When coded this way, the temporary file object created by open will automatically read\n",
    "and return one line on each loop iteration. This form is usually easiest to code, good\n",
    "on memory use, and may be faster than some other options (depending on many variables, of course). Since we haven’t reached statements or iterators yet, though, you’ll\n",
    "have to wait until Chapter 14 for a more complete explanation of this code.\"\"\")"
   ]
  },
  {
   "cell_type": "code",
   "execution_count": 22,
   "metadata": {},
   "outputs": [
    {
     "data": {
      "text/plain": [
       "[]"
      ]
     },
     "execution_count": 22,
     "metadata": {},
     "output_type": "execute_result"
    }
   ],
   "source": [
    "myfile.flush()\n",
    "myfile.readlines()"
   ]
  },
  {
   "cell_type": "code",
   "execution_count": 20,
   "metadata": {},
   "outputs": [
    {
     "data": {
      "text/plain": [
       "'Let’s work through a simple example that demonstrates file-processing basics. The\\nfollowing code begins by opening a new text file for output, writing two lines (strings\\nterminated with a newline marker, \\n), and closing the file. Later, the example opens\\nthe same file again in input mode and reads the lines back one at a time with\\nreadline. Notice that the third readline call returns an empty string; this is how Python\\nfile methods tell you that you’ve reached the end of the file (empty lines in the file come\\nback as strings containing just a newline character, not as empty strings). When coded this way, the temporary file object created by open will automatically read\\nand return one line on each loop iteration. This form is usually easiest to code, good\\non memory use, and may be faster than some other options (depending on many variables, of course). Since we haven’t reached statements or iterators yet, though, you’ll\\nhave to wait until Chapter 14 for a more complete explanation of this code.When coded this way, the temporary file object created by open will automatically read\\nand return one line on each loop iteration. This form is usually easiest to code, good\\non memory use, and may be faster than some other options (depending on many variables, of course). Since we haven’t reached statements or iterators yet, though, you’ll\\nhave to wait until Chapter 14 for a more complete explanation of this code.'"
      ]
     },
     "execution_count": 20,
     "metadata": {},
     "output_type": "execute_result"
    }
   ],
   "source": [
    "open('log.txt').read()"
   ]
  },
  {
   "cell_type": "code",
   "execution_count": 24,
   "metadata": {},
   "outputs": [
    {
     "name": "stdout",
     "output_type": "stream",
     "text": [
      "C17H14O4S\n",
      "314.4\n",
      "CS(=O)(=O)C1=CC=C(C=C1)C2=C(C(=O)OC2)C3=CC=CC=C3\n"
     ]
    }
   ],
   "source": [
    "import pubchempy as pcp\n",
    "c = pcp.Compound.from_cid(5090)\n",
    "print(c.molecular_formula)\n",
    "print(c.molecular_weight)\n",
    "print(c.isomeric_smiles)"
   ]
  },
  {
   "cell_type": "code",
   "execution_count": 1,
   "metadata": {},
   "outputs": [],
   "source": [
    "import sys\n",
    "def test(x):\n",
    "    if x==0:\n",
    "        print(r'Error--> x: can\\'t be zero', file=sys.stderr)\n",
    "    else:\n",
    "        print(x)"
   ]
  },
  {
   "cell_type": "code",
   "execution_count": 2,
   "metadata": {},
   "outputs": [
    {
     "name": "stdout",
     "output_type": "stream",
     "text": [
      "1\n"
     ]
    },
    {
     "name": "stderr",
     "output_type": "stream",
     "text": [
      "Error--> x: can\\'t be zero\n"
     ]
    },
    {
     "data": {
      "text/plain": [
       "(None, None)"
      ]
     },
     "execution_count": 2,
     "metadata": {},
     "output_type": "execute_result"
    }
   ],
   "source": [
    "test(0), test(1)"
   ]
  },
  {
   "cell_type": "code",
   "execution_count": 3,
   "metadata": {},
   "outputs": [
    {
     "name": "stdout",
     "output_type": "stream",
     "text": [
      "1\n"
     ]
    },
    {
     "name": "stderr",
     "output_type": "stream",
     "text": [
      "Error--> x: can\\'t be zero\n"
     ]
    }
   ],
   "source": [
    "test(0); test(1)"
   ]
  },
  {
   "cell_type": "markdown",
   "metadata": {},
   "source": [
    "Now that you know all about print redirections, the equivalence between printing and\n",
    "file write methods should be fairly obvious. The following interaction prints both ways\n",
    "in 3.0, then redirects the output to an external file to verify that the same text is printed:"
   ]
  },
  {
   "cell_type": "code",
   "execution_count": 4,
   "metadata": {},
   "outputs": [
    {
     "name": "stdout",
     "output_type": "stream",
     "text": [
      "1 2\n",
      "1 2\n"
     ]
    }
   ],
   "source": [
    "X = 1; Y = 2\n",
    "print(X, Y)\n",
    "import sys\n",
    "sys.stdout.write(str(X)+' ' + str(Y) + '\\n')\n",
    "print"
   ]
  },
  {
   "cell_type": "code",
   "execution_count": 6,
   "metadata": {},
   "outputs": [
    {
     "name": "stdout",
     "output_type": "stream",
     "text": [
      "如果是我自己的，我就使劲打\n",
      "\n",
      "真打重了他会哭\n",
      "\n",
      "他又有点可爱\n",
      "\n",
      "喊我侄子回来做作业\n",
      "\n",
      "不是说过了\n",
      "\n",
      "我现在就是讲一件事的心情啊，没什么不开心的\n",
      "\n",
      "所以就不继续啦\n",
      "\n",
      "所以如果你想要未来的妻子也只照顾你的话，保姆就可以啦\n",
      "\n",
      "不想说\n",
      "\n",
      "就见一次面而已，我的脾性你都不清楚\n",
      "\n",
      "你很喜欢我？\n",
      "\n",
      "风格突变啊\n",
      "\n",
      "净净：还没过关呢\n",
      "\n",
      "有个大侄子就够啦\n",
      "\n",
      "看来跟我说话拉低你能力啊\n",
      "\n",
      "又让你大开眼界了\n",
      "\n",
      "你有过几次恋爱\n",
      "\n",
      "没联系了吧\n",
      "\n",
      "空气\n",
      "\n",
      "哪敢打你\n",
      "\n",
      "不然家庭地位不高\n",
      "\n",
      "我不会攒钱啊\n",
      "\n",
      "那怎么办\n",
      "\n",
      "你对自己以后有什么规划吗\n",
      "\n",
      "我也给不了什么好的建议啊\n",
      "\n",
      "海南的经济贸易港重心还没确定下来么\n",
      "\n",
      "你现在就是要在深圳工作，是吗\n",
      "\n",
      "\n"
     ]
    }
   ],
   "source": [
    "f = open('alice.txt', encoding = 'utf-8')\n",
    "while f.readline()!='':\n",
    "    print(f.readline())"
   ]
  },
  {
   "cell_type": "code",
   "execution_count": 8,
   "metadata": {},
   "outputs": [],
   "source": [
    "import os\n",
    "f.close()\n",
    "os.remove('alice.txt')"
   ]
  },
  {
   "cell_type": "markdown",
   "metadata": {},
   "source": [
    "# Version-Neutral Printing"
   ]
  },
  {
   "cell_type": "markdown",
   "metadata": {},
   "source": [
    "Finally, if you cannot restrict your work to Python 3.0 but still want your prints to be\n",
    "compatible with 3.0, you have some options. For one, you can code 2.6 print statements and let 3.0’s 2to3 conversion script translate them to 3.0 function calls automatically. See the Python 3.0 documentation for more details about this script; it\n",
    "attempts to translate 2.X code to run under 3.0."
   ]
  },
  {
   "cell_type": "code",
   "execution_count": 2,
   "metadata": {},
   "outputs": [],
   "source": [
    "from __future__ import print_function"
   ]
  },
  {
   "cell_type": "markdown",
   "metadata": {},
   "source": [
    "C:\\misc> c:\\python30\\python\n",
    "< print('spam') # 3.0 print function call syntax\n",
    "spam\n",
    "\n",
    "< print('spam', 'ham', 'eggs') # These are mutiple argments\n",
    "spam ham eggs\n",
    "\n",
    "The first of these works the same in 2.6, but the second generates a tuple in the output:\n",
    "C:\\misc> c:\\python26\\python\n",
    "\n",
    "< print('spam') # 2.6 print statement, enclosing parens\n",
    "spam\n",
    "\n",
    "< print('spam', 'ham', 'eggs') # This is really a tuple object!\n",
    "('spam', 'ham', 'eggs')"
   ]
  },
  {
   "cell_type": "code",
   "execution_count": 3,
   "metadata": {},
   "outputs": [
    {
     "name": "stdout",
     "output_type": "stream",
     "text": [
      "spam ham eggs \n",
      "spam ham eggs\n"
     ]
    }
   ],
   "source": [
    "print('%s %s %s ' %('spam','ham','eggs'))\n",
    "print('{0} {1} {2}'.format('spam','ham','eggs'))"
   ]
  },
  {
   "cell_type": "code",
   "execution_count": 5,
   "metadata": {},
   "outputs": [
    {
     "data": {
      "image/png": "[encoded data removed]",
      "text/plain": [
       "<Figure size 576x432 with 1 Axes>"
      ]
     },
     "metadata": {
      "needs_background": "light"
     },
     "output_type": "display_data"
    }
   ],
   "source": [
    "import numpy as np\n",
    "import matplotlib.pyplot as plt\n",
    "t = np.arange(0.0, 12*np.pi, 0.01)\n",
    "x = np.sin(t)*(np.e**np.cos(t) - 2*np.cos(4*t)-np.sin(t/12)**5)\n",
    "y = np.cos(t)*(np.e**np.cos(t) - 2*np.cos(4*t)-np.sin(t/12)**5)\n",
    "plt.figure(figsize=(8,6))\n",
    "plt.axis('off')\n",
    "plt.plot(x,y,color='blue',linewidth = '2')\n",
    "plt.show()\n",
    "# plt.savefig(\"butter.jpg\",dpi=400)"
   ]
  },
  {
   "cell_type": "markdown",
   "metadata": {},
   "source": [
    "# Chapter Summary"
   ]
  },
  {
   "cell_type": "markdown",
   "metadata": {},
   "source": [
    "In this chapter, we began our in-depth look at Python statements by exploring assignments, expressions, and print operations. Although these are generally simple to use,\n",
    "they have some alternative forms that, while optional, are often convenient in practice:\n",
    "augmented assignment statements and the redirection form of print operations, for\n",
    "example, allow us to avoid some manual coding work. Along the way, we also studied\n",
    "the syntax of variable names, stream redirection techniques, and a variety of common\n",
    "mistakes to avoid, such as assigning the result of an append method call back to a\n",
    "variable.\n",
    "In the next chapter, we’ll continue our statement tour by filling in details about the\n",
    "if statement, Python’s main selection tool; there, we’ll also revisit Python’s syntax\n",
    "model in more depth and look at the behavior of Boolean expressions. Before we move\n",
    "on, though, the end-of-chapter quiz will test your knowledge of what you’ve learned\n",
    "here."
   ]
  },
  {
   "cell_type": "code",
   "execution_count": null,
   "metadata": {},
   "outputs": [],
   "source": []
  }
 ],
 "metadata": {
  "kernelspec": {
   "display_name": "Python 3",
   "language": "python",
   "name": "python3"
  },
  "language_info": {
   "codemirror_mode": {
    "name": "ipython",
    "version": 3
   },
   "file_extension": ".py",
   "mimetype": "text/x-python",
   "name": "python",
   "nbconvert_exporter": "python",
   "pygments_lexer": "ipython3",
   "version": "3.7.4"
  }
 },
 "nbformat": 4,
 "nbformat_minor": 4
}
