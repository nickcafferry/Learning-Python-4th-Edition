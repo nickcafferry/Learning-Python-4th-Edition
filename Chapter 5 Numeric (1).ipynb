{
 "cells": [
  {
   "cell_type": "markdown",
   "metadata": {},
   "source": [
    "# Basic numeric literals"
   ]
  },
  {
   "cell_type": "markdown",
   "metadata": {},
   "source": [
    "Literal....................................Interpretation"
   ]
  },
  {
   "cell_type": "code",
   "execution_count": 1,
   "metadata": {},
   "outputs": [
    {
     "data": {
      "text/plain": [
       "(1234, -24, 0, 99999999999999999999)"
      ]
     },
     "execution_count": 1,
     "metadata": {},
     "output_type": "execute_result"
    }
   ],
   "source": [
    "1234,-24,0,99999999999999999999    # Integers (unlimited size)"
   ]
  },
  {
   "cell_type": "code",
   "execution_count": 2,
   "metadata": {},
   "outputs": [
    {
     "data": {
      "text/plain": [
       "(1.23, 1.0, 3.14e-10, 4e+210, 4e+210)"
      ]
     },
     "execution_count": 2,
     "metadata": {},
     "output_type": "execute_result"
    }
   ],
   "source": [
    "1.23,1.,3.14e-10,4E210,4.0e+210  # Floating-point numbers"
   ]
  },
  {
   "cell_type": "code",
   "execution_count": 3,
   "metadata": {},
   "outputs": [
    {
     "data": {
      "text/plain": [
       "(127, 2559, 42)"
      ]
     },
     "execution_count": 3,
     "metadata": {},
     "output_type": "execute_result"
    }
   ],
   "source": [
    "0o177,0x9ff,0b101010            # Octal,hex,and binary literasl in 2.6"
   ]
  },
  {
   "cell_type": "code",
   "execution_count": 4,
   "metadata": {},
   "outputs": [
    {
     "data": {
      "text/plain": [
       "((3+4j), (3+4j), 3j)"
      ]
     },
     "execution_count": 4,
     "metadata": {},
     "output_type": "execute_result"
    }
   ],
   "source": [
    "3+4j,3.0+4.0j,3J        # Complex number literals"
   ]
  },
  {
   "cell_type": "code",
   "execution_count": 5,
   "metadata": {},
   "outputs": [
    {
     "name": "stdout",
     "output_type": "stream",
     "text": [
      "3.14e-10\n"
     ]
    }
   ],
   "source": [
    "print(3.14e-10)"
   ]
  },
  {
   "cell_type": "markdown",
   "metadata": {},
   "source": [
    "# Hexadecimal,octal and binary literals"
   ]
  },
  {
   "cell_type": "markdown",
   "metadata": {},
   "source": [
    "Hexadecimals start with a leading 0X or OX, followed by a string of hexadecimal digits (0-9 and A-F).Hex digits may be coded in lower-or upper-case. Octal literals start with a leading 0o or 0o (zero and lower- or uppercase letter \"o\"), followed by a string of digits (0-7).In 2.6 and earlier,octal literals can also be coded with just a leading 0, but not in 3.0 (this original octal form is too easily confused with decimal, and is replaced by the new 0o format). Binary literals, new in 2.6 and 3.0, begin with a leading 0b or 0B,followed by binary digits (0-1)."
   ]
  },
  {
   "cell_type": "code",
   "execution_count": 6,
   "metadata": {},
   "outputs": [
    {
     "data": {
      "text/plain": [
       "('0o177', '0x9ff', '0b101010', 127)"
      ]
     },
     "execution_count": 6,
     "metadata": {},
     "output_type": "execute_result"
    }
   ],
   "source": [
    "oct(127),hex(2559),bin(42),int('127',10)"
   ]
  },
  {
   "cell_type": "code",
   "execution_count": 7,
   "metadata": {},
   "outputs": [
    {
     "data": {
      "text/plain": [
       "(1, 7, 7, 87, 64, 127)"
      ]
     },
     "execution_count": 7,
     "metadata": {},
     "output_type": "execute_result"
    }
   ],
   "source": [
    "0o1,0o07,0o007,0o127,0o100,7+7*8+1*8**2"
   ]
  },
  {
   "cell_type": "code",
   "execution_count": 8,
   "metadata": {},
   "outputs": [
    {
     "data": {
      "text/plain": [
       "(15, 240, 3840, 16.0, 16.0)"
      ]
     },
     "execution_count": 8,
     "metadata": {},
     "output_type": "execute_result"
    }
   ],
   "source": [
    "0xf,0xf0,0xf00,240/15,3840/240"
   ]
  },
  {
   "cell_type": "code",
   "execution_count": 9,
   "metadata": {},
   "outputs": [
    {
     "data": {
      "text/plain": [
       "(0, 1, 2, 3, 4, 5, 6, 7, 8, 9, 10, 11, Ellipsis, 15)"
      ]
     },
     "execution_count": 9,
     "metadata": {},
     "output_type": "execute_result"
    }
   ],
   "source": [
    "0x0,0x1,0x2,0x3,0x4,0x5,0x6,0x7,0x8,0x9,0xA,0xB,...,0xf"
   ]
  },
  {
   "cell_type": "markdown",
   "metadata": {},
   "source": [
    "what's Sheldon's favorite number?"
   ]
  },
  {
   "cell_type": "code",
   "execution_count": 10,
   "metadata": {},
   "outputs": [
    {
     "name": "stdout",
     "output_type": "stream",
     "text": [
      "Please input a number: 23\n"
     ]
    }
   ],
   "source": [
    "check = int(input(\"Please input a number: \"))"
   ]
  },
  {
   "cell_type": "code",
   "execution_count": 11,
   "metadata": {},
   "outputs": [
    {
     "name": "stdout",
     "output_type": "stream",
     "text": [
      "This is prime number.\n"
     ]
    }
   ],
   "source": [
    "def prime(check):\n",
    "    for i in range(2, check):\n",
    "        if check % i == 0:\n",
    "            return False\n",
    "        else:\n",
    "            return True\n",
    "if prime(check):\n",
    "    print(\"This is prime number.\")\n",
    "else:\n",
    "    print(\"This is not prime number.\")"
   ]
  },
  {
   "cell_type": "code",
   "execution_count": 12,
   "metadata": {},
   "outputs": [],
   "source": [
    "def prime(x):\n",
    "    for i in range(2,x):\n",
    "        if x%i==0:\n",
    "            return False\n",
    "        if i==x-1:\n",
    "            return True"
   ]
  },
  {
   "cell_type": "code",
   "execution_count": 35,
   "metadata": {},
   "outputs": [],
   "source": [
    "output = filter(prime,range(2,100001))"
   ]
  },
  {
   "cell_type": "code",
   "execution_count": null,
   "metadata": {},
   "outputs": [],
   "source": [
    "print(list(output))"
   ]
  },
  {
   "cell_type": "markdown",
   "metadata": {},
   "source": [
    "Python expression operators and precedence\n",
    "\n",
    "Operators.................................Description\n",
    "yield x-----------------------------------Generator function send protocol;\n",
    "\n",
    "lambda args: expression-------------------Anonymous function generation;\n",
    "\n",
    "x if y else z-----------------------------Ternary selection (x is evaluted only if y is true)\n",
    "\n",
    "x or y------------------------------------Logical OR (y is evaluated only if x is false)\n",
    "\n",
    "x and y-----------------------------------Logical AND (y is evaluated only if x is true)\n",
    "\n",
    "not x-------------------------------------Logical negation\n",
    "\n",
    "x in y, x not in y------------------------Membership (iterables, sets)\n",
    "\n",
    "x is y, x is not y------------------------Object identity tests\n",
    "\n",
    "x < y, x <= y, x > y, x > = y, x==y, x!=y---------Magnitude comparison, set subset and superset; value equality operators\n",
    "\n",
    "x | y ------------------------------------Bitwise OR, set union\n",
    "\n",
    "x ^ y ------------------------------------Bitwise XOR, set symmetric difference\n",
    "\n",
    "x & y -------------------------------------Bitwise AND,set intersection\n",
    "\n",
    "x <<y, x>>y--------------------------------Shift x left or right by y bits\n",
    "\n",
    "x + y, x-y ---------------------------------Addition,concatenation; Subtraction,set difference\n",
    "\n",
    "x * y, x % y, x/y, x//y---------------------Multiplication, repetition; Remainder,format; Division: true and floor\n",
    "\n",
    "-x,+x --------------------------------------Negation,identity\n",
    "\n",
    "-x  ----------------------------------------Bitwise NOT (inversion)\n",
    "\n",
    "x * * y ------------------------------------Power (exponentatiation)\n",
    "\n",
    "x[i]  --------------------------------------Indexing (sequence,mapping,others)\n",
    "\n",
    "x[i:j:k] ------------------------------------Slicing\n",
    "\n",
    "x(...) --------------------------------------Call(function,method,class,other callable)\n",
    "\n",
    "x.attr ------------------------------------ Attribute reference\n",
    "\n",
    "(...)  ------------------------------------ Tuple,expression,generator experession\n",
    "\n",
    "[...] ------------------------------------- List, list comprehension\n",
    "\n",
    "{...} ------------------------------------- Dictionary,set,set and dictionary comprehensions"
   ]
  },
  {
   "cell_type": "code",
   "execution_count": 15,
   "metadata": {},
   "outputs": [
    {
     "data": {
      "text/plain": [
       "'0b1001001'"
      ]
     },
     "execution_count": 15,
     "metadata": {},
     "output_type": "execute_result"
    }
   ],
   "source": [
    "bin(73)"
   ]
  },
  {
   "cell_type": "code",
   "execution_count": 16,
   "metadata": {},
   "outputs": [
    {
     "name": "stdout",
     "output_type": "stream",
     "text": [
      "1\n",
      "1\n",
      "2\n",
      "3\n",
      "5\n",
      "8\n"
     ]
    }
   ],
   "source": [
    "def fib(x):\n",
    "    yield 1\n",
    "    a,b = 1,1\n",
    "    while x:\n",
    "        a,b = b,a+b\n",
    "        yield a\n",
    "        x=x-1         \n",
    "for i in fib(5):\n",
    "    print(i)"
   ]
  },
  {
   "cell_type": "markdown",
   "metadata": {},
   "source": []
  },
  {
   "cell_type": "code",
   "execution_count": 17,
   "metadata": {},
   "outputs": [],
   "source": [
    "from sympy import *"
   ]
  },
  {
   "cell_type": "code",
   "execution_count": 18,
   "metadata": {},
   "outputs": [],
   "source": [
    "X = symbols('X')\n",
    "Y = symbols('Y')\n",
    "Z = symbols('Z')"
   ]
  },
  {
   "cell_type": "code",
   "execution_count": 19,
   "metadata": {},
   "outputs": [
    {
     "data": {
      "text/plain": [
       "(Z*(X + Y), X + Y*Z, X + Y*Z)"
      ]
     },
     "execution_count": 19,
     "metadata": {},
     "output_type": "execute_result"
    }
   ],
   "source": [
    "(X+Y)*Z, X +(Y*Z),X+Y*Z"
   ]
  },
  {
   "cell_type": "code",
   "execution_count": 20,
   "metadata": {},
   "outputs": [
    {
     "data": {
      "text/plain": [
       "(False, True, True)"
      ]
     },
     "execution_count": 20,
     "metadata": {},
     "output_type": "execute_result"
    }
   ],
   "source": [
    "(X+Y)*Z == X*Z+Y*Z, X+(Y*Z)==X+Y*Z,(3+4)*5 == 3*5+4*5"
   ]
  },
  {
   "cell_type": "markdown",
   "metadata": {},
   "source": [
    "Double equals signs (==) are used to test equality. However, this tests expressions exactly, not symbolically. For example:"
   ]
  },
  {
   "cell_type": "code",
   "execution_count": 21,
   "metadata": {},
   "outputs": [],
   "source": [
    "x = symbols('x')\n",
    "y = symbols('y')\n",
    "z = symbols('z')"
   ]
  },
  {
   "cell_type": "code",
   "execution_count": 24,
   "metadata": {},
   "outputs": [
    {
     "data": {
      "text/plain": [
       "(False, True)"
      ]
     },
     "execution_count": 24,
     "metadata": {},
     "output_type": "execute_result"
    }
   ],
   "source": [
    "(x+1)**2 == x**2 + 2*x + 1, (x+1)**2 == (x+1)**2"
   ]
  },
  {
   "cell_type": "markdown",
   "metadata": {},
   "source": [
    "If you want to test for symbolic equality, one way is to subtract one expression from the other and run it through functions like expand(), simplify(), and trigsimp() and see if the equation reduces to 0."
   ]
  },
  {
   "cell_type": "code",
   "execution_count": 25,
   "metadata": {},
   "outputs": [],
   "source": [
    "from sympy import simplify,expand,trigsimp"
   ]
  },
  {
   "cell_type": "code",
   "execution_count": 27,
   "metadata": {},
   "outputs": [
    {
     "data": {
      "text/latex": [
       "$\\displaystyle 0$"
      ],
      "text/plain": [
       "0"
      ]
     },
     "execution_count": 27,
     "metadata": {},
     "output_type": "execute_result"
    }
   ],
   "source": [
    "simplify((x+1)**2-(x**2 + 2*x + 1))"
   ]
  },
  {
   "cell_type": "code",
   "execution_count": 28,
   "metadata": {},
   "outputs": [],
   "source": [
    "eq = (x+1)**2-(x**2 + 2*x + 1)"
   ]
  },
  {
   "cell_type": "code",
   "execution_count": 31,
   "metadata": {},
   "outputs": [
    {
     "data": {
      "text/plain": [
       "(0, 0)"
      ]
     },
     "execution_count": 31,
     "metadata": {},
     "output_type": "execute_result"
    }
   ],
   "source": [
    "simplify(eq),expand(eq,trig=True)"
   ]
  },
  {
   "cell_type": "code",
   "execution_count": 33,
   "metadata": {},
   "outputs": [
    {
     "data": {
      "text/plain": [
       "True"
      ]
     },
     "execution_count": 33,
     "metadata": {},
     "output_type": "execute_result"
    }
   ],
   "source": [
    "expand((x+1)**2) == x**2 + 2*x + 1"
   ]
  },
  {
   "cell_type": "code",
   "execution_count": 34,
   "metadata": {},
   "outputs": [
    {
     "data": {
      "text/latex": [
       "$\\displaystyle x^{16} + 16 x^{15} + 120 x^{14} + 560 x^{13} + 1820 x^{12} + 4368 x^{11} + 8008 x^{10} + 11440 x^{9} + 12870 x^{8} + 11440 x^{7} + 8008 x^{6} + 4368 x^{5} + 1820 x^{4} + 560 x^{3} + 120 x^{2} + 16 x + 1$"
      ],
      "text/plain": [
       "x**16 + 16*x**15 + 120*x**14 + 560*x**13 + 1820*x**12 + 4368*x**11 + 8008*x**10 + 11440*x**9 + 12870*x**8 + 11440*x**7 + 8008*x**6 + 4368*x**5 + 1820*x**4 + 560*x**3 + 120*x**2 + 16*x + 1"
      ]
     },
     "execution_count": 34,
     "metadata": {},
     "output_type": "execute_result"
    }
   ],
   "source": [
    "expand((x+1)**16)"
   ]
  },
  {
   "cell_type": "markdown",
   "metadata": {},
   "source": [
    "# Mixed operators follow operator precedence"
   ]
  },
  {
   "cell_type": "code",
   "execution_count": null,
   "metadata": {},
   "outputs": [],
   "source": [
    "A = symbols('A'),B = symbols('B'), C = symbols('C'), D = symbols('D')"
   ]
  },
  {
   "cell_type": "markdown",
   "metadata": {},
   "source": [
    "When dealing with mixed operators, Python follows what are called precedence rules. The table above is ordered by operator precedence: \n",
    "* Operators lower in the table have higher precedence, and so bind more tightly in mixed expressions.\n",
    "* Operators in the same row in the table above generally group from left to right when combined."
   ]
  }
 ],
 "metadata": {
  "kernelspec": {
   "display_name": "Python 3",
   "language": "python",
   "name": "python3"
  },
  "language_info": {
   "codemirror_mode": {
    "name": "ipython",
    "version": 3
   },
   "file_extension": ".py",
   "mimetype": "text/x-python",
   "name": "python",
   "nbconvert_exporter": "python",
   "pygments_lexer": "ipython3",
   "version": "3.6.7"
  }
 },
 "nbformat": 4,
 "nbformat_minor": 2
}
